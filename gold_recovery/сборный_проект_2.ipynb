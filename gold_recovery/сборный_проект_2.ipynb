{
 "cells": [
  {
   "cell_type": "markdown",
   "metadata": {
    "toc": true
   },
   "source": [
    "<h1>Содержание<span class=\"tocSkip\"></span></h1>\n",
    "<div class=\"toc\"><ul class=\"toc-item\"><li><span><a href=\"#Подготовка-данных\" data-toc-modified-id=\"Подготовка-данных-1\"><span class=\"toc-item-num\">1&nbsp;&nbsp;</span>Подготовка данных</a></span><ul class=\"toc-item\"><li><span><a href=\"#Обзор-данных\" data-toc-modified-id=\"Обзор-данных-1.1\"><span class=\"toc-item-num\">1.1&nbsp;&nbsp;</span>Обзор данных</a></span></li><li><span><a href=\"#Проверка-корректности-расчета-эффективности-обогащения\" data-toc-modified-id=\"Проверка-корректности-расчета-эффективности-обогащения-1.2\"><span class=\"toc-item-num\">1.2&nbsp;&nbsp;</span>Проверка корректности расчета эффективности обогащения</a></span></li><li><span><a href=\"#Анализ-признаков,-недоступных-в-тестовой-выборке\" data-toc-modified-id=\"Анализ-признаков,-недоступных-в-тестовой-выборке-1.3\"><span class=\"toc-item-num\">1.3&nbsp;&nbsp;</span>Анализ признаков, недоступных в тестовой выборке</a></span></li><li><span><a href=\"#Предобработка-данных\" data-toc-modified-id=\"Предобработка-данных-1.4\"><span class=\"toc-item-num\">1.4&nbsp;&nbsp;</span>Предобработка данных</a></span></li></ul></li><li><span><a href=\"#Анализ-данных\" data-toc-modified-id=\"Анализ-данных-2\"><span class=\"toc-item-num\">2&nbsp;&nbsp;</span>Анализ данных</a></span><ul class=\"toc-item\"><li><span><a href=\"#Исследование-изменения-концентрации-металлов-на-разных-стадиях-очистки\" data-toc-modified-id=\"Исследование-изменения-концентрации-металлов-на-разных-стадиях-очистки-2.1\"><span class=\"toc-item-num\">2.1&nbsp;&nbsp;</span>Исследование изменения концентрации металлов на разных стадиях очистки</a></span></li><li><span><a href=\"#Исследование-распределения-размеров-гранул-сырья\" data-toc-modified-id=\"Исследование-распределения-размеров-гранул-сырья-2.2\"><span class=\"toc-item-num\">2.2&nbsp;&nbsp;</span>Исследование распределения размеров гранул сырья</a></span></li><li><span><a href=\"#Исследование-суммарной-концентрации-всех-веществ-на-разных-стадиях\" data-toc-modified-id=\"Исследование-суммарной-концентрации-всех-веществ-на-разных-стадиях-2.3\"><span class=\"toc-item-num\">2.3&nbsp;&nbsp;</span>Исследование суммарной концентрации всех веществ на разных стадиях</a></span></li></ul></li><li><span><a href=\"#Модель\" data-toc-modified-id=\"Модель-3\"><span class=\"toc-item-num\">3&nbsp;&nbsp;</span>Модель</a></span><ul class=\"toc-item\"><li><span><a href=\"#Функция-для-вычисления-sMAPE\" data-toc-modified-id=\"Функция-для-вычисления-sMAPE-3.1\"><span class=\"toc-item-num\">3.1&nbsp;&nbsp;</span>Функция для вычисления sMAPE</a></span></li><li><span><a href=\"#Обучение-моделей\" data-toc-modified-id=\"Обучение-моделей-3.2\"><span class=\"toc-item-num\">3.2&nbsp;&nbsp;</span>Обучение моделей</a></span></li><li><span><a href=\"#Проверка-наилучшей-модели-на-тестовой-выборке\" data-toc-modified-id=\"Проверка-наилучшей-модели-на-тестовой-выборке-3.3\"><span class=\"toc-item-num\">3.3&nbsp;&nbsp;</span>Проверка наилучшей модели на тестовой выборке</a></span></li><li><span><a href=\"#Проверка-модели-на-адекватность\" data-toc-modified-id=\"Проверка-модели-на-адекватность-3.4\"><span class=\"toc-item-num\">3.4&nbsp;&nbsp;</span>Проверка модели на адекватность</a></span></li></ul></li><li><span><a href=\"#Чек-лист-готовности-проекта\" data-toc-modified-id=\"Чек-лист-готовности-проекта-4\"><span class=\"toc-item-num\">4&nbsp;&nbsp;</span>Чек-лист готовности проекта</a></span></li></ul></div>"
   ]
  },
  {
   "cell_type": "markdown",
   "metadata": {},
   "source": [
    "# Восстановление золота из руды"
   ]
  },
  {
   "cell_type": "markdown",
   "metadata": {},
   "source": [
    "Подготовьте прототип модели машинного обучения для «Цифры». Компания разрабатывает решения для эффективной работы промышленных предприятий.\n",
    "\n",
    "Модель должна предсказать коэффициент восстановления золота из золотосодержащей руды. Используйте данные с параметрами добычи и очистки. \n",
    "\n",
    "Модель поможет оптимизировать производство, чтобы не запускать предприятие с убыточными характеристиками.\n",
    "\n",
    "Вам нужно:\n",
    "\n",
    "1. Подготовить данные;\n",
    "2. Провести исследовательский анализ данных;\n",
    "3. Построить и обучить модель.\n",
    "\n",
    "Чтобы выполнить проект, обращайтесь к библиотекам *pandas*, *matplotlib* и *sklearn.* Вам поможет их документация."
   ]
  },
  {
   "cell_type": "markdown",
   "metadata": {},
   "source": [
    "## Подготовка данных"
   ]
  },
  {
   "cell_type": "markdown",
   "metadata": {},
   "source": [
    "### Обзор данных"
   ]
  },
  {
   "cell_type": "markdown",
   "metadata": {},
   "source": [
    "Импортируем необходимые для выполнения проекта библиотеки и функции:"
   ]
  },
  {
   "cell_type": "code",
   "execution_count": 1,
   "metadata": {},
   "outputs": [],
   "source": [
    "import pandas as pd\n",
    "import numpy as np\n",
    "import scipy.stats as st\n",
    "import matplotlib.pyplot as plt \n",
    "import seaborn as sns\n",
    "\n",
    "from collections import defaultdict\n",
    "from sklearn.preprocessing import StandardScaler \n",
    "from sklearn.linear_model import LinearRegression\n",
    "from sklearn.model_selection import train_test_split\n",
    "from sklearn.ensemble import RandomForestRegressor\n",
    "from sklearn.tree import DecisionTreeRegressor\n",
    "from sklearn.metrics import mean_absolute_error\n",
    "from sklearn.metrics import make_scorer\n",
    "from sklearn.model_selection import cross_val_score\n",
    "from sklearn.dummy import DummyRegressor"
   ]
  },
  {
   "cell_type": "markdown",
   "metadata": {},
   "source": [
    "Загрузим датасеты:"
   ]
  },
  {
   "cell_type": "code",
   "execution_count": 2,
   "metadata": {},
   "outputs": [],
   "source": [
    "df_train = pd.read_csv('/datasets/gold_recovery_train_new.csv')\n",
    "df_test = pd.read_csv('/datasets/gold_recovery_test_new.csv')\n",
    "df_full = pd.read_csv('/datasets/gold_recovery_full_new.csv')"
   ]
  },
  {
   "cell_type": "markdown",
   "metadata": {},
   "source": [
    "Теперь последовательно посмотрим на каждый из них. Вызовем функцию:"
   ]
  },
  {
   "cell_type": "code",
   "execution_count": 3,
   "metadata": {},
   "outputs": [],
   "source": [
    "def explanations(df):\n",
    "    display(df.head())\n",
    "    print('Всего пропусков:', df.isna().mean().mean())\n",
    "    print('Всего дубликатов:', df.duplicated().sum())\n",
    "    display(df.describe())\n",
    "    df.info()"
   ]
  },
  {
   "cell_type": "code",
   "execution_count": 4,
   "metadata": {},
   "outputs": [
    {
     "data": {
      "text/html": [
       "<div>\n",
       "<style scoped>\n",
       "    .dataframe tbody tr th:only-of-type {\n",
       "        vertical-align: middle;\n",
       "    }\n",
       "\n",
       "    .dataframe tbody tr th {\n",
       "        vertical-align: top;\n",
       "    }\n",
       "\n",
       "    .dataframe thead th {\n",
       "        text-align: right;\n",
       "    }\n",
       "</style>\n",
       "<table border=\"1\" class=\"dataframe\">\n",
       "  <thead>\n",
       "    <tr style=\"text-align: right;\">\n",
       "      <th></th>\n",
       "      <th>date</th>\n",
       "      <th>final.output.concentrate_ag</th>\n",
       "      <th>final.output.concentrate_pb</th>\n",
       "      <th>final.output.concentrate_sol</th>\n",
       "      <th>final.output.concentrate_au</th>\n",
       "      <th>final.output.recovery</th>\n",
       "      <th>final.output.tail_ag</th>\n",
       "      <th>final.output.tail_pb</th>\n",
       "      <th>final.output.tail_sol</th>\n",
       "      <th>final.output.tail_au</th>\n",
       "      <th>...</th>\n",
       "      <th>secondary_cleaner.state.floatbank4_a_air</th>\n",
       "      <th>secondary_cleaner.state.floatbank4_a_level</th>\n",
       "      <th>secondary_cleaner.state.floatbank4_b_air</th>\n",
       "      <th>secondary_cleaner.state.floatbank4_b_level</th>\n",
       "      <th>secondary_cleaner.state.floatbank5_a_air</th>\n",
       "      <th>secondary_cleaner.state.floatbank5_a_level</th>\n",
       "      <th>secondary_cleaner.state.floatbank5_b_air</th>\n",
       "      <th>secondary_cleaner.state.floatbank5_b_level</th>\n",
       "      <th>secondary_cleaner.state.floatbank6_a_air</th>\n",
       "      <th>secondary_cleaner.state.floatbank6_a_level</th>\n",
       "    </tr>\n",
       "  </thead>\n",
       "  <tbody>\n",
       "    <tr>\n",
       "      <td>0</td>\n",
       "      <td>2016-01-15 00:00:00</td>\n",
       "      <td>6.055403</td>\n",
       "      <td>9.889648</td>\n",
       "      <td>5.507324</td>\n",
       "      <td>42.192020</td>\n",
       "      <td>70.541216</td>\n",
       "      <td>10.411962</td>\n",
       "      <td>0.895447</td>\n",
       "      <td>16.904297</td>\n",
       "      <td>2.143149</td>\n",
       "      <td>...</td>\n",
       "      <td>14.016835</td>\n",
       "      <td>-502.488007</td>\n",
       "      <td>12.099931</td>\n",
       "      <td>-504.715942</td>\n",
       "      <td>9.925633</td>\n",
       "      <td>-498.310211</td>\n",
       "      <td>8.079666</td>\n",
       "      <td>-500.470978</td>\n",
       "      <td>14.151341</td>\n",
       "      <td>-605.841980</td>\n",
       "    </tr>\n",
       "    <tr>\n",
       "      <td>1</td>\n",
       "      <td>2016-01-15 01:00:00</td>\n",
       "      <td>6.029369</td>\n",
       "      <td>9.968944</td>\n",
       "      <td>5.257781</td>\n",
       "      <td>42.701629</td>\n",
       "      <td>69.266198</td>\n",
       "      <td>10.462676</td>\n",
       "      <td>0.927452</td>\n",
       "      <td>16.634514</td>\n",
       "      <td>2.224930</td>\n",
       "      <td>...</td>\n",
       "      <td>13.992281</td>\n",
       "      <td>-505.503262</td>\n",
       "      <td>11.950531</td>\n",
       "      <td>-501.331529</td>\n",
       "      <td>10.039245</td>\n",
       "      <td>-500.169983</td>\n",
       "      <td>7.984757</td>\n",
       "      <td>-500.582168</td>\n",
       "      <td>13.998353</td>\n",
       "      <td>-599.787184</td>\n",
       "    </tr>\n",
       "    <tr>\n",
       "      <td>2</td>\n",
       "      <td>2016-01-15 02:00:00</td>\n",
       "      <td>6.055926</td>\n",
       "      <td>10.213995</td>\n",
       "      <td>5.383759</td>\n",
       "      <td>42.657501</td>\n",
       "      <td>68.116445</td>\n",
       "      <td>10.507046</td>\n",
       "      <td>0.953716</td>\n",
       "      <td>16.208849</td>\n",
       "      <td>2.257889</td>\n",
       "      <td>...</td>\n",
       "      <td>14.015015</td>\n",
       "      <td>-502.520901</td>\n",
       "      <td>11.912783</td>\n",
       "      <td>-501.133383</td>\n",
       "      <td>10.070913</td>\n",
       "      <td>-500.129135</td>\n",
       "      <td>8.013877</td>\n",
       "      <td>-500.517572</td>\n",
       "      <td>14.028663</td>\n",
       "      <td>-601.427363</td>\n",
       "    </tr>\n",
       "    <tr>\n",
       "      <td>3</td>\n",
       "      <td>2016-01-15 03:00:00</td>\n",
       "      <td>6.047977</td>\n",
       "      <td>9.977019</td>\n",
       "      <td>4.858634</td>\n",
       "      <td>42.689819</td>\n",
       "      <td>68.347543</td>\n",
       "      <td>10.422762</td>\n",
       "      <td>0.883763</td>\n",
       "      <td>16.532835</td>\n",
       "      <td>2.146849</td>\n",
       "      <td>...</td>\n",
       "      <td>14.036510</td>\n",
       "      <td>-500.857308</td>\n",
       "      <td>11.999550</td>\n",
       "      <td>-501.193686</td>\n",
       "      <td>9.970366</td>\n",
       "      <td>-499.201640</td>\n",
       "      <td>7.977324</td>\n",
       "      <td>-500.255908</td>\n",
       "      <td>14.005551</td>\n",
       "      <td>-599.996129</td>\n",
       "    </tr>\n",
       "    <tr>\n",
       "      <td>4</td>\n",
       "      <td>2016-01-15 04:00:00</td>\n",
       "      <td>6.148599</td>\n",
       "      <td>10.142511</td>\n",
       "      <td>4.939416</td>\n",
       "      <td>42.774141</td>\n",
       "      <td>66.927016</td>\n",
       "      <td>10.360302</td>\n",
       "      <td>0.792826</td>\n",
       "      <td>16.525686</td>\n",
       "      <td>2.055292</td>\n",
       "      <td>...</td>\n",
       "      <td>14.027298</td>\n",
       "      <td>-499.838632</td>\n",
       "      <td>11.953070</td>\n",
       "      <td>-501.053894</td>\n",
       "      <td>9.925709</td>\n",
       "      <td>-501.686727</td>\n",
       "      <td>7.894242</td>\n",
       "      <td>-500.356035</td>\n",
       "      <td>13.996647</td>\n",
       "      <td>-601.496691</td>\n",
       "    </tr>\n",
       "  </tbody>\n",
       "</table>\n",
       "<p>5 rows × 87 columns</p>\n",
       "</div>"
      ],
      "text/plain": [
       "                  date  final.output.concentrate_ag  \\\n",
       "0  2016-01-15 00:00:00                     6.055403   \n",
       "1  2016-01-15 01:00:00                     6.029369   \n",
       "2  2016-01-15 02:00:00                     6.055926   \n",
       "3  2016-01-15 03:00:00                     6.047977   \n",
       "4  2016-01-15 04:00:00                     6.148599   \n",
       "\n",
       "   final.output.concentrate_pb  final.output.concentrate_sol  \\\n",
       "0                     9.889648                      5.507324   \n",
       "1                     9.968944                      5.257781   \n",
       "2                    10.213995                      5.383759   \n",
       "3                     9.977019                      4.858634   \n",
       "4                    10.142511                      4.939416   \n",
       "\n",
       "   final.output.concentrate_au  final.output.recovery  final.output.tail_ag  \\\n",
       "0                    42.192020              70.541216             10.411962   \n",
       "1                    42.701629              69.266198             10.462676   \n",
       "2                    42.657501              68.116445             10.507046   \n",
       "3                    42.689819              68.347543             10.422762   \n",
       "4                    42.774141              66.927016             10.360302   \n",
       "\n",
       "   final.output.tail_pb  final.output.tail_sol  final.output.tail_au  ...  \\\n",
       "0              0.895447              16.904297              2.143149  ...   \n",
       "1              0.927452              16.634514              2.224930  ...   \n",
       "2              0.953716              16.208849              2.257889  ...   \n",
       "3              0.883763              16.532835              2.146849  ...   \n",
       "4              0.792826              16.525686              2.055292  ...   \n",
       "\n",
       "   secondary_cleaner.state.floatbank4_a_air  \\\n",
       "0                                 14.016835   \n",
       "1                                 13.992281   \n",
       "2                                 14.015015   \n",
       "3                                 14.036510   \n",
       "4                                 14.027298   \n",
       "\n",
       "   secondary_cleaner.state.floatbank4_a_level  \\\n",
       "0                                 -502.488007   \n",
       "1                                 -505.503262   \n",
       "2                                 -502.520901   \n",
       "3                                 -500.857308   \n",
       "4                                 -499.838632   \n",
       "\n",
       "   secondary_cleaner.state.floatbank4_b_air  \\\n",
       "0                                 12.099931   \n",
       "1                                 11.950531   \n",
       "2                                 11.912783   \n",
       "3                                 11.999550   \n",
       "4                                 11.953070   \n",
       "\n",
       "   secondary_cleaner.state.floatbank4_b_level  \\\n",
       "0                                 -504.715942   \n",
       "1                                 -501.331529   \n",
       "2                                 -501.133383   \n",
       "3                                 -501.193686   \n",
       "4                                 -501.053894   \n",
       "\n",
       "   secondary_cleaner.state.floatbank5_a_air  \\\n",
       "0                                  9.925633   \n",
       "1                                 10.039245   \n",
       "2                                 10.070913   \n",
       "3                                  9.970366   \n",
       "4                                  9.925709   \n",
       "\n",
       "   secondary_cleaner.state.floatbank5_a_level  \\\n",
       "0                                 -498.310211   \n",
       "1                                 -500.169983   \n",
       "2                                 -500.129135   \n",
       "3                                 -499.201640   \n",
       "4                                 -501.686727   \n",
       "\n",
       "   secondary_cleaner.state.floatbank5_b_air  \\\n",
       "0                                  8.079666   \n",
       "1                                  7.984757   \n",
       "2                                  8.013877   \n",
       "3                                  7.977324   \n",
       "4                                  7.894242   \n",
       "\n",
       "   secondary_cleaner.state.floatbank5_b_level  \\\n",
       "0                                 -500.470978   \n",
       "1                                 -500.582168   \n",
       "2                                 -500.517572   \n",
       "3                                 -500.255908   \n",
       "4                                 -500.356035   \n",
       "\n",
       "   secondary_cleaner.state.floatbank6_a_air  \\\n",
       "0                                 14.151341   \n",
       "1                                 13.998353   \n",
       "2                                 14.028663   \n",
       "3                                 14.005551   \n",
       "4                                 13.996647   \n",
       "\n",
       "   secondary_cleaner.state.floatbank6_a_level  \n",
       "0                                 -605.841980  \n",
       "1                                 -599.787184  \n",
       "2                                 -601.427363  \n",
       "3                                 -599.996129  \n",
       "4                                 -601.496691  \n",
       "\n",
       "[5 rows x 87 columns]"
      ]
     },
     "metadata": {},
     "output_type": "display_data"
    },
    {
     "name": "stdout",
     "output_type": "stream",
     "text": [
      "Всего пропусков: 0.0026496088855618486\n",
      "Всего дубликатов: 0\n"
     ]
    },
    {
     "data": {
      "text/html": [
       "<div>\n",
       "<style scoped>\n",
       "    .dataframe tbody tr th:only-of-type {\n",
       "        vertical-align: middle;\n",
       "    }\n",
       "\n",
       "    .dataframe tbody tr th {\n",
       "        vertical-align: top;\n",
       "    }\n",
       "\n",
       "    .dataframe thead th {\n",
       "        text-align: right;\n",
       "    }\n",
       "</style>\n",
       "<table border=\"1\" class=\"dataframe\">\n",
       "  <thead>\n",
       "    <tr style=\"text-align: right;\">\n",
       "      <th></th>\n",
       "      <th>final.output.concentrate_ag</th>\n",
       "      <th>final.output.concentrate_pb</th>\n",
       "      <th>final.output.concentrate_sol</th>\n",
       "      <th>final.output.concentrate_au</th>\n",
       "      <th>final.output.recovery</th>\n",
       "      <th>final.output.tail_ag</th>\n",
       "      <th>final.output.tail_pb</th>\n",
       "      <th>final.output.tail_sol</th>\n",
       "      <th>final.output.tail_au</th>\n",
       "      <th>primary_cleaner.input.sulfate</th>\n",
       "      <th>...</th>\n",
       "      <th>secondary_cleaner.state.floatbank4_a_air</th>\n",
       "      <th>secondary_cleaner.state.floatbank4_a_level</th>\n",
       "      <th>secondary_cleaner.state.floatbank4_b_air</th>\n",
       "      <th>secondary_cleaner.state.floatbank4_b_level</th>\n",
       "      <th>secondary_cleaner.state.floatbank5_a_air</th>\n",
       "      <th>secondary_cleaner.state.floatbank5_a_level</th>\n",
       "      <th>secondary_cleaner.state.floatbank5_b_air</th>\n",
       "      <th>secondary_cleaner.state.floatbank5_b_level</th>\n",
       "      <th>secondary_cleaner.state.floatbank6_a_air</th>\n",
       "      <th>secondary_cleaner.state.floatbank6_a_level</th>\n",
       "    </tr>\n",
       "  </thead>\n",
       "  <tbody>\n",
       "    <tr>\n",
       "      <td>count</td>\n",
       "      <td>19438.000000</td>\n",
       "      <td>19438.000000</td>\n",
       "      <td>19228.000000</td>\n",
       "      <td>19439.000000</td>\n",
       "      <td>19439.000000</td>\n",
       "      <td>19438.000000</td>\n",
       "      <td>19338.000000</td>\n",
       "      <td>19433.000000</td>\n",
       "      <td>19439.000000</td>\n",
       "      <td>19415.000000</td>\n",
       "      <td>...</td>\n",
       "      <td>19433.000000</td>\n",
       "      <td>19438.000000</td>\n",
       "      <td>19438.000000</td>\n",
       "      <td>19438.000000</td>\n",
       "      <td>19438.000000</td>\n",
       "      <td>19438.000000</td>\n",
       "      <td>19438.000000</td>\n",
       "      <td>19438.000000</td>\n",
       "      <td>19437.000000</td>\n",
       "      <td>19438.000000</td>\n",
       "    </tr>\n",
       "    <tr>\n",
       "      <td>mean</td>\n",
       "      <td>5.168470</td>\n",
       "      <td>9.978895</td>\n",
       "      <td>9.501224</td>\n",
       "      <td>44.076513</td>\n",
       "      <td>67.050208</td>\n",
       "      <td>9.688589</td>\n",
       "      <td>2.705795</td>\n",
       "      <td>10.583728</td>\n",
       "      <td>3.042467</td>\n",
       "      <td>144.624774</td>\n",
       "      <td>...</td>\n",
       "      <td>18.987674</td>\n",
       "      <td>-485.894516</td>\n",
       "      <td>15.010366</td>\n",
       "      <td>-461.078636</td>\n",
       "      <td>15.694452</td>\n",
       "      <td>-488.684065</td>\n",
       "      <td>12.198224</td>\n",
       "      <td>-487.149827</td>\n",
       "      <td>18.959024</td>\n",
       "      <td>-505.436305</td>\n",
       "    </tr>\n",
       "    <tr>\n",
       "      <td>std</td>\n",
       "      <td>1.372348</td>\n",
       "      <td>1.669240</td>\n",
       "      <td>2.787537</td>\n",
       "      <td>5.129784</td>\n",
       "      <td>10.125840</td>\n",
       "      <td>2.328642</td>\n",
       "      <td>0.949077</td>\n",
       "      <td>2.868782</td>\n",
       "      <td>0.922808</td>\n",
       "      <td>44.464071</td>\n",
       "      <td>...</td>\n",
       "      <td>5.411058</td>\n",
       "      <td>47.758570</td>\n",
       "      <td>4.890228</td>\n",
       "      <td>67.405524</td>\n",
       "      <td>5.510974</td>\n",
       "      <td>34.533396</td>\n",
       "      <td>5.333024</td>\n",
       "      <td>38.347312</td>\n",
       "      <td>5.550498</td>\n",
       "      <td>37.689057</td>\n",
       "    </tr>\n",
       "    <tr>\n",
       "      <td>min</td>\n",
       "      <td>0.000000</td>\n",
       "      <td>0.000000</td>\n",
       "      <td>0.000000</td>\n",
       "      <td>0.000000</td>\n",
       "      <td>0.000000</td>\n",
       "      <td>0.000000</td>\n",
       "      <td>0.000000</td>\n",
       "      <td>0.000000</td>\n",
       "      <td>0.000000</td>\n",
       "      <td>0.003112</td>\n",
       "      <td>...</td>\n",
       "      <td>0.000000</td>\n",
       "      <td>-799.798523</td>\n",
       "      <td>0.000000</td>\n",
       "      <td>-800.836914</td>\n",
       "      <td>-0.372054</td>\n",
       "      <td>-797.323986</td>\n",
       "      <td>0.528083</td>\n",
       "      <td>-800.220337</td>\n",
       "      <td>-0.079426</td>\n",
       "      <td>-809.741464</td>\n",
       "    </tr>\n",
       "    <tr>\n",
       "      <td>25%</td>\n",
       "      <td>4.251240</td>\n",
       "      <td>9.137262</td>\n",
       "      <td>7.722820</td>\n",
       "      <td>43.402215</td>\n",
       "      <td>63.299712</td>\n",
       "      <td>8.062878</td>\n",
       "      <td>2.040119</td>\n",
       "      <td>8.938947</td>\n",
       "      <td>2.461138</td>\n",
       "      <td>114.107029</td>\n",
       "      <td>...</td>\n",
       "      <td>14.975734</td>\n",
       "      <td>-500.704892</td>\n",
       "      <td>11.940294</td>\n",
       "      <td>-500.187742</td>\n",
       "      <td>10.988606</td>\n",
       "      <td>-500.458467</td>\n",
       "      <td>8.971105</td>\n",
       "      <td>-500.129462</td>\n",
       "      <td>14.983037</td>\n",
       "      <td>-500.728067</td>\n",
       "    </tr>\n",
       "    <tr>\n",
       "      <td>50%</td>\n",
       "      <td>5.066094</td>\n",
       "      <td>10.102433</td>\n",
       "      <td>9.218961</td>\n",
       "      <td>45.011244</td>\n",
       "      <td>68.172738</td>\n",
       "      <td>9.743623</td>\n",
       "      <td>2.748730</td>\n",
       "      <td>10.622456</td>\n",
       "      <td>2.984909</td>\n",
       "      <td>143.232103</td>\n",
       "      <td>...</td>\n",
       "      <td>18.017481</td>\n",
       "      <td>-499.837793</td>\n",
       "      <td>14.971014</td>\n",
       "      <td>-499.459786</td>\n",
       "      <td>15.000036</td>\n",
       "      <td>-499.802605</td>\n",
       "      <td>11.019433</td>\n",
       "      <td>-499.935317</td>\n",
       "      <td>19.960541</td>\n",
       "      <td>-500.048400</td>\n",
       "    </tr>\n",
       "    <tr>\n",
       "      <td>75%</td>\n",
       "      <td>5.895527</td>\n",
       "      <td>11.035769</td>\n",
       "      <td>10.947813</td>\n",
       "      <td>46.275313</td>\n",
       "      <td>72.686642</td>\n",
       "      <td>11.134294</td>\n",
       "      <td>3.333216</td>\n",
       "      <td>12.104271</td>\n",
       "      <td>3.571351</td>\n",
       "      <td>175.075656</td>\n",
       "      <td>...</td>\n",
       "      <td>23.012470</td>\n",
       "      <td>-498.249730</td>\n",
       "      <td>19.034162</td>\n",
       "      <td>-400.118106</td>\n",
       "      <td>18.026190</td>\n",
       "      <td>-498.384187</td>\n",
       "      <td>14.019088</td>\n",
       "      <td>-499.436708</td>\n",
       "      <td>24.003170</td>\n",
       "      <td>-499.495378</td>\n",
       "    </tr>\n",
       "    <tr>\n",
       "      <td>max</td>\n",
       "      <td>16.001945</td>\n",
       "      <td>17.031899</td>\n",
       "      <td>19.615720</td>\n",
       "      <td>52.756638</td>\n",
       "      <td>100.000000</td>\n",
       "      <td>19.552149</td>\n",
       "      <td>5.804178</td>\n",
       "      <td>22.317730</td>\n",
       "      <td>8.245022</td>\n",
       "      <td>265.983123</td>\n",
       "      <td>...</td>\n",
       "      <td>30.115735</td>\n",
       "      <td>-245.239184</td>\n",
       "      <td>31.269706</td>\n",
       "      <td>-6.506986</td>\n",
       "      <td>43.709931</td>\n",
       "      <td>-244.483566</td>\n",
       "      <td>27.926001</td>\n",
       "      <td>-137.740004</td>\n",
       "      <td>32.188906</td>\n",
       "      <td>-104.427459</td>\n",
       "    </tr>\n",
       "  </tbody>\n",
       "</table>\n",
       "<p>8 rows × 86 columns</p>\n",
       "</div>"
      ],
      "text/plain": [
       "       final.output.concentrate_ag  final.output.concentrate_pb  \\\n",
       "count                 19438.000000                 19438.000000   \n",
       "mean                      5.168470                     9.978895   \n",
       "std                       1.372348                     1.669240   \n",
       "min                       0.000000                     0.000000   \n",
       "25%                       4.251240                     9.137262   \n",
       "50%                       5.066094                    10.102433   \n",
       "75%                       5.895527                    11.035769   \n",
       "max                      16.001945                    17.031899   \n",
       "\n",
       "       final.output.concentrate_sol  final.output.concentrate_au  \\\n",
       "count                  19228.000000                 19439.000000   \n",
       "mean                       9.501224                    44.076513   \n",
       "std                        2.787537                     5.129784   \n",
       "min                        0.000000                     0.000000   \n",
       "25%                        7.722820                    43.402215   \n",
       "50%                        9.218961                    45.011244   \n",
       "75%                       10.947813                    46.275313   \n",
       "max                       19.615720                    52.756638   \n",
       "\n",
       "       final.output.recovery  final.output.tail_ag  final.output.tail_pb  \\\n",
       "count           19439.000000          19438.000000          19338.000000   \n",
       "mean               67.050208              9.688589              2.705795   \n",
       "std                10.125840              2.328642              0.949077   \n",
       "min                 0.000000              0.000000              0.000000   \n",
       "25%                63.299712              8.062878              2.040119   \n",
       "50%                68.172738              9.743623              2.748730   \n",
       "75%                72.686642             11.134294              3.333216   \n",
       "max               100.000000             19.552149              5.804178   \n",
       "\n",
       "       final.output.tail_sol  final.output.tail_au  \\\n",
       "count           19433.000000          19439.000000   \n",
       "mean               10.583728              3.042467   \n",
       "std                 2.868782              0.922808   \n",
       "min                 0.000000              0.000000   \n",
       "25%                 8.938947              2.461138   \n",
       "50%                10.622456              2.984909   \n",
       "75%                12.104271              3.571351   \n",
       "max                22.317730              8.245022   \n",
       "\n",
       "       primary_cleaner.input.sulfate  ...  \\\n",
       "count                   19415.000000  ...   \n",
       "mean                      144.624774  ...   \n",
       "std                        44.464071  ...   \n",
       "min                         0.003112  ...   \n",
       "25%                       114.107029  ...   \n",
       "50%                       143.232103  ...   \n",
       "75%                       175.075656  ...   \n",
       "max                       265.983123  ...   \n",
       "\n",
       "       secondary_cleaner.state.floatbank4_a_air  \\\n",
       "count                              19433.000000   \n",
       "mean                                  18.987674   \n",
       "std                                    5.411058   \n",
       "min                                    0.000000   \n",
       "25%                                   14.975734   \n",
       "50%                                   18.017481   \n",
       "75%                                   23.012470   \n",
       "max                                   30.115735   \n",
       "\n",
       "       secondary_cleaner.state.floatbank4_a_level  \\\n",
       "count                                19438.000000   \n",
       "mean                                  -485.894516   \n",
       "std                                     47.758570   \n",
       "min                                   -799.798523   \n",
       "25%                                   -500.704892   \n",
       "50%                                   -499.837793   \n",
       "75%                                   -498.249730   \n",
       "max                                   -245.239184   \n",
       "\n",
       "       secondary_cleaner.state.floatbank4_b_air  \\\n",
       "count                              19438.000000   \n",
       "mean                                  15.010366   \n",
       "std                                    4.890228   \n",
       "min                                    0.000000   \n",
       "25%                                   11.940294   \n",
       "50%                                   14.971014   \n",
       "75%                                   19.034162   \n",
       "max                                   31.269706   \n",
       "\n",
       "       secondary_cleaner.state.floatbank4_b_level  \\\n",
       "count                                19438.000000   \n",
       "mean                                  -461.078636   \n",
       "std                                     67.405524   \n",
       "min                                   -800.836914   \n",
       "25%                                   -500.187742   \n",
       "50%                                   -499.459786   \n",
       "75%                                   -400.118106   \n",
       "max                                     -6.506986   \n",
       "\n",
       "       secondary_cleaner.state.floatbank5_a_air  \\\n",
       "count                              19438.000000   \n",
       "mean                                  15.694452   \n",
       "std                                    5.510974   \n",
       "min                                   -0.372054   \n",
       "25%                                   10.988606   \n",
       "50%                                   15.000036   \n",
       "75%                                   18.026190   \n",
       "max                                   43.709931   \n",
       "\n",
       "       secondary_cleaner.state.floatbank5_a_level  \\\n",
       "count                                19438.000000   \n",
       "mean                                  -488.684065   \n",
       "std                                     34.533396   \n",
       "min                                   -797.323986   \n",
       "25%                                   -500.458467   \n",
       "50%                                   -499.802605   \n",
       "75%                                   -498.384187   \n",
       "max                                   -244.483566   \n",
       "\n",
       "       secondary_cleaner.state.floatbank5_b_air  \\\n",
       "count                              19438.000000   \n",
       "mean                                  12.198224   \n",
       "std                                    5.333024   \n",
       "min                                    0.528083   \n",
       "25%                                    8.971105   \n",
       "50%                                   11.019433   \n",
       "75%                                   14.019088   \n",
       "max                                   27.926001   \n",
       "\n",
       "       secondary_cleaner.state.floatbank5_b_level  \\\n",
       "count                                19438.000000   \n",
       "mean                                  -487.149827   \n",
       "std                                     38.347312   \n",
       "min                                   -800.220337   \n",
       "25%                                   -500.129462   \n",
       "50%                                   -499.935317   \n",
       "75%                                   -499.436708   \n",
       "max                                   -137.740004   \n",
       "\n",
       "       secondary_cleaner.state.floatbank6_a_air  \\\n",
       "count                              19437.000000   \n",
       "mean                                  18.959024   \n",
       "std                                    5.550498   \n",
       "min                                   -0.079426   \n",
       "25%                                   14.983037   \n",
       "50%                                   19.960541   \n",
       "75%                                   24.003170   \n",
       "max                                   32.188906   \n",
       "\n",
       "       secondary_cleaner.state.floatbank6_a_level  \n",
       "count                                19438.000000  \n",
       "mean                                  -505.436305  \n",
       "std                                     37.689057  \n",
       "min                                   -809.741464  \n",
       "25%                                   -500.728067  \n",
       "50%                                   -500.048400  \n",
       "75%                                   -499.495378  \n",
       "max                                   -104.427459  \n",
       "\n",
       "[8 rows x 86 columns]"
      ]
     },
     "metadata": {},
     "output_type": "display_data"
    },
    {
     "name": "stdout",
     "output_type": "stream",
     "text": [
      "<class 'pandas.core.frame.DataFrame'>\n",
      "RangeIndex: 19439 entries, 0 to 19438\n",
      "Data columns (total 87 columns):\n",
      "date                                                  19439 non-null object\n",
      "final.output.concentrate_ag                           19438 non-null float64\n",
      "final.output.concentrate_pb                           19438 non-null float64\n",
      "final.output.concentrate_sol                          19228 non-null float64\n",
      "final.output.concentrate_au                           19439 non-null float64\n",
      "final.output.recovery                                 19439 non-null float64\n",
      "final.output.tail_ag                                  19438 non-null float64\n",
      "final.output.tail_pb                                  19338 non-null float64\n",
      "final.output.tail_sol                                 19433 non-null float64\n",
      "final.output.tail_au                                  19439 non-null float64\n",
      "primary_cleaner.input.sulfate                         19415 non-null float64\n",
      "primary_cleaner.input.depressant                      19402 non-null float64\n",
      "primary_cleaner.input.feed_size                       19439 non-null float64\n",
      "primary_cleaner.input.xanthate                        19335 non-null float64\n",
      "primary_cleaner.output.concentrate_ag                 19439 non-null float64\n",
      "primary_cleaner.output.concentrate_pb                 19323 non-null float64\n",
      "primary_cleaner.output.concentrate_sol                19069 non-null float64\n",
      "primary_cleaner.output.concentrate_au                 19439 non-null float64\n",
      "primary_cleaner.output.tail_ag                        19435 non-null float64\n",
      "primary_cleaner.output.tail_pb                        19418 non-null float64\n",
      "primary_cleaner.output.tail_sol                       19377 non-null float64\n",
      "primary_cleaner.output.tail_au                        19439 non-null float64\n",
      "primary_cleaner.state.floatbank8_a_air                19435 non-null float64\n",
      "primary_cleaner.state.floatbank8_a_level              19438 non-null float64\n",
      "primary_cleaner.state.floatbank8_b_air                19435 non-null float64\n",
      "primary_cleaner.state.floatbank8_b_level              19438 non-null float64\n",
      "primary_cleaner.state.floatbank8_c_air                19437 non-null float64\n",
      "primary_cleaner.state.floatbank8_c_level              19438 non-null float64\n",
      "primary_cleaner.state.floatbank8_d_air                19436 non-null float64\n",
      "primary_cleaner.state.floatbank8_d_level              19438 non-null float64\n",
      "rougher.calculation.sulfate_to_au_concentrate         19437 non-null float64\n",
      "rougher.calculation.floatbank10_sulfate_to_au_feed    19437 non-null float64\n",
      "rougher.calculation.floatbank11_sulfate_to_au_feed    19437 non-null float64\n",
      "rougher.calculation.au_pb_ratio                       19439 non-null float64\n",
      "rougher.input.feed_ag                                 19439 non-null float64\n",
      "rougher.input.feed_pb                                 19339 non-null float64\n",
      "rougher.input.feed_rate                               19428 non-null float64\n",
      "rougher.input.feed_size                               19294 non-null float64\n",
      "rougher.input.feed_sol                                19340 non-null float64\n",
      "rougher.input.feed_au                                 19439 non-null float64\n",
      "rougher.input.floatbank10_sulfate                     19405 non-null float64\n",
      "rougher.input.floatbank10_xanthate                    19431 non-null float64\n",
      "rougher.input.floatbank11_sulfate                     19395 non-null float64\n",
      "rougher.input.floatbank11_xanthate                    18986 non-null float64\n",
      "rougher.output.concentrate_ag                         19439 non-null float64\n",
      "rougher.output.concentrate_pb                         19439 non-null float64\n",
      "rougher.output.concentrate_sol                        19416 non-null float64\n",
      "rougher.output.concentrate_au                         19439 non-null float64\n",
      "rougher.output.recovery                               19439 non-null float64\n",
      "rougher.output.tail_ag                                19438 non-null float64\n",
      "rougher.output.tail_pb                                19439 non-null float64\n",
      "rougher.output.tail_sol                               19439 non-null float64\n",
      "rougher.output.tail_au                                19439 non-null float64\n",
      "rougher.state.floatbank10_a_air                       19438 non-null float64\n",
      "rougher.state.floatbank10_a_level                     19438 non-null float64\n",
      "rougher.state.floatbank10_b_air                       19438 non-null float64\n",
      "rougher.state.floatbank10_b_level                     19438 non-null float64\n",
      "rougher.state.floatbank10_c_air                       19438 non-null float64\n",
      "rougher.state.floatbank10_c_level                     19438 non-null float64\n",
      "rougher.state.floatbank10_d_air                       19439 non-null float64\n",
      "rougher.state.floatbank10_d_level                     19439 non-null float64\n",
      "rougher.state.floatbank10_e_air                       19003 non-null float64\n",
      "rougher.state.floatbank10_e_level                     19439 non-null float64\n",
      "rougher.state.floatbank10_f_air                       19439 non-null float64\n",
      "rougher.state.floatbank10_f_level                     19439 non-null float64\n",
      "secondary_cleaner.output.tail_ag                      19437 non-null float64\n",
      "secondary_cleaner.output.tail_pb                      19427 non-null float64\n",
      "secondary_cleaner.output.tail_sol                     17691 non-null float64\n",
      "secondary_cleaner.output.tail_au                      19439 non-null float64\n",
      "secondary_cleaner.state.floatbank2_a_air              19219 non-null float64\n",
      "secondary_cleaner.state.floatbank2_a_level            19438 non-null float64\n",
      "secondary_cleaner.state.floatbank2_b_air              19416 non-null float64\n",
      "secondary_cleaner.state.floatbank2_b_level            19438 non-null float64\n",
      "secondary_cleaner.state.floatbank3_a_air              19426 non-null float64\n",
      "secondary_cleaner.state.floatbank3_a_level            19438 non-null float64\n",
      "secondary_cleaner.state.floatbank3_b_air              19438 non-null float64\n",
      "secondary_cleaner.state.floatbank3_b_level            19438 non-null float64\n",
      "secondary_cleaner.state.floatbank4_a_air              19433 non-null float64\n",
      "secondary_cleaner.state.floatbank4_a_level            19438 non-null float64\n",
      "secondary_cleaner.state.floatbank4_b_air              19438 non-null float64\n",
      "secondary_cleaner.state.floatbank4_b_level            19438 non-null float64\n",
      "secondary_cleaner.state.floatbank5_a_air              19438 non-null float64\n",
      "secondary_cleaner.state.floatbank5_a_level            19438 non-null float64\n",
      "secondary_cleaner.state.floatbank5_b_air              19438 non-null float64\n",
      "secondary_cleaner.state.floatbank5_b_level            19438 non-null float64\n",
      "secondary_cleaner.state.floatbank6_a_air              19437 non-null float64\n",
      "secondary_cleaner.state.floatbank6_a_level            19438 non-null float64\n",
      "dtypes: float64(86), object(1)\n",
      "memory usage: 12.9+ MB\n"
     ]
    }
   ],
   "source": [
    "explanations(df_full)"
   ]
  },
  {
   "cell_type": "code",
   "execution_count": 5,
   "metadata": {},
   "outputs": [
    {
     "data": {
      "text/html": [
       "<div>\n",
       "<style scoped>\n",
       "    .dataframe tbody tr th:only-of-type {\n",
       "        vertical-align: middle;\n",
       "    }\n",
       "\n",
       "    .dataframe tbody tr th {\n",
       "        vertical-align: top;\n",
       "    }\n",
       "\n",
       "    .dataframe thead th {\n",
       "        text-align: right;\n",
       "    }\n",
       "</style>\n",
       "<table border=\"1\" class=\"dataframe\">\n",
       "  <thead>\n",
       "    <tr style=\"text-align: right;\">\n",
       "      <th></th>\n",
       "      <th>date</th>\n",
       "      <th>final.output.concentrate_ag</th>\n",
       "      <th>final.output.concentrate_pb</th>\n",
       "      <th>final.output.concentrate_sol</th>\n",
       "      <th>final.output.concentrate_au</th>\n",
       "      <th>final.output.recovery</th>\n",
       "      <th>final.output.tail_ag</th>\n",
       "      <th>final.output.tail_pb</th>\n",
       "      <th>final.output.tail_sol</th>\n",
       "      <th>final.output.tail_au</th>\n",
       "      <th>...</th>\n",
       "      <th>secondary_cleaner.state.floatbank4_a_air</th>\n",
       "      <th>secondary_cleaner.state.floatbank4_a_level</th>\n",
       "      <th>secondary_cleaner.state.floatbank4_b_air</th>\n",
       "      <th>secondary_cleaner.state.floatbank4_b_level</th>\n",
       "      <th>secondary_cleaner.state.floatbank5_a_air</th>\n",
       "      <th>secondary_cleaner.state.floatbank5_a_level</th>\n",
       "      <th>secondary_cleaner.state.floatbank5_b_air</th>\n",
       "      <th>secondary_cleaner.state.floatbank5_b_level</th>\n",
       "      <th>secondary_cleaner.state.floatbank6_a_air</th>\n",
       "      <th>secondary_cleaner.state.floatbank6_a_level</th>\n",
       "    </tr>\n",
       "  </thead>\n",
       "  <tbody>\n",
       "    <tr>\n",
       "      <td>0</td>\n",
       "      <td>2016-01-15 00:00:00</td>\n",
       "      <td>6.055403</td>\n",
       "      <td>9.889648</td>\n",
       "      <td>5.507324</td>\n",
       "      <td>42.192020</td>\n",
       "      <td>70.541216</td>\n",
       "      <td>10.411962</td>\n",
       "      <td>0.895447</td>\n",
       "      <td>16.904297</td>\n",
       "      <td>2.143149</td>\n",
       "      <td>...</td>\n",
       "      <td>14.016835</td>\n",
       "      <td>-502.488007</td>\n",
       "      <td>12.099931</td>\n",
       "      <td>-504.715942</td>\n",
       "      <td>9.925633</td>\n",
       "      <td>-498.310211</td>\n",
       "      <td>8.079666</td>\n",
       "      <td>-500.470978</td>\n",
       "      <td>14.151341</td>\n",
       "      <td>-605.841980</td>\n",
       "    </tr>\n",
       "    <tr>\n",
       "      <td>1</td>\n",
       "      <td>2016-01-15 01:00:00</td>\n",
       "      <td>6.029369</td>\n",
       "      <td>9.968944</td>\n",
       "      <td>5.257781</td>\n",
       "      <td>42.701629</td>\n",
       "      <td>69.266198</td>\n",
       "      <td>10.462676</td>\n",
       "      <td>0.927452</td>\n",
       "      <td>16.634514</td>\n",
       "      <td>2.224930</td>\n",
       "      <td>...</td>\n",
       "      <td>13.992281</td>\n",
       "      <td>-505.503262</td>\n",
       "      <td>11.950531</td>\n",
       "      <td>-501.331529</td>\n",
       "      <td>10.039245</td>\n",
       "      <td>-500.169983</td>\n",
       "      <td>7.984757</td>\n",
       "      <td>-500.582168</td>\n",
       "      <td>13.998353</td>\n",
       "      <td>-599.787184</td>\n",
       "    </tr>\n",
       "    <tr>\n",
       "      <td>2</td>\n",
       "      <td>2016-01-15 02:00:00</td>\n",
       "      <td>6.055926</td>\n",
       "      <td>10.213995</td>\n",
       "      <td>5.383759</td>\n",
       "      <td>42.657501</td>\n",
       "      <td>68.116445</td>\n",
       "      <td>10.507046</td>\n",
       "      <td>0.953716</td>\n",
       "      <td>16.208849</td>\n",
       "      <td>2.257889</td>\n",
       "      <td>...</td>\n",
       "      <td>14.015015</td>\n",
       "      <td>-502.520901</td>\n",
       "      <td>11.912783</td>\n",
       "      <td>-501.133383</td>\n",
       "      <td>10.070913</td>\n",
       "      <td>-500.129135</td>\n",
       "      <td>8.013877</td>\n",
       "      <td>-500.517572</td>\n",
       "      <td>14.028663</td>\n",
       "      <td>-601.427363</td>\n",
       "    </tr>\n",
       "    <tr>\n",
       "      <td>3</td>\n",
       "      <td>2016-01-15 03:00:00</td>\n",
       "      <td>6.047977</td>\n",
       "      <td>9.977019</td>\n",
       "      <td>4.858634</td>\n",
       "      <td>42.689819</td>\n",
       "      <td>68.347543</td>\n",
       "      <td>10.422762</td>\n",
       "      <td>0.883763</td>\n",
       "      <td>16.532835</td>\n",
       "      <td>2.146849</td>\n",
       "      <td>...</td>\n",
       "      <td>14.036510</td>\n",
       "      <td>-500.857308</td>\n",
       "      <td>11.999550</td>\n",
       "      <td>-501.193686</td>\n",
       "      <td>9.970366</td>\n",
       "      <td>-499.201640</td>\n",
       "      <td>7.977324</td>\n",
       "      <td>-500.255908</td>\n",
       "      <td>14.005551</td>\n",
       "      <td>-599.996129</td>\n",
       "    </tr>\n",
       "    <tr>\n",
       "      <td>4</td>\n",
       "      <td>2016-01-15 04:00:00</td>\n",
       "      <td>6.148599</td>\n",
       "      <td>10.142511</td>\n",
       "      <td>4.939416</td>\n",
       "      <td>42.774141</td>\n",
       "      <td>66.927016</td>\n",
       "      <td>10.360302</td>\n",
       "      <td>0.792826</td>\n",
       "      <td>16.525686</td>\n",
       "      <td>2.055292</td>\n",
       "      <td>...</td>\n",
       "      <td>14.027298</td>\n",
       "      <td>-499.838632</td>\n",
       "      <td>11.953070</td>\n",
       "      <td>-501.053894</td>\n",
       "      <td>9.925709</td>\n",
       "      <td>-501.686727</td>\n",
       "      <td>7.894242</td>\n",
       "      <td>-500.356035</td>\n",
       "      <td>13.996647</td>\n",
       "      <td>-601.496691</td>\n",
       "    </tr>\n",
       "  </tbody>\n",
       "</table>\n",
       "<p>5 rows × 87 columns</p>\n",
       "</div>"
      ],
      "text/plain": [
       "                  date  final.output.concentrate_ag  \\\n",
       "0  2016-01-15 00:00:00                     6.055403   \n",
       "1  2016-01-15 01:00:00                     6.029369   \n",
       "2  2016-01-15 02:00:00                     6.055926   \n",
       "3  2016-01-15 03:00:00                     6.047977   \n",
       "4  2016-01-15 04:00:00                     6.148599   \n",
       "\n",
       "   final.output.concentrate_pb  final.output.concentrate_sol  \\\n",
       "0                     9.889648                      5.507324   \n",
       "1                     9.968944                      5.257781   \n",
       "2                    10.213995                      5.383759   \n",
       "3                     9.977019                      4.858634   \n",
       "4                    10.142511                      4.939416   \n",
       "\n",
       "   final.output.concentrate_au  final.output.recovery  final.output.tail_ag  \\\n",
       "0                    42.192020              70.541216             10.411962   \n",
       "1                    42.701629              69.266198             10.462676   \n",
       "2                    42.657501              68.116445             10.507046   \n",
       "3                    42.689819              68.347543             10.422762   \n",
       "4                    42.774141              66.927016             10.360302   \n",
       "\n",
       "   final.output.tail_pb  final.output.tail_sol  final.output.tail_au  ...  \\\n",
       "0              0.895447              16.904297              2.143149  ...   \n",
       "1              0.927452              16.634514              2.224930  ...   \n",
       "2              0.953716              16.208849              2.257889  ...   \n",
       "3              0.883763              16.532835              2.146849  ...   \n",
       "4              0.792826              16.525686              2.055292  ...   \n",
       "\n",
       "   secondary_cleaner.state.floatbank4_a_air  \\\n",
       "0                                 14.016835   \n",
       "1                                 13.992281   \n",
       "2                                 14.015015   \n",
       "3                                 14.036510   \n",
       "4                                 14.027298   \n",
       "\n",
       "   secondary_cleaner.state.floatbank4_a_level  \\\n",
       "0                                 -502.488007   \n",
       "1                                 -505.503262   \n",
       "2                                 -502.520901   \n",
       "3                                 -500.857308   \n",
       "4                                 -499.838632   \n",
       "\n",
       "   secondary_cleaner.state.floatbank4_b_air  \\\n",
       "0                                 12.099931   \n",
       "1                                 11.950531   \n",
       "2                                 11.912783   \n",
       "3                                 11.999550   \n",
       "4                                 11.953070   \n",
       "\n",
       "   secondary_cleaner.state.floatbank4_b_level  \\\n",
       "0                                 -504.715942   \n",
       "1                                 -501.331529   \n",
       "2                                 -501.133383   \n",
       "3                                 -501.193686   \n",
       "4                                 -501.053894   \n",
       "\n",
       "   secondary_cleaner.state.floatbank5_a_air  \\\n",
       "0                                  9.925633   \n",
       "1                                 10.039245   \n",
       "2                                 10.070913   \n",
       "3                                  9.970366   \n",
       "4                                  9.925709   \n",
       "\n",
       "   secondary_cleaner.state.floatbank5_a_level  \\\n",
       "0                                 -498.310211   \n",
       "1                                 -500.169983   \n",
       "2                                 -500.129135   \n",
       "3                                 -499.201640   \n",
       "4                                 -501.686727   \n",
       "\n",
       "   secondary_cleaner.state.floatbank5_b_air  \\\n",
       "0                                  8.079666   \n",
       "1                                  7.984757   \n",
       "2                                  8.013877   \n",
       "3                                  7.977324   \n",
       "4                                  7.894242   \n",
       "\n",
       "   secondary_cleaner.state.floatbank5_b_level  \\\n",
       "0                                 -500.470978   \n",
       "1                                 -500.582168   \n",
       "2                                 -500.517572   \n",
       "3                                 -500.255908   \n",
       "4                                 -500.356035   \n",
       "\n",
       "   secondary_cleaner.state.floatbank6_a_air  \\\n",
       "0                                 14.151341   \n",
       "1                                 13.998353   \n",
       "2                                 14.028663   \n",
       "3                                 14.005551   \n",
       "4                                 13.996647   \n",
       "\n",
       "   secondary_cleaner.state.floatbank6_a_level  \n",
       "0                                 -605.841980  \n",
       "1                                 -599.787184  \n",
       "2                                 -601.427363  \n",
       "3                                 -599.996129  \n",
       "4                                 -601.496691  \n",
       "\n",
       "[5 rows x 87 columns]"
      ]
     },
     "metadata": {},
     "output_type": "display_data"
    },
    {
     "name": "stdout",
     "output_type": "stream",
     "text": [
      "Всего пропусков: 0.003330725618885377\n",
      "Всего дубликатов: 0\n"
     ]
    },
    {
     "data": {
      "text/html": [
       "<div>\n",
       "<style scoped>\n",
       "    .dataframe tbody tr th:only-of-type {\n",
       "        vertical-align: middle;\n",
       "    }\n",
       "\n",
       "    .dataframe tbody tr th {\n",
       "        vertical-align: top;\n",
       "    }\n",
       "\n",
       "    .dataframe thead th {\n",
       "        text-align: right;\n",
       "    }\n",
       "</style>\n",
       "<table border=\"1\" class=\"dataframe\">\n",
       "  <thead>\n",
       "    <tr style=\"text-align: right;\">\n",
       "      <th></th>\n",
       "      <th>final.output.concentrate_ag</th>\n",
       "      <th>final.output.concentrate_pb</th>\n",
       "      <th>final.output.concentrate_sol</th>\n",
       "      <th>final.output.concentrate_au</th>\n",
       "      <th>final.output.recovery</th>\n",
       "      <th>final.output.tail_ag</th>\n",
       "      <th>final.output.tail_pb</th>\n",
       "      <th>final.output.tail_sol</th>\n",
       "      <th>final.output.tail_au</th>\n",
       "      <th>primary_cleaner.input.sulfate</th>\n",
       "      <th>...</th>\n",
       "      <th>secondary_cleaner.state.floatbank4_a_air</th>\n",
       "      <th>secondary_cleaner.state.floatbank4_a_level</th>\n",
       "      <th>secondary_cleaner.state.floatbank4_b_air</th>\n",
       "      <th>secondary_cleaner.state.floatbank4_b_level</th>\n",
       "      <th>secondary_cleaner.state.floatbank5_a_air</th>\n",
       "      <th>secondary_cleaner.state.floatbank5_a_level</th>\n",
       "      <th>secondary_cleaner.state.floatbank5_b_air</th>\n",
       "      <th>secondary_cleaner.state.floatbank5_b_level</th>\n",
       "      <th>secondary_cleaner.state.floatbank6_a_air</th>\n",
       "      <th>secondary_cleaner.state.floatbank6_a_level</th>\n",
       "    </tr>\n",
       "  </thead>\n",
       "  <tbody>\n",
       "    <tr>\n",
       "      <td>count</td>\n",
       "      <td>14148.000000</td>\n",
       "      <td>14148.000000</td>\n",
       "      <td>13938.000000</td>\n",
       "      <td>14149.000000</td>\n",
       "      <td>14149.000000</td>\n",
       "      <td>14149.000000</td>\n",
       "      <td>14049.000000</td>\n",
       "      <td>14144.000000</td>\n",
       "      <td>14149.000000</td>\n",
       "      <td>14129.000000</td>\n",
       "      <td>...</td>\n",
       "      <td>14143.000000</td>\n",
       "      <td>14148.000000</td>\n",
       "      <td>14148.000000</td>\n",
       "      <td>14148.000000</td>\n",
       "      <td>14148.000000</td>\n",
       "      <td>14148.000000</td>\n",
       "      <td>14148.000000</td>\n",
       "      <td>14148.000000</td>\n",
       "      <td>14147.000000</td>\n",
       "      <td>14148.000000</td>\n",
       "    </tr>\n",
       "    <tr>\n",
       "      <td>mean</td>\n",
       "      <td>5.142034</td>\n",
       "      <td>10.132960</td>\n",
       "      <td>9.202849</td>\n",
       "      <td>44.003792</td>\n",
       "      <td>66.518832</td>\n",
       "      <td>9.607035</td>\n",
       "      <td>2.597298</td>\n",
       "      <td>10.512122</td>\n",
       "      <td>2.918421</td>\n",
       "      <td>133.320659</td>\n",
       "      <td>...</td>\n",
       "      <td>19.985454</td>\n",
       "      <td>-478.696836</td>\n",
       "      <td>15.487065</td>\n",
       "      <td>-460.229416</td>\n",
       "      <td>16.775136</td>\n",
       "      <td>-483.956022</td>\n",
       "      <td>13.064590</td>\n",
       "      <td>-483.966564</td>\n",
       "      <td>19.577539</td>\n",
       "      <td>-506.798480</td>\n",
       "    </tr>\n",
       "    <tr>\n",
       "      <td>std</td>\n",
       "      <td>1.369586</td>\n",
       "      <td>1.654930</td>\n",
       "      <td>2.790516</td>\n",
       "      <td>4.905261</td>\n",
       "      <td>10.295402</td>\n",
       "      <td>2.319069</td>\n",
       "      <td>0.971843</td>\n",
       "      <td>3.003617</td>\n",
       "      <td>0.903712</td>\n",
       "      <td>39.431659</td>\n",
       "      <td>...</td>\n",
       "      <td>5.657723</td>\n",
       "      <td>50.736021</td>\n",
       "      <td>5.255655</td>\n",
       "      <td>58.843586</td>\n",
       "      <td>5.831906</td>\n",
       "      <td>37.892788</td>\n",
       "      <td>5.765617</td>\n",
       "      <td>39.207913</td>\n",
       "      <td>5.764417</td>\n",
       "      <td>37.079249</td>\n",
       "    </tr>\n",
       "    <tr>\n",
       "      <td>min</td>\n",
       "      <td>0.000000</td>\n",
       "      <td>0.000000</td>\n",
       "      <td>0.000000</td>\n",
       "      <td>0.000000</td>\n",
       "      <td>0.000000</td>\n",
       "      <td>0.000000</td>\n",
       "      <td>0.000000</td>\n",
       "      <td>0.000000</td>\n",
       "      <td>0.000000</td>\n",
       "      <td>0.003112</td>\n",
       "      <td>...</td>\n",
       "      <td>0.000000</td>\n",
       "      <td>-799.709069</td>\n",
       "      <td>0.000000</td>\n",
       "      <td>-799.889113</td>\n",
       "      <td>-0.372054</td>\n",
       "      <td>-797.142475</td>\n",
       "      <td>0.646208</td>\n",
       "      <td>-800.006180</td>\n",
       "      <td>0.195324</td>\n",
       "      <td>-809.398668</td>\n",
       "    </tr>\n",
       "    <tr>\n",
       "      <td>25%</td>\n",
       "      <td>4.211620</td>\n",
       "      <td>9.297355</td>\n",
       "      <td>7.484645</td>\n",
       "      <td>43.276111</td>\n",
       "      <td>62.545817</td>\n",
       "      <td>7.997429</td>\n",
       "      <td>1.905973</td>\n",
       "      <td>8.811324</td>\n",
       "      <td>2.368607</td>\n",
       "      <td>107.006651</td>\n",
       "      <td>...</td>\n",
       "      <td>14.990775</td>\n",
       "      <td>-500.628656</td>\n",
       "      <td>11.894558</td>\n",
       "      <td>-500.149000</td>\n",
       "      <td>11.083980</td>\n",
       "      <td>-500.363177</td>\n",
       "      <td>8.994405</td>\n",
       "      <td>-500.105994</td>\n",
       "      <td>14.989304</td>\n",
       "      <td>-500.745104</td>\n",
       "    </tr>\n",
       "    <tr>\n",
       "      <td>50%</td>\n",
       "      <td>4.994652</td>\n",
       "      <td>10.297144</td>\n",
       "      <td>8.845462</td>\n",
       "      <td>44.872436</td>\n",
       "      <td>67.432775</td>\n",
       "      <td>9.480270</td>\n",
       "      <td>2.592022</td>\n",
       "      <td>10.514621</td>\n",
       "      <td>2.851025</td>\n",
       "      <td>133.018328</td>\n",
       "      <td>...</td>\n",
       "      <td>20.001789</td>\n",
       "      <td>-499.681450</td>\n",
       "      <td>14.975536</td>\n",
       "      <td>-499.388738</td>\n",
       "      <td>17.932223</td>\n",
       "      <td>-499.702452</td>\n",
       "      <td>11.997547</td>\n",
       "      <td>-499.914556</td>\n",
       "      <td>19.984175</td>\n",
       "      <td>-500.061431</td>\n",
       "    </tr>\n",
       "    <tr>\n",
       "      <td>75%</td>\n",
       "      <td>5.859540</td>\n",
       "      <td>11.170603</td>\n",
       "      <td>10.487508</td>\n",
       "      <td>46.166425</td>\n",
       "      <td>72.346428</td>\n",
       "      <td>11.003707</td>\n",
       "      <td>3.241723</td>\n",
       "      <td>11.933009</td>\n",
       "      <td>3.434764</td>\n",
       "      <td>159.825396</td>\n",
       "      <td>...</td>\n",
       "      <td>24.990826</td>\n",
       "      <td>-477.472413</td>\n",
       "      <td>20.059375</td>\n",
       "      <td>-400.039008</td>\n",
       "      <td>21.346550</td>\n",
       "      <td>-487.712108</td>\n",
       "      <td>17.982903</td>\n",
       "      <td>-453.186936</td>\n",
       "      <td>24.991623</td>\n",
       "      <td>-499.536466</td>\n",
       "    </tr>\n",
       "    <tr>\n",
       "      <td>max</td>\n",
       "      <td>16.001945</td>\n",
       "      <td>17.031899</td>\n",
       "      <td>18.124851</td>\n",
       "      <td>52.756638</td>\n",
       "      <td>100.000000</td>\n",
       "      <td>19.552149</td>\n",
       "      <td>5.639565</td>\n",
       "      <td>22.317730</td>\n",
       "      <td>8.197408</td>\n",
       "      <td>250.127834</td>\n",
       "      <td>...</td>\n",
       "      <td>30.115735</td>\n",
       "      <td>-245.239184</td>\n",
       "      <td>24.007913</td>\n",
       "      <td>-145.071088</td>\n",
       "      <td>43.709931</td>\n",
       "      <td>-275.073125</td>\n",
       "      <td>27.926001</td>\n",
       "      <td>-157.396071</td>\n",
       "      <td>32.188906</td>\n",
       "      <td>-104.427459</td>\n",
       "    </tr>\n",
       "  </tbody>\n",
       "</table>\n",
       "<p>8 rows × 86 columns</p>\n",
       "</div>"
      ],
      "text/plain": [
       "       final.output.concentrate_ag  final.output.concentrate_pb  \\\n",
       "count                 14148.000000                 14148.000000   \n",
       "mean                      5.142034                    10.132960   \n",
       "std                       1.369586                     1.654930   \n",
       "min                       0.000000                     0.000000   \n",
       "25%                       4.211620                     9.297355   \n",
       "50%                       4.994652                    10.297144   \n",
       "75%                       5.859540                    11.170603   \n",
       "max                      16.001945                    17.031899   \n",
       "\n",
       "       final.output.concentrate_sol  final.output.concentrate_au  \\\n",
       "count                  13938.000000                 14149.000000   \n",
       "mean                       9.202849                    44.003792   \n",
       "std                        2.790516                     4.905261   \n",
       "min                        0.000000                     0.000000   \n",
       "25%                        7.484645                    43.276111   \n",
       "50%                        8.845462                    44.872436   \n",
       "75%                       10.487508                    46.166425   \n",
       "max                       18.124851                    52.756638   \n",
       "\n",
       "       final.output.recovery  final.output.tail_ag  final.output.tail_pb  \\\n",
       "count           14149.000000          14149.000000          14049.000000   \n",
       "mean               66.518832              9.607035              2.597298   \n",
       "std                10.295402              2.319069              0.971843   \n",
       "min                 0.000000              0.000000              0.000000   \n",
       "25%                62.545817              7.997429              1.905973   \n",
       "50%                67.432775              9.480270              2.592022   \n",
       "75%                72.346428             11.003707              3.241723   \n",
       "max               100.000000             19.552149              5.639565   \n",
       "\n",
       "       final.output.tail_sol  final.output.tail_au  \\\n",
       "count           14144.000000          14149.000000   \n",
       "mean               10.512122              2.918421   \n",
       "std                 3.003617              0.903712   \n",
       "min                 0.000000              0.000000   \n",
       "25%                 8.811324              2.368607   \n",
       "50%                10.514621              2.851025   \n",
       "75%                11.933009              3.434764   \n",
       "max                22.317730              8.197408   \n",
       "\n",
       "       primary_cleaner.input.sulfate  ...  \\\n",
       "count                   14129.000000  ...   \n",
       "mean                      133.320659  ...   \n",
       "std                        39.431659  ...   \n",
       "min                         0.003112  ...   \n",
       "25%                       107.006651  ...   \n",
       "50%                       133.018328  ...   \n",
       "75%                       159.825396  ...   \n",
       "max                       250.127834  ...   \n",
       "\n",
       "       secondary_cleaner.state.floatbank4_a_air  \\\n",
       "count                              14143.000000   \n",
       "mean                                  19.985454   \n",
       "std                                    5.657723   \n",
       "min                                    0.000000   \n",
       "25%                                   14.990775   \n",
       "50%                                   20.001789   \n",
       "75%                                   24.990826   \n",
       "max                                   30.115735   \n",
       "\n",
       "       secondary_cleaner.state.floatbank4_a_level  \\\n",
       "count                                14148.000000   \n",
       "mean                                  -478.696836   \n",
       "std                                     50.736021   \n",
       "min                                   -799.709069   \n",
       "25%                                   -500.628656   \n",
       "50%                                   -499.681450   \n",
       "75%                                   -477.472413   \n",
       "max                                   -245.239184   \n",
       "\n",
       "       secondary_cleaner.state.floatbank4_b_air  \\\n",
       "count                              14148.000000   \n",
       "mean                                  15.487065   \n",
       "std                                    5.255655   \n",
       "min                                    0.000000   \n",
       "25%                                   11.894558   \n",
       "50%                                   14.975536   \n",
       "75%                                   20.059375   \n",
       "max                                   24.007913   \n",
       "\n",
       "       secondary_cleaner.state.floatbank4_b_level  \\\n",
       "count                                14148.000000   \n",
       "mean                                  -460.229416   \n",
       "std                                     58.843586   \n",
       "min                                   -799.889113   \n",
       "25%                                   -500.149000   \n",
       "50%                                   -499.388738   \n",
       "75%                                   -400.039008   \n",
       "max                                   -145.071088   \n",
       "\n",
       "       secondary_cleaner.state.floatbank5_a_air  \\\n",
       "count                              14148.000000   \n",
       "mean                                  16.775136   \n",
       "std                                    5.831906   \n",
       "min                                   -0.372054   \n",
       "25%                                   11.083980   \n",
       "50%                                   17.932223   \n",
       "75%                                   21.346550   \n",
       "max                                   43.709931   \n",
       "\n",
       "       secondary_cleaner.state.floatbank5_a_level  \\\n",
       "count                                14148.000000   \n",
       "mean                                  -483.956022   \n",
       "std                                     37.892788   \n",
       "min                                   -797.142475   \n",
       "25%                                   -500.363177   \n",
       "50%                                   -499.702452   \n",
       "75%                                   -487.712108   \n",
       "max                                   -275.073125   \n",
       "\n",
       "       secondary_cleaner.state.floatbank5_b_air  \\\n",
       "count                              14148.000000   \n",
       "mean                                  13.064590   \n",
       "std                                    5.765617   \n",
       "min                                    0.646208   \n",
       "25%                                    8.994405   \n",
       "50%                                   11.997547   \n",
       "75%                                   17.982903   \n",
       "max                                   27.926001   \n",
       "\n",
       "       secondary_cleaner.state.floatbank5_b_level  \\\n",
       "count                                14148.000000   \n",
       "mean                                  -483.966564   \n",
       "std                                     39.207913   \n",
       "min                                   -800.006180   \n",
       "25%                                   -500.105994   \n",
       "50%                                   -499.914556   \n",
       "75%                                   -453.186936   \n",
       "max                                   -157.396071   \n",
       "\n",
       "       secondary_cleaner.state.floatbank6_a_air  \\\n",
       "count                              14147.000000   \n",
       "mean                                  19.577539   \n",
       "std                                    5.764417   \n",
       "min                                    0.195324   \n",
       "25%                                   14.989304   \n",
       "50%                                   19.984175   \n",
       "75%                                   24.991623   \n",
       "max                                   32.188906   \n",
       "\n",
       "       secondary_cleaner.state.floatbank6_a_level  \n",
       "count                                14148.000000  \n",
       "mean                                  -506.798480  \n",
       "std                                     37.079249  \n",
       "min                                   -809.398668  \n",
       "25%                                   -500.745104  \n",
       "50%                                   -500.061431  \n",
       "75%                                   -499.536466  \n",
       "max                                   -104.427459  \n",
       "\n",
       "[8 rows x 86 columns]"
      ]
     },
     "metadata": {},
     "output_type": "display_data"
    },
    {
     "name": "stdout",
     "output_type": "stream",
     "text": [
      "<class 'pandas.core.frame.DataFrame'>\n",
      "RangeIndex: 14149 entries, 0 to 14148\n",
      "Data columns (total 87 columns):\n",
      "date                                                  14149 non-null object\n",
      "final.output.concentrate_ag                           14148 non-null float64\n",
      "final.output.concentrate_pb                           14148 non-null float64\n",
      "final.output.concentrate_sol                          13938 non-null float64\n",
      "final.output.concentrate_au                           14149 non-null float64\n",
      "final.output.recovery                                 14149 non-null float64\n",
      "final.output.tail_ag                                  14149 non-null float64\n",
      "final.output.tail_pb                                  14049 non-null float64\n",
      "final.output.tail_sol                                 14144 non-null float64\n",
      "final.output.tail_au                                  14149 non-null float64\n",
      "primary_cleaner.input.sulfate                         14129 non-null float64\n",
      "primary_cleaner.input.depressant                      14117 non-null float64\n",
      "primary_cleaner.input.feed_size                       14149 non-null float64\n",
      "primary_cleaner.input.xanthate                        14049 non-null float64\n",
      "primary_cleaner.output.concentrate_ag                 14149 non-null float64\n",
      "primary_cleaner.output.concentrate_pb                 14063 non-null float64\n",
      "primary_cleaner.output.concentrate_sol                13863 non-null float64\n",
      "primary_cleaner.output.concentrate_au                 14149 non-null float64\n",
      "primary_cleaner.output.tail_ag                        14148 non-null float64\n",
      "primary_cleaner.output.tail_pb                        14134 non-null float64\n",
      "primary_cleaner.output.tail_sol                       14103 non-null float64\n",
      "primary_cleaner.output.tail_au                        14149 non-null float64\n",
      "primary_cleaner.state.floatbank8_a_air                14145 non-null float64\n",
      "primary_cleaner.state.floatbank8_a_level              14148 non-null float64\n",
      "primary_cleaner.state.floatbank8_b_air                14145 non-null float64\n",
      "primary_cleaner.state.floatbank8_b_level              14148 non-null float64\n",
      "primary_cleaner.state.floatbank8_c_air                14147 non-null float64\n",
      "primary_cleaner.state.floatbank8_c_level              14148 non-null float64\n",
      "primary_cleaner.state.floatbank8_d_air                14146 non-null float64\n",
      "primary_cleaner.state.floatbank8_d_level              14148 non-null float64\n",
      "rougher.calculation.sulfate_to_au_concentrate         14148 non-null float64\n",
      "rougher.calculation.floatbank10_sulfate_to_au_feed    14148 non-null float64\n",
      "rougher.calculation.floatbank11_sulfate_to_au_feed    14148 non-null float64\n",
      "rougher.calculation.au_pb_ratio                       14149 non-null float64\n",
      "rougher.input.feed_ag                                 14149 non-null float64\n",
      "rougher.input.feed_pb                                 14049 non-null float64\n",
      "rougher.input.feed_rate                               14141 non-null float64\n",
      "rougher.input.feed_size                               14005 non-null float64\n",
      "rougher.input.feed_sol                                14071 non-null float64\n",
      "rougher.input.feed_au                                 14149 non-null float64\n",
      "rougher.input.floatbank10_sulfate                     14120 non-null float64\n",
      "rougher.input.floatbank10_xanthate                    14141 non-null float64\n",
      "rougher.input.floatbank11_sulfate                     14113 non-null float64\n",
      "rougher.input.floatbank11_xanthate                    13721 non-null float64\n",
      "rougher.output.concentrate_ag                         14149 non-null float64\n",
      "rougher.output.concentrate_pb                         14149 non-null float64\n",
      "rougher.output.concentrate_sol                        14127 non-null float64\n",
      "rougher.output.concentrate_au                         14149 non-null float64\n",
      "rougher.output.recovery                               14149 non-null float64\n",
      "rougher.output.tail_ag                                14148 non-null float64\n",
      "rougher.output.tail_pb                                14149 non-null float64\n",
      "rougher.output.tail_sol                               14149 non-null float64\n",
      "rougher.output.tail_au                                14149 non-null float64\n",
      "rougher.state.floatbank10_a_air                       14148 non-null float64\n",
      "rougher.state.floatbank10_a_level                     14148 non-null float64\n",
      "rougher.state.floatbank10_b_air                       14148 non-null float64\n",
      "rougher.state.floatbank10_b_level                     14148 non-null float64\n",
      "rougher.state.floatbank10_c_air                       14148 non-null float64\n",
      "rougher.state.floatbank10_c_level                     14148 non-null float64\n",
      "rougher.state.floatbank10_d_air                       14149 non-null float64\n",
      "rougher.state.floatbank10_d_level                     14149 non-null float64\n",
      "rougher.state.floatbank10_e_air                       13713 non-null float64\n",
      "rougher.state.floatbank10_e_level                     14149 non-null float64\n",
      "rougher.state.floatbank10_f_air                       14149 non-null float64\n",
      "rougher.state.floatbank10_f_level                     14149 non-null float64\n",
      "secondary_cleaner.output.tail_ag                      14147 non-null float64\n",
      "secondary_cleaner.output.tail_pb                      14139 non-null float64\n",
      "secondary_cleaner.output.tail_sol                     12544 non-null float64\n",
      "secondary_cleaner.output.tail_au                      14149 non-null float64\n",
      "secondary_cleaner.state.floatbank2_a_air              13932 non-null float64\n",
      "secondary_cleaner.state.floatbank2_a_level            14148 non-null float64\n",
      "secondary_cleaner.state.floatbank2_b_air              14128 non-null float64\n",
      "secondary_cleaner.state.floatbank2_b_level            14148 non-null float64\n",
      "secondary_cleaner.state.floatbank3_a_air              14145 non-null float64\n",
      "secondary_cleaner.state.floatbank3_a_level            14148 non-null float64\n",
      "secondary_cleaner.state.floatbank3_b_air              14148 non-null float64\n",
      "secondary_cleaner.state.floatbank3_b_level            14148 non-null float64\n",
      "secondary_cleaner.state.floatbank4_a_air              14143 non-null float64\n",
      "secondary_cleaner.state.floatbank4_a_level            14148 non-null float64\n",
      "secondary_cleaner.state.floatbank4_b_air              14148 non-null float64\n",
      "secondary_cleaner.state.floatbank4_b_level            14148 non-null float64\n",
      "secondary_cleaner.state.floatbank5_a_air              14148 non-null float64\n",
      "secondary_cleaner.state.floatbank5_a_level            14148 non-null float64\n",
      "secondary_cleaner.state.floatbank5_b_air              14148 non-null float64\n",
      "secondary_cleaner.state.floatbank5_b_level            14148 non-null float64\n",
      "secondary_cleaner.state.floatbank6_a_air              14147 non-null float64\n",
      "secondary_cleaner.state.floatbank6_a_level            14148 non-null float64\n",
      "dtypes: float64(86), object(1)\n",
      "memory usage: 9.4+ MB\n"
     ]
    }
   ],
   "source": [
    "explanations(df_train)"
   ]
  },
  {
   "cell_type": "code",
   "execution_count": 6,
   "metadata": {},
   "outputs": [
    {
     "data": {
      "text/html": [
       "<div>\n",
       "<style scoped>\n",
       "    .dataframe tbody tr th:only-of-type {\n",
       "        vertical-align: middle;\n",
       "    }\n",
       "\n",
       "    .dataframe tbody tr th {\n",
       "        vertical-align: top;\n",
       "    }\n",
       "\n",
       "    .dataframe thead th {\n",
       "        text-align: right;\n",
       "    }\n",
       "</style>\n",
       "<table border=\"1\" class=\"dataframe\">\n",
       "  <thead>\n",
       "    <tr style=\"text-align: right;\">\n",
       "      <th></th>\n",
       "      <th>date</th>\n",
       "      <th>primary_cleaner.input.sulfate</th>\n",
       "      <th>primary_cleaner.input.depressant</th>\n",
       "      <th>primary_cleaner.input.feed_size</th>\n",
       "      <th>primary_cleaner.input.xanthate</th>\n",
       "      <th>primary_cleaner.state.floatbank8_a_air</th>\n",
       "      <th>primary_cleaner.state.floatbank8_a_level</th>\n",
       "      <th>primary_cleaner.state.floatbank8_b_air</th>\n",
       "      <th>primary_cleaner.state.floatbank8_b_level</th>\n",
       "      <th>primary_cleaner.state.floatbank8_c_air</th>\n",
       "      <th>...</th>\n",
       "      <th>secondary_cleaner.state.floatbank4_a_air</th>\n",
       "      <th>secondary_cleaner.state.floatbank4_a_level</th>\n",
       "      <th>secondary_cleaner.state.floatbank4_b_air</th>\n",
       "      <th>secondary_cleaner.state.floatbank4_b_level</th>\n",
       "      <th>secondary_cleaner.state.floatbank5_a_air</th>\n",
       "      <th>secondary_cleaner.state.floatbank5_a_level</th>\n",
       "      <th>secondary_cleaner.state.floatbank5_b_air</th>\n",
       "      <th>secondary_cleaner.state.floatbank5_b_level</th>\n",
       "      <th>secondary_cleaner.state.floatbank6_a_air</th>\n",
       "      <th>secondary_cleaner.state.floatbank6_a_level</th>\n",
       "    </tr>\n",
       "  </thead>\n",
       "  <tbody>\n",
       "    <tr>\n",
       "      <td>0</td>\n",
       "      <td>2016-09-01 00:59:59</td>\n",
       "      <td>210.800909</td>\n",
       "      <td>14.993118</td>\n",
       "      <td>8.080000</td>\n",
       "      <td>1.005021</td>\n",
       "      <td>1398.981301</td>\n",
       "      <td>-500.225577</td>\n",
       "      <td>1399.144926</td>\n",
       "      <td>-499.919735</td>\n",
       "      <td>1400.102998</td>\n",
       "      <td>...</td>\n",
       "      <td>12.023554</td>\n",
       "      <td>-497.795834</td>\n",
       "      <td>8.016656</td>\n",
       "      <td>-501.289139</td>\n",
       "      <td>7.946562</td>\n",
       "      <td>-432.317850</td>\n",
       "      <td>4.872511</td>\n",
       "      <td>-500.037437</td>\n",
       "      <td>26.705889</td>\n",
       "      <td>-499.709414</td>\n",
       "    </tr>\n",
       "    <tr>\n",
       "      <td>1</td>\n",
       "      <td>2016-09-01 01:59:59</td>\n",
       "      <td>215.392455</td>\n",
       "      <td>14.987471</td>\n",
       "      <td>8.080000</td>\n",
       "      <td>0.990469</td>\n",
       "      <td>1398.777912</td>\n",
       "      <td>-500.057435</td>\n",
       "      <td>1398.055362</td>\n",
       "      <td>-499.778182</td>\n",
       "      <td>1396.151033</td>\n",
       "      <td>...</td>\n",
       "      <td>12.058140</td>\n",
       "      <td>-498.695773</td>\n",
       "      <td>8.130979</td>\n",
       "      <td>-499.634209</td>\n",
       "      <td>7.958270</td>\n",
       "      <td>-525.839648</td>\n",
       "      <td>4.878850</td>\n",
       "      <td>-500.162375</td>\n",
       "      <td>25.019940</td>\n",
       "      <td>-499.819438</td>\n",
       "    </tr>\n",
       "    <tr>\n",
       "      <td>2</td>\n",
       "      <td>2016-09-01 02:59:59</td>\n",
       "      <td>215.259946</td>\n",
       "      <td>12.884934</td>\n",
       "      <td>7.786667</td>\n",
       "      <td>0.996043</td>\n",
       "      <td>1398.493666</td>\n",
       "      <td>-500.868360</td>\n",
       "      <td>1398.860436</td>\n",
       "      <td>-499.764529</td>\n",
       "      <td>1398.075709</td>\n",
       "      <td>...</td>\n",
       "      <td>11.962366</td>\n",
       "      <td>-498.767484</td>\n",
       "      <td>8.096893</td>\n",
       "      <td>-500.827423</td>\n",
       "      <td>8.071056</td>\n",
       "      <td>-500.801673</td>\n",
       "      <td>4.905125</td>\n",
       "      <td>-499.828510</td>\n",
       "      <td>24.994862</td>\n",
       "      <td>-500.622559</td>\n",
       "    </tr>\n",
       "    <tr>\n",
       "      <td>3</td>\n",
       "      <td>2016-09-01 03:59:59</td>\n",
       "      <td>215.336236</td>\n",
       "      <td>12.006805</td>\n",
       "      <td>7.640000</td>\n",
       "      <td>0.863514</td>\n",
       "      <td>1399.618111</td>\n",
       "      <td>-498.863574</td>\n",
       "      <td>1397.440120</td>\n",
       "      <td>-499.211024</td>\n",
       "      <td>1400.129303</td>\n",
       "      <td>...</td>\n",
       "      <td>12.033091</td>\n",
       "      <td>-498.350935</td>\n",
       "      <td>8.074946</td>\n",
       "      <td>-499.474407</td>\n",
       "      <td>7.897085</td>\n",
       "      <td>-500.868509</td>\n",
       "      <td>4.931400</td>\n",
       "      <td>-499.963623</td>\n",
       "      <td>24.948919</td>\n",
       "      <td>-498.709987</td>\n",
       "    </tr>\n",
       "    <tr>\n",
       "      <td>4</td>\n",
       "      <td>2016-09-01 04:59:59</td>\n",
       "      <td>199.099327</td>\n",
       "      <td>10.682530</td>\n",
       "      <td>7.530000</td>\n",
       "      <td>0.805575</td>\n",
       "      <td>1401.268123</td>\n",
       "      <td>-500.808305</td>\n",
       "      <td>1398.128818</td>\n",
       "      <td>-499.504543</td>\n",
       "      <td>1402.172226</td>\n",
       "      <td>...</td>\n",
       "      <td>12.025367</td>\n",
       "      <td>-500.786497</td>\n",
       "      <td>8.054678</td>\n",
       "      <td>-500.397500</td>\n",
       "      <td>8.107890</td>\n",
       "      <td>-509.526725</td>\n",
       "      <td>4.957674</td>\n",
       "      <td>-500.360026</td>\n",
       "      <td>25.003331</td>\n",
       "      <td>-500.856333</td>\n",
       "    </tr>\n",
       "  </tbody>\n",
       "</table>\n",
       "<p>5 rows × 53 columns</p>\n",
       "</div>"
      ],
      "text/plain": [
       "                  date  primary_cleaner.input.sulfate  \\\n",
       "0  2016-09-01 00:59:59                     210.800909   \n",
       "1  2016-09-01 01:59:59                     215.392455   \n",
       "2  2016-09-01 02:59:59                     215.259946   \n",
       "3  2016-09-01 03:59:59                     215.336236   \n",
       "4  2016-09-01 04:59:59                     199.099327   \n",
       "\n",
       "   primary_cleaner.input.depressant  primary_cleaner.input.feed_size  \\\n",
       "0                         14.993118                         8.080000   \n",
       "1                         14.987471                         8.080000   \n",
       "2                         12.884934                         7.786667   \n",
       "3                         12.006805                         7.640000   \n",
       "4                         10.682530                         7.530000   \n",
       "\n",
       "   primary_cleaner.input.xanthate  primary_cleaner.state.floatbank8_a_air  \\\n",
       "0                        1.005021                             1398.981301   \n",
       "1                        0.990469                             1398.777912   \n",
       "2                        0.996043                             1398.493666   \n",
       "3                        0.863514                             1399.618111   \n",
       "4                        0.805575                             1401.268123   \n",
       "\n",
       "   primary_cleaner.state.floatbank8_a_level  \\\n",
       "0                               -500.225577   \n",
       "1                               -500.057435   \n",
       "2                               -500.868360   \n",
       "3                               -498.863574   \n",
       "4                               -500.808305   \n",
       "\n",
       "   primary_cleaner.state.floatbank8_b_air  \\\n",
       "0                             1399.144926   \n",
       "1                             1398.055362   \n",
       "2                             1398.860436   \n",
       "3                             1397.440120   \n",
       "4                             1398.128818   \n",
       "\n",
       "   primary_cleaner.state.floatbank8_b_level  \\\n",
       "0                               -499.919735   \n",
       "1                               -499.778182   \n",
       "2                               -499.764529   \n",
       "3                               -499.211024   \n",
       "4                               -499.504543   \n",
       "\n",
       "   primary_cleaner.state.floatbank8_c_air  ...  \\\n",
       "0                             1400.102998  ...   \n",
       "1                             1396.151033  ...   \n",
       "2                             1398.075709  ...   \n",
       "3                             1400.129303  ...   \n",
       "4                             1402.172226  ...   \n",
       "\n",
       "   secondary_cleaner.state.floatbank4_a_air  \\\n",
       "0                                 12.023554   \n",
       "1                                 12.058140   \n",
       "2                                 11.962366   \n",
       "3                                 12.033091   \n",
       "4                                 12.025367   \n",
       "\n",
       "   secondary_cleaner.state.floatbank4_a_level  \\\n",
       "0                                 -497.795834   \n",
       "1                                 -498.695773   \n",
       "2                                 -498.767484   \n",
       "3                                 -498.350935   \n",
       "4                                 -500.786497   \n",
       "\n",
       "   secondary_cleaner.state.floatbank4_b_air  \\\n",
       "0                                  8.016656   \n",
       "1                                  8.130979   \n",
       "2                                  8.096893   \n",
       "3                                  8.074946   \n",
       "4                                  8.054678   \n",
       "\n",
       "   secondary_cleaner.state.floatbank4_b_level  \\\n",
       "0                                 -501.289139   \n",
       "1                                 -499.634209   \n",
       "2                                 -500.827423   \n",
       "3                                 -499.474407   \n",
       "4                                 -500.397500   \n",
       "\n",
       "   secondary_cleaner.state.floatbank5_a_air  \\\n",
       "0                                  7.946562   \n",
       "1                                  7.958270   \n",
       "2                                  8.071056   \n",
       "3                                  7.897085   \n",
       "4                                  8.107890   \n",
       "\n",
       "   secondary_cleaner.state.floatbank5_a_level  \\\n",
       "0                                 -432.317850   \n",
       "1                                 -525.839648   \n",
       "2                                 -500.801673   \n",
       "3                                 -500.868509   \n",
       "4                                 -509.526725   \n",
       "\n",
       "   secondary_cleaner.state.floatbank5_b_air  \\\n",
       "0                                  4.872511   \n",
       "1                                  4.878850   \n",
       "2                                  4.905125   \n",
       "3                                  4.931400   \n",
       "4                                  4.957674   \n",
       "\n",
       "   secondary_cleaner.state.floatbank5_b_level  \\\n",
       "0                                 -500.037437   \n",
       "1                                 -500.162375   \n",
       "2                                 -499.828510   \n",
       "3                                 -499.963623   \n",
       "4                                 -500.360026   \n",
       "\n",
       "   secondary_cleaner.state.floatbank6_a_air  \\\n",
       "0                                 26.705889   \n",
       "1                                 25.019940   \n",
       "2                                 24.994862   \n",
       "3                                 24.948919   \n",
       "4                                 25.003331   \n",
       "\n",
       "   secondary_cleaner.state.floatbank6_a_level  \n",
       "0                                 -499.709414  \n",
       "1                                 -499.819438  \n",
       "2                                 -500.622559  \n",
       "3                                 -498.709987  \n",
       "4                                 -500.856333  \n",
       "\n",
       "[5 rows x 53 columns]"
      ]
     },
     "metadata": {},
     "output_type": "display_data"
    },
    {
     "name": "stdout",
     "output_type": "stream",
     "text": [
      "Всего пропусков: 0.0003210043870599565\n",
      "Всего дубликатов: 0\n"
     ]
    },
    {
     "data": {
      "text/html": [
       "<div>\n",
       "<style scoped>\n",
       "    .dataframe tbody tr th:only-of-type {\n",
       "        vertical-align: middle;\n",
       "    }\n",
       "\n",
       "    .dataframe tbody tr th {\n",
       "        vertical-align: top;\n",
       "    }\n",
       "\n",
       "    .dataframe thead th {\n",
       "        text-align: right;\n",
       "    }\n",
       "</style>\n",
       "<table border=\"1\" class=\"dataframe\">\n",
       "  <thead>\n",
       "    <tr style=\"text-align: right;\">\n",
       "      <th></th>\n",
       "      <th>primary_cleaner.input.sulfate</th>\n",
       "      <th>primary_cleaner.input.depressant</th>\n",
       "      <th>primary_cleaner.input.feed_size</th>\n",
       "      <th>primary_cleaner.input.xanthate</th>\n",
       "      <th>primary_cleaner.state.floatbank8_a_air</th>\n",
       "      <th>primary_cleaner.state.floatbank8_a_level</th>\n",
       "      <th>primary_cleaner.state.floatbank8_b_air</th>\n",
       "      <th>primary_cleaner.state.floatbank8_b_level</th>\n",
       "      <th>primary_cleaner.state.floatbank8_c_air</th>\n",
       "      <th>primary_cleaner.state.floatbank8_c_level</th>\n",
       "      <th>...</th>\n",
       "      <th>secondary_cleaner.state.floatbank4_a_air</th>\n",
       "      <th>secondary_cleaner.state.floatbank4_a_level</th>\n",
       "      <th>secondary_cleaner.state.floatbank4_b_air</th>\n",
       "      <th>secondary_cleaner.state.floatbank4_b_level</th>\n",
       "      <th>secondary_cleaner.state.floatbank5_a_air</th>\n",
       "      <th>secondary_cleaner.state.floatbank5_a_level</th>\n",
       "      <th>secondary_cleaner.state.floatbank5_b_air</th>\n",
       "      <th>secondary_cleaner.state.floatbank5_b_level</th>\n",
       "      <th>secondary_cleaner.state.floatbank6_a_air</th>\n",
       "      <th>secondary_cleaner.state.floatbank6_a_level</th>\n",
       "    </tr>\n",
       "  </thead>\n",
       "  <tbody>\n",
       "    <tr>\n",
       "      <td>count</td>\n",
       "      <td>5286.000000</td>\n",
       "      <td>5285.000000</td>\n",
       "      <td>5290.000000</td>\n",
       "      <td>5286.000000</td>\n",
       "      <td>5.290000e+03</td>\n",
       "      <td>5290.000000</td>\n",
       "      <td>5.290000e+03</td>\n",
       "      <td>5290.000000</td>\n",
       "      <td>5.290000e+03</td>\n",
       "      <td>5290.000000</td>\n",
       "      <td>...</td>\n",
       "      <td>5.290000e+03</td>\n",
       "      <td>5290.000000</td>\n",
       "      <td>5.290000e+03</td>\n",
       "      <td>5290.000000</td>\n",
       "      <td>5290.000000</td>\n",
       "      <td>5290.000000</td>\n",
       "      <td>5290.000000</td>\n",
       "      <td>5290.000000</td>\n",
       "      <td>5290.000000</td>\n",
       "      <td>5290.000000</td>\n",
       "    </tr>\n",
       "    <tr>\n",
       "      <td>mean</td>\n",
       "      <td>174.839652</td>\n",
       "      <td>8.683596</td>\n",
       "      <td>7.266339</td>\n",
       "      <td>1.383803</td>\n",
       "      <td>1.539494e+03</td>\n",
       "      <td>-497.665883</td>\n",
       "      <td>1.545174e+03</td>\n",
       "      <td>-500.273098</td>\n",
       "      <td>1.527272e+03</td>\n",
       "      <td>-498.330680</td>\n",
       "      <td>...</td>\n",
       "      <td>1.632007e+01</td>\n",
       "      <td>-505.144570</td>\n",
       "      <td>1.373544e+01</td>\n",
       "      <td>-463.349858</td>\n",
       "      <td>12.804186</td>\n",
       "      <td>-501.329122</td>\n",
       "      <td>9.881145</td>\n",
       "      <td>-495.663398</td>\n",
       "      <td>17.304935</td>\n",
       "      <td>-501.793193</td>\n",
       "    </tr>\n",
       "    <tr>\n",
       "      <td>std</td>\n",
       "      <td>43.027080</td>\n",
       "      <td>3.072050</td>\n",
       "      <td>0.610219</td>\n",
       "      <td>0.643474</td>\n",
       "      <td>1.167979e+02</td>\n",
       "      <td>19.952431</td>\n",
       "      <td>1.222246e+02</td>\n",
       "      <td>32.968307</td>\n",
       "      <td>1.225380e+02</td>\n",
       "      <td>21.964876</td>\n",
       "      <td>...</td>\n",
       "      <td>3.493583e+00</td>\n",
       "      <td>31.427337</td>\n",
       "      <td>3.430484e+00</td>\n",
       "      <td>86.189107</td>\n",
       "      <td>3.026591</td>\n",
       "      <td>17.951495</td>\n",
       "      <td>2.868205</td>\n",
       "      <td>34.535007</td>\n",
       "      <td>4.536544</td>\n",
       "      <td>39.044215</td>\n",
       "    </tr>\n",
       "    <tr>\n",
       "      <td>min</td>\n",
       "      <td>2.566156</td>\n",
       "      <td>0.003839</td>\n",
       "      <td>5.650000</td>\n",
       "      <td>0.004984</td>\n",
       "      <td>5.445860e-32</td>\n",
       "      <td>-795.316337</td>\n",
       "      <td>6.647490e-32</td>\n",
       "      <td>-799.997015</td>\n",
       "      <td>4.033736e-32</td>\n",
       "      <td>-799.960571</td>\n",
       "      <td>...</td>\n",
       "      <td>1.079872e-16</td>\n",
       "      <td>-799.798523</td>\n",
       "      <td>2.489718e-17</td>\n",
       "      <td>-800.836914</td>\n",
       "      <td>0.069227</td>\n",
       "      <td>-797.323986</td>\n",
       "      <td>0.528083</td>\n",
       "      <td>-800.220337</td>\n",
       "      <td>-0.079426</td>\n",
       "      <td>-809.741464</td>\n",
       "    </tr>\n",
       "    <tr>\n",
       "      <td>25%</td>\n",
       "      <td>147.121401</td>\n",
       "      <td>6.489555</td>\n",
       "      <td>6.890000</td>\n",
       "      <td>0.907623</td>\n",
       "      <td>1.498936e+03</td>\n",
       "      <td>-500.357298</td>\n",
       "      <td>1.498971e+03</td>\n",
       "      <td>-500.703002</td>\n",
       "      <td>1.473230e+03</td>\n",
       "      <td>-501.018117</td>\n",
       "      <td>...</td>\n",
       "      <td>1.403618e+01</td>\n",
       "      <td>-500.868258</td>\n",
       "      <td>1.202862e+01</td>\n",
       "      <td>-500.323028</td>\n",
       "      <td>10.914838</td>\n",
       "      <td>-500.726841</td>\n",
       "      <td>8.036719</td>\n",
       "      <td>-500.194668</td>\n",
       "      <td>13.997317</td>\n",
       "      <td>-500.690984</td>\n",
       "    </tr>\n",
       "    <tr>\n",
       "      <td>50%</td>\n",
       "      <td>177.828489</td>\n",
       "      <td>8.052207</td>\n",
       "      <td>7.250000</td>\n",
       "      <td>1.197610</td>\n",
       "      <td>1.585129e+03</td>\n",
       "      <td>-499.969164</td>\n",
       "      <td>1.595622e+03</td>\n",
       "      <td>-500.028514</td>\n",
       "      <td>1.549595e+03</td>\n",
       "      <td>-500.017711</td>\n",
       "      <td>...</td>\n",
       "      <td>1.700847e+01</td>\n",
       "      <td>-500.115727</td>\n",
       "      <td>1.496486e+01</td>\n",
       "      <td>-499.576513</td>\n",
       "      <td>12.954182</td>\n",
       "      <td>-499.990332</td>\n",
       "      <td>10.004301</td>\n",
       "      <td>-499.990535</td>\n",
       "      <td>16.014935</td>\n",
       "      <td>-500.007126</td>\n",
       "    </tr>\n",
       "    <tr>\n",
       "      <td>75%</td>\n",
       "      <td>208.125438</td>\n",
       "      <td>10.027764</td>\n",
       "      <td>7.600000</td>\n",
       "      <td>1.797819</td>\n",
       "      <td>1.602077e+03</td>\n",
       "      <td>-499.568951</td>\n",
       "      <td>1.602324e+03</td>\n",
       "      <td>-499.293257</td>\n",
       "      <td>1.601144e+03</td>\n",
       "      <td>-498.994130</td>\n",
       "      <td>...</td>\n",
       "      <td>1.803862e+01</td>\n",
       "      <td>-499.404224</td>\n",
       "      <td>1.596213e+01</td>\n",
       "      <td>-400.933805</td>\n",
       "      <td>15.097528</td>\n",
       "      <td>-499.283191</td>\n",
       "      <td>11.997467</td>\n",
       "      <td>-499.719913</td>\n",
       "      <td>21.020013</td>\n",
       "      <td>-499.373018</td>\n",
       "    </tr>\n",
       "    <tr>\n",
       "      <td>max</td>\n",
       "      <td>265.983123</td>\n",
       "      <td>40.000000</td>\n",
       "      <td>15.500000</td>\n",
       "      <td>4.102454</td>\n",
       "      <td>2.103104e+03</td>\n",
       "      <td>-57.195404</td>\n",
       "      <td>1.813084e+03</td>\n",
       "      <td>-142.527229</td>\n",
       "      <td>1.715054e+03</td>\n",
       "      <td>-150.937035</td>\n",
       "      <td>...</td>\n",
       "      <td>3.005180e+01</td>\n",
       "      <td>-401.565212</td>\n",
       "      <td>3.126971e+01</td>\n",
       "      <td>-6.506986</td>\n",
       "      <td>25.258848</td>\n",
       "      <td>-244.483566</td>\n",
       "      <td>14.086866</td>\n",
       "      <td>-137.740004</td>\n",
       "      <td>26.705889</td>\n",
       "      <td>-123.307487</td>\n",
       "    </tr>\n",
       "  </tbody>\n",
       "</table>\n",
       "<p>8 rows × 52 columns</p>\n",
       "</div>"
      ],
      "text/plain": [
       "       primary_cleaner.input.sulfate  primary_cleaner.input.depressant  \\\n",
       "count                    5286.000000                       5285.000000   \n",
       "mean                      174.839652                          8.683596   \n",
       "std                        43.027080                          3.072050   \n",
       "min                         2.566156                          0.003839   \n",
       "25%                       147.121401                          6.489555   \n",
       "50%                       177.828489                          8.052207   \n",
       "75%                       208.125438                         10.027764   \n",
       "max                       265.983123                         40.000000   \n",
       "\n",
       "       primary_cleaner.input.feed_size  primary_cleaner.input.xanthate  \\\n",
       "count                      5290.000000                     5286.000000   \n",
       "mean                          7.266339                        1.383803   \n",
       "std                           0.610219                        0.643474   \n",
       "min                           5.650000                        0.004984   \n",
       "25%                           6.890000                        0.907623   \n",
       "50%                           7.250000                        1.197610   \n",
       "75%                           7.600000                        1.797819   \n",
       "max                          15.500000                        4.102454   \n",
       "\n",
       "       primary_cleaner.state.floatbank8_a_air  \\\n",
       "count                            5.290000e+03   \n",
       "mean                             1.539494e+03   \n",
       "std                              1.167979e+02   \n",
       "min                              5.445860e-32   \n",
       "25%                              1.498936e+03   \n",
       "50%                              1.585129e+03   \n",
       "75%                              1.602077e+03   \n",
       "max                              2.103104e+03   \n",
       "\n",
       "       primary_cleaner.state.floatbank8_a_level  \\\n",
       "count                               5290.000000   \n",
       "mean                                -497.665883   \n",
       "std                                   19.952431   \n",
       "min                                 -795.316337   \n",
       "25%                                 -500.357298   \n",
       "50%                                 -499.969164   \n",
       "75%                                 -499.568951   \n",
       "max                                  -57.195404   \n",
       "\n",
       "       primary_cleaner.state.floatbank8_b_air  \\\n",
       "count                            5.290000e+03   \n",
       "mean                             1.545174e+03   \n",
       "std                              1.222246e+02   \n",
       "min                              6.647490e-32   \n",
       "25%                              1.498971e+03   \n",
       "50%                              1.595622e+03   \n",
       "75%                              1.602324e+03   \n",
       "max                              1.813084e+03   \n",
       "\n",
       "       primary_cleaner.state.floatbank8_b_level  \\\n",
       "count                               5290.000000   \n",
       "mean                                -500.273098   \n",
       "std                                   32.968307   \n",
       "min                                 -799.997015   \n",
       "25%                                 -500.703002   \n",
       "50%                                 -500.028514   \n",
       "75%                                 -499.293257   \n",
       "max                                 -142.527229   \n",
       "\n",
       "       primary_cleaner.state.floatbank8_c_air  \\\n",
       "count                            5.290000e+03   \n",
       "mean                             1.527272e+03   \n",
       "std                              1.225380e+02   \n",
       "min                              4.033736e-32   \n",
       "25%                              1.473230e+03   \n",
       "50%                              1.549595e+03   \n",
       "75%                              1.601144e+03   \n",
       "max                              1.715054e+03   \n",
       "\n",
       "       primary_cleaner.state.floatbank8_c_level  ...  \\\n",
       "count                               5290.000000  ...   \n",
       "mean                                -498.330680  ...   \n",
       "std                                   21.964876  ...   \n",
       "min                                 -799.960571  ...   \n",
       "25%                                 -501.018117  ...   \n",
       "50%                                 -500.017711  ...   \n",
       "75%                                 -498.994130  ...   \n",
       "max                                 -150.937035  ...   \n",
       "\n",
       "       secondary_cleaner.state.floatbank4_a_air  \\\n",
       "count                              5.290000e+03   \n",
       "mean                               1.632007e+01   \n",
       "std                                3.493583e+00   \n",
       "min                                1.079872e-16   \n",
       "25%                                1.403618e+01   \n",
       "50%                                1.700847e+01   \n",
       "75%                                1.803862e+01   \n",
       "max                                3.005180e+01   \n",
       "\n",
       "       secondary_cleaner.state.floatbank4_a_level  \\\n",
       "count                                 5290.000000   \n",
       "mean                                  -505.144570   \n",
       "std                                     31.427337   \n",
       "min                                   -799.798523   \n",
       "25%                                   -500.868258   \n",
       "50%                                   -500.115727   \n",
       "75%                                   -499.404224   \n",
       "max                                   -401.565212   \n",
       "\n",
       "       secondary_cleaner.state.floatbank4_b_air  \\\n",
       "count                              5.290000e+03   \n",
       "mean                               1.373544e+01   \n",
       "std                                3.430484e+00   \n",
       "min                                2.489718e-17   \n",
       "25%                                1.202862e+01   \n",
       "50%                                1.496486e+01   \n",
       "75%                                1.596213e+01   \n",
       "max                                3.126971e+01   \n",
       "\n",
       "       secondary_cleaner.state.floatbank4_b_level  \\\n",
       "count                                 5290.000000   \n",
       "mean                                  -463.349858   \n",
       "std                                     86.189107   \n",
       "min                                   -800.836914   \n",
       "25%                                   -500.323028   \n",
       "50%                                   -499.576513   \n",
       "75%                                   -400.933805   \n",
       "max                                     -6.506986   \n",
       "\n",
       "       secondary_cleaner.state.floatbank5_a_air  \\\n",
       "count                               5290.000000   \n",
       "mean                                  12.804186   \n",
       "std                                    3.026591   \n",
       "min                                    0.069227   \n",
       "25%                                   10.914838   \n",
       "50%                                   12.954182   \n",
       "75%                                   15.097528   \n",
       "max                                   25.258848   \n",
       "\n",
       "       secondary_cleaner.state.floatbank5_a_level  \\\n",
       "count                                 5290.000000   \n",
       "mean                                  -501.329122   \n",
       "std                                     17.951495   \n",
       "min                                   -797.323986   \n",
       "25%                                   -500.726841   \n",
       "50%                                   -499.990332   \n",
       "75%                                   -499.283191   \n",
       "max                                   -244.483566   \n",
       "\n",
       "       secondary_cleaner.state.floatbank5_b_air  \\\n",
       "count                               5290.000000   \n",
       "mean                                   9.881145   \n",
       "std                                    2.868205   \n",
       "min                                    0.528083   \n",
       "25%                                    8.036719   \n",
       "50%                                   10.004301   \n",
       "75%                                   11.997467   \n",
       "max                                   14.086866   \n",
       "\n",
       "       secondary_cleaner.state.floatbank5_b_level  \\\n",
       "count                                 5290.000000   \n",
       "mean                                  -495.663398   \n",
       "std                                     34.535007   \n",
       "min                                   -800.220337   \n",
       "25%                                   -500.194668   \n",
       "50%                                   -499.990535   \n",
       "75%                                   -499.719913   \n",
       "max                                   -137.740004   \n",
       "\n",
       "       secondary_cleaner.state.floatbank6_a_air  \\\n",
       "count                               5290.000000   \n",
       "mean                                  17.304935   \n",
       "std                                    4.536544   \n",
       "min                                   -0.079426   \n",
       "25%                                   13.997317   \n",
       "50%                                   16.014935   \n",
       "75%                                   21.020013   \n",
       "max                                   26.705889   \n",
       "\n",
       "       secondary_cleaner.state.floatbank6_a_level  \n",
       "count                                 5290.000000  \n",
       "mean                                  -501.793193  \n",
       "std                                     39.044215  \n",
       "min                                   -809.741464  \n",
       "25%                                   -500.690984  \n",
       "50%                                   -500.007126  \n",
       "75%                                   -499.373018  \n",
       "max                                   -123.307487  \n",
       "\n",
       "[8 rows x 52 columns]"
      ]
     },
     "metadata": {},
     "output_type": "display_data"
    },
    {
     "name": "stdout",
     "output_type": "stream",
     "text": [
      "<class 'pandas.core.frame.DataFrame'>\n",
      "RangeIndex: 5290 entries, 0 to 5289\n",
      "Data columns (total 53 columns):\n",
      "date                                          5290 non-null object\n",
      "primary_cleaner.input.sulfate                 5286 non-null float64\n",
      "primary_cleaner.input.depressant              5285 non-null float64\n",
      "primary_cleaner.input.feed_size               5290 non-null float64\n",
      "primary_cleaner.input.xanthate                5286 non-null float64\n",
      "primary_cleaner.state.floatbank8_a_air        5290 non-null float64\n",
      "primary_cleaner.state.floatbank8_a_level      5290 non-null float64\n",
      "primary_cleaner.state.floatbank8_b_air        5290 non-null float64\n",
      "primary_cleaner.state.floatbank8_b_level      5290 non-null float64\n",
      "primary_cleaner.state.floatbank8_c_air        5290 non-null float64\n",
      "primary_cleaner.state.floatbank8_c_level      5290 non-null float64\n",
      "primary_cleaner.state.floatbank8_d_air        5290 non-null float64\n",
      "primary_cleaner.state.floatbank8_d_level      5290 non-null float64\n",
      "rougher.input.feed_ag                         5290 non-null float64\n",
      "rougher.input.feed_pb                         5290 non-null float64\n",
      "rougher.input.feed_rate                       5287 non-null float64\n",
      "rougher.input.feed_size                       5289 non-null float64\n",
      "rougher.input.feed_sol                        5269 non-null float64\n",
      "rougher.input.feed_au                         5290 non-null float64\n",
      "rougher.input.floatbank10_sulfate             5285 non-null float64\n",
      "rougher.input.floatbank10_xanthate            5290 non-null float64\n",
      "rougher.input.floatbank11_sulfate             5282 non-null float64\n",
      "rougher.input.floatbank11_xanthate            5265 non-null float64\n",
      "rougher.state.floatbank10_a_air               5290 non-null float64\n",
      "rougher.state.floatbank10_a_level             5290 non-null float64\n",
      "rougher.state.floatbank10_b_air               5290 non-null float64\n",
      "rougher.state.floatbank10_b_level             5290 non-null float64\n",
      "rougher.state.floatbank10_c_air               5290 non-null float64\n",
      "rougher.state.floatbank10_c_level             5290 non-null float64\n",
      "rougher.state.floatbank10_d_air               5290 non-null float64\n",
      "rougher.state.floatbank10_d_level             5290 non-null float64\n",
      "rougher.state.floatbank10_e_air               5290 non-null float64\n",
      "rougher.state.floatbank10_e_level             5290 non-null float64\n",
      "rougher.state.floatbank10_f_air               5290 non-null float64\n",
      "rougher.state.floatbank10_f_level             5290 non-null float64\n",
      "secondary_cleaner.state.floatbank2_a_air      5287 non-null float64\n",
      "secondary_cleaner.state.floatbank2_a_level    5290 non-null float64\n",
      "secondary_cleaner.state.floatbank2_b_air      5288 non-null float64\n",
      "secondary_cleaner.state.floatbank2_b_level    5290 non-null float64\n",
      "secondary_cleaner.state.floatbank3_a_air      5281 non-null float64\n",
      "secondary_cleaner.state.floatbank3_a_level    5290 non-null float64\n",
      "secondary_cleaner.state.floatbank3_b_air      5290 non-null float64\n",
      "secondary_cleaner.state.floatbank3_b_level    5290 non-null float64\n",
      "secondary_cleaner.state.floatbank4_a_air      5290 non-null float64\n",
      "secondary_cleaner.state.floatbank4_a_level    5290 non-null float64\n",
      "secondary_cleaner.state.floatbank4_b_air      5290 non-null float64\n",
      "secondary_cleaner.state.floatbank4_b_level    5290 non-null float64\n",
      "secondary_cleaner.state.floatbank5_a_air      5290 non-null float64\n",
      "secondary_cleaner.state.floatbank5_a_level    5290 non-null float64\n",
      "secondary_cleaner.state.floatbank5_b_air      5290 non-null float64\n",
      "secondary_cleaner.state.floatbank5_b_level    5290 non-null float64\n",
      "secondary_cleaner.state.floatbank6_a_air      5290 non-null float64\n",
      "secondary_cleaner.state.floatbank6_a_level    5290 non-null float64\n",
      "dtypes: float64(52), object(1)\n",
      "memory usage: 2.1+ MB\n"
     ]
    }
   ],
   "source": [
    "explanations(df_test)"
   ]
  },
  {
   "cell_type": "markdown",
   "metadata": {},
   "source": [
    "Количество столбцов в тестовой и тренировочной выборках отличаются. Необходимо будет в этом разобраться.\n",
    "\n",
    "В данных есть пропуски, однако их количество мало. \n",
    "\n",
    "Тип данных в столбце **date** - object. Впоследствии необходимо перевести его во временной формат. В остальных столбцах тип данных корректен."
   ]
  },
  {
   "cell_type": "markdown",
   "metadata": {},
   "source": [
    "### Проверка корректности расчета эффективности обогащения"
   ]
  },
  {
   "cell_type": "markdown",
   "metadata": {},
   "source": [
    "Прежде, чем приступать к исследованию, необходимо удостовериться в том, что расчет эффективности обогащения произведен корректно. Для этого на обучающей выборке рассчитаем таковую для признака **rougher.output.recovery** и найдем MAE между полученными нами значениями и значениями модели:"
   ]
  },
  {
   "cell_type": "code",
   "execution_count": 7,
   "metadata": {},
   "outputs": [
    {
     "name": "stdout",
     "output_type": "stream",
     "text": [
      "9.682896147825551e-15\n"
     ]
    }
   ],
   "source": [
    "def recovery_func(df):\n",
    "    c = df['rougher.output.concentrate_au'] #доля золота в концентрате после флотации/очистки\n",
    "    f = df['rougher.input.feed_au'] #доля золота в сырье/концентрате до флотации/очистки\n",
    "    t = df['rougher.output.tail_au'] #доля золота в отвальных хвостах после флотации/очистки\n",
    "    tabular_recovery = df['rougher.output.recovery']\n",
    "    our_recovery =  (c*(f-t))/(f*(c-t))*100\n",
    "    return mean_absolute_error(tabular_recovery, our_recovery)\n",
    "\n",
    "print(recovery_func(df_train))"
   ]
  },
  {
   "cell_type": "markdown",
   "metadata": {},
   "source": [
    "Значение MAE стремится к нулю, что свидетельствует о корректности расчета эффективного обогащения."
   ]
  },
  {
   "cell_type": "markdown",
   "metadata": {},
   "source": [
    "### Анализ признаков, недоступных в тестовой выборке"
   ]
  },
  {
   "cell_type": "code",
   "execution_count": 8,
   "metadata": {},
   "outputs": [
    {
     "name": "stdout",
     "output_type": "stream",
     "text": [
      "В тестовой выборке отсутствует 34 столбца\n"
     ]
    },
    {
     "data": {
      "text/plain": [
       "['final.output.concentrate_ag',\n",
       " 'final.output.concentrate_pb',\n",
       " 'final.output.concentrate_sol',\n",
       " 'final.output.concentrate_au',\n",
       " 'final.output.recovery',\n",
       " 'final.output.tail_ag',\n",
       " 'final.output.tail_pb',\n",
       " 'final.output.tail_sol',\n",
       " 'final.output.tail_au',\n",
       " 'primary_cleaner.output.concentrate_ag',\n",
       " 'primary_cleaner.output.concentrate_pb',\n",
       " 'primary_cleaner.output.concentrate_sol',\n",
       " 'primary_cleaner.output.concentrate_au',\n",
       " 'primary_cleaner.output.tail_ag',\n",
       " 'primary_cleaner.output.tail_pb',\n",
       " 'primary_cleaner.output.tail_sol',\n",
       " 'primary_cleaner.output.tail_au',\n",
       " 'rougher.calculation.sulfate_to_au_concentrate',\n",
       " 'rougher.calculation.floatbank10_sulfate_to_au_feed',\n",
       " 'rougher.calculation.floatbank11_sulfate_to_au_feed',\n",
       " 'rougher.calculation.au_pb_ratio',\n",
       " 'rougher.output.concentrate_ag',\n",
       " 'rougher.output.concentrate_pb',\n",
       " 'rougher.output.concentrate_sol',\n",
       " 'rougher.output.concentrate_au',\n",
       " 'rougher.output.recovery',\n",
       " 'rougher.output.tail_ag',\n",
       " 'rougher.output.tail_pb',\n",
       " 'rougher.output.tail_sol',\n",
       " 'rougher.output.tail_au',\n",
       " 'secondary_cleaner.output.tail_ag',\n",
       " 'secondary_cleaner.output.tail_pb',\n",
       " 'secondary_cleaner.output.tail_sol',\n",
       " 'secondary_cleaner.output.tail_au']"
      ]
     },
     "execution_count": 8,
     "metadata": {},
     "output_type": "execute_result"
    }
   ],
   "source": [
    "def diffence(df1,df2):\n",
    "    columns = []\n",
    "    for column in df1.columns:\n",
    "        if column not in df2.columns:\n",
    "            columns.append(column)\n",
    "    print(f'В тестовой выборке отсутствует {len(columns)} столбца')\n",
    "    return columns\n",
    "\n",
    "diffence(df_full,df_test)"
   ]
  },
  {
   "cell_type": "markdown",
   "metadata": {},
   "source": [
    "* В тестовой выборке нет признаков, относящихся к параметрам продукта (rougher).\n",
    "* Также для этапа rougher отсутствует параметры calculation: возможно, они не доступны изначально и рассчитываются позже.\n",
    "* Для этапов rougher и final отсутствуют целевые признаки - **output.recovery**, которые нам необходимо добавить к тестовой выборке"
   ]
  },
  {
   "cell_type": "code",
   "execution_count": 9,
   "metadata": {},
   "outputs": [
    {
     "data": {
      "text/html": [
       "<div>\n",
       "<style scoped>\n",
       "    .dataframe tbody tr th:only-of-type {\n",
       "        vertical-align: middle;\n",
       "    }\n",
       "\n",
       "    .dataframe tbody tr th {\n",
       "        vertical-align: top;\n",
       "    }\n",
       "\n",
       "    .dataframe thead th {\n",
       "        text-align: right;\n",
       "    }\n",
       "</style>\n",
       "<table border=\"1\" class=\"dataframe\">\n",
       "  <thead>\n",
       "    <tr style=\"text-align: right;\">\n",
       "      <th></th>\n",
       "      <th>date</th>\n",
       "      <th>primary_cleaner.input.sulfate</th>\n",
       "      <th>primary_cleaner.input.depressant</th>\n",
       "      <th>primary_cleaner.input.feed_size</th>\n",
       "      <th>primary_cleaner.input.xanthate</th>\n",
       "      <th>primary_cleaner.state.floatbank8_a_air</th>\n",
       "      <th>primary_cleaner.state.floatbank8_a_level</th>\n",
       "      <th>primary_cleaner.state.floatbank8_b_air</th>\n",
       "      <th>primary_cleaner.state.floatbank8_b_level</th>\n",
       "      <th>primary_cleaner.state.floatbank8_c_air</th>\n",
       "      <th>...</th>\n",
       "      <th>secondary_cleaner.state.floatbank4_b_air</th>\n",
       "      <th>secondary_cleaner.state.floatbank4_b_level</th>\n",
       "      <th>secondary_cleaner.state.floatbank5_a_air</th>\n",
       "      <th>secondary_cleaner.state.floatbank5_a_level</th>\n",
       "      <th>secondary_cleaner.state.floatbank5_b_air</th>\n",
       "      <th>secondary_cleaner.state.floatbank5_b_level</th>\n",
       "      <th>secondary_cleaner.state.floatbank6_a_air</th>\n",
       "      <th>secondary_cleaner.state.floatbank6_a_level</th>\n",
       "      <th>final.output.recovery</th>\n",
       "      <th>rougher.output.recovery</th>\n",
       "    </tr>\n",
       "  </thead>\n",
       "  <tbody>\n",
       "    <tr>\n",
       "      <td>0</td>\n",
       "      <td>2016-09-01 00:59:59</td>\n",
       "      <td>210.800909</td>\n",
       "      <td>14.993118</td>\n",
       "      <td>8.080000</td>\n",
       "      <td>1.005021</td>\n",
       "      <td>1398.981301</td>\n",
       "      <td>-500.225577</td>\n",
       "      <td>1399.144926</td>\n",
       "      <td>-499.919735</td>\n",
       "      <td>1400.102998</td>\n",
       "      <td>...</td>\n",
       "      <td>8.016656</td>\n",
       "      <td>-501.289139</td>\n",
       "      <td>7.946562</td>\n",
       "      <td>-432.317850</td>\n",
       "      <td>4.872511</td>\n",
       "      <td>-500.037437</td>\n",
       "      <td>26.705889</td>\n",
       "      <td>-499.709414</td>\n",
       "      <td>70.273583</td>\n",
       "      <td>89.993421</td>\n",
       "    </tr>\n",
       "    <tr>\n",
       "      <td>1</td>\n",
       "      <td>2016-09-01 01:59:59</td>\n",
       "      <td>215.392455</td>\n",
       "      <td>14.987471</td>\n",
       "      <td>8.080000</td>\n",
       "      <td>0.990469</td>\n",
       "      <td>1398.777912</td>\n",
       "      <td>-500.057435</td>\n",
       "      <td>1398.055362</td>\n",
       "      <td>-499.778182</td>\n",
       "      <td>1396.151033</td>\n",
       "      <td>...</td>\n",
       "      <td>8.130979</td>\n",
       "      <td>-499.634209</td>\n",
       "      <td>7.958270</td>\n",
       "      <td>-525.839648</td>\n",
       "      <td>4.878850</td>\n",
       "      <td>-500.162375</td>\n",
       "      <td>25.019940</td>\n",
       "      <td>-499.819438</td>\n",
       "      <td>68.910432</td>\n",
       "      <td>88.089657</td>\n",
       "    </tr>\n",
       "    <tr>\n",
       "      <td>2</td>\n",
       "      <td>2016-09-01 02:59:59</td>\n",
       "      <td>215.259946</td>\n",
       "      <td>12.884934</td>\n",
       "      <td>7.786667</td>\n",
       "      <td>0.996043</td>\n",
       "      <td>1398.493666</td>\n",
       "      <td>-500.868360</td>\n",
       "      <td>1398.860436</td>\n",
       "      <td>-499.764529</td>\n",
       "      <td>1398.075709</td>\n",
       "      <td>...</td>\n",
       "      <td>8.096893</td>\n",
       "      <td>-500.827423</td>\n",
       "      <td>8.071056</td>\n",
       "      <td>-500.801673</td>\n",
       "      <td>4.905125</td>\n",
       "      <td>-499.828510</td>\n",
       "      <td>24.994862</td>\n",
       "      <td>-500.622559</td>\n",
       "      <td>68.143213</td>\n",
       "      <td>88.412756</td>\n",
       "    </tr>\n",
       "    <tr>\n",
       "      <td>3</td>\n",
       "      <td>2016-09-01 03:59:59</td>\n",
       "      <td>215.336236</td>\n",
       "      <td>12.006805</td>\n",
       "      <td>7.640000</td>\n",
       "      <td>0.863514</td>\n",
       "      <td>1399.618111</td>\n",
       "      <td>-498.863574</td>\n",
       "      <td>1397.440120</td>\n",
       "      <td>-499.211024</td>\n",
       "      <td>1400.129303</td>\n",
       "      <td>...</td>\n",
       "      <td>8.074946</td>\n",
       "      <td>-499.474407</td>\n",
       "      <td>7.897085</td>\n",
       "      <td>-500.868509</td>\n",
       "      <td>4.931400</td>\n",
       "      <td>-499.963623</td>\n",
       "      <td>24.948919</td>\n",
       "      <td>-498.709987</td>\n",
       "      <td>67.776393</td>\n",
       "      <td>87.360133</td>\n",
       "    </tr>\n",
       "    <tr>\n",
       "      <td>4</td>\n",
       "      <td>2016-09-01 04:59:59</td>\n",
       "      <td>199.099327</td>\n",
       "      <td>10.682530</td>\n",
       "      <td>7.530000</td>\n",
       "      <td>0.805575</td>\n",
       "      <td>1401.268123</td>\n",
       "      <td>-500.808305</td>\n",
       "      <td>1398.128818</td>\n",
       "      <td>-499.504543</td>\n",
       "      <td>1402.172226</td>\n",
       "      <td>...</td>\n",
       "      <td>8.054678</td>\n",
       "      <td>-500.397500</td>\n",
       "      <td>8.107890</td>\n",
       "      <td>-509.526725</td>\n",
       "      <td>4.957674</td>\n",
       "      <td>-500.360026</td>\n",
       "      <td>25.003331</td>\n",
       "      <td>-500.856333</td>\n",
       "      <td>61.467078</td>\n",
       "      <td>83.236367</td>\n",
       "    </tr>\n",
       "  </tbody>\n",
       "</table>\n",
       "<p>5 rows × 55 columns</p>\n",
       "</div>"
      ],
      "text/plain": [
       "                  date  primary_cleaner.input.sulfate  \\\n",
       "0  2016-09-01 00:59:59                     210.800909   \n",
       "1  2016-09-01 01:59:59                     215.392455   \n",
       "2  2016-09-01 02:59:59                     215.259946   \n",
       "3  2016-09-01 03:59:59                     215.336236   \n",
       "4  2016-09-01 04:59:59                     199.099327   \n",
       "\n",
       "   primary_cleaner.input.depressant  primary_cleaner.input.feed_size  \\\n",
       "0                         14.993118                         8.080000   \n",
       "1                         14.987471                         8.080000   \n",
       "2                         12.884934                         7.786667   \n",
       "3                         12.006805                         7.640000   \n",
       "4                         10.682530                         7.530000   \n",
       "\n",
       "   primary_cleaner.input.xanthate  primary_cleaner.state.floatbank8_a_air  \\\n",
       "0                        1.005021                             1398.981301   \n",
       "1                        0.990469                             1398.777912   \n",
       "2                        0.996043                             1398.493666   \n",
       "3                        0.863514                             1399.618111   \n",
       "4                        0.805575                             1401.268123   \n",
       "\n",
       "   primary_cleaner.state.floatbank8_a_level  \\\n",
       "0                               -500.225577   \n",
       "1                               -500.057435   \n",
       "2                               -500.868360   \n",
       "3                               -498.863574   \n",
       "4                               -500.808305   \n",
       "\n",
       "   primary_cleaner.state.floatbank8_b_air  \\\n",
       "0                             1399.144926   \n",
       "1                             1398.055362   \n",
       "2                             1398.860436   \n",
       "3                             1397.440120   \n",
       "4                             1398.128818   \n",
       "\n",
       "   primary_cleaner.state.floatbank8_b_level  \\\n",
       "0                               -499.919735   \n",
       "1                               -499.778182   \n",
       "2                               -499.764529   \n",
       "3                               -499.211024   \n",
       "4                               -499.504543   \n",
       "\n",
       "   primary_cleaner.state.floatbank8_c_air  ...  \\\n",
       "0                             1400.102998  ...   \n",
       "1                             1396.151033  ...   \n",
       "2                             1398.075709  ...   \n",
       "3                             1400.129303  ...   \n",
       "4                             1402.172226  ...   \n",
       "\n",
       "   secondary_cleaner.state.floatbank4_b_air  \\\n",
       "0                                  8.016656   \n",
       "1                                  8.130979   \n",
       "2                                  8.096893   \n",
       "3                                  8.074946   \n",
       "4                                  8.054678   \n",
       "\n",
       "   secondary_cleaner.state.floatbank4_b_level  \\\n",
       "0                                 -501.289139   \n",
       "1                                 -499.634209   \n",
       "2                                 -500.827423   \n",
       "3                                 -499.474407   \n",
       "4                                 -500.397500   \n",
       "\n",
       "   secondary_cleaner.state.floatbank5_a_air  \\\n",
       "0                                  7.946562   \n",
       "1                                  7.958270   \n",
       "2                                  8.071056   \n",
       "3                                  7.897085   \n",
       "4                                  8.107890   \n",
       "\n",
       "   secondary_cleaner.state.floatbank5_a_level  \\\n",
       "0                                 -432.317850   \n",
       "1                                 -525.839648   \n",
       "2                                 -500.801673   \n",
       "3                                 -500.868509   \n",
       "4                                 -509.526725   \n",
       "\n",
       "   secondary_cleaner.state.floatbank5_b_air  \\\n",
       "0                                  4.872511   \n",
       "1                                  4.878850   \n",
       "2                                  4.905125   \n",
       "3                                  4.931400   \n",
       "4                                  4.957674   \n",
       "\n",
       "   secondary_cleaner.state.floatbank5_b_level  \\\n",
       "0                                 -500.037437   \n",
       "1                                 -500.162375   \n",
       "2                                 -499.828510   \n",
       "3                                 -499.963623   \n",
       "4                                 -500.360026   \n",
       "\n",
       "   secondary_cleaner.state.floatbank6_a_air  \\\n",
       "0                                 26.705889   \n",
       "1                                 25.019940   \n",
       "2                                 24.994862   \n",
       "3                                 24.948919   \n",
       "4                                 25.003331   \n",
       "\n",
       "   secondary_cleaner.state.floatbank6_a_level  final.output.recovery  \\\n",
       "0                                 -499.709414              70.273583   \n",
       "1                                 -499.819438              68.910432   \n",
       "2                                 -500.622559              68.143213   \n",
       "3                                 -498.709987              67.776393   \n",
       "4                                 -500.856333              61.467078   \n",
       "\n",
       "   rougher.output.recovery  \n",
       "0                89.993421  \n",
       "1                88.089657  \n",
       "2                88.412756  \n",
       "3                87.360133  \n",
       "4                83.236367  \n",
       "\n",
       "[5 rows x 55 columns]"
      ]
     },
     "metadata": {},
     "output_type": "display_data"
    }
   ],
   "source": [
    "# поскольку в тестовой выборке нет пропусков в столбце date и значения в нем уникальны, то объединим именно по нему\n",
    "df_test = df_test.merge(df_full[['date','final.output.recovery','rougher.output.recovery']], on='date')\n",
    "display(df_test.head())"
   ]
  },
  {
   "cell_type": "code",
   "execution_count": 10,
   "metadata": {},
   "outputs": [
    {
     "data": {
      "text/html": [
       "<div>\n",
       "<style scoped>\n",
       "    .dataframe tbody tr th:only-of-type {\n",
       "        vertical-align: middle;\n",
       "    }\n",
       "\n",
       "    .dataframe tbody tr th {\n",
       "        vertical-align: top;\n",
       "    }\n",
       "\n",
       "    .dataframe thead th {\n",
       "        text-align: right;\n",
       "    }\n",
       "</style>\n",
       "<table border=\"1\" class=\"dataframe\">\n",
       "  <thead>\n",
       "    <tr style=\"text-align: right;\">\n",
       "      <th></th>\n",
       "      <th>date</th>\n",
       "      <th>primary_cleaner.input.sulfate</th>\n",
       "      <th>primary_cleaner.input.depressant</th>\n",
       "      <th>primary_cleaner.input.feed_size</th>\n",
       "      <th>primary_cleaner.input.xanthate</th>\n",
       "      <th>primary_cleaner.state.floatbank8_a_air</th>\n",
       "      <th>primary_cleaner.state.floatbank8_a_level</th>\n",
       "      <th>primary_cleaner.state.floatbank8_b_air</th>\n",
       "      <th>primary_cleaner.state.floatbank8_b_level</th>\n",
       "      <th>primary_cleaner.state.floatbank8_c_air</th>\n",
       "      <th>...</th>\n",
       "      <th>secondary_cleaner.state.floatbank4_b_air</th>\n",
       "      <th>secondary_cleaner.state.floatbank4_b_level</th>\n",
       "      <th>secondary_cleaner.state.floatbank5_a_air</th>\n",
       "      <th>secondary_cleaner.state.floatbank5_a_level</th>\n",
       "      <th>secondary_cleaner.state.floatbank5_b_air</th>\n",
       "      <th>secondary_cleaner.state.floatbank5_b_level</th>\n",
       "      <th>secondary_cleaner.state.floatbank6_a_air</th>\n",
       "      <th>secondary_cleaner.state.floatbank6_a_level</th>\n",
       "      <th>final.output.recovery</th>\n",
       "      <th>rougher.output.recovery</th>\n",
       "    </tr>\n",
       "  </thead>\n",
       "  <tbody>\n",
       "    <tr>\n",
       "      <td>0</td>\n",
       "      <td>2016-01-15 00:00:00</td>\n",
       "      <td>127.092003</td>\n",
       "      <td>10.128295</td>\n",
       "      <td>7.25</td>\n",
       "      <td>0.988759</td>\n",
       "      <td>1549.775757</td>\n",
       "      <td>-498.912140</td>\n",
       "      <td>1551.434204</td>\n",
       "      <td>-516.403442</td>\n",
       "      <td>1549.873901</td>\n",
       "      <td>...</td>\n",
       "      <td>12.099931</td>\n",
       "      <td>-504.715942</td>\n",
       "      <td>9.925633</td>\n",
       "      <td>-498.310211</td>\n",
       "      <td>8.079666</td>\n",
       "      <td>-500.470978</td>\n",
       "      <td>14.151341</td>\n",
       "      <td>-605.841980</td>\n",
       "      <td>70.541216</td>\n",
       "      <td>87.107763</td>\n",
       "    </tr>\n",
       "    <tr>\n",
       "      <td>1</td>\n",
       "      <td>2016-01-15 01:00:00</td>\n",
       "      <td>125.629232</td>\n",
       "      <td>10.296251</td>\n",
       "      <td>7.25</td>\n",
       "      <td>1.002663</td>\n",
       "      <td>1576.166671</td>\n",
       "      <td>-500.904965</td>\n",
       "      <td>1575.950626</td>\n",
       "      <td>-499.865889</td>\n",
       "      <td>1575.994189</td>\n",
       "      <td>...</td>\n",
       "      <td>11.950531</td>\n",
       "      <td>-501.331529</td>\n",
       "      <td>10.039245</td>\n",
       "      <td>-500.169983</td>\n",
       "      <td>7.984757</td>\n",
       "      <td>-500.582168</td>\n",
       "      <td>13.998353</td>\n",
       "      <td>-599.787184</td>\n",
       "      <td>69.266198</td>\n",
       "      <td>86.843261</td>\n",
       "    </tr>\n",
       "    <tr>\n",
       "      <td>2</td>\n",
       "      <td>2016-01-15 02:00:00</td>\n",
       "      <td>123.819808</td>\n",
       "      <td>11.316280</td>\n",
       "      <td>7.25</td>\n",
       "      <td>0.991265</td>\n",
       "      <td>1601.556163</td>\n",
       "      <td>-499.997791</td>\n",
       "      <td>1600.386685</td>\n",
       "      <td>-500.607762</td>\n",
       "      <td>1602.003542</td>\n",
       "      <td>...</td>\n",
       "      <td>11.912783</td>\n",
       "      <td>-501.133383</td>\n",
       "      <td>10.070913</td>\n",
       "      <td>-500.129135</td>\n",
       "      <td>8.013877</td>\n",
       "      <td>-500.517572</td>\n",
       "      <td>14.028663</td>\n",
       "      <td>-601.427363</td>\n",
       "      <td>68.116445</td>\n",
       "      <td>86.842308</td>\n",
       "    </tr>\n",
       "    <tr>\n",
       "      <td>3</td>\n",
       "      <td>2016-01-15 03:00:00</td>\n",
       "      <td>122.270188</td>\n",
       "      <td>11.322140</td>\n",
       "      <td>7.25</td>\n",
       "      <td>0.996739</td>\n",
       "      <td>1599.968720</td>\n",
       "      <td>-500.951778</td>\n",
       "      <td>1600.659236</td>\n",
       "      <td>-499.677094</td>\n",
       "      <td>1600.304144</td>\n",
       "      <td>...</td>\n",
       "      <td>11.999550</td>\n",
       "      <td>-501.193686</td>\n",
       "      <td>9.970366</td>\n",
       "      <td>-499.201640</td>\n",
       "      <td>7.977324</td>\n",
       "      <td>-500.255908</td>\n",
       "      <td>14.005551</td>\n",
       "      <td>-599.996129</td>\n",
       "      <td>68.347543</td>\n",
       "      <td>87.226430</td>\n",
       "    </tr>\n",
       "    <tr>\n",
       "      <td>4</td>\n",
       "      <td>2016-01-15 04:00:00</td>\n",
       "      <td>117.988169</td>\n",
       "      <td>11.913613</td>\n",
       "      <td>7.25</td>\n",
       "      <td>1.009869</td>\n",
       "      <td>1601.339707</td>\n",
       "      <td>-498.975456</td>\n",
       "      <td>1601.437854</td>\n",
       "      <td>-500.323246</td>\n",
       "      <td>1599.581894</td>\n",
       "      <td>...</td>\n",
       "      <td>11.953070</td>\n",
       "      <td>-501.053894</td>\n",
       "      <td>9.925709</td>\n",
       "      <td>-501.686727</td>\n",
       "      <td>7.894242</td>\n",
       "      <td>-500.356035</td>\n",
       "      <td>13.996647</td>\n",
       "      <td>-601.496691</td>\n",
       "      <td>66.927016</td>\n",
       "      <td>86.688794</td>\n",
       "    </tr>\n",
       "  </tbody>\n",
       "</table>\n",
       "<p>5 rows × 55 columns</p>\n",
       "</div>"
      ],
      "text/plain": [
       "                  date  primary_cleaner.input.sulfate  \\\n",
       "0  2016-01-15 00:00:00                     127.092003   \n",
       "1  2016-01-15 01:00:00                     125.629232   \n",
       "2  2016-01-15 02:00:00                     123.819808   \n",
       "3  2016-01-15 03:00:00                     122.270188   \n",
       "4  2016-01-15 04:00:00                     117.988169   \n",
       "\n",
       "   primary_cleaner.input.depressant  primary_cleaner.input.feed_size  \\\n",
       "0                         10.128295                             7.25   \n",
       "1                         10.296251                             7.25   \n",
       "2                         11.316280                             7.25   \n",
       "3                         11.322140                             7.25   \n",
       "4                         11.913613                             7.25   \n",
       "\n",
       "   primary_cleaner.input.xanthate  primary_cleaner.state.floatbank8_a_air  \\\n",
       "0                        0.988759                             1549.775757   \n",
       "1                        1.002663                             1576.166671   \n",
       "2                        0.991265                             1601.556163   \n",
       "3                        0.996739                             1599.968720   \n",
       "4                        1.009869                             1601.339707   \n",
       "\n",
       "   primary_cleaner.state.floatbank8_a_level  \\\n",
       "0                               -498.912140   \n",
       "1                               -500.904965   \n",
       "2                               -499.997791   \n",
       "3                               -500.951778   \n",
       "4                               -498.975456   \n",
       "\n",
       "   primary_cleaner.state.floatbank8_b_air  \\\n",
       "0                             1551.434204   \n",
       "1                             1575.950626   \n",
       "2                             1600.386685   \n",
       "3                             1600.659236   \n",
       "4                             1601.437854   \n",
       "\n",
       "   primary_cleaner.state.floatbank8_b_level  \\\n",
       "0                               -516.403442   \n",
       "1                               -499.865889   \n",
       "2                               -500.607762   \n",
       "3                               -499.677094   \n",
       "4                               -500.323246   \n",
       "\n",
       "   primary_cleaner.state.floatbank8_c_air  ...  \\\n",
       "0                             1549.873901  ...   \n",
       "1                             1575.994189  ...   \n",
       "2                             1602.003542  ...   \n",
       "3                             1600.304144  ...   \n",
       "4                             1599.581894  ...   \n",
       "\n",
       "   secondary_cleaner.state.floatbank4_b_air  \\\n",
       "0                                 12.099931   \n",
       "1                                 11.950531   \n",
       "2                                 11.912783   \n",
       "3                                 11.999550   \n",
       "4                                 11.953070   \n",
       "\n",
       "   secondary_cleaner.state.floatbank4_b_level  \\\n",
       "0                                 -504.715942   \n",
       "1                                 -501.331529   \n",
       "2                                 -501.133383   \n",
       "3                                 -501.193686   \n",
       "4                                 -501.053894   \n",
       "\n",
       "   secondary_cleaner.state.floatbank5_a_air  \\\n",
       "0                                  9.925633   \n",
       "1                                 10.039245   \n",
       "2                                 10.070913   \n",
       "3                                  9.970366   \n",
       "4                                  9.925709   \n",
       "\n",
       "   secondary_cleaner.state.floatbank5_a_level  \\\n",
       "0                                 -498.310211   \n",
       "1                                 -500.169983   \n",
       "2                                 -500.129135   \n",
       "3                                 -499.201640   \n",
       "4                                 -501.686727   \n",
       "\n",
       "   secondary_cleaner.state.floatbank5_b_air  \\\n",
       "0                                  8.079666   \n",
       "1                                  7.984757   \n",
       "2                                  8.013877   \n",
       "3                                  7.977324   \n",
       "4                                  7.894242   \n",
       "\n",
       "   secondary_cleaner.state.floatbank5_b_level  \\\n",
       "0                                 -500.470978   \n",
       "1                                 -500.582168   \n",
       "2                                 -500.517572   \n",
       "3                                 -500.255908   \n",
       "4                                 -500.356035   \n",
       "\n",
       "   secondary_cleaner.state.floatbank6_a_air  \\\n",
       "0                                 14.151341   \n",
       "1                                 13.998353   \n",
       "2                                 14.028663   \n",
       "3                                 14.005551   \n",
       "4                                 13.996647   \n",
       "\n",
       "   secondary_cleaner.state.floatbank6_a_level  final.output.recovery  \\\n",
       "0                                 -605.841980              70.541216   \n",
       "1                                 -599.787184              69.266198   \n",
       "2                                 -601.427363              68.116445   \n",
       "3                                 -599.996129              68.347543   \n",
       "4                                 -601.496691              66.927016   \n",
       "\n",
       "   rougher.output.recovery  \n",
       "0                87.107763  \n",
       "1                86.843261  \n",
       "2                86.842308  \n",
       "3                87.226430  \n",
       "4                86.688794  \n",
       "\n",
       "[5 rows x 55 columns]"
      ]
     },
     "metadata": {},
     "output_type": "display_data"
    }
   ],
   "source": [
    "test_columns = df_test.columns.to_list()\n",
    "df_full_new = df_full[test_columns] #создадим новые датафреймы, в которых будут только те столбцы, что и в тестовом\n",
    "df_train_new = df_train[test_columns] #они пригодятся нам при переходе к машинному обучению\n",
    "display(df_full_new.head())"
   ]
  },
  {
   "cell_type": "markdown",
   "metadata": {},
   "source": [
    "### Предобработка данных"
   ]
  },
  {
   "cell_type": "markdown",
   "metadata": {},
   "source": [
    "В датафреймах имеются пропуски, от которых необходимо избавиться. Нам известно, что данные индексируются датой и временем получения информации, и соседние параметры часто оказываются похожими. Учтем это, предварительно удалив строки с пропусками в целевых признаках (их мы заменить на что-то примерное не можем):"
   ]
  },
  {
   "cell_type": "code",
   "execution_count": 11,
   "metadata": {},
   "outputs": [
    {
     "name": "stdout",
     "output_type": "stream",
     "text": [
      "Пропусков в датафрейме: 0\n",
      "Пропусков в датафрейме: 0\n",
      "Пропусков в датафрейме: 0\n",
      "Пропусков в датафрейме: 0\n",
      "Пропусков в датафрейме: 0\n"
     ]
    },
    {
     "name": "stderr",
     "output_type": "stream",
     "text": [
      "/opt/conda/lib/python3.7/site-packages/ipykernel_launcher.py:2: SettingWithCopyWarning: \n",
      "A value is trying to be set on a copy of a slice from a DataFrame\n",
      "\n",
      "See the caveats in the documentation: http://pandas.pydata.org/pandas-docs/stable/user_guide/indexing.html#returning-a-view-versus-a-copy\n",
      "  \n",
      "/opt/conda/lib/python3.7/site-packages/pandas/core/frame.py:4244: SettingWithCopyWarning: \n",
      "A value is trying to be set on a copy of a slice from a DataFrame\n",
      "\n",
      "See the caveats in the documentation: http://pandas.pydata.org/pandas-docs/stable/user_guide/indexing.html#returning-a-view-versus-a-copy\n",
      "  **kwargs\n"
     ]
    }
   ],
   "source": [
    "for df in (df_full_new, df_full, df_train_new, df_train, df_test):\n",
    "    df.dropna(subset=['rougher.output.recovery','final.output.recovery'], inplace=True)\n",
    "    df.fillna(method = 'ffill', inplace=True) #распространение последнего действительного наблюдения вперед к следующему действительному обратному заполнению\n",
    "    print(f'Пропусков в датафрейме: {df.isna().sum().sum()}')"
   ]
  },
  {
   "cell_type": "markdown",
   "metadata": {},
   "source": [
    "Для последующего машинного обучения столбец date будет проблемой. Поскольку в числовой формат перевести его мы удалим, но сделаем это уже непосредственно перед процессом, а пока переведем тип данных  в datetime."
   ]
  },
  {
   "cell_type": "code",
   "execution_count": 12,
   "metadata": {},
   "outputs": [
    {
     "name": "stderr",
     "output_type": "stream",
     "text": [
      "/opt/conda/lib/python3.7/site-packages/ipykernel_launcher.py:4: SettingWithCopyWarning: \n",
      "A value is trying to be set on a copy of a slice from a DataFrame.\n",
      "Try using .loc[row_indexer,col_indexer] = value instead\n",
      "\n",
      "See the caveats in the documentation: http://pandas.pydata.org/pandas-docs/stable/user_guide/indexing.html#returning-a-view-versus-a-copy\n",
      "  after removing the cwd from sys.path.\n"
     ]
    }
   ],
   "source": [
    "#for df in (df_full_new, df_full, df_train_new, df_train, df_test):\n",
    "#    df.drop('date',axis =1)\n",
    "for df in (df_full_new, df_full, df_train_new, df_train, df_test):\n",
    "    df['date'] = pd.to_datetime(df['date'], format='%Y-%m-%dT%H:%M:%S')"
   ]
  },
  {
   "cell_type": "markdown",
   "metadata": {},
   "source": [
    "## Анализ данных"
   ]
  },
  {
   "cell_type": "markdown",
   "metadata": {},
   "source": [
    "### Исследование изменения концентрации металлов на разных стадиях очистки"
   ]
  },
  {
   "cell_type": "code",
   "execution_count": 13,
   "metadata": {},
   "outputs": [
    {
     "data": {
      "image/png": "[encoded data removed]",
      "text/plain": [
       "<Figure size 1080x360 with 4 Axes>"
      ]
     },
     "metadata": {
      "needs_background": "light"
     },
     "output_type": "display_data"
    }
   ],
   "source": [
    "stages = ['rougher.input.feed',\n",
    "           'rougher.output.concentrate',\n",
    "           'primary_cleaner.output.concentrate',\n",
    "           'final.output.concentrate']\n",
    "\n",
    "metals = ['au', 'ag', 'pb']\n",
    "\n",
    "fig, axs = plt.subplots(1, len(stages), figsize=(15, 5), constrained_layout=True)\n",
    "fig.suptitle('Изменение концентрации металлов', fontsize=20)\n",
    "\n",
    "for stage, ax in zip(stages, axs):\n",
    "    ax.set_xlabel(\"Концентрация металлов\", fontsize=12, color='blue')\n",
    "    ax.set_ylabel(\"Плотность распределения\", fontsize=12, color='blue')\n",
    "    ax.set_title(stage)\n",
    "    for metal in metals:        \n",
    "        cols = df_full.columns.str.contains(stage+'_'+metal)\n",
    "        sns_ax = sns.distplot(df_full.loc[:, cols].dropna(), label=metal, ax=ax) \n",
    "        \n",
    "plt.legend()\n",
    "plt.show()"
   ]
  },
  {
   "cell_type": "markdown",
   "metadata": {},
   "source": [
    "Ожидаемо, с каждым последующим этапом концентрация золота заметно повышается. Концентрация серебра не столь значительно убывает, а свинца - возрастает"
   ]
  },
  {
   "cell_type": "markdown",
   "metadata": {},
   "source": [
    "### Исследование распределения размеров гранул сырья"
   ]
  },
  {
   "cell_type": "markdown",
   "metadata": {},
   "source": [
    "Сравним распределения размеров гранул сырья на обучающей и тестовой выборках:"
   ]
  },
  {
   "cell_type": "code",
   "execution_count": 14,
   "metadata": {},
   "outputs": [
    {
     "name": "stderr",
     "output_type": "stream",
     "text": [
      "/opt/conda/lib/python3.7/site-packages/pandas/plotting/_matplotlib/hist.py:62: MatplotlibDeprecationWarning: \n",
      "The 'normed' kwarg was deprecated in Matplotlib 2.1 and will be removed in 3.1. Use 'density' instead.\n",
      "  n, bins, patches = ax.hist(y, bins=bins, bottom=bottom, **kwds)\n",
      "/opt/conda/lib/python3.7/site-packages/pandas/plotting/_matplotlib/hist.py:62: MatplotlibDeprecationWarning: \n",
      "The 'normed' kwarg was deprecated in Matplotlib 2.1 and will be removed in 3.1. Use 'density' instead.\n",
      "  n, bins, patches = ax.hist(y, bins=bins, bottom=bottom, **kwds)\n"
     ]
    },
    {
     "data": {
      "text/plain": [
       "<matplotlib.axes._subplots.AxesSubplot at 0x7f7ef63d0b10>"
      ]
     },
     "execution_count": 14,
     "metadata": {},
     "output_type": "execute_result"
    },
    {
     "data": {
      "image/png": "[encoded data removed]",
      "text/plain": [
       "<Figure size 432x288 with 1 Axes>"
      ]
     },
     "metadata": {
      "needs_background": "light"
     },
     "output_type": "display_data"
    }
   ],
   "source": [
    "ax = plt.gca()\n",
    "ax.set_xlabel(\"Размер гранулы\", fontsize=12, color='blue')\n",
    "ax.set_ylabel(\"Плотность распределения\", fontsize=12, color='blue')\n",
    "df_test['rougher.input.feed_size'].plot(kind='hist', bins=40, color = 'blue', alpha=0.5, label='тестовая', legend=True, normed=True)\n",
    "df_train_new['rougher.input.feed_size'].plot(kind='hist', bins=40, title = 'Распределение размера гранул', color = 'red', alpha=0.5, label='обучающая', legend=True, normed=True)"
   ]
  },
  {
   "cell_type": "markdown",
   "metadata": {},
   "source": [
    "Внешне распределения не сильно отличаются друг от друга, следовательно значения размера гранул в тестовой и обучающей выборках схожи."
   ]
  },
  {
   "cell_type": "markdown",
   "metadata": {},
   "source": [
    "### Исследование суммарной концентрации всех веществ на разных стадиях"
   ]
  },
  {
   "cell_type": "markdown",
   "metadata": {},
   "source": [
    "Создадим функцию для суммирования концентрации веществ на каждом этапе:"
   ]
  },
  {
   "cell_type": "code",
   "execution_count": 15,
   "metadata": {},
   "outputs": [],
   "source": [
    "def concentration(row):\n",
    "    date = row['date']\n",
    "    input_au = row[\"rougher.input.feed_au\"]\n",
    "    input_ag = row[\"rougher.input.feed_ag\"]\n",
    "    input_pb = row[\"rougher.input.feed_pb\"]\n",
    "    input_sol = row[\"rougher.input.feed_sol\"]\n",
    "    stages = ['rougher', 'final'] \n",
    "    materials = ['au', 'ag', 'pb', 'sol'] \n",
    "    rougher = []\n",
    "    final = []\n",
    "    arrays =[rougher, final]\n",
    "    for stage,array in zip(stages,arrays):\n",
    "        for material in materials:\n",
    "            array.append(row[f'{stage}.output.concentrate_{material}'])\n",
    "    sum_input = input_au + input_ag + input_pb + input_sol #в сырье\n",
    "    sum_rougher = sum(rougher) #в черновом концентрате\n",
    "    sum_final = sum(final) #в финальном концентрате\n",
    "    return pd.Series([date, sum_input,sum_rougher,sum_final])"
   ]
  },
  {
   "cell_type": "code",
   "execution_count": 16,
   "metadata": {},
   "outputs": [
    {
     "data": {
      "text/html": [
       "<div>\n",
       "<style scoped>\n",
       "    .dataframe tbody tr th:only-of-type {\n",
       "        vertical-align: middle;\n",
       "    }\n",
       "\n",
       "    .dataframe tbody tr th {\n",
       "        vertical-align: top;\n",
       "    }\n",
       "\n",
       "    .dataframe thead th {\n",
       "        text-align: right;\n",
       "    }\n",
       "</style>\n",
       "<table border=\"1\" class=\"dataframe\">\n",
       "  <thead>\n",
       "    <tr style=\"text-align: right;\">\n",
       "      <th></th>\n",
       "      <th>date</th>\n",
       "      <th>input</th>\n",
       "      <th>rougher</th>\n",
       "      <th>final</th>\n",
       "    </tr>\n",
       "  </thead>\n",
       "  <tbody>\n",
       "    <tr>\n",
       "      <td>0</td>\n",
       "      <td>2016-01-15 00:00:00</td>\n",
       "      <td>51.680034</td>\n",
       "      <td>66.424950</td>\n",
       "      <td>63.644396</td>\n",
       "    </tr>\n",
       "    <tr>\n",
       "      <td>1</td>\n",
       "      <td>2016-01-15 01:00:00</td>\n",
       "      <td>50.659114</td>\n",
       "      <td>67.012710</td>\n",
       "      <td>63.957723</td>\n",
       "    </tr>\n",
       "    <tr>\n",
       "      <td>2</td>\n",
       "      <td>2016-01-15 02:00:00</td>\n",
       "      <td>50.609929</td>\n",
       "      <td>66.103793</td>\n",
       "      <td>64.311180</td>\n",
       "    </tr>\n",
       "    <tr>\n",
       "      <td>3</td>\n",
       "      <td>2016-01-15 03:00:00</td>\n",
       "      <td>51.061546</td>\n",
       "      <td>65.752751</td>\n",
       "      <td>63.573449</td>\n",
       "    </tr>\n",
       "    <tr>\n",
       "      <td>4</td>\n",
       "      <td>2016-01-15 04:00:00</td>\n",
       "      <td>47.859163</td>\n",
       "      <td>65.908382</td>\n",
       "      <td>64.004667</td>\n",
       "    </tr>\n",
       "    <tr>\n",
       "      <td>...</td>\n",
       "      <td>...</td>\n",
       "      <td>...</td>\n",
       "      <td>...</td>\n",
       "      <td>...</td>\n",
       "    </tr>\n",
       "    <tr>\n",
       "      <td>19434</td>\n",
       "      <td>2018-08-18 06:59:59</td>\n",
       "      <td>53.415050</td>\n",
       "      <td>70.781325</td>\n",
       "      <td>68.098589</td>\n",
       "    </tr>\n",
       "    <tr>\n",
       "      <td>19435</td>\n",
       "      <td>2018-08-18 07:59:59</td>\n",
       "      <td>53.696482</td>\n",
       "      <td>70.539603</td>\n",
       "      <td>68.274362</td>\n",
       "    </tr>\n",
       "    <tr>\n",
       "      <td>19436</td>\n",
       "      <td>2018-08-18 08:59:59</td>\n",
       "      <td>54.589604</td>\n",
       "      <td>55.376330</td>\n",
       "      <td>68.226068</td>\n",
       "    </tr>\n",
       "    <tr>\n",
       "      <td>19437</td>\n",
       "      <td>2018-08-18 09:59:59</td>\n",
       "      <td>54.027355</td>\n",
       "      <td>69.201689</td>\n",
       "      <td>68.200449</td>\n",
       "    </tr>\n",
       "    <tr>\n",
       "      <td>19438</td>\n",
       "      <td>2018-08-18 10:59:59</td>\n",
       "      <td>53.535054</td>\n",
       "      <td>69.544003</td>\n",
       "      <td>68.353154</td>\n",
       "    </tr>\n",
       "  </tbody>\n",
       "</table>\n",
       "<p>19439 rows × 4 columns</p>\n",
       "</div>"
      ],
      "text/plain": [
       "                     date      input    rougher      final\n",
       "0     2016-01-15 00:00:00  51.680034  66.424950  63.644396\n",
       "1     2016-01-15 01:00:00  50.659114  67.012710  63.957723\n",
       "2     2016-01-15 02:00:00  50.609929  66.103793  64.311180\n",
       "3     2016-01-15 03:00:00  51.061546  65.752751  63.573449\n",
       "4     2016-01-15 04:00:00  47.859163  65.908382  64.004667\n",
       "...                   ...        ...        ...        ...\n",
       "19434 2018-08-18 06:59:59  53.415050  70.781325  68.098589\n",
       "19435 2018-08-18 07:59:59  53.696482  70.539603  68.274362\n",
       "19436 2018-08-18 08:59:59  54.589604  55.376330  68.226068\n",
       "19437 2018-08-18 09:59:59  54.027355  69.201689  68.200449\n",
       "19438 2018-08-18 10:59:59  53.535054  69.544003  68.353154\n",
       "\n",
       "[19439 rows x 4 columns]"
      ]
     },
     "metadata": {},
     "output_type": "display_data"
    }
   ],
   "source": [
    "concentrations = df_full.apply(concentration, axis=1)\n",
    "concentrations.columns = ['date','input', 'rougher', 'final']\n",
    "display(concentrations)"
   ]
  },
  {
   "cell_type": "markdown",
   "metadata": {},
   "source": [
    "Построим гистограммы:"
   ]
  },
  {
   "cell_type": "code",
   "execution_count": 17,
   "metadata": {},
   "outputs": [
    {
     "data": {
      "text/plain": [
       "<matplotlib.axes._subplots.AxesSubplot at 0x7f7eec4d5410>"
      ]
     },
     "execution_count": 17,
     "metadata": {},
     "output_type": "execute_result"
    },
    {
     "data": {
      "image/png": "[encoded data removed]",
      "text/plain": [
       "<Figure size 1440x2160 with 3 Axes>"
      ]
     },
     "metadata": {
      "needs_background": "light"
     },
     "output_type": "display_data"
    }
   ],
   "source": [
    "fig, axs = plt.subplots(3,1,figsize = (20,30), constrained_layout=True)\n",
    "sns.distplot(concentrations['input'], color=\"red\", ax = axs[0])\n",
    "sns.distplot(concentrations['rougher'], color=\"green\", ax = axs[1])\n",
    "sns.distplot(concentrations['final'], color=\"blue\", ax = axs[2])"
   ]
  },
  {
   "cell_type": "markdown",
   "metadata": {},
   "source": [
    "На гистограммах можно заметить (для rougher и final) небольшой пик около нулевого значения - это выбросы. От них необходимо избавиться, поскольку при обучении модели они внесут ошибки."
   ]
  },
  {
   "cell_type": "code",
   "execution_count": 18,
   "metadata": {},
   "outputs": [],
   "source": [
    " #установим пороги, ниже которых значение будет считаться выбросом\n",
    "concentrations = concentrations[(concentrations['input'] > 10) & \n",
    "                                (concentrations['rougher'] > 10) & \n",
    "                                (concentrations['final'] > 10)]"
   ]
  },
  {
   "cell_type": "code",
   "execution_count": 19,
   "metadata": {
    "scrolled": true
   },
   "outputs": [
    {
     "data": {
      "text/plain": [
       "<matplotlib.axes._subplots.AxesSubplot at 0x7f7eec51fed0>"
      ]
     },
     "execution_count": 19,
     "metadata": {},
     "output_type": "execute_result"
    },
    {
     "data": {
      "image/png": "[encoded data removed]",
      "text/plain": [
       "<Figure size 1440x2160 with 3 Axes>"
      ]
     },
     "metadata": {
      "needs_background": "light"
     },
     "output_type": "display_data"
    }
   ],
   "source": [
    "fig, axs = plt.subplots(3,1,figsize = (20,30), constrained_layout=True)\n",
    "sns.distplot(concentrations['input'], color=\"red\", ax = axs[0])\n",
    "sns.distplot(concentrations['rougher'], color=\"green\", ax = axs[1])\n",
    "sns.distplot(concentrations['final'], color=\"blue\", ax = axs[2])"
   ]
  },
  {
   "cell_type": "markdown",
   "metadata": {},
   "source": [
    "Мы удалили выбросы из датафрейма concentrations. Далее зададим функцию, которая позволит удалить их из \"рабочих\" датафреймов:"
   ]
  },
  {
   "cell_type": "code",
   "execution_count": 20,
   "metadata": {},
   "outputs": [],
   "source": [
    "def del_it(df, df2):\n",
    "    rap = df2['date']\n",
    "    df = df.query('date in @rap') #дата в роли уникального id. Если ее нет в датафрейме без выбросов, то строку удалим из нашего\n",
    "    return df"
   ]
  },
  {
   "cell_type": "code",
   "execution_count": 21,
   "metadata": {},
   "outputs": [
    {
     "name": "stdout",
     "output_type": "stream",
     "text": [
      "Избавились от выбросов!\n"
     ]
    }
   ],
   "source": [
    "df_full = del_it(df_full, concentrations)\n",
    "df_full_new = del_it(df_full_new, concentrations)\n",
    "df_train = del_it(df_train, concentrations)\n",
    "df_train_new = del_it(df_train_new, concentrations)\n",
    "df_test = del_it(df_test, concentrations)\n",
    "print('Избавились от выбросов!')"
   ]
  },
  {
   "cell_type": "markdown",
   "metadata": {},
   "source": [
    "**ВЫВОД**\n",
    "\n",
    "В результате анализа данных исследованы:\n",
    "* изменения концентрации металлов на разных стадиях очистки - с каждым последующим этапом концентрация золота возрастает;\n",
    "* распределения размеров гранул в обучающей и тестовой выборках - визуально они похожи\n",
    "* суммарная концентрация всех веществ на разных стадиях - удалены выбросы"
   ]
  },
  {
   "cell_type": "markdown",
   "metadata": {},
   "source": [
    "## Модель"
   ]
  },
  {
   "cell_type": "markdown",
   "metadata": {},
   "source": [
    "### Функция для вычисления sMAPE"
   ]
  },
  {
   "cell_type": "markdown",
   "metadata": {},
   "source": [
    "Перед переходом к машинному обучению необходимо удалить столбцы **date**, поскольку их формат не числовой:"
   ]
  },
  {
   "cell_type": "code",
   "execution_count": 22,
   "metadata": {},
   "outputs": [
    {
     "name": "stderr",
     "output_type": "stream",
     "text": [
      "/opt/conda/lib/python3.7/site-packages/pandas/core/frame.py:4102: SettingWithCopyWarning: \n",
      "A value is trying to be set on a copy of a slice from a DataFrame\n",
      "\n",
      "See the caveats in the documentation: http://pandas.pydata.org/pandas-docs/stable/user_guide/indexing.html#returning-a-view-versus-a-copy\n",
      "  errors=errors,\n"
     ]
    },
    {
     "data": {
      "text/html": [
       "<div>\n",
       "<style scoped>\n",
       "    .dataframe tbody tr th:only-of-type {\n",
       "        vertical-align: middle;\n",
       "    }\n",
       "\n",
       "    .dataframe tbody tr th {\n",
       "        vertical-align: top;\n",
       "    }\n",
       "\n",
       "    .dataframe thead th {\n",
       "        text-align: right;\n",
       "    }\n",
       "</style>\n",
       "<table border=\"1\" class=\"dataframe\">\n",
       "  <thead>\n",
       "    <tr style=\"text-align: right;\">\n",
       "      <th></th>\n",
       "      <th>primary_cleaner.input.sulfate</th>\n",
       "      <th>primary_cleaner.input.depressant</th>\n",
       "      <th>primary_cleaner.input.feed_size</th>\n",
       "      <th>primary_cleaner.input.xanthate</th>\n",
       "      <th>primary_cleaner.state.floatbank8_a_air</th>\n",
       "      <th>primary_cleaner.state.floatbank8_a_level</th>\n",
       "      <th>primary_cleaner.state.floatbank8_b_air</th>\n",
       "      <th>primary_cleaner.state.floatbank8_b_level</th>\n",
       "      <th>primary_cleaner.state.floatbank8_c_air</th>\n",
       "      <th>primary_cleaner.state.floatbank8_c_level</th>\n",
       "      <th>...</th>\n",
       "      <th>secondary_cleaner.state.floatbank4_b_air</th>\n",
       "      <th>secondary_cleaner.state.floatbank4_b_level</th>\n",
       "      <th>secondary_cleaner.state.floatbank5_a_air</th>\n",
       "      <th>secondary_cleaner.state.floatbank5_a_level</th>\n",
       "      <th>secondary_cleaner.state.floatbank5_b_air</th>\n",
       "      <th>secondary_cleaner.state.floatbank5_b_level</th>\n",
       "      <th>secondary_cleaner.state.floatbank6_a_air</th>\n",
       "      <th>secondary_cleaner.state.floatbank6_a_level</th>\n",
       "      <th>final.output.recovery</th>\n",
       "      <th>rougher.output.recovery</th>\n",
       "    </tr>\n",
       "  </thead>\n",
       "  <tbody>\n",
       "    <tr>\n",
       "      <td>0</td>\n",
       "      <td>210.800909</td>\n",
       "      <td>14.993118</td>\n",
       "      <td>8.080000</td>\n",
       "      <td>1.005021</td>\n",
       "      <td>1398.981301</td>\n",
       "      <td>-500.225577</td>\n",
       "      <td>1399.144926</td>\n",
       "      <td>-499.919735</td>\n",
       "      <td>1400.102998</td>\n",
       "      <td>-500.704369</td>\n",
       "      <td>...</td>\n",
       "      <td>8.016656</td>\n",
       "      <td>-501.289139</td>\n",
       "      <td>7.946562</td>\n",
       "      <td>-432.317850</td>\n",
       "      <td>4.872511</td>\n",
       "      <td>-500.037437</td>\n",
       "      <td>26.705889</td>\n",
       "      <td>-499.709414</td>\n",
       "      <td>70.273583</td>\n",
       "      <td>89.993421</td>\n",
       "    </tr>\n",
       "    <tr>\n",
       "      <td>1</td>\n",
       "      <td>215.392455</td>\n",
       "      <td>14.987471</td>\n",
       "      <td>8.080000</td>\n",
       "      <td>0.990469</td>\n",
       "      <td>1398.777912</td>\n",
       "      <td>-500.057435</td>\n",
       "      <td>1398.055362</td>\n",
       "      <td>-499.778182</td>\n",
       "      <td>1396.151033</td>\n",
       "      <td>-499.240168</td>\n",
       "      <td>...</td>\n",
       "      <td>8.130979</td>\n",
       "      <td>-499.634209</td>\n",
       "      <td>7.958270</td>\n",
       "      <td>-525.839648</td>\n",
       "      <td>4.878850</td>\n",
       "      <td>-500.162375</td>\n",
       "      <td>25.019940</td>\n",
       "      <td>-499.819438</td>\n",
       "      <td>68.910432</td>\n",
       "      <td>88.089657</td>\n",
       "    </tr>\n",
       "    <tr>\n",
       "      <td>2</td>\n",
       "      <td>215.259946</td>\n",
       "      <td>12.884934</td>\n",
       "      <td>7.786667</td>\n",
       "      <td>0.996043</td>\n",
       "      <td>1398.493666</td>\n",
       "      <td>-500.868360</td>\n",
       "      <td>1398.860436</td>\n",
       "      <td>-499.764529</td>\n",
       "      <td>1398.075709</td>\n",
       "      <td>-502.151509</td>\n",
       "      <td>...</td>\n",
       "      <td>8.096893</td>\n",
       "      <td>-500.827423</td>\n",
       "      <td>8.071056</td>\n",
       "      <td>-500.801673</td>\n",
       "      <td>4.905125</td>\n",
       "      <td>-499.828510</td>\n",
       "      <td>24.994862</td>\n",
       "      <td>-500.622559</td>\n",
       "      <td>68.143213</td>\n",
       "      <td>88.412756</td>\n",
       "    </tr>\n",
       "    <tr>\n",
       "      <td>3</td>\n",
       "      <td>215.336236</td>\n",
       "      <td>12.006805</td>\n",
       "      <td>7.640000</td>\n",
       "      <td>0.863514</td>\n",
       "      <td>1399.618111</td>\n",
       "      <td>-498.863574</td>\n",
       "      <td>1397.440120</td>\n",
       "      <td>-499.211024</td>\n",
       "      <td>1400.129303</td>\n",
       "      <td>-498.355873</td>\n",
       "      <td>...</td>\n",
       "      <td>8.074946</td>\n",
       "      <td>-499.474407</td>\n",
       "      <td>7.897085</td>\n",
       "      <td>-500.868509</td>\n",
       "      <td>4.931400</td>\n",
       "      <td>-499.963623</td>\n",
       "      <td>24.948919</td>\n",
       "      <td>-498.709987</td>\n",
       "      <td>67.776393</td>\n",
       "      <td>87.360133</td>\n",
       "    </tr>\n",
       "    <tr>\n",
       "      <td>4</td>\n",
       "      <td>199.099327</td>\n",
       "      <td>10.682530</td>\n",
       "      <td>7.530000</td>\n",
       "      <td>0.805575</td>\n",
       "      <td>1401.268123</td>\n",
       "      <td>-500.808305</td>\n",
       "      <td>1398.128818</td>\n",
       "      <td>-499.504543</td>\n",
       "      <td>1402.172226</td>\n",
       "      <td>-500.810606</td>\n",
       "      <td>...</td>\n",
       "      <td>8.054678</td>\n",
       "      <td>-500.397500</td>\n",
       "      <td>8.107890</td>\n",
       "      <td>-509.526725</td>\n",
       "      <td>4.957674</td>\n",
       "      <td>-500.360026</td>\n",
       "      <td>25.003331</td>\n",
       "      <td>-500.856333</td>\n",
       "      <td>61.467078</td>\n",
       "      <td>83.236367</td>\n",
       "    </tr>\n",
       "    <tr>\n",
       "      <td>...</td>\n",
       "      <td>...</td>\n",
       "      <td>...</td>\n",
       "      <td>...</td>\n",
       "      <td>...</td>\n",
       "      <td>...</td>\n",
       "      <td>...</td>\n",
       "      <td>...</td>\n",
       "      <td>...</td>\n",
       "      <td>...</td>\n",
       "      <td>...</td>\n",
       "      <td>...</td>\n",
       "      <td>...</td>\n",
       "      <td>...</td>\n",
       "      <td>...</td>\n",
       "      <td>...</td>\n",
       "      <td>...</td>\n",
       "      <td>...</td>\n",
       "      <td>...</td>\n",
       "      <td>...</td>\n",
       "      <td>...</td>\n",
       "      <td>...</td>\n",
       "    </tr>\n",
       "    <tr>\n",
       "      <td>5146</td>\n",
       "      <td>173.957757</td>\n",
       "      <td>15.963399</td>\n",
       "      <td>8.070000</td>\n",
       "      <td>0.896701</td>\n",
       "      <td>1401.930554</td>\n",
       "      <td>-499.728848</td>\n",
       "      <td>1401.441445</td>\n",
       "      <td>-499.193423</td>\n",
       "      <td>1399.810313</td>\n",
       "      <td>-499.599127</td>\n",
       "      <td>...</td>\n",
       "      <td>12.069155</td>\n",
       "      <td>-499.673279</td>\n",
       "      <td>7.977259</td>\n",
       "      <td>-499.516126</td>\n",
       "      <td>5.933319</td>\n",
       "      <td>-499.965973</td>\n",
       "      <td>8.987171</td>\n",
       "      <td>-499.755909</td>\n",
       "      <td>68.919891</td>\n",
       "      <td>95.172585</td>\n",
       "    </tr>\n",
       "    <tr>\n",
       "      <td>5147</td>\n",
       "      <td>172.910270</td>\n",
       "      <td>16.002605</td>\n",
       "      <td>8.070000</td>\n",
       "      <td>0.896519</td>\n",
       "      <td>1447.075722</td>\n",
       "      <td>-494.716823</td>\n",
       "      <td>1448.851892</td>\n",
       "      <td>-465.963026</td>\n",
       "      <td>1443.890424</td>\n",
       "      <td>-503.587739</td>\n",
       "      <td>...</td>\n",
       "      <td>13.365371</td>\n",
       "      <td>-499.122723</td>\n",
       "      <td>9.288553</td>\n",
       "      <td>-496.892967</td>\n",
       "      <td>7.372897</td>\n",
       "      <td>-499.942956</td>\n",
       "      <td>8.986832</td>\n",
       "      <td>-499.903761</td>\n",
       "      <td>68.440582</td>\n",
       "      <td>94.575036</td>\n",
       "    </tr>\n",
       "    <tr>\n",
       "      <td>5148</td>\n",
       "      <td>171.135718</td>\n",
       "      <td>15.993669</td>\n",
       "      <td>8.070000</td>\n",
       "      <td>1.165996</td>\n",
       "      <td>1498.836182</td>\n",
       "      <td>-501.770403</td>\n",
       "      <td>1499.572353</td>\n",
       "      <td>-495.516347</td>\n",
       "      <td>1502.749213</td>\n",
       "      <td>-520.667442</td>\n",
       "      <td>...</td>\n",
       "      <td>15.101425</td>\n",
       "      <td>-499.936252</td>\n",
       "      <td>10.989181</td>\n",
       "      <td>-498.347898</td>\n",
       "      <td>9.020944</td>\n",
       "      <td>-500.040448</td>\n",
       "      <td>8.982038</td>\n",
       "      <td>-497.789882</td>\n",
       "      <td>67.092759</td>\n",
       "      <td>93.018138</td>\n",
       "    </tr>\n",
       "    <tr>\n",
       "      <td>5149</td>\n",
       "      <td>179.697158</td>\n",
       "      <td>15.438979</td>\n",
       "      <td>8.070000</td>\n",
       "      <td>1.501068</td>\n",
       "      <td>1498.466243</td>\n",
       "      <td>-500.483984</td>\n",
       "      <td>1497.986986</td>\n",
       "      <td>-519.200340</td>\n",
       "      <td>1496.569047</td>\n",
       "      <td>-487.479567</td>\n",
       "      <td>...</td>\n",
       "      <td>15.026853</td>\n",
       "      <td>-499.723143</td>\n",
       "      <td>11.011607</td>\n",
       "      <td>-499.985046</td>\n",
       "      <td>9.009783</td>\n",
       "      <td>-499.937902</td>\n",
       "      <td>9.012660</td>\n",
       "      <td>-500.154284</td>\n",
       "      <td>68.061186</td>\n",
       "      <td>92.599042</td>\n",
       "    </tr>\n",
       "    <tr>\n",
       "      <td>5150</td>\n",
       "      <td>181.556856</td>\n",
       "      <td>14.995850</td>\n",
       "      <td>8.070000</td>\n",
       "      <td>1.623454</td>\n",
       "      <td>1498.096303</td>\n",
       "      <td>-499.796922</td>\n",
       "      <td>1501.743791</td>\n",
       "      <td>-505.146931</td>\n",
       "      <td>1499.535978</td>\n",
       "      <td>-492.428226</td>\n",
       "      <td>...</td>\n",
       "      <td>14.914199</td>\n",
       "      <td>-499.948518</td>\n",
       "      <td>10.986607</td>\n",
       "      <td>-500.658027</td>\n",
       "      <td>8.989497</td>\n",
       "      <td>-500.337588</td>\n",
       "      <td>8.988632</td>\n",
       "      <td>-500.764937</td>\n",
       "      <td>71.699976</td>\n",
       "      <td>91.177695</td>\n",
       "    </tr>\n",
       "  </tbody>\n",
       "</table>\n",
       "<p>5151 rows × 54 columns</p>\n",
       "</div>"
      ],
      "text/plain": [
       "      primary_cleaner.input.sulfate  primary_cleaner.input.depressant  \\\n",
       "0                        210.800909                         14.993118   \n",
       "1                        215.392455                         14.987471   \n",
       "2                        215.259946                         12.884934   \n",
       "3                        215.336236                         12.006805   \n",
       "4                        199.099327                         10.682530   \n",
       "...                             ...                               ...   \n",
       "5146                     173.957757                         15.963399   \n",
       "5147                     172.910270                         16.002605   \n",
       "5148                     171.135718                         15.993669   \n",
       "5149                     179.697158                         15.438979   \n",
       "5150                     181.556856                         14.995850   \n",
       "\n",
       "      primary_cleaner.input.feed_size  primary_cleaner.input.xanthate  \\\n",
       "0                            8.080000                        1.005021   \n",
       "1                            8.080000                        0.990469   \n",
       "2                            7.786667                        0.996043   \n",
       "3                            7.640000                        0.863514   \n",
       "4                            7.530000                        0.805575   \n",
       "...                               ...                             ...   \n",
       "5146                         8.070000                        0.896701   \n",
       "5147                         8.070000                        0.896519   \n",
       "5148                         8.070000                        1.165996   \n",
       "5149                         8.070000                        1.501068   \n",
       "5150                         8.070000                        1.623454   \n",
       "\n",
       "      primary_cleaner.state.floatbank8_a_air  \\\n",
       "0                                1398.981301   \n",
       "1                                1398.777912   \n",
       "2                                1398.493666   \n",
       "3                                1399.618111   \n",
       "4                                1401.268123   \n",
       "...                                      ...   \n",
       "5146                             1401.930554   \n",
       "5147                             1447.075722   \n",
       "5148                             1498.836182   \n",
       "5149                             1498.466243   \n",
       "5150                             1498.096303   \n",
       "\n",
       "      primary_cleaner.state.floatbank8_a_level  \\\n",
       "0                                  -500.225577   \n",
       "1                                  -500.057435   \n",
       "2                                  -500.868360   \n",
       "3                                  -498.863574   \n",
       "4                                  -500.808305   \n",
       "...                                        ...   \n",
       "5146                               -499.728848   \n",
       "5147                               -494.716823   \n",
       "5148                               -501.770403   \n",
       "5149                               -500.483984   \n",
       "5150                               -499.796922   \n",
       "\n",
       "      primary_cleaner.state.floatbank8_b_air  \\\n",
       "0                                1399.144926   \n",
       "1                                1398.055362   \n",
       "2                                1398.860436   \n",
       "3                                1397.440120   \n",
       "4                                1398.128818   \n",
       "...                                      ...   \n",
       "5146                             1401.441445   \n",
       "5147                             1448.851892   \n",
       "5148                             1499.572353   \n",
       "5149                             1497.986986   \n",
       "5150                             1501.743791   \n",
       "\n",
       "      primary_cleaner.state.floatbank8_b_level  \\\n",
       "0                                  -499.919735   \n",
       "1                                  -499.778182   \n",
       "2                                  -499.764529   \n",
       "3                                  -499.211024   \n",
       "4                                  -499.504543   \n",
       "...                                        ...   \n",
       "5146                               -499.193423   \n",
       "5147                               -465.963026   \n",
       "5148                               -495.516347   \n",
       "5149                               -519.200340   \n",
       "5150                               -505.146931   \n",
       "\n",
       "      primary_cleaner.state.floatbank8_c_air  \\\n",
       "0                                1400.102998   \n",
       "1                                1396.151033   \n",
       "2                                1398.075709   \n",
       "3                                1400.129303   \n",
       "4                                1402.172226   \n",
       "...                                      ...   \n",
       "5146                             1399.810313   \n",
       "5147                             1443.890424   \n",
       "5148                             1502.749213   \n",
       "5149                             1496.569047   \n",
       "5150                             1499.535978   \n",
       "\n",
       "      primary_cleaner.state.floatbank8_c_level  ...  \\\n",
       "0                                  -500.704369  ...   \n",
       "1                                  -499.240168  ...   \n",
       "2                                  -502.151509  ...   \n",
       "3                                  -498.355873  ...   \n",
       "4                                  -500.810606  ...   \n",
       "...                                        ...  ...   \n",
       "5146                               -499.599127  ...   \n",
       "5147                               -503.587739  ...   \n",
       "5148                               -520.667442  ...   \n",
       "5149                               -487.479567  ...   \n",
       "5150                               -492.428226  ...   \n",
       "\n",
       "      secondary_cleaner.state.floatbank4_b_air  \\\n",
       "0                                     8.016656   \n",
       "1                                     8.130979   \n",
       "2                                     8.096893   \n",
       "3                                     8.074946   \n",
       "4                                     8.054678   \n",
       "...                                        ...   \n",
       "5146                                 12.069155   \n",
       "5147                                 13.365371   \n",
       "5148                                 15.101425   \n",
       "5149                                 15.026853   \n",
       "5150                                 14.914199   \n",
       "\n",
       "      secondary_cleaner.state.floatbank4_b_level  \\\n",
       "0                                    -501.289139   \n",
       "1                                    -499.634209   \n",
       "2                                    -500.827423   \n",
       "3                                    -499.474407   \n",
       "4                                    -500.397500   \n",
       "...                                          ...   \n",
       "5146                                 -499.673279   \n",
       "5147                                 -499.122723   \n",
       "5148                                 -499.936252   \n",
       "5149                                 -499.723143   \n",
       "5150                                 -499.948518   \n",
       "\n",
       "      secondary_cleaner.state.floatbank5_a_air  \\\n",
       "0                                     7.946562   \n",
       "1                                     7.958270   \n",
       "2                                     8.071056   \n",
       "3                                     7.897085   \n",
       "4                                     8.107890   \n",
       "...                                        ...   \n",
       "5146                                  7.977259   \n",
       "5147                                  9.288553   \n",
       "5148                                 10.989181   \n",
       "5149                                 11.011607   \n",
       "5150                                 10.986607   \n",
       "\n",
       "      secondary_cleaner.state.floatbank5_a_level  \\\n",
       "0                                    -432.317850   \n",
       "1                                    -525.839648   \n",
       "2                                    -500.801673   \n",
       "3                                    -500.868509   \n",
       "4                                    -509.526725   \n",
       "...                                          ...   \n",
       "5146                                 -499.516126   \n",
       "5147                                 -496.892967   \n",
       "5148                                 -498.347898   \n",
       "5149                                 -499.985046   \n",
       "5150                                 -500.658027   \n",
       "\n",
       "      secondary_cleaner.state.floatbank5_b_air  \\\n",
       "0                                     4.872511   \n",
       "1                                     4.878850   \n",
       "2                                     4.905125   \n",
       "3                                     4.931400   \n",
       "4                                     4.957674   \n",
       "...                                        ...   \n",
       "5146                                  5.933319   \n",
       "5147                                  7.372897   \n",
       "5148                                  9.020944   \n",
       "5149                                  9.009783   \n",
       "5150                                  8.989497   \n",
       "\n",
       "      secondary_cleaner.state.floatbank5_b_level  \\\n",
       "0                                    -500.037437   \n",
       "1                                    -500.162375   \n",
       "2                                    -499.828510   \n",
       "3                                    -499.963623   \n",
       "4                                    -500.360026   \n",
       "...                                          ...   \n",
       "5146                                 -499.965973   \n",
       "5147                                 -499.942956   \n",
       "5148                                 -500.040448   \n",
       "5149                                 -499.937902   \n",
       "5150                                 -500.337588   \n",
       "\n",
       "      secondary_cleaner.state.floatbank6_a_air  \\\n",
       "0                                    26.705889   \n",
       "1                                    25.019940   \n",
       "2                                    24.994862   \n",
       "3                                    24.948919   \n",
       "4                                    25.003331   \n",
       "...                                        ...   \n",
       "5146                                  8.987171   \n",
       "5147                                  8.986832   \n",
       "5148                                  8.982038   \n",
       "5149                                  9.012660   \n",
       "5150                                  8.988632   \n",
       "\n",
       "      secondary_cleaner.state.floatbank6_a_level  final.output.recovery  \\\n",
       "0                                    -499.709414              70.273583   \n",
       "1                                    -499.819438              68.910432   \n",
       "2                                    -500.622559              68.143213   \n",
       "3                                    -498.709987              67.776393   \n",
       "4                                    -500.856333              61.467078   \n",
       "...                                          ...                    ...   \n",
       "5146                                 -499.755909              68.919891   \n",
       "5147                                 -499.903761              68.440582   \n",
       "5148                                 -497.789882              67.092759   \n",
       "5149                                 -500.154284              68.061186   \n",
       "5150                                 -500.764937              71.699976   \n",
       "\n",
       "      rougher.output.recovery  \n",
       "0                   89.993421  \n",
       "1                   88.089657  \n",
       "2                   88.412756  \n",
       "3                   87.360133  \n",
       "4                   83.236367  \n",
       "...                       ...  \n",
       "5146                95.172585  \n",
       "5147                94.575036  \n",
       "5148                93.018138  \n",
       "5149                92.599042  \n",
       "5150                91.177695  \n",
       "\n",
       "[5151 rows x 54 columns]"
      ]
     },
     "execution_count": 22,
     "metadata": {},
     "output_type": "execute_result"
    }
   ],
   "source": [
    "def del_date(df):\n",
    "    df.drop(df.columns[[0]], axis=1, inplace=True)\n",
    "    df.reset_index(drop=True, inplace=True)\n",
    "    return df\n",
    "        \n",
    "del_date(df_full_new)\n",
    "del_date(df_train_new)\n",
    "del_date(df_test)"
   ]
  },
  {
   "cell_type": "markdown",
   "metadata": {},
   "source": [
    "Создадим функции для расчета sMAPE и итогового sMAPE:"
   ]
  },
  {
   "cell_type": "code",
   "execution_count": 23,
   "metadata": {},
   "outputs": [],
   "source": [
    "def smape(y_true, y_pred):\n",
    "    return (((abs(y_true - y_pred) * 200)/(abs(y_true) + abs(y_pred))).sum()) / len(y_true)\n",
    "\n",
    "def smape_result(smape_rougher,smape_final):\n",
    "    return (0.25*smape_rougher + 0.75*smape_final)"
   ]
  },
  {
   "cell_type": "markdown",
   "metadata": {},
   "source": [
    "### Обучение моделей"
   ]
  },
  {
   "cell_type": "code",
   "execution_count": 24,
   "metadata": {},
   "outputs": [],
   "source": [
    "train_features_rougher = df_train_new.drop( ['rougher.output.recovery', 'final.output.recovery'], axis=1)\n",
    "train_target_rougher = df_train_new['rougher.output.recovery']\n",
    "train_features_final = train_features_rougher\n",
    "train_target_final = df_train_new['final.output.recovery']\n",
    "\n",
    "scaler_rougher = StandardScaler() #произведем масштабирование признаков\n",
    "train_features_rougher = scaler_rougher.fit_transform(train_features_rougher)\n",
    "\n",
    "scaler_final = StandardScaler() \n",
    "train_features_final = scaler_final.fit_transform(train_features_final)"
   ]
  },
  {
   "cell_type": "code",
   "execution_count": 25,
   "metadata": {},
   "outputs": [],
   "source": [
    "def get_cv_scores(model, target, features):\n",
    "    smape_scorer = make_scorer(smape)\n",
    "    \n",
    "    scores = cross_val_score(model,\n",
    "                             features,\n",
    "                             target,\n",
    "                             cv=5,\n",
    "                             scoring=smape_scorer)\n",
    "    \n",
    "    return scores.mean()"
   ]
  },
  {
   "cell_type": "markdown",
   "metadata": {},
   "source": [
    "**Обучим дерево решений:**"
   ]
  },
  {
   "cell_type": "code",
   "execution_count": 26,
   "metadata": {},
   "outputs": [
    {
     "data": {
      "text/html": [
       "<div>\n",
       "<style scoped>\n",
       "    .dataframe tbody tr th:only-of-type {\n",
       "        vertical-align: middle;\n",
       "    }\n",
       "\n",
       "    .dataframe tbody tr th {\n",
       "        vertical-align: top;\n",
       "    }\n",
       "\n",
       "    .dataframe thead th {\n",
       "        text-align: right;\n",
       "    }\n",
       "</style>\n",
       "<table border=\"1\" class=\"dataframe\">\n",
       "  <thead>\n",
       "    <tr style=\"text-align: right;\">\n",
       "      <th></th>\n",
       "      <th>rougher_smape_tree</th>\n",
       "      <th>final_smape_tree</th>\n",
       "      <th>smape_result_tree</th>\n",
       "      <th>depth_tree</th>\n",
       "    </tr>\n",
       "  </thead>\n",
       "  <tbody>\n",
       "    <tr>\n",
       "      <td>1</td>\n",
       "      <td>7.100611</td>\n",
       "      <td>9.418860</td>\n",
       "      <td>8.839298</td>\n",
       "      <td>3</td>\n",
       "    </tr>\n",
       "    <tr>\n",
       "      <td>0</td>\n",
       "      <td>7.618112</td>\n",
       "      <td>9.355114</td>\n",
       "      <td>8.920863</td>\n",
       "      <td>2</td>\n",
       "    </tr>\n",
       "    <tr>\n",
       "      <td>2</td>\n",
       "      <td>7.413873</td>\n",
       "      <td>9.701186</td>\n",
       "      <td>9.129357</td>\n",
       "      <td>4</td>\n",
       "    </tr>\n",
       "    <tr>\n",
       "      <td>3</td>\n",
       "      <td>8.152955</td>\n",
       "      <td>10.564085</td>\n",
       "      <td>9.961303</td>\n",
       "      <td>5</td>\n",
       "    </tr>\n",
       "    <tr>\n",
       "      <td>4</td>\n",
       "      <td>8.530732</td>\n",
       "      <td>10.554142</td>\n",
       "      <td>10.048289</td>\n",
       "      <td>6</td>\n",
       "    </tr>\n",
       "    <tr>\n",
       "      <td>5</td>\n",
       "      <td>9.363899</td>\n",
       "      <td>11.338846</td>\n",
       "      <td>10.845109</td>\n",
       "      <td>7</td>\n",
       "    </tr>\n",
       "    <tr>\n",
       "      <td>6</td>\n",
       "      <td>9.185775</td>\n",
       "      <td>12.133715</td>\n",
       "      <td>11.396730</td>\n",
       "      <td>8</td>\n",
       "    </tr>\n",
       "    <tr>\n",
       "      <td>7</td>\n",
       "      <td>9.238007</td>\n",
       "      <td>12.381261</td>\n",
       "      <td>11.595448</td>\n",
       "      <td>9</td>\n",
       "    </tr>\n",
       "    <tr>\n",
       "      <td>8</td>\n",
       "      <td>10.465133</td>\n",
       "      <td>13.742607</td>\n",
       "      <td>12.923238</td>\n",
       "      <td>10</td>\n",
       "    </tr>\n",
       "    <tr>\n",
       "      <td>9</td>\n",
       "      <td>10.465538</td>\n",
       "      <td>13.831010</td>\n",
       "      <td>12.989642</td>\n",
       "      <td>11</td>\n",
       "    </tr>\n",
       "    <tr>\n",
       "      <td>10</td>\n",
       "      <td>10.907145</td>\n",
       "      <td>13.868798</td>\n",
       "      <td>13.128385</td>\n",
       "      <td>12</td>\n",
       "    </tr>\n",
       "    <tr>\n",
       "      <td>11</td>\n",
       "      <td>9.919211</td>\n",
       "      <td>14.554699</td>\n",
       "      <td>13.395827</td>\n",
       "      <td>13</td>\n",
       "    </tr>\n",
       "  </tbody>\n",
       "</table>\n",
       "</div>"
      ],
      "text/plain": [
       "    rougher_smape_tree  final_smape_tree  smape_result_tree  depth_tree\n",
       "1             7.100611          9.418860           8.839298           3\n",
       "0             7.618112          9.355114           8.920863           2\n",
       "2             7.413873          9.701186           9.129357           4\n",
       "3             8.152955         10.564085           9.961303           5\n",
       "4             8.530732         10.554142          10.048289           6\n",
       "5             9.363899         11.338846          10.845109           7\n",
       "6             9.185775         12.133715          11.396730           8\n",
       "7             9.238007         12.381261          11.595448           9\n",
       "8            10.465133         13.742607          12.923238          10\n",
       "9            10.465538         13.831010          12.989642          11\n",
       "10           10.907145         13.868798          13.128385          12\n",
       "11            9.919211         14.554699          13.395827          13"
      ]
     },
     "metadata": {},
     "output_type": "display_data"
    }
   ],
   "source": [
    "d = defaultdict(list)\n",
    "\n",
    "for depth in range(2, 14):\n",
    "    \n",
    "    model_1 = DecisionTreeRegressor(max_depth=depth, random_state=12345)\n",
    "    model_2 = DecisionTreeRegressor(max_depth=depth, random_state=12345)\n",
    "\n",
    "    rougher_smape = get_cv_scores(model_1, train_target_rougher, train_features_rougher)\n",
    "    final_smape = get_cv_scores(model_2, train_target_final, train_features_final)\n",
    "    d['rougher_smape_tree'].append(rougher_smape)\n",
    "    d['final_smape_tree'].append(final_smape)\n",
    "    d['smape_result_tree'].append(smape_result(rougher_smape, final_smape))\n",
    "    d['depth_tree'].append(depth)\n",
    "\n",
    "tree = pd.DataFrame(d).sort_values(by='smape_result_tree')\n",
    "display(tree)"
   ]
  },
  {
   "cell_type": "markdown",
   "metadata": {},
   "source": [
    "Наилучшей среди моделей решающего дерева оказалась модель с глубиной, равной 3. Итоговый sMAPE = 8,84"
   ]
  },
  {
   "cell_type": "markdown",
   "metadata": {},
   "source": [
    "**Обучим случайный лес:**"
   ]
  },
  {
   "cell_type": "markdown",
   "metadata": {},
   "source": [
    "Конечно, правильнее было бы проверить одновременно параметры n_estimators и max_depth, но в таком случае обучение модели займет очень много времени, потому сделам допущение и примем max_depth=3:"
   ]
  },
  {
   "cell_type": "code",
   "execution_count": 27,
   "metadata": {},
   "outputs": [
    {
     "data": {
      "text/html": [
       "<div>\n",
       "<style scoped>\n",
       "    .dataframe tbody tr th:only-of-type {\n",
       "        vertical-align: middle;\n",
       "    }\n",
       "\n",
       "    .dataframe tbody tr th {\n",
       "        vertical-align: top;\n",
       "    }\n",
       "\n",
       "    .dataframe thead th {\n",
       "        text-align: right;\n",
       "    }\n",
       "</style>\n",
       "<table border=\"1\" class=\"dataframe\">\n",
       "  <thead>\n",
       "    <tr style=\"text-align: right;\">\n",
       "      <th></th>\n",
       "      <th>rougher_smape_forest</th>\n",
       "      <th>final_smape_forest</th>\n",
       "      <th>smape_result_forest</th>\n",
       "      <th>est_forest</th>\n",
       "    </tr>\n",
       "  </thead>\n",
       "  <tbody>\n",
       "    <tr>\n",
       "      <td>12</td>\n",
       "      <td>6.733584</td>\n",
       "      <td>9.125278</td>\n",
       "      <td>8.527355</td>\n",
       "      <td>13</td>\n",
       "    </tr>\n",
       "    <tr>\n",
       "      <td>13</td>\n",
       "      <td>6.714114</td>\n",
       "      <td>9.138913</td>\n",
       "      <td>8.532713</td>\n",
       "      <td>14</td>\n",
       "    </tr>\n",
       "    <tr>\n",
       "      <td>11</td>\n",
       "      <td>6.746246</td>\n",
       "      <td>9.133510</td>\n",
       "      <td>8.536694</td>\n",
       "      <td>12</td>\n",
       "    </tr>\n",
       "    <tr>\n",
       "      <td>9</td>\n",
       "      <td>6.755285</td>\n",
       "      <td>9.133980</td>\n",
       "      <td>8.539306</td>\n",
       "      <td>10</td>\n",
       "    </tr>\n",
       "    <tr>\n",
       "      <td>14</td>\n",
       "      <td>6.720684</td>\n",
       "      <td>9.150297</td>\n",
       "      <td>8.542894</td>\n",
       "      <td>15</td>\n",
       "    </tr>\n",
       "  </tbody>\n",
       "</table>\n",
       "</div>"
      ],
      "text/plain": [
       "    rougher_smape_forest  final_smape_forest  smape_result_forest  est_forest\n",
       "12              6.733584            9.125278             8.527355          13\n",
       "13              6.714114            9.138913             8.532713          14\n",
       "11              6.746246            9.133510             8.536694          12\n",
       "9               6.755285            9.133980             8.539306          10\n",
       "14              6.720684            9.150297             8.542894          15"
      ]
     },
     "metadata": {},
     "output_type": "display_data"
    }
   ],
   "source": [
    "f = defaultdict(list)\n",
    "\n",
    "for est in range(1, 20):\n",
    "    model_forest_1 = RandomForestRegressor(max_depth=3, n_estimators=est, random_state=12345)\n",
    "    model_forest_2 = RandomForestRegressor(max_depth=3, n_estimators=est, random_state=12345)\n",
    "        \n",
    "    rougher_smape = get_cv_scores(model_forest_1, train_target_rougher, train_features_rougher)\n",
    "    final_smape = get_cv_scores(model_forest_2, train_target_final, train_features_final)\n",
    "    f['rougher_smape_forest'].append(rougher_smape)\n",
    "    f['final_smape_forest'].append(final_smape)\n",
    "    f['smape_result_forest'].append(smape_result(rougher_smape, final_smape))\n",
    "    f['est_forest'].append(est)\n",
    "        \n",
    "        \n",
    "forest = pd.DataFrame(f).sort_values(by='smape_result_forest')\n",
    "display(forest.head())"
   ]
  },
  {
   "cell_type": "markdown",
   "metadata": {},
   "source": [
    "Наилучшей оказалась модель с количеством деревьев, равным 13. Итоговый sMAPE = 8,53."
   ]
  },
  {
   "cell_type": "markdown",
   "metadata": {},
   "source": [
    "**Обучим линейную регрессию:**"
   ]
  },
  {
   "cell_type": "code",
   "execution_count": 28,
   "metadata": {},
   "outputs": [
    {
     "name": "stdout",
     "output_type": "stream",
     "text": [
      "Итоговый sMAPE: 10.029544166382294\n",
      "sMAPE(rougher): 7.227109063439043\n",
      "sMAPE(final): 10.96368920069671\n"
     ]
    }
   ],
   "source": [
    "model_regression_1 = LinearRegression()\n",
    "model_regression_2 = LinearRegression()\n",
    "\n",
    "rougher_smape_regression = get_cv_scores(model_regression_1, train_target_rougher, train_features_rougher)\n",
    "final_smape_regression = get_cv_scores(model_regression_2, train_target_final, train_features_final)\n",
    "smape_result_regression = smape_result(rougher_smape_regression, final_smape_regression)\n",
    "\n",
    "print(f'Итоговый sMAPE: {smape_result_regression}')\n",
    "print(f'sMAPE(rougher): {rougher_smape_regression}')\n",
    "print(f'sMAPE(final): {final_smape_regression}')"
   ]
  },
  {
   "cell_type": "markdown",
   "metadata": {},
   "source": [
    "### Проверка наилучшей модели на тестовой выборке"
   ]
  },
  {
   "cell_type": "markdown",
   "metadata": {},
   "source": [
    "Разобьем тестовую выборку на признаки и целевые признаки, а также произведем масштабирование:"
   ]
  },
  {
   "cell_type": "code",
   "execution_count": 29,
   "metadata": {},
   "outputs": [],
   "source": [
    "test_features_rougher = df_test.drop( ['rougher.output.recovery', 'final.output.recovery'], axis=1)\n",
    "test_target_rougher = df_test['rougher.output.recovery']\n",
    "\n",
    "test_features_final = test_features_rougher\n",
    "test_target_final = df_test['final.output.recovery']\n",
    "\n",
    "test_features_rougher = scaler_rougher.transform(test_features_rougher)\n",
    "test_features_final = scaler_final.transform(test_features_final)"
   ]
  },
  {
   "cell_type": "markdown",
   "metadata": {},
   "source": [
    "Наилучшей моделью оказалась модель случайного леса с глубиной - 3 и количеством деревьев - 13. Проверим ее на тестовой выборке:"
   ]
  },
  {
   "cell_type": "code",
   "execution_count": 30,
   "metadata": {},
   "outputs": [
    {
     "data": {
      "text/html": [
       "<div>\n",
       "<style scoped>\n",
       "    .dataframe tbody tr th:only-of-type {\n",
       "        vertical-align: middle;\n",
       "    }\n",
       "\n",
       "    .dataframe tbody tr th {\n",
       "        vertical-align: top;\n",
       "    }\n",
       "\n",
       "    .dataframe thead th {\n",
       "        text-align: right;\n",
       "    }\n",
       "</style>\n",
       "<table border=\"1\" class=\"dataframe\">\n",
       "  <thead>\n",
       "    <tr style=\"text-align: right;\">\n",
       "      <th></th>\n",
       "      <th>rougher_smape_test</th>\n",
       "      <th>final_smape_test</th>\n",
       "      <th>smape_result_test</th>\n",
       "    </tr>\n",
       "  </thead>\n",
       "  <tbody>\n",
       "    <tr>\n",
       "      <td>0</td>\n",
       "      <td>4.939029</td>\n",
       "      <td>8.004752</td>\n",
       "      <td>7.238321</td>\n",
       "    </tr>\n",
       "  </tbody>\n",
       "</table>\n",
       "</div>"
      ],
      "text/plain": [
       "   rougher_smape_test  final_smape_test  smape_result_test\n",
       "0            4.939029          8.004752           7.238321"
      ]
     },
     "execution_count": 30,
     "metadata": {},
     "output_type": "execute_result"
    }
   ],
   "source": [
    "best_model_rougher = RandomForestRegressor(max_depth=3, n_estimators=13, random_state=12345)\n",
    "best_model_final = RandomForestRegressor(max_depth=3, n_estimators=13, random_state=12345)\n",
    "best_model_rougher.fit(train_features_rougher, train_target_rougher)\n",
    "best_model_final.fit(train_features_final, train_target_final)\n",
    "\n",
    "predictions_rougher = best_model_rougher.predict(test_features_rougher)\n",
    "predictions_final = best_model_final.predict(test_features_final)\n",
    "\n",
    "g = defaultdict(list) \n",
    "g['rougher_smape_test'].append(smape(test_target_rougher, predictions_rougher))\n",
    "g['final_smape_test'].append(smape(test_target_final, predictions_final))\n",
    "g['smape_result_test'].append(smape_result(smape(test_target_rougher, predictions_rougher), smape(test_target_final, predictions_final)))\n",
    "\n",
    "pd.DataFrame(g)"
   ]
  },
  {
   "cell_type": "markdown",
   "metadata": {},
   "source": [
    "В результате проверки итоговый sMAPE оказался равен 7,24, что даже ниже полученного на обучающей выборке результата. Это свидетельствует о том, что модель выбрана верно. Осталось проверить ее на адекватность"
   ]
  },
  {
   "cell_type": "markdown",
   "metadata": {},
   "source": [
    "### Проверка модели на адекватность"
   ]
  },
  {
   "cell_type": "markdown",
   "metadata": {},
   "source": [
    "Обучим константную модель:"
   ]
  },
  {
   "cell_type": "code",
   "execution_count": 31,
   "metadata": {},
   "outputs": [
    {
     "name": "stdout",
     "output_type": "stream",
     "text": [
      "Итоговый sMAPE: 9.772078245129123\n",
      "sMAPE(rougher): 7.792511820388509\n",
      "sMAPE(final): 10.431933720042661\n"
     ]
    }
   ],
   "source": [
    "base_rougher = DummyRegressor(strategy=\"median\")\n",
    "base_final = DummyRegressor(strategy=\"median\")\n",
    "\n",
    "base_rougher_smape = get_cv_scores(base_rougher, train_target_rougher, train_features_rougher)\n",
    "base_final_smape = get_cv_scores(base_final, train_target_final, train_features_final)\n",
    "smape_result_base = smape_result(base_rougher_smape, base_final_smape)\n",
    "\n",
    "print(f'Итоговый sMAPE: {smape_result_base}')\n",
    "print(f'sMAPE(rougher): {base_rougher_smape}')\n",
    "print(f'sMAPE(final): {base_final_smape}')"
   ]
  },
  {
   "cell_type": "markdown",
   "metadata": {},
   "source": [
    "sMAPE нашей модели меньше, чем у константной. Таким образом, наша модель прошла проверку на адекватность"
   ]
  },
  {
   "cell_type": "markdown",
   "metadata": {},
   "source": [
    "**Вывод**\n",
    "\n",
    "Мы обучили модели решающего дерева, случайного леса и линейной регрессии. Наилучшей оказалась модель случайного леса (max_depth=3, n_estimators=13), которая также прошла проверку на адекватность."
   ]
  },
  {
   "cell_type": "markdown",
   "metadata": {},
   "source": [
    "# Вывод"
   ]
  },
  {
   "cell_type": "markdown",
   "metadata": {},
   "source": [
    "В самом начале работы были произведены обзор данных и предобработка таковых. Также была осуществлена проверка коректности расчета целевого признака **rougher.output.recovery**, которая оказалось успешной.\n",
    "\n",
    "Следом был произведен анализ данных, на основе которого получены следующие выводы:\n",
    "* с каждым последующим этапом очистки концентрация золота возрастает; концентрация серебра не столь значительно убывает, а свинца - возрастает;\n",
    "* распределения размеров гранул в обучающей и тестовой выборках визуально схожи;\n",
    "* с помощью исследования суммарной концентрации всех веществ на разных стадиях из данных были удалены выбросы.\n",
    "\n",
    "После были обучены модели решающего дерева, случайного леса и линейной регрессии, из которых выбрана лучшая - модель случайного леса (max_depth=3, n_estimators=13). Итоговый sMAPE наилучшей модели на обучающей выборке - 8.53, на тестовой - 7.24. Следом модель успешно прошла проверку на адекватность."
   ]
  }
 ],
 "metadata": {
  "ExecuteTimeLog": [
   {
    "duration": 1286,
    "start_time": "2022-03-09T15:47:06.279Z"
   },
   {
    "duration": 2172,
    "start_time": "2022-03-09T15:49:07.398Z"
   },
   {
    "duration": 319,
    "start_time": "2022-03-09T15:49:41.791Z"
   },
   {
    "duration": 673,
    "start_time": "2022-03-09T15:50:57.620Z"
   },
   {
    "duration": 842,
    "start_time": "2022-03-09T15:51:04.716Z"
   },
   {
    "duration": 840,
    "start_time": "2022-03-09T16:18:02.338Z"
   },
   {
    "duration": 37,
    "start_time": "2022-03-09T16:41:22.902Z"
   },
   {
    "duration": 31,
    "start_time": "2022-03-09T16:41:55.028Z"
   },
   {
    "duration": 31,
    "start_time": "2022-03-09T16:42:07.302Z"
   },
   {
    "duration": 29,
    "start_time": "2022-03-09T16:43:12.139Z"
   },
   {
    "duration": 803,
    "start_time": "2022-03-09T16:45:41.559Z"
   },
   {
    "duration": 1319,
    "start_time": "2022-03-09T17:34:19.481Z"
   },
   {
    "duration": 871,
    "start_time": "2022-03-09T17:34:20.803Z"
   },
   {
    "duration": 5,
    "start_time": "2022-03-09T18:11:21.747Z"
   },
   {
    "duration": 88,
    "start_time": "2022-03-09T18:12:39.239Z"
   },
   {
    "duration": 273,
    "start_time": "2022-03-09T18:12:46.593Z"
   },
   {
    "duration": 4,
    "start_time": "2022-03-09T18:14:00.412Z"
   },
   {
    "duration": 207,
    "start_time": "2022-03-09T18:14:03.680Z"
   },
   {
    "duration": 211,
    "start_time": "2022-03-09T18:15:18.917Z"
   },
   {
    "duration": 588,
    "start_time": "2022-03-09T18:16:36.089Z"
   },
   {
    "duration": 5,
    "start_time": "2022-03-09T18:17:21.804Z"
   },
   {
    "duration": 547,
    "start_time": "2022-03-09T18:17:23.250Z"
   },
   {
    "duration": 5,
    "start_time": "2022-03-09T18:17:34.457Z"
   },
   {
    "duration": 586,
    "start_time": "2022-03-09T18:17:36.842Z"
   },
   {
    "duration": 4,
    "start_time": "2022-03-09T18:17:59.908Z"
   },
   {
    "duration": 568,
    "start_time": "2022-03-09T18:18:02.605Z"
   },
   {
    "duration": 584,
    "start_time": "2022-03-09T18:20:37.240Z"
   },
   {
    "duration": 276,
    "start_time": "2022-03-09T18:20:48.412Z"
   },
   {
    "duration": 4,
    "start_time": "2022-03-09T18:23:46.631Z"
   },
   {
    "duration": 625,
    "start_time": "2022-03-09T18:27:15.567Z"
   },
   {
    "duration": 5,
    "start_time": "2022-03-09T18:27:31.898Z"
   },
   {
    "duration": 619,
    "start_time": "2022-03-09T18:27:33.298Z"
   },
   {
    "duration": 112,
    "start_time": "2022-03-09T18:27:41.644Z"
   },
   {
    "duration": 5,
    "start_time": "2022-03-09T18:27:46.219Z"
   },
   {
    "duration": 561,
    "start_time": "2022-03-09T18:27:47.625Z"
   },
   {
    "duration": 4,
    "start_time": "2022-03-09T18:28:09.435Z"
   },
   {
    "duration": 588,
    "start_time": "2022-03-09T18:28:11.900Z"
   },
   {
    "duration": 559,
    "start_time": "2022-03-09T18:28:18.771Z"
   },
   {
    "duration": 273,
    "start_time": "2022-03-09T18:28:22.040Z"
   },
   {
    "duration": 4,
    "start_time": "2022-03-09T18:36:21.525Z"
   },
   {
    "duration": 562,
    "start_time": "2022-03-09T18:36:23.216Z"
   },
   {
    "duration": 4,
    "start_time": "2022-03-09T18:36:28.901Z"
   },
   {
    "duration": 1189,
    "start_time": "2022-03-09T18:36:31.315Z"
   },
   {
    "duration": 4,
    "start_time": "2022-03-09T18:36:38.792Z"
   },
   {
    "duration": 1156,
    "start_time": "2022-03-09T18:36:40.315Z"
   },
   {
    "duration": 5,
    "start_time": "2022-03-09T18:36:50.465Z"
   },
   {
    "duration": 574,
    "start_time": "2022-03-09T18:36:53.937Z"
   },
   {
    "duration": 6,
    "start_time": "2022-03-12T08:36:51.930Z"
   },
   {
    "duration": 1386,
    "start_time": "2022-03-12T08:36:58.208Z"
   },
   {
    "duration": 882,
    "start_time": "2022-03-12T08:36:59.597Z"
   },
   {
    "duration": 5,
    "start_time": "2022-03-12T08:37:00.482Z"
   },
   {
    "duration": 632,
    "start_time": "2022-03-12T08:37:00.490Z"
   },
   {
    "duration": 587,
    "start_time": "2022-03-12T08:37:01.125Z"
   },
   {
    "duration": 296,
    "start_time": "2022-03-12T08:37:01.714Z"
   },
   {
    "duration": 5,
    "start_time": "2022-03-12T09:07:32.712Z"
   },
   {
    "duration": 1454,
    "start_time": "2022-03-12T09:13:40.100Z"
   },
   {
    "duration": 852,
    "start_time": "2022-03-12T09:13:41.557Z"
   },
   {
    "duration": 5,
    "start_time": "2022-03-12T09:13:42.412Z"
   },
   {
    "duration": 600,
    "start_time": "2022-03-12T09:13:42.419Z"
   },
   {
    "duration": 578,
    "start_time": "2022-03-12T09:13:43.033Z"
   },
   {
    "duration": 318,
    "start_time": "2022-03-12T09:13:43.614Z"
   },
   {
    "duration": 541,
    "start_time": "2022-03-12T09:13:43.934Z"
   },
   {
    "duration": 440,
    "start_time": "2022-03-12T09:14:07.590Z"
   },
   {
    "duration": 447,
    "start_time": "2022-03-12T09:14:51.507Z"
   },
   {
    "duration": 751,
    "start_time": "2022-03-12T09:55:21.492Z"
   },
   {
    "duration": 4993,
    "start_time": "2022-03-12T09:56:40.581Z"
   },
   {
    "duration": 4781,
    "start_time": "2022-03-12T10:00:01.347Z"
   },
   {
    "duration": 4532,
    "start_time": "2022-03-12T10:02:19.027Z"
   },
   {
    "duration": 110,
    "start_time": "2022-03-12T10:06:10.484Z"
   },
   {
    "duration": 110,
    "start_time": "2022-03-12T10:07:00.423Z"
   },
   {
    "duration": 116,
    "start_time": "2022-03-12T10:07:42.375Z"
   },
   {
    "duration": 221,
    "start_time": "2022-03-12T10:07:49.364Z"
   },
   {
    "duration": 111,
    "start_time": "2022-03-12T10:08:10.351Z"
   },
   {
    "duration": 4,
    "start_time": "2022-03-12T10:08:40.150Z"
   },
   {
    "duration": 5,
    "start_time": "2022-03-12T10:10:10.935Z"
   },
   {
    "duration": 47,
    "start_time": "2022-03-12T10:12:20.432Z"
   },
   {
    "duration": 9,
    "start_time": "2022-03-12T10:12:33.844Z"
   },
   {
    "duration": 5,
    "start_time": "2022-03-12T10:31:38.352Z"
   },
   {
    "duration": 7,
    "start_time": "2022-03-12T10:31:49.164Z"
   },
   {
    "duration": 9,
    "start_time": "2022-03-12T10:32:03.773Z"
   },
   {
    "duration": 5,
    "start_time": "2022-03-12T10:44:43.993Z"
   },
   {
    "duration": 333,
    "start_time": "2022-03-12T10:45:18.976Z"
   },
   {
    "duration": 567,
    "start_time": "2022-03-12T10:45:26.789Z"
   },
   {
    "duration": 53,
    "start_time": "2022-03-12T10:45:50.162Z"
   },
   {
    "duration": 28,
    "start_time": "2022-03-12T10:47:13.363Z"
   },
   {
    "duration": 567,
    "start_time": "2022-03-12T10:48:59.550Z"
   },
   {
    "duration": 15,
    "start_time": "2022-03-12T10:49:34.628Z"
   },
   {
    "duration": 26,
    "start_time": "2022-03-12T10:49:57.931Z"
   },
   {
    "duration": 9,
    "start_time": "2022-03-12T10:50:06.818Z"
   },
   {
    "duration": 4,
    "start_time": "2022-03-12T11:16:05.071Z"
   },
   {
    "duration": 6,
    "start_time": "2022-03-12T11:16:28.019Z"
   },
   {
    "duration": 8,
    "start_time": "2022-03-12T11:16:49.381Z"
   },
   {
    "duration": 8,
    "start_time": "2022-03-12T11:17:06.211Z"
   },
   {
    "duration": 11,
    "start_time": "2022-03-12T11:17:24.850Z"
   },
   {
    "duration": 9,
    "start_time": "2022-03-12T11:18:00.301Z"
   },
   {
    "duration": 1446,
    "start_time": "2022-03-12T11:20:57.496Z"
   },
   {
    "duration": 893,
    "start_time": "2022-03-12T11:20:58.944Z"
   },
   {
    "duration": 4,
    "start_time": "2022-03-12T11:20:59.840Z"
   },
   {
    "duration": 620,
    "start_time": "2022-03-12T11:20:59.847Z"
   },
   {
    "duration": 616,
    "start_time": "2022-03-12T11:21:00.470Z"
   },
   {
    "duration": 355,
    "start_time": "2022-03-12T11:21:01.089Z"
   },
   {
    "duration": 15,
    "start_time": "2022-03-12T11:21:01.447Z"
   },
   {
    "duration": 23,
    "start_time": "2022-03-12T11:21:01.466Z"
   },
   {
    "duration": 52,
    "start_time": "2022-03-12T11:21:01.492Z"
   },
   {
    "duration": 4,
    "start_time": "2022-03-12T11:24:05.844Z"
   },
   {
    "duration": 4,
    "start_time": "2022-03-12T11:25:00.000Z"
   },
   {
    "duration": 4,
    "start_time": "2022-03-12T11:26:07.862Z"
   },
   {
    "duration": 9114,
    "start_time": "2022-03-12T11:32:55.311Z"
   },
   {
    "duration": 574,
    "start_time": "2022-03-12T11:35:26.004Z"
   },
   {
    "duration": 1434,
    "start_time": "2022-03-12T11:35:32.192Z"
   },
   {
    "duration": 15,
    "start_time": "2022-03-12T11:35:38.772Z"
   },
   {
    "duration": 15,
    "start_time": "2022-03-12T11:36:22.438Z"
   },
   {
    "duration": 49,
    "start_time": "2022-03-12T11:36:33.492Z"
   },
   {
    "duration": 645,
    "start_time": "2022-03-12T11:37:00.206Z"
   },
   {
    "duration": 50,
    "start_time": "2022-03-12T11:37:07.498Z"
   },
   {
    "duration": 4,
    "start_time": "2022-03-12T11:37:53.596Z"
   },
   {
    "duration": 137,
    "start_time": "2022-03-12T11:41:03.266Z"
   },
   {
    "duration": 11432,
    "start_time": "2022-03-12T11:41:18.248Z"
   },
   {
    "duration": 12674,
    "start_time": "2022-03-12T11:41:35.029Z"
   },
   {
    "duration": 120,
    "start_time": "2022-03-12T11:44:30.600Z"
   },
   {
    "duration": 402,
    "start_time": "2022-03-12T11:44:39.788Z"
   },
   {
    "duration": 6,
    "start_time": "2022-03-12T11:49:25.078Z"
   },
   {
    "duration": 5,
    "start_time": "2022-03-12T11:49:50.030Z"
   },
   {
    "duration": 6,
    "start_time": "2022-03-12T11:50:19.236Z"
   },
   {
    "duration": 5,
    "start_time": "2022-03-12T11:51:21.879Z"
   },
   {
    "duration": 125,
    "start_time": "2022-03-12T11:51:28.432Z"
   },
   {
    "duration": 338,
    "start_time": "2022-03-12T11:51:31.562Z"
   },
   {
    "duration": 5,
    "start_time": "2022-03-12T11:51:39.963Z"
   },
   {
    "duration": 5,
    "start_time": "2022-03-12T11:52:02.297Z"
   },
   {
    "duration": 5,
    "start_time": "2022-03-12T11:52:30.589Z"
   },
   {
    "duration": 6,
    "start_time": "2022-03-12T11:52:57.186Z"
   },
   {
    "duration": 12,
    "start_time": "2022-03-12T11:56:16.800Z"
   },
   {
    "duration": 1380,
    "start_time": "2022-03-12T11:58:17.678Z"
   },
   {
    "duration": 872,
    "start_time": "2022-03-12T11:58:19.061Z"
   },
   {
    "duration": 4,
    "start_time": "2022-03-12T11:58:19.936Z"
   },
   {
    "duration": 626,
    "start_time": "2022-03-12T11:58:19.942Z"
   },
   {
    "duration": 615,
    "start_time": "2022-03-12T11:58:20.571Z"
   },
   {
    "duration": 294,
    "start_time": "2022-03-12T11:58:21.189Z"
   },
   {
    "duration": 14,
    "start_time": "2022-03-12T11:58:21.486Z"
   },
   {
    "duration": 31,
    "start_time": "2022-03-12T11:58:21.502Z"
   },
   {
    "duration": 22,
    "start_time": "2022-03-12T11:58:21.536Z"
   },
   {
    "duration": 515,
    "start_time": "2022-03-12T12:01:28.769Z"
   },
   {
    "duration": 350,
    "start_time": "2022-03-12T12:03:12.756Z"
   },
   {
    "duration": 330,
    "start_time": "2022-03-12T12:04:39.988Z"
   },
   {
    "duration": 14,
    "start_time": "2022-03-12T12:05:16.755Z"
   },
   {
    "duration": 50,
    "start_time": "2022-03-12T12:05:28.642Z"
   },
   {
    "duration": 347,
    "start_time": "2022-03-12T12:06:36.325Z"
   },
   {
    "duration": 83,
    "start_time": "2022-03-12T12:06:45.905Z"
   },
   {
    "duration": 52,
    "start_time": "2022-03-12T12:07:01.096Z"
   },
   {
    "duration": 350,
    "start_time": "2022-03-12T12:09:37.396Z"
   },
   {
    "duration": 54,
    "start_time": "2022-03-12T12:09:42.543Z"
   },
   {
    "duration": 52,
    "start_time": "2022-03-12T12:10:33.471Z"
   },
   {
    "duration": 51,
    "start_time": "2022-03-12T12:10:40.379Z"
   },
   {
    "duration": 56,
    "start_time": "2022-03-12T12:12:36.739Z"
   },
   {
    "duration": 52,
    "start_time": "2022-03-12T12:12:56.138Z"
   },
   {
    "duration": 369,
    "start_time": "2022-03-12T12:13:15.771Z"
   },
   {
    "duration": 1409,
    "start_time": "2022-03-12T12:13:28.146Z"
   },
   {
    "duration": 855,
    "start_time": "2022-03-12T12:13:29.558Z"
   },
   {
    "duration": 4,
    "start_time": "2022-03-12T12:13:30.416Z"
   },
   {
    "duration": 622,
    "start_time": "2022-03-12T12:13:30.423Z"
   },
   {
    "duration": 598,
    "start_time": "2022-03-12T12:13:31.048Z"
   },
   {
    "duration": 316,
    "start_time": "2022-03-12T12:13:31.649Z"
   },
   {
    "duration": 15,
    "start_time": "2022-03-12T12:13:31.968Z"
   },
   {
    "duration": 9,
    "start_time": "2022-03-12T12:13:31.987Z"
   },
   {
    "duration": 56,
    "start_time": "2022-03-12T12:13:32.031Z"
   },
   {
    "duration": 20,
    "start_time": "2022-03-12T12:13:32.090Z"
   },
   {
    "duration": 458,
    "start_time": "2022-03-12T12:14:31.909Z"
   },
   {
    "duration": 4,
    "start_time": "2022-03-12T12:14:39.057Z"
   },
   {
    "duration": 9,
    "start_time": "2022-03-12T12:15:30.032Z"
   },
   {
    "duration": 47,
    "start_time": "2022-03-12T12:15:47.445Z"
   },
   {
    "duration": 48,
    "start_time": "2022-03-12T12:16:09.588Z"
   },
   {
    "duration": 47,
    "start_time": "2022-03-12T12:16:32.570Z"
   },
   {
    "duration": 369,
    "start_time": "2022-03-12T12:17:10.379Z"
   },
   {
    "duration": 1425,
    "start_time": "2022-03-12T12:17:25.439Z"
   },
   {
    "duration": 866,
    "start_time": "2022-03-12T12:17:26.867Z"
   },
   {
    "duration": 4,
    "start_time": "2022-03-12T12:17:27.736Z"
   },
   {
    "duration": 613,
    "start_time": "2022-03-12T12:17:27.743Z"
   },
   {
    "duration": 634,
    "start_time": "2022-03-12T12:17:28.359Z"
   },
   {
    "duration": 305,
    "start_time": "2022-03-12T12:17:28.996Z"
   },
   {
    "duration": 14,
    "start_time": "2022-03-12T12:17:29.303Z"
   },
   {
    "duration": 9,
    "start_time": "2022-03-12T12:17:29.333Z"
   },
   {
    "duration": 46,
    "start_time": "2022-03-12T12:17:29.345Z"
   },
   {
    "duration": 70,
    "start_time": "2022-03-12T12:17:29.393Z"
   },
   {
    "duration": 22,
    "start_time": "2022-03-12T12:17:29.466Z"
   },
   {
    "duration": 1399,
    "start_time": "2022-03-12T12:26:11.564Z"
   },
   {
    "duration": 885,
    "start_time": "2022-03-12T12:26:12.965Z"
   },
   {
    "duration": 5,
    "start_time": "2022-03-12T12:26:13.853Z"
   },
   {
    "duration": 642,
    "start_time": "2022-03-12T12:26:13.860Z"
   },
   {
    "duration": 618,
    "start_time": "2022-03-12T12:26:14.504Z"
   },
   {
    "duration": 299,
    "start_time": "2022-03-12T12:26:15.133Z"
   },
   {
    "duration": 13,
    "start_time": "2022-03-12T12:26:15.435Z"
   },
   {
    "duration": 21,
    "start_time": "2022-03-12T12:26:15.450Z"
   },
   {
    "duration": 64,
    "start_time": "2022-03-12T12:26:15.474Z"
   },
   {
    "duration": 44,
    "start_time": "2022-03-12T12:26:15.541Z"
   },
   {
    "duration": 19,
    "start_time": "2022-03-12T12:26:15.587Z"
   },
   {
    "duration": 38,
    "start_time": "2022-03-12T12:34:34.260Z"
   },
   {
    "duration": 58,
    "start_time": "2022-03-12T12:34:51.462Z"
   },
   {
    "duration": 18,
    "start_time": "2022-03-12T12:35:22.227Z"
   },
   {
    "duration": 1533,
    "start_time": "2022-03-12T12:35:29.639Z"
   },
   {
    "duration": 907,
    "start_time": "2022-03-12T12:35:31.175Z"
   },
   {
    "duration": 5,
    "start_time": "2022-03-12T12:35:32.085Z"
   },
   {
    "duration": 642,
    "start_time": "2022-03-12T12:35:32.093Z"
   },
   {
    "duration": 605,
    "start_time": "2022-03-12T12:35:32.739Z"
   },
   {
    "duration": 307,
    "start_time": "2022-03-12T12:35:33.346Z"
   },
   {
    "duration": 12,
    "start_time": "2022-03-12T12:35:33.656Z"
   },
   {
    "duration": 8,
    "start_time": "2022-03-12T12:35:33.672Z"
   },
   {
    "duration": 80,
    "start_time": "2022-03-12T12:35:33.682Z"
   },
   {
    "duration": 43,
    "start_time": "2022-03-12T12:35:33.764Z"
   },
   {
    "duration": 38,
    "start_time": "2022-03-12T12:35:33.810Z"
   },
   {
    "duration": 93,
    "start_time": "2022-03-12T12:35:33.850Z"
   },
   {
    "duration": 890,
    "start_time": "2022-03-12T12:36:18.164Z"
   },
   {
    "duration": 1082,
    "start_time": "2022-03-12T12:36:38.591Z"
   },
   {
    "duration": 47,
    "start_time": "2022-03-12T12:36:54.143Z"
   },
   {
    "duration": 1448,
    "start_time": "2022-03-12T12:39:22.043Z"
   },
   {
    "duration": 888,
    "start_time": "2022-03-12T12:39:23.494Z"
   },
   {
    "duration": 4,
    "start_time": "2022-03-12T12:39:24.385Z"
   },
   {
    "duration": 602,
    "start_time": "2022-03-12T12:39:24.392Z"
   },
   {
    "duration": 590,
    "start_time": "2022-03-12T12:39:24.997Z"
   },
   {
    "duration": 295,
    "start_time": "2022-03-12T12:39:25.590Z"
   },
   {
    "duration": 14,
    "start_time": "2022-03-12T12:39:25.888Z"
   },
   {
    "duration": 31,
    "start_time": "2022-03-12T12:39:25.906Z"
   },
   {
    "duration": 44,
    "start_time": "2022-03-12T12:39:25.940Z"
   },
   {
    "duration": 70,
    "start_time": "2022-03-12T12:39:25.986Z"
   },
   {
    "duration": 80,
    "start_time": "2022-03-12T12:39:26.059Z"
   },
   {
    "duration": 20,
    "start_time": "2022-03-12T12:39:26.142Z"
   },
   {
    "duration": 24,
    "start_time": "2022-03-12T12:41:45.218Z"
   },
   {
    "duration": 1509,
    "start_time": "2022-03-12T12:42:16.526Z"
   },
   {
    "duration": 982,
    "start_time": "2022-03-12T12:42:18.040Z"
   },
   {
    "duration": 9,
    "start_time": "2022-03-12T12:42:19.025Z"
   },
   {
    "duration": 675,
    "start_time": "2022-03-12T12:42:19.038Z"
   },
   {
    "duration": 666,
    "start_time": "2022-03-12T12:42:19.716Z"
   },
   {
    "duration": 348,
    "start_time": "2022-03-12T12:42:20.385Z"
   },
   {
    "duration": 17,
    "start_time": "2022-03-12T12:42:20.736Z"
   },
   {
    "duration": 9,
    "start_time": "2022-03-12T12:42:20.759Z"
   },
   {
    "duration": 94,
    "start_time": "2022-03-12T12:42:20.771Z"
   },
   {
    "duration": 42,
    "start_time": "2022-03-12T12:42:20.868Z"
   },
   {
    "duration": 54,
    "start_time": "2022-03-12T12:42:20.913Z"
   },
   {
    "duration": 76,
    "start_time": "2022-03-12T12:42:20.970Z"
   },
   {
    "duration": 20,
    "start_time": "2022-03-12T12:42:21.049Z"
   },
   {
    "duration": 1449,
    "start_time": "2022-03-12T12:44:30.725Z"
   },
   {
    "duration": 900,
    "start_time": "2022-03-12T12:44:32.177Z"
   },
   {
    "duration": 6,
    "start_time": "2022-03-12T12:44:33.080Z"
   },
   {
    "duration": 631,
    "start_time": "2022-03-12T12:44:33.089Z"
   },
   {
    "duration": 617,
    "start_time": "2022-03-12T12:44:33.732Z"
   },
   {
    "duration": 310,
    "start_time": "2022-03-12T12:44:34.351Z"
   },
   {
    "duration": 15,
    "start_time": "2022-03-12T12:44:34.663Z"
   },
   {
    "duration": 9,
    "start_time": "2022-03-12T12:44:34.681Z"
   },
   {
    "duration": 78,
    "start_time": "2022-03-12T12:44:34.694Z"
   },
   {
    "duration": 60,
    "start_time": "2022-03-12T12:44:34.775Z"
   },
   {
    "duration": 27,
    "start_time": "2022-03-12T12:44:34.837Z"
   },
   {
    "duration": 125,
    "start_time": "2022-03-12T12:44:34.866Z"
   },
   {
    "duration": -2999,
    "start_time": "2022-03-12T12:44:37.993Z"
   },
   {
    "duration": 13,
    "start_time": "2022-03-12T12:49:25.873Z"
   },
   {
    "duration": 79,
    "start_time": "2022-03-12T12:50:56.935Z"
   },
   {
    "duration": 78,
    "start_time": "2022-03-12T12:51:05.354Z"
   },
   {
    "duration": 111,
    "start_time": "2022-03-12T12:51:22.892Z"
   },
   {
    "duration": 28,
    "start_time": "2022-03-12T12:51:26.590Z"
   },
   {
    "duration": 25,
    "start_time": "2022-03-12T12:51:34.230Z"
   },
   {
    "duration": 1538,
    "start_time": "2022-03-12T12:54:45.034Z"
   },
   {
    "duration": 886,
    "start_time": "2022-03-12T12:54:46.574Z"
   },
   {
    "duration": 5,
    "start_time": "2022-03-12T12:54:47.463Z"
   },
   {
    "duration": 622,
    "start_time": "2022-03-12T12:54:47.470Z"
   },
   {
    "duration": 601,
    "start_time": "2022-03-12T12:54:48.094Z"
   },
   {
    "duration": 292,
    "start_time": "2022-03-12T12:54:48.698Z"
   },
   {
    "duration": 14,
    "start_time": "2022-03-12T12:54:48.992Z"
   },
   {
    "duration": 26,
    "start_time": "2022-03-12T12:54:49.009Z"
   },
   {
    "duration": 46,
    "start_time": "2022-03-12T12:54:49.037Z"
   },
   {
    "duration": 66,
    "start_time": "2022-03-12T12:54:49.085Z"
   },
   {
    "duration": 461,
    "start_time": "2022-03-12T12:54:49.153Z"
   },
   {
    "duration": -2994,
    "start_time": "2022-03-12T12:54:52.610Z"
   },
   {
    "duration": -2996,
    "start_time": "2022-03-12T12:54:52.614Z"
   },
   {
    "duration": 27,
    "start_time": "2022-03-12T12:55:10.361Z"
   },
   {
    "duration": 44,
    "start_time": "2022-03-12T12:55:29.664Z"
   },
   {
    "duration": 42,
    "start_time": "2022-03-12T12:56:33.517Z"
   },
   {
    "duration": 38,
    "start_time": "2022-03-12T12:59:59.830Z"
   },
   {
    "duration": 367,
    "start_time": "2022-03-12T13:00:13.753Z"
   },
   {
    "duration": 375,
    "start_time": "2022-03-12T13:00:22.609Z"
   },
   {
    "duration": 28,
    "start_time": "2022-03-12T13:00:38.583Z"
   },
   {
    "duration": 351,
    "start_time": "2022-03-12T13:01:08.059Z"
   },
   {
    "duration": 39,
    "start_time": "2022-03-12T13:01:31.652Z"
   },
   {
    "duration": 12,
    "start_time": "2022-03-12T13:03:42.724Z"
   },
   {
    "duration": 11,
    "start_time": "2022-03-12T13:03:49.977Z"
   },
   {
    "duration": 1471,
    "start_time": "2022-03-12T13:03:56.102Z"
   },
   {
    "duration": 894,
    "start_time": "2022-03-12T13:03:57.575Z"
   },
   {
    "duration": 5,
    "start_time": "2022-03-12T13:03:58.472Z"
   },
   {
    "duration": 624,
    "start_time": "2022-03-12T13:03:58.480Z"
   },
   {
    "duration": 625,
    "start_time": "2022-03-12T13:03:59.107Z"
   },
   {
    "duration": 309,
    "start_time": "2022-03-12T13:03:59.735Z"
   },
   {
    "duration": 14,
    "start_time": "2022-03-12T13:04:00.047Z"
   },
   {
    "duration": 14,
    "start_time": "2022-03-12T13:04:00.065Z"
   },
   {
    "duration": 80,
    "start_time": "2022-03-12T13:04:00.082Z"
   },
   {
    "duration": 44,
    "start_time": "2022-03-12T13:04:00.164Z"
   },
   {
    "duration": 70,
    "start_time": "2022-03-12T13:04:00.211Z"
   },
   {
    "duration": 15,
    "start_time": "2022-03-12T13:04:00.284Z"
   },
   {
    "duration": 503,
    "start_time": "2022-03-12T13:04:00.301Z"
   },
   {
    "duration": 719,
    "start_time": "2022-03-12T13:35:22.691Z"
   },
   {
    "duration": 2205,
    "start_time": "2022-03-12T13:35:51.944Z"
   },
   {
    "duration": 2098,
    "start_time": "2022-03-12T13:36:00.468Z"
   },
   {
    "duration": 2358,
    "start_time": "2022-03-12T13:36:13.199Z"
   },
   {
    "duration": 82,
    "start_time": "2022-03-12T13:48:29.312Z"
   },
   {
    "duration": 2181,
    "start_time": "2022-03-12T13:48:41.355Z"
   },
   {
    "duration": 3844,
    "start_time": "2022-03-12T13:49:41.745Z"
   },
   {
    "duration": 2053,
    "start_time": "2022-03-12T13:49:54.414Z"
   },
   {
    "duration": 2066,
    "start_time": "2022-03-12T14:05:04.398Z"
   },
   {
    "duration": 1476,
    "start_time": "2022-03-12T14:05:17.885Z"
   },
   {
    "duration": 997,
    "start_time": "2022-03-12T14:05:19.364Z"
   },
   {
    "duration": 5,
    "start_time": "2022-03-12T14:05:20.364Z"
   },
   {
    "duration": 707,
    "start_time": "2022-03-12T14:05:20.371Z"
   },
   {
    "duration": 668,
    "start_time": "2022-03-12T14:05:21.080Z"
   },
   {
    "duration": 306,
    "start_time": "2022-03-12T14:05:21.751Z"
   },
   {
    "duration": 9,
    "start_time": "2022-03-12T14:05:22.060Z"
   },
   {
    "duration": 9,
    "start_time": "2022-03-12T14:05:22.073Z"
   },
   {
    "duration": 82,
    "start_time": "2022-03-12T14:05:22.084Z"
   },
   {
    "duration": 42,
    "start_time": "2022-03-12T14:05:22.169Z"
   },
   {
    "duration": 51,
    "start_time": "2022-03-12T14:05:22.233Z"
   },
   {
    "duration": 13,
    "start_time": "2022-03-12T14:05:22.287Z"
   },
   {
    "duration": 667,
    "start_time": "2022-03-12T14:05:22.303Z"
   },
   {
    "duration": -2971,
    "start_time": "2022-03-12T14:05:25.945Z"
   },
   {
    "duration": 2049,
    "start_time": "2022-03-12T14:05:33.354Z"
   },
   {
    "duration": 2097,
    "start_time": "2022-03-12T14:06:44.672Z"
   },
   {
    "duration": 5215,
    "start_time": "2022-03-12T14:06:52.095Z"
   },
   {
    "duration": 5284,
    "start_time": "2022-03-12T14:07:21.549Z"
   },
   {
    "duration": 1962,
    "start_time": "2022-03-12T14:09:00.299Z"
   },
   {
    "duration": 2210,
    "start_time": "2022-03-12T14:09:17.989Z"
   },
   {
    "duration": 369,
    "start_time": "2022-03-12T14:10:11.127Z"
   },
   {
    "duration": 430,
    "start_time": "2022-03-12T14:10:14.130Z"
   },
   {
    "duration": 5918,
    "start_time": "2022-03-12T14:10:30.888Z"
   },
   {
    "duration": 5958,
    "start_time": "2022-03-12T14:10:50.049Z"
   },
   {
    "duration": 5150,
    "start_time": "2022-03-12T14:11:35.560Z"
   },
   {
    "duration": 5942,
    "start_time": "2022-03-12T14:15:26.841Z"
   },
   {
    "duration": 5470,
    "start_time": "2022-03-12T14:16:02.522Z"
   },
   {
    "duration": 5240,
    "start_time": "2022-03-12T14:16:45.886Z"
   },
   {
    "duration": 5211,
    "start_time": "2022-03-12T14:20:30.534Z"
   },
   {
    "duration": 5294,
    "start_time": "2022-03-12T14:21:46.908Z"
   },
   {
    "duration": 945,
    "start_time": "2022-03-12T14:34:16.800Z"
   },
   {
    "duration": 107,
    "start_time": "2022-03-12T14:34:37.413Z"
   },
   {
    "duration": 1985,
    "start_time": "2022-03-12T14:34:47.440Z"
   },
   {
    "duration": 3513,
    "start_time": "2022-03-12T14:35:08.508Z"
   },
   {
    "duration": 3197,
    "start_time": "2022-03-12T14:35:16.618Z"
   },
   {
    "duration": 141,
    "start_time": "2022-03-12T14:37:04.790Z"
   },
   {
    "duration": 2978,
    "start_time": "2022-03-12T14:37:10.092Z"
   },
   {
    "duration": 906,
    "start_time": "2022-03-12T14:37:49.032Z"
   },
   {
    "duration": 5262,
    "start_time": "2022-03-12T14:37:57.887Z"
   },
   {
    "duration": 583,
    "start_time": "2022-03-12T14:46:55.477Z"
   },
   {
    "duration": 569,
    "start_time": "2022-03-12T14:47:09.743Z"
   },
   {
    "duration": 607,
    "start_time": "2022-03-12T14:48:25.225Z"
   },
   {
    "duration": 583,
    "start_time": "2022-03-12T14:49:17.044Z"
   },
   {
    "duration": 685,
    "start_time": "2022-03-12T14:49:57.602Z"
   },
   {
    "duration": 560,
    "start_time": "2022-03-12T14:50:32.048Z"
   },
   {
    "duration": 555,
    "start_time": "2022-03-12T14:52:03.397Z"
   },
   {
    "duration": 147,
    "start_time": "2022-03-12T14:52:35.243Z"
   },
   {
    "duration": 927,
    "start_time": "2022-03-12T14:52:45.082Z"
   },
   {
    "duration": 563,
    "start_time": "2022-03-12T14:53:01.182Z"
   },
   {
    "duration": 1094,
    "start_time": "2022-03-12T14:56:31.910Z"
   },
   {
    "duration": 733,
    "start_time": "2022-03-12T14:56:59.914Z"
   },
   {
    "duration": 1023,
    "start_time": "2022-03-12T15:00:41.814Z"
   },
   {
    "duration": 507,
    "start_time": "2022-03-12T15:01:02.540Z"
   },
   {
    "duration": 365,
    "start_time": "2022-03-12T15:01:14.433Z"
   },
   {
    "duration": 569,
    "start_time": "2022-03-12T15:02:10.775Z"
   },
   {
    "duration": 358,
    "start_time": "2022-03-12T15:03:10.035Z"
   },
   {
    "duration": 665,
    "start_time": "2022-03-12T15:05:17.558Z"
   },
   {
    "duration": 311,
    "start_time": "2022-03-12T15:09:16.162Z"
   },
   {
    "duration": 745,
    "start_time": "2022-03-12T15:10:27.350Z"
   },
   {
    "duration": 589,
    "start_time": "2022-03-12T15:14:05.615Z"
   },
   {
    "duration": 112,
    "start_time": "2022-03-12T15:14:12.790Z"
   },
   {
    "duration": 576,
    "start_time": "2022-03-12T15:14:18.020Z"
   },
   {
    "duration": 7,
    "start_time": "2022-03-12T15:16:42.461Z"
   },
   {
    "duration": 10,
    "start_time": "2022-03-12T15:17:53.393Z"
   },
   {
    "duration": 9,
    "start_time": "2022-03-12T15:18:05.618Z"
   },
   {
    "duration": 8,
    "start_time": "2022-03-12T15:19:07.582Z"
   },
   {
    "duration": 153,
    "start_time": "2022-03-12T15:40:39.531Z"
   },
   {
    "duration": 825,
    "start_time": "2022-03-12T15:40:43.576Z"
   },
   {
    "duration": 669,
    "start_time": "2022-03-12T15:40:53.404Z"
   },
   {
    "duration": 724,
    "start_time": "2022-03-12T15:44:10.945Z"
   },
   {
    "duration": 3826,
    "start_time": "2022-03-12T15:44:26.763Z"
   },
   {
    "duration": 384,
    "start_time": "2022-03-12T15:44:44.208Z"
   },
   {
    "duration": 679,
    "start_time": "2022-03-12T15:44:52.810Z"
   },
   {
    "duration": 770,
    "start_time": "2022-03-12T15:45:01.308Z"
   },
   {
    "duration": 578,
    "start_time": "2022-03-12T15:46:04.468Z"
   },
   {
    "duration": 110,
    "start_time": "2022-03-12T17:18:48.675Z"
   },
   {
    "duration": 183,
    "start_time": "2022-03-12T17:20:12.950Z"
   },
   {
    "duration": 105,
    "start_time": "2022-03-12T17:20:55.329Z"
   },
   {
    "duration": 110,
    "start_time": "2022-03-12T17:22:05.890Z"
   },
   {
    "duration": 8,
    "start_time": "2022-03-12T17:22:42.094Z"
   },
   {
    "duration": 7,
    "start_time": "2022-03-12T17:24:32.963Z"
   },
   {
    "duration": 7,
    "start_time": "2022-03-12T17:24:41.518Z"
   },
   {
    "duration": 1441,
    "start_time": "2022-03-12T17:24:49.593Z"
   },
   {
    "duration": 909,
    "start_time": "2022-03-12T17:24:51.036Z"
   },
   {
    "duration": 5,
    "start_time": "2022-03-12T17:24:51.948Z"
   },
   {
    "duration": 610,
    "start_time": "2022-03-12T17:24:51.955Z"
   },
   {
    "duration": 620,
    "start_time": "2022-03-12T17:24:52.567Z"
   },
   {
    "duration": 299,
    "start_time": "2022-03-12T17:24:53.190Z"
   },
   {
    "duration": 14,
    "start_time": "2022-03-12T17:24:53.491Z"
   },
   {
    "duration": 25,
    "start_time": "2022-03-12T17:24:53.508Z"
   },
   {
    "duration": 45,
    "start_time": "2022-03-12T17:24:53.536Z"
   },
   {
    "duration": 64,
    "start_time": "2022-03-12T17:24:53.583Z"
   },
   {
    "duration": 48,
    "start_time": "2022-03-12T17:24:53.650Z"
   },
   {
    "duration": 39,
    "start_time": "2022-03-12T17:24:53.700Z"
   },
   {
    "duration": 499,
    "start_time": "2022-03-12T17:24:53.741Z"
   },
   {
    "duration": -3191,
    "start_time": "2022-03-12T17:24:57.433Z"
   },
   {
    "duration": -3193,
    "start_time": "2022-03-12T17:24:57.437Z"
   },
   {
    "duration": -3201,
    "start_time": "2022-03-12T17:24:57.446Z"
   },
   {
    "duration": 382,
    "start_time": "2022-03-12T17:26:24.904Z"
   },
   {
    "duration": 1478,
    "start_time": "2022-03-12T17:26:53.055Z"
   },
   {
    "duration": 899,
    "start_time": "2022-03-12T17:26:54.535Z"
   },
   {
    "duration": 5,
    "start_time": "2022-03-12T17:26:55.437Z"
   },
   {
    "duration": 610,
    "start_time": "2022-03-12T17:26:55.445Z"
   },
   {
    "duration": 603,
    "start_time": "2022-03-12T17:26:56.057Z"
   },
   {
    "duration": 306,
    "start_time": "2022-03-12T17:26:56.663Z"
   },
   {
    "duration": 13,
    "start_time": "2022-03-12T17:26:56.971Z"
   },
   {
    "duration": 8,
    "start_time": "2022-03-12T17:26:56.988Z"
   },
   {
    "duration": 77,
    "start_time": "2022-03-12T17:26:56.999Z"
   },
   {
    "duration": 58,
    "start_time": "2022-03-12T17:26:57.079Z"
   },
   {
    "duration": 49,
    "start_time": "2022-03-12T17:26:57.139Z"
   },
   {
    "duration": 42,
    "start_time": "2022-03-12T17:26:57.191Z"
   },
   {
    "duration": 5288,
    "start_time": "2022-03-12T17:26:57.236Z"
   },
   {
    "duration": 615,
    "start_time": "2022-03-12T17:27:02.533Z"
   },
   {
    "duration": 7,
    "start_time": "2022-03-12T17:27:03.151Z"
   },
   {
    "duration": 9521,
    "start_time": "2022-03-12T17:27:03.161Z"
   },
   {
    "duration": -3200,
    "start_time": "2022-03-12T17:27:15.885Z"
   },
   {
    "duration": 9720,
    "start_time": "2022-03-12T17:27:51.868Z"
   },
   {
    "duration": 8,
    "start_time": "2022-03-12T17:28:25.719Z"
   },
   {
    "duration": 840,
    "start_time": "2022-03-12T17:28:27.578Z"
   },
   {
    "duration": 7,
    "start_time": "2022-03-12T17:28:50.508Z"
   },
   {
    "duration": 11286,
    "start_time": "2022-03-12T17:28:52.031Z"
   },
   {
    "duration": 12087,
    "start_time": "2022-03-12T17:29:54.648Z"
   },
   {
    "duration": 11468,
    "start_time": "2022-03-12T17:31:47.444Z"
   },
   {
    "duration": 1563,
    "start_time": "2022-03-12T17:38:11.632Z"
   },
   {
    "duration": 987,
    "start_time": "2022-03-12T17:38:13.197Z"
   },
   {
    "duration": 5,
    "start_time": "2022-03-12T17:38:14.188Z"
   },
   {
    "duration": 676,
    "start_time": "2022-03-12T17:38:14.196Z"
   },
   {
    "duration": 901,
    "start_time": "2022-03-12T17:38:14.875Z"
   },
   {
    "duration": 330,
    "start_time": "2022-03-12T17:38:15.780Z"
   },
   {
    "duration": 28,
    "start_time": "2022-03-12T17:38:16.113Z"
   },
   {
    "duration": 8,
    "start_time": "2022-03-12T17:38:16.147Z"
   },
   {
    "duration": 95,
    "start_time": "2022-03-12T17:38:16.159Z"
   },
   {
    "duration": 44,
    "start_time": "2022-03-12T17:38:16.258Z"
   },
   {
    "duration": 111,
    "start_time": "2022-03-12T17:38:16.305Z"
   },
   {
    "duration": 36,
    "start_time": "2022-03-12T17:38:16.418Z"
   },
   {
    "duration": 5496,
    "start_time": "2022-03-12T17:38:16.457Z"
   },
   {
    "duration": 639,
    "start_time": "2022-03-12T17:38:21.955Z"
   },
   {
    "duration": 7,
    "start_time": "2022-03-12T17:38:22.597Z"
   },
   {
    "duration": 11675,
    "start_time": "2022-03-12T17:38:22.607Z"
   },
   {
    "duration": 20,
    "start_time": "2022-03-12T17:38:34.285Z"
   },
   {
    "duration": 1502,
    "start_time": "2022-03-12T17:43:28.651Z"
   },
   {
    "duration": 937,
    "start_time": "2022-03-12T17:43:30.156Z"
   },
   {
    "duration": 6,
    "start_time": "2022-03-12T17:43:31.097Z"
   },
   {
    "duration": 634,
    "start_time": "2022-03-12T17:43:31.107Z"
   },
   {
    "duration": 627,
    "start_time": "2022-03-12T17:43:31.744Z"
   },
   {
    "duration": 307,
    "start_time": "2022-03-12T17:43:32.374Z"
   },
   {
    "duration": 13,
    "start_time": "2022-03-12T17:43:32.684Z"
   },
   {
    "duration": 31,
    "start_time": "2022-03-12T17:43:32.701Z"
   },
   {
    "duration": 47,
    "start_time": "2022-03-12T17:43:32.735Z"
   },
   {
    "duration": 66,
    "start_time": "2022-03-12T17:43:32.785Z"
   },
   {
    "duration": 113,
    "start_time": "2022-03-12T17:43:32.853Z"
   },
   {
    "duration": 24,
    "start_time": "2022-03-12T17:43:32.969Z"
   },
   {
    "duration": 6014,
    "start_time": "2022-03-12T17:43:32.996Z"
   },
   {
    "duration": 603,
    "start_time": "2022-03-12T17:43:39.013Z"
   },
   {
    "duration": 20,
    "start_time": "2022-03-12T17:43:39.618Z"
   },
   {
    "duration": 12886,
    "start_time": "2022-03-12T17:43:39.640Z"
   },
   {
    "duration": 7,
    "start_time": "2022-03-12T17:45:51.474Z"
   },
   {
    "duration": 13302,
    "start_time": "2022-03-12T17:46:01.309Z"
   },
   {
    "duration": 1593,
    "start_time": "2022-03-12T17:46:23.482Z"
   },
   {
    "duration": 984,
    "start_time": "2022-03-12T17:46:25.077Z"
   },
   {
    "duration": 5,
    "start_time": "2022-03-12T17:46:26.064Z"
   },
   {
    "duration": 760,
    "start_time": "2022-03-12T17:46:26.072Z"
   },
   {
    "duration": 840,
    "start_time": "2022-03-12T17:46:26.835Z"
   },
   {
    "duration": 434,
    "start_time": "2022-03-12T17:46:27.678Z"
   },
   {
    "duration": 21,
    "start_time": "2022-03-12T17:46:28.115Z"
   },
   {
    "duration": 8,
    "start_time": "2022-03-12T17:46:28.140Z"
   },
   {
    "duration": 48,
    "start_time": "2022-03-12T17:46:28.151Z"
   },
   {
    "duration": 42,
    "start_time": "2022-03-12T17:46:28.233Z"
   },
   {
    "duration": 118,
    "start_time": "2022-03-12T17:46:28.277Z"
   },
   {
    "duration": 48,
    "start_time": "2022-03-12T17:46:28.398Z"
   },
   {
    "duration": 5512,
    "start_time": "2022-03-12T17:46:28.448Z"
   },
   {
    "duration": 624,
    "start_time": "2022-03-12T17:46:33.963Z"
   },
   {
    "duration": 6,
    "start_time": "2022-03-12T17:46:34.590Z"
   },
   {
    "duration": 11012,
    "start_time": "2022-03-12T17:46:34.598Z"
   },
   {
    "duration": 1968,
    "start_time": "2022-03-12T17:56:48.773Z"
   },
   {
    "duration": 1853,
    "start_time": "2022-03-12T17:57:15.536Z"
   },
   {
    "duration": 2858,
    "start_time": "2022-03-12T17:58:04.412Z"
   },
   {
    "duration": 2839,
    "start_time": "2022-03-12T17:59:36.725Z"
   },
   {
    "duration": 2716,
    "start_time": "2022-03-12T18:00:19.249Z"
   },
   {
    "duration": 2731,
    "start_time": "2022-03-12T18:00:47.238Z"
   },
   {
    "duration": 2954,
    "start_time": "2022-03-12T18:00:59.828Z"
   },
   {
    "duration": 2880,
    "start_time": "2022-03-12T18:04:35.246Z"
   },
   {
    "duration": 2846,
    "start_time": "2022-03-12T18:04:44.938Z"
   },
   {
    "duration": 116,
    "start_time": "2022-03-12T18:07:58.165Z"
   },
   {
    "duration": 3256,
    "start_time": "2022-03-12T18:08:02.737Z"
   },
   {
    "duration": 2848,
    "start_time": "2022-03-12T18:09:16.924Z"
   },
   {
    "duration": 2972,
    "start_time": "2022-03-12T18:09:42.230Z"
   },
   {
    "duration": 2776,
    "start_time": "2022-03-12T18:09:50.775Z"
   },
   {
    "duration": 3340,
    "start_time": "2022-03-12T18:11:30.924Z"
   },
   {
    "duration": 2721,
    "start_time": "2022-03-12T18:12:40.759Z"
   },
   {
    "duration": 2794,
    "start_time": "2022-03-12T18:14:05.946Z"
   },
   {
    "duration": 3177,
    "start_time": "2022-03-12T18:14:27.914Z"
   },
   {
    "duration": 3339,
    "start_time": "2022-03-12T18:14:50.595Z"
   },
   {
    "duration": 2729,
    "start_time": "2022-03-12T18:16:24.737Z"
   },
   {
    "duration": 3288,
    "start_time": "2022-03-12T18:16:35.501Z"
   },
   {
    "duration": 5533,
    "start_time": "2022-03-12T18:17:27.025Z"
   },
   {
    "duration": 3544,
    "start_time": "2022-03-12T18:17:46.636Z"
   },
   {
    "duration": 8546,
    "start_time": "2022-03-12T18:18:01.853Z"
   },
   {
    "duration": 3371,
    "start_time": "2022-03-12T18:19:01.028Z"
   },
   {
    "duration": 5228,
    "start_time": "2022-03-12T18:19:18.568Z"
   },
   {
    "duration": 8,
    "start_time": "2022-03-12T19:11:17.860Z"
   },
   {
    "duration": 8,
    "start_time": "2022-03-12T19:11:31.196Z"
   },
   {
    "duration": 9567,
    "start_time": "2022-03-12T19:12:00.931Z"
   },
   {
    "duration": 9,
    "start_time": "2022-03-12T19:13:54.161Z"
   },
   {
    "duration": 9548,
    "start_time": "2022-03-12T19:13:56.989Z"
   },
   {
    "duration": 8,
    "start_time": "2022-03-12T19:16:57.264Z"
   },
   {
    "duration": 9352,
    "start_time": "2022-03-12T19:17:00.033Z"
   },
   {
    "duration": 18,
    "start_time": "2022-03-12T19:17:23.605Z"
   },
   {
    "duration": 9131,
    "start_time": "2022-03-12T19:17:25.335Z"
   },
   {
    "duration": 9432,
    "start_time": "2022-03-12T19:18:09.490Z"
   },
   {
    "duration": 8,
    "start_time": "2022-03-12T19:20:50.087Z"
   },
   {
    "duration": 9919,
    "start_time": "2022-03-12T19:20:52.901Z"
   },
   {
    "duration": 9,
    "start_time": "2022-03-12T19:21:40.683Z"
   },
   {
    "duration": 807,
    "start_time": "2022-03-12T19:21:42.976Z"
   },
   {
    "duration": 59,
    "start_time": "2022-03-12T19:22:45.133Z"
   },
   {
    "duration": 763,
    "start_time": "2022-03-12T19:22:47.253Z"
   },
   {
    "duration": 9,
    "start_time": "2022-03-12T19:24:02.933Z"
   },
   {
    "duration": 983,
    "start_time": "2022-03-12T19:24:04.764Z"
   },
   {
    "duration": 9,
    "start_time": "2022-03-12T19:24:36.741Z"
   },
   {
    "duration": 826,
    "start_time": "2022-03-12T19:25:00.236Z"
   },
   {
    "duration": 1141,
    "start_time": "2022-03-13T14:25:35.484Z"
   },
   {
    "duration": 750,
    "start_time": "2022-03-13T14:25:36.627Z"
   },
   {
    "duration": 4,
    "start_time": "2022-03-13T14:25:37.380Z"
   },
   {
    "duration": 419,
    "start_time": "2022-03-13T14:25:37.386Z"
   },
   {
    "duration": 427,
    "start_time": "2022-03-13T14:25:37.807Z"
   },
   {
    "duration": 207,
    "start_time": "2022-03-13T14:25:38.236Z"
   },
   {
    "duration": 17,
    "start_time": "2022-03-13T14:25:38.445Z"
   },
   {
    "duration": 8,
    "start_time": "2022-03-13T14:25:38.466Z"
   },
   {
    "duration": 33,
    "start_time": "2022-03-13T14:25:38.477Z"
   },
   {
    "duration": 65,
    "start_time": "2022-03-13T14:25:38.512Z"
   },
   {
    "duration": 99,
    "start_time": "2022-03-13T14:25:38.579Z"
   },
   {
    "duration": 3,
    "start_time": "2022-03-13T14:25:38.679Z"
   },
   {
    "duration": 3594,
    "start_time": "2022-03-13T14:25:38.684Z"
   },
   {
    "duration": 413,
    "start_time": "2022-03-13T14:25:42.279Z"
   },
   {
    "duration": 5,
    "start_time": "2022-03-13T14:25:42.694Z"
   },
   {
    "duration": 6093,
    "start_time": "2022-03-13T14:25:42.700Z"
   },
   {
    "duration": 2246,
    "start_time": "2022-03-13T14:25:48.795Z"
   },
   {
    "duration": 66,
    "start_time": "2022-03-13T14:25:51.042Z"
   },
   {
    "duration": 5,
    "start_time": "2022-03-13T14:35:35.895Z"
   },
   {
    "duration": 364,
    "start_time": "2022-03-13T14:36:08.357Z"
   },
   {
    "duration": 6362,
    "start_time": "2022-03-13T14:36:17.060Z"
   },
   {
    "duration": 6218,
    "start_time": "2022-03-13T14:36:42.290Z"
   },
   {
    "duration": 438,
    "start_time": "2022-03-13T14:37:35.937Z"
   },
   {
    "duration": 303,
    "start_time": "2022-03-13T14:37:55.804Z"
   },
   {
    "duration": 264,
    "start_time": "2022-03-13T14:38:04.434Z"
   },
   {
    "duration": 5,
    "start_time": "2022-03-13T14:38:39.315Z"
   },
   {
    "duration": 1113,
    "start_time": "2022-03-14T09:49:31.002Z"
   },
   {
    "duration": 662,
    "start_time": "2022-03-14T09:49:32.116Z"
   },
   {
    "duration": 3,
    "start_time": "2022-03-14T09:49:32.782Z"
   },
   {
    "duration": 403,
    "start_time": "2022-03-14T09:49:32.786Z"
   },
   {
    "duration": 381,
    "start_time": "2022-03-14T09:49:33.191Z"
   },
   {
    "duration": 188,
    "start_time": "2022-03-14T09:49:33.574Z"
   },
   {
    "duration": 6,
    "start_time": "2022-03-14T09:49:33.763Z"
   },
   {
    "duration": 5,
    "start_time": "2022-03-14T09:49:33.772Z"
   },
   {
    "duration": 28,
    "start_time": "2022-03-14T09:49:33.779Z"
   },
   {
    "duration": 55,
    "start_time": "2022-03-14T09:49:33.808Z"
   },
   {
    "duration": 64,
    "start_time": "2022-03-14T09:49:33.864Z"
   },
   {
    "duration": 2,
    "start_time": "2022-03-14T09:49:33.930Z"
   },
   {
    "duration": 3365,
    "start_time": "2022-03-14T09:49:33.933Z"
   },
   {
    "duration": 409,
    "start_time": "2022-03-14T09:49:37.300Z"
   },
   {
    "duration": 4,
    "start_time": "2022-03-14T09:49:37.711Z"
   },
   {
    "duration": 6924,
    "start_time": "2022-03-14T09:49:37.717Z"
   },
   {
    "duration": 269,
    "start_time": "2022-03-14T09:49:44.374Z"
   },
   {
    "duration": 266,
    "start_time": "2022-03-14T09:49:44.378Z"
   },
   {
    "duration": 6141,
    "start_time": "2022-03-14T09:49:55.245Z"
   },
   {
    "duration": 1821,
    "start_time": "2022-03-14T09:50:16.647Z"
   },
   {
    "duration": 1127,
    "start_time": "2022-03-14T09:52:36.783Z"
   },
   {
    "duration": 689,
    "start_time": "2022-03-14T09:52:37.913Z"
   },
   {
    "duration": 4,
    "start_time": "2022-03-14T09:52:38.607Z"
   },
   {
    "duration": 400,
    "start_time": "2022-03-14T09:52:38.613Z"
   },
   {
    "duration": 388,
    "start_time": "2022-03-14T09:52:39.015Z"
   },
   {
    "duration": 189,
    "start_time": "2022-03-14T09:52:39.405Z"
   },
   {
    "duration": 7,
    "start_time": "2022-03-14T09:52:39.596Z"
   },
   {
    "duration": 6,
    "start_time": "2022-03-14T09:52:39.605Z"
   },
   {
    "duration": 52,
    "start_time": "2022-03-14T09:52:39.613Z"
   },
   {
    "duration": 29,
    "start_time": "2022-03-14T09:52:39.666Z"
   },
   {
    "duration": 90,
    "start_time": "2022-03-14T09:52:39.697Z"
   },
   {
    "duration": 23,
    "start_time": "2022-03-14T09:52:39.789Z"
   },
   {
    "duration": 3395,
    "start_time": "2022-03-14T09:52:39.814Z"
   },
   {
    "duration": 403,
    "start_time": "2022-03-14T09:52:43.211Z"
   },
   {
    "duration": 4,
    "start_time": "2022-03-14T09:52:43.616Z"
   },
   {
    "duration": 6288,
    "start_time": "2022-03-14T09:52:43.622Z"
   },
   {
    "duration": 1858,
    "start_time": "2022-03-14T09:52:49.911Z"
   },
   {
    "duration": 236,
    "start_time": "2022-03-14T09:52:51.535Z"
   },
   {
    "duration": 2222,
    "start_time": "2022-03-14T09:55:14.055Z"
   },
   {
    "duration": 2279,
    "start_time": "2022-03-14T09:55:24.478Z"
   },
   {
    "duration": 2170,
    "start_time": "2022-03-14T09:55:58.267Z"
   },
   {
    "duration": 2205,
    "start_time": "2022-03-14T09:56:15.284Z"
   },
   {
    "duration": 3,
    "start_time": "2022-03-14T10:11:18.698Z"
   },
   {
    "duration": 423,
    "start_time": "2022-03-14T10:11:42.513Z"
   },
   {
    "duration": 3,
    "start_time": "2022-03-14T10:14:30.632Z"
   },
   {
    "duration": 396,
    "start_time": "2022-03-14T10:14:32.624Z"
   },
   {
    "duration": 1194,
    "start_time": "2022-03-14T10:15:15.839Z"
   },
   {
    "duration": 731,
    "start_time": "2022-03-14T10:15:17.035Z"
   },
   {
    "duration": 3,
    "start_time": "2022-03-14T10:15:17.768Z"
   },
   {
    "duration": 399,
    "start_time": "2022-03-14T10:15:17.772Z"
   },
   {
    "duration": 408,
    "start_time": "2022-03-14T10:15:18.173Z"
   },
   {
    "duration": 193,
    "start_time": "2022-03-14T10:15:18.582Z"
   },
   {
    "duration": 7,
    "start_time": "2022-03-14T10:15:18.776Z"
   },
   {
    "duration": 6,
    "start_time": "2022-03-14T10:15:18.786Z"
   },
   {
    "duration": 37,
    "start_time": "2022-03-14T10:15:18.793Z"
   },
   {
    "duration": 53,
    "start_time": "2022-03-14T10:15:18.832Z"
   },
   {
    "duration": 84,
    "start_time": "2022-03-14T10:15:18.886Z"
   },
   {
    "duration": 18,
    "start_time": "2022-03-14T10:15:18.972Z"
   },
   {
    "duration": 3597,
    "start_time": "2022-03-14T10:15:18.991Z"
   },
   {
    "duration": 426,
    "start_time": "2022-03-14T10:15:22.590Z"
   },
   {
    "duration": 5,
    "start_time": "2022-03-14T10:15:23.018Z"
   },
   {
    "duration": 6371,
    "start_time": "2022-03-14T10:15:23.025Z"
   },
   {
    "duration": 2250,
    "start_time": "2022-03-14T10:15:29.397Z"
   },
   {
    "duration": 10,
    "start_time": "2022-03-14T10:15:31.649Z"
   },
   {
    "duration": 589,
    "start_time": "2022-03-14T10:15:31.661Z"
   },
   {
    "duration": 1129,
    "start_time": "2022-03-14T10:16:17.595Z"
   },
   {
    "duration": 721,
    "start_time": "2022-03-14T10:16:18.726Z"
   },
   {
    "duration": 3,
    "start_time": "2022-03-14T10:16:19.450Z"
   },
   {
    "duration": 407,
    "start_time": "2022-03-14T10:16:19.459Z"
   },
   {
    "duration": 403,
    "start_time": "2022-03-14T10:16:19.868Z"
   },
   {
    "duration": 213,
    "start_time": "2022-03-14T10:16:20.273Z"
   },
   {
    "duration": 9,
    "start_time": "2022-03-14T10:16:20.488Z"
   },
   {
    "duration": 7,
    "start_time": "2022-03-14T10:16:20.500Z"
   },
   {
    "duration": 60,
    "start_time": "2022-03-14T10:16:20.509Z"
   },
   {
    "duration": 29,
    "start_time": "2022-03-14T10:16:20.571Z"
   },
   {
    "duration": 94,
    "start_time": "2022-03-14T10:16:20.602Z"
   },
   {
    "duration": 20,
    "start_time": "2022-03-14T10:16:20.698Z"
   },
   {
    "duration": 3602,
    "start_time": "2022-03-14T10:16:20.721Z"
   },
   {
    "duration": 433,
    "start_time": "2022-03-14T10:16:24.326Z"
   },
   {
    "duration": 6,
    "start_time": "2022-03-14T10:16:24.761Z"
   },
   {
    "duration": 600,
    "start_time": "2022-03-14T10:16:24.769Z"
   },
   {
    "duration": 293,
    "start_time": "2022-03-14T10:16:25.079Z"
   },
   {
    "duration": 290,
    "start_time": "2022-03-14T10:16:25.083Z"
   },
   {
    "duration": 290,
    "start_time": "2022-03-14T10:16:25.085Z"
   },
   {
    "duration": 1156,
    "start_time": "2022-03-14T10:16:56.181Z"
   },
   {
    "duration": 742,
    "start_time": "2022-03-14T10:16:57.339Z"
   },
   {
    "duration": 3,
    "start_time": "2022-03-14T10:16:58.083Z"
   },
   {
    "duration": 431,
    "start_time": "2022-03-14T10:16:58.089Z"
   },
   {
    "duration": 403,
    "start_time": "2022-03-14T10:16:58.522Z"
   },
   {
    "duration": 196,
    "start_time": "2022-03-14T10:16:58.927Z"
   },
   {
    "duration": 7,
    "start_time": "2022-03-14T10:16:59.125Z"
   },
   {
    "duration": 6,
    "start_time": "2022-03-14T10:16:59.134Z"
   },
   {
    "duration": 46,
    "start_time": "2022-03-14T10:16:59.142Z"
   },
   {
    "duration": 28,
    "start_time": "2022-03-14T10:16:59.190Z"
   },
   {
    "duration": 95,
    "start_time": "2022-03-14T10:16:59.220Z"
   },
   {
    "duration": 17,
    "start_time": "2022-03-14T10:16:59.317Z"
   },
   {
    "duration": 3672,
    "start_time": "2022-03-14T10:16:59.336Z"
   },
   {
    "duration": 390,
    "start_time": "2022-03-14T10:17:03.009Z"
   },
   {
    "duration": 4,
    "start_time": "2022-03-14T10:17:03.401Z"
   },
   {
    "duration": 5884,
    "start_time": "2022-03-14T10:17:03.407Z"
   },
   {
    "duration": 2242,
    "start_time": "2022-03-14T10:17:09.292Z"
   },
   {
    "duration": 3,
    "start_time": "2022-03-14T10:17:11.536Z"
   },
   {
    "duration": 503,
    "start_time": "2022-03-14T10:17:11.541Z"
   },
   {
    "duration": 1188,
    "start_time": "2022-03-14T10:18:38.841Z"
   },
   {
    "duration": 728,
    "start_time": "2022-03-14T10:18:40.031Z"
   },
   {
    "duration": 4,
    "start_time": "2022-03-14T10:18:40.761Z"
   },
   {
    "duration": 413,
    "start_time": "2022-03-14T10:18:40.766Z"
   },
   {
    "duration": 402,
    "start_time": "2022-03-14T10:18:41.181Z"
   },
   {
    "duration": 190,
    "start_time": "2022-03-14T10:18:41.584Z"
   },
   {
    "duration": 7,
    "start_time": "2022-03-14T10:18:41.776Z"
   },
   {
    "duration": 7,
    "start_time": "2022-03-14T10:18:41.785Z"
   },
   {
    "duration": 31,
    "start_time": "2022-03-14T10:18:41.795Z"
   },
   {
    "duration": 58,
    "start_time": "2022-03-14T10:18:41.828Z"
   },
   {
    "duration": 79,
    "start_time": "2022-03-14T10:18:41.888Z"
   },
   {
    "duration": 21,
    "start_time": "2022-03-14T10:18:41.968Z"
   },
   {
    "duration": 3524,
    "start_time": "2022-03-14T10:18:41.991Z"
   },
   {
    "duration": 413,
    "start_time": "2022-03-14T10:18:45.517Z"
   },
   {
    "duration": 5,
    "start_time": "2022-03-14T10:18:45.931Z"
   },
   {
    "duration": 6292,
    "start_time": "2022-03-14T10:18:45.938Z"
   },
   {
    "duration": 2133,
    "start_time": "2022-03-14T10:18:52.232Z"
   },
   {
    "duration": 4,
    "start_time": "2022-03-14T10:18:54.366Z"
   },
   {
    "duration": 524,
    "start_time": "2022-03-14T10:18:54.371Z"
   },
   {
    "duration": 4,
    "start_time": "2022-03-14T10:20:04.301Z"
   },
   {
    "duration": 4877,
    "start_time": "2022-03-14T10:20:05.910Z"
   },
   {
    "duration": 3,
    "start_time": "2022-03-14T10:20:22.306Z"
   },
   {
    "duration": 21,
    "start_time": "2022-03-14T10:20:24.058Z"
   },
   {
    "duration": 4,
    "start_time": "2022-03-14T10:21:37.986Z"
   },
   {
    "duration": 5231,
    "start_time": "2022-03-14T10:21:39.595Z"
   },
   {
    "duration": 3,
    "start_time": "2022-03-14T10:23:37.929Z"
   },
   {
    "duration": 464,
    "start_time": "2022-03-14T10:23:39.477Z"
   },
   {
    "duration": 4,
    "start_time": "2022-03-14T10:24:09.808Z"
   },
   {
    "duration": 10,
    "start_time": "2022-03-14T10:24:13.692Z"
   },
   {
    "duration": 58,
    "start_time": "2022-03-14T10:26:51.250Z"
   },
   {
    "duration": 3,
    "start_time": "2022-03-14T10:28:12.879Z"
   },
   {
    "duration": 15,
    "start_time": "2022-03-14T10:28:15.231Z"
   },
   {
    "duration": 3,
    "start_time": "2022-03-14T10:28:22.591Z"
   },
   {
    "duration": 14,
    "start_time": "2022-03-14T10:28:24.264Z"
   },
   {
    "duration": 115,
    "start_time": "2022-03-14T10:29:09.121Z"
   },
   {
    "duration": 2237,
    "start_time": "2022-03-14T10:29:31.177Z"
   },
   {
    "duration": 7,
    "start_time": "2022-03-14T10:31:19.036Z"
   },
   {
    "duration": 2257,
    "start_time": "2022-03-14T10:31:21.027Z"
   },
   {
    "duration": 7,
    "start_time": "2022-03-14T10:32:16.482Z"
   },
   {
    "duration": 2358,
    "start_time": "2022-03-14T10:32:18.014Z"
   },
   {
    "duration": 1183,
    "start_time": "2022-03-14T10:32:35.146Z"
   },
   {
    "duration": 740,
    "start_time": "2022-03-14T10:32:36.331Z"
   },
   {
    "duration": 4,
    "start_time": "2022-03-14T10:32:37.072Z"
   },
   {
    "duration": 394,
    "start_time": "2022-03-14T10:32:37.077Z"
   },
   {
    "duration": 401,
    "start_time": "2022-03-14T10:32:37.473Z"
   },
   {
    "duration": 192,
    "start_time": "2022-03-14T10:32:37.876Z"
   },
   {
    "duration": 6,
    "start_time": "2022-03-14T10:32:38.070Z"
   },
   {
    "duration": 14,
    "start_time": "2022-03-14T10:32:38.079Z"
   },
   {
    "duration": 40,
    "start_time": "2022-03-14T10:32:38.095Z"
   },
   {
    "duration": 37,
    "start_time": "2022-03-14T10:32:38.137Z"
   },
   {
    "duration": 69,
    "start_time": "2022-03-14T10:32:38.176Z"
   },
   {
    "duration": 22,
    "start_time": "2022-03-14T10:32:38.259Z"
   },
   {
    "duration": 3470,
    "start_time": "2022-03-14T10:32:38.283Z"
   },
   {
    "duration": 406,
    "start_time": "2022-03-14T10:32:41.755Z"
   },
   {
    "duration": 4,
    "start_time": "2022-03-14T10:32:42.163Z"
   },
   {
    "duration": 6284,
    "start_time": "2022-03-14T10:32:42.169Z"
   },
   {
    "duration": 2171,
    "start_time": "2022-03-14T10:32:48.454Z"
   },
   {
    "duration": 6,
    "start_time": "2022-03-14T10:32:50.627Z"
   },
   {
    "duration": 2292,
    "start_time": "2022-03-14T10:32:50.635Z"
   },
   {
    "duration": 1206,
    "start_time": "2022-03-14T10:34:03.636Z"
   },
   {
    "duration": 735,
    "start_time": "2022-03-14T10:34:04.844Z"
   },
   {
    "duration": 5,
    "start_time": "2022-03-14T10:34:05.581Z"
   },
   {
    "duration": 417,
    "start_time": "2022-03-14T10:34:05.588Z"
   },
   {
    "duration": 397,
    "start_time": "2022-03-14T10:34:06.007Z"
   },
   {
    "duration": 194,
    "start_time": "2022-03-14T10:34:06.406Z"
   },
   {
    "duration": 7,
    "start_time": "2022-03-14T10:34:06.602Z"
   },
   {
    "duration": 7,
    "start_time": "2022-03-14T10:34:06.612Z"
   },
   {
    "duration": 53,
    "start_time": "2022-03-14T10:34:06.621Z"
   },
   {
    "duration": 30,
    "start_time": "2022-03-14T10:34:06.676Z"
   },
   {
    "duration": 84,
    "start_time": "2022-03-14T10:34:06.707Z"
   },
   {
    "duration": 21,
    "start_time": "2022-03-14T10:34:06.793Z"
   },
   {
    "duration": 3472,
    "start_time": "2022-03-14T10:34:06.816Z"
   },
   {
    "duration": 411,
    "start_time": "2022-03-14T10:34:10.290Z"
   },
   {
    "duration": 5,
    "start_time": "2022-03-14T10:34:10.703Z"
   },
   {
    "duration": 6473,
    "start_time": "2022-03-14T10:34:10.710Z"
   },
   {
    "duration": 2185,
    "start_time": "2022-03-14T10:34:17.186Z"
   },
   {
    "duration": 6,
    "start_time": "2022-03-14T10:34:19.372Z"
   },
   {
    "duration": 2351,
    "start_time": "2022-03-14T10:34:19.380Z"
   },
   {
    "duration": 90,
    "start_time": "2022-03-14T10:41:50.835Z"
   },
   {
    "duration": 62,
    "start_time": "2022-03-14T10:42:54.810Z"
   },
   {
    "duration": 88,
    "start_time": "2022-03-14T10:43:11.174Z"
   },
   {
    "duration": 304,
    "start_time": "2022-03-14T10:43:23.898Z"
   },
   {
    "duration": 4,
    "start_time": "2022-03-14T10:44:19.895Z"
   },
   {
    "duration": 292,
    "start_time": "2022-03-14T10:44:35.963Z"
   },
   {
    "duration": 428,
    "start_time": "2022-03-14T10:44:46.390Z"
   },
   {
    "duration": 4,
    "start_time": "2022-03-14T10:47:00.745Z"
   },
   {
    "duration": 474,
    "start_time": "2022-03-14T10:47:02.359Z"
   },
   {
    "duration": 3,
    "start_time": "2022-03-14T10:47:13.483Z"
   },
   {
    "duration": 426,
    "start_time": "2022-03-14T10:47:15.659Z"
   },
   {
    "duration": 3,
    "start_time": "2022-03-14T10:47:57.945Z"
   },
   {
    "duration": 7600,
    "start_time": "2022-03-14T10:47:59.901Z"
   },
   {
    "duration": 3,
    "start_time": "2022-03-14T10:48:18.063Z"
   },
   {
    "duration": 435,
    "start_time": "2022-03-14T10:48:19.633Z"
   },
   {
    "duration": 3,
    "start_time": "2022-03-14T10:51:05.299Z"
   },
   {
    "duration": 440,
    "start_time": "2022-03-14T10:51:07.190Z"
   },
   {
    "duration": 3,
    "start_time": "2022-03-14T10:55:40.557Z"
   },
   {
    "duration": 403,
    "start_time": "2022-03-14T10:55:42.029Z"
   },
   {
    "duration": 3,
    "start_time": "2022-03-14T10:56:05.016Z"
   },
   {
    "duration": 394,
    "start_time": "2022-03-14T10:56:06.433Z"
   },
   {
    "duration": 3,
    "start_time": "2022-03-14T10:57:46.243Z"
   },
   {
    "duration": 3,
    "start_time": "2022-03-14T10:58:19.319Z"
   },
   {
    "duration": 439,
    "start_time": "2022-03-14T10:58:23.577Z"
   },
   {
    "duration": 4,
    "start_time": "2022-03-14T10:58:44.542Z"
   },
   {
    "duration": 5114,
    "start_time": "2022-03-14T10:58:46.031Z"
   },
   {
    "duration": 4,
    "start_time": "2022-03-14T11:03:15.155Z"
   },
   {
    "duration": 5013,
    "start_time": "2022-03-14T11:03:20.919Z"
   },
   {
    "duration": 3,
    "start_time": "2022-03-14T11:03:58.135Z"
   },
   {
    "duration": 207,
    "start_time": "2022-03-14T11:04:00.603Z"
   },
   {
    "duration": 5486,
    "start_time": "2022-03-14T11:04:12.593Z"
   },
   {
    "duration": 1188,
    "start_time": "2022-03-14T11:05:07.247Z"
   },
   {
    "duration": 767,
    "start_time": "2022-03-14T11:05:08.437Z"
   },
   {
    "duration": 3,
    "start_time": "2022-03-14T11:05:09.208Z"
   },
   {
    "duration": 409,
    "start_time": "2022-03-14T11:05:09.212Z"
   },
   {
    "duration": 404,
    "start_time": "2022-03-14T11:05:09.623Z"
   },
   {
    "duration": 200,
    "start_time": "2022-03-14T11:05:10.029Z"
   },
   {
    "duration": 6,
    "start_time": "2022-03-14T11:05:10.232Z"
   },
   {
    "duration": 30,
    "start_time": "2022-03-14T11:05:10.240Z"
   },
   {
    "duration": 44,
    "start_time": "2022-03-14T11:05:10.271Z"
   },
   {
    "duration": 29,
    "start_time": "2022-03-14T11:05:10.316Z"
   },
   {
    "duration": 77,
    "start_time": "2022-03-14T11:05:10.347Z"
   },
   {
    "duration": 2,
    "start_time": "2022-03-14T11:05:10.426Z"
   },
   {
    "duration": 3541,
    "start_time": "2022-03-14T11:05:10.430Z"
   },
   {
    "duration": 405,
    "start_time": "2022-03-14T11:05:13.972Z"
   },
   {
    "duration": 5,
    "start_time": "2022-03-14T11:05:14.379Z"
   },
   {
    "duration": 6410,
    "start_time": "2022-03-14T11:05:14.386Z"
   },
   {
    "duration": 2195,
    "start_time": "2022-03-14T11:05:20.797Z"
   },
   {
    "duration": 10,
    "start_time": "2022-03-14T11:05:22.994Z"
   },
   {
    "duration": 2308,
    "start_time": "2022-03-14T11:05:23.006Z"
   },
   {
    "duration": 3,
    "start_time": "2022-03-14T11:05:25.316Z"
   },
   {
    "duration": 5130,
    "start_time": "2022-03-14T11:05:25.321Z"
   },
   {
    "duration": 3,
    "start_time": "2022-03-14T11:07:55.241Z"
   },
   {
    "duration": 424,
    "start_time": "2022-03-14T11:07:56.652Z"
   },
   {
    "duration": 9,
    "start_time": "2022-03-14T11:10:19.847Z"
   },
   {
    "duration": 17,
    "start_time": "2022-03-14T11:10:30.928Z"
   },
   {
    "duration": 4,
    "start_time": "2022-03-14T11:12:31.024Z"
   },
   {
    "duration": 41,
    "start_time": "2022-03-14T11:14:33.016Z"
   },
   {
    "duration": 1122,
    "start_time": "2022-03-14T11:14:41.615Z"
   },
   {
    "duration": 741,
    "start_time": "2022-03-14T11:14:42.739Z"
   },
   {
    "duration": 3,
    "start_time": "2022-03-14T11:14:43.482Z"
   },
   {
    "duration": 398,
    "start_time": "2022-03-14T11:14:43.487Z"
   },
   {
    "duration": 387,
    "start_time": "2022-03-14T11:14:43.887Z"
   },
   {
    "duration": 195,
    "start_time": "2022-03-14T11:14:44.275Z"
   },
   {
    "duration": 7,
    "start_time": "2022-03-14T11:14:44.472Z"
   },
   {
    "duration": 6,
    "start_time": "2022-03-14T11:14:44.481Z"
   },
   {
    "duration": 32,
    "start_time": "2022-03-14T11:14:44.490Z"
   },
   {
    "duration": 59,
    "start_time": "2022-03-14T11:14:44.524Z"
   },
   {
    "duration": 90,
    "start_time": "2022-03-14T11:14:44.584Z"
   },
   {
    "duration": 2,
    "start_time": "2022-03-14T11:14:44.675Z"
   },
   {
    "duration": 3504,
    "start_time": "2022-03-14T11:14:44.679Z"
   },
   {
    "duration": 393,
    "start_time": "2022-03-14T11:14:48.185Z"
   },
   {
    "duration": 5,
    "start_time": "2022-03-14T11:14:48.579Z"
   },
   {
    "duration": 6245,
    "start_time": "2022-03-14T11:14:48.585Z"
   },
   {
    "duration": 2114,
    "start_time": "2022-03-14T11:14:54.832Z"
   },
   {
    "duration": 18,
    "start_time": "2022-03-14T11:14:56.948Z"
   },
   {
    "duration": 2331,
    "start_time": "2022-03-14T11:14:56.967Z"
   },
   {
    "duration": 2,
    "start_time": "2022-03-14T11:14:59.300Z"
   },
   {
    "duration": 57,
    "start_time": "2022-03-14T11:14:59.304Z"
   },
   {
    "duration": 1130,
    "start_time": "2022-03-14T11:17:11.508Z"
   },
   {
    "duration": 750,
    "start_time": "2022-03-14T11:17:12.639Z"
   },
   {
    "duration": 3,
    "start_time": "2022-03-14T11:17:13.391Z"
   },
   {
    "duration": 408,
    "start_time": "2022-03-14T11:17:13.396Z"
   },
   {
    "duration": 394,
    "start_time": "2022-03-14T11:17:13.806Z"
   },
   {
    "duration": 195,
    "start_time": "2022-03-14T11:17:14.202Z"
   },
   {
    "duration": 7,
    "start_time": "2022-03-14T11:17:14.399Z"
   },
   {
    "duration": 6,
    "start_time": "2022-03-14T11:17:14.409Z"
   },
   {
    "duration": 58,
    "start_time": "2022-03-14T11:17:14.417Z"
   },
   {
    "duration": 31,
    "start_time": "2022-03-14T11:17:14.476Z"
   },
   {
    "duration": 95,
    "start_time": "2022-03-14T11:17:14.508Z"
   },
   {
    "duration": 21,
    "start_time": "2022-03-14T11:17:14.604Z"
   },
   {
    "duration": 3606,
    "start_time": "2022-03-14T11:17:14.627Z"
   },
   {
    "duration": 413,
    "start_time": "2022-03-14T11:17:18.235Z"
   },
   {
    "duration": 9,
    "start_time": "2022-03-14T11:17:18.650Z"
   },
   {
    "duration": 6543,
    "start_time": "2022-03-14T11:17:18.661Z"
   },
   {
    "duration": 2232,
    "start_time": "2022-03-14T11:17:25.206Z"
   },
   {
    "duration": 19,
    "start_time": "2022-03-14T11:17:27.440Z"
   },
   {
    "duration": 2358,
    "start_time": "2022-03-14T11:17:27.461Z"
   },
   {
    "duration": 4,
    "start_time": "2022-03-14T11:17:29.821Z"
   },
   {
    "duration": 51,
    "start_time": "2022-03-14T11:17:29.826Z"
   },
   {
    "duration": 13,
    "start_time": "2022-03-14T11:18:39.371Z"
   },
   {
    "duration": 10,
    "start_time": "2022-03-14T11:19:53.771Z"
   },
   {
    "duration": 1137,
    "start_time": "2022-03-14T11:20:15.588Z"
   },
   {
    "duration": 735,
    "start_time": "2022-03-14T11:20:16.727Z"
   },
   {
    "duration": 3,
    "start_time": "2022-03-14T11:20:17.464Z"
   },
   {
    "duration": 404,
    "start_time": "2022-03-14T11:20:17.469Z"
   },
   {
    "duration": 402,
    "start_time": "2022-03-14T11:20:17.875Z"
   },
   {
    "duration": 194,
    "start_time": "2022-03-14T11:20:18.279Z"
   },
   {
    "duration": 7,
    "start_time": "2022-03-14T11:20:18.475Z"
   },
   {
    "duration": 6,
    "start_time": "2022-03-14T11:20:18.484Z"
   },
   {
    "duration": 33,
    "start_time": "2022-03-14T11:20:18.492Z"
   },
   {
    "duration": 53,
    "start_time": "2022-03-14T11:20:18.526Z"
   },
   {
    "duration": 85,
    "start_time": "2022-03-14T11:20:18.581Z"
   },
   {
    "duration": 21,
    "start_time": "2022-03-14T11:20:18.668Z"
   },
   {
    "duration": 3624,
    "start_time": "2022-03-14T11:20:18.691Z"
   },
   {
    "duration": 422,
    "start_time": "2022-03-14T11:20:22.317Z"
   },
   {
    "duration": 4,
    "start_time": "2022-03-14T11:20:22.741Z"
   },
   {
    "duration": 6494,
    "start_time": "2022-03-14T11:20:22.747Z"
   },
   {
    "duration": 2207,
    "start_time": "2022-03-14T11:20:29.242Z"
   },
   {
    "duration": 11,
    "start_time": "2022-03-14T11:20:31.451Z"
   },
   {
    "duration": 2378,
    "start_time": "2022-03-14T11:20:31.463Z"
   },
   {
    "duration": 20,
    "start_time": "2022-03-14T11:20:33.843Z"
   },
   {
    "duration": 3,
    "start_time": "2022-03-14T11:20:33.865Z"
   },
   {
    "duration": 40,
    "start_time": "2022-03-14T11:20:33.870Z"
   },
   {
    "duration": 11,
    "start_time": "2022-03-14T11:20:33.913Z"
   },
   {
    "duration": 3,
    "start_time": "2022-03-14T11:21:51.748Z"
   },
   {
    "duration": 483,
    "start_time": "2022-03-14T11:21:53.194Z"
   },
   {
    "duration": 66,
    "start_time": "2022-03-14T11:55:48.786Z"
   },
   {
    "duration": 3,
    "start_time": "2022-03-14T11:55:52.424Z"
   },
   {
    "duration": 402,
    "start_time": "2022-03-14T11:55:54.486Z"
   },
   {
    "duration": 10,
    "start_time": "2022-03-14T11:57:15.284Z"
   },
   {
    "duration": 3,
    "start_time": "2022-03-14T11:57:34.812Z"
   },
   {
    "duration": 389,
    "start_time": "2022-03-14T11:57:36.769Z"
   },
   {
    "duration": 4,
    "start_time": "2022-03-14T11:58:06.391Z"
   },
   {
    "duration": 18,
    "start_time": "2022-03-14T11:58:08.058Z"
   },
   {
    "duration": 11,
    "start_time": "2022-03-14T11:58:10.270Z"
   },
   {
    "duration": 3,
    "start_time": "2022-03-14T11:58:28.062Z"
   },
   {
    "duration": 127,
    "start_time": "2022-03-14T11:58:29.749Z"
   },
   {
    "duration": 3,
    "start_time": "2022-03-14T11:58:37.338Z"
   },
   {
    "duration": 25,
    "start_time": "2022-03-14T11:58:39.641Z"
   },
   {
    "duration": 10,
    "start_time": "2022-03-14T11:58:44.057Z"
   },
   {
    "duration": 4,
    "start_time": "2022-03-14T12:00:26.794Z"
   },
   {
    "duration": 20,
    "start_time": "2022-03-14T12:00:28.651Z"
   },
   {
    "duration": 12,
    "start_time": "2022-03-14T12:00:30.545Z"
   },
   {
    "duration": 10,
    "start_time": "2022-03-14T12:00:32.987Z"
   },
   {
    "duration": 19,
    "start_time": "2022-03-14T12:00:35.605Z"
   },
   {
    "duration": 1193,
    "start_time": "2022-03-14T12:00:46.831Z"
   },
   {
    "duration": 750,
    "start_time": "2022-03-14T12:00:48.027Z"
   },
   {
    "duration": 3,
    "start_time": "2022-03-14T12:00:48.780Z"
   },
   {
    "duration": 396,
    "start_time": "2022-03-14T12:00:48.785Z"
   },
   {
    "duration": 406,
    "start_time": "2022-03-14T12:00:49.183Z"
   },
   {
    "duration": 199,
    "start_time": "2022-03-14T12:00:49.591Z"
   },
   {
    "duration": 7,
    "start_time": "2022-03-14T12:00:49.791Z"
   },
   {
    "duration": 7,
    "start_time": "2022-03-14T12:00:49.800Z"
   },
   {
    "duration": 57,
    "start_time": "2022-03-14T12:00:49.809Z"
   },
   {
    "duration": 27,
    "start_time": "2022-03-14T12:00:49.867Z"
   },
   {
    "duration": 89,
    "start_time": "2022-03-14T12:00:49.896Z"
   },
   {
    "duration": 21,
    "start_time": "2022-03-14T12:00:49.986Z"
   },
   {
    "duration": 3618,
    "start_time": "2022-03-14T12:00:50.009Z"
   },
   {
    "duration": 410,
    "start_time": "2022-03-14T12:00:53.629Z"
   },
   {
    "duration": 5,
    "start_time": "2022-03-14T12:00:54.041Z"
   },
   {
    "duration": 6297,
    "start_time": "2022-03-14T12:00:54.047Z"
   },
   {
    "duration": 2257,
    "start_time": "2022-03-14T12:01:00.346Z"
   },
   {
    "duration": 6,
    "start_time": "2022-03-14T12:01:02.605Z"
   },
   {
    "duration": 2323,
    "start_time": "2022-03-14T12:01:02.612Z"
   },
   {
    "duration": 25,
    "start_time": "2022-03-14T12:01:04.937Z"
   },
   {
    "duration": 3,
    "start_time": "2022-03-14T12:01:04.964Z"
   },
   {
    "duration": 28,
    "start_time": "2022-03-14T12:01:04.968Z"
   },
   {
    "duration": 11,
    "start_time": "2022-03-14T12:01:04.999Z"
   },
   {
    "duration": 315,
    "start_time": "2022-03-14T12:02:10.634Z"
   },
   {
    "duration": 1128,
    "start_time": "2022-03-14T12:02:15.915Z"
   },
   {
    "duration": 765,
    "start_time": "2022-03-14T12:02:17.045Z"
   },
   {
    "duration": 3,
    "start_time": "2022-03-14T12:02:17.812Z"
   },
   {
    "duration": 425,
    "start_time": "2022-03-14T12:02:17.817Z"
   },
   {
    "duration": 419,
    "start_time": "2022-03-14T12:02:18.244Z"
   },
   {
    "duration": 198,
    "start_time": "2022-03-14T12:02:18.665Z"
   },
   {
    "duration": 7,
    "start_time": "2022-03-14T12:02:18.864Z"
   },
   {
    "duration": 6,
    "start_time": "2022-03-14T12:02:18.873Z"
   },
   {
    "duration": 33,
    "start_time": "2022-03-14T12:02:18.881Z"
   },
   {
    "duration": 57,
    "start_time": "2022-03-14T12:02:18.916Z"
   },
   {
    "duration": 71,
    "start_time": "2022-03-14T12:02:18.975Z"
   },
   {
    "duration": 22,
    "start_time": "2022-03-14T12:02:19.059Z"
   },
   {
    "duration": 3570,
    "start_time": "2022-03-14T12:02:19.083Z"
   },
   {
    "duration": 418,
    "start_time": "2022-03-14T12:02:22.659Z"
   },
   {
    "duration": 5,
    "start_time": "2022-03-14T12:02:23.079Z"
   },
   {
    "duration": 6554,
    "start_time": "2022-03-14T12:02:23.085Z"
   },
   {
    "duration": 2190,
    "start_time": "2022-03-14T12:02:29.641Z"
   },
   {
    "duration": 6,
    "start_time": "2022-03-14T12:02:31.833Z"
   },
   {
    "duration": 2281,
    "start_time": "2022-03-14T12:02:31.841Z"
   },
   {
    "duration": 16,
    "start_time": "2022-03-14T12:02:34.123Z"
   },
   {
    "duration": 3,
    "start_time": "2022-03-14T12:02:34.141Z"
   },
   {
    "duration": 35,
    "start_time": "2022-03-14T12:02:34.159Z"
   },
   {
    "duration": 11,
    "start_time": "2022-03-14T12:02:34.197Z"
   },
   {
    "duration": 3,
    "start_time": "2022-03-14T12:03:13.489Z"
   },
   {
    "duration": 19,
    "start_time": "2022-03-14T12:03:15.392Z"
   },
   {
    "duration": 11,
    "start_time": "2022-03-14T12:03:16.847Z"
   },
   {
    "duration": 12,
    "start_time": "2022-03-14T12:05:28.864Z"
   },
   {
    "duration": 4,
    "start_time": "2022-03-14T12:06:00.022Z"
   },
   {
    "duration": 471,
    "start_time": "2022-03-14T12:06:01.953Z"
   },
   {
    "duration": 3,
    "start_time": "2022-03-14T12:06:08.157Z"
   },
   {
    "duration": 17,
    "start_time": "2022-03-14T12:06:09.797Z"
   },
   {
    "duration": 10,
    "start_time": "2022-03-14T12:06:12.197Z"
   },
   {
    "duration": 1122,
    "start_time": "2022-03-14T12:06:28.614Z"
   },
   {
    "duration": 758,
    "start_time": "2022-03-14T12:06:29.738Z"
   },
   {
    "duration": 3,
    "start_time": "2022-03-14T12:06:30.498Z"
   },
   {
    "duration": 423,
    "start_time": "2022-03-14T12:06:30.503Z"
   },
   {
    "duration": 406,
    "start_time": "2022-03-14T12:06:30.928Z"
   },
   {
    "duration": 192,
    "start_time": "2022-03-14T12:06:31.336Z"
   },
   {
    "duration": 7,
    "start_time": "2022-03-14T12:06:31.529Z"
   },
   {
    "duration": 23,
    "start_time": "2022-03-14T12:06:31.538Z"
   },
   {
    "duration": 40,
    "start_time": "2022-03-14T12:06:31.564Z"
   },
   {
    "duration": 28,
    "start_time": "2022-03-14T12:06:31.606Z"
   },
   {
    "duration": 92,
    "start_time": "2022-03-14T12:06:31.636Z"
   },
   {
    "duration": 33,
    "start_time": "2022-03-14T12:06:31.730Z"
   },
   {
    "duration": 3503,
    "start_time": "2022-03-14T12:06:31.765Z"
   },
   {
    "duration": 408,
    "start_time": "2022-03-14T12:06:35.269Z"
   },
   {
    "duration": 4,
    "start_time": "2022-03-14T12:06:35.679Z"
   },
   {
    "duration": 6226,
    "start_time": "2022-03-14T12:06:35.685Z"
   },
   {
    "duration": 2182,
    "start_time": "2022-03-14T12:06:41.913Z"
   },
   {
    "duration": 6,
    "start_time": "2022-03-14T12:06:44.097Z"
   },
   {
    "duration": 2264,
    "start_time": "2022-03-14T12:06:44.104Z"
   },
   {
    "duration": 11,
    "start_time": "2022-03-14T12:06:46.370Z"
   },
   {
    "duration": 2,
    "start_time": "2022-03-14T12:06:46.383Z"
   },
   {
    "duration": 23,
    "start_time": "2022-03-14T12:06:46.387Z"
   },
   {
    "duration": 12,
    "start_time": "2022-03-14T12:06:46.411Z"
   },
   {
    "duration": 3,
    "start_time": "2022-03-14T12:08:33.893Z"
   },
   {
    "duration": 18,
    "start_time": "2022-03-14T12:08:36.493Z"
   },
   {
    "duration": 10,
    "start_time": "2022-03-14T12:08:38.108Z"
   },
   {
    "duration": 3,
    "start_time": "2022-03-14T12:09:46.829Z"
   },
   {
    "duration": 546,
    "start_time": "2022-03-14T12:09:48.461Z"
   },
   {
    "duration": 3,
    "start_time": "2022-03-14T12:10:01.871Z"
   },
   {
    "duration": 375,
    "start_time": "2022-03-14T12:10:04.137Z"
   },
   {
    "duration": 3,
    "start_time": "2022-03-14T12:11:25.407Z"
   },
   {
    "duration": 388,
    "start_time": "2022-03-14T12:11:27.068Z"
   },
   {
    "duration": 3,
    "start_time": "2022-03-14T12:11:35.638Z"
   },
   {
    "duration": 390,
    "start_time": "2022-03-14T12:11:37.408Z"
   },
   {
    "duration": 3,
    "start_time": "2022-03-14T12:14:02.439Z"
   },
   {
    "duration": 33,
    "start_time": "2022-03-14T12:14:05.056Z"
   },
   {
    "duration": 11,
    "start_time": "2022-03-14T12:14:07.486Z"
   },
   {
    "duration": 16,
    "start_time": "2022-03-14T12:14:45.030Z"
   },
   {
    "duration": 4,
    "start_time": "2022-03-14T12:15:27.415Z"
   },
   {
    "duration": 420,
    "start_time": "2022-03-14T12:15:30.676Z"
   },
   {
    "duration": 72,
    "start_time": "2022-03-14T12:16:23.969Z"
   },
   {
    "duration": 3,
    "start_time": "2022-03-14T12:16:37.871Z"
   },
   {
    "duration": 394,
    "start_time": "2022-03-14T12:16:39.792Z"
   },
   {
    "duration": 3,
    "start_time": "2022-03-14T12:16:44.456Z"
   },
   {
    "duration": 30,
    "start_time": "2022-03-14T12:16:45.886Z"
   },
   {
    "duration": 13,
    "start_time": "2022-03-14T12:16:47.598Z"
   },
   {
    "duration": 187,
    "start_time": "2022-03-14T12:17:22.583Z"
   },
   {
    "duration": 5,
    "start_time": "2022-03-14T12:17:30.080Z"
   },
   {
    "duration": 5,
    "start_time": "2022-03-14T12:17:57.546Z"
   },
   {
    "duration": 5,
    "start_time": "2022-03-14T12:18:09.139Z"
   },
   {
    "duration": 204,
    "start_time": "2022-03-14T12:18:12.674Z"
   },
   {
    "duration": 6,
    "start_time": "2022-03-14T12:18:16.423Z"
   },
   {
    "duration": 5,
    "start_time": "2022-03-14T12:18:26.991Z"
   },
   {
    "duration": 3,
    "start_time": "2022-03-14T12:19:11.351Z"
   },
   {
    "duration": 19,
    "start_time": "2022-03-14T12:19:12.767Z"
   },
   {
    "duration": 14,
    "start_time": "2022-03-14T12:19:14.558Z"
   },
   {
    "duration": 1198,
    "start_time": "2022-03-14T12:20:10.734Z"
   },
   {
    "duration": 733,
    "start_time": "2022-03-14T12:20:11.934Z"
   },
   {
    "duration": 3,
    "start_time": "2022-03-14T12:20:12.670Z"
   },
   {
    "duration": 401,
    "start_time": "2022-03-14T12:20:12.675Z"
   },
   {
    "duration": 394,
    "start_time": "2022-03-14T12:20:13.077Z"
   },
   {
    "duration": 194,
    "start_time": "2022-03-14T12:20:13.473Z"
   },
   {
    "duration": 7,
    "start_time": "2022-03-14T12:20:13.669Z"
   },
   {
    "duration": 7,
    "start_time": "2022-03-14T12:20:13.678Z"
   },
   {
    "duration": 34,
    "start_time": "2022-03-14T12:20:13.687Z"
   },
   {
    "duration": 58,
    "start_time": "2022-03-14T12:20:13.722Z"
   },
   {
    "duration": 85,
    "start_time": "2022-03-14T12:20:13.782Z"
   },
   {
    "duration": 22,
    "start_time": "2022-03-14T12:20:13.869Z"
   },
   {
    "duration": 3647,
    "start_time": "2022-03-14T12:20:13.894Z"
   },
   {
    "duration": 432,
    "start_time": "2022-03-14T12:20:17.543Z"
   },
   {
    "duration": 4,
    "start_time": "2022-03-14T12:20:17.977Z"
   },
   {
    "duration": 6768,
    "start_time": "2022-03-14T12:20:17.984Z"
   },
   {
    "duration": 2274,
    "start_time": "2022-03-14T12:20:24.754Z"
   },
   {
    "duration": 6,
    "start_time": "2022-03-14T12:20:27.030Z"
   },
   {
    "duration": 2442,
    "start_time": "2022-03-14T12:20:27.038Z"
   },
   {
    "duration": 285,
    "start_time": "2022-03-14T12:20:29.482Z"
   },
   {
    "duration": 357,
    "start_time": "2022-03-14T12:20:29.413Z"
   },
   {
    "duration": 354,
    "start_time": "2022-03-14T12:20:29.417Z"
   },
   {
    "duration": 350,
    "start_time": "2022-03-14T12:20:29.423Z"
   },
   {
    "duration": 349,
    "start_time": "2022-03-14T12:20:29.426Z"
   },
   {
    "duration": 3,
    "start_time": "2022-03-14T12:21:31.812Z"
   },
   {
    "duration": 262,
    "start_time": "2022-03-14T12:21:33.580Z"
   },
   {
    "duration": 25,
    "start_time": "2022-03-14T12:21:40.924Z"
   },
   {
    "duration": 13,
    "start_time": "2022-03-14T12:21:42.442Z"
   },
   {
    "duration": 27,
    "start_time": "2022-03-14T12:24:09.527Z"
   },
   {
    "duration": 30,
    "start_time": "2022-03-14T12:24:36.247Z"
   },
   {
    "duration": 3,
    "start_time": "2022-03-14T12:25:37.400Z"
   },
   {
    "duration": 34,
    "start_time": "2022-03-14T12:25:39.357Z"
   },
   {
    "duration": 28,
    "start_time": "2022-03-14T12:27:55.704Z"
   },
   {
    "duration": 35,
    "start_time": "2022-03-14T12:28:07.251Z"
   },
   {
    "duration": 36,
    "start_time": "2022-03-14T12:28:31.494Z"
   },
   {
    "duration": 52,
    "start_time": "2022-03-14T12:29:03.005Z"
   },
   {
    "duration": 1154,
    "start_time": "2022-03-14T12:32:52.682Z"
   },
   {
    "duration": 752,
    "start_time": "2022-03-14T12:32:53.838Z"
   },
   {
    "duration": 4,
    "start_time": "2022-03-14T12:32:54.592Z"
   },
   {
    "duration": 398,
    "start_time": "2022-03-14T12:32:54.597Z"
   },
   {
    "duration": 404,
    "start_time": "2022-03-14T12:32:54.996Z"
   },
   {
    "duration": 218,
    "start_time": "2022-03-14T12:32:55.403Z"
   },
   {
    "duration": 7,
    "start_time": "2022-03-14T12:32:55.623Z"
   },
   {
    "duration": 9,
    "start_time": "2022-03-14T12:32:55.633Z"
   },
   {
    "duration": 36,
    "start_time": "2022-03-14T12:32:55.660Z"
   },
   {
    "duration": 29,
    "start_time": "2022-03-14T12:32:55.698Z"
   },
   {
    "duration": 101,
    "start_time": "2022-03-14T12:32:55.729Z"
   },
   {
    "duration": 43,
    "start_time": "2022-03-14T12:32:55.832Z"
   },
   {
    "duration": 3451,
    "start_time": "2022-03-14T12:32:55.877Z"
   },
   {
    "duration": 415,
    "start_time": "2022-03-14T12:32:59.329Z"
   },
   {
    "duration": 6,
    "start_time": "2022-03-14T12:32:59.746Z"
   },
   {
    "duration": 6359,
    "start_time": "2022-03-14T12:32:59.753Z"
   },
   {
    "duration": 2176,
    "start_time": "2022-03-14T12:33:06.114Z"
   },
   {
    "duration": 6,
    "start_time": "2022-03-14T12:33:08.292Z"
   },
   {
    "duration": 2355,
    "start_time": "2022-03-14T12:33:08.299Z"
   },
   {
    "duration": 3,
    "start_time": "2022-03-14T12:33:10.656Z"
   },
   {
    "duration": 68,
    "start_time": "2022-03-14T12:33:10.660Z"
   },
   {
    "duration": 25,
    "start_time": "2022-03-14T12:33:42.950Z"
   },
   {
    "duration": 15,
    "start_time": "2022-03-14T12:42:21.097Z"
   },
   {
    "duration": 35,
    "start_time": "2022-03-14T12:42:47.973Z"
   },
   {
    "duration": 30,
    "start_time": "2022-03-14T12:43:24.601Z"
   },
   {
    "duration": 32,
    "start_time": "2022-03-14T12:43:46.500Z"
   },
   {
    "duration": 290,
    "start_time": "2022-03-14T12:44:05.952Z"
   },
   {
    "duration": 34,
    "start_time": "2022-03-14T12:44:10.765Z"
   },
   {
    "duration": 30,
    "start_time": "2022-03-14T12:44:32.970Z"
   },
   {
    "duration": 10,
    "start_time": "2022-03-14T12:44:52.434Z"
   },
   {
    "duration": 42,
    "start_time": "2022-03-14T12:45:23.690Z"
   },
   {
    "duration": 17,
    "start_time": "2022-03-14T12:45:30.822Z"
   },
   {
    "duration": 29,
    "start_time": "2022-03-14T12:46:28.586Z"
   },
   {
    "duration": 21,
    "start_time": "2022-03-14T12:46:30.865Z"
   },
   {
    "duration": 215,
    "start_time": "2022-03-14T12:46:34.958Z"
   },
   {
    "duration": 16,
    "start_time": "2022-03-14T12:46:39.064Z"
   },
   {
    "duration": 31,
    "start_time": "2022-03-14T12:47:03.414Z"
   },
   {
    "duration": 45,
    "start_time": "2022-03-14T12:47:40.542Z"
   },
   {
    "duration": 4,
    "start_time": "2022-03-14T12:48:11.964Z"
   },
   {
    "duration": 6,
    "start_time": "2022-03-14T12:48:39.073Z"
   },
   {
    "duration": 341,
    "start_time": "2022-03-14T12:48:48.675Z"
   },
   {
    "duration": 1159,
    "start_time": "2022-03-14T12:49:42.555Z"
   },
   {
    "duration": 734,
    "start_time": "2022-03-14T12:49:43.716Z"
   },
   {
    "duration": 8,
    "start_time": "2022-03-14T12:49:44.452Z"
   },
   {
    "duration": 405,
    "start_time": "2022-03-14T12:49:44.462Z"
   },
   {
    "duration": 407,
    "start_time": "2022-03-14T12:49:44.869Z"
   },
   {
    "duration": 198,
    "start_time": "2022-03-14T12:49:45.278Z"
   },
   {
    "duration": 6,
    "start_time": "2022-03-14T12:49:45.478Z"
   },
   {
    "duration": 8,
    "start_time": "2022-03-14T12:49:45.487Z"
   },
   {
    "duration": 34,
    "start_time": "2022-03-14T12:49:45.497Z"
   },
   {
    "duration": 49,
    "start_time": "2022-03-14T12:49:45.533Z"
   },
   {
    "duration": 89,
    "start_time": "2022-03-14T12:49:45.583Z"
   },
   {
    "duration": 22,
    "start_time": "2022-03-14T12:49:45.674Z"
   },
   {
    "duration": 3584,
    "start_time": "2022-03-14T12:49:45.698Z"
   },
   {
    "duration": 412,
    "start_time": "2022-03-14T12:49:49.284Z"
   },
   {
    "duration": 5,
    "start_time": "2022-03-14T12:49:49.698Z"
   },
   {
    "duration": 6297,
    "start_time": "2022-03-14T12:49:49.704Z"
   },
   {
    "duration": 2132,
    "start_time": "2022-03-14T12:49:56.002Z"
   },
   {
    "duration": 7,
    "start_time": "2022-03-14T12:49:58.135Z"
   },
   {
    "duration": 2290,
    "start_time": "2022-03-14T12:49:58.143Z"
   },
   {
    "duration": 2,
    "start_time": "2022-03-14T12:50:00.435Z"
   },
   {
    "duration": 55,
    "start_time": "2022-03-14T12:50:00.439Z"
   },
   {
    "duration": 14,
    "start_time": "2022-03-14T12:50:00.495Z"
   },
   {
    "duration": 64,
    "start_time": "2022-03-14T12:50:00.512Z"
   },
   {
    "duration": 3,
    "start_time": "2022-03-14T12:54:44.057Z"
   },
   {
    "duration": 3,
    "start_time": "2022-03-14T12:58:43.770Z"
   },
   {
    "duration": 3,
    "start_time": "2022-03-14T12:59:02.383Z"
   },
   {
    "duration": 4,
    "start_time": "2022-03-14T12:59:08.608Z"
   },
   {
    "duration": 4,
    "start_time": "2022-03-14T12:59:11.333Z"
   },
   {
    "duration": 453,
    "start_time": "2022-03-14T12:59:34.496Z"
   },
   {
    "duration": 1137,
    "start_time": "2022-03-14T12:59:44.978Z"
   },
   {
    "duration": 725,
    "start_time": "2022-03-14T12:59:46.117Z"
   },
   {
    "duration": 4,
    "start_time": "2022-03-14T12:59:46.844Z"
   },
   {
    "duration": 397,
    "start_time": "2022-03-14T12:59:46.850Z"
   },
   {
    "duration": 388,
    "start_time": "2022-03-14T12:59:47.249Z"
   },
   {
    "duration": 185,
    "start_time": "2022-03-14T12:59:47.639Z"
   },
   {
    "duration": 7,
    "start_time": "2022-03-14T12:59:47.825Z"
   },
   {
    "duration": 6,
    "start_time": "2022-03-14T12:59:47.834Z"
   },
   {
    "duration": 42,
    "start_time": "2022-03-14T12:59:47.842Z"
   },
   {
    "duration": 26,
    "start_time": "2022-03-14T12:59:47.885Z"
   },
   {
    "duration": 94,
    "start_time": "2022-03-14T12:59:47.912Z"
   },
   {
    "duration": 23,
    "start_time": "2022-03-14T12:59:48.007Z"
   },
   {
    "duration": 3487,
    "start_time": "2022-03-14T12:59:48.031Z"
   },
   {
    "duration": 413,
    "start_time": "2022-03-14T12:59:51.520Z"
   },
   {
    "duration": 6,
    "start_time": "2022-03-14T12:59:51.936Z"
   },
   {
    "duration": 6557,
    "start_time": "2022-03-14T12:59:51.944Z"
   },
   {
    "duration": 2165,
    "start_time": "2022-03-14T12:59:58.503Z"
   },
   {
    "duration": 6,
    "start_time": "2022-03-14T13:00:00.670Z"
   },
   {
    "duration": 2353,
    "start_time": "2022-03-14T13:00:00.678Z"
   },
   {
    "duration": 3,
    "start_time": "2022-03-14T13:00:03.033Z"
   },
   {
    "duration": 47,
    "start_time": "2022-03-14T13:00:03.038Z"
   },
   {
    "duration": 14,
    "start_time": "2022-03-14T13:00:03.087Z"
   },
   {
    "duration": 4,
    "start_time": "2022-03-14T13:00:03.105Z"
   },
   {
    "duration": 10,
    "start_time": "2022-03-14T13:00:03.111Z"
   },
   {
    "duration": 1174,
    "start_time": "2022-03-14T13:00:55.439Z"
   },
   {
    "duration": 742,
    "start_time": "2022-03-14T13:00:56.615Z"
   },
   {
    "duration": 3,
    "start_time": "2022-03-14T13:00:57.359Z"
   },
   {
    "duration": 403,
    "start_time": "2022-03-14T13:00:57.364Z"
   },
   {
    "duration": 398,
    "start_time": "2022-03-14T13:00:57.768Z"
   },
   {
    "duration": 192,
    "start_time": "2022-03-14T13:00:58.167Z"
   },
   {
    "duration": 7,
    "start_time": "2022-03-14T13:00:58.360Z"
   },
   {
    "duration": 6,
    "start_time": "2022-03-14T13:00:58.369Z"
   },
   {
    "duration": 31,
    "start_time": "2022-03-14T13:00:58.377Z"
   },
   {
    "duration": 57,
    "start_time": "2022-03-14T13:00:58.409Z"
   },
   {
    "duration": 71,
    "start_time": "2022-03-14T13:00:58.468Z"
   },
   {
    "duration": 35,
    "start_time": "2022-03-14T13:00:58.540Z"
   },
   {
    "duration": 3459,
    "start_time": "2022-03-14T13:00:58.577Z"
   },
   {
    "duration": 415,
    "start_time": "2022-03-14T13:01:02.038Z"
   },
   {
    "duration": 5,
    "start_time": "2022-03-14T13:01:02.455Z"
   },
   {
    "duration": 6295,
    "start_time": "2022-03-14T13:01:02.462Z"
   },
   {
    "duration": 2164,
    "start_time": "2022-03-14T13:01:08.759Z"
   },
   {
    "duration": 7,
    "start_time": "2022-03-14T13:01:10.925Z"
   },
   {
    "duration": 2299,
    "start_time": "2022-03-14T13:01:10.933Z"
   },
   {
    "duration": 3,
    "start_time": "2022-03-14T13:01:13.234Z"
   },
   {
    "duration": 51,
    "start_time": "2022-03-14T13:01:13.238Z"
   },
   {
    "duration": 9,
    "start_time": "2022-03-14T13:01:13.291Z"
   },
   {
    "duration": 16,
    "start_time": "2022-03-14T13:01:13.303Z"
   },
   {
    "duration": 11,
    "start_time": "2022-03-14T13:01:13.320Z"
   },
   {
    "duration": 464,
    "start_time": "2022-03-14T13:01:25.598Z"
   },
   {
    "duration": 1210,
    "start_time": "2022-03-14T13:02:20.130Z"
   },
   {
    "duration": 745,
    "start_time": "2022-03-14T13:02:21.345Z"
   },
   {
    "duration": 3,
    "start_time": "2022-03-14T13:02:22.092Z"
   },
   {
    "duration": 404,
    "start_time": "2022-03-14T13:02:22.097Z"
   },
   {
    "duration": 406,
    "start_time": "2022-03-14T13:02:22.503Z"
   },
   {
    "duration": 201,
    "start_time": "2022-03-14T13:02:22.911Z"
   },
   {
    "duration": 8,
    "start_time": "2022-03-14T13:02:23.114Z"
   },
   {
    "duration": 7,
    "start_time": "2022-03-14T13:02:23.124Z"
   },
   {
    "duration": 56,
    "start_time": "2022-03-14T13:02:23.132Z"
   },
   {
    "duration": 28,
    "start_time": "2022-03-14T13:02:23.190Z"
   },
   {
    "duration": 98,
    "start_time": "2022-03-14T13:02:23.220Z"
   },
   {
    "duration": 22,
    "start_time": "2022-03-14T13:02:23.320Z"
   },
   {
    "duration": 3675,
    "start_time": "2022-03-14T13:02:23.343Z"
   },
   {
    "duration": 419,
    "start_time": "2022-03-14T13:02:27.020Z"
   },
   {
    "duration": 6,
    "start_time": "2022-03-14T13:02:27.441Z"
   },
   {
    "duration": 6567,
    "start_time": "2022-03-14T13:02:27.459Z"
   },
   {
    "duration": 2196,
    "start_time": "2022-03-14T13:02:34.028Z"
   },
   {
    "duration": 6,
    "start_time": "2022-03-14T13:02:36.226Z"
   },
   {
    "duration": 2355,
    "start_time": "2022-03-14T13:02:36.233Z"
   },
   {
    "duration": 9,
    "start_time": "2022-03-14T13:02:38.590Z"
   },
   {
    "duration": 50,
    "start_time": "2022-03-14T13:02:38.601Z"
   },
   {
    "duration": 14,
    "start_time": "2022-03-14T13:02:38.652Z"
   },
   {
    "duration": 12,
    "start_time": "2022-03-14T13:02:38.668Z"
   },
   {
    "duration": 7,
    "start_time": "2022-03-14T13:02:38.681Z"
   },
   {
    "duration": 1181,
    "start_time": "2022-03-14T13:03:53.341Z"
   },
   {
    "duration": 736,
    "start_time": "2022-03-14T13:03:54.524Z"
   },
   {
    "duration": 3,
    "start_time": "2022-03-14T13:03:55.262Z"
   },
   {
    "duration": 403,
    "start_time": "2022-03-14T13:03:55.267Z"
   },
   {
    "duration": 397,
    "start_time": "2022-03-14T13:03:55.672Z"
   },
   {
    "duration": 193,
    "start_time": "2022-03-14T13:03:56.071Z"
   },
   {
    "duration": 7,
    "start_time": "2022-03-14T13:03:56.265Z"
   },
   {
    "duration": 5,
    "start_time": "2022-03-14T13:03:56.275Z"
   },
   {
    "duration": 31,
    "start_time": "2022-03-14T13:03:56.282Z"
   },
   {
    "duration": 58,
    "start_time": "2022-03-14T13:03:56.315Z"
   },
   {
    "duration": 70,
    "start_time": "2022-03-14T13:03:56.375Z"
   },
   {
    "duration": 29,
    "start_time": "2022-03-14T13:03:56.460Z"
   },
   {
    "duration": 3500,
    "start_time": "2022-03-14T13:03:56.490Z"
   },
   {
    "duration": 409,
    "start_time": "2022-03-14T13:03:59.992Z"
   },
   {
    "duration": 5,
    "start_time": "2022-03-14T13:04:00.403Z"
   },
   {
    "duration": 6494,
    "start_time": "2022-03-14T13:04:00.410Z"
   },
   {
    "duration": 2217,
    "start_time": "2022-03-14T13:04:06.906Z"
   },
   {
    "duration": 6,
    "start_time": "2022-03-14T13:04:09.124Z"
   },
   {
    "duration": 2293,
    "start_time": "2022-03-14T13:04:09.132Z"
   },
   {
    "duration": 3,
    "start_time": "2022-03-14T13:04:11.426Z"
   },
   {
    "duration": 51,
    "start_time": "2022-03-14T13:04:11.430Z"
   },
   {
    "duration": 9,
    "start_time": "2022-03-14T13:04:11.483Z"
   },
   {
    "duration": 14,
    "start_time": "2022-03-14T13:04:11.495Z"
   },
   {
    "duration": 11,
    "start_time": "2022-03-14T13:04:11.511Z"
   },
   {
    "duration": 1105,
    "start_time": "2022-03-14T13:04:47.817Z"
   },
   {
    "duration": 744,
    "start_time": "2022-03-14T13:04:48.924Z"
   },
   {
    "duration": 3,
    "start_time": "2022-03-14T13:04:49.670Z"
   },
   {
    "duration": 409,
    "start_time": "2022-03-14T13:04:49.676Z"
   },
   {
    "duration": 406,
    "start_time": "2022-03-14T13:04:50.086Z"
   },
   {
    "duration": 196,
    "start_time": "2022-03-14T13:04:50.494Z"
   },
   {
    "duration": 8,
    "start_time": "2022-03-14T13:04:50.692Z"
   },
   {
    "duration": 9,
    "start_time": "2022-03-14T13:04:50.702Z"
   },
   {
    "duration": 56,
    "start_time": "2022-03-14T13:04:50.713Z"
   },
   {
    "duration": 30,
    "start_time": "2022-03-14T13:04:50.771Z"
   },
   {
    "duration": 95,
    "start_time": "2022-03-14T13:04:50.803Z"
   },
   {
    "duration": 22,
    "start_time": "2022-03-14T13:04:50.900Z"
   },
   {
    "duration": 3563,
    "start_time": "2022-03-14T13:04:50.924Z"
   },
   {
    "duration": 413,
    "start_time": "2022-03-14T13:04:54.489Z"
   },
   {
    "duration": 5,
    "start_time": "2022-03-14T13:04:54.904Z"
   },
   {
    "duration": 6411,
    "start_time": "2022-03-14T13:04:54.911Z"
   },
   {
    "duration": 2127,
    "start_time": "2022-03-14T13:05:01.324Z"
   },
   {
    "duration": 7,
    "start_time": "2022-03-14T13:05:03.453Z"
   },
   {
    "duration": 2338,
    "start_time": "2022-03-14T13:05:03.462Z"
   },
   {
    "duration": 3,
    "start_time": "2022-03-14T13:05:05.803Z"
   },
   {
    "duration": 53,
    "start_time": "2022-03-14T13:05:05.808Z"
   },
   {
    "duration": 467,
    "start_time": "2022-03-14T13:05:05.863Z"
   },
   {
    "duration": 386,
    "start_time": "2022-03-14T13:05:05.947Z"
   },
   {
    "duration": 384,
    "start_time": "2022-03-14T13:05:05.951Z"
   },
   {
    "duration": 1191,
    "start_time": "2022-03-14T13:06:24.290Z"
   },
   {
    "duration": 748,
    "start_time": "2022-03-14T13:06:25.483Z"
   },
   {
    "duration": 3,
    "start_time": "2022-03-14T13:06:26.233Z"
   },
   {
    "duration": 399,
    "start_time": "2022-03-14T13:06:26.238Z"
   },
   {
    "duration": 400,
    "start_time": "2022-03-14T13:06:26.639Z"
   },
   {
    "duration": 193,
    "start_time": "2022-03-14T13:06:27.041Z"
   },
   {
    "duration": 7,
    "start_time": "2022-03-14T13:06:27.236Z"
   },
   {
    "duration": 6,
    "start_time": "2022-03-14T13:06:27.260Z"
   },
   {
    "duration": 32,
    "start_time": "2022-03-14T13:06:27.268Z"
   },
   {
    "duration": 29,
    "start_time": "2022-03-14T13:06:27.302Z"
   },
   {
    "duration": 77,
    "start_time": "2022-03-14T13:06:27.358Z"
   },
   {
    "duration": 35,
    "start_time": "2022-03-14T13:06:27.437Z"
   },
   {
    "duration": 3684,
    "start_time": "2022-03-14T13:06:27.475Z"
   },
   {
    "duration": 428,
    "start_time": "2022-03-14T13:06:31.161Z"
   },
   {
    "duration": 4,
    "start_time": "2022-03-14T13:06:31.591Z"
   },
   {
    "duration": 6540,
    "start_time": "2022-03-14T13:06:31.597Z"
   },
   {
    "duration": 2206,
    "start_time": "2022-03-14T13:06:38.138Z"
   },
   {
    "duration": 6,
    "start_time": "2022-03-14T13:06:40.346Z"
   },
   {
    "duration": 2383,
    "start_time": "2022-03-14T13:06:40.359Z"
   },
   {
    "duration": 3,
    "start_time": "2022-03-14T13:06:42.744Z"
   },
   {
    "duration": 37,
    "start_time": "2022-03-14T13:06:42.759Z"
   },
   {
    "duration": 2,
    "start_time": "2022-03-14T13:06:42.798Z"
   },
   {
    "duration": 4,
    "start_time": "2022-03-14T13:06:42.803Z"
   },
   {
    "duration": 32,
    "start_time": "2022-03-14T13:06:42.809Z"
   },
   {
    "duration": 34,
    "start_time": "2022-03-14T13:07:11.368Z"
   },
   {
    "duration": 34,
    "start_time": "2022-03-14T13:07:18.487Z"
   },
   {
    "duration": 34,
    "start_time": "2022-03-14T13:08:28.954Z"
   },
   {
    "duration": 34,
    "start_time": "2022-03-14T13:08:46.911Z"
   },
   {
    "duration": 29,
    "start_time": "2022-03-14T13:09:03.434Z"
   },
   {
    "duration": 1172,
    "start_time": "2022-03-14T13:10:01.363Z"
   },
   {
    "duration": 783,
    "start_time": "2022-03-14T13:10:02.537Z"
   },
   {
    "duration": 4,
    "start_time": "2022-03-14T13:10:03.322Z"
   },
   {
    "duration": 439,
    "start_time": "2022-03-14T13:10:03.328Z"
   },
   {
    "duration": 402,
    "start_time": "2022-03-14T13:10:03.769Z"
   },
   {
    "duration": 202,
    "start_time": "2022-03-14T13:10:04.172Z"
   },
   {
    "duration": 7,
    "start_time": "2022-03-14T13:10:04.375Z"
   },
   {
    "duration": 38,
    "start_time": "2022-03-14T13:10:04.384Z"
   },
   {
    "duration": 44,
    "start_time": "2022-03-14T13:10:04.424Z"
   },
   {
    "duration": 35,
    "start_time": "2022-03-14T13:10:04.469Z"
   },
   {
    "duration": 101,
    "start_time": "2022-03-14T13:10:04.507Z"
   },
   {
    "duration": 22,
    "start_time": "2022-03-14T13:10:04.609Z"
   },
   {
    "duration": 3584,
    "start_time": "2022-03-14T13:10:04.632Z"
   },
   {
    "duration": 435,
    "start_time": "2022-03-14T13:10:08.218Z"
   },
   {
    "duration": 5,
    "start_time": "2022-03-14T13:10:08.659Z"
   },
   {
    "duration": 6522,
    "start_time": "2022-03-14T13:10:08.666Z"
   },
   {
    "duration": 2256,
    "start_time": "2022-03-14T13:10:15.190Z"
   },
   {
    "duration": 15,
    "start_time": "2022-03-14T13:10:17.448Z"
   },
   {
    "duration": 2416,
    "start_time": "2022-03-14T13:10:17.465Z"
   },
   {
    "duration": 3,
    "start_time": "2022-03-14T13:10:19.883Z"
   },
   {
    "duration": 53,
    "start_time": "2022-03-14T13:10:19.887Z"
   },
   {
    "duration": 10,
    "start_time": "2022-03-14T13:10:19.942Z"
   },
   {
    "duration": 7,
    "start_time": "2022-03-14T13:10:19.954Z"
   },
   {
    "duration": 14,
    "start_time": "2022-03-14T13:10:19.963Z"
   },
   {
    "duration": 1117,
    "start_time": "2022-03-14T13:11:24.525Z"
   },
   {
    "duration": 756,
    "start_time": "2022-03-14T13:11:25.644Z"
   },
   {
    "duration": 3,
    "start_time": "2022-03-14T13:11:26.402Z"
   },
   {
    "duration": 438,
    "start_time": "2022-03-14T13:11:26.407Z"
   },
   {
    "duration": 414,
    "start_time": "2022-03-14T13:11:26.847Z"
   },
   {
    "duration": 200,
    "start_time": "2022-03-14T13:11:27.263Z"
   },
   {
    "duration": 8,
    "start_time": "2022-03-14T13:11:27.464Z"
   },
   {
    "duration": 6,
    "start_time": "2022-03-14T13:11:27.474Z"
   },
   {
    "duration": 33,
    "start_time": "2022-03-14T13:11:27.483Z"
   },
   {
    "duration": 66,
    "start_time": "2022-03-14T13:11:27.518Z"
   },
   {
    "duration": 91,
    "start_time": "2022-03-14T13:11:27.586Z"
   },
   {
    "duration": 24,
    "start_time": "2022-03-14T13:11:27.678Z"
   },
   {
    "duration": 3630,
    "start_time": "2022-03-14T13:11:27.704Z"
   },
   {
    "duration": 419,
    "start_time": "2022-03-14T13:11:31.336Z"
   },
   {
    "duration": 5,
    "start_time": "2022-03-14T13:11:31.757Z"
   },
   {
    "duration": 6600,
    "start_time": "2022-03-14T13:11:31.764Z"
   },
   {
    "duration": 2269,
    "start_time": "2022-03-14T13:11:38.365Z"
   },
   {
    "duration": 7,
    "start_time": "2022-03-14T13:11:40.636Z"
   },
   {
    "duration": 2371,
    "start_time": "2022-03-14T13:11:40.644Z"
   },
   {
    "duration": 3,
    "start_time": "2022-03-14T13:11:43.016Z"
   },
   {
    "duration": 47,
    "start_time": "2022-03-14T13:11:43.021Z"
   },
   {
    "duration": 9,
    "start_time": "2022-03-14T13:11:43.070Z"
   },
   {
    "duration": 4,
    "start_time": "2022-03-14T13:11:43.082Z"
   },
   {
    "duration": 30,
    "start_time": "2022-03-14T13:11:43.088Z"
   },
   {
    "duration": 1145,
    "start_time": "2022-03-14T13:12:46.179Z"
   },
   {
    "duration": 920,
    "start_time": "2022-03-14T13:12:47.327Z"
   },
   {
    "duration": 4,
    "start_time": "2022-03-14T13:12:48.249Z"
   },
   {
    "duration": 409,
    "start_time": "2022-03-14T13:12:48.259Z"
   },
   {
    "duration": 404,
    "start_time": "2022-03-14T13:12:48.669Z"
   },
   {
    "duration": 191,
    "start_time": "2022-03-14T13:12:49.075Z"
   },
   {
    "duration": 7,
    "start_time": "2022-03-14T13:12:49.268Z"
   },
   {
    "duration": 14,
    "start_time": "2022-03-14T13:12:49.277Z"
   },
   {
    "duration": 37,
    "start_time": "2022-03-14T13:12:49.292Z"
   },
   {
    "duration": 49,
    "start_time": "2022-03-14T13:12:49.331Z"
   },
   {
    "duration": 91,
    "start_time": "2022-03-14T13:12:49.382Z"
   },
   {
    "duration": 22,
    "start_time": "2022-03-14T13:12:49.475Z"
   },
   {
    "duration": 3613,
    "start_time": "2022-03-14T13:12:49.499Z"
   },
   {
    "duration": 414,
    "start_time": "2022-03-14T13:12:53.114Z"
   },
   {
    "duration": 5,
    "start_time": "2022-03-14T13:12:53.529Z"
   },
   {
    "duration": 6458,
    "start_time": "2022-03-14T13:12:53.536Z"
   },
   {
    "duration": 2234,
    "start_time": "2022-03-14T13:12:59.996Z"
   },
   {
    "duration": 8,
    "start_time": "2022-03-14T13:13:02.232Z"
   },
   {
    "duration": 2296,
    "start_time": "2022-03-14T13:13:02.242Z"
   },
   {
    "duration": 3,
    "start_time": "2022-03-14T13:13:04.541Z"
   },
   {
    "duration": 49,
    "start_time": "2022-03-14T13:13:04.547Z"
   },
   {
    "duration": 12,
    "start_time": "2022-03-14T13:13:04.598Z"
   },
   {
    "duration": 4,
    "start_time": "2022-03-14T13:13:04.614Z"
   },
   {
    "duration": 58,
    "start_time": "2022-03-14T13:13:04.620Z"
   },
   {
    "duration": 1160,
    "start_time": "2022-03-14T13:13:28.869Z"
   },
   {
    "duration": 757,
    "start_time": "2022-03-14T13:13:30.031Z"
   },
   {
    "duration": 3,
    "start_time": "2022-03-14T13:13:30.790Z"
   },
   {
    "duration": 418,
    "start_time": "2022-03-14T13:13:30.795Z"
   },
   {
    "duration": 405,
    "start_time": "2022-03-14T13:13:31.215Z"
   },
   {
    "duration": 190,
    "start_time": "2022-03-14T13:13:31.622Z"
   },
   {
    "duration": 7,
    "start_time": "2022-03-14T13:13:31.814Z"
   },
   {
    "duration": 6,
    "start_time": "2022-03-14T13:13:31.822Z"
   },
   {
    "duration": 56,
    "start_time": "2022-03-14T13:13:31.830Z"
   },
   {
    "duration": 28,
    "start_time": "2022-03-14T13:13:31.888Z"
   },
   {
    "duration": 93,
    "start_time": "2022-03-14T13:13:31.918Z"
   },
   {
    "duration": 22,
    "start_time": "2022-03-14T13:13:32.013Z"
   },
   {
    "duration": 3570,
    "start_time": "2022-03-14T13:13:32.037Z"
   },
   {
    "duration": 419,
    "start_time": "2022-03-14T13:13:35.609Z"
   },
   {
    "duration": 5,
    "start_time": "2022-03-14T13:13:36.029Z"
   },
   {
    "duration": 6430,
    "start_time": "2022-03-14T13:13:36.035Z"
   },
   {
    "duration": 2245,
    "start_time": "2022-03-14T13:13:42.467Z"
   },
   {
    "duration": 6,
    "start_time": "2022-03-14T13:13:44.714Z"
   },
   {
    "duration": 2295,
    "start_time": "2022-03-14T13:13:44.722Z"
   },
   {
    "duration": 3,
    "start_time": "2022-03-14T13:13:47.019Z"
   },
   {
    "duration": 52,
    "start_time": "2022-03-14T13:13:47.023Z"
   },
   {
    "duration": 12,
    "start_time": "2022-03-14T13:13:47.077Z"
   },
   {
    "duration": 8,
    "start_time": "2022-03-14T13:13:47.091Z"
   },
   {
    "duration": 30,
    "start_time": "2022-03-14T13:13:47.100Z"
   },
   {
    "duration": 34,
    "start_time": "2022-03-14T13:14:04.719Z"
   },
   {
    "duration": 1152,
    "start_time": "2022-03-14T13:14:17.203Z"
   },
   {
    "duration": 743,
    "start_time": "2022-03-14T13:14:18.357Z"
   },
   {
    "duration": 3,
    "start_time": "2022-03-14T13:14:19.102Z"
   },
   {
    "duration": 395,
    "start_time": "2022-03-14T13:14:19.107Z"
   },
   {
    "duration": 419,
    "start_time": "2022-03-14T13:14:19.504Z"
   },
   {
    "duration": 197,
    "start_time": "2022-03-14T13:14:19.925Z"
   },
   {
    "duration": 9,
    "start_time": "2022-03-14T13:14:20.124Z"
   },
   {
    "duration": 27,
    "start_time": "2022-03-14T13:14:20.136Z"
   },
   {
    "duration": 38,
    "start_time": "2022-03-14T13:14:20.165Z"
   },
   {
    "duration": 30,
    "start_time": "2022-03-14T13:14:20.204Z"
   },
   {
    "duration": 90,
    "start_time": "2022-03-14T13:14:20.236Z"
   },
   {
    "duration": 44,
    "start_time": "2022-03-14T13:14:20.328Z"
   },
   {
    "duration": 3596,
    "start_time": "2022-03-14T13:14:20.374Z"
   },
   {
    "duration": 411,
    "start_time": "2022-03-14T13:14:23.972Z"
   },
   {
    "duration": 4,
    "start_time": "2022-03-14T13:14:24.385Z"
   },
   {
    "duration": 6516,
    "start_time": "2022-03-14T13:14:24.391Z"
   },
   {
    "duration": 2209,
    "start_time": "2022-03-14T13:14:30.909Z"
   },
   {
    "duration": 8,
    "start_time": "2022-03-14T13:14:33.119Z"
   },
   {
    "duration": 2453,
    "start_time": "2022-03-14T13:14:33.129Z"
   },
   {
    "duration": 2,
    "start_time": "2022-03-14T13:14:35.584Z"
   },
   {
    "duration": 39,
    "start_time": "2022-03-14T13:14:35.588Z"
   },
   {
    "duration": 51,
    "start_time": "2022-03-14T13:14:35.629Z"
   },
   {
    "duration": 3,
    "start_time": "2022-03-14T13:14:35.683Z"
   },
   {
    "duration": 33,
    "start_time": "2022-03-14T13:14:35.688Z"
   },
   {
    "duration": 437,
    "start_time": "2022-03-14T13:15:00.939Z"
   },
   {
    "duration": 37,
    "start_time": "2022-03-14T13:15:21.262Z"
   },
   {
    "duration": 38,
    "start_time": "2022-03-14T13:15:33.287Z"
   },
   {
    "duration": 32,
    "start_time": "2022-03-14T13:16:09.102Z"
   },
   {
    "duration": 1160,
    "start_time": "2022-03-14T13:16:17.967Z"
   },
   {
    "duration": 752,
    "start_time": "2022-03-14T13:16:19.129Z"
   },
   {
    "duration": 3,
    "start_time": "2022-03-14T13:16:19.884Z"
   },
   {
    "duration": 417,
    "start_time": "2022-03-14T13:16:19.888Z"
   },
   {
    "duration": 405,
    "start_time": "2022-03-14T13:16:20.307Z"
   },
   {
    "duration": 193,
    "start_time": "2022-03-14T13:16:20.714Z"
   },
   {
    "duration": 7,
    "start_time": "2022-03-14T13:16:20.909Z"
   },
   {
    "duration": 10,
    "start_time": "2022-03-14T13:16:20.918Z"
   },
   {
    "duration": 55,
    "start_time": "2022-03-14T13:16:20.930Z"
   },
   {
    "duration": 30,
    "start_time": "2022-03-14T13:16:20.986Z"
   },
   {
    "duration": 97,
    "start_time": "2022-03-14T13:16:21.018Z"
   },
   {
    "duration": 24,
    "start_time": "2022-03-14T13:16:21.116Z"
   },
   {
    "duration": 3654,
    "start_time": "2022-03-14T13:16:21.142Z"
   },
   {
    "duration": 410,
    "start_time": "2022-03-14T13:16:24.798Z"
   },
   {
    "duration": 9,
    "start_time": "2022-03-14T13:16:25.210Z"
   },
   {
    "duration": 6451,
    "start_time": "2022-03-14T13:16:25.221Z"
   },
   {
    "duration": 2248,
    "start_time": "2022-03-14T13:16:31.674Z"
   },
   {
    "duration": 7,
    "start_time": "2022-03-14T13:16:33.924Z"
   },
   {
    "duration": 2300,
    "start_time": "2022-03-14T13:16:33.932Z"
   },
   {
    "duration": 2,
    "start_time": "2022-03-14T13:16:36.234Z"
   },
   {
    "duration": 62,
    "start_time": "2022-03-14T13:16:36.238Z"
   },
   {
    "duration": 34,
    "start_time": "2022-03-14T13:16:36.301Z"
   },
   {
    "duration": 3,
    "start_time": "2022-03-14T13:16:36.338Z"
   },
   {
    "duration": 43,
    "start_time": "2022-03-14T13:16:36.342Z"
   },
   {
    "duration": 8,
    "start_time": "2022-03-14T13:18:12.043Z"
   },
   {
    "duration": 3,
    "start_time": "2022-03-14T13:20:23.669Z"
   },
   {
    "duration": 1531,
    "start_time": "2022-03-15T09:34:14.042Z"
   },
   {
    "duration": 814,
    "start_time": "2022-03-15T09:34:15.576Z"
   },
   {
    "duration": 5,
    "start_time": "2022-03-15T09:34:16.393Z"
   },
   {
    "duration": 613,
    "start_time": "2022-03-15T09:34:16.401Z"
   },
   {
    "duration": 595,
    "start_time": "2022-03-15T09:34:17.017Z"
   },
   {
    "duration": 302,
    "start_time": "2022-03-15T09:34:17.615Z"
   },
   {
    "duration": 12,
    "start_time": "2022-03-15T09:34:17.919Z"
   },
   {
    "duration": 24,
    "start_time": "2022-03-15T09:34:17.933Z"
   },
   {
    "duration": 43,
    "start_time": "2022-03-15T09:34:17.961Z"
   },
   {
    "duration": 71,
    "start_time": "2022-03-15T09:34:18.007Z"
   },
   {
    "duration": 109,
    "start_time": "2022-03-15T09:34:18.085Z"
   },
   {
    "duration": 30,
    "start_time": "2022-03-15T09:34:18.196Z"
   },
   {
    "duration": 4981,
    "start_time": "2022-03-15T09:34:18.229Z"
   },
   {
    "duration": 698,
    "start_time": "2022-03-15T09:34:23.212Z"
   },
   {
    "duration": 7,
    "start_time": "2022-03-15T09:34:23.912Z"
   },
   {
    "duration": 11131,
    "start_time": "2022-03-15T09:34:23.921Z"
   },
   {
    "duration": 3178,
    "start_time": "2022-03-15T09:34:35.055Z"
   },
   {
    "duration": 18,
    "start_time": "2022-03-15T09:34:38.235Z"
   },
   {
    "duration": 3312,
    "start_time": "2022-03-15T09:34:38.255Z"
   },
   {
    "duration": 4,
    "start_time": "2022-03-15T09:34:41.569Z"
   },
   {
    "duration": 76,
    "start_time": "2022-03-15T09:34:41.576Z"
   },
   {
    "duration": 48,
    "start_time": "2022-03-15T09:34:41.655Z"
   },
   {
    "duration": 5,
    "start_time": "2022-03-15T09:34:41.706Z"
   },
   {
    "duration": 5,
    "start_time": "2022-03-15T09:39:01.504Z"
   },
   {
    "duration": 48,
    "start_time": "2022-03-15T09:42:48.534Z"
   },
   {
    "duration": 8,
    "start_time": "2022-03-15T09:55:27.137Z"
   },
   {
    "duration": 4,
    "start_time": "2022-03-15T10:13:23.550Z"
   },
   {
    "duration": 427,
    "start_time": "2022-03-15T10:15:30.086Z"
   },
   {
    "duration": 5,
    "start_time": "2022-03-15T10:15:58.335Z"
   },
   {
    "duration": 1507,
    "start_time": "2022-03-15T10:16:05.884Z"
   },
   {
    "duration": 1050,
    "start_time": "2022-03-15T10:16:07.394Z"
   },
   {
    "duration": 4,
    "start_time": "2022-03-15T10:16:08.447Z"
   },
   {
    "duration": 608,
    "start_time": "2022-03-15T10:16:08.455Z"
   },
   {
    "duration": 638,
    "start_time": "2022-03-15T10:16:09.065Z"
   },
   {
    "duration": 316,
    "start_time": "2022-03-15T10:16:09.706Z"
   },
   {
    "duration": 12,
    "start_time": "2022-03-15T10:16:10.025Z"
   },
   {
    "duration": 9,
    "start_time": "2022-03-15T10:16:10.052Z"
   },
   {
    "duration": 49,
    "start_time": "2022-03-15T10:16:10.064Z"
   },
   {
    "duration": 65,
    "start_time": "2022-03-15T10:16:10.115Z"
   },
   {
    "duration": 106,
    "start_time": "2022-03-15T10:16:10.182Z"
   },
   {
    "duration": 29,
    "start_time": "2022-03-15T10:16:10.291Z"
   },
   {
    "duration": 5430,
    "start_time": "2022-03-15T10:16:10.323Z"
   },
   {
    "duration": 601,
    "start_time": "2022-03-15T10:16:15.755Z"
   },
   {
    "duration": 7,
    "start_time": "2022-03-15T10:16:16.358Z"
   },
   {
    "duration": 11033,
    "start_time": "2022-03-15T10:16:16.368Z"
   },
   {
    "duration": 3142,
    "start_time": "2022-03-15T10:16:27.403Z"
   },
   {
    "duration": 10,
    "start_time": "2022-03-15T10:16:30.547Z"
   },
   {
    "duration": 3321,
    "start_time": "2022-03-15T10:16:30.559Z"
   },
   {
    "duration": 4,
    "start_time": "2022-03-15T10:16:33.883Z"
   },
   {
    "duration": 75,
    "start_time": "2022-03-15T10:16:33.889Z"
   },
   {
    "duration": 49,
    "start_time": "2022-03-15T10:16:33.966Z"
   },
   {
    "duration": 31,
    "start_time": "2022-03-15T10:16:34.021Z"
   },
   {
    "duration": 9,
    "start_time": "2022-03-15T10:16:34.055Z"
   },
   {
    "duration": 7,
    "start_time": "2022-03-15T10:16:34.067Z"
   },
   {
    "duration": 1885,
    "start_time": "2022-03-15T10:16:34.076Z"
   },
   {
    "duration": 5,
    "start_time": "2022-03-15T10:16:57.416Z"
   },
   {
    "duration": 54210,
    "start_time": "2022-03-15T10:23:08.191Z"
   },
   {
    "duration": 54661,
    "start_time": "2022-03-15T10:25:53.193Z"
   },
   {
    "duration": 55203,
    "start_time": "2022-03-15T10:27:42.212Z"
   },
   {
    "duration": 54614,
    "start_time": "2022-03-15T10:29:04.601Z"
   },
   {
    "duration": 55114,
    "start_time": "2022-03-15T10:30:09.441Z"
   },
   {
    "duration": 55904,
    "start_time": "2022-03-15T10:33:38.203Z"
   },
   {
    "duration": 1381,
    "start_time": "2022-03-15T10:42:48.091Z"
   },
   {
    "duration": 823,
    "start_time": "2022-03-15T10:42:49.474Z"
   },
   {
    "duration": 4,
    "start_time": "2022-03-15T10:42:50.300Z"
   },
   {
    "duration": 582,
    "start_time": "2022-03-15T10:42:50.307Z"
   },
   {
    "duration": 578,
    "start_time": "2022-03-15T10:42:50.892Z"
   },
   {
    "duration": 299,
    "start_time": "2022-03-15T10:42:51.473Z"
   },
   {
    "duration": 12,
    "start_time": "2022-03-15T10:42:51.774Z"
   },
   {
    "duration": 8,
    "start_time": "2022-03-15T10:42:51.789Z"
   },
   {
    "duration": 75,
    "start_time": "2022-03-15T10:42:51.801Z"
   },
   {
    "duration": 38,
    "start_time": "2022-03-15T10:42:51.878Z"
   },
   {
    "duration": 110,
    "start_time": "2022-03-15T10:42:51.918Z"
   },
   {
    "duration": 46,
    "start_time": "2022-03-15T10:42:52.031Z"
   },
   {
    "duration": 4990,
    "start_time": "2022-03-15T10:42:52.080Z"
   },
   {
    "duration": 580,
    "start_time": "2022-03-15T10:42:57.073Z"
   },
   {
    "duration": 7,
    "start_time": "2022-03-15T10:42:57.657Z"
   },
   {
    "duration": 11132,
    "start_time": "2022-03-15T10:42:57.666Z"
   },
   {
    "duration": 3110,
    "start_time": "2022-03-15T10:43:08.801Z"
   },
   {
    "duration": 8,
    "start_time": "2022-03-15T10:43:11.914Z"
   },
   {
    "duration": 3283,
    "start_time": "2022-03-15T10:43:11.924Z"
   },
   {
    "duration": 4,
    "start_time": "2022-03-15T10:43:15.210Z"
   },
   {
    "duration": 74,
    "start_time": "2022-03-15T10:43:15.217Z"
   },
   {
    "duration": 65,
    "start_time": "2022-03-15T10:43:15.294Z"
   },
   {
    "duration": 5,
    "start_time": "2022-03-15T10:43:15.364Z"
   },
   {
    "duration": 46,
    "start_time": "2022-03-15T10:43:15.372Z"
   },
   {
    "duration": 5,
    "start_time": "2022-03-15T10:43:15.420Z"
   },
   {
    "duration": 56227,
    "start_time": "2022-03-15T10:43:15.427Z"
   },
   {
    "duration": 57250,
    "start_time": "2022-03-15T10:50:08.102Z"
   },
   {
    "duration": 5,
    "start_time": "2022-03-15T10:52:58.611Z"
   },
   {
    "duration": 56308,
    "start_time": "2022-03-15T10:54:05.331Z"
   },
   {
    "duration": 1440,
    "start_time": "2022-03-15T11:17:05.287Z"
   },
   {
    "duration": 947,
    "start_time": "2022-03-15T11:17:06.730Z"
   },
   {
    "duration": 4,
    "start_time": "2022-03-15T11:17:07.680Z"
   },
   {
    "duration": 606,
    "start_time": "2022-03-15T11:17:07.687Z"
   },
   {
    "duration": 585,
    "start_time": "2022-03-15T11:17:08.295Z"
   },
   {
    "duration": 302,
    "start_time": "2022-03-15T11:17:08.882Z"
   },
   {
    "duration": 11,
    "start_time": "2022-03-15T11:17:09.187Z"
   },
   {
    "duration": 8,
    "start_time": "2022-03-15T11:17:09.202Z"
   },
   {
    "duration": 73,
    "start_time": "2022-03-15T11:17:09.213Z"
   },
   {
    "duration": 40,
    "start_time": "2022-03-15T11:17:09.289Z"
   },
   {
    "duration": 104,
    "start_time": "2022-03-15T11:17:09.352Z"
   },
   {
    "duration": 29,
    "start_time": "2022-03-15T11:17:09.459Z"
   },
   {
    "duration": 7589,
    "start_time": "2022-03-15T11:17:09.490Z"
   },
   {
    "duration": 607,
    "start_time": "2022-03-15T11:17:17.082Z"
   },
   {
    "duration": 6,
    "start_time": "2022-03-15T11:17:17.692Z"
   },
   {
    "duration": 11909,
    "start_time": "2022-03-15T11:17:17.702Z"
   },
   {
    "duration": 3385,
    "start_time": "2022-03-15T11:17:29.614Z"
   },
   {
    "duration": 12,
    "start_time": "2022-03-15T11:17:33.002Z"
   },
   {
    "duration": 3652,
    "start_time": "2022-03-15T11:17:33.016Z"
   },
   {
    "duration": 6,
    "start_time": "2022-03-15T11:17:36.671Z"
   },
   {
    "duration": 81,
    "start_time": "2022-03-15T11:17:36.679Z"
   },
   {
    "duration": 52,
    "start_time": "2022-03-15T11:17:36.762Z"
   },
   {
    "duration": 5,
    "start_time": "2022-03-15T11:17:36.819Z"
   },
   {
    "duration": 62,
    "start_time": "2022-03-15T11:17:36.827Z"
   },
   {
    "duration": 5,
    "start_time": "2022-03-15T11:17:36.891Z"
   },
   {
    "duration": 63272,
    "start_time": "2022-03-15T11:17:36.899Z"
   },
   {
    "duration": 5,
    "start_time": "2022-03-15T11:19:01.696Z"
   },
   {
    "duration": 2444,
    "start_time": "2022-03-15T11:23:03.276Z"
   },
   {
    "duration": 2118,
    "start_time": "2022-03-15T11:24:16.157Z"
   },
   {
    "duration": 7,
    "start_time": "2022-03-15T11:24:37.454Z"
   },
   {
    "duration": 56667,
    "start_time": "2022-03-15T11:24:39.646Z"
   },
   {
    "duration": 5,
    "start_time": "2022-03-15T11:26:20.203Z"
   },
   {
    "duration": 57070,
    "start_time": "2022-03-15T11:26:22.488Z"
   },
   {
    "duration": 4,
    "start_time": "2022-03-15T11:27:42.733Z"
   },
   {
    "duration": 5,
    "start_time": "2022-03-15T11:29:25.620Z"
   },
   {
    "duration": 924,
    "start_time": "2022-03-15T11:29:28.560Z"
   },
   {
    "duration": 6,
    "start_time": "2022-03-15T11:29:40.301Z"
   },
   {
    "duration": 57797,
    "start_time": "2022-03-15T11:29:43.093Z"
   },
   {
    "duration": 6,
    "start_time": "2022-03-15T11:33:02.408Z"
   },
   {
    "duration": 566,
    "start_time": "2022-03-15T11:33:05.268Z"
   },
   {
    "duration": 4,
    "start_time": "2022-03-15T11:33:25.611Z"
   },
   {
    "duration": 490,
    "start_time": "2022-03-15T11:33:27.805Z"
   },
   {
    "duration": 4,
    "start_time": "2022-03-15T11:33:55.490Z"
   },
   {
    "duration": 57079,
    "start_time": "2022-03-15T11:33:57.357Z"
   },
   {
    "duration": 56146,
    "start_time": "2022-03-15T11:35:01.848Z"
   },
   {
    "duration": 1508,
    "start_time": "2022-03-15T12:00:38.490Z"
   },
   {
    "duration": 855,
    "start_time": "2022-03-15T12:00:40.001Z"
   },
   {
    "duration": 6,
    "start_time": "2022-03-15T12:00:40.864Z"
   },
   {
    "duration": 616,
    "start_time": "2022-03-15T12:00:40.872Z"
   },
   {
    "duration": 611,
    "start_time": "2022-03-15T12:00:41.491Z"
   },
   {
    "duration": 321,
    "start_time": "2022-03-15T12:00:42.105Z"
   },
   {
    "duration": 25,
    "start_time": "2022-03-15T12:00:42.429Z"
   },
   {
    "duration": 8,
    "start_time": "2022-03-15T12:00:42.458Z"
   },
   {
    "duration": 47,
    "start_time": "2022-03-15T12:00:42.469Z"
   },
   {
    "duration": 69,
    "start_time": "2022-03-15T12:00:42.519Z"
   },
   {
    "duration": 142,
    "start_time": "2022-03-15T12:00:42.591Z"
   },
   {
    "duration": 47,
    "start_time": "2022-03-15T12:00:42.736Z"
   },
   {
    "duration": 5213,
    "start_time": "2022-03-15T12:00:42.785Z"
   },
   {
    "duration": 603,
    "start_time": "2022-03-15T12:00:48.001Z"
   },
   {
    "duration": 6,
    "start_time": "2022-03-15T12:00:48.607Z"
   },
   {
    "duration": 18557,
    "start_time": "2022-03-15T12:00:48.616Z"
   },
   {
    "duration": 4724,
    "start_time": "2022-03-15T12:01:07.176Z"
   },
   {
    "duration": 11,
    "start_time": "2022-03-15T12:01:11.903Z"
   },
   {
    "duration": 4414,
    "start_time": "2022-03-15T12:01:11.917Z"
   },
   {
    "duration": 17,
    "start_time": "2022-03-15T12:01:16.334Z"
   },
   {
    "duration": 64,
    "start_time": "2022-03-15T12:01:16.353Z"
   },
   {
    "duration": 64,
    "start_time": "2022-03-15T12:01:16.420Z"
   },
   {
    "duration": 5,
    "start_time": "2022-03-15T12:01:16.487Z"
   },
   {
    "duration": 65,
    "start_time": "2022-03-15T12:01:16.495Z"
   },
   {
    "duration": 6,
    "start_time": "2022-03-15T12:01:16.562Z"
   },
   {
    "duration": 58191,
    "start_time": "2022-03-15T12:01:16.573Z"
   },
   {
    "duration": 260238,
    "start_time": "2022-03-15T12:02:14.767Z"
   },
   {
    "duration": 1556,
    "start_time": "2022-03-15T12:07:38.547Z"
   },
   {
    "duration": 889,
    "start_time": "2022-03-15T12:07:40.105Z"
   },
   {
    "duration": 4,
    "start_time": "2022-03-15T12:07:40.997Z"
   },
   {
    "duration": 635,
    "start_time": "2022-03-15T12:07:41.005Z"
   },
   {
    "duration": 629,
    "start_time": "2022-03-15T12:07:41.643Z"
   },
   {
    "duration": 310,
    "start_time": "2022-03-15T12:07:42.275Z"
   },
   {
    "duration": 14,
    "start_time": "2022-03-15T12:07:42.588Z"
   },
   {
    "duration": 8,
    "start_time": "2022-03-15T12:07:42.607Z"
   },
   {
    "duration": 45,
    "start_time": "2022-03-15T12:07:42.653Z"
   },
   {
    "duration": 66,
    "start_time": "2022-03-15T12:07:42.701Z"
   },
   {
    "duration": 113,
    "start_time": "2022-03-15T12:07:42.769Z"
   },
   {
    "duration": 30,
    "start_time": "2022-03-15T12:07:42.884Z"
   },
   {
    "duration": 5225,
    "start_time": "2022-03-15T12:07:42.917Z"
   },
   {
    "duration": 608,
    "start_time": "2022-03-15T12:07:48.152Z"
   },
   {
    "duration": 7,
    "start_time": "2022-03-15T12:07:48.763Z"
   },
   {
    "duration": 12059,
    "start_time": "2022-03-15T12:07:48.772Z"
   },
   {
    "duration": 3444,
    "start_time": "2022-03-15T12:08:00.833Z"
   },
   {
    "duration": 9,
    "start_time": "2022-03-15T12:08:04.279Z"
   },
   {
    "duration": 3783,
    "start_time": "2022-03-15T12:08:04.291Z"
   },
   {
    "duration": 4,
    "start_time": "2022-03-15T12:08:08.076Z"
   },
   {
    "duration": 76,
    "start_time": "2022-03-15T12:08:08.082Z"
   },
   {
    "duration": 63,
    "start_time": "2022-03-15T12:08:08.160Z"
   },
   {
    "duration": 23,
    "start_time": "2022-03-15T12:08:08.229Z"
   },
   {
    "duration": 48,
    "start_time": "2022-03-15T12:08:08.255Z"
   },
   {
    "duration": 6,
    "start_time": "2022-03-15T12:08:08.306Z"
   },
   {
    "duration": 75052,
    "start_time": "2022-03-15T12:08:08.315Z"
   },
   {
    "duration": 255921,
    "start_time": "2022-03-15T12:09:23.370Z"
   },
   {
    "duration": 3339,
    "start_time": "2022-03-15T12:20:01.417Z"
   },
   {
    "duration": 1471,
    "start_time": "2022-03-15T12:20:25.323Z"
   },
   {
    "duration": 854,
    "start_time": "2022-03-15T12:20:26.797Z"
   },
   {
    "duration": 4,
    "start_time": "2022-03-15T12:20:27.654Z"
   },
   {
    "duration": 624,
    "start_time": "2022-03-15T12:20:27.661Z"
   },
   {
    "duration": 580,
    "start_time": "2022-03-15T12:20:28.287Z"
   },
   {
    "duration": 293,
    "start_time": "2022-03-15T12:20:28.869Z"
   },
   {
    "duration": 12,
    "start_time": "2022-03-15T12:20:29.164Z"
   },
   {
    "duration": 17,
    "start_time": "2022-03-15T12:20:29.179Z"
   },
   {
    "duration": 69,
    "start_time": "2022-03-15T12:20:29.199Z"
   },
   {
    "duration": 45,
    "start_time": "2022-03-15T12:20:29.272Z"
   },
   {
    "duration": 117,
    "start_time": "2022-03-15T12:20:29.320Z"
   },
   {
    "duration": 37,
    "start_time": "2022-03-15T12:20:29.439Z"
   },
   {
    "duration": 5342,
    "start_time": "2022-03-15T12:20:29.479Z"
   },
   {
    "duration": 613,
    "start_time": "2022-03-15T12:20:34.824Z"
   },
   {
    "duration": 11,
    "start_time": "2022-03-15T12:20:35.440Z"
   },
   {
    "duration": 11293,
    "start_time": "2022-03-15T12:20:35.453Z"
   },
   {
    "duration": 3257,
    "start_time": "2022-03-15T12:20:46.752Z"
   },
   {
    "duration": 8,
    "start_time": "2022-03-15T12:20:50.011Z"
   },
   {
    "duration": 3401,
    "start_time": "2022-03-15T12:20:50.021Z"
   },
   {
    "duration": 4,
    "start_time": "2022-03-15T12:20:53.424Z"
   },
   {
    "duration": 70,
    "start_time": "2022-03-15T12:20:53.431Z"
   },
   {
    "duration": 65,
    "start_time": "2022-03-15T12:20:53.504Z"
   },
   {
    "duration": 5,
    "start_time": "2022-03-15T12:20:53.573Z"
   },
   {
    "duration": 40,
    "start_time": "2022-03-15T12:20:53.581Z"
   },
   {
    "duration": 4,
    "start_time": "2022-03-15T12:20:53.624Z"
   },
   {
    "duration": 55809,
    "start_time": "2022-03-15T12:20:53.630Z"
   },
   {
    "duration": 1340,
    "start_time": "2022-03-15T12:21:49.441Z"
   },
   {
    "duration": -448,
    "start_time": "2022-03-15T12:21:51.232Z"
   },
   {
    "duration": 1480,
    "start_time": "2022-03-15T12:22:12.715Z"
   },
   {
    "duration": 884,
    "start_time": "2022-03-15T12:22:14.197Z"
   },
   {
    "duration": 4,
    "start_time": "2022-03-15T12:22:15.084Z"
   },
   {
    "duration": 595,
    "start_time": "2022-03-15T12:22:15.091Z"
   },
   {
    "duration": 599,
    "start_time": "2022-03-15T12:22:15.688Z"
   },
   {
    "duration": 299,
    "start_time": "2022-03-15T12:22:16.290Z"
   },
   {
    "duration": 12,
    "start_time": "2022-03-15T12:22:16.592Z"
   },
   {
    "duration": 8,
    "start_time": "2022-03-15T12:22:16.610Z"
   },
   {
    "duration": 73,
    "start_time": "2022-03-15T12:22:16.621Z"
   },
   {
    "duration": 56,
    "start_time": "2022-03-15T12:22:16.697Z"
   },
   {
    "duration": 110,
    "start_time": "2022-03-15T12:22:16.756Z"
   },
   {
    "duration": 30,
    "start_time": "2022-03-15T12:22:16.869Z"
   },
   {
    "duration": 5354,
    "start_time": "2022-03-15T12:22:16.901Z"
   },
   {
    "duration": 643,
    "start_time": "2022-03-15T12:22:22.258Z"
   },
   {
    "duration": 9,
    "start_time": "2022-03-15T12:22:22.904Z"
   },
   {
    "duration": 12371,
    "start_time": "2022-03-15T12:22:22.915Z"
   },
   {
    "duration": 3208,
    "start_time": "2022-03-15T12:22:35.288Z"
   },
   {
    "duration": 9,
    "start_time": "2022-03-15T12:22:38.498Z"
   },
   {
    "duration": 3289,
    "start_time": "2022-03-15T12:22:38.510Z"
   },
   {
    "duration": 4,
    "start_time": "2022-03-15T12:22:41.801Z"
   },
   {
    "duration": 71,
    "start_time": "2022-03-15T12:22:41.808Z"
   },
   {
    "duration": 48,
    "start_time": "2022-03-15T12:22:41.881Z"
   },
   {
    "duration": 21,
    "start_time": "2022-03-15T12:22:41.933Z"
   },
   {
    "duration": 46,
    "start_time": "2022-03-15T12:22:41.956Z"
   },
   {
    "duration": 5,
    "start_time": "2022-03-15T12:22:42.004Z"
   },
   {
    "duration": 55365,
    "start_time": "2022-03-15T12:22:42.011Z"
   },
   {
    "duration": 249557,
    "start_time": "2022-03-15T12:23:37.379Z"
   },
   {
    "duration": 4220,
    "start_time": "2022-03-15T12:27:46.939Z"
   },
   {
    "duration": 4,
    "start_time": "2022-03-15T12:35:16.739Z"
   },
   {
    "duration": 294,
    "start_time": "2022-03-15T12:38:08.396Z"
   },
   {
    "duration": 2196,
    "start_time": "2022-03-15T12:38:33.213Z"
   },
   {
    "duration": 4221,
    "start_time": "2022-03-15T12:38:47.297Z"
   },
   {
    "duration": 95,
    "start_time": "2022-03-15T12:40:32.175Z"
   },
   {
    "duration": 12,
    "start_time": "2022-03-15T12:43:50.388Z"
   },
   {
    "duration": 4971,
    "start_time": "2022-03-15T12:50:48.531Z"
   },
   {
    "duration": 5605,
    "start_time": "2022-03-15T12:50:57.003Z"
   },
   {
    "duration": 164,
    "start_time": "2022-03-15T12:55:56.961Z"
   },
   {
    "duration": 6,
    "start_time": "2022-03-15T12:56:22.189Z"
   },
   {
    "duration": 4,
    "start_time": "2022-03-15T12:56:27.029Z"
   },
   {
    "duration": 84,
    "start_time": "2022-03-15T13:04:22.236Z"
   },
   {
    "duration": 1178,
    "start_time": "2022-03-15T13:46:48.931Z"
   },
   {
    "duration": 747,
    "start_time": "2022-03-15T13:46:50.111Z"
   },
   {
    "duration": 5,
    "start_time": "2022-03-15T13:46:50.863Z"
   },
   {
    "duration": 455,
    "start_time": "2022-03-15T13:46:50.873Z"
   },
   {
    "duration": 423,
    "start_time": "2022-03-15T13:46:51.330Z"
   },
   {
    "duration": 223,
    "start_time": "2022-03-15T13:46:51.759Z"
   },
   {
    "duration": 9,
    "start_time": "2022-03-15T13:46:51.984Z"
   },
   {
    "duration": 8,
    "start_time": "2022-03-15T13:46:51.997Z"
   },
   {
    "duration": 64,
    "start_time": "2022-03-15T13:46:52.008Z"
   },
   {
    "duration": 42,
    "start_time": "2022-03-15T13:46:52.074Z"
   },
   {
    "duration": 117,
    "start_time": "2022-03-15T13:46:52.118Z"
   },
   {
    "duration": 41,
    "start_time": "2022-03-15T13:46:52.238Z"
   },
   {
    "duration": 3684,
    "start_time": "2022-03-15T13:46:52.281Z"
   },
   {
    "duration": 423,
    "start_time": "2022-03-15T13:46:55.967Z"
   },
   {
    "duration": 6,
    "start_time": "2022-03-15T13:46:56.392Z"
   },
   {
    "duration": 6973,
    "start_time": "2022-03-15T13:46:56.400Z"
   },
   {
    "duration": 2333,
    "start_time": "2022-03-15T13:47:03.375Z"
   },
   {
    "duration": 8,
    "start_time": "2022-03-15T13:47:05.710Z"
   },
   {
    "duration": 2435,
    "start_time": "2022-03-15T13:47:05.720Z"
   },
   {
    "duration": 3,
    "start_time": "2022-03-15T13:47:08.157Z"
   },
   {
    "duration": 51,
    "start_time": "2022-03-15T13:47:08.163Z"
   },
   {
    "duration": 56,
    "start_time": "2022-03-15T13:47:08.216Z"
   },
   {
    "duration": 3,
    "start_time": "2022-03-15T13:47:08.275Z"
   },
   {
    "duration": 44,
    "start_time": "2022-03-15T13:47:08.281Z"
   },
   {
    "duration": 4,
    "start_time": "2022-03-15T13:47:08.327Z"
   },
   {
    "duration": 50232,
    "start_time": "2022-03-15T13:47:08.334Z"
   },
   {
    "duration": 220018,
    "start_time": "2022-03-15T13:47:58.568Z"
   },
   {
    "duration": 3589,
    "start_time": "2022-03-15T13:51:38.588Z"
   },
   {
    "duration": 90,
    "start_time": "2022-03-15T13:51:42.183Z"
   },
   {
    "duration": 3895,
    "start_time": "2022-03-15T13:51:42.276Z"
   },
   {
    "duration": 63,
    "start_time": "2022-03-15T13:51:46.173Z"
   },
   {
    "duration": 36,
    "start_time": "2022-03-15T13:51:46.238Z"
   },
   {
    "duration": 228,
    "start_time": "2022-03-15T19:00:33.764Z"
   },
   {
    "duration": 1602,
    "start_time": "2022-03-15T19:00:41.626Z"
   },
   {
    "duration": 841,
    "start_time": "2022-03-15T19:00:43.230Z"
   },
   {
    "duration": 5,
    "start_time": "2022-03-15T19:00:44.075Z"
   },
   {
    "duration": 618,
    "start_time": "2022-03-15T19:00:44.083Z"
   },
   {
    "duration": 623,
    "start_time": "2022-03-15T19:00:44.703Z"
   },
   {
    "duration": 296,
    "start_time": "2022-03-15T19:00:45.328Z"
   },
   {
    "duration": 440,
    "start_time": "2022-03-15T19:00:45.626Z"
   },
   {
    "duration": -198,
    "start_time": "2022-03-15T19:00:46.268Z"
   },
   {
    "duration": -204,
    "start_time": "2022-03-15T19:00:46.277Z"
   },
   {
    "duration": -208,
    "start_time": "2022-03-15T19:00:46.283Z"
   },
   {
    "duration": -215,
    "start_time": "2022-03-15T19:00:46.293Z"
   },
   {
    "duration": -218,
    "start_time": "2022-03-15T19:00:46.298Z"
   },
   {
    "duration": -1863,
    "start_time": "2022-03-15T19:00:47.946Z"
   },
   {
    "duration": -1872,
    "start_time": "2022-03-15T19:00:47.957Z"
   },
   {
    "duration": -1878,
    "start_time": "2022-03-15T19:00:47.965Z"
   },
   {
    "duration": -1884,
    "start_time": "2022-03-15T19:00:47.974Z"
   },
   {
    "duration": -1891,
    "start_time": "2022-03-15T19:00:47.983Z"
   },
   {
    "duration": -1894,
    "start_time": "2022-03-15T19:00:47.988Z"
   },
   {
    "duration": -1894,
    "start_time": "2022-03-15T19:00:47.991Z"
   },
   {
    "duration": -1895,
    "start_time": "2022-03-15T19:00:47.995Z"
   },
   {
    "duration": -1896,
    "start_time": "2022-03-15T19:00:47.998Z"
   },
   {
    "duration": -1904,
    "start_time": "2022-03-15T19:00:48.008Z"
   },
   {
    "duration": -1859,
    "start_time": "2022-03-15T19:00:48.012Z"
   },
   {
    "duration": -1857,
    "start_time": "2022-03-15T19:00:48.015Z"
   },
   {
    "duration": -1859,
    "start_time": "2022-03-15T19:00:48.018Z"
   },
   {
    "duration": -1859,
    "start_time": "2022-03-15T19:00:48.021Z"
   },
   {
    "duration": -1858,
    "start_time": "2022-03-15T19:00:48.024Z"
   },
   {
    "duration": -1858,
    "start_time": "2022-03-15T19:00:48.026Z"
   },
   {
    "duration": -1859,
    "start_time": "2022-03-15T19:00:48.029Z"
   },
   {
    "duration": -1861,
    "start_time": "2022-03-15T19:00:48.032Z"
   },
   {
    "duration": -1861,
    "start_time": "2022-03-15T19:00:48.034Z"
   },
   {
    "duration": 1468,
    "start_time": "2022-03-15T19:01:11.613Z"
   },
   {
    "duration": 840,
    "start_time": "2022-03-15T19:01:13.084Z"
   },
   {
    "duration": 5,
    "start_time": "2022-03-15T19:01:13.928Z"
   },
   {
    "duration": 628,
    "start_time": "2022-03-15T19:01:13.936Z"
   },
   {
    "duration": 730,
    "start_time": "2022-03-15T19:01:14.566Z"
   },
   {
    "duration": 301,
    "start_time": "2022-03-15T19:01:15.299Z"
   },
   {
    "duration": 4518,
    "start_time": "2022-03-15T19:01:15.602Z"
   },
   {
    "duration": -170,
    "start_time": "2022-03-15T19:01:20.293Z"
   },
   {
    "duration": -172,
    "start_time": "2022-03-15T19:01:20.297Z"
   },
   {
    "duration": -173,
    "start_time": "2022-03-15T19:01:20.300Z"
   },
   {
    "duration": -174,
    "start_time": "2022-03-15T19:01:20.303Z"
   },
   {
    "duration": -176,
    "start_time": "2022-03-15T19:01:20.307Z"
   },
   {
    "duration": -178,
    "start_time": "2022-03-15T19:01:20.310Z"
   },
   {
    "duration": -180,
    "start_time": "2022-03-15T19:01:20.314Z"
   },
   {
    "duration": -184,
    "start_time": "2022-03-15T19:01:20.319Z"
   },
   {
    "duration": -203,
    "start_time": "2022-03-15T19:01:20.339Z"
   },
   {
    "duration": -205,
    "start_time": "2022-03-15T19:01:20.343Z"
   },
   {
    "duration": -220,
    "start_time": "2022-03-15T19:01:20.359Z"
   },
   {
    "duration": -231,
    "start_time": "2022-03-15T19:01:20.372Z"
   },
   {
    "duration": -237,
    "start_time": "2022-03-15T19:01:20.379Z"
   },
   {
    "duration": -246,
    "start_time": "2022-03-15T19:01:20.389Z"
   },
   {
    "duration": -251,
    "start_time": "2022-03-15T19:01:20.396Z"
   },
   {
    "duration": -258,
    "start_time": "2022-03-15T19:01:20.405Z"
   },
   {
    "duration": -261,
    "start_time": "2022-03-15T19:01:20.409Z"
   },
   {
    "duration": -265,
    "start_time": "2022-03-15T19:01:20.414Z"
   },
   {
    "duration": -273,
    "start_time": "2022-03-15T19:01:20.424Z"
   },
   {
    "duration": -277,
    "start_time": "2022-03-15T19:01:20.429Z"
   },
   {
    "duration": -287,
    "start_time": "2022-03-15T19:01:20.440Z"
   },
   {
    "duration": -288,
    "start_time": "2022-03-15T19:01:20.443Z"
   },
   {
    "duration": -297,
    "start_time": "2022-03-15T19:01:20.454Z"
   },
   {
    "duration": -299,
    "start_time": "2022-03-15T19:01:20.458Z"
   },
   {
    "duration": 313,
    "start_time": "2022-03-15T19:02:01.134Z"
   },
   {
    "duration": 9,
    "start_time": "2022-03-15T19:05:10.481Z"
   },
   {
    "duration": 1524,
    "start_time": "2022-03-15T19:09:19.616Z"
   },
   {
    "duration": 910,
    "start_time": "2022-03-15T19:09:21.143Z"
   },
   {
    "duration": 4,
    "start_time": "2022-03-15T19:09:22.056Z"
   },
   {
    "duration": 828,
    "start_time": "2022-03-15T19:09:22.063Z"
   },
   {
    "duration": 761,
    "start_time": "2022-03-15T19:09:22.894Z"
   },
   {
    "duration": 406,
    "start_time": "2022-03-15T19:09:23.658Z"
   },
   {
    "duration": 13,
    "start_time": "2022-03-15T19:09:24.066Z"
   },
   {
    "duration": 8,
    "start_time": "2022-03-15T19:09:24.082Z"
   },
   {
    "duration": 89,
    "start_time": "2022-03-15T19:09:24.093Z"
   },
   {
    "duration": 43,
    "start_time": "2022-03-15T19:09:24.185Z"
   },
   {
    "duration": 124,
    "start_time": "2022-03-15T19:09:24.230Z"
   },
   {
    "duration": 29,
    "start_time": "2022-03-15T19:09:24.357Z"
   },
   {
    "duration": 5531,
    "start_time": "2022-03-15T19:09:24.388Z"
   },
   {
    "duration": 631,
    "start_time": "2022-03-15T19:09:29.921Z"
   },
   {
    "duration": 7,
    "start_time": "2022-03-15T19:09:30.554Z"
   },
   {
    "duration": 12432,
    "start_time": "2022-03-15T19:09:30.563Z"
   },
   {
    "duration": 3419,
    "start_time": "2022-03-15T19:09:42.998Z"
   },
   {
    "duration": 9,
    "start_time": "2022-03-15T19:09:46.419Z"
   },
   {
    "duration": 3535,
    "start_time": "2022-03-15T19:09:46.431Z"
   },
   {
    "duration": 5,
    "start_time": "2022-03-15T19:09:49.969Z"
   },
   {
    "duration": 86,
    "start_time": "2022-03-15T19:09:49.977Z"
   },
   {
    "duration": 51,
    "start_time": "2022-03-15T19:09:50.066Z"
   },
   {
    "duration": 30,
    "start_time": "2022-03-15T19:09:50.125Z"
   },
   {
    "duration": 42,
    "start_time": "2022-03-15T19:09:50.158Z"
   },
   {
    "duration": 5,
    "start_time": "2022-03-15T19:09:50.203Z"
   },
   {
    "duration": 79622,
    "start_time": "2022-03-15T19:09:50.211Z"
   },
   {
    "duration": 1170,
    "start_time": "2022-03-15T20:23:59.705Z"
   },
   {
    "duration": 700,
    "start_time": "2022-03-15T20:24:00.876Z"
   },
   {
    "duration": 3,
    "start_time": "2022-03-15T20:24:01.581Z"
   },
   {
    "duration": 925,
    "start_time": "2022-03-15T20:24:01.586Z"
   },
   {
    "duration": 362,
    "start_time": "2022-03-15T20:24:02.513Z"
   },
   {
    "duration": 157,
    "start_time": "2022-03-15T20:24:02.880Z"
   },
   {
    "duration": 115,
    "start_time": "2022-03-15T20:24:03.038Z"
   },
   {
    "duration": 481,
    "start_time": "2022-03-15T20:24:03.155Z"
   },
   {
    "duration": 616,
    "start_time": "2022-03-15T20:24:03.638Z"
   },
   {
    "duration": 314,
    "start_time": "2022-03-15T20:24:04.255Z"
   },
   {
    "duration": 307,
    "start_time": "2022-03-15T20:24:04.570Z"
   },
   {
    "duration": 339,
    "start_time": "2022-03-15T20:24:04.878Z"
   },
   {
    "duration": 336,
    "start_time": "2022-03-15T20:24:05.219Z"
   },
   {
    "duration": 3195,
    "start_time": "2022-03-15T20:24:05.557Z"
   },
   {
    "duration": 328,
    "start_time": "2022-03-15T20:24:08.754Z"
   },
   {
    "duration": 737,
    "start_time": "2022-03-15T20:24:09.084Z"
   },
   {
    "duration": 7112,
    "start_time": "2022-03-15T20:24:09.822Z"
   },
   {
    "duration": 1990,
    "start_time": "2022-03-15T20:24:16.936Z"
   },
   {
    "duration": 6,
    "start_time": "2022-03-15T20:24:18.927Z"
   },
   {
    "duration": 2705,
    "start_time": "2022-03-15T20:24:18.934Z"
   },
   {
    "duration": 3,
    "start_time": "2022-03-15T20:24:21.641Z"
   },
   {
    "duration": 299,
    "start_time": "2022-03-15T20:24:21.645Z"
   },
   {
    "duration": 432,
    "start_time": "2022-03-15T20:24:21.947Z"
   },
   {
    "duration": 763,
    "start_time": "2022-03-15T20:24:22.380Z"
   },
   {
    "duration": 701,
    "start_time": "2022-03-15T20:24:23.145Z"
   },
   {
    "duration": 868,
    "start_time": "2022-03-15T20:24:23.847Z"
   },
   {
    "duration": 43956,
    "start_time": "2022-03-15T20:24:24.717Z"
   },
   {
    "duration": 189389,
    "start_time": "2022-03-15T20:25:08.675Z"
   },
   {
    "duration": 3718,
    "start_time": "2022-03-15T20:28:18.065Z"
   },
   {
    "duration": 10,
    "start_time": "2022-03-15T20:28:21.785Z"
   },
   {
    "duration": 3858,
    "start_time": "2022-03-15T20:28:21.797Z"
   },
   {
    "duration": 63,
    "start_time": "2022-03-15T20:28:25.657Z"
   },
   {
    "duration": 393,
    "start_time": "2022-03-15T20:58:58.622Z"
   },
   {
    "duration": 1199,
    "start_time": "2022-03-15T20:59:07.552Z"
   },
   {
    "duration": 714,
    "start_time": "2022-03-15T20:59:08.754Z"
   },
   {
    "duration": 4,
    "start_time": "2022-03-15T20:59:09.471Z"
   },
   {
    "duration": 406,
    "start_time": "2022-03-15T20:59:09.478Z"
   },
   {
    "duration": 444,
    "start_time": "2022-03-15T20:59:09.886Z"
   },
   {
    "duration": 216,
    "start_time": "2022-03-15T20:59:10.332Z"
   },
   {
    "duration": 13,
    "start_time": "2022-03-15T20:59:10.550Z"
   },
   {
    "duration": 8,
    "start_time": "2022-03-15T20:59:10.566Z"
   },
   {
    "duration": 33,
    "start_time": "2022-03-15T20:59:10.601Z"
   },
   {
    "duration": 28,
    "start_time": "2022-03-15T20:59:10.636Z"
   },
   {
    "duration": 100,
    "start_time": "2022-03-15T20:59:10.666Z"
   },
   {
    "duration": 41,
    "start_time": "2022-03-15T20:59:10.768Z"
   },
   {
    "duration": 3277,
    "start_time": "2022-03-15T20:59:10.811Z"
   },
   {
    "duration": 397,
    "start_time": "2022-03-15T20:59:14.090Z"
   },
   {
    "duration": 6,
    "start_time": "2022-03-15T20:59:14.489Z"
   },
   {
    "duration": 6554,
    "start_time": "2022-03-15T20:59:14.502Z"
   },
   {
    "duration": 2079,
    "start_time": "2022-03-15T20:59:21.058Z"
   },
   {
    "duration": 7,
    "start_time": "2022-03-15T20:59:23.139Z"
   },
   {
    "duration": 2233,
    "start_time": "2022-03-15T20:59:23.148Z"
   },
   {
    "duration": 3,
    "start_time": "2022-03-15T20:59:25.383Z"
   },
   {
    "duration": 48,
    "start_time": "2022-03-15T20:59:25.388Z"
   },
   {
    "duration": 34,
    "start_time": "2022-03-15T20:59:25.438Z"
   },
   {
    "duration": 4,
    "start_time": "2022-03-15T20:59:25.503Z"
   },
   {
    "duration": 39,
    "start_time": "2022-03-15T20:59:25.510Z"
   },
   {
    "duration": 4,
    "start_time": "2022-03-15T20:59:25.551Z"
   },
   {
    "duration": 50718,
    "start_time": "2022-03-15T20:59:25.557Z"
   },
   {
    "duration": 220058,
    "start_time": "2022-03-15T21:00:16.277Z"
   },
   {
    "duration": 3165,
    "start_time": "2022-03-15T21:03:56.337Z"
   },
   {
    "duration": 9,
    "start_time": "2022-03-15T21:03:59.505Z"
   },
   {
    "duration": 3865,
    "start_time": "2022-03-15T21:03:59.517Z"
   },
   {
    "duration": 99,
    "start_time": "2022-03-15T21:04:03.385Z"
   }
  ],
  "kernelspec": {
   "display_name": "Python 3 (ipykernel)",
   "language": "python",
   "name": "python3"
  },
  "language_info": {
   "codemirror_mode": {
    "name": "ipython",
    "version": 3
   },
   "file_extension": ".py",
   "mimetype": "text/x-python",
   "name": "python",
   "nbconvert_exporter": "python",
   "pygments_lexer": "ipython3",
   "version": "3.9.12"
  },
  "toc": {
   "base_numbering": 1,
   "nav_menu": {},
   "number_sections": true,
   "sideBar": true,
   "skip_h1_title": true,
   "title_cell": "Содержание",
   "title_sidebar": "Contents",
   "toc_cell": true,
   "toc_position": {},
   "toc_section_display": true,
   "toc_window_display": true
  }
 },
 "nbformat": 4,
 "nbformat_minor": 2
}
