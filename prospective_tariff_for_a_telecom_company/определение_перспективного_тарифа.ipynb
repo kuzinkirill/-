{
 "cells": [
  {
   "cell_type": "markdown",
   "metadata": {},
   "source": [
    "# Определение перспективного тарифа для телеком-компании\n",
    "\n",
    "Компания \"Мегалайн\" предлагает 2 тарифных плана: \"Смарт\" и \"Ультра\". Для корректировки рекламного бюджета коммерческий департамент хочет понять, какой тариф приносит больше денег. Задача - произвести предварительный анализ на небольшой выборке клиентов. \n",
    "\n",
    "В моем распоряжении - данные 500 пользователей \"Мегалайна\". На основе них необходимо произвести анализ поведения клиентов и определить, какой тариф лучше."
   ]
  },
  {
   "cell_type": "markdown",
   "metadata": {},
   "source": [
    "<h1>Содержание<span class=\"tocSkip\"></span></h1>\n",
    "<div class=\"toc\"><ul class=\"toc-item\"><li><span><a href=\"#Изучение-данных-из-файла\" data-toc-modified-id=\"Изучение-данных-из-файла-1\"><span class=\"toc-item-num\">1&nbsp;&nbsp;</span>Изучение данных из файла</a></span></li><li><span><a \n",
    "href=\"#Предобработка-данных\" data-toc-modified-id=\"Предобработка-данных-2\"><span class=\"toc-item-num\">2&nbsp;&nbsp;</span>Предобработка данных</a></span><ul class=\"toc-item\"><li><span><a href=\"#Замена-типа-данных-и-удаление-ошибок\" data-toc-modified-id=\"Замена-типа-данных-и-удаление-ошибок-2.1\"><span class=\"toc-item-num\">2.1&nbsp;&nbsp;</span>Замена типа данных и удаление ошибок</a></span></li><li><span><a href=\"#Расчеты-и-добавление-результатов-в-таблицу\" data-toc-modified-id=\"Расчеты-и-добавление-результатов-в-таблицу-2.2\"><span class=\"toc-item-num\">2.2&nbsp;&nbsp;</span>Расчеты и добавление результатов в таблицу</a></span></li></ul></li><li><span><a href=\"#Анализ-данных\" data-toc-modified-id=\"Анализ-данных-3\"><span class=\"toc-item-num\">3&nbsp;&nbsp;</span>Анализ данных</a></span></li><li><span><a href=\"#Проверка-гипотез\" data-toc-modified-id=\"Проверка-гипотез-4\"><span class=\"toc-item-num\">4&nbsp;&nbsp;</span>Проверка гипотез</a></span></li><li><span><a href=\"#Общий-вывод\" data-toc-modified-id=\"Общий-вывод-5\"><span class=\"toc-item-num\">5&nbsp;&nbsp;</span>Общий вывод</a></span></li><li><span><a"
   ]
  },
  {
   "cell_type": "markdown",
   "metadata": {},
   "source": [
    "## Изучение данных из файла "
   ]
  },
  {
   "cell_type": "markdown",
   "metadata": {},
   "source": [
    "Импортируем библиотеку pandas и последовательно прочитаем каждый из файлов. Поскольку в блоке анализа мы будем работать с выборкой, и одной из задач будет построение гистограммы, то импортируем и библиотеки, которые позволят сделать это, т.е. numpy и matplotlib"
   ]
  },
  {
   "cell_type": "code",
   "execution_count": 1,
   "metadata": {},
   "outputs": [],
   "source": [
    "import pandas as pd\n",
    "import numpy as np\n",
    "import matplotlib.pyplot as plt"
   ]
  },
  {
   "cell_type": "markdown",
   "metadata": {},
   "source": [
    "### Таблица с информацией о звонках "
   ]
  },
  {
   "cell_type": "code",
   "execution_count": 2,
   "metadata": {},
   "outputs": [
    {
     "data": {
      "text/html": [
       "<div>\n",
       "<style scoped>\n",
       "    .dataframe tbody tr th:only-of-type {\n",
       "        vertical-align: middle;\n",
       "    }\n",
       "\n",
       "    .dataframe tbody tr th {\n",
       "        vertical-align: top;\n",
       "    }\n",
       "\n",
       "    .dataframe thead th {\n",
       "        text-align: right;\n",
       "    }\n",
       "</style>\n",
       "<table border=\"1\" class=\"dataframe\">\n",
       "  <thead>\n",
       "    <tr style=\"text-align: right;\">\n",
       "      <th></th>\n",
       "      <th>id</th>\n",
       "      <th>call_date</th>\n",
       "      <th>duration</th>\n",
       "      <th>user_id</th>\n",
       "    </tr>\n",
       "  </thead>\n",
       "  <tbody>\n",
       "    <tr>\n",
       "      <td>0</td>\n",
       "      <td>1000_0</td>\n",
       "      <td>2018-07-25</td>\n",
       "      <td>0.00</td>\n",
       "      <td>1000</td>\n",
       "    </tr>\n",
       "    <tr>\n",
       "      <td>1</td>\n",
       "      <td>1000_1</td>\n",
       "      <td>2018-08-17</td>\n",
       "      <td>0.00</td>\n",
       "      <td>1000</td>\n",
       "    </tr>\n",
       "    <tr>\n",
       "      <td>2</td>\n",
       "      <td>1000_2</td>\n",
       "      <td>2018-06-11</td>\n",
       "      <td>2.85</td>\n",
       "      <td>1000</td>\n",
       "    </tr>\n",
       "    <tr>\n",
       "      <td>3</td>\n",
       "      <td>1000_3</td>\n",
       "      <td>2018-09-21</td>\n",
       "      <td>13.80</td>\n",
       "      <td>1000</td>\n",
       "    </tr>\n",
       "    <tr>\n",
       "      <td>4</td>\n",
       "      <td>1000_4</td>\n",
       "      <td>2018-12-15</td>\n",
       "      <td>5.18</td>\n",
       "      <td>1000</td>\n",
       "    </tr>\n",
       "  </tbody>\n",
       "</table>\n",
       "</div>"
      ],
      "text/plain": [
       "       id   call_date  duration  user_id\n",
       "0  1000_0  2018-07-25      0.00     1000\n",
       "1  1000_1  2018-08-17      0.00     1000\n",
       "2  1000_2  2018-06-11      2.85     1000\n",
       "3  1000_3  2018-09-21     13.80     1000\n",
       "4  1000_4  2018-12-15      5.18     1000"
      ]
     },
     "metadata": {},
     "output_type": "display_data"
    },
    {
     "name": "stdout",
     "output_type": "stream",
     "text": [
      "<class 'pandas.core.frame.DataFrame'>\n",
      "RangeIndex: 202607 entries, 0 to 202606\n",
      "Data columns (total 4 columns):\n",
      "id           202607 non-null object\n",
      "call_date    202607 non-null object\n",
      "duration     202607 non-null float64\n",
      "user_id      202607 non-null int64\n",
      "dtypes: float64(1), int64(1), object(2)\n",
      "memory usage: 6.2+ MB\n",
      "id           0\n",
      "call_date    0\n",
      "duration     0\n",
      "user_id      0\n",
      "dtype: int64\n"
     ]
    }
   ],
   "source": [
    "calls=pd.read_csv('/datasets/calls.csv')\n",
    "display(calls.head())\n",
    "calls.info()\n",
    "print(calls.isna().sum())"
   ]
  },
  {
   "cell_type": "markdown",
   "metadata": {},
   "source": [
    "В датафрейме calls содержится информация о звонках каждого пользователя. Пропуски отсутствуют. Согласно документации к данным:\n",
    "\n",
    "* **id** — уникальный номер звонка;\n",
    "* **call_date** — дата звонка;\n",
    "* **duration** — длительность звонка в минутах;\n",
    "* **user_id** — идентификатор пользователя, сделавшего звонок.\n",
    "\n",
    "Данные в столбцах представлены в форматах object, float и int.\n",
    "\n",
    "Мы знаем, что \"0\" в столбце **duration** - пропущенные звонки (\"абонент временно не доступен\", \"абонент разговаривает по другой линии\", адресат просто не взял трубку и тд.). Таковые значения не являются ошибочными, потому удалять их мы не будем."
   ]
  },
  {
   "cell_type": "markdown",
   "metadata": {},
   "source": [
    "**Вывод**\n",
    "\n",
    "В блоке предобработки данных будет необходимо перевести данные столбца **call_date** в формате datetime. Также будет необходимо округлить до целого в большую сторону значения в столбце **duration**. После этих преобразований необходимо будет добавить столбцы с количеством звонков и потраченных минут по месяцам для каждого пользователя."
   ]
  },
  {
   "cell_type": "markdown",
   "metadata": {},
   "source": [
    "### Таблица с информацией об объемах интернет-трафика"
   ]
  },
  {
   "cell_type": "code",
   "execution_count": 3,
   "metadata": {},
   "outputs": [
    {
     "data": {
      "text/html": [
       "<div>\n",
       "<style scoped>\n",
       "    .dataframe tbody tr th:only-of-type {\n",
       "        vertical-align: middle;\n",
       "    }\n",
       "\n",
       "    .dataframe tbody tr th {\n",
       "        vertical-align: top;\n",
       "    }\n",
       "\n",
       "    .dataframe thead th {\n",
       "        text-align: right;\n",
       "    }\n",
       "</style>\n",
       "<table border=\"1\" class=\"dataframe\">\n",
       "  <thead>\n",
       "    <tr style=\"text-align: right;\">\n",
       "      <th></th>\n",
       "      <th>Unnamed: 0</th>\n",
       "      <th>id</th>\n",
       "      <th>mb_used</th>\n",
       "      <th>session_date</th>\n",
       "      <th>user_id</th>\n",
       "    </tr>\n",
       "  </thead>\n",
       "  <tbody>\n",
       "    <tr>\n",
       "      <td>0</td>\n",
       "      <td>0</td>\n",
       "      <td>1000_0</td>\n",
       "      <td>112.95</td>\n",
       "      <td>2018-11-25</td>\n",
       "      <td>1000</td>\n",
       "    </tr>\n",
       "    <tr>\n",
       "      <td>1</td>\n",
       "      <td>1</td>\n",
       "      <td>1000_1</td>\n",
       "      <td>1052.81</td>\n",
       "      <td>2018-09-07</td>\n",
       "      <td>1000</td>\n",
       "    </tr>\n",
       "    <tr>\n",
       "      <td>2</td>\n",
       "      <td>2</td>\n",
       "      <td>1000_2</td>\n",
       "      <td>1197.26</td>\n",
       "      <td>2018-06-25</td>\n",
       "      <td>1000</td>\n",
       "    </tr>\n",
       "    <tr>\n",
       "      <td>3</td>\n",
       "      <td>3</td>\n",
       "      <td>1000_3</td>\n",
       "      <td>550.27</td>\n",
       "      <td>2018-08-22</td>\n",
       "      <td>1000</td>\n",
       "    </tr>\n",
       "    <tr>\n",
       "      <td>4</td>\n",
       "      <td>4</td>\n",
       "      <td>1000_4</td>\n",
       "      <td>302.56</td>\n",
       "      <td>2018-09-24</td>\n",
       "      <td>1000</td>\n",
       "    </tr>\n",
       "  </tbody>\n",
       "</table>\n",
       "</div>"
      ],
      "text/plain": [
       "   Unnamed: 0      id  mb_used session_date  user_id\n",
       "0           0  1000_0   112.95   2018-11-25     1000\n",
       "1           1  1000_1  1052.81   2018-09-07     1000\n",
       "2           2  1000_2  1197.26   2018-06-25     1000\n",
       "3           3  1000_3   550.27   2018-08-22     1000\n",
       "4           4  1000_4   302.56   2018-09-24     1000"
      ]
     },
     "metadata": {},
     "output_type": "display_data"
    },
    {
     "name": "stdout",
     "output_type": "stream",
     "text": [
      "<class 'pandas.core.frame.DataFrame'>\n",
      "RangeIndex: 149396 entries, 0 to 149395\n",
      "Data columns (total 5 columns):\n",
      "Unnamed: 0      149396 non-null int64\n",
      "id              149396 non-null object\n",
      "mb_used         149396 non-null float64\n",
      "session_date    149396 non-null object\n",
      "user_id         149396 non-null int64\n",
      "dtypes: float64(1), int64(2), object(2)\n",
      "memory usage: 5.7+ MB\n",
      "Unnamed: 0      0\n",
      "id              0\n",
      "mb_used         0\n",
      "session_date    0\n",
      "user_id         0\n",
      "dtype: int64\n"
     ]
    }
   ],
   "source": [
    "net=pd.read_csv('/datasets/internet.csv')\n",
    "display(net.head())\n",
    "net.info()\n",
    "print(net.isna().sum())"
   ]
  },
  {
   "cell_type": "markdown",
   "metadata": {},
   "source": [
    "В датафрейме net содержится информация об объемах интернет-трафика каждого пользователя. Пропуски отсутствуют. Столбец **Unnamed:0** не несет какой-либо полезной информации, а лишь дублирует индексацию по строкам таблицы, потому от него мы избавимся в блоке предобработки. Согласно документации к данным:\n",
    "\n",
    "* **id** — уникальный номер сессии;\n",
    "* **mb_used** — объём потраченного за сессию интернет-трафика (в мегабайтах);\n",
    "* **session_date** — дата интернет-сессии;\n",
    "* **user_id** — идентификатор пользователя;\n",
    "\n",
    "Данные представлены в форматах object, float и int. "
   ]
  },
  {
   "cell_type": "markdown",
   "metadata": {},
   "source": [
    "**Вывод**\n",
    "\n",
    "Аналогично датафрейму calls, необходимо перевести столбец **session_date** к формату datetime, а столбец mb_used - перевести в гигабайты и округлить до целого в большую сторону. В последствии посчитаем, сколько пользователь использовал трафика по месяцам"
   ]
  },
  {
   "cell_type": "markdown",
   "metadata": {},
   "source": [
    "### Таблица с информацией о сообщениях"
   ]
  },
  {
   "cell_type": "code",
   "execution_count": 4,
   "metadata": {},
   "outputs": [
    {
     "data": {
      "text/html": [
       "<div>\n",
       "<style scoped>\n",
       "    .dataframe tbody tr th:only-of-type {\n",
       "        vertical-align: middle;\n",
       "    }\n",
       "\n",
       "    .dataframe tbody tr th {\n",
       "        vertical-align: top;\n",
       "    }\n",
       "\n",
       "    .dataframe thead th {\n",
       "        text-align: right;\n",
       "    }\n",
       "</style>\n",
       "<table border=\"1\" class=\"dataframe\">\n",
       "  <thead>\n",
       "    <tr style=\"text-align: right;\">\n",
       "      <th></th>\n",
       "      <th>id</th>\n",
       "      <th>message_date</th>\n",
       "      <th>user_id</th>\n",
       "    </tr>\n",
       "  </thead>\n",
       "  <tbody>\n",
       "    <tr>\n",
       "      <td>0</td>\n",
       "      <td>1000_0</td>\n",
       "      <td>2018-06-27</td>\n",
       "      <td>1000</td>\n",
       "    </tr>\n",
       "    <tr>\n",
       "      <td>1</td>\n",
       "      <td>1000_1</td>\n",
       "      <td>2018-10-08</td>\n",
       "      <td>1000</td>\n",
       "    </tr>\n",
       "    <tr>\n",
       "      <td>2</td>\n",
       "      <td>1000_2</td>\n",
       "      <td>2018-08-04</td>\n",
       "      <td>1000</td>\n",
       "    </tr>\n",
       "    <tr>\n",
       "      <td>3</td>\n",
       "      <td>1000_3</td>\n",
       "      <td>2018-06-16</td>\n",
       "      <td>1000</td>\n",
       "    </tr>\n",
       "    <tr>\n",
       "      <td>4</td>\n",
       "      <td>1000_4</td>\n",
       "      <td>2018-12-05</td>\n",
       "      <td>1000</td>\n",
       "    </tr>\n",
       "  </tbody>\n",
       "</table>\n",
       "</div>"
      ],
      "text/plain": [
       "       id message_date  user_id\n",
       "0  1000_0   2018-06-27     1000\n",
       "1  1000_1   2018-10-08     1000\n",
       "2  1000_2   2018-08-04     1000\n",
       "3  1000_3   2018-06-16     1000\n",
       "4  1000_4   2018-12-05     1000"
      ]
     },
     "metadata": {},
     "output_type": "display_data"
    },
    {
     "name": "stdout",
     "output_type": "stream",
     "text": [
      "<class 'pandas.core.frame.DataFrame'>\n",
      "RangeIndex: 123036 entries, 0 to 123035\n",
      "Data columns (total 3 columns):\n",
      "id              123036 non-null object\n",
      "message_date    123036 non-null object\n",
      "user_id         123036 non-null int64\n",
      "dtypes: int64(1), object(2)\n",
      "memory usage: 2.8+ MB\n",
      "id              0\n",
      "message_date    0\n",
      "user_id         0\n",
      "dtype: int64\n"
     ]
    }
   ],
   "source": [
    "messages=pd.read_csv('/datasets/messages.csv')\n",
    "display(messages.head())\n",
    "messages.info()\n",
    "print(messages.isna().sum())"
   ]
  },
  {
   "cell_type": "markdown",
   "metadata": {},
   "source": [
    "В датафрейме messages содержится информация об отправленных сообщениях пользователей. Пропуски отсутствуют. Согласно документации:\n",
    "\n",
    "* **id** — уникальный номер сообщения;\n",
    "* **message_date** — дата сообщения;\n",
    "* **user_id** — идентификатор пользователя, отправившего сообщение\n",
    "\n",
    "Данные представлены в форматах object и int."
   ]
  },
  {
   "cell_type": "markdown",
   "metadata": {},
   "source": [
    "**Вывод**\n",
    "\n",
    "Необходимо перевести данные в **message_date** к формату datetime. Впоследствии посчитаем, сколько каждый пользователь отправляет сообщений по месяцам"
   ]
  },
  {
   "cell_type": "markdown",
   "metadata": {},
   "source": [
    "### Таблица с информацией о тарифах"
   ]
  },
  {
   "cell_type": "code",
   "execution_count": 5,
   "metadata": {},
   "outputs": [
    {
     "data": {
      "text/html": [
       "<div>\n",
       "<style scoped>\n",
       "    .dataframe tbody tr th:only-of-type {\n",
       "        vertical-align: middle;\n",
       "    }\n",
       "\n",
       "    .dataframe tbody tr th {\n",
       "        vertical-align: top;\n",
       "    }\n",
       "\n",
       "    .dataframe thead th {\n",
       "        text-align: right;\n",
       "    }\n",
       "</style>\n",
       "<table border=\"1\" class=\"dataframe\">\n",
       "  <thead>\n",
       "    <tr style=\"text-align: right;\">\n",
       "      <th></th>\n",
       "      <th>messages_included</th>\n",
       "      <th>mb_per_month_included</th>\n",
       "      <th>minutes_included</th>\n",
       "      <th>rub_monthly_fee</th>\n",
       "      <th>rub_per_gb</th>\n",
       "      <th>rub_per_message</th>\n",
       "      <th>rub_per_minute</th>\n",
       "      <th>tariff_name</th>\n",
       "    </tr>\n",
       "  </thead>\n",
       "  <tbody>\n",
       "    <tr>\n",
       "      <td>0</td>\n",
       "      <td>50</td>\n",
       "      <td>15360</td>\n",
       "      <td>500</td>\n",
       "      <td>550</td>\n",
       "      <td>200</td>\n",
       "      <td>3</td>\n",
       "      <td>3</td>\n",
       "      <td>smart</td>\n",
       "    </tr>\n",
       "    <tr>\n",
       "      <td>1</td>\n",
       "      <td>1000</td>\n",
       "      <td>30720</td>\n",
       "      <td>3000</td>\n",
       "      <td>1950</td>\n",
       "      <td>150</td>\n",
       "      <td>1</td>\n",
       "      <td>1</td>\n",
       "      <td>ultra</td>\n",
       "    </tr>\n",
       "  </tbody>\n",
       "</table>\n",
       "</div>"
      ],
      "text/plain": [
       "   messages_included  mb_per_month_included  minutes_included  \\\n",
       "0                 50                  15360               500   \n",
       "1               1000                  30720              3000   \n",
       "\n",
       "   rub_monthly_fee  rub_per_gb  rub_per_message  rub_per_minute tariff_name  \n",
       "0              550         200                3               3       smart  \n",
       "1             1950         150                1               1       ultra  "
      ]
     },
     "metadata": {},
     "output_type": "display_data"
    },
    {
     "name": "stdout",
     "output_type": "stream",
     "text": [
      "<class 'pandas.core.frame.DataFrame'>\n",
      "RangeIndex: 2 entries, 0 to 1\n",
      "Data columns (total 8 columns):\n",
      "messages_included        2 non-null int64\n",
      "mb_per_month_included    2 non-null int64\n",
      "minutes_included         2 non-null int64\n",
      "rub_monthly_fee          2 non-null int64\n",
      "rub_per_gb               2 non-null int64\n",
      "rub_per_message          2 non-null int64\n",
      "rub_per_minute           2 non-null int64\n",
      "tariff_name              2 non-null object\n",
      "dtypes: int64(7), object(1)\n",
      "memory usage: 256.0+ bytes\n"
     ]
    }
   ],
   "source": [
    "tariffs=pd.read_csv('/datasets/tariffs.csv')\n",
    "display(tariffs.head())\n",
    "tariffs.info()"
   ]
  },
  {
   "cell_type": "markdown",
   "metadata": {},
   "source": [
    "**Вывод**\n",
    "\n",
    "Датафрейм tarriffs уже готов для дальнейшей работы с ним. Согласно документации к данным:\n",
    "\n",
    "* **tariff_name** — название тарифа;\n",
    "* **rub_monthly_fee** — ежемесячная абонентская плата в рублях;\n",
    "* **minutes_included** — количество минут разговора в месяц, включённых в абонентскую плату;\n",
    "* **messages_included** — количество сообщений в месяц, включённых в абонентскую плату;\n",
    "* **mb_per_month_included** — объём интернет-трафика, включённого в абонентскую плату (в мегабайтах);\n",
    "* **rub_per_minute** — стоимость минуты разговора сверх тарифного пакета (например, если в тарифе 100 минут разговора в месяц, то со 101 минуты будет взиматься плата);\n",
    "* **rub_per_message** — стоимость отправки сообщения сверх тарифного пакета;\n",
    "* **rub_per_gb** — стоимость дополнительного гигабайта интернет-трафика сверх тарифного пакета (1 гигабайт = 1024 мегабайта)."
   ]
  },
  {
   "cell_type": "markdown",
   "metadata": {},
   "source": [
    "### Таблица с информацией о пользователях"
   ]
  },
  {
   "cell_type": "code",
   "execution_count": 6,
   "metadata": {},
   "outputs": [
    {
     "data": {
      "text/html": [
       "<div>\n",
       "<style scoped>\n",
       "    .dataframe tbody tr th:only-of-type {\n",
       "        vertical-align: middle;\n",
       "    }\n",
       "\n",
       "    .dataframe tbody tr th {\n",
       "        vertical-align: top;\n",
       "    }\n",
       "\n",
       "    .dataframe thead th {\n",
       "        text-align: right;\n",
       "    }\n",
       "</style>\n",
       "<table border=\"1\" class=\"dataframe\">\n",
       "  <thead>\n",
       "    <tr style=\"text-align: right;\">\n",
       "      <th></th>\n",
       "      <th>user_id</th>\n",
       "      <th>age</th>\n",
       "      <th>churn_date</th>\n",
       "      <th>city</th>\n",
       "      <th>first_name</th>\n",
       "      <th>last_name</th>\n",
       "      <th>reg_date</th>\n",
       "      <th>tariff</th>\n",
       "    </tr>\n",
       "  </thead>\n",
       "  <tbody>\n",
       "    <tr>\n",
       "      <td>0</td>\n",
       "      <td>1000</td>\n",
       "      <td>52</td>\n",
       "      <td>NaN</td>\n",
       "      <td>Краснодар</td>\n",
       "      <td>Рафаил</td>\n",
       "      <td>Верещагин</td>\n",
       "      <td>2018-05-25</td>\n",
       "      <td>ultra</td>\n",
       "    </tr>\n",
       "    <tr>\n",
       "      <td>1</td>\n",
       "      <td>1001</td>\n",
       "      <td>41</td>\n",
       "      <td>NaN</td>\n",
       "      <td>Москва</td>\n",
       "      <td>Иван</td>\n",
       "      <td>Ежов</td>\n",
       "      <td>2018-11-01</td>\n",
       "      <td>smart</td>\n",
       "    </tr>\n",
       "    <tr>\n",
       "      <td>2</td>\n",
       "      <td>1002</td>\n",
       "      <td>59</td>\n",
       "      <td>NaN</td>\n",
       "      <td>Стерлитамак</td>\n",
       "      <td>Евгений</td>\n",
       "      <td>Абрамович</td>\n",
       "      <td>2018-06-17</td>\n",
       "      <td>smart</td>\n",
       "    </tr>\n",
       "    <tr>\n",
       "      <td>3</td>\n",
       "      <td>1003</td>\n",
       "      <td>23</td>\n",
       "      <td>NaN</td>\n",
       "      <td>Москва</td>\n",
       "      <td>Белла</td>\n",
       "      <td>Белякова</td>\n",
       "      <td>2018-08-17</td>\n",
       "      <td>ultra</td>\n",
       "    </tr>\n",
       "    <tr>\n",
       "      <td>4</td>\n",
       "      <td>1004</td>\n",
       "      <td>68</td>\n",
       "      <td>NaN</td>\n",
       "      <td>Новокузнецк</td>\n",
       "      <td>Татьяна</td>\n",
       "      <td>Авдеенко</td>\n",
       "      <td>2018-05-14</td>\n",
       "      <td>ultra</td>\n",
       "    </tr>\n",
       "  </tbody>\n",
       "</table>\n",
       "</div>"
      ],
      "text/plain": [
       "   user_id  age churn_date         city first_name  last_name    reg_date  \\\n",
       "0     1000   52        NaN    Краснодар     Рафаил  Верещагин  2018-05-25   \n",
       "1     1001   41        NaN       Москва       Иван       Ежов  2018-11-01   \n",
       "2     1002   59        NaN  Стерлитамак    Евгений  Абрамович  2018-06-17   \n",
       "3     1003   23        NaN       Москва      Белла   Белякова  2018-08-17   \n",
       "4     1004   68        NaN  Новокузнецк    Татьяна   Авдеенко  2018-05-14   \n",
       "\n",
       "  tariff  \n",
       "0  ultra  \n",
       "1  smart  \n",
       "2  smart  \n",
       "3  ultra  \n",
       "4  ultra  "
      ]
     },
     "metadata": {},
     "output_type": "display_data"
    },
    {
     "name": "stdout",
     "output_type": "stream",
     "text": [
      "<class 'pandas.core.frame.DataFrame'>\n",
      "RangeIndex: 500 entries, 0 to 499\n",
      "Data columns (total 8 columns):\n",
      "user_id       500 non-null int64\n",
      "age           500 non-null int64\n",
      "churn_date    38 non-null object\n",
      "city          500 non-null object\n",
      "first_name    500 non-null object\n",
      "last_name     500 non-null object\n",
      "reg_date      500 non-null object\n",
      "tariff        500 non-null object\n",
      "dtypes: int64(2), object(6)\n",
      "memory usage: 31.4+ KB\n"
     ]
    }
   ],
   "source": [
    "users=pd.read_csv('/datasets/users.csv')\n",
    "display(users.head())\n",
    "users.info()"
   ]
  },
  {
   "cell_type": "markdown",
   "metadata": {},
   "source": [
    "В датафрейме **users** много пропусков в столбце **churn_date**, однако смущать они нас не должны. Они свидетельствуют о том, что лишь 38 пользователей прекратили обслуживание, а остальные являются текущими пользователями \"Мегалайна\". Столбцы содержат следующую информацию:\n",
    "\n",
    "* **user_id** — уникальный идентификатор пользователя;\n",
    "* **first_name** — имя пользователя;\n",
    "* **last_name** — фамилия пользователя;\n",
    "* **age** — возраст пользователя (годы);\n",
    "* **reg_date** — дата подключения тарифа (день, месяц, год);\n",
    "* **churn_date** — дата прекращения пользования тарифом (если значение пропущено, то тариф ещё действовал на момент выгрузки данных);\n",
    "* **city** — город проживания пользователя;\n",
    "* **tarif** — название тарифного планаю\n",
    "\n",
    "Необходимо преобразовать данные в столбцах churn_date и reg_date к формату datetime."
   ]
  },
  {
   "cell_type": "markdown",
   "metadata": {},
   "source": [
    "**Вывод к главе**\n",
    "\n",
    "В 4 из 5 датафреймов нужно заменить тип данных с object на datetime. Однако, если мы будем считать датой оплаты дни, \"кратные\" дню регистрации (Например, день регистрации - 25.05. Значит, плата снимается ежемесячно 25-го числа) - это сильно усложнит наши расчеты, ибо у каждого пользователя они разные. Потому произведем допущение - пусть плата снимается первого числа каждого месяца - это упростит нам расчеты.\n",
    "\n",
    "Перейдем к блоку предобработки данных!"
   ]
  },
  {
   "cell_type": "markdown",
   "metadata": {},
   "source": [
    "## Предобработка данных"
   ]
  },
  {
   "cell_type": "markdown",
   "metadata": {},
   "source": [
    "### Замена типа данных и удаление ошибок"
   ]
  },
  {
   "cell_type": "markdown",
   "metadata": {},
   "source": [
    "Приведем нужные нам столбцы таблиц к формату datetime:"
   ]
  },
  {
   "cell_type": "code",
   "execution_count": 7,
   "metadata": {},
   "outputs": [],
   "source": [
    "calls['call_date']=pd.to_datetime(calls['call_date'], format='%Y-%m-%d')\n",
    "net['session_date']=pd.to_datetime(net['session_date'], format='%Y-%m-%d')\n",
    "messages['message_date']=pd.to_datetime(messages['message_date'], format='%Y-%m-%d')\n",
    "users['reg_date']=pd.to_datetime(users['reg_date'], format='%Y-%m-%d')"
   ]
  },
  {
   "cell_type": "markdown",
   "metadata": {},
   "source": [
    "Поскольку быборка представлена за 2018 год, мы можем заменить пропуски в users['churn_date'] на последний день 2018 года и перевести все значения также к формату datetime:"
   ]
  },
  {
   "cell_type": "code",
   "execution_count": 8,
   "metadata": {},
   "outputs": [],
   "source": [
    "users['churn_date']=users['churn_date'].fillna('2018-12-31')\n",
    "users['churn_date']=pd.to_datetime(users['churn_date'], format='%Y-%m-%d')"
   ]
  },
  {
   "cell_type": "markdown",
   "metadata": {},
   "source": [
    "Теперь добавим столбец, в котором будет зафиксирован месяц звонка/сообщения/выхода в интернет:"
   ]
  },
  {
   "cell_type": "code",
   "execution_count": 9,
   "metadata": {},
   "outputs": [],
   "source": [
    "calls['month']=calls['call_date'].dt.month\n",
    "net['month']=net['session_date'].dt.month\n",
    "messages['month']=messages['message_date'].dt.month"
   ]
  },
  {
   "cell_type": "markdown",
   "metadata": {},
   "source": [
    "Переведем calls['duration'] в целые с округлением в большую сторону:"
   ]
  },
  {
   "cell_type": "code",
   "execution_count": 10,
   "metadata": {},
   "outputs": [
    {
     "data": {
      "text/html": [
       "<div>\n",
       "<style scoped>\n",
       "    .dataframe tbody tr th:only-of-type {\n",
       "        vertical-align: middle;\n",
       "    }\n",
       "\n",
       "    .dataframe tbody tr th {\n",
       "        vertical-align: top;\n",
       "    }\n",
       "\n",
       "    .dataframe thead th {\n",
       "        text-align: right;\n",
       "    }\n",
       "</style>\n",
       "<table border=\"1\" class=\"dataframe\">\n",
       "  <thead>\n",
       "    <tr style=\"text-align: right;\">\n",
       "      <th></th>\n",
       "      <th>id</th>\n",
       "      <th>call_date</th>\n",
       "      <th>duration</th>\n",
       "      <th>user_id</th>\n",
       "      <th>month</th>\n",
       "    </tr>\n",
       "  </thead>\n",
       "  <tbody>\n",
       "    <tr>\n",
       "      <td>0</td>\n",
       "      <td>1000_0</td>\n",
       "      <td>2018-07-25</td>\n",
       "      <td>0</td>\n",
       "      <td>1000</td>\n",
       "      <td>7</td>\n",
       "    </tr>\n",
       "    <tr>\n",
       "      <td>1</td>\n",
       "      <td>1000_1</td>\n",
       "      <td>2018-08-17</td>\n",
       "      <td>0</td>\n",
       "      <td>1000</td>\n",
       "      <td>8</td>\n",
       "    </tr>\n",
       "    <tr>\n",
       "      <td>2</td>\n",
       "      <td>1000_2</td>\n",
       "      <td>2018-06-11</td>\n",
       "      <td>3</td>\n",
       "      <td>1000</td>\n",
       "      <td>6</td>\n",
       "    </tr>\n",
       "    <tr>\n",
       "      <td>3</td>\n",
       "      <td>1000_3</td>\n",
       "      <td>2018-09-21</td>\n",
       "      <td>14</td>\n",
       "      <td>1000</td>\n",
       "      <td>9</td>\n",
       "    </tr>\n",
       "    <tr>\n",
       "      <td>4</td>\n",
       "      <td>1000_4</td>\n",
       "      <td>2018-12-15</td>\n",
       "      <td>6</td>\n",
       "      <td>1000</td>\n",
       "      <td>12</td>\n",
       "    </tr>\n",
       "    <tr>\n",
       "      <td>5</td>\n",
       "      <td>1000_5</td>\n",
       "      <td>2018-11-02</td>\n",
       "      <td>0</td>\n",
       "      <td>1000</td>\n",
       "      <td>11</td>\n",
       "    </tr>\n",
       "    <tr>\n",
       "      <td>6</td>\n",
       "      <td>1000_6</td>\n",
       "      <td>2018-10-18</td>\n",
       "      <td>0</td>\n",
       "      <td>1000</td>\n",
       "      <td>10</td>\n",
       "    </tr>\n",
       "    <tr>\n",
       "      <td>7</td>\n",
       "      <td>1000_7</td>\n",
       "      <td>2018-08-22</td>\n",
       "      <td>19</td>\n",
       "      <td>1000</td>\n",
       "      <td>8</td>\n",
       "    </tr>\n",
       "    <tr>\n",
       "      <td>8</td>\n",
       "      <td>1000_8</td>\n",
       "      <td>2018-09-15</td>\n",
       "      <td>19</td>\n",
       "      <td>1000</td>\n",
       "      <td>9</td>\n",
       "    </tr>\n",
       "    <tr>\n",
       "      <td>9</td>\n",
       "      <td>1000_9</td>\n",
       "      <td>2018-08-15</td>\n",
       "      <td>0</td>\n",
       "      <td>1000</td>\n",
       "      <td>8</td>\n",
       "    </tr>\n",
       "  </tbody>\n",
       "</table>\n",
       "</div>"
      ],
      "text/plain": [
       "       id  call_date  duration  user_id  month\n",
       "0  1000_0 2018-07-25         0     1000      7\n",
       "1  1000_1 2018-08-17         0     1000      8\n",
       "2  1000_2 2018-06-11         3     1000      6\n",
       "3  1000_3 2018-09-21        14     1000      9\n",
       "4  1000_4 2018-12-15         6     1000     12\n",
       "5  1000_5 2018-11-02         0     1000     11\n",
       "6  1000_6 2018-10-18         0     1000     10\n",
       "7  1000_7 2018-08-22        19     1000      8\n",
       "8  1000_8 2018-09-15        19     1000      9\n",
       "9  1000_9 2018-08-15         0     1000      8"
      ]
     },
     "metadata": {},
     "output_type": "display_data"
    }
   ],
   "source": [
    "calls['duration'] =  np.ceil(calls['duration']).astype('int')\n",
    "display(calls.head(10))"
   ]
  },
  {
   "cell_type": "markdown",
   "metadata": {},
   "source": [
    "Как мы можем заметить, у нас есть нули в столбцах net['mb_used'] и calls['duration]. Если бы было необходимо найти среднюю продолжительность звонка, например, то такие данные бы мешали нам. Но нам нужно оценить лишь суммарное количество минут и мегабайт в месяц, на которые прибавление нулевых значений никак не повлияет. А вот столбец net['Unnamed:0'] стоит удалить:"
   ]
  },
  {
   "cell_type": "code",
   "execution_count": 11,
   "metadata": {},
   "outputs": [],
   "source": [
    "net.drop('Unnamed: 0', axis=1, inplace=True)"
   ]
  },
  {
   "cell_type": "markdown",
   "metadata": {},
   "source": [
    "**Вывод**\n",
    "\n",
    "Данные приведены к необходимому формату. Ошибочный столбец удален."
   ]
  },
  {
   "cell_type": "markdown",
   "metadata": {},
   "source": [
    "### Расчеты и добавление результатов в таблицу"
   ]
  },
  {
   "cell_type": "markdown",
   "metadata": {},
   "source": [
    "Для начала рассчитаем необходимые для исследования параметры для каждого исходного датафрейма, а потом объединим их в исходную таблицу:"
   ]
  },
  {
   "cell_type": "code",
   "execution_count": 12,
   "metadata": {},
   "outputs": [
    {
     "data": {
      "text/html": [
       "<div>\n",
       "<style scoped>\n",
       "    .dataframe tbody tr th:only-of-type {\n",
       "        vertical-align: middle;\n",
       "    }\n",
       "\n",
       "    .dataframe tbody tr th {\n",
       "        vertical-align: top;\n",
       "    }\n",
       "\n",
       "    .dataframe thead th {\n",
       "        text-align: right;\n",
       "    }\n",
       "</style>\n",
       "<table border=\"1\" class=\"dataframe\">\n",
       "  <thead>\n",
       "    <tr style=\"text-align: right;\">\n",
       "      <th></th>\n",
       "      <th></th>\n",
       "      <th>count_calls</th>\n",
       "      <th>sum_duration</th>\n",
       "    </tr>\n",
       "    <tr>\n",
       "      <th>user_id</th>\n",
       "      <th>month</th>\n",
       "      <th></th>\n",
       "      <th></th>\n",
       "    </tr>\n",
       "  </thead>\n",
       "  <tbody>\n",
       "    <tr>\n",
       "      <td rowspan=\"5\" valign=\"top\">1000</td>\n",
       "      <td>5</td>\n",
       "      <td>22</td>\n",
       "      <td>159</td>\n",
       "    </tr>\n",
       "    <tr>\n",
       "      <td>6</td>\n",
       "      <td>43</td>\n",
       "      <td>172</td>\n",
       "    </tr>\n",
       "    <tr>\n",
       "      <td>7</td>\n",
       "      <td>47</td>\n",
       "      <td>340</td>\n",
       "    </tr>\n",
       "    <tr>\n",
       "      <td>8</td>\n",
       "      <td>52</td>\n",
       "      <td>408</td>\n",
       "    </tr>\n",
       "    <tr>\n",
       "      <td>9</td>\n",
       "      <td>58</td>\n",
       "      <td>466</td>\n",
       "    </tr>\n",
       "    <tr>\n",
       "      <td>...</td>\n",
       "      <td>...</td>\n",
       "      <td>...</td>\n",
       "      <td>...</td>\n",
       "    </tr>\n",
       "    <tr>\n",
       "      <td>1498</td>\n",
       "      <td>10</td>\n",
       "      <td>41</td>\n",
       "      <td>247</td>\n",
       "    </tr>\n",
       "    <tr>\n",
       "      <td rowspan=\"4\" valign=\"top\">1499</td>\n",
       "      <td>9</td>\n",
       "      <td>9</td>\n",
       "      <td>70</td>\n",
       "    </tr>\n",
       "    <tr>\n",
       "      <td>10</td>\n",
       "      <td>68</td>\n",
       "      <td>449</td>\n",
       "    </tr>\n",
       "    <tr>\n",
       "      <td>11</td>\n",
       "      <td>74</td>\n",
       "      <td>612</td>\n",
       "    </tr>\n",
       "    <tr>\n",
       "      <td>12</td>\n",
       "      <td>69</td>\n",
       "      <td>492</td>\n",
       "    </tr>\n",
       "  </tbody>\n",
       "</table>\n",
       "<p>3174 rows × 2 columns</p>\n",
       "</div>"
      ],
      "text/plain": [
       "               count_calls  sum_duration\n",
       "user_id month                           \n",
       "1000    5               22           159\n",
       "        6               43           172\n",
       "        7               47           340\n",
       "        8               52           408\n",
       "        9               58           466\n",
       "...                    ...           ...\n",
       "1498    10              41           247\n",
       "1499    9                9            70\n",
       "        10              68           449\n",
       "        11              74           612\n",
       "        12              69           492\n",
       "\n",
       "[3174 rows x 2 columns]"
      ]
     },
     "metadata": {},
     "output_type": "display_data"
    }
   ],
   "source": [
    "calls = calls.groupby(['user_id', 'month'])['duration'].agg(['count', 'sum'])\n",
    "calls.columns = ['count_calls', 'sum_duration']\n",
    "display(calls)"
   ]
  },
  {
   "cell_type": "code",
   "execution_count": 13,
   "metadata": {},
   "outputs": [
    {
     "data": {
      "text/plain": [
       "user_id  month\n",
       "1000     5        22\n",
       "         6        60\n",
       "         7        75\n",
       "         8        81\n",
       "         9        57\n",
       "                  ..\n",
       "1498     10       42\n",
       "1499     9        11\n",
       "         10       48\n",
       "         11       59\n",
       "         12       66\n",
       "Name: id, Length: 2717, dtype: int64"
      ]
     },
     "metadata": {},
     "output_type": "display_data"
    }
   ],
   "source": [
    "messages = messages.groupby(['user_id', 'month'])['id'].count()\n",
    "display(messages)"
   ]
  },
  {
   "cell_type": "code",
   "execution_count": 14,
   "metadata": {},
   "outputs": [
    {
     "data": {
      "text/plain": [
       "user_id  month\n",
       "1000     5         2253.49\n",
       "         6        23233.77\n",
       "         7        14003.64\n",
       "         8        14055.93\n",
       "         9        14568.91\n",
       "                    ...   \n",
       "1498     10       20579.36\n",
       "1499     9         1845.75\n",
       "         10       17788.51\n",
       "         11       17963.31\n",
       "         12       13055.58\n",
       "Name: mb_used, Length: 3203, dtype: float64"
      ]
     },
     "metadata": {},
     "output_type": "display_data"
    }
   ],
   "source": [
    "net = net.groupby(['user_id', 'month'])['mb_used'].agg('sum')\n",
    "display(net)"
   ]
  },
  {
   "cell_type": "markdown",
   "metadata": {},
   "source": [
    "Объединим последовательно таблицы calls, net, messages:"
   ]
  },
  {
   "cell_type": "code",
   "execution_count": 15,
   "metadata": {},
   "outputs": [
    {
     "data": {
      "text/html": [
       "<div>\n",
       "<style scoped>\n",
       "    .dataframe tbody tr th:only-of-type {\n",
       "        vertical-align: middle;\n",
       "    }\n",
       "\n",
       "    .dataframe tbody tr th {\n",
       "        vertical-align: top;\n",
       "    }\n",
       "\n",
       "    .dataframe thead th {\n",
       "        text-align: right;\n",
       "    }\n",
       "</style>\n",
       "<table border=\"1\" class=\"dataframe\">\n",
       "  <thead>\n",
       "    <tr style=\"text-align: right;\">\n",
       "      <th></th>\n",
       "      <th>user_id</th>\n",
       "      <th>month</th>\n",
       "      <th>count_calls</th>\n",
       "      <th>sum_duration</th>\n",
       "      <th>id</th>\n",
       "      <th>mb_used</th>\n",
       "    </tr>\n",
       "  </thead>\n",
       "  <tbody>\n",
       "    <tr>\n",
       "      <td>0</td>\n",
       "      <td>1000</td>\n",
       "      <td>5</td>\n",
       "      <td>22.0</td>\n",
       "      <td>159.0</td>\n",
       "      <td>22.0</td>\n",
       "      <td>2253.49</td>\n",
       "    </tr>\n",
       "    <tr>\n",
       "      <td>1</td>\n",
       "      <td>1000</td>\n",
       "      <td>6</td>\n",
       "      <td>43.0</td>\n",
       "      <td>172.0</td>\n",
       "      <td>60.0</td>\n",
       "      <td>23233.77</td>\n",
       "    </tr>\n",
       "    <tr>\n",
       "      <td>2</td>\n",
       "      <td>1000</td>\n",
       "      <td>7</td>\n",
       "      <td>47.0</td>\n",
       "      <td>340.0</td>\n",
       "      <td>75.0</td>\n",
       "      <td>14003.64</td>\n",
       "    </tr>\n",
       "    <tr>\n",
       "      <td>3</td>\n",
       "      <td>1000</td>\n",
       "      <td>8</td>\n",
       "      <td>52.0</td>\n",
       "      <td>408.0</td>\n",
       "      <td>81.0</td>\n",
       "      <td>14055.93</td>\n",
       "    </tr>\n",
       "    <tr>\n",
       "      <td>4</td>\n",
       "      <td>1000</td>\n",
       "      <td>9</td>\n",
       "      <td>58.0</td>\n",
       "      <td>466.0</td>\n",
       "      <td>57.0</td>\n",
       "      <td>14568.91</td>\n",
       "    </tr>\n",
       "    <tr>\n",
       "      <td>...</td>\n",
       "      <td>...</td>\n",
       "      <td>...</td>\n",
       "      <td>...</td>\n",
       "      <td>...</td>\n",
       "      <td>...</td>\n",
       "      <td>...</td>\n",
       "    </tr>\n",
       "    <tr>\n",
       "      <td>3209</td>\n",
       "      <td>1498</td>\n",
       "      <td>10</td>\n",
       "      <td>41.0</td>\n",
       "      <td>247.0</td>\n",
       "      <td>42.0</td>\n",
       "      <td>20579.36</td>\n",
       "    </tr>\n",
       "    <tr>\n",
       "      <td>3210</td>\n",
       "      <td>1499</td>\n",
       "      <td>9</td>\n",
       "      <td>9.0</td>\n",
       "      <td>70.0</td>\n",
       "      <td>11.0</td>\n",
       "      <td>1845.75</td>\n",
       "    </tr>\n",
       "    <tr>\n",
       "      <td>3211</td>\n",
       "      <td>1499</td>\n",
       "      <td>10</td>\n",
       "      <td>68.0</td>\n",
       "      <td>449.0</td>\n",
       "      <td>48.0</td>\n",
       "      <td>17788.51</td>\n",
       "    </tr>\n",
       "    <tr>\n",
       "      <td>3212</td>\n",
       "      <td>1499</td>\n",
       "      <td>11</td>\n",
       "      <td>74.0</td>\n",
       "      <td>612.0</td>\n",
       "      <td>59.0</td>\n",
       "      <td>17963.31</td>\n",
       "    </tr>\n",
       "    <tr>\n",
       "      <td>3213</td>\n",
       "      <td>1499</td>\n",
       "      <td>12</td>\n",
       "      <td>69.0</td>\n",
       "      <td>492.0</td>\n",
       "      <td>66.0</td>\n",
       "      <td>13055.58</td>\n",
       "    </tr>\n",
       "  </tbody>\n",
       "</table>\n",
       "<p>3214 rows × 6 columns</p>\n",
       "</div>"
      ],
      "text/plain": [
       "      user_id  month  count_calls  sum_duration    id   mb_used\n",
       "0        1000      5         22.0         159.0  22.0   2253.49\n",
       "1        1000      6         43.0         172.0  60.0  23233.77\n",
       "2        1000      7         47.0         340.0  75.0  14003.64\n",
       "3        1000      8         52.0         408.0  81.0  14055.93\n",
       "4        1000      9         58.0         466.0  57.0  14568.91\n",
       "...       ...    ...          ...           ...   ...       ...\n",
       "3209     1498     10         41.0         247.0  42.0  20579.36\n",
       "3210     1499      9          9.0          70.0  11.0   1845.75\n",
       "3211     1499     10         68.0         449.0  48.0  17788.51\n",
       "3212     1499     11         74.0         612.0  59.0  17963.31\n",
       "3213     1499     12         69.0         492.0  66.0  13055.58\n",
       "\n",
       "[3214 rows x 6 columns]"
      ]
     },
     "metadata": {},
     "output_type": "display_data"
    }
   ],
   "source": [
    "df = pd.concat([calls, messages, net], axis=1)\n",
    "df = df.reset_index()\n",
    "display(df)"
   ]
  },
  {
   "cell_type": "markdown",
   "metadata": {},
   "source": [
    "Данные в столбце ['mb_used'] представлены в мегабайт, но нам известно, что \"Мегалайн\" округляет до гигабайт в большую сторону. Сделаем это и мы:"
   ]
  },
  {
   "cell_type": "code",
   "execution_count": 16,
   "metadata": {},
   "outputs": [
    {
     "data": {
      "text/html": [
       "<div>\n",
       "<style scoped>\n",
       "    .dataframe tbody tr th:only-of-type {\n",
       "        vertical-align: middle;\n",
       "    }\n",
       "\n",
       "    .dataframe tbody tr th {\n",
       "        vertical-align: top;\n",
       "    }\n",
       "\n",
       "    .dataframe thead th {\n",
       "        text-align: right;\n",
       "    }\n",
       "</style>\n",
       "<table border=\"1\" class=\"dataframe\">\n",
       "  <thead>\n",
       "    <tr style=\"text-align: right;\">\n",
       "      <th></th>\n",
       "      <th>user_id</th>\n",
       "      <th>month</th>\n",
       "      <th>count_calls</th>\n",
       "      <th>sum_duration</th>\n",
       "      <th>id</th>\n",
       "      <th>gb_used</th>\n",
       "    </tr>\n",
       "  </thead>\n",
       "  <tbody>\n",
       "    <tr>\n",
       "      <td>0</td>\n",
       "      <td>1000</td>\n",
       "      <td>5</td>\n",
       "      <td>22.0</td>\n",
       "      <td>159.0</td>\n",
       "      <td>22.0</td>\n",
       "      <td>3</td>\n",
       "    </tr>\n",
       "    <tr>\n",
       "      <td>1</td>\n",
       "      <td>1000</td>\n",
       "      <td>6</td>\n",
       "      <td>43.0</td>\n",
       "      <td>172.0</td>\n",
       "      <td>60.0</td>\n",
       "      <td>23</td>\n",
       "    </tr>\n",
       "    <tr>\n",
       "      <td>2</td>\n",
       "      <td>1000</td>\n",
       "      <td>7</td>\n",
       "      <td>47.0</td>\n",
       "      <td>340.0</td>\n",
       "      <td>75.0</td>\n",
       "      <td>14</td>\n",
       "    </tr>\n",
       "    <tr>\n",
       "      <td>3</td>\n",
       "      <td>1000</td>\n",
       "      <td>8</td>\n",
       "      <td>52.0</td>\n",
       "      <td>408.0</td>\n",
       "      <td>81.0</td>\n",
       "      <td>14</td>\n",
       "    </tr>\n",
       "    <tr>\n",
       "      <td>4</td>\n",
       "      <td>1000</td>\n",
       "      <td>9</td>\n",
       "      <td>58.0</td>\n",
       "      <td>466.0</td>\n",
       "      <td>57.0</td>\n",
       "      <td>15</td>\n",
       "    </tr>\n",
       "    <tr>\n",
       "      <td>...</td>\n",
       "      <td>...</td>\n",
       "      <td>...</td>\n",
       "      <td>...</td>\n",
       "      <td>...</td>\n",
       "      <td>...</td>\n",
       "      <td>...</td>\n",
       "    </tr>\n",
       "    <tr>\n",
       "      <td>3209</td>\n",
       "      <td>1498</td>\n",
       "      <td>10</td>\n",
       "      <td>41.0</td>\n",
       "      <td>247.0</td>\n",
       "      <td>42.0</td>\n",
       "      <td>21</td>\n",
       "    </tr>\n",
       "    <tr>\n",
       "      <td>3210</td>\n",
       "      <td>1499</td>\n",
       "      <td>9</td>\n",
       "      <td>9.0</td>\n",
       "      <td>70.0</td>\n",
       "      <td>11.0</td>\n",
       "      <td>2</td>\n",
       "    </tr>\n",
       "    <tr>\n",
       "      <td>3211</td>\n",
       "      <td>1499</td>\n",
       "      <td>10</td>\n",
       "      <td>68.0</td>\n",
       "      <td>449.0</td>\n",
       "      <td>48.0</td>\n",
       "      <td>18</td>\n",
       "    </tr>\n",
       "    <tr>\n",
       "      <td>3212</td>\n",
       "      <td>1499</td>\n",
       "      <td>11</td>\n",
       "      <td>74.0</td>\n",
       "      <td>612.0</td>\n",
       "      <td>59.0</td>\n",
       "      <td>18</td>\n",
       "    </tr>\n",
       "    <tr>\n",
       "      <td>3213</td>\n",
       "      <td>1499</td>\n",
       "      <td>12</td>\n",
       "      <td>69.0</td>\n",
       "      <td>492.0</td>\n",
       "      <td>66.0</td>\n",
       "      <td>13</td>\n",
       "    </tr>\n",
       "  </tbody>\n",
       "</table>\n",
       "<p>3214 rows × 6 columns</p>\n",
       "</div>"
      ],
      "text/plain": [
       "      user_id  month  count_calls  sum_duration    id  gb_used\n",
       "0        1000      5         22.0         159.0  22.0        3\n",
       "1        1000      6         43.0         172.0  60.0       23\n",
       "2        1000      7         47.0         340.0  75.0       14\n",
       "3        1000      8         52.0         408.0  81.0       14\n",
       "4        1000      9         58.0         466.0  57.0       15\n",
       "...       ...    ...          ...           ...   ...      ...\n",
       "3209     1498     10         41.0         247.0  42.0       21\n",
       "3210     1499      9          9.0          70.0  11.0        2\n",
       "3211     1499     10         68.0         449.0  48.0       18\n",
       "3212     1499     11         74.0         612.0  59.0       18\n",
       "3213     1499     12         69.0         492.0  66.0       13\n",
       "\n",
       "[3214 rows x 6 columns]"
      ]
     },
     "metadata": {},
     "output_type": "display_data"
    }
   ],
   "source": [
    "def mega_to_giga(row):\n",
    "    mega=row['mb_used']\n",
    "    if mega>0:\n",
    "        giga = (np.ceil(mega/1024.0)).astype('int')\n",
    "        return giga\n",
    "    else:\n",
    "        return 0\n",
    "df['mb_used'] = df.apply(mega_to_giga, axis=1)\n",
    "df.rename(columns={'mb_used':'gb_used'}, inplace=True)\n",
    "display(df)"
   ]
  },
  {
   "cell_type": "markdown",
   "metadata": {},
   "source": [
    "Теперь добавим к таблице столбец с названием тарифа пользователя:"
   ]
  },
  {
   "cell_type": "code",
   "execution_count": 17,
   "metadata": {},
   "outputs": [
    {
     "data": {
      "text/html": [
       "<div>\n",
       "<style scoped>\n",
       "    .dataframe tbody tr th:only-of-type {\n",
       "        vertical-align: middle;\n",
       "    }\n",
       "\n",
       "    .dataframe tbody tr th {\n",
       "        vertical-align: top;\n",
       "    }\n",
       "\n",
       "    .dataframe thead th {\n",
       "        text-align: right;\n",
       "    }\n",
       "</style>\n",
       "<table border=\"1\" class=\"dataframe\">\n",
       "  <thead>\n",
       "    <tr style=\"text-align: right;\">\n",
       "      <th></th>\n",
       "      <th>user_id</th>\n",
       "      <th>month</th>\n",
       "      <th>count_calls</th>\n",
       "      <th>sum_duration</th>\n",
       "      <th>id</th>\n",
       "      <th>gb_used</th>\n",
       "      <th>tariff_name</th>\n",
       "    </tr>\n",
       "  </thead>\n",
       "  <tbody>\n",
       "    <tr>\n",
       "      <td>0</td>\n",
       "      <td>1000</td>\n",
       "      <td>5</td>\n",
       "      <td>22.0</td>\n",
       "      <td>159.0</td>\n",
       "      <td>22.0</td>\n",
       "      <td>3</td>\n",
       "      <td>ultra</td>\n",
       "    </tr>\n",
       "    <tr>\n",
       "      <td>1</td>\n",
       "      <td>1000</td>\n",
       "      <td>6</td>\n",
       "      <td>43.0</td>\n",
       "      <td>172.0</td>\n",
       "      <td>60.0</td>\n",
       "      <td>23</td>\n",
       "      <td>ultra</td>\n",
       "    </tr>\n",
       "    <tr>\n",
       "      <td>2</td>\n",
       "      <td>1000</td>\n",
       "      <td>7</td>\n",
       "      <td>47.0</td>\n",
       "      <td>340.0</td>\n",
       "      <td>75.0</td>\n",
       "      <td>14</td>\n",
       "      <td>ultra</td>\n",
       "    </tr>\n",
       "    <tr>\n",
       "      <td>3</td>\n",
       "      <td>1000</td>\n",
       "      <td>8</td>\n",
       "      <td>52.0</td>\n",
       "      <td>408.0</td>\n",
       "      <td>81.0</td>\n",
       "      <td>14</td>\n",
       "      <td>ultra</td>\n",
       "    </tr>\n",
       "    <tr>\n",
       "      <td>4</td>\n",
       "      <td>1000</td>\n",
       "      <td>9</td>\n",
       "      <td>58.0</td>\n",
       "      <td>466.0</td>\n",
       "      <td>57.0</td>\n",
       "      <td>15</td>\n",
       "      <td>ultra</td>\n",
       "    </tr>\n",
       "    <tr>\n",
       "      <td>...</td>\n",
       "      <td>...</td>\n",
       "      <td>...</td>\n",
       "      <td>...</td>\n",
       "      <td>...</td>\n",
       "      <td>...</td>\n",
       "      <td>...</td>\n",
       "      <td>...</td>\n",
       "    </tr>\n",
       "    <tr>\n",
       "      <td>3209</td>\n",
       "      <td>1498</td>\n",
       "      <td>10</td>\n",
       "      <td>41.0</td>\n",
       "      <td>247.0</td>\n",
       "      <td>42.0</td>\n",
       "      <td>21</td>\n",
       "      <td>smart</td>\n",
       "    </tr>\n",
       "    <tr>\n",
       "      <td>3210</td>\n",
       "      <td>1499</td>\n",
       "      <td>9</td>\n",
       "      <td>9.0</td>\n",
       "      <td>70.0</td>\n",
       "      <td>11.0</td>\n",
       "      <td>2</td>\n",
       "      <td>smart</td>\n",
       "    </tr>\n",
       "    <tr>\n",
       "      <td>3211</td>\n",
       "      <td>1499</td>\n",
       "      <td>10</td>\n",
       "      <td>68.0</td>\n",
       "      <td>449.0</td>\n",
       "      <td>48.0</td>\n",
       "      <td>18</td>\n",
       "      <td>smart</td>\n",
       "    </tr>\n",
       "    <tr>\n",
       "      <td>3212</td>\n",
       "      <td>1499</td>\n",
       "      <td>11</td>\n",
       "      <td>74.0</td>\n",
       "      <td>612.0</td>\n",
       "      <td>59.0</td>\n",
       "      <td>18</td>\n",
       "      <td>smart</td>\n",
       "    </tr>\n",
       "    <tr>\n",
       "      <td>3213</td>\n",
       "      <td>1499</td>\n",
       "      <td>12</td>\n",
       "      <td>69.0</td>\n",
       "      <td>492.0</td>\n",
       "      <td>66.0</td>\n",
       "      <td>13</td>\n",
       "      <td>smart</td>\n",
       "    </tr>\n",
       "  </tbody>\n",
       "</table>\n",
       "<p>3214 rows × 7 columns</p>\n",
       "</div>"
      ],
      "text/plain": [
       "      user_id  month  count_calls  sum_duration    id  gb_used tariff_name\n",
       "0        1000      5         22.0         159.0  22.0        3       ultra\n",
       "1        1000      6         43.0         172.0  60.0       23       ultra\n",
       "2        1000      7         47.0         340.0  75.0       14       ultra\n",
       "3        1000      8         52.0         408.0  81.0       14       ultra\n",
       "4        1000      9         58.0         466.0  57.0       15       ultra\n",
       "...       ...    ...          ...           ...   ...      ...         ...\n",
       "3209     1498     10         41.0         247.0  42.0       21       smart\n",
       "3210     1499      9          9.0          70.0  11.0        2       smart\n",
       "3211     1499     10         68.0         449.0  48.0       18       smart\n",
       "3212     1499     11         74.0         612.0  59.0       18       smart\n",
       "3213     1499     12         69.0         492.0  66.0       13       smart\n",
       "\n",
       "[3214 rows x 7 columns]"
      ]
     },
     "metadata": {},
     "output_type": "display_data"
    }
   ],
   "source": [
    "df = df.merge(users[['user_id','tariff']], on='user_id')\n",
    "df.rename(columns={'tariff':'tariff_name'}, inplace=True)\n",
    "display(df)"
   ]
  },
  {
   "cell_type": "markdown",
   "metadata": {},
   "source": [
    "добавим цену столбец со стандартной ценой тарифа:"
   ]
  },
  {
   "cell_type": "code",
   "execution_count": 18,
   "metadata": {},
   "outputs": [
    {
     "data": {
      "text/html": [
       "<div>\n",
       "<style scoped>\n",
       "    .dataframe tbody tr th:only-of-type {\n",
       "        vertical-align: middle;\n",
       "    }\n",
       "\n",
       "    .dataframe tbody tr th {\n",
       "        vertical-align: top;\n",
       "    }\n",
       "\n",
       "    .dataframe thead th {\n",
       "        text-align: right;\n",
       "    }\n",
       "</style>\n",
       "<table border=\"1\" class=\"dataframe\">\n",
       "  <thead>\n",
       "    <tr style=\"text-align: right;\">\n",
       "      <th></th>\n",
       "      <th>user_id</th>\n",
       "      <th>month</th>\n",
       "      <th>count_calls</th>\n",
       "      <th>sum_duration</th>\n",
       "      <th>id</th>\n",
       "      <th>gb_used</th>\n",
       "      <th>tariff_name</th>\n",
       "      <th>rub_monthly_fee</th>\n",
       "    </tr>\n",
       "  </thead>\n",
       "  <tbody>\n",
       "    <tr>\n",
       "      <td>0</td>\n",
       "      <td>1000</td>\n",
       "      <td>5</td>\n",
       "      <td>22.0</td>\n",
       "      <td>159.0</td>\n",
       "      <td>22.0</td>\n",
       "      <td>3</td>\n",
       "      <td>ultra</td>\n",
       "      <td>1950</td>\n",
       "    </tr>\n",
       "    <tr>\n",
       "      <td>1</td>\n",
       "      <td>1000</td>\n",
       "      <td>6</td>\n",
       "      <td>43.0</td>\n",
       "      <td>172.0</td>\n",
       "      <td>60.0</td>\n",
       "      <td>23</td>\n",
       "      <td>ultra</td>\n",
       "      <td>1950</td>\n",
       "    </tr>\n",
       "    <tr>\n",
       "      <td>2</td>\n",
       "      <td>1000</td>\n",
       "      <td>7</td>\n",
       "      <td>47.0</td>\n",
       "      <td>340.0</td>\n",
       "      <td>75.0</td>\n",
       "      <td>14</td>\n",
       "      <td>ultra</td>\n",
       "      <td>1950</td>\n",
       "    </tr>\n",
       "    <tr>\n",
       "      <td>3</td>\n",
       "      <td>1000</td>\n",
       "      <td>8</td>\n",
       "      <td>52.0</td>\n",
       "      <td>408.0</td>\n",
       "      <td>81.0</td>\n",
       "      <td>14</td>\n",
       "      <td>ultra</td>\n",
       "      <td>1950</td>\n",
       "    </tr>\n",
       "    <tr>\n",
       "      <td>4</td>\n",
       "      <td>1000</td>\n",
       "      <td>9</td>\n",
       "      <td>58.0</td>\n",
       "      <td>466.0</td>\n",
       "      <td>57.0</td>\n",
       "      <td>15</td>\n",
       "      <td>ultra</td>\n",
       "      <td>1950</td>\n",
       "    </tr>\n",
       "    <tr>\n",
       "      <td>...</td>\n",
       "      <td>...</td>\n",
       "      <td>...</td>\n",
       "      <td>...</td>\n",
       "      <td>...</td>\n",
       "      <td>...</td>\n",
       "      <td>...</td>\n",
       "      <td>...</td>\n",
       "      <td>...</td>\n",
       "    </tr>\n",
       "    <tr>\n",
       "      <td>3209</td>\n",
       "      <td>1498</td>\n",
       "      <td>10</td>\n",
       "      <td>41.0</td>\n",
       "      <td>247.0</td>\n",
       "      <td>42.0</td>\n",
       "      <td>21</td>\n",
       "      <td>smart</td>\n",
       "      <td>550</td>\n",
       "    </tr>\n",
       "    <tr>\n",
       "      <td>3210</td>\n",
       "      <td>1499</td>\n",
       "      <td>9</td>\n",
       "      <td>9.0</td>\n",
       "      <td>70.0</td>\n",
       "      <td>11.0</td>\n",
       "      <td>2</td>\n",
       "      <td>smart</td>\n",
       "      <td>550</td>\n",
       "    </tr>\n",
       "    <tr>\n",
       "      <td>3211</td>\n",
       "      <td>1499</td>\n",
       "      <td>10</td>\n",
       "      <td>68.0</td>\n",
       "      <td>449.0</td>\n",
       "      <td>48.0</td>\n",
       "      <td>18</td>\n",
       "      <td>smart</td>\n",
       "      <td>550</td>\n",
       "    </tr>\n",
       "    <tr>\n",
       "      <td>3212</td>\n",
       "      <td>1499</td>\n",
       "      <td>11</td>\n",
       "      <td>74.0</td>\n",
       "      <td>612.0</td>\n",
       "      <td>59.0</td>\n",
       "      <td>18</td>\n",
       "      <td>smart</td>\n",
       "      <td>550</td>\n",
       "    </tr>\n",
       "    <tr>\n",
       "      <td>3213</td>\n",
       "      <td>1499</td>\n",
       "      <td>12</td>\n",
       "      <td>69.0</td>\n",
       "      <td>492.0</td>\n",
       "      <td>66.0</td>\n",
       "      <td>13</td>\n",
       "      <td>smart</td>\n",
       "      <td>550</td>\n",
       "    </tr>\n",
       "  </tbody>\n",
       "</table>\n",
       "<p>3214 rows × 8 columns</p>\n",
       "</div>"
      ],
      "text/plain": [
       "      user_id  month  count_calls  sum_duration    id  gb_used tariff_name  \\\n",
       "0        1000      5         22.0         159.0  22.0        3       ultra   \n",
       "1        1000      6         43.0         172.0  60.0       23       ultra   \n",
       "2        1000      7         47.0         340.0  75.0       14       ultra   \n",
       "3        1000      8         52.0         408.0  81.0       14       ultra   \n",
       "4        1000      9         58.0         466.0  57.0       15       ultra   \n",
       "...       ...    ...          ...           ...   ...      ...         ...   \n",
       "3209     1498     10         41.0         247.0  42.0       21       smart   \n",
       "3210     1499      9          9.0          70.0  11.0        2       smart   \n",
       "3211     1499     10         68.0         449.0  48.0       18       smart   \n",
       "3212     1499     11         74.0         612.0  59.0       18       smart   \n",
       "3213     1499     12         69.0         492.0  66.0       13       smart   \n",
       "\n",
       "      rub_monthly_fee  \n",
       "0                1950  \n",
       "1                1950  \n",
       "2                1950  \n",
       "3                1950  \n",
       "4                1950  \n",
       "...               ...  \n",
       "3209              550  \n",
       "3210              550  \n",
       "3211              550  \n",
       "3212              550  \n",
       "3213              550  \n",
       "\n",
       "[3214 rows x 8 columns]"
      ]
     },
     "metadata": {},
     "output_type": "display_data"
    }
   ],
   "source": [
    "df = df.merge(tariffs[['tariff_name','rub_monthly_fee']], on='tariff_name')\n",
    "display(df)"
   ]
  },
  {
   "cell_type": "markdown",
   "metadata": {},
   "source": [
    "Теперь посчитаем помесячную выручку с каждого пользователя:"
   ]
  },
  {
   "cell_type": "code",
   "execution_count": 28,
   "metadata": {},
   "outputs": [
    {
     "data": {
      "text/plain": [
       "(3214, 9)"
      ]
     },
     "execution_count": 28,
     "metadata": {},
     "output_type": "execute_result"
    }
   ],
   "source": [
    "df.shape"
   ]
  },
  {
   "cell_type": "code",
   "execution_count": 30,
   "metadata": {},
   "outputs": [
    {
     "data": {
      "text/plain": [
       "498"
      ]
     },
     "execution_count": 30,
     "metadata": {},
     "output_type": "execute_result"
    }
   ],
   "source": [
    "df.user_id.nunique()"
   ]
  },
  {
   "cell_type": "code",
   "execution_count": 19,
   "metadata": {},
   "outputs": [
    {
     "data": {
      "text/html": [
       "<div>\n",
       "<style scoped>\n",
       "    .dataframe tbody tr th:only-of-type {\n",
       "        vertical-align: middle;\n",
       "    }\n",
       "\n",
       "    .dataframe tbody tr th {\n",
       "        vertical-align: top;\n",
       "    }\n",
       "\n",
       "    .dataframe thead th {\n",
       "        text-align: right;\n",
       "    }\n",
       "</style>\n",
       "<table border=\"1\" class=\"dataframe\">\n",
       "  <thead>\n",
       "    <tr style=\"text-align: right;\">\n",
       "      <th></th>\n",
       "      <th>user_id</th>\n",
       "      <th>month</th>\n",
       "      <th>count_calls</th>\n",
       "      <th>sum_duration</th>\n",
       "      <th>id</th>\n",
       "      <th>gb_used</th>\n",
       "      <th>tariff_name</th>\n",
       "      <th>rub_monthly_fee</th>\n",
       "    </tr>\n",
       "  </thead>\n",
       "  <tbody>\n",
       "    <tr>\n",
       "      <td>0</td>\n",
       "      <td>1000</td>\n",
       "      <td>5</td>\n",
       "      <td>22.0</td>\n",
       "      <td>159.0</td>\n",
       "      <td>22.0</td>\n",
       "      <td>3</td>\n",
       "      <td>ultra</td>\n",
       "      <td>1950.0</td>\n",
       "    </tr>\n",
       "    <tr>\n",
       "      <td>1</td>\n",
       "      <td>1000</td>\n",
       "      <td>6</td>\n",
       "      <td>43.0</td>\n",
       "      <td>172.0</td>\n",
       "      <td>60.0</td>\n",
       "      <td>23</td>\n",
       "      <td>ultra</td>\n",
       "      <td>1950.0</td>\n",
       "    </tr>\n",
       "    <tr>\n",
       "      <td>2</td>\n",
       "      <td>1000</td>\n",
       "      <td>7</td>\n",
       "      <td>47.0</td>\n",
       "      <td>340.0</td>\n",
       "      <td>75.0</td>\n",
       "      <td>14</td>\n",
       "      <td>ultra</td>\n",
       "      <td>1950.0</td>\n",
       "    </tr>\n",
       "    <tr>\n",
       "      <td>3</td>\n",
       "      <td>1000</td>\n",
       "      <td>8</td>\n",
       "      <td>52.0</td>\n",
       "      <td>408.0</td>\n",
       "      <td>81.0</td>\n",
       "      <td>14</td>\n",
       "      <td>ultra</td>\n",
       "      <td>1950.0</td>\n",
       "    </tr>\n",
       "    <tr>\n",
       "      <td>4</td>\n",
       "      <td>1000</td>\n",
       "      <td>9</td>\n",
       "      <td>58.0</td>\n",
       "      <td>466.0</td>\n",
       "      <td>57.0</td>\n",
       "      <td>15</td>\n",
       "      <td>ultra</td>\n",
       "      <td>1950.0</td>\n",
       "    </tr>\n",
       "    <tr>\n",
       "      <td>...</td>\n",
       "      <td>...</td>\n",
       "      <td>...</td>\n",
       "      <td>...</td>\n",
       "      <td>...</td>\n",
       "      <td>...</td>\n",
       "      <td>...</td>\n",
       "      <td>...</td>\n",
       "      <td>...</td>\n",
       "    </tr>\n",
       "    <tr>\n",
       "      <td>3209</td>\n",
       "      <td>1498</td>\n",
       "      <td>10</td>\n",
       "      <td>41.0</td>\n",
       "      <td>247.0</td>\n",
       "      <td>42.0</td>\n",
       "      <td>21</td>\n",
       "      <td>smart</td>\n",
       "      <td>1750.0</td>\n",
       "    </tr>\n",
       "    <tr>\n",
       "      <td>3210</td>\n",
       "      <td>1499</td>\n",
       "      <td>9</td>\n",
       "      <td>9.0</td>\n",
       "      <td>70.0</td>\n",
       "      <td>11.0</td>\n",
       "      <td>2</td>\n",
       "      <td>smart</td>\n",
       "      <td>550.0</td>\n",
       "    </tr>\n",
       "    <tr>\n",
       "      <td>3211</td>\n",
       "      <td>1499</td>\n",
       "      <td>10</td>\n",
       "      <td>68.0</td>\n",
       "      <td>449.0</td>\n",
       "      <td>48.0</td>\n",
       "      <td>18</td>\n",
       "      <td>smart</td>\n",
       "      <td>1150.0</td>\n",
       "    </tr>\n",
       "    <tr>\n",
       "      <td>3212</td>\n",
       "      <td>1499</td>\n",
       "      <td>11</td>\n",
       "      <td>74.0</td>\n",
       "      <td>612.0</td>\n",
       "      <td>59.0</td>\n",
       "      <td>18</td>\n",
       "      <td>smart</td>\n",
       "      <td>1513.0</td>\n",
       "    </tr>\n",
       "    <tr>\n",
       "      <td>3213</td>\n",
       "      <td>1499</td>\n",
       "      <td>12</td>\n",
       "      <td>69.0</td>\n",
       "      <td>492.0</td>\n",
       "      <td>66.0</td>\n",
       "      <td>13</td>\n",
       "      <td>smart</td>\n",
       "      <td>598.0</td>\n",
       "    </tr>\n",
       "  </tbody>\n",
       "</table>\n",
       "<p>3214 rows × 8 columns</p>\n",
       "</div>"
      ],
      "text/plain": [
       "      user_id  month  count_calls  sum_duration    id  gb_used tariff_name  \\\n",
       "0        1000      5         22.0         159.0  22.0        3       ultra   \n",
       "1        1000      6         43.0         172.0  60.0       23       ultra   \n",
       "2        1000      7         47.0         340.0  75.0       14       ultra   \n",
       "3        1000      8         52.0         408.0  81.0       14       ultra   \n",
       "4        1000      9         58.0         466.0  57.0       15       ultra   \n",
       "...       ...    ...          ...           ...   ...      ...         ...   \n",
       "3209     1498     10         41.0         247.0  42.0       21       smart   \n",
       "3210     1499      9          9.0          70.0  11.0        2       smart   \n",
       "3211     1499     10         68.0         449.0  48.0       18       smart   \n",
       "3212     1499     11         74.0         612.0  59.0       18       smart   \n",
       "3213     1499     12         69.0         492.0  66.0       13       smart   \n",
       "\n",
       "      rub_monthly_fee  \n",
       "0              1950.0  \n",
       "1              1950.0  \n",
       "2              1950.0  \n",
       "3              1950.0  \n",
       "4              1950.0  \n",
       "...               ...  \n",
       "3209           1750.0  \n",
       "3210            550.0  \n",
       "3211           1150.0  \n",
       "3212           1513.0  \n",
       "3213            598.0  \n",
       "\n",
       "[3214 rows x 8 columns]"
      ]
     },
     "metadata": {},
     "output_type": "display_data"
    }
   ],
   "source": [
    "def give_me_your_sms(row):   #функция для подсчета превышения лимита смс\n",
    "    tariff = row['tariff_name']\n",
    "    sms = row['id']\n",
    "    if tariff == 'smart':\n",
    "        price = 550\n",
    "        if sms > 50:\n",
    "            price += (sms-50)*3\n",
    "            return price\n",
    "        else:\n",
    "            return price\n",
    "    if tariff == 'ultra':\n",
    "        price = 1950\n",
    "        if sms > 1000:\n",
    "            price += (sms-50)*1\n",
    "            return price\n",
    "        else:\n",
    "            return price\n",
    "            \n",
    "df['rub_monthly_fee']=df.apply(give_me_your_sms, axis=1)\n",
    "\n",
    "def give_me_your_gb(row):  #функция для подсчета превышения трафика в гб\n",
    "    tariff = row['tariff_name']\n",
    "    gb = row['gb_used']\n",
    "    price = row['rub_monthly_fee']\n",
    "    if tariff == 'smart':\n",
    "        if gb > 15:\n",
    "            price += (gb-15)*200\n",
    "            return price\n",
    "        else:\n",
    "            return price\n",
    "    if tariff == 'ultra':\n",
    "        price = 1950\n",
    "        if gb > 30:\n",
    "            price += (gb-30)*150\n",
    "            return price\n",
    "        else:\n",
    "            return price\n",
    "        \n",
    "df['rub_monthly_fee']=df.apply(give_me_your_gb, axis=1)\n",
    "\n",
    "def give_me_your_min(row):  #функция для подсчета превышения минут разговора\n",
    "    tariff = row['tariff_name']\n",
    "    duration = row['sum_duration']\n",
    "    price = row['rub_monthly_fee']\n",
    "    if tariff == 'smart':\n",
    "        if duration > 500:\n",
    "            price += (duration-500)*3\n",
    "            return price\n",
    "        else:\n",
    "            return price\n",
    "    if tariff == 'ultra':\n",
    "        if duration > 3000:\n",
    "            price += (duration-3000)*1\n",
    "            return price\n",
    "        else:\n",
    "            return price\n",
    "        \n",
    "df['rub_monthly_fee']=df.apply(give_me_your_min, axis=1)\n",
    "df = df.fillna(0) #заменим вс пропуски нашей таблицы на нули\n",
    "display(df)"
   ]
  },
  {
   "cell_type": "markdown",
   "metadata": {},
   "source": [
    "**Вывод**\n",
    "\n",
    "В ходе выполнения данной главы были рассчитаны необходимые параметры для дальнейшего анализа данных, а именно: количество сделанных звонков и израсходованные минуты, отправленные сообщения и израсходованный интернет-трафик каждого пользователя по месяцам. Также была рассчитана помесячная выручка с каждого пользователя"
   ]
  },
  {
   "cell_type": "code",
   "execution_count": 31,
   "metadata": {},
   "outputs": [
    {
     "data": {
      "text/plain": [
       "count    3214.000000\n",
       "mean     1529.076229\n",
       "std       798.251091\n",
       "min       550.000000\n",
       "25%       750.000000\n",
       "50%      1653.500000\n",
       "75%      1950.000000\n",
       "max      6770.000000\n",
       "Name: rub_monthly_fee, dtype: float64"
      ]
     },
     "execution_count": 31,
     "metadata": {},
     "output_type": "execute_result"
    }
   ],
   "source": [
    "df['rub_monthly_fee'].describe()"
   ]
  },
  {
   "cell_type": "markdown",
   "metadata": {},
   "source": [
    "## Анализ данных"
   ]
  },
  {
   "cell_type": "markdown",
   "metadata": {},
   "source": [
    "Нам необходимо описать поведение клиентов оператора в зависимости от выбранного тарифа. Разобьем наш датафрейм на два других, в одном из которых будет информация о пользователях тарифа \"ultra\", а в другом - \"smart\":"
   ]
  },
  {
   "cell_type": "code",
   "execution_count": 20,
   "metadata": {},
   "outputs": [],
   "source": [
    "df_ultra = df[df['tariff_name'] == 'ultra']\n",
    "df_smart = df[df['tariff_name'] == 'smart']"
   ]
  },
  {
   "cell_type": "markdown",
   "metadata": {},
   "source": [
    "В данном случае нам предстоит работа с выборками. Потому считать мы будем не саму дисперсию, а ее оценку:"
   ]
  },
  {
   "cell_type": "code",
   "execution_count": 21,
   "metadata": {},
   "outputs": [
    {
     "name": "stdout",
     "output_type": "stream",
     "text": [
      "Smart. Среднее количество минут разговора в месяц: 417.9349484073576\n",
      "Smart. Дисперсия: 36219.31578434428\n",
      "Smart. Стандартное отклонение: 190.31372988921288\n",
      "Ultra. Среднее количество минут разговора в месяц: 526.6233502538071\n",
      "Ultra. Дисперсия: 100873.63339730098\n",
      "Ultra. Стандартное отклонение: 317.6060978591264\n"
     ]
    },
    {
     "data": {
      "image/png": "[encoded data removed]",
      "text/plain": [
       "<Figure size 432x288 with 1 Axes>"
      ]
     },
     "metadata": {
      "needs_background": "light"
     },
     "output_type": "display_data"
    }
   ],
   "source": [
    "smart_min_mean = np.mean(df_smart['sum_duration'])\n",
    "smart_min_dispersion = np.var(df_smart['sum_duration'], ddof=1)\n",
    "smart_min_std = np.std(df_smart['sum_duration'], ddof=1)\n",
    "df_smart['sum_duration'].plot(kind='hist', bins=50, label='smart', legend=True, grid = True)\n",
    "ax = plt.gca()\n",
    "ax.set_xlabel(\"Количество минут\", fontsize=12, color='blue')\n",
    "ax.set_ylabel(\"Частота\", fontsize=12, color='orange')\n",
    "print('Smart. Среднее количество минут разговора в месяц:', smart_min_mean)\n",
    "print('Smart. Дисперсия:', smart_min_dispersion)\n",
    "print('Smart. Стандартное отклонение:', smart_min_std)\n",
    "ultra_min_mean = np.mean(df_ultra['sum_duration'])\n",
    "ultra_min_dispersion = np.var(df_ultra['sum_duration'], ddof=1)\n",
    "ultra_min_std = np.std(df_ultra['sum_duration'], ddof=1)\n",
    "df_ultra['sum_duration'].plot(kind='hist', bins=50, title = 'Распределение минут - Ultra и Smart', label='ultra', legend=True, color = 'red', grid = True)\n",
    "print('Ultra. Среднее количество минут разговора в месяц:', ultra_min_mean)\n",
    "print('Ultra. Дисперсия:', ultra_min_dispersion)\n",
    "print('Ultra. Стандартное отклонение:', ultra_min_std)"
   ]
  },
  {
   "cell_type": "code",
   "execution_count": 22,
   "metadata": {},
   "outputs": [
    {
     "name": "stdout",
     "output_type": "stream",
     "text": [
      "Smart. Среднее количество гигабайт в месяц: 16.328847016599372\n",
      "Smart. Дисперсия: 33.02870517811161\n",
      "Smart. Стандартное отклонение: 5.7470605685090534\n",
      "Ultra. Среднее количество гигабайт в месяц: 19.494416243654822\n",
      "Ultra. Дисперсия: 97.09168626965459\n",
      "Ultra. Стандартное отклонение: 9.853511367510293\n"
     ]
    },
    {
     "data": {
      "image/png": "[encoded data removed]",
      "text/plain": [
       "<Figure size 432x288 with 1 Axes>"
      ]
     },
     "metadata": {
      "needs_background": "light"
     },
     "output_type": "display_data"
    }
   ],
   "source": [
    "smart_gb_mean = np.mean(df_smart['gb_used'])\n",
    "smart_gb_dispersion = np.var(df_smart['gb_used'], ddof=1)\n",
    "smart_gb_std = np.std(df_smart['gb_used'], ddof=1)\n",
    "df_smart['gb_used'].plot(kind='hist', bins=35, label='smart', legend=True, grid = True)\n",
    "ax = plt.gca()\n",
    "ax.set_xlabel(\"Количество гигабайт\", fontsize=12, color='blue')\n",
    "ax.set_ylabel(\"Частота\", fontsize=12, color='orange')\n",
    "print('Smart. Среднее количество гигабайт в месяц:', smart_gb_mean)\n",
    "print('Smart. Дисперсия:', smart_gb_dispersion)\n",
    "print('Smart. Стандартное отклонение:', smart_gb_std)\n",
    "ultra_gb_mean = np.mean(df_ultra['gb_used'])\n",
    "ultra_gb_dispersion = np.var(df_ultra['gb_used'], ddof=1)\n",
    "ultra_gb_std = np.std(df_ultra['gb_used'], ddof=1)\n",
    "df_ultra['gb_used'].plot(kind='hist', bins=35, title = 'Распределение гигабайт - Ultra и Smart', color = 'red', label='ultra', legend=True, grid = True)\n",
    "print('Ultra. Среднее количество гигабайт в месяц:', ultra_gb_mean)\n",
    "print('Ultra. Дисперсия:', ultra_gb_dispersion)\n",
    "print('Ultra. Стандартное отклонение:', ultra_gb_std)"
   ]
  },
  {
   "cell_type": "code",
   "execution_count": 23,
   "metadata": {
    "scrolled": false
   },
   "outputs": [
    {
     "name": "stdout",
     "output_type": "stream",
     "text": [
      "Smart. Среднее количество сообщений в месяц: 33.384028712427096\n",
      "Smart. Дисперсия: 796.8129584480083\n",
      "Smart. Стандартное отклонение: 28.22787555676141\n",
      "Ultra. Среднее количество сообщений в месяц: 49.36345177664975\n",
      "Ultra. Дисперсия: 2285.266142544674\n",
      "Ultra. Стандартное отклонение: 47.80445735017472\n"
     ]
    },
    {
     "data": {
      "image/png": "[encoded data removed]",
      "text/plain": [
       "<Figure size 432x288 with 1 Axes>"
      ]
     },
     "metadata": {
      "needs_background": "light"
     },
     "output_type": "display_data"
    }
   ],
   "source": [
    "smart_sms_mean = np.mean(df_smart['id'])\n",
    "smart_sms_dispersion = np.var(df_smart['id'], ddof=1)\n",
    "smart_sms_std = np.std(df_smart['id'], ddof=1)\n",
    "df_smart['id'].plot(kind='hist', bins=35, label='smart', legend=True, grid = True)\n",
    "ax = plt.gca()\n",
    "ax.set_xlabel(\"Количество сообщений\", fontsize=12, color='blue')\n",
    "ax.set_ylabel(\"Частота\", fontsize=12, color='orange')\n",
    "print('Smart. Среднее количество сообщений в месяц:', smart_sms_mean)\n",
    "print('Smart. Дисперсия:', smart_sms_dispersion)\n",
    "print('Smart. Стандартное отклонение:', smart_sms_std)\n",
    "ultra_sms_mean = np.mean(df_ultra['id'])\n",
    "ultra_sms_dispersion = np.var(df_ultra['id'], ddof=1)\n",
    "ultra_sms_std = np.std(df_ultra['id'], ddof=1)\n",
    "df_ultra['id'].plot(kind='hist', bins=35, title = 'Распределение сообщений - Ultra и Smart', color = 'red', label='ultra', legend=True, grid = True)\n",
    "print('Ultra. Среднее количество сообщений в месяц:', ultra_sms_mean)\n",
    "print('Ultra. Дисперсия:', ultra_sms_dispersion)\n",
    "print('Ultra. Стандартное отклонение:', ultra_sms_std)"
   ]
  },
  {
   "cell_type": "markdown",
   "metadata": {},
   "source": [
    "**Вывод**\n",
    "\n",
    "Распределения трафика и минут разговора близки к нормальным; сообщений - к распределению Пуассона. Однако во всех случаях, графики для ultra имеют большее значение стандартного отклонения, за счет чего гистограммы получаются более \"пологими\"\n",
    "\n",
    "Несмотря на то, что в тариф Ultra включено 3000 минут разговора, количество пользователей, использоваших хотя бы половину из этого лимита, крайне мало (по правилу трех сигм - верхняя граница составляет около 1500 минут). В случае же Smart'a: превышение лимита в 500 минут - распространенная ситуация.\n",
    "\n",
    "Большинство пользователей Ultra расходуют не больше гигабайт, чем включено в тариф. При этом, выход за пределы 30 Гб не является редкостью. В случае пользователей Smart: среднее превышает включенный тарифный план, потому на основе данной выборки можно сказать, что около половины пользователей доплачивают за продление трафика.\n",
    "\n",
    "Ситуация с сообщениями аналогична ситуации с минутами для пользователей тарифа Ultra - в подавляющем большинстве пользователи не пишут более 200 сообщений в месяц и, следовательно, лимита в 1000 - более, чем достаточно. Пользователи Smart более, чем в половине случаев укладываются в тарифный план, но и достаточно часто выходят за его предел."
   ]
  },
  {
   "cell_type": "markdown",
   "metadata": {},
   "source": [
    "## Проверка гипотез"
   ]
  },
  {
   "cell_type": "markdown",
   "metadata": {},
   "source": [
    "### Средняя выручка пользователей тарифов Smart и Ultra различается"
   ]
  },
  {
   "cell_type": "markdown",
   "metadata": {},
   "source": [
    "Сформулируем гипотезы:\n",
    "\n",
    "* Нулевая гипотеза - средняя выручка пользвателей двух тарифов не различается;\n",
    "* Альтернативная - средняя выручка пользователей двух тарифов различается.\n",
    "\n",
    "Как мы значем из предыдущей главы, пользователям Smart чаще не было достаточно лимитов, чем пользователям Ultra, потому дисперсия цены у интересующих нас массивов будет отличаться. При проведении t-теста зададим параметр equal_var=False"
   ]
  },
  {
   "cell_type": "code",
   "execution_count": 24,
   "metadata": {},
   "outputs": [
    {
     "name": "stdout",
     "output_type": "stream",
     "text": [
      "p-значение: 4.2606313931076085e-250\n",
      "Отвергаем нулевую гипотезу\n"
     ]
    }
   ],
   "source": [
    "from scipy import stats as st\n",
    "alpha = 0.05 #зададим критический уровень значимости\n",
    "result = st.ttest_ind(df_ultra['rub_monthly_fee'], df_smart['rub_monthly_fee'], equal_var=False)\n",
    "print('p-значение:', result.pvalue)\n",
    "if result.pvalue < alpha:\n",
    "    print('Отвергаем нулевую гипотезу')\n",
    "else:\n",
    "    print('Не получилось отвергнуть нулевую гипотезу')"
   ]
  },
  {
   "cell_type": "markdown",
   "metadata": {},
   "source": [
    "**Вывод**\n",
    "\n",
    "Нулевая гипотеза о равенстве средней выручки пользователей тарифов Smart и Ultra отвергнута. Таким образом, альтернативная гипотеза о различии средних выручек не отвергается."
   ]
  },
  {
   "cell_type": "markdown",
   "metadata": {},
   "source": [
    "### Средняя выручка пользователей из Москвы отличается от выручки пользователей из других регионов."
   ]
  },
  {
   "cell_type": "markdown",
   "metadata": {},
   "source": [
    "Добавим в наш датафрейм (полученный в результате действий во второй главе) столбец с городом пользователя:"
   ]
  },
  {
   "cell_type": "code",
   "execution_count": 25,
   "metadata": {},
   "outputs": [
    {
     "data": {
      "text/html": [
       "<div>\n",
       "<style scoped>\n",
       "    .dataframe tbody tr th:only-of-type {\n",
       "        vertical-align: middle;\n",
       "    }\n",
       "\n",
       "    .dataframe tbody tr th {\n",
       "        vertical-align: top;\n",
       "    }\n",
       "\n",
       "    .dataframe thead th {\n",
       "        text-align: right;\n",
       "    }\n",
       "</style>\n",
       "<table border=\"1\" class=\"dataframe\">\n",
       "  <thead>\n",
       "    <tr style=\"text-align: right;\">\n",
       "      <th></th>\n",
       "      <th>user_id</th>\n",
       "      <th>month</th>\n",
       "      <th>count_calls</th>\n",
       "      <th>sum_duration</th>\n",
       "      <th>id</th>\n",
       "      <th>gb_used</th>\n",
       "      <th>tariff_name</th>\n",
       "      <th>rub_monthly_fee</th>\n",
       "      <th>city</th>\n",
       "    </tr>\n",
       "  </thead>\n",
       "  <tbody>\n",
       "    <tr>\n",
       "      <td>0</td>\n",
       "      <td>1000</td>\n",
       "      <td>5</td>\n",
       "      <td>22.0</td>\n",
       "      <td>159.0</td>\n",
       "      <td>22.0</td>\n",
       "      <td>3</td>\n",
       "      <td>ultra</td>\n",
       "      <td>1950.0</td>\n",
       "      <td>Краснодар</td>\n",
       "    </tr>\n",
       "    <tr>\n",
       "      <td>1</td>\n",
       "      <td>1000</td>\n",
       "      <td>6</td>\n",
       "      <td>43.0</td>\n",
       "      <td>172.0</td>\n",
       "      <td>60.0</td>\n",
       "      <td>23</td>\n",
       "      <td>ultra</td>\n",
       "      <td>1950.0</td>\n",
       "      <td>Краснодар</td>\n",
       "    </tr>\n",
       "    <tr>\n",
       "      <td>2</td>\n",
       "      <td>1000</td>\n",
       "      <td>7</td>\n",
       "      <td>47.0</td>\n",
       "      <td>340.0</td>\n",
       "      <td>75.0</td>\n",
       "      <td>14</td>\n",
       "      <td>ultra</td>\n",
       "      <td>1950.0</td>\n",
       "      <td>Краснодар</td>\n",
       "    </tr>\n",
       "    <tr>\n",
       "      <td>3</td>\n",
       "      <td>1000</td>\n",
       "      <td>8</td>\n",
       "      <td>52.0</td>\n",
       "      <td>408.0</td>\n",
       "      <td>81.0</td>\n",
       "      <td>14</td>\n",
       "      <td>ultra</td>\n",
       "      <td>1950.0</td>\n",
       "      <td>Краснодар</td>\n",
       "    </tr>\n",
       "    <tr>\n",
       "      <td>4</td>\n",
       "      <td>1000</td>\n",
       "      <td>9</td>\n",
       "      <td>58.0</td>\n",
       "      <td>466.0</td>\n",
       "      <td>57.0</td>\n",
       "      <td>15</td>\n",
       "      <td>ultra</td>\n",
       "      <td>1950.0</td>\n",
       "      <td>Краснодар</td>\n",
       "    </tr>\n",
       "    <tr>\n",
       "      <td>...</td>\n",
       "      <td>...</td>\n",
       "      <td>...</td>\n",
       "      <td>...</td>\n",
       "      <td>...</td>\n",
       "      <td>...</td>\n",
       "      <td>...</td>\n",
       "      <td>...</td>\n",
       "      <td>...</td>\n",
       "      <td>...</td>\n",
       "    </tr>\n",
       "    <tr>\n",
       "      <td>3209</td>\n",
       "      <td>1498</td>\n",
       "      <td>10</td>\n",
       "      <td>41.0</td>\n",
       "      <td>247.0</td>\n",
       "      <td>42.0</td>\n",
       "      <td>21</td>\n",
       "      <td>smart</td>\n",
       "      <td>1750.0</td>\n",
       "      <td>Владикавказ</td>\n",
       "    </tr>\n",
       "    <tr>\n",
       "      <td>3210</td>\n",
       "      <td>1499</td>\n",
       "      <td>9</td>\n",
       "      <td>9.0</td>\n",
       "      <td>70.0</td>\n",
       "      <td>11.0</td>\n",
       "      <td>2</td>\n",
       "      <td>smart</td>\n",
       "      <td>550.0</td>\n",
       "      <td>Пермь</td>\n",
       "    </tr>\n",
       "    <tr>\n",
       "      <td>3211</td>\n",
       "      <td>1499</td>\n",
       "      <td>10</td>\n",
       "      <td>68.0</td>\n",
       "      <td>449.0</td>\n",
       "      <td>48.0</td>\n",
       "      <td>18</td>\n",
       "      <td>smart</td>\n",
       "      <td>1150.0</td>\n",
       "      <td>Пермь</td>\n",
       "    </tr>\n",
       "    <tr>\n",
       "      <td>3212</td>\n",
       "      <td>1499</td>\n",
       "      <td>11</td>\n",
       "      <td>74.0</td>\n",
       "      <td>612.0</td>\n",
       "      <td>59.0</td>\n",
       "      <td>18</td>\n",
       "      <td>smart</td>\n",
       "      <td>1513.0</td>\n",
       "      <td>Пермь</td>\n",
       "    </tr>\n",
       "    <tr>\n",
       "      <td>3213</td>\n",
       "      <td>1499</td>\n",
       "      <td>12</td>\n",
       "      <td>69.0</td>\n",
       "      <td>492.0</td>\n",
       "      <td>66.0</td>\n",
       "      <td>13</td>\n",
       "      <td>smart</td>\n",
       "      <td>598.0</td>\n",
       "      <td>Пермь</td>\n",
       "    </tr>\n",
       "  </tbody>\n",
       "</table>\n",
       "<p>3214 rows × 9 columns</p>\n",
       "</div>"
      ],
      "text/plain": [
       "      user_id  month  count_calls  sum_duration    id  gb_used tariff_name  \\\n",
       "0        1000      5         22.0         159.0  22.0        3       ultra   \n",
       "1        1000      6         43.0         172.0  60.0       23       ultra   \n",
       "2        1000      7         47.0         340.0  75.0       14       ultra   \n",
       "3        1000      8         52.0         408.0  81.0       14       ultra   \n",
       "4        1000      9         58.0         466.0  57.0       15       ultra   \n",
       "...       ...    ...          ...           ...   ...      ...         ...   \n",
       "3209     1498     10         41.0         247.0  42.0       21       smart   \n",
       "3210     1499      9          9.0          70.0  11.0        2       smart   \n",
       "3211     1499     10         68.0         449.0  48.0       18       smart   \n",
       "3212     1499     11         74.0         612.0  59.0       18       smart   \n",
       "3213     1499     12         69.0         492.0  66.0       13       smart   \n",
       "\n",
       "      rub_monthly_fee         city  \n",
       "0              1950.0    Краснодар  \n",
       "1              1950.0    Краснодар  \n",
       "2              1950.0    Краснодар  \n",
       "3              1950.0    Краснодар  \n",
       "4              1950.0    Краснодар  \n",
       "...               ...          ...  \n",
       "3209           1750.0  Владикавказ  \n",
       "3210            550.0        Пермь  \n",
       "3211           1150.0        Пермь  \n",
       "3212           1513.0        Пермь  \n",
       "3213            598.0        Пермь  \n",
       "\n",
       "[3214 rows x 9 columns]"
      ]
     },
     "metadata": {},
     "output_type": "display_data"
    }
   ],
   "source": [
    "df = df.merge(users[['user_id','city']], on='user_id')\n",
    "display(df) #выведем его на экран"
   ]
  },
  {
   "cell_type": "markdown",
   "metadata": {},
   "source": [
    "Разделим его на 2 новых датафрейма: в одном будут пользователи из Москвы, во втором - не из Москвы:"
   ]
  },
  {
   "cell_type": "code",
   "execution_count": 26,
   "metadata": {},
   "outputs": [],
   "source": [
    "df_capital = df[df['city'] == 'Москва']\n",
    "df_province = df[df['city'] != 'Москва']"
   ]
  },
  {
   "cell_type": "markdown",
   "metadata": {},
   "source": [
    "Теперь сформулируем гипотезы:\n",
    "\n",
    "* Нулевая гипотеза - средняя выручка москвичей не отличается от выручки пользователей из других городов\n",
    "* Альтернативная гипотеза - средняя выручка москвичей отличается от выручки пользователей из других городов\n",
    "\n",
    "Для точности исследования зададим equal_var=False"
   ]
  },
  {
   "cell_type": "code",
   "execution_count": 27,
   "metadata": {},
   "outputs": [
    {
     "name": "stdout",
     "output_type": "stream",
     "text": [
      "p-значение: 0.5257376663729298\n",
      "Не получилось отвергнуть нулевую гипотезу\n"
     ]
    }
   ],
   "source": [
    "alpha = 0.05 #зададим критический уровень значимости\n",
    "result = st.ttest_ind(df_capital['rub_monthly_fee'], df_province['rub_monthly_fee'], equal_var=False)\n",
    "print('p-значение:', result.pvalue)\n",
    "if result.pvalue < alpha:\n",
    "    print('Отвергаем нулевую гипотезу')\n",
    "else:\n",
    "    print('Не получилось отвергнуть нулевую гипотезу')"
   ]
  },
  {
   "cell_type": "markdown",
   "metadata": {},
   "source": [
    "**Вывод**\n",
    "\n",
    "P-значение оказалось выше критического уровня значимости и составило 0,53. Таким образом, нулевая гипотеза о равенстве средней выручки столичных пользвателей и пользователей из других городов не отвергнута. Альтернативная же - отвергнута."
   ]
  },
  {
   "cell_type": "markdown",
   "metadata": {},
   "source": [
    "## Общий вывод\n",
    "\n",
    "В ходе выполнения работы были исследованы 5 датафреймов с информацией о пользователях телеком-компании \"Мегалайн\". Далее были произведены определенные математические расчеты, после чего интересующие нас значения были добавлены в новый датафрейм. На основе данных новой таблицы были построены гистограммы, определены средние, дисперсии и стандартные отклонения требуемых величин. \n",
    "\n",
    "После была произведена проверка гипотез. Мы отвергли гипотезу о том, что средние выручки пользователей разных тарифов не отличаются, и не отвергли гипотезу о равенстве средних выручек пользователей из Москвы и других городов."
   ]
  }
 ],
 "metadata": {
  "ExecuteTimeLog": [
   {
    "duration": 764,
    "start_time": "2021-12-24T17:55:24.859Z"
   },
   {
    "duration": 224,
    "start_time": "2021-12-24T17:55:49.919Z"
   },
   {
    "duration": 509,
    "start_time": "2021-12-24T17:56:14.547Z"
   },
   {
    "duration": 174,
    "start_time": "2021-12-24T17:56:21.419Z"
   },
   {
    "duration": 1782,
    "start_time": "2021-12-24T17:57:11.582Z"
   },
   {
    "duration": 130,
    "start_time": "2021-12-24T17:57:34.609Z"
   },
   {
    "duration": 94,
    "start_time": "2021-12-24T17:59:10.763Z"
   },
   {
    "duration": 153,
    "start_time": "2021-12-24T18:00:37.441Z"
   },
   {
    "duration": 108,
    "start_time": "2021-12-24T18:00:46.256Z"
   },
   {
    "duration": 26,
    "start_time": "2021-12-24T18:01:54.991Z"
   },
   {
    "duration": 22,
    "start_time": "2021-12-24T18:02:16.468Z"
   },
   {
    "duration": 34,
    "start_time": "2021-12-24T18:03:09.920Z"
   },
   {
    "duration": 37,
    "start_time": "2021-12-24T18:03:31.133Z"
   },
   {
    "duration": 968,
    "start_time": "2021-12-25T12:10:27.560Z"
   },
   {
    "duration": 193,
    "start_time": "2021-12-25T12:10:28.532Z"
   },
   {
    "duration": 135,
    "start_time": "2021-12-25T12:10:28.729Z"
   },
   {
    "duration": 25,
    "start_time": "2021-12-25T12:10:28.867Z"
   },
   {
    "duration": 45,
    "start_time": "2021-12-25T12:10:28.895Z"
   },
   {
    "duration": 1013,
    "start_time": "2021-12-25T12:14:43.540Z"
   },
   {
    "duration": 188,
    "start_time": "2021-12-25T12:14:44.556Z"
   },
   {
    "duration": 122,
    "start_time": "2021-12-25T12:14:44.747Z"
   },
   {
    "duration": 23,
    "start_time": "2021-12-25T12:14:44.871Z"
   },
   {
    "duration": 45,
    "start_time": "2021-12-25T12:14:44.896Z"
   },
   {
    "duration": 133,
    "start_time": "2021-12-25T12:21:49.266Z"
   },
   {
    "duration": 28,
    "start_time": "2021-12-25T12:22:13.712Z"
   },
   {
    "duration": 44,
    "start_time": "2021-12-25T12:22:33.161Z"
   },
   {
    "duration": 4,
    "start_time": "2021-12-25T12:25:26.781Z"
   },
   {
    "duration": 213,
    "start_time": "2021-12-25T12:25:28.461Z"
   },
   {
    "duration": 237,
    "start_time": "2021-12-25T12:28:56.261Z"
   },
   {
    "duration": 211,
    "start_time": "2021-12-25T12:43:38.312Z"
   },
   {
    "duration": 150,
    "start_time": "2021-12-25T12:58:06.591Z"
   },
   {
    "duration": 481,
    "start_time": "2021-12-25T13:16:54.361Z"
   },
   {
    "duration": 29,
    "start_time": "2021-12-25T13:17:07.764Z"
   },
   {
    "duration": 6,
    "start_time": "2021-12-25T16:14:13.482Z"
   },
   {
    "duration": 34,
    "start_time": "2021-12-25T16:14:34.556Z"
   },
   {
    "duration": 52,
    "start_time": "2021-12-25T16:20:54.978Z"
   },
   {
    "duration": 12,
    "start_time": "2021-12-25T16:21:35.127Z"
   },
   {
    "duration": 12,
    "start_time": "2021-12-25T16:21:55.357Z"
   },
   {
    "duration": 19,
    "start_time": "2021-12-25T16:23:01.323Z"
   },
   {
    "duration": 22,
    "start_time": "2021-12-25T16:23:15.048Z"
   },
   {
    "duration": 28,
    "start_time": "2021-12-25T16:23:35.278Z"
   },
   {
    "duration": 22,
    "start_time": "2021-12-25T16:23:44.125Z"
   },
   {
    "duration": 11,
    "start_time": "2021-12-25T16:28:16.727Z"
   },
   {
    "duration": 54,
    "start_time": "2021-12-25T16:30:07.424Z"
   },
   {
    "duration": 56,
    "start_time": "2021-12-25T16:31:04.952Z"
   },
   {
    "duration": 5,
    "start_time": "2021-12-25T16:36:47.668Z"
   },
   {
    "duration": 7,
    "start_time": "2021-12-25T16:37:21.322Z"
   },
   {
    "duration": 31,
    "start_time": "2021-12-25T16:56:13.107Z"
   },
   {
    "duration": 70,
    "start_time": "2021-12-25T16:59:28.044Z"
   },
   {
    "duration": 6,
    "start_time": "2021-12-25T18:26:28.322Z"
   },
   {
    "duration": 15,
    "start_time": "2021-12-25T18:27:00.665Z"
   },
   {
    "duration": 18,
    "start_time": "2021-12-25T18:27:24.347Z"
   },
   {
    "duration": 16,
    "start_time": "2021-12-25T18:28:22.015Z"
   },
   {
    "duration": 287,
    "start_time": "2021-12-25T18:47:49.763Z"
   },
   {
    "duration": 301,
    "start_time": "2021-12-25T18:48:01.794Z"
   },
   {
    "duration": 18,
    "start_time": "2021-12-25T18:48:22.836Z"
   },
   {
    "duration": 330,
    "start_time": "2021-12-25T18:48:35.537Z"
   },
   {
    "duration": 786,
    "start_time": "2021-12-25T18:48:45.061Z"
   },
   {
    "duration": 241,
    "start_time": "2021-12-25T18:48:45.850Z"
   },
   {
    "duration": 201,
    "start_time": "2021-12-25T18:48:46.094Z"
   },
   {
    "duration": 145,
    "start_time": "2021-12-25T18:48:46.297Z"
   },
   {
    "duration": 29,
    "start_time": "2021-12-25T18:48:46.444Z"
   },
   {
    "duration": 40,
    "start_time": "2021-12-25T18:48:46.475Z"
   },
   {
    "duration": 97,
    "start_time": "2021-12-25T18:48:46.517Z"
   },
   {
    "duration": 11,
    "start_time": "2021-12-25T18:48:46.617Z"
   },
   {
    "duration": 69,
    "start_time": "2021-12-25T18:48:46.631Z"
   },
   {
    "duration": 33,
    "start_time": "2021-12-25T18:48:46.702Z"
   },
   {
    "duration": 19,
    "start_time": "2021-12-25T18:48:46.737Z"
   },
   {
    "duration": 37,
    "start_time": "2021-12-25T19:09:50.863Z"
   },
   {
    "duration": 401,
    "start_time": "2021-12-25T19:10:01.334Z"
   },
   {
    "duration": 894,
    "start_time": "2021-12-25T19:10:21.192Z"
   },
   {
    "duration": 254,
    "start_time": "2021-12-25T19:10:22.089Z"
   },
   {
    "duration": 221,
    "start_time": "2021-12-25T19:10:22.346Z"
   },
   {
    "duration": 141,
    "start_time": "2021-12-25T19:10:22.569Z"
   },
   {
    "duration": 29,
    "start_time": "2021-12-25T19:10:22.712Z"
   },
   {
    "duration": 43,
    "start_time": "2021-12-25T19:10:22.743Z"
   },
   {
    "duration": 101,
    "start_time": "2021-12-25T19:10:22.789Z"
   },
   {
    "duration": 32,
    "start_time": "2021-12-25T19:10:22.893Z"
   },
   {
    "duration": 124,
    "start_time": "2021-12-25T19:10:22.928Z"
   },
   {
    "duration": 17,
    "start_time": "2021-12-25T19:10:23.055Z"
   },
   {
    "duration": 20,
    "start_time": "2021-12-25T19:10:23.074Z"
   },
   {
    "duration": 76,
    "start_time": "2021-12-25T19:10:23.096Z"
   },
   {
    "duration": 27,
    "start_time": "2021-12-25T19:14:47.996Z"
   },
   {
    "duration": 38,
    "start_time": "2021-12-25T19:17:15.076Z"
   },
   {
    "duration": 811,
    "start_time": "2021-12-25T19:19:54.440Z"
   },
   {
    "duration": 243,
    "start_time": "2021-12-25T19:19:55.254Z"
   },
   {
    "duration": 203,
    "start_time": "2021-12-25T19:19:55.500Z"
   },
   {
    "duration": 134,
    "start_time": "2021-12-25T19:19:55.706Z"
   },
   {
    "duration": 29,
    "start_time": "2021-12-25T19:19:55.843Z"
   },
   {
    "duration": 40,
    "start_time": "2021-12-25T19:19:55.874Z"
   },
   {
    "duration": 90,
    "start_time": "2021-12-25T19:19:55.923Z"
   },
   {
    "duration": 8,
    "start_time": "2021-12-25T19:19:56.023Z"
   },
   {
    "duration": 68,
    "start_time": "2021-12-25T19:19:56.033Z"
   },
   {
    "duration": 30,
    "start_time": "2021-12-25T19:19:56.104Z"
   },
   {
    "duration": 20,
    "start_time": "2021-12-25T19:19:56.137Z"
   },
   {
    "duration": 85,
    "start_time": "2021-12-25T19:19:56.160Z"
   },
   {
    "duration": 383,
    "start_time": "2021-12-25T19:19:56.248Z"
   },
   {
    "duration": -1377,
    "start_time": "2021-12-25T19:19:58.010Z"
   },
   {
    "duration": 965,
    "start_time": "2021-12-25T19:31:16.008Z"
   },
   {
    "duration": 292,
    "start_time": "2021-12-25T19:31:16.976Z"
   },
   {
    "duration": 219,
    "start_time": "2021-12-25T19:31:17.271Z"
   },
   {
    "duration": 165,
    "start_time": "2021-12-25T19:31:17.493Z"
   },
   {
    "duration": 31,
    "start_time": "2021-12-25T19:31:17.661Z"
   },
   {
    "duration": 40,
    "start_time": "2021-12-25T19:31:17.695Z"
   },
   {
    "duration": 132,
    "start_time": "2021-12-25T19:31:17.738Z"
   },
   {
    "duration": 8,
    "start_time": "2021-12-25T19:31:17.874Z"
   },
   {
    "duration": 91,
    "start_time": "2021-12-25T19:31:17.885Z"
   },
   {
    "duration": 15,
    "start_time": "2021-12-25T19:31:17.979Z"
   },
   {
    "duration": 35,
    "start_time": "2021-12-25T19:31:17.997Z"
   },
   {
    "duration": 54,
    "start_time": "2021-12-25T19:31:18.034Z"
   },
   {
    "duration": 55,
    "start_time": "2021-12-25T19:31:18.091Z"
   },
   {
    "duration": 54,
    "start_time": "2021-12-25T19:31:18.149Z"
   },
   {
    "duration": 828,
    "start_time": "2021-12-25T19:33:02.439Z"
   },
   {
    "duration": 262,
    "start_time": "2021-12-25T19:33:03.270Z"
   },
   {
    "duration": 217,
    "start_time": "2021-12-25T19:33:03.541Z"
   },
   {
    "duration": 149,
    "start_time": "2021-12-25T19:33:03.761Z"
   },
   {
    "duration": 31,
    "start_time": "2021-12-25T19:33:03.913Z"
   },
   {
    "duration": 43,
    "start_time": "2021-12-25T19:33:03.947Z"
   },
   {
    "duration": 120,
    "start_time": "2021-12-25T19:33:03.995Z"
   },
   {
    "duration": 12,
    "start_time": "2021-12-25T19:33:04.118Z"
   },
   {
    "duration": 93,
    "start_time": "2021-12-25T19:33:04.133Z"
   },
   {
    "duration": 18,
    "start_time": "2021-12-25T19:33:04.228Z"
   },
   {
    "duration": 21,
    "start_time": "2021-12-25T19:33:04.248Z"
   },
   {
    "duration": 451,
    "start_time": "2021-12-25T19:33:04.271Z"
   },
   {
    "duration": -1371,
    "start_time": "2021-12-25T19:33:06.096Z"
   },
   {
    "duration": -1372,
    "start_time": "2021-12-25T19:33:06.100Z"
   },
   {
    "duration": 281,
    "start_time": "2021-12-25T19:34:52.517Z"
   },
   {
    "duration": 815,
    "start_time": "2021-12-25T19:35:30.533Z"
   },
   {
    "duration": 246,
    "start_time": "2021-12-25T19:35:31.351Z"
   },
   {
    "duration": 211,
    "start_time": "2021-12-25T19:35:31.600Z"
   },
   {
    "duration": 143,
    "start_time": "2021-12-25T19:35:31.813Z"
   },
   {
    "duration": 29,
    "start_time": "2021-12-25T19:35:31.959Z"
   },
   {
    "duration": 42,
    "start_time": "2021-12-25T19:35:31.990Z"
   },
   {
    "duration": 105,
    "start_time": "2021-12-25T19:35:32.034Z"
   },
   {
    "duration": 8,
    "start_time": "2021-12-25T19:35:32.142Z"
   },
   {
    "duration": 81,
    "start_time": "2021-12-25T19:35:32.152Z"
   },
   {
    "duration": 16,
    "start_time": "2021-12-25T19:35:32.235Z"
   },
   {
    "duration": 19,
    "start_time": "2021-12-25T19:35:32.253Z"
   },
   {
    "duration": 100,
    "start_time": "2021-12-25T19:35:32.274Z"
   },
   {
    "duration": -1379,
    "start_time": "2021-12-25T19:35:33.755Z"
   },
   {
    "duration": -1382,
    "start_time": "2021-12-25T19:35:33.759Z"
   },
   {
    "duration": 120,
    "start_time": "2021-12-25T19:38:06.831Z"
   },
   {
    "duration": 50,
    "start_time": "2021-12-25T19:38:17.387Z"
   },
   {
    "duration": 27,
    "start_time": "2021-12-25T19:39:29.623Z"
   },
   {
    "duration": 44,
    "start_time": "2021-12-25T19:41:02.108Z"
   },
   {
    "duration": 17,
    "start_time": "2021-12-25T19:49:35.785Z"
   },
   {
    "duration": 32,
    "start_time": "2021-12-25T19:49:46.414Z"
   },
   {
    "duration": 425,
    "start_time": "2021-12-25T19:50:13.992Z"
   },
   {
    "duration": 285,
    "start_time": "2021-12-25T19:50:34.885Z"
   },
   {
    "duration": 800,
    "start_time": "2021-12-25T19:50:41.961Z"
   },
   {
    "duration": 249,
    "start_time": "2021-12-25T19:50:42.764Z"
   },
   {
    "duration": 234,
    "start_time": "2021-12-25T19:50:43.027Z"
   },
   {
    "duration": 184,
    "start_time": "2021-12-25T19:50:43.263Z"
   },
   {
    "duration": 37,
    "start_time": "2021-12-25T19:50:43.451Z"
   },
   {
    "duration": 45,
    "start_time": "2021-12-25T19:50:43.491Z"
   },
   {
    "duration": 101,
    "start_time": "2021-12-25T19:50:43.539Z"
   },
   {
    "duration": 7,
    "start_time": "2021-12-25T19:50:43.643Z"
   },
   {
    "duration": 88,
    "start_time": "2021-12-25T19:50:43.653Z"
   },
   {
    "duration": 18,
    "start_time": "2021-12-25T19:50:43.744Z"
   },
   {
    "duration": 21,
    "start_time": "2021-12-25T19:50:43.764Z"
   },
   {
    "duration": 74,
    "start_time": "2021-12-25T19:50:43.787Z"
   },
   {
    "duration": 28,
    "start_time": "2021-12-25T19:50:43.864Z"
   },
   {
    "duration": 38,
    "start_time": "2021-12-25T19:50:43.923Z"
   },
   {
    "duration": 418,
    "start_time": "2021-12-25T19:50:43.964Z"
   },
   {
    "duration": 38,
    "start_time": "2021-12-25T19:50:54.166Z"
   },
   {
    "duration": 306,
    "start_time": "2021-12-25T19:53:09.346Z"
   },
   {
    "duration": 819,
    "start_time": "2021-12-25T19:53:14.835Z"
   },
   {
    "duration": 241,
    "start_time": "2021-12-25T19:53:15.657Z"
   },
   {
    "duration": 215,
    "start_time": "2021-12-25T19:53:15.901Z"
   },
   {
    "duration": 146,
    "start_time": "2021-12-25T19:53:16.124Z"
   },
   {
    "duration": 30,
    "start_time": "2021-12-25T19:53:16.273Z"
   },
   {
    "duration": 43,
    "start_time": "2021-12-25T19:53:16.306Z"
   },
   {
    "duration": 119,
    "start_time": "2021-12-25T19:53:16.352Z"
   },
   {
    "duration": 7,
    "start_time": "2021-12-25T19:53:16.474Z"
   },
   {
    "duration": 89,
    "start_time": "2021-12-25T19:53:16.485Z"
   },
   {
    "duration": 16,
    "start_time": "2021-12-25T19:53:16.577Z"
   },
   {
    "duration": 36,
    "start_time": "2021-12-25T19:53:16.595Z"
   },
   {
    "duration": 58,
    "start_time": "2021-12-25T19:53:16.633Z"
   },
   {
    "duration": 40,
    "start_time": "2021-12-25T19:53:16.693Z"
   },
   {
    "duration": 38,
    "start_time": "2021-12-25T19:53:16.735Z"
   },
   {
    "duration": 417,
    "start_time": "2021-12-25T19:53:16.775Z"
   },
   {
    "duration": 302,
    "start_time": "2021-12-25T19:53:37.003Z"
   },
   {
    "duration": 825,
    "start_time": "2021-12-25T19:53:41.884Z"
   },
   {
    "duration": 233,
    "start_time": "2021-12-25T19:53:42.712Z"
   },
   {
    "duration": 201,
    "start_time": "2021-12-25T19:53:42.949Z"
   },
   {
    "duration": 149,
    "start_time": "2021-12-25T19:53:43.155Z"
   },
   {
    "duration": 30,
    "start_time": "2021-12-25T19:53:43.307Z"
   },
   {
    "duration": 40,
    "start_time": "2021-12-25T19:53:43.339Z"
   },
   {
    "duration": 104,
    "start_time": "2021-12-25T19:53:43.381Z"
   },
   {
    "duration": 7,
    "start_time": "2021-12-25T19:53:43.488Z"
   },
   {
    "duration": 80,
    "start_time": "2021-12-25T19:53:43.498Z"
   },
   {
    "duration": 15,
    "start_time": "2021-12-25T19:53:43.580Z"
   },
   {
    "duration": 33,
    "start_time": "2021-12-25T19:53:43.597Z"
   },
   {
    "duration": 46,
    "start_time": "2021-12-25T19:53:43.632Z"
   },
   {
    "duration": 50,
    "start_time": "2021-12-25T19:53:43.681Z"
   },
   {
    "duration": 35,
    "start_time": "2021-12-25T19:53:43.733Z"
   },
   {
    "duration": 383,
    "start_time": "2021-12-25T19:53:43.770Z"
   },
   {
    "duration": 798,
    "start_time": "2021-12-25T19:55:10.050Z"
   },
   {
    "duration": 242,
    "start_time": "2021-12-25T19:55:10.851Z"
   },
   {
    "duration": 316,
    "start_time": "2021-12-25T19:55:11.096Z"
   },
   {
    "duration": 142,
    "start_time": "2021-12-25T19:55:11.422Z"
   },
   {
    "duration": 29,
    "start_time": "2021-12-25T19:55:11.566Z"
   },
   {
    "duration": 41,
    "start_time": "2021-12-25T19:55:11.597Z"
   },
   {
    "duration": 106,
    "start_time": "2021-12-25T19:55:11.640Z"
   },
   {
    "duration": 7,
    "start_time": "2021-12-25T19:55:11.750Z"
   },
   {
    "duration": 89,
    "start_time": "2021-12-25T19:55:11.761Z"
   },
   {
    "duration": 18,
    "start_time": "2021-12-25T19:55:11.852Z"
   },
   {
    "duration": 19,
    "start_time": "2021-12-25T19:55:11.873Z"
   },
   {
    "duration": 50,
    "start_time": "2021-12-25T19:55:11.924Z"
   },
   {
    "duration": 52,
    "start_time": "2021-12-25T19:55:11.977Z"
   },
   {
    "duration": 38,
    "start_time": "2021-12-25T19:55:12.032Z"
   },
   {
    "duration": 375,
    "start_time": "2021-12-25T19:55:12.073Z"
   },
   {
    "duration": 846,
    "start_time": "2021-12-25T19:55:36.292Z"
   },
   {
    "duration": 246,
    "start_time": "2021-12-25T19:55:37.141Z"
   },
   {
    "duration": 198,
    "start_time": "2021-12-25T19:55:37.390Z"
   },
   {
    "duration": 145,
    "start_time": "2021-12-25T19:55:37.591Z"
   },
   {
    "duration": 30,
    "start_time": "2021-12-25T19:55:37.739Z"
   },
   {
    "duration": 51,
    "start_time": "2021-12-25T19:55:37.772Z"
   },
   {
    "duration": 105,
    "start_time": "2021-12-25T19:55:37.826Z"
   },
   {
    "duration": 8,
    "start_time": "2021-12-25T19:55:37.935Z"
   },
   {
    "duration": 90,
    "start_time": "2021-12-25T19:55:37.946Z"
   },
   {
    "duration": 17,
    "start_time": "2021-12-25T19:55:38.039Z"
   },
   {
    "duration": 19,
    "start_time": "2021-12-25T19:55:38.058Z"
   },
   {
    "duration": 73,
    "start_time": "2021-12-25T19:55:38.080Z"
   },
   {
    "duration": 28,
    "start_time": "2021-12-25T19:55:38.155Z"
   },
   {
    "duration": 61,
    "start_time": "2021-12-25T19:55:38.185Z"
   },
   {
    "duration": 384,
    "start_time": "2021-12-25T19:55:38.248Z"
   },
   {
    "duration": 16,
    "start_time": "2021-12-25T19:56:14.772Z"
   },
   {
    "duration": 295,
    "start_time": "2021-12-25T19:57:11.281Z"
   },
   {
    "duration": 32,
    "start_time": "2021-12-25T19:57:17.623Z"
   },
   {
    "duration": 859,
    "start_time": "2021-12-26T13:05:28.380Z"
   },
   {
    "duration": 264,
    "start_time": "2021-12-26T13:05:29.242Z"
   },
   {
    "duration": 210,
    "start_time": "2021-12-26T13:05:29.510Z"
   },
   {
    "duration": 166,
    "start_time": "2021-12-26T13:05:29.723Z"
   },
   {
    "duration": 35,
    "start_time": "2021-12-26T13:05:29.892Z"
   },
   {
    "duration": 82,
    "start_time": "2021-12-26T13:05:29.930Z"
   },
   {
    "duration": 102,
    "start_time": "2021-12-26T13:05:30.014Z"
   },
   {
    "duration": 8,
    "start_time": "2021-12-26T13:05:30.118Z"
   },
   {
    "duration": 87,
    "start_time": "2021-12-26T13:05:30.130Z"
   },
   {
    "duration": 16,
    "start_time": "2021-12-26T13:05:30.219Z"
   },
   {
    "duration": 35,
    "start_time": "2021-12-26T13:05:30.238Z"
   },
   {
    "duration": 47,
    "start_time": "2021-12-26T13:05:30.276Z"
   },
   {
    "duration": 55,
    "start_time": "2021-12-26T13:05:30.326Z"
   },
   {
    "duration": 39,
    "start_time": "2021-12-26T13:05:30.383Z"
   },
   {
    "duration": 68,
    "start_time": "2021-12-26T13:05:30.424Z"
   },
   {
    "duration": 32,
    "start_time": "2021-12-26T13:07:30.208Z"
   },
   {
    "duration": 124,
    "start_time": "2021-12-26T13:07:56.428Z"
   },
   {
    "duration": 33,
    "start_time": "2021-12-26T13:08:21.064Z"
   },
   {
    "duration": 515,
    "start_time": "2021-12-26T13:08:45.811Z"
   },
   {
    "duration": 365,
    "start_time": "2021-12-26T13:09:43.136Z"
   },
   {
    "duration": 32,
    "start_time": "2021-12-26T13:12:32.472Z"
   },
   {
    "duration": 441,
    "start_time": "2021-12-26T13:21:33.516Z"
   },
   {
    "duration": 423,
    "start_time": "2021-12-26T13:21:46.836Z"
   },
   {
    "duration": 905,
    "start_time": "2021-12-26T13:21:58.925Z"
   },
   {
    "duration": 379,
    "start_time": "2021-12-26T13:21:59.832Z"
   },
   {
    "duration": 277,
    "start_time": "2021-12-26T13:22:00.215Z"
   },
   {
    "duration": 168,
    "start_time": "2021-12-26T13:22:00.495Z"
   },
   {
    "duration": 35,
    "start_time": "2021-12-26T13:22:00.666Z"
   },
   {
    "duration": 73,
    "start_time": "2021-12-26T13:22:00.704Z"
   },
   {
    "duration": 118,
    "start_time": "2021-12-26T13:22:00.779Z"
   },
   {
    "duration": 8,
    "start_time": "2021-12-26T13:22:00.900Z"
   },
   {
    "duration": 102,
    "start_time": "2021-12-26T13:22:00.911Z"
   },
   {
    "duration": 22,
    "start_time": "2021-12-26T13:22:01.016Z"
   },
   {
    "duration": 33,
    "start_time": "2021-12-26T13:22:01.040Z"
   },
   {
    "duration": 1850,
    "start_time": "2021-12-26T13:22:01.077Z"
   },
   {
    "duration": -1190,
    "start_time": "2021-12-26T13:22:04.119Z"
   },
   {
    "duration": -1192,
    "start_time": "2021-12-26T13:22:04.123Z"
   },
   {
    "duration": -1195,
    "start_time": "2021-12-26T13:22:04.127Z"
   },
   {
    "duration": 470,
    "start_time": "2021-12-26T13:22:29.646Z"
   },
   {
    "duration": 876,
    "start_time": "2021-12-26T13:22:34.912Z"
   },
   {
    "duration": 272,
    "start_time": "2021-12-26T13:22:35.792Z"
   },
   {
    "duration": 318,
    "start_time": "2021-12-26T13:22:36.067Z"
   },
   {
    "duration": 147,
    "start_time": "2021-12-26T13:22:36.388Z"
   },
   {
    "duration": 33,
    "start_time": "2021-12-26T13:22:36.538Z"
   },
   {
    "duration": 60,
    "start_time": "2021-12-26T13:22:36.573Z"
   },
   {
    "duration": 98,
    "start_time": "2021-12-26T13:22:36.636Z"
   },
   {
    "duration": 8,
    "start_time": "2021-12-26T13:22:36.739Z"
   },
   {
    "duration": 78,
    "start_time": "2021-12-26T13:22:36.750Z"
   },
   {
    "duration": 30,
    "start_time": "2021-12-26T13:22:36.831Z"
   },
   {
    "duration": 18,
    "start_time": "2021-12-26T13:22:36.864Z"
   },
   {
    "duration": 48,
    "start_time": "2021-12-26T13:22:36.885Z"
   },
   {
    "duration": 50,
    "start_time": "2021-12-26T13:22:36.935Z"
   },
   {
    "duration": 26,
    "start_time": "2021-12-26T13:22:36.988Z"
   },
   {
    "duration": 686,
    "start_time": "2021-12-26T13:22:37.016Z"
   },
   {
    "duration": 1101,
    "start_time": "2021-12-26T13:23:18.169Z"
   },
   {
    "duration": 1167,
    "start_time": "2021-12-26T13:23:31.156Z"
   },
   {
    "duration": 268,
    "start_time": "2021-12-26T13:23:32.325Z"
   },
   {
    "duration": 264,
    "start_time": "2021-12-26T13:23:32.596Z"
   },
   {
    "duration": 153,
    "start_time": "2021-12-26T13:23:32.862Z"
   },
   {
    "duration": 33,
    "start_time": "2021-12-26T13:23:33.017Z"
   },
   {
    "duration": 59,
    "start_time": "2021-12-26T13:23:33.060Z"
   },
   {
    "duration": 104,
    "start_time": "2021-12-26T13:23:33.121Z"
   },
   {
    "duration": 7,
    "start_time": "2021-12-26T13:23:33.229Z"
   },
   {
    "duration": 84,
    "start_time": "2021-12-26T13:23:33.239Z"
   },
   {
    "duration": 33,
    "start_time": "2021-12-26T13:23:33.326Z"
   },
   {
    "duration": 19,
    "start_time": "2021-12-26T13:23:33.361Z"
   },
   {
    "duration": 48,
    "start_time": "2021-12-26T13:23:33.382Z"
   },
   {
    "duration": 47,
    "start_time": "2021-12-26T13:23:33.432Z"
   },
   {
    "duration": 28,
    "start_time": "2021-12-26T13:23:33.481Z"
   },
   {
    "duration": 647,
    "start_time": "2021-12-26T13:23:33.511Z"
   },
   {
    "duration": 48,
    "start_time": "2021-12-26T13:28:44.281Z"
   },
   {
    "duration": 367,
    "start_time": "2021-12-26T13:29:27.035Z"
   },
   {
    "duration": 79,
    "start_time": "2021-12-26T13:29:33.153Z"
   },
   {
    "duration": 453,
    "start_time": "2021-12-26T13:29:49.087Z"
   },
   {
    "duration": 543,
    "start_time": "2021-12-26T13:30:23.217Z"
   },
   {
    "duration": 882,
    "start_time": "2021-12-26T13:30:31.243Z"
   },
   {
    "duration": 251,
    "start_time": "2021-12-26T13:30:32.128Z"
   },
   {
    "duration": 199,
    "start_time": "2021-12-26T13:30:32.382Z"
   },
   {
    "duration": 150,
    "start_time": "2021-12-26T13:30:32.583Z"
   },
   {
    "duration": 33,
    "start_time": "2021-12-26T13:30:32.736Z"
   },
   {
    "duration": 102,
    "start_time": "2021-12-26T13:30:32.771Z"
   },
   {
    "duration": 104,
    "start_time": "2021-12-26T13:30:32.875Z"
   },
   {
    "duration": 8,
    "start_time": "2021-12-26T13:30:32.982Z"
   },
   {
    "duration": 88,
    "start_time": "2021-12-26T13:30:32.992Z"
   },
   {
    "duration": 21,
    "start_time": "2021-12-26T13:30:33.083Z"
   },
   {
    "duration": 19,
    "start_time": "2021-12-26T13:30:33.107Z"
   },
   {
    "duration": 71,
    "start_time": "2021-12-26T13:30:33.128Z"
   },
   {
    "duration": 28,
    "start_time": "2021-12-26T13:30:33.201Z"
   },
   {
    "duration": 49,
    "start_time": "2021-12-26T13:30:33.231Z"
   },
   {
    "duration": 45,
    "start_time": "2021-12-26T13:30:33.283Z"
   },
   {
    "duration": 88,
    "start_time": "2021-12-26T13:31:42.396Z"
   },
   {
    "duration": 507,
    "start_time": "2021-12-26T14:22:52.686Z"
   },
   {
    "duration": 527,
    "start_time": "2021-12-26T14:23:18.584Z"
   },
   {
    "duration": 449,
    "start_time": "2021-12-26T14:23:26.014Z"
   },
   {
    "duration": 7,
    "start_time": "2021-12-26T14:23:30.758Z"
   },
   {
    "duration": 32,
    "start_time": "2021-12-26T14:23:43.595Z"
   },
   {
    "duration": 23,
    "start_time": "2021-12-26T14:24:17.081Z"
   },
   {
    "duration": 23,
    "start_time": "2021-12-26T14:24:26.612Z"
   },
   {
    "duration": 114,
    "start_time": "2021-12-26T14:28:19.614Z"
   },
   {
    "duration": 148,
    "start_time": "2021-12-26T14:30:45.933Z"
   },
   {
    "duration": 212,
    "start_time": "2021-12-26T14:31:44.323Z"
   },
   {
    "duration": 3459,
    "start_time": "2021-12-26T14:31:53.663Z"
   },
   {
    "duration": 260,
    "start_time": "2021-12-26T14:31:57.125Z"
   },
   {
    "duration": 216,
    "start_time": "2021-12-26T14:31:57.388Z"
   },
   {
    "duration": 171,
    "start_time": "2021-12-26T14:31:57.608Z"
   },
   {
    "duration": 36,
    "start_time": "2021-12-26T14:31:57.782Z"
   },
   {
    "duration": 103,
    "start_time": "2021-12-26T14:31:57.820Z"
   },
   {
    "duration": 100,
    "start_time": "2021-12-26T14:31:57.927Z"
   },
   {
    "duration": 7,
    "start_time": "2021-12-26T14:31:58.032Z"
   },
   {
    "duration": 80,
    "start_time": "2021-12-26T14:31:58.042Z"
   },
   {
    "duration": 16,
    "start_time": "2021-12-26T14:31:58.124Z"
   },
   {
    "duration": 29,
    "start_time": "2021-12-26T14:31:58.143Z"
   },
   {
    "duration": 92,
    "start_time": "2021-12-26T14:31:58.175Z"
   },
   {
    "duration": 41,
    "start_time": "2021-12-26T14:31:58.271Z"
   },
   {
    "duration": 51,
    "start_time": "2021-12-26T14:31:58.315Z"
   },
   {
    "duration": 48,
    "start_time": "2021-12-26T14:31:58.368Z"
   },
   {
    "duration": 227,
    "start_time": "2021-12-26T14:31:58.419Z"
   },
   {
    "duration": 124,
    "start_time": "2021-12-26T14:33:56.137Z"
   },
   {
    "duration": 950,
    "start_time": "2021-12-26T14:34:03.462Z"
   },
   {
    "duration": 265,
    "start_time": "2021-12-26T14:34:04.415Z"
   },
   {
    "duration": 217,
    "start_time": "2021-12-26T14:34:04.683Z"
   },
   {
    "duration": 161,
    "start_time": "2021-12-26T14:34:04.903Z"
   },
   {
    "duration": 34,
    "start_time": "2021-12-26T14:34:05.067Z"
   },
   {
    "duration": 69,
    "start_time": "2021-12-26T14:34:05.103Z"
   },
   {
    "duration": 111,
    "start_time": "2021-12-26T14:34:05.174Z"
   },
   {
    "duration": 8,
    "start_time": "2021-12-26T14:34:05.289Z"
   },
   {
    "duration": 89,
    "start_time": "2021-12-26T14:34:05.299Z"
   },
   {
    "duration": 16,
    "start_time": "2021-12-26T14:34:05.390Z"
   },
   {
    "duration": 17,
    "start_time": "2021-12-26T14:34:05.408Z"
   },
   {
    "duration": 67,
    "start_time": "2021-12-26T14:34:05.428Z"
   },
   {
    "duration": 26,
    "start_time": "2021-12-26T14:34:05.497Z"
   },
   {
    "duration": 49,
    "start_time": "2021-12-26T14:34:05.525Z"
   },
   {
    "duration": 50,
    "start_time": "2021-12-26T14:34:05.576Z"
   },
   {
    "duration": 141,
    "start_time": "2021-12-26T14:34:05.629Z"
   },
   {
    "duration": 41,
    "start_time": "2021-12-26T14:43:18.187Z"
   },
   {
    "duration": 609,
    "start_time": "2021-12-26T14:43:38.752Z"
   },
   {
    "duration": 1128,
    "start_time": "2021-12-26T14:43:47.579Z"
   },
   {
    "duration": 272,
    "start_time": "2021-12-26T14:43:48.710Z"
   },
   {
    "duration": 228,
    "start_time": "2021-12-26T14:43:48.985Z"
   },
   {
    "duration": 158,
    "start_time": "2021-12-26T14:43:49.216Z"
   },
   {
    "duration": 34,
    "start_time": "2021-12-26T14:43:49.377Z"
   },
   {
    "duration": 92,
    "start_time": "2021-12-26T14:43:49.414Z"
   },
   {
    "duration": 99,
    "start_time": "2021-12-26T14:43:49.508Z"
   },
   {
    "duration": 8,
    "start_time": "2021-12-26T14:43:49.611Z"
   },
   {
    "duration": 83,
    "start_time": "2021-12-26T14:43:49.622Z"
   },
   {
    "duration": 17,
    "start_time": "2021-12-26T14:43:49.707Z"
   },
   {
    "duration": 40,
    "start_time": "2021-12-26T14:43:49.727Z"
   },
   {
    "duration": 51,
    "start_time": "2021-12-26T14:43:49.770Z"
   },
   {
    "duration": 48,
    "start_time": "2021-12-26T14:43:49.824Z"
   },
   {
    "duration": 34,
    "start_time": "2021-12-26T14:43:49.876Z"
   },
   {
    "duration": 89,
    "start_time": "2021-12-26T14:43:49.913Z"
   },
   {
    "duration": 185,
    "start_time": "2021-12-26T14:43:50.006Z"
   },
   {
    "duration": 479,
    "start_time": "2021-12-26T14:43:50.194Z"
   },
   {
    "duration": 31,
    "start_time": "2021-12-26T14:45:44.130Z"
   },
   {
    "duration": 854,
    "start_time": "2021-12-26T14:46:06.696Z"
   },
   {
    "duration": 270,
    "start_time": "2021-12-26T14:46:07.553Z"
   },
   {
    "duration": 234,
    "start_time": "2021-12-26T14:46:07.828Z"
   },
   {
    "duration": 152,
    "start_time": "2021-12-26T14:46:08.064Z"
   },
   {
    "duration": 33,
    "start_time": "2021-12-26T14:46:08.218Z"
   },
   {
    "duration": 100,
    "start_time": "2021-12-26T14:46:08.253Z"
   },
   {
    "duration": 102,
    "start_time": "2021-12-26T14:46:08.357Z"
   },
   {
    "duration": 8,
    "start_time": "2021-12-26T14:46:08.462Z"
   },
   {
    "duration": 91,
    "start_time": "2021-12-26T14:46:08.472Z"
   },
   {
    "duration": 17,
    "start_time": "2021-12-26T14:46:08.565Z"
   },
   {
    "duration": 20,
    "start_time": "2021-12-26T14:46:08.584Z"
   },
   {
    "duration": 80,
    "start_time": "2021-12-26T14:46:08.606Z"
   },
   {
    "duration": 27,
    "start_time": "2021-12-26T14:46:08.688Z"
   },
   {
    "duration": 46,
    "start_time": "2021-12-26T14:46:08.718Z"
   },
   {
    "duration": 50,
    "start_time": "2021-12-26T14:46:08.767Z"
   },
   {
    "duration": 138,
    "start_time": "2021-12-26T14:46:08.821Z"
   },
   {
    "duration": 11862,
    "start_time": "2021-12-26T14:46:08.962Z"
   },
   {
    "duration": 28,
    "start_time": "2021-12-26T14:46:21.971Z"
   },
   {
    "duration": 31,
    "start_time": "2021-12-26T15:01:02.760Z"
   },
   {
    "duration": 952,
    "start_time": "2021-12-26T15:01:17.472Z"
   },
   {
    "duration": 259,
    "start_time": "2021-12-26T15:01:18.427Z"
   },
   {
    "duration": 209,
    "start_time": "2021-12-26T15:01:18.689Z"
   },
   {
    "duration": 151,
    "start_time": "2021-12-26T15:01:18.901Z"
   },
   {
    "duration": 34,
    "start_time": "2021-12-26T15:01:19.058Z"
   },
   {
    "duration": 67,
    "start_time": "2021-12-26T15:01:19.095Z"
   },
   {
    "duration": 100,
    "start_time": "2021-12-26T15:01:19.164Z"
   },
   {
    "duration": 8,
    "start_time": "2021-12-26T15:01:19.268Z"
   },
   {
    "duration": 87,
    "start_time": "2021-12-26T15:01:19.278Z"
   },
   {
    "duration": 16,
    "start_time": "2021-12-26T15:01:19.368Z"
   },
   {
    "duration": 18,
    "start_time": "2021-12-26T15:01:19.386Z"
   },
   {
    "duration": 73,
    "start_time": "2021-12-26T15:01:19.406Z"
   },
   {
    "duration": 28,
    "start_time": "2021-12-26T15:01:19.481Z"
   },
   {
    "duration": 49,
    "start_time": "2021-12-26T15:01:19.511Z"
   },
   {
    "duration": 49,
    "start_time": "2021-12-26T15:01:19.563Z"
   },
   {
    "duration": 125,
    "start_time": "2021-12-26T15:01:19.614Z"
   },
   {
    "duration": 40,
    "start_time": "2021-12-26T15:01:19.741Z"
   },
   {
    "duration": 614,
    "start_time": "2021-12-26T15:01:19.783Z"
   },
   {
    "duration": 31,
    "start_time": "2021-12-26T15:02:17.847Z"
   },
   {
    "duration": 1125,
    "start_time": "2021-12-26T15:08:42.822Z"
   },
   {
    "duration": 259,
    "start_time": "2021-12-26T15:08:43.949Z"
   },
   {
    "duration": 209,
    "start_time": "2021-12-26T15:08:44.211Z"
   },
   {
    "duration": 153,
    "start_time": "2021-12-26T15:08:44.423Z"
   },
   {
    "duration": 32,
    "start_time": "2021-12-26T15:08:44.579Z"
   },
   {
    "duration": 82,
    "start_time": "2021-12-26T15:08:44.614Z"
   },
   {
    "duration": 111,
    "start_time": "2021-12-26T15:08:44.699Z"
   },
   {
    "duration": 8,
    "start_time": "2021-12-26T15:08:44.815Z"
   },
   {
    "duration": 90,
    "start_time": "2021-12-26T15:08:44.825Z"
   },
   {
    "duration": 16,
    "start_time": "2021-12-26T15:08:44.917Z"
   },
   {
    "duration": 31,
    "start_time": "2021-12-26T15:08:44.935Z"
   },
   {
    "duration": 47,
    "start_time": "2021-12-26T15:08:44.968Z"
   },
   {
    "duration": 58,
    "start_time": "2021-12-26T15:08:45.018Z"
   },
   {
    "duration": 27,
    "start_time": "2021-12-26T15:08:45.079Z"
   },
   {
    "duration": 74,
    "start_time": "2021-12-26T15:08:45.108Z"
   },
   {
    "duration": 117,
    "start_time": "2021-12-26T15:08:45.185Z"
   },
   {
    "duration": 30,
    "start_time": "2021-12-26T15:08:45.305Z"
   },
   {
    "duration": 568,
    "start_time": "2021-12-26T15:08:45.337Z"
   },
   {
    "duration": -35,
    "start_time": "2021-12-26T15:08:45.943Z"
   },
   {
    "duration": 391,
    "start_time": "2021-12-26T15:09:03.746Z"
   },
   {
    "duration": 597,
    "start_time": "2021-12-26T15:10:04.806Z"
   },
   {
    "duration": 36,
    "start_time": "2021-12-26T15:10:16.239Z"
   },
   {
    "duration": 924,
    "start_time": "2021-12-26T15:10:23.024Z"
   },
   {
    "duration": 256,
    "start_time": "2021-12-26T15:10:23.951Z"
   },
   {
    "duration": 217,
    "start_time": "2021-12-26T15:10:24.210Z"
   },
   {
    "duration": 158,
    "start_time": "2021-12-26T15:10:24.430Z"
   },
   {
    "duration": 33,
    "start_time": "2021-12-26T15:10:24.591Z"
   },
   {
    "duration": 58,
    "start_time": "2021-12-26T15:10:24.627Z"
   },
   {
    "duration": 110,
    "start_time": "2021-12-26T15:10:24.688Z"
   },
   {
    "duration": 8,
    "start_time": "2021-12-26T15:10:24.801Z"
   },
   {
    "duration": 88,
    "start_time": "2021-12-26T15:10:24.811Z"
   },
   {
    "duration": 22,
    "start_time": "2021-12-26T15:10:24.902Z"
   },
   {
    "duration": 39,
    "start_time": "2021-12-26T15:10:24.927Z"
   },
   {
    "duration": 49,
    "start_time": "2021-12-26T15:10:24.969Z"
   },
   {
    "duration": 48,
    "start_time": "2021-12-26T15:10:25.021Z"
   },
   {
    "duration": 27,
    "start_time": "2021-12-26T15:10:25.072Z"
   },
   {
    "duration": 74,
    "start_time": "2021-12-26T15:10:25.102Z"
   },
   {
    "duration": 111,
    "start_time": "2021-12-26T15:10:25.179Z"
   },
   {
    "duration": 28,
    "start_time": "2021-12-26T15:10:25.293Z"
   },
   {
    "duration": 54,
    "start_time": "2021-12-26T15:10:25.323Z"
   },
   {
    "duration": 2,
    "start_time": "2021-12-26T15:10:25.380Z"
   },
   {
    "duration": 16,
    "start_time": "2021-12-26T15:25:55.947Z"
   },
   {
    "duration": 25,
    "start_time": "2021-12-26T15:29:04.865Z"
   },
   {
    "duration": 27,
    "start_time": "2021-12-26T15:29:14.325Z"
   },
   {
    "duration": 123,
    "start_time": "2021-12-26T15:33:35.552Z"
   },
   {
    "duration": 96,
    "start_time": "2021-12-26T15:35:07.472Z"
   },
   {
    "duration": 117,
    "start_time": "2021-12-26T15:35:16.928Z"
   },
   {
    "duration": 189,
    "start_time": "2021-12-26T15:38:37.443Z"
   },
   {
    "duration": 224,
    "start_time": "2021-12-26T15:43:36.922Z"
   },
   {
    "duration": 565,
    "start_time": "2021-12-26T15:43:53.820Z"
   },
   {
    "duration": 376,
    "start_time": "2021-12-26T15:44:00.795Z"
   },
   {
    "duration": 496,
    "start_time": "2021-12-26T15:46:38.145Z"
   },
   {
    "duration": 499,
    "start_time": "2021-12-26T16:07:51.211Z"
   },
   {
    "duration": 375,
    "start_time": "2021-12-26T16:07:59.539Z"
   },
   {
    "duration": 420,
    "start_time": "2021-12-26T16:09:16.400Z"
   },
   {
    "duration": 153,
    "start_time": "2021-12-26T16:09:50.121Z"
   },
   {
    "duration": 128,
    "start_time": "2021-12-26T16:09:57.096Z"
   },
   {
    "duration": 5,
    "start_time": "2021-12-26T16:10:06.781Z"
   },
   {
    "duration": 10,
    "start_time": "2021-12-26T16:10:26.537Z"
   },
   {
    "duration": 52,
    "start_time": "2021-12-26T16:10:56.199Z"
   },
   {
    "duration": 5,
    "start_time": "2021-12-26T16:14:11.636Z"
   },
   {
    "duration": 661,
    "start_time": "2021-12-26T16:21:26.357Z"
   },
   {
    "duration": 4,
    "start_time": "2021-12-26T16:21:40.477Z"
   },
   {
    "duration": 8,
    "start_time": "2021-12-26T16:23:31.579Z"
   },
   {
    "duration": 353,
    "start_time": "2021-12-26T16:25:22.218Z"
   },
   {
    "duration": 349,
    "start_time": "2021-12-26T16:25:43.977Z"
   },
   {
    "duration": 496,
    "start_time": "2021-12-26T16:49:38.087Z"
   },
   {
    "duration": 530,
    "start_time": "2021-12-26T16:51:48.261Z"
   },
   {
    "duration": 516,
    "start_time": "2021-12-26T16:52:12.451Z"
   },
   {
    "duration": 468,
    "start_time": "2021-12-26T16:52:57.487Z"
   },
   {
    "duration": 469,
    "start_time": "2021-12-26T16:54:42.110Z"
   },
   {
    "duration": 478,
    "start_time": "2021-12-26T16:54:52.398Z"
   },
   {
    "duration": 148,
    "start_time": "2021-12-26T16:56:58.495Z"
   },
   {
    "duration": 138,
    "start_time": "2021-12-26T16:57:09.248Z"
   },
   {
    "duration": 913,
    "start_time": "2021-12-26T16:57:42.989Z"
   },
   {
    "duration": 866,
    "start_time": "2021-12-26T16:57:57.809Z"
   },
   {
    "duration": 473,
    "start_time": "2021-12-26T16:58:15.629Z"
   },
   {
    "duration": 373,
    "start_time": "2021-12-26T16:58:36.573Z"
   },
   {
    "duration": 451,
    "start_time": "2021-12-26T16:58:48.449Z"
   },
   {
    "duration": 711,
    "start_time": "2021-12-26T16:59:01.082Z"
   },
   {
    "duration": 498,
    "start_time": "2021-12-26T17:00:55.007Z"
   },
   {
    "duration": 1072,
    "start_time": "2021-12-26T17:01:27.577Z"
   },
   {
    "duration": 826,
    "start_time": "2021-12-26T17:02:33.413Z"
   },
   {
    "duration": 460,
    "start_time": "2021-12-26T17:02:56.037Z"
   },
   {
    "duration": 387,
    "start_time": "2021-12-26T17:03:17.315Z"
   },
   {
    "duration": 858,
    "start_time": "2021-12-26T17:07:48.002Z"
   },
   {
    "duration": 270,
    "start_time": "2021-12-26T17:07:48.863Z"
   },
   {
    "duration": 224,
    "start_time": "2021-12-26T17:07:49.136Z"
   },
   {
    "duration": 152,
    "start_time": "2021-12-26T17:07:49.363Z"
   },
   {
    "duration": 34,
    "start_time": "2021-12-26T17:07:49.517Z"
   },
   {
    "duration": 60,
    "start_time": "2021-12-26T17:07:49.559Z"
   },
   {
    "duration": 97,
    "start_time": "2021-12-26T17:07:49.621Z"
   },
   {
    "duration": 8,
    "start_time": "2021-12-26T17:07:49.721Z"
   },
   {
    "duration": 83,
    "start_time": "2021-12-26T17:07:49.731Z"
   },
   {
    "duration": 16,
    "start_time": "2021-12-26T17:07:49.817Z"
   },
   {
    "duration": 32,
    "start_time": "2021-12-26T17:07:49.836Z"
   },
   {
    "duration": 51,
    "start_time": "2021-12-26T17:07:49.870Z"
   },
   {
    "duration": 53,
    "start_time": "2021-12-26T17:07:49.924Z"
   },
   {
    "duration": 26,
    "start_time": "2021-12-26T17:07:49.980Z"
   },
   {
    "duration": 81,
    "start_time": "2021-12-26T17:07:50.009Z"
   },
   {
    "duration": 126,
    "start_time": "2021-12-26T17:07:50.093Z"
   },
   {
    "duration": 44,
    "start_time": "2021-12-26T17:07:50.221Z"
   },
   {
    "duration": 28,
    "start_time": "2021-12-26T17:07:50.267Z"
   },
   {
    "duration": 402,
    "start_time": "2021-12-26T17:07:50.297Z"
   },
   {
    "duration": 7,
    "start_time": "2021-12-26T17:07:50.701Z"
   },
   {
    "duration": 506,
    "start_time": "2021-12-26T17:07:50.710Z"
   },
   {
    "duration": 387,
    "start_time": "2021-12-26T17:07:51.219Z"
   },
   {
    "duration": 877,
    "start_time": "2021-12-26T17:08:13.958Z"
   },
   {
    "duration": 274,
    "start_time": "2021-12-26T17:08:14.838Z"
   },
   {
    "duration": 224,
    "start_time": "2021-12-26T17:08:15.116Z"
   },
   {
    "duration": 179,
    "start_time": "2021-12-26T17:08:15.343Z"
   },
   {
    "duration": 36,
    "start_time": "2021-12-26T17:08:15.525Z"
   },
   {
    "duration": 69,
    "start_time": "2021-12-26T17:08:15.564Z"
   },
   {
    "duration": 97,
    "start_time": "2021-12-26T17:08:15.635Z"
   },
   {
    "duration": 8,
    "start_time": "2021-12-26T17:08:15.736Z"
   },
   {
    "duration": 70,
    "start_time": "2021-12-26T17:08:15.760Z"
   },
   {
    "duration": 32,
    "start_time": "2021-12-26T17:08:15.832Z"
   },
   {
    "duration": 20,
    "start_time": "2021-12-26T17:08:15.867Z"
   },
   {
    "duration": 71,
    "start_time": "2021-12-26T17:08:15.889Z"
   },
   {
    "duration": 27,
    "start_time": "2021-12-26T17:08:15.963Z"
   },
   {
    "duration": 29,
    "start_time": "2021-12-26T17:08:15.993Z"
   },
   {
    "duration": 86,
    "start_time": "2021-12-26T17:08:16.025Z"
   },
   {
    "duration": 126,
    "start_time": "2021-12-26T17:08:16.113Z"
   },
   {
    "duration": 47,
    "start_time": "2021-12-26T17:08:16.243Z"
   },
   {
    "duration": 41,
    "start_time": "2021-12-26T17:08:16.293Z"
   },
   {
    "duration": 393,
    "start_time": "2021-12-26T17:08:16.361Z"
   },
   {
    "duration": 6,
    "start_time": "2021-12-26T17:08:16.760Z"
   },
   {
    "duration": 521,
    "start_time": "2021-12-26T17:08:16.769Z"
   },
   {
    "duration": 402,
    "start_time": "2021-12-26T17:08:17.292Z"
   },
   {
    "duration": 521,
    "start_time": "2021-12-26T17:10:43.771Z"
   },
   {
    "duration": 396,
    "start_time": "2021-12-26T17:11:45.123Z"
   },
   {
    "duration": 407,
    "start_time": "2021-12-26T17:13:58.265Z"
   },
   {
    "duration": 488,
    "start_time": "2021-12-26T17:21:50.754Z"
   },
   {
    "duration": 450,
    "start_time": "2021-12-26T17:22:01.613Z"
   },
   {
    "duration": 378,
    "start_time": "2021-12-26T17:22:57.124Z"
   },
   {
    "duration": 917,
    "start_time": "2021-12-26T17:24:03.101Z"
   },
   {
    "duration": 542,
    "start_time": "2021-12-26T17:24:14.890Z"
   },
   {
    "duration": 483,
    "start_time": "2021-12-26T17:24:29.712Z"
   },
   {
    "duration": 135,
    "start_time": "2021-12-26T17:26:25.791Z"
   },
   {
    "duration": 409,
    "start_time": "2021-12-26T17:26:35.250Z"
   },
   {
    "duration": 525,
    "start_time": "2021-12-26T18:56:49.836Z"
   },
   {
    "duration": 272,
    "start_time": "2021-12-26T18:57:46.799Z"
   },
   {
    "duration": 571,
    "start_time": "2021-12-26T18:57:50.847Z"
   },
   {
    "duration": 581,
    "start_time": "2021-12-26T18:58:29.914Z"
   },
   {
    "duration": 557,
    "start_time": "2021-12-26T18:59:01.130Z"
   },
   {
    "duration": 578,
    "start_time": "2021-12-26T18:59:28.741Z"
   },
   {
    "duration": 474,
    "start_time": "2021-12-26T19:00:11.271Z"
   },
   {
    "duration": 500,
    "start_time": "2021-12-26T19:00:34.999Z"
   },
   {
    "duration": 637,
    "start_time": "2021-12-26T19:00:58.260Z"
   },
   {
    "duration": 618,
    "start_time": "2021-12-26T19:02:28.711Z"
   },
   {
    "duration": 145,
    "start_time": "2021-12-26T19:04:36.669Z"
   },
   {
    "duration": 808,
    "start_time": "2021-12-26T19:04:40.995Z"
   },
   {
    "duration": 701,
    "start_time": "2021-12-26T19:06:14.740Z"
   },
   {
    "duration": 744,
    "start_time": "2021-12-26T19:06:53.708Z"
   },
   {
    "duration": 794,
    "start_time": "2021-12-26T19:07:21.988Z"
   },
   {
    "duration": 657,
    "start_time": "2021-12-26T19:08:12.440Z"
   },
   {
    "duration": 545,
    "start_time": "2021-12-26T19:11:42.336Z"
   },
   {
    "duration": 574,
    "start_time": "2021-12-26T19:12:08.860Z"
   },
   {
    "duration": 300,
    "start_time": "2021-12-27T09:46:41.807Z"
   },
   {
    "duration": 661,
    "start_time": "2021-12-27T09:46:49.387Z"
   },
   {
    "duration": 199,
    "start_time": "2021-12-27T09:46:50.050Z"
   },
   {
    "duration": 164,
    "start_time": "2021-12-27T09:46:50.260Z"
   },
   {
    "duration": 118,
    "start_time": "2021-12-27T09:46:50.426Z"
   },
   {
    "duration": 26,
    "start_time": "2021-12-27T09:46:50.546Z"
   },
   {
    "duration": 44,
    "start_time": "2021-12-27T09:46:50.574Z"
   },
   {
    "duration": 70,
    "start_time": "2021-12-27T09:46:50.622Z"
   },
   {
    "duration": 7,
    "start_time": "2021-12-27T09:46:50.695Z"
   },
   {
    "duration": 63,
    "start_time": "2021-12-27T09:46:50.703Z"
   },
   {
    "duration": 12,
    "start_time": "2021-12-27T09:46:50.768Z"
   },
   {
    "duration": 18,
    "start_time": "2021-12-27T09:46:50.782Z"
   },
   {
    "duration": 62,
    "start_time": "2021-12-27T09:46:50.801Z"
   },
   {
    "duration": 22,
    "start_time": "2021-12-27T09:46:50.865Z"
   },
   {
    "duration": 18,
    "start_time": "2021-12-27T09:46:50.889Z"
   },
   {
    "duration": 54,
    "start_time": "2021-12-27T09:46:50.908Z"
   },
   {
    "duration": 61,
    "start_time": "2021-12-27T09:46:50.964Z"
   },
   {
    "duration": 35,
    "start_time": "2021-12-27T09:46:51.027Z"
   },
   {
    "duration": 19,
    "start_time": "2021-12-27T09:46:51.064Z"
   },
   {
    "duration": 221,
    "start_time": "2021-12-27T09:46:51.085Z"
   },
   {
    "duration": 6,
    "start_time": "2021-12-27T09:46:51.308Z"
   },
   {
    "duration": 473,
    "start_time": "2021-12-27T09:46:51.315Z"
   },
   {
    "duration": 338,
    "start_time": "2021-12-27T09:46:51.791Z"
   },
   {
    "duration": 348,
    "start_time": "2021-12-27T09:46:52.131Z"
   },
   {
    "duration": 336,
    "start_time": "2021-12-27T09:47:06.763Z"
   },
   {
    "duration": 411,
    "start_time": "2021-12-27T10:32:44.966Z"
   },
   {
    "duration": 403,
    "start_time": "2021-12-27T10:43:12.107Z"
   },
   {
    "duration": 24,
    "start_time": "2021-12-27T10:43:51.541Z"
   },
   {
    "duration": 35,
    "start_time": "2021-12-27T10:44:47.050Z"
   },
   {
    "duration": 766,
    "start_time": "2021-12-27T10:45:20.418Z"
   },
   {
    "duration": 196,
    "start_time": "2021-12-27T10:45:21.186Z"
   },
   {
    "duration": 160,
    "start_time": "2021-12-27T10:45:21.384Z"
   },
   {
    "duration": 135,
    "start_time": "2021-12-27T10:45:21.546Z"
   },
   {
    "duration": 31,
    "start_time": "2021-12-27T10:45:21.683Z"
   },
   {
    "duration": 43,
    "start_time": "2021-12-27T10:45:21.716Z"
   },
   {
    "duration": 79,
    "start_time": "2021-12-27T10:45:21.761Z"
   },
   {
    "duration": 6,
    "start_time": "2021-12-27T10:45:21.842Z"
   },
   {
    "duration": 74,
    "start_time": "2021-12-27T10:45:21.850Z"
   },
   {
    "duration": 11,
    "start_time": "2021-12-27T10:45:21.928Z"
   },
   {
    "duration": 29,
    "start_time": "2021-12-27T10:45:21.941Z"
   },
   {
    "duration": 36,
    "start_time": "2021-12-27T10:45:21.972Z"
   },
   {
    "duration": 22,
    "start_time": "2021-12-27T10:45:22.010Z"
   },
   {
    "duration": 52,
    "start_time": "2021-12-27T10:45:22.035Z"
   },
   {
    "duration": 52,
    "start_time": "2021-12-27T10:45:22.089Z"
   },
   {
    "duration": 77,
    "start_time": "2021-12-27T10:45:22.143Z"
   },
   {
    "duration": 41,
    "start_time": "2021-12-27T10:45:22.222Z"
   },
   {
    "duration": 19,
    "start_time": "2021-12-27T10:45:22.265Z"
   },
   {
    "duration": 233,
    "start_time": "2021-12-27T10:45:22.286Z"
   },
   {
    "duration": 5,
    "start_time": "2021-12-27T10:45:22.521Z"
   },
   {
    "duration": 476,
    "start_time": "2021-12-27T10:45:22.528Z"
   },
   {
    "duration": 333,
    "start_time": "2021-12-27T10:45:23.006Z"
   },
   {
    "duration": 359,
    "start_time": "2021-12-27T10:45:23.342Z"
   },
   {
    "duration": 597,
    "start_time": "2021-12-27T10:45:23.703Z"
   },
   {
    "duration": 87,
    "start_time": "2021-12-27T10:45:24.308Z"
   },
   {
    "duration": 6,
    "start_time": "2021-12-27T10:50:30.609Z"
   },
   {
    "duration": 6,
    "start_time": "2021-12-27T10:54:06.848Z"
   },
   {
    "duration": 642,
    "start_time": "2021-12-27T11:56:48.315Z"
   },
   {
    "duration": 198,
    "start_time": "2021-12-27T11:56:48.959Z"
   },
   {
    "duration": 162,
    "start_time": "2021-12-27T11:56:49.159Z"
   },
   {
    "duration": 115,
    "start_time": "2021-12-27T11:56:49.324Z"
   },
   {
    "duration": 26,
    "start_time": "2021-12-27T11:56:49.441Z"
   },
   {
    "duration": 40,
    "start_time": "2021-12-27T11:56:49.469Z"
   },
   {
    "duration": 71,
    "start_time": "2021-12-27T11:56:49.511Z"
   },
   {
    "duration": 5,
    "start_time": "2021-12-27T11:56:49.585Z"
   },
   {
    "duration": 56,
    "start_time": "2021-12-27T11:56:49.592Z"
   },
   {
    "duration": 12,
    "start_time": "2021-12-27T11:56:49.650Z"
   },
   {
    "duration": 15,
    "start_time": "2021-12-27T11:56:49.663Z"
   },
   {
    "duration": 39,
    "start_time": "2021-12-27T11:56:49.681Z"
   },
   {
    "duration": 46,
    "start_time": "2021-12-27T11:56:49.722Z"
   },
   {
    "duration": 20,
    "start_time": "2021-12-27T11:56:49.769Z"
   },
   {
    "duration": 70,
    "start_time": "2021-12-27T11:56:49.791Z"
   },
   {
    "duration": 73,
    "start_time": "2021-12-27T11:56:49.863Z"
   },
   {
    "duration": 44,
    "start_time": "2021-12-27T11:56:49.938Z"
   },
   {
    "duration": 29,
    "start_time": "2021-12-27T11:56:49.984Z"
   },
   {
    "duration": 383,
    "start_time": "2021-12-27T11:56:50.016Z"
   },
   {
    "duration": 7,
    "start_time": "2021-12-27T11:56:50.401Z"
   },
   {
    "duration": 733,
    "start_time": "2021-12-27T11:56:50.410Z"
   },
   {
    "duration": 359,
    "start_time": "2021-12-27T11:56:51.144Z"
   },
   {
    "duration": 553,
    "start_time": "2021-12-27T11:56:51.509Z"
   },
   {
    "duration": 540,
    "start_time": "2021-12-27T11:56:52.065Z"
   },
   {
    "duration": 24,
    "start_time": "2021-12-27T11:56:52.607Z"
   },
   {
    "duration": 7,
    "start_time": "2021-12-27T11:56:52.633Z"
   },
   {
    "duration": 24,
    "start_time": "2021-12-27T11:56:52.642Z"
   },
   {
    "duration": 826,
    "start_time": "2021-12-28T09:58:05.419Z"
   },
   {
    "duration": 266,
    "start_time": "2021-12-28T09:58:06.248Z"
   },
   {
    "duration": 217,
    "start_time": "2021-12-28T09:58:06.518Z"
   },
   {
    "duration": 166,
    "start_time": "2021-12-28T09:58:06.738Z"
   },
   {
    "duration": 32,
    "start_time": "2021-12-28T09:58:06.907Z"
   },
   {
    "duration": 48,
    "start_time": "2021-12-28T09:58:06.943Z"
   },
   {
    "duration": 125,
    "start_time": "2021-12-28T09:58:06.994Z"
   },
   {
    "duration": 9,
    "start_time": "2021-12-28T09:58:07.122Z"
   },
   {
    "duration": 91,
    "start_time": "2021-12-28T09:58:07.135Z"
   },
   {
    "duration": 15,
    "start_time": "2021-12-28T09:58:07.229Z"
   },
   {
    "duration": 35,
    "start_time": "2021-12-28T09:58:07.246Z"
   },
   {
    "duration": 50,
    "start_time": "2021-12-28T09:58:07.284Z"
   },
   {
    "duration": 47,
    "start_time": "2021-12-28T09:58:07.336Z"
   },
   {
    "duration": 25,
    "start_time": "2021-12-28T09:58:07.385Z"
   },
   {
    "duration": 76,
    "start_time": "2021-12-28T09:58:07.412Z"
   },
   {
    "duration": 127,
    "start_time": "2021-12-28T09:58:07.490Z"
   },
   {
    "duration": 29,
    "start_time": "2021-12-28T09:58:07.619Z"
   },
   {
    "duration": 32,
    "start_time": "2021-12-28T09:58:07.667Z"
   },
   {
    "duration": 405,
    "start_time": "2021-12-28T09:58:07.701Z"
   },
   {
    "duration": 7,
    "start_time": "2021-12-28T09:58:08.108Z"
   },
   {
    "duration": 778,
    "start_time": "2021-12-28T09:58:08.118Z"
   },
   {
    "duration": 583,
    "start_time": "2021-12-28T09:58:08.898Z"
   },
   {
    "duration": 597,
    "start_time": "2021-12-28T09:58:09.484Z"
   },
   {
    "duration": 576,
    "start_time": "2021-12-28T09:58:10.083Z"
   },
   {
    "duration": 37,
    "start_time": "2021-12-28T09:58:10.666Z"
   },
   {
    "duration": 8,
    "start_time": "2021-12-28T09:58:10.706Z"
   },
   {
    "duration": 7,
    "start_time": "2021-12-28T09:58:10.719Z"
   },
   {
    "duration": 5,
    "start_time": "2021-12-28T10:00:03.284Z"
   },
   {
    "duration": 38,
    "start_time": "2021-12-28T10:00:08.051Z"
   },
   {
    "duration": 6,
    "start_time": "2021-12-28T10:00:15.044Z"
   },
   {
    "duration": 11,
    "start_time": "2021-12-28T10:00:46.110Z"
   }
  ],
  "kernelspec": {
   "display_name": "Python 3 (ipykernel)",
   "language": "python",
   "name": "python3"
  },
  "language_info": {
   "codemirror_mode": {
    "name": "ipython",
    "version": 3
   },
   "file_extension": ".py",
   "mimetype": "text/x-python",
   "name": "python",
   "nbconvert_exporter": "python",
   "pygments_lexer": "ipython3",
   "version": "3.9.12"
  },
  "toc": {
   "base_numbering": 1,
   "nav_menu": {},
   "number_sections": true,
   "sideBar": true,
   "skip_h1_title": true,
   "title_cell": "Table of Contents",
   "title_sidebar": "Contents",
   "toc_cell": false,
   "toc_position": {},
   "toc_section_display": true,
   "toc_window_display": false
  }
 },
 "nbformat": 4,
 "nbformat_minor": 2
}
