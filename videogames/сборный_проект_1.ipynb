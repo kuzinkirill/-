{
 "cells": [
  {
   "cell_type": "code",
   "execution_count": 1,
   "metadata": {},
   "outputs": [],
   "source": [
    "#!pip install plotly"
   ]
  },
  {
   "cell_type": "markdown",
   "metadata": {},
   "source": [
    "# Сборный проект\n",
    "\n",
    "На основании данных из открытых источников необходимо выявить закономерности, определяющие успешность игры. Впоследствии результат работы позволит сделать ставку на потенциально популярный продукт и спланировать рекламные компании."
   ]
  },
  {
   "cell_type": "markdown",
   "metadata": {},
   "source": [
    "<h1>Содержание<span class=\"tocSkip\"></span></h1>\n",
    "<div class=\"toc\"><ul class=\"toc-item\"><li><span><a href=\"#Изучение-данных-из-файла\" data-toc-modified-id=\"Изучение-данных-из-файла-1\"><span class=\"toc-item-num\">1&nbsp;&nbsp;</span>Изучение данных из файла</a></span></li><li><span><a href=\"#Предобработка-данных\" data-toc-modified-id=\"Предобработка-данных-2\"><span class=\"toc-item-num\">2&nbsp;&nbsp;</span>Предобработка данных</a></span></li><li><span><a \n",
    "href=\"#Исследовательский-анализ-данных\" data-toc-modified-id=\"Исследовательский-анализ-данных-3\"><span class=\"toc-item-num\">3&nbsp;&nbsp;</span>Исследовательский анализ данных</a></span></li><li><span><a\n",
    "href=\"#Портрет-пользователя-каждого-региона\" data-toc-modified-id=\"Портрет-пользователя-каждого-региона-4\"><span class=\"toc-item-num\">4&nbsp;&nbsp;</span>Портрет пользователя каждого региона</a></span></li><li><span><a\n",
    "href=\"#Проверка-гипотез\" data-toc-modified-id=\"Проверка-гипотез-5\"><span class=\"toc-item-num\">5&nbsp;&nbsp;</span>Проверка гипотез</a></span></li><li><span><a\n",
    "href=\"#Общий-вывод\" data-toc-modified-id=\"Общий-вывод-6\"><span class=\"toc-item-num\">6&nbsp;&nbsp;</span>Общий вывод</a></span></li><li><span><a "
   ]
  },
  {
   "cell_type": "markdown",
   "metadata": {},
   "source": [
    "## Изучение данных из файла"
   ]
  },
  {
   "cell_type": "markdown",
   "metadata": {},
   "source": [
    "Импортируем библиотеки, которые пригодятся для выполнения проекта:"
   ]
  },
  {
   "cell_type": "code",
   "execution_count": 2,
   "metadata": {},
   "outputs": [
    {
     "data": {
      "text/html": [
       "        <script type=\"text/javascript\">\n",
       "        window.PlotlyConfig = {MathJaxConfig: 'local'};\n",
       "        if (window.MathJax) {MathJax.Hub.Config({SVG: {font: \"STIX-Web\"}});}\n",
       "        if (typeof require !== 'undefined') {\n",
       "        require.undef(\"plotly\");\n",
       "        requirejs.config({\n",
       "            paths: {\n",
       "                'plotly': ['https://cdn.plot.ly/plotly-2.9.0.min']\n",
       "            }\n",
       "        });\n",
       "        require(['plotly'], function(Plotly) {\n",
       "            window._Plotly = Plotly;\n",
       "        });\n",
       "        }\n",
       "        </script>\n",
       "        "
      ]
     },
     "metadata": {},
     "output_type": "display_data"
    }
   ],
   "source": [
    "import pandas as pd\n",
    "import numpy as np\n",
    "import matplotlib.pyplot as plt\n",
    "from scipy import stats as st\n",
    "\n",
    "from plotly.offline import init_notebook_mode, iplot\n",
    "import plotly\n",
    "import plotly.graph_objs as go\n",
    "\n",
    "init_notebook_mode(connected=True)"
   ]
  },
  {
   "cell_type": "code",
   "execution_count": 3,
   "metadata": {},
   "outputs": [
    {
     "data": {
      "text/html": [
       "<div>\n",
       "<style scoped>\n",
       "    .dataframe tbody tr th:only-of-type {\n",
       "        vertical-align: middle;\n",
       "    }\n",
       "\n",
       "    .dataframe tbody tr th {\n",
       "        vertical-align: top;\n",
       "    }\n",
       "\n",
       "    .dataframe thead th {\n",
       "        text-align: right;\n",
       "    }\n",
       "</style>\n",
       "<table border=\"1\" class=\"dataframe\">\n",
       "  <thead>\n",
       "    <tr style=\"text-align: right;\">\n",
       "      <th></th>\n",
       "      <th>Name</th>\n",
       "      <th>Platform</th>\n",
       "      <th>Year_of_Release</th>\n",
       "      <th>Genre</th>\n",
       "      <th>NA_sales</th>\n",
       "      <th>EU_sales</th>\n",
       "      <th>JP_sales</th>\n",
       "      <th>Other_sales</th>\n",
       "      <th>Critic_Score</th>\n",
       "      <th>User_Score</th>\n",
       "      <th>Rating</th>\n",
       "    </tr>\n",
       "  </thead>\n",
       "  <tbody>\n",
       "    <tr>\n",
       "      <th>0</th>\n",
       "      <td>Wii Sports</td>\n",
       "      <td>Wii</td>\n",
       "      <td>2006.0</td>\n",
       "      <td>Sports</td>\n",
       "      <td>41.36</td>\n",
       "      <td>28.96</td>\n",
       "      <td>3.77</td>\n",
       "      <td>8.45</td>\n",
       "      <td>76.0</td>\n",
       "      <td>8</td>\n",
       "      <td>E</td>\n",
       "    </tr>\n",
       "    <tr>\n",
       "      <th>1</th>\n",
       "      <td>Super Mario Bros.</td>\n",
       "      <td>NES</td>\n",
       "      <td>1985.0</td>\n",
       "      <td>Platform</td>\n",
       "      <td>29.08</td>\n",
       "      <td>3.58</td>\n",
       "      <td>6.81</td>\n",
       "      <td>0.77</td>\n",
       "      <td>NaN</td>\n",
       "      <td>NaN</td>\n",
       "      <td>NaN</td>\n",
       "    </tr>\n",
       "    <tr>\n",
       "      <th>2</th>\n",
       "      <td>Mario Kart Wii</td>\n",
       "      <td>Wii</td>\n",
       "      <td>2008.0</td>\n",
       "      <td>Racing</td>\n",
       "      <td>15.68</td>\n",
       "      <td>12.76</td>\n",
       "      <td>3.79</td>\n",
       "      <td>3.29</td>\n",
       "      <td>82.0</td>\n",
       "      <td>8.3</td>\n",
       "      <td>E</td>\n",
       "    </tr>\n",
       "    <tr>\n",
       "      <th>3</th>\n",
       "      <td>Wii Sports Resort</td>\n",
       "      <td>Wii</td>\n",
       "      <td>2009.0</td>\n",
       "      <td>Sports</td>\n",
       "      <td>15.61</td>\n",
       "      <td>10.93</td>\n",
       "      <td>3.28</td>\n",
       "      <td>2.95</td>\n",
       "      <td>80.0</td>\n",
       "      <td>8</td>\n",
       "      <td>E</td>\n",
       "    </tr>\n",
       "    <tr>\n",
       "      <th>4</th>\n",
       "      <td>Pokemon Red/Pokemon Blue</td>\n",
       "      <td>GB</td>\n",
       "      <td>1996.0</td>\n",
       "      <td>Role-Playing</td>\n",
       "      <td>11.27</td>\n",
       "      <td>8.89</td>\n",
       "      <td>10.22</td>\n",
       "      <td>1.00</td>\n",
       "      <td>NaN</td>\n",
       "      <td>NaN</td>\n",
       "      <td>NaN</td>\n",
       "    </tr>\n",
       "    <tr>\n",
       "      <th>5</th>\n",
       "      <td>Tetris</td>\n",
       "      <td>GB</td>\n",
       "      <td>1989.0</td>\n",
       "      <td>Puzzle</td>\n",
       "      <td>23.20</td>\n",
       "      <td>2.26</td>\n",
       "      <td>4.22</td>\n",
       "      <td>0.58</td>\n",
       "      <td>NaN</td>\n",
       "      <td>NaN</td>\n",
       "      <td>NaN</td>\n",
       "    </tr>\n",
       "    <tr>\n",
       "      <th>6</th>\n",
       "      <td>New Super Mario Bros.</td>\n",
       "      <td>DS</td>\n",
       "      <td>2006.0</td>\n",
       "      <td>Platform</td>\n",
       "      <td>11.28</td>\n",
       "      <td>9.14</td>\n",
       "      <td>6.50</td>\n",
       "      <td>2.88</td>\n",
       "      <td>89.0</td>\n",
       "      <td>8.5</td>\n",
       "      <td>E</td>\n",
       "    </tr>\n",
       "    <tr>\n",
       "      <th>7</th>\n",
       "      <td>Wii Play</td>\n",
       "      <td>Wii</td>\n",
       "      <td>2006.0</td>\n",
       "      <td>Misc</td>\n",
       "      <td>13.96</td>\n",
       "      <td>9.18</td>\n",
       "      <td>2.93</td>\n",
       "      <td>2.84</td>\n",
       "      <td>58.0</td>\n",
       "      <td>6.6</td>\n",
       "      <td>E</td>\n",
       "    </tr>\n",
       "    <tr>\n",
       "      <th>8</th>\n",
       "      <td>New Super Mario Bros. Wii</td>\n",
       "      <td>Wii</td>\n",
       "      <td>2009.0</td>\n",
       "      <td>Platform</td>\n",
       "      <td>14.44</td>\n",
       "      <td>6.94</td>\n",
       "      <td>4.70</td>\n",
       "      <td>2.24</td>\n",
       "      <td>87.0</td>\n",
       "      <td>8.4</td>\n",
       "      <td>E</td>\n",
       "    </tr>\n",
       "    <tr>\n",
       "      <th>9</th>\n",
       "      <td>Duck Hunt</td>\n",
       "      <td>NES</td>\n",
       "      <td>1984.0</td>\n",
       "      <td>Shooter</td>\n",
       "      <td>26.93</td>\n",
       "      <td>0.63</td>\n",
       "      <td>0.28</td>\n",
       "      <td>0.47</td>\n",
       "      <td>NaN</td>\n",
       "      <td>NaN</td>\n",
       "      <td>NaN</td>\n",
       "    </tr>\n",
       "  </tbody>\n",
       "</table>\n",
       "</div>"
      ],
      "text/plain": [
       "                        Name Platform  Year_of_Release         Genre  \\\n",
       "0                 Wii Sports      Wii           2006.0        Sports   \n",
       "1          Super Mario Bros.      NES           1985.0      Platform   \n",
       "2             Mario Kart Wii      Wii           2008.0        Racing   \n",
       "3          Wii Sports Resort      Wii           2009.0        Sports   \n",
       "4   Pokemon Red/Pokemon Blue       GB           1996.0  Role-Playing   \n",
       "5                     Tetris       GB           1989.0        Puzzle   \n",
       "6      New Super Mario Bros.       DS           2006.0      Platform   \n",
       "7                   Wii Play      Wii           2006.0          Misc   \n",
       "8  New Super Mario Bros. Wii      Wii           2009.0      Platform   \n",
       "9                  Duck Hunt      NES           1984.0       Shooter   \n",
       "\n",
       "   NA_sales  EU_sales  JP_sales  Other_sales  Critic_Score User_Score Rating  \n",
       "0     41.36     28.96      3.77         8.45          76.0          8      E  \n",
       "1     29.08      3.58      6.81         0.77           NaN        NaN    NaN  \n",
       "2     15.68     12.76      3.79         3.29          82.0        8.3      E  \n",
       "3     15.61     10.93      3.28         2.95          80.0          8      E  \n",
       "4     11.27      8.89     10.22         1.00           NaN        NaN    NaN  \n",
       "5     23.20      2.26      4.22         0.58           NaN        NaN    NaN  \n",
       "6     11.28      9.14      6.50         2.88          89.0        8.5      E  \n",
       "7     13.96      9.18      2.93         2.84          58.0        6.6      E  \n",
       "8     14.44      6.94      4.70         2.24          87.0        8.4      E  \n",
       "9     26.93      0.63      0.28         0.47           NaN        NaN    NaN  "
      ]
     },
     "execution_count": 3,
     "metadata": {},
     "output_type": "execute_result"
    }
   ],
   "source": [
    "df = pd.read_csv('D:\\data_proj/games.csv')\n",
    "df.head(10)"
   ]
  },
  {
   "cell_type": "markdown",
   "metadata": {},
   "source": [
    "Выведем на экран общую информацию о таблице и о количестве пропусков в каждом столбце:"
   ]
  },
  {
   "cell_type": "code",
   "execution_count": 4,
   "metadata": {},
   "outputs": [
    {
     "name": "stdout",
     "output_type": "stream",
     "text": [
      "<class 'pandas.core.frame.DataFrame'>\n",
      "RangeIndex: 16715 entries, 0 to 16714\n",
      "Data columns (total 11 columns):\n",
      " #   Column           Non-Null Count  Dtype  \n",
      "---  ------           --------------  -----  \n",
      " 0   Name             16713 non-null  object \n",
      " 1   Platform         16715 non-null  object \n",
      " 2   Year_of_Release  16446 non-null  float64\n",
      " 3   Genre            16713 non-null  object \n",
      " 4   NA_sales         16715 non-null  float64\n",
      " 5   EU_sales         16715 non-null  float64\n",
      " 6   JP_sales         16715 non-null  float64\n",
      " 7   Other_sales      16715 non-null  float64\n",
      " 8   Critic_Score     8137 non-null   float64\n",
      " 9   User_Score       10014 non-null  object \n",
      " 10  Rating           9949 non-null   object \n",
      "dtypes: float64(6), object(5)\n",
      "memory usage: 1.4+ MB\n",
      "Name               0.000120\n",
      "Platform           0.000000\n",
      "Year_of_Release    0.016093\n",
      "Genre              0.000120\n",
      "NA_sales           0.000000\n",
      "EU_sales           0.000000\n",
      "JP_sales           0.000000\n",
      "Other_sales        0.000000\n",
      "Critic_Score       0.513192\n",
      "User_Score         0.400897\n",
      "Rating             0.404786\n",
      "dtype: float64\n"
     ]
    }
   ],
   "source": [
    "df.info()\n",
    "print(df.isna().mean())"
   ]
  },
  {
   "cell_type": "markdown",
   "metadata": {},
   "source": [
    "В датафрейме приведена информация об играх. Всего в таблице 16715 строк.\n",
    "\n",
    "Описание данных:\n",
    "* **Name** — название игры\n",
    "* **Platform** — платформа\n",
    "* **Year_of_Release** — год выпуска\n",
    "* **Genre** — жанр игры\n",
    "* **NA_sales** — продажи в Северной Америке (миллионы проданных копий)\n",
    "* **EU_sales** — продажи в Европе (миллионы проданных копий)\n",
    "* **JP_sales** — продажи в Японии (миллионы проданных копий)\n",
    "* **Other_sales** — продажи в других странах (миллионы проданных копий)\n",
    "* **Critic_Score** — оценка критиков (максимум 100)\n",
    "* **User_Score** — оценка пользователей (максимум 10)\n",
    "* **Rating** — рейтинг от организации ESRB (англ. Entertainment Software Rating Board). Эта ассоциация определяет рейтинг компьютерных игр и присваивает им подходящую возрастную категорию.\n",
    "\n",
    "Названия столбцов не приведены к нижнему регистру, будет необходимо сделать это.\n",
    "* Данные в столбцах Year_of_Release и Critic_Score представлены типом float. В случае с годом релиза точно необходимо привести к формату int; касательно столбца Critic_Score - изучить, есть ли в нем не целочисленные значения. Если нет, то также заменить на int.\n",
    "* Также вызывает вопросы тип данных object в столбце User_Score. Необходимо будет изучить его.\n",
    "* В данных много пропусков. В определенных столбцах - около половины значений пропущены. Возможно, эти пропуски появились по причине того, что раньше понятие \"рейтинг игры\" не было распространено - на основе первых 10 строк можно увидеть, что пропуски у нас в тех столбцах, где год выпуска был довольно давно. Предстоит разобраться, как с таковыми поступить."
   ]
  },
  {
   "cell_type": "markdown",
   "metadata": {},
   "source": [
    "## Предобработка данных"
   ]
  },
  {
   "cell_type": "markdown",
   "metadata": {},
   "source": [
    "Первым делом приведем названия столбцов нашего датафрейма к нижнему регистру:"
   ]
  },
  {
   "cell_type": "code",
   "execution_count": 5,
   "metadata": {},
   "outputs": [],
   "source": [
    "df.columns = df.columns.str.lower()"
   ]
  },
  {
   "cell_type": "markdown",
   "metadata": {},
   "source": [
    "Проверим предположение о том, что в столбце critic_score у только целочисленные значения:"
   ]
  },
  {
   "cell_type": "code",
   "execution_count": 6,
   "metadata": {},
   "outputs": [
    {
     "name": "stdout",
     "output_type": "stream",
     "text": [
      "[76. nan 82. 80. 89. 58. 87. 91. 61. 97. 95. 77. 88. 83. 94. 93. 85. 86.\n",
      " 98. 96. 90. 84. 73. 74. 78. 92. 71. 72. 68. 62. 49. 67. 81. 66. 56. 79.\n",
      " 70. 59. 64. 75. 60. 63. 69. 50. 25. 42. 44. 55. 48. 57. 29. 47. 65. 54.\n",
      " 20. 53. 37. 38. 33. 52. 30. 32. 43. 45. 51. 40. 46. 39. 34. 35. 41. 36.\n",
      " 28. 31. 27. 26. 19. 23. 24. 21. 17. 22. 13.]\n"
     ]
    }
   ],
   "source": [
    "print(df['critic_score'].unique())"
   ]
  },
  {
   "cell_type": "markdown",
   "metadata": {},
   "source": [
    "Действительно, все значения оказались целочисленными. Потому заменим в этом столбце тип данных. Однако, чтобы это сделать, необходимо понять, что же делать с пропусками. Поменять их на медиану или среднее будет неправильно, но и просто удалить мы их тоже не можем - потеряем половину датасета. \n",
    "\n",
    "Потому я предлагаю поменять пропуски на некоторое вымышленное значение. Например, \"-100\". Если же нам предстоит произвести какие-либо расчеты с данным столбцом, то мы сможем легко определить эти \"преобразованные пропуски\" и исключить их. Притом отсутсвие пропусков позволит как раз проводить над столбцом."
   ]
  },
  {
   "cell_type": "code",
   "execution_count": 7,
   "metadata": {},
   "outputs": [],
   "source": [
    "df['critic_score'] = df['critic_score'].fillna(-100)\n",
    "df['critic_score'] = df['critic_score'].astype('int')"
   ]
  },
  {
   "cell_type": "markdown",
   "metadata": {},
   "source": [
    "Теперь разберемся с годом выпуска. В целом, пропусков в этом столбце всего 1,6%. В целом, мы могли бы их удалить, но нельзя исключать, что среди них есть рекордсмены по продажам. Потому также заменим пропуски на вымышленное значение. Пусть таковым будет \"1900\":"
   ]
  },
  {
   "cell_type": "code",
   "execution_count": 8,
   "metadata": {},
   "outputs": [],
   "source": [
    "df['year_of_release'] = df['year_of_release'].fillna(1900)\n",
    "df['year_of_release'] = df['year_of_release'].astype('int')"
   ]
  },
  {
   "cell_type": "markdown",
   "metadata": {},
   "source": [
    "Теперь изучим столбец user_score и выясним, почему же в нем тип данных object. Для этого выведем уникальные значения этого столбца:"
   ]
  },
  {
   "cell_type": "code",
   "execution_count": 9,
   "metadata": {},
   "outputs": [
    {
     "name": "stdout",
     "output_type": "stream",
     "text": [
      "['8' nan '8.3' '8.5' '6.6' '8.4' '8.6' '7.7' '6.3' '7.4' '8.2' '9' '7.9'\n",
      " '8.1' '8.7' '7.1' '3.4' '5.3' '4.8' '3.2' '8.9' '6.4' '7.8' '7.5' '2.6'\n",
      " '7.2' '9.2' '7' '7.3' '4.3' '7.6' '5.7' '5' '9.1' '6.5' 'tbd' '8.8' '6.9'\n",
      " '9.4' '6.8' '6.1' '6.7' '5.4' '4' '4.9' '4.5' '9.3' '6.2' '4.2' '6' '3.7'\n",
      " '4.1' '5.8' '5.6' '5.5' '4.4' '4.6' '5.9' '3.9' '3.1' '2.9' '5.2' '3.3'\n",
      " '4.7' '5.1' '3.5' '2.5' '1.9' '3' '2.7' '2.2' '2' '9.5' '2.1' '3.6' '2.8'\n",
      " '1.8' '3.8' '0' '1.6' '9.6' '2.4' '1.7' '1.1' '0.3' '1.5' '0.7' '1.2'\n",
      " '2.3' '0.5' '1.3' '0.2' '0.6' '1.4' '0.9' '1' '9.7']\n"
     ]
    }
   ],
   "source": [
    "print(df['user_score'].unique())"
   ]
  },
  {
   "cell_type": "markdown",
   "metadata": {},
   "source": [
    "Помимо пропусков, есть значение - tbd (To Be Determined). Это значение появилось ввиду малого количества оценок на игру, то есть их недостаточно для полноценного определения рейтинга игры. По сути своей они являются пропусками. Потому и поступим мы с ними аналогичным образом - заменим на вымышленное значение? которое будет выделяться на фоне остальных. Например, \"-10\"."
   ]
  },
  {
   "cell_type": "code",
   "execution_count": 10,
   "metadata": {},
   "outputs": [],
   "source": [
    "df['user_score'] = df['user_score'].replace('tbd', '-10')\n",
    "df['user_score'] = df['user_score'].fillna('-10')"
   ]
  },
  {
   "cell_type": "markdown",
   "metadata": {},
   "source": [
    "Теперь переведем этот столбец к типу float"
   ]
  },
  {
   "cell_type": "code",
   "execution_count": 11,
   "metadata": {},
   "outputs": [],
   "source": [
    "df['user_score'] = pd.to_numeric(df['user_score'])"
   ]
  },
  {
   "cell_type": "markdown",
   "metadata": {},
   "source": [
    "Типы данных исправлены. Продолжим работу с пропусками. Мы видим, что у нас 2 строки с пропусками в названии. Взлянем на них:"
   ]
  },
  {
   "cell_type": "code",
   "execution_count": 12,
   "metadata": {},
   "outputs": [
    {
     "data": {
      "text/html": [
       "<div>\n",
       "<style scoped>\n",
       "    .dataframe tbody tr th:only-of-type {\n",
       "        vertical-align: middle;\n",
       "    }\n",
       "\n",
       "    .dataframe tbody tr th {\n",
       "        vertical-align: top;\n",
       "    }\n",
       "\n",
       "    .dataframe thead th {\n",
       "        text-align: right;\n",
       "    }\n",
       "</style>\n",
       "<table border=\"1\" class=\"dataframe\">\n",
       "  <thead>\n",
       "    <tr style=\"text-align: right;\">\n",
       "      <th></th>\n",
       "      <th>name</th>\n",
       "      <th>platform</th>\n",
       "      <th>year_of_release</th>\n",
       "      <th>genre</th>\n",
       "      <th>na_sales</th>\n",
       "      <th>eu_sales</th>\n",
       "      <th>jp_sales</th>\n",
       "      <th>other_sales</th>\n",
       "      <th>critic_score</th>\n",
       "      <th>user_score</th>\n",
       "      <th>rating</th>\n",
       "    </tr>\n",
       "  </thead>\n",
       "  <tbody>\n",
       "    <tr>\n",
       "      <th>659</th>\n",
       "      <td>NaN</td>\n",
       "      <td>GEN</td>\n",
       "      <td>1993</td>\n",
       "      <td>NaN</td>\n",
       "      <td>1.78</td>\n",
       "      <td>0.53</td>\n",
       "      <td>0.00</td>\n",
       "      <td>0.08</td>\n",
       "      <td>-100</td>\n",
       "      <td>-10.0</td>\n",
       "      <td>NaN</td>\n",
       "    </tr>\n",
       "    <tr>\n",
       "      <th>14244</th>\n",
       "      <td>NaN</td>\n",
       "      <td>GEN</td>\n",
       "      <td>1993</td>\n",
       "      <td>NaN</td>\n",
       "      <td>0.00</td>\n",
       "      <td>0.00</td>\n",
       "      <td>0.03</td>\n",
       "      <td>0.00</td>\n",
       "      <td>-100</td>\n",
       "      <td>-10.0</td>\n",
       "      <td>NaN</td>\n",
       "    </tr>\n",
       "  </tbody>\n",
       "</table>\n",
       "</div>"
      ],
      "text/plain": [
       "      name platform  year_of_release genre  na_sales  eu_sales  jp_sales  \\\n",
       "659    NaN      GEN             1993   NaN      1.78      0.53      0.00   \n",
       "14244  NaN      GEN             1993   NaN      0.00      0.00      0.03   \n",
       "\n",
       "       other_sales  critic_score  user_score rating  \n",
       "659           0.08          -100       -10.0    NaN  \n",
       "14244         0.00          -100       -10.0    NaN  "
      ]
     },
     "metadata": {},
     "output_type": "display_data"
    }
   ],
   "source": [
    "display(df[df['name'].isna()])"
   ]
  },
  {
   "cell_type": "markdown",
   "metadata": {},
   "source": [
    "Как мы видим, эти строки абсолютно не информативны. Их мы удалим. К тому же, этим действием мы избавимся и от пропусков в столбце genre:"
   ]
  },
  {
   "cell_type": "code",
   "execution_count": 13,
   "metadata": {},
   "outputs": [],
   "source": [
    "df = df.dropna(subset=['name'])"
   ]
  },
  {
   "cell_type": "markdown",
   "metadata": {},
   "source": [
    "У нас остались пропуски в столбце rating. Проведем действия, аналогичные тем, что были совершены со столбцом critic_score: Найдем уникальные значения, чтобы ознакомиться со всеми возможными оценками, и подоберем значение для замены пропуска (до это мы брали отрицательное значение максимально допустимой оценки):"
   ]
  },
  {
   "cell_type": "code",
   "execution_count": 14,
   "metadata": {},
   "outputs": [
    {
     "name": "stdout",
     "output_type": "stream",
     "text": [
      "['E' nan 'M' 'T' 'E10+' 'K-A' 'AO' 'EC' 'RP']\n"
     ]
    }
   ],
   "source": [
    "print(df['rating'].unique())"
   ]
  },
  {
   "cell_type": "markdown",
   "metadata": {},
   "source": [
    "Согласно документации рейтинга ESRB RP - \"Rating Pending\"\" - рейтинг определяется. По сути, это тоже пропуски. Потому на значение RP мы заменим пропуски интересующего нас столбца:"
   ]
  },
  {
   "cell_type": "code",
   "execution_count": 15,
   "metadata": {},
   "outputs": [],
   "source": [
    "df['rating'] = df['rating'].fillna('RP')"
   ]
  },
  {
   "cell_type": "markdown",
   "metadata": {},
   "source": [
    "Проверим, избавились ли мы ото всех пропусков, посмотрев на сумму таковых в каждом столбце:"
   ]
  },
  {
   "cell_type": "code",
   "execution_count": 16,
   "metadata": {},
   "outputs": [
    {
     "name": "stdout",
     "output_type": "stream",
     "text": [
      "name               0\n",
      "platform           0\n",
      "year_of_release    0\n",
      "genre              0\n",
      "na_sales           0\n",
      "eu_sales           0\n",
      "jp_sales           0\n",
      "other_sales        0\n",
      "critic_score       0\n",
      "user_score         0\n",
      "rating             0\n",
      "dtype: int64\n"
     ]
    }
   ],
   "source": [
    "print(df.isna().sum())"
   ]
  },
  {
   "cell_type": "markdown",
   "metadata": {},
   "source": [
    "Пропусков в таблице не осталось. Однако проверим предположение о природе появления таковых. Пойдем \"от противного\" и попытаемся найти строку с пропусками в \"рейтингах\" и с годом выпуска после 2010 года. Зная, что в столбце user_score \"пропуски\" имеют значение -10, вызовем:"
   ]
  },
  {
   "cell_type": "code",
   "execution_count": 17,
   "metadata": {},
   "outputs": [
    {
     "data": {
      "text/html": [
       "<div>\n",
       "<style scoped>\n",
       "    .dataframe tbody tr th:only-of-type {\n",
       "        vertical-align: middle;\n",
       "    }\n",
       "\n",
       "    .dataframe tbody tr th {\n",
       "        vertical-align: top;\n",
       "    }\n",
       "\n",
       "    .dataframe thead th {\n",
       "        text-align: right;\n",
       "    }\n",
       "</style>\n",
       "<table border=\"1\" class=\"dataframe\">\n",
       "  <thead>\n",
       "    <tr style=\"text-align: right;\">\n",
       "      <th></th>\n",
       "      <th>name</th>\n",
       "      <th>platform</th>\n",
       "      <th>year_of_release</th>\n",
       "      <th>genre</th>\n",
       "      <th>na_sales</th>\n",
       "      <th>eu_sales</th>\n",
       "      <th>jp_sales</th>\n",
       "      <th>other_sales</th>\n",
       "      <th>critic_score</th>\n",
       "      <th>user_score</th>\n",
       "      <th>rating</th>\n",
       "    </tr>\n",
       "  </thead>\n",
       "  <tbody>\n",
       "    <tr>\n",
       "      <th>31</th>\n",
       "      <td>Call of Duty: Black Ops 3</td>\n",
       "      <td>PS4</td>\n",
       "      <td>2015</td>\n",
       "      <td>Shooter</td>\n",
       "      <td>6.03</td>\n",
       "      <td>5.86</td>\n",
       "      <td>0.36</td>\n",
       "      <td>2.38</td>\n",
       "      <td>-100</td>\n",
       "      <td>-10.0</td>\n",
       "      <td>RP</td>\n",
       "    </tr>\n",
       "    <tr>\n",
       "      <th>33</th>\n",
       "      <td>Pokemon X/Pokemon Y</td>\n",
       "      <td>3DS</td>\n",
       "      <td>2013</td>\n",
       "      <td>Role-Playing</td>\n",
       "      <td>5.28</td>\n",
       "      <td>4.19</td>\n",
       "      <td>4.35</td>\n",
       "      <td>0.78</td>\n",
       "      <td>-100</td>\n",
       "      <td>-10.0</td>\n",
       "      <td>RP</td>\n",
       "    </tr>\n",
       "    <tr>\n",
       "      <th>47</th>\n",
       "      <td>Pokemon Omega Ruby/Pokemon Alpha Sapphire</td>\n",
       "      <td>3DS</td>\n",
       "      <td>2014</td>\n",
       "      <td>Role-Playing</td>\n",
       "      <td>4.35</td>\n",
       "      <td>3.49</td>\n",
       "      <td>3.10</td>\n",
       "      <td>0.74</td>\n",
       "      <td>-100</td>\n",
       "      <td>-10.0</td>\n",
       "      <td>RP</td>\n",
       "    </tr>\n",
       "    <tr>\n",
       "      <th>72</th>\n",
       "      <td>Minecraft</td>\n",
       "      <td>X360</td>\n",
       "      <td>2013</td>\n",
       "      <td>Misc</td>\n",
       "      <td>5.70</td>\n",
       "      <td>2.65</td>\n",
       "      <td>0.02</td>\n",
       "      <td>0.81</td>\n",
       "      <td>-100</td>\n",
       "      <td>-10.0</td>\n",
       "      <td>RP</td>\n",
       "    </tr>\n",
       "    <tr>\n",
       "      <th>83</th>\n",
       "      <td>Pokemon Black 2/Pokemon White 2</td>\n",
       "      <td>DS</td>\n",
       "      <td>2012</td>\n",
       "      <td>Role-Playing</td>\n",
       "      <td>2.79</td>\n",
       "      <td>1.72</td>\n",
       "      <td>3.14</td>\n",
       "      <td>0.41</td>\n",
       "      <td>-100</td>\n",
       "      <td>-10.0</td>\n",
       "      <td>RP</td>\n",
       "    </tr>\n",
       "    <tr>\n",
       "      <th>...</th>\n",
       "      <td>...</td>\n",
       "      <td>...</td>\n",
       "      <td>...</td>\n",
       "      <td>...</td>\n",
       "      <td>...</td>\n",
       "      <td>...</td>\n",
       "      <td>...</td>\n",
       "      <td>...</td>\n",
       "      <td>...</td>\n",
       "      <td>...</td>\n",
       "      <td>...</td>\n",
       "    </tr>\n",
       "    <tr>\n",
       "      <th>16703</th>\n",
       "      <td>Strawberry Nauts</td>\n",
       "      <td>PSV</td>\n",
       "      <td>2016</td>\n",
       "      <td>Adventure</td>\n",
       "      <td>0.00</td>\n",
       "      <td>0.00</td>\n",
       "      <td>0.01</td>\n",
       "      <td>0.00</td>\n",
       "      <td>-100</td>\n",
       "      <td>-10.0</td>\n",
       "      <td>RP</td>\n",
       "    </tr>\n",
       "    <tr>\n",
       "      <th>16707</th>\n",
       "      <td>Aiyoku no Eustia</td>\n",
       "      <td>PSV</td>\n",
       "      <td>2014</td>\n",
       "      <td>Misc</td>\n",
       "      <td>0.00</td>\n",
       "      <td>0.00</td>\n",
       "      <td>0.01</td>\n",
       "      <td>0.00</td>\n",
       "      <td>-100</td>\n",
       "      <td>-10.0</td>\n",
       "      <td>RP</td>\n",
       "    </tr>\n",
       "    <tr>\n",
       "      <th>16710</th>\n",
       "      <td>Samurai Warriors: Sanada Maru</td>\n",
       "      <td>PS3</td>\n",
       "      <td>2016</td>\n",
       "      <td>Action</td>\n",
       "      <td>0.00</td>\n",
       "      <td>0.00</td>\n",
       "      <td>0.01</td>\n",
       "      <td>0.00</td>\n",
       "      <td>-100</td>\n",
       "      <td>-10.0</td>\n",
       "      <td>RP</td>\n",
       "    </tr>\n",
       "    <tr>\n",
       "      <th>16712</th>\n",
       "      <td>Haitaka no Psychedelica</td>\n",
       "      <td>PSV</td>\n",
       "      <td>2016</td>\n",
       "      <td>Adventure</td>\n",
       "      <td>0.00</td>\n",
       "      <td>0.00</td>\n",
       "      <td>0.01</td>\n",
       "      <td>0.00</td>\n",
       "      <td>-100</td>\n",
       "      <td>-10.0</td>\n",
       "      <td>RP</td>\n",
       "    </tr>\n",
       "    <tr>\n",
       "      <th>16714</th>\n",
       "      <td>Winning Post 8 2016</td>\n",
       "      <td>PSV</td>\n",
       "      <td>2016</td>\n",
       "      <td>Simulation</td>\n",
       "      <td>0.00</td>\n",
       "      <td>0.00</td>\n",
       "      <td>0.01</td>\n",
       "      <td>0.00</td>\n",
       "      <td>-100</td>\n",
       "      <td>-10.0</td>\n",
       "      <td>RP</td>\n",
       "    </tr>\n",
       "  </tbody>\n",
       "</table>\n",
       "<p>1990 rows × 11 columns</p>\n",
       "</div>"
      ],
      "text/plain": [
       "                                            name platform  year_of_release  \\\n",
       "31                     Call of Duty: Black Ops 3      PS4             2015   \n",
       "33                           Pokemon X/Pokemon Y      3DS             2013   \n",
       "47     Pokemon Omega Ruby/Pokemon Alpha Sapphire      3DS             2014   \n",
       "72                                     Minecraft     X360             2013   \n",
       "83               Pokemon Black 2/Pokemon White 2       DS             2012   \n",
       "...                                          ...      ...              ...   \n",
       "16703                           Strawberry Nauts      PSV             2016   \n",
       "16707                           Aiyoku no Eustia      PSV             2014   \n",
       "16710              Samurai Warriors: Sanada Maru      PS3             2016   \n",
       "16712                    Haitaka no Psychedelica      PSV             2016   \n",
       "16714                        Winning Post 8 2016      PSV             2016   \n",
       "\n",
       "              genre  na_sales  eu_sales  jp_sales  other_sales  critic_score  \\\n",
       "31          Shooter      6.03      5.86      0.36         2.38          -100   \n",
       "33     Role-Playing      5.28      4.19      4.35         0.78          -100   \n",
       "47     Role-Playing      4.35      3.49      3.10         0.74          -100   \n",
       "72             Misc      5.70      2.65      0.02         0.81          -100   \n",
       "83     Role-Playing      2.79      1.72      3.14         0.41          -100   \n",
       "...             ...       ...       ...       ...          ...           ...   \n",
       "16703     Adventure      0.00      0.00      0.01         0.00          -100   \n",
       "16707          Misc      0.00      0.00      0.01         0.00          -100   \n",
       "16710        Action      0.00      0.00      0.01         0.00          -100   \n",
       "16712     Adventure      0.00      0.00      0.01         0.00          -100   \n",
       "16714    Simulation      0.00      0.00      0.01         0.00          -100   \n",
       "\n",
       "       user_score rating  \n",
       "31          -10.0     RP  \n",
       "33          -10.0     RP  \n",
       "47          -10.0     RP  \n",
       "72          -10.0     RP  \n",
       "83          -10.0     RP  \n",
       "...           ...    ...  \n",
       "16703       -10.0     RP  \n",
       "16707       -10.0     RP  \n",
       "16710       -10.0     RP  \n",
       "16712       -10.0     RP  \n",
       "16714       -10.0     RP  \n",
       "\n",
       "[1990 rows x 11 columns]"
      ]
     },
     "metadata": {},
     "output_type": "display_data"
    }
   ],
   "source": [
    "display(df[(df['year_of_release'] > 2010) & (df['user_score'] == -10)])"
   ]
  },
  {
   "cell_type": "markdown",
   "metadata": {},
   "source": [
    "Таковых действительно много. Значит, пропуски обусловлены не только годом выпуска игры. Предполагаю, пропуски вдобавок могли появиться из-за того, что данные в датасет были загружены с нескольких источников, и в каких-то из них информация о рейтинге могла быть не представлена."
   ]
  },
  {
   "cell_type": "markdown",
   "metadata": {},
   "source": [
    "Добавим в таблицу столбец с суммарными продажами во всех регионах:"
   ]
  },
  {
   "cell_type": "code",
   "execution_count": 18,
   "metadata": {},
   "outputs": [
    {
     "data": {
      "text/html": [
       "<div>\n",
       "<style scoped>\n",
       "    .dataframe tbody tr th:only-of-type {\n",
       "        vertical-align: middle;\n",
       "    }\n",
       "\n",
       "    .dataframe tbody tr th {\n",
       "        vertical-align: top;\n",
       "    }\n",
       "\n",
       "    .dataframe thead th {\n",
       "        text-align: right;\n",
       "    }\n",
       "</style>\n",
       "<table border=\"1\" class=\"dataframe\">\n",
       "  <thead>\n",
       "    <tr style=\"text-align: right;\">\n",
       "      <th></th>\n",
       "      <th>name</th>\n",
       "      <th>platform</th>\n",
       "      <th>year_of_release</th>\n",
       "      <th>genre</th>\n",
       "      <th>na_sales</th>\n",
       "      <th>eu_sales</th>\n",
       "      <th>jp_sales</th>\n",
       "      <th>other_sales</th>\n",
       "      <th>critic_score</th>\n",
       "      <th>user_score</th>\n",
       "      <th>rating</th>\n",
       "      <th>total_sales</th>\n",
       "    </tr>\n",
       "  </thead>\n",
       "  <tbody>\n",
       "    <tr>\n",
       "      <th>0</th>\n",
       "      <td>Wii Sports</td>\n",
       "      <td>Wii</td>\n",
       "      <td>2006</td>\n",
       "      <td>Sports</td>\n",
       "      <td>41.36</td>\n",
       "      <td>28.96</td>\n",
       "      <td>3.77</td>\n",
       "      <td>8.45</td>\n",
       "      <td>76</td>\n",
       "      <td>8.0</td>\n",
       "      <td>E</td>\n",
       "      <td>82.54</td>\n",
       "    </tr>\n",
       "    <tr>\n",
       "      <th>1</th>\n",
       "      <td>Super Mario Bros.</td>\n",
       "      <td>NES</td>\n",
       "      <td>1985</td>\n",
       "      <td>Platform</td>\n",
       "      <td>29.08</td>\n",
       "      <td>3.58</td>\n",
       "      <td>6.81</td>\n",
       "      <td>0.77</td>\n",
       "      <td>-100</td>\n",
       "      <td>-10.0</td>\n",
       "      <td>RP</td>\n",
       "      <td>40.24</td>\n",
       "    </tr>\n",
       "    <tr>\n",
       "      <th>2</th>\n",
       "      <td>Mario Kart Wii</td>\n",
       "      <td>Wii</td>\n",
       "      <td>2008</td>\n",
       "      <td>Racing</td>\n",
       "      <td>15.68</td>\n",
       "      <td>12.76</td>\n",
       "      <td>3.79</td>\n",
       "      <td>3.29</td>\n",
       "      <td>82</td>\n",
       "      <td>8.3</td>\n",
       "      <td>E</td>\n",
       "      <td>35.52</td>\n",
       "    </tr>\n",
       "    <tr>\n",
       "      <th>3</th>\n",
       "      <td>Wii Sports Resort</td>\n",
       "      <td>Wii</td>\n",
       "      <td>2009</td>\n",
       "      <td>Sports</td>\n",
       "      <td>15.61</td>\n",
       "      <td>10.93</td>\n",
       "      <td>3.28</td>\n",
       "      <td>2.95</td>\n",
       "      <td>80</td>\n",
       "      <td>8.0</td>\n",
       "      <td>E</td>\n",
       "      <td>32.77</td>\n",
       "    </tr>\n",
       "    <tr>\n",
       "      <th>4</th>\n",
       "      <td>Pokemon Red/Pokemon Blue</td>\n",
       "      <td>GB</td>\n",
       "      <td>1996</td>\n",
       "      <td>Role-Playing</td>\n",
       "      <td>11.27</td>\n",
       "      <td>8.89</td>\n",
       "      <td>10.22</td>\n",
       "      <td>1.00</td>\n",
       "      <td>-100</td>\n",
       "      <td>-10.0</td>\n",
       "      <td>RP</td>\n",
       "      <td>31.38</td>\n",
       "    </tr>\n",
       "  </tbody>\n",
       "</table>\n",
       "</div>"
      ],
      "text/plain": [
       "                       name platform  year_of_release         genre  na_sales  \\\n",
       "0                Wii Sports      Wii             2006        Sports     41.36   \n",
       "1         Super Mario Bros.      NES             1985      Platform     29.08   \n",
       "2            Mario Kart Wii      Wii             2008        Racing     15.68   \n",
       "3         Wii Sports Resort      Wii             2009        Sports     15.61   \n",
       "4  Pokemon Red/Pokemon Blue       GB             1996  Role-Playing     11.27   \n",
       "\n",
       "   eu_sales  jp_sales  other_sales  critic_score  user_score rating  \\\n",
       "0     28.96      3.77         8.45            76         8.0      E   \n",
       "1      3.58      6.81         0.77          -100       -10.0     RP   \n",
       "2     12.76      3.79         3.29            82         8.3      E   \n",
       "3     10.93      3.28         2.95            80         8.0      E   \n",
       "4      8.89     10.22         1.00          -100       -10.0     RP   \n",
       "\n",
       "   total_sales  \n",
       "0        82.54  \n",
       "1        40.24  \n",
       "2        35.52  \n",
       "3        32.77  \n",
       "4        31.38  "
      ]
     },
     "metadata": {},
     "output_type": "display_data"
    }
   ],
   "source": [
    "df['total_sales'] = df['na_sales'] + df['eu_sales'] + df['jp_sales'] + df['other_sales']\n",
    "display(df.head()) # выведем ее на экран"
   ]
  },
  {
   "cell_type": "markdown",
   "metadata": {},
   "source": [
    "**ВЫВОД**\n",
    "\n",
    "В результате выполнения предобработки данных названия столбцов были приведены к нижнему регистру. Также изменили типы данных в столбцах critic_score, year_of_release и user_score на int, int и float соответственно. Пропуски были либо удалены, либо заменены на типовые значения, либо на значения выбивающиеся (с целью идентификации таковых от остальных). В датафрейм добавлен столбец с суммарными продажами."
   ]
  },
  {
   "cell_type": "markdown",
   "metadata": {},
   "source": [
    "## Исследовательский анализ данных"
   ]
  },
  {
   "cell_type": "markdown",
   "metadata": {},
   "source": [
    "Посмотрим, сколько игр выпускалось в разные годы"
   ]
  },
  {
   "cell_type": "code",
   "execution_count": 19,
   "metadata": {},
   "outputs": [
    {
     "data": {
      "text/plain": [
       "<AxesSubplot:xlabel='Год', ylabel='Frequency'>"
      ]
     },
     "execution_count": 19,
     "metadata": {},
     "output_type": "execute_result"
    },
    {
     "data": {
      "image/png": "[encoded data removed]",
      "text/plain": [
       "<Figure size 432x288 with 1 Axes>"
      ]
     },
     "metadata": {
      "needs_background": "light"
     },
     "output_type": "display_data"
    }
   ],
   "source": [
    "df['year_of_release'].value_counts()\n",
    "ax = plt.gca()\n",
    "ax.set_xlabel(\"Год\", fontsize=12, color='blue')\n",
    "ax.set_ylabel(\"Количество выпущенных игр\", fontsize=12, color='orange')\n",
    "df['year_of_release'].plot(kind='hist', bins=37, range=(1980,2016), grid=True) "
   ]
  },
  {
   "cell_type": "markdown",
   "metadata": {},
   "source": [
    "Как можно заметить, с 2009 года выпускается все меньше компьютерных игр. Предлагаю изучить более делатьно данные о продажах игр с 2010 года."
   ]
  },
  {
   "cell_type": "code",
   "execution_count": 20,
   "metadata": {},
   "outputs": [
    {
     "data": {
      "text/plain": [
       "<AxesSubplot:xlabel='Год', ylabel='Frequency'>"
      ]
     },
     "execution_count": 20,
     "metadata": {},
     "output_type": "execute_result"
    },
    {
     "data": {
      "image/png": "[encoded data removed]",
      "text/plain": [
       "<Figure size 432x288 with 1 Axes>"
      ]
     },
     "metadata": {
      "needs_background": "light"
     },
     "output_type": "display_data"
    }
   ],
   "source": [
    "ax = plt.gca()\n",
    "ax.set_xlabel(\"Год\", fontsize=12, color='blue')\n",
    "ax.set_ylabel(\"Количество выпущенных игр\", fontsize=12, color='orange')\n",
    "df['year_of_release'].plot(kind='hist', bins=8, range=(2009,2016), grid=True) "
   ]
  },
  {
   "cell_type": "markdown",
   "metadata": {},
   "source": [
    "Возможно, убывание графика связано с тем, что многие перешли на разработку игр/приложений для смартфонов, поскольку затраты на таковые ниже. Можно заметить, что в 2011 году резко сократилось число выпускаемых компьютерных игр. Начиная с 2012 года, число выпускаемых компьютерных игр колеблется в районе 500-600 ед./год"
   ]
  },
  {
   "cell_type": "markdown",
   "metadata": {},
   "source": [
    "**Выберем платформы с наибольшими суммарными продажами:**"
   ]
  },
  {
   "cell_type": "code",
   "execution_count": 21,
   "metadata": {},
   "outputs": [
    {
     "data": {
      "text/plain": [
       "<AxesSubplot:xlabel='platform'>"
      ]
     },
     "execution_count": 21,
     "metadata": {},
     "output_type": "execute_result"
    },
    {
     "data": {
      "image/png": "[encoded data removed]",
      "text/plain": [
       "<Figure size 432x288 with 1 Axes>"
      ]
     },
     "metadata": {
      "needs_background": "light"
     },
     "output_type": "display_data"
    }
   ],
   "source": [
    "df.groupby('platform')['total_sales'].sum().plot(kind='bar', grid=True)"
   ]
  },
  {
   "cell_type": "markdown",
   "metadata": {},
   "source": [
    "Сильно заметна группа лидеров по суммарным продажам. Отнесем к таковым те платформы, на которые было продано более 600 млн копий. Получилось, 6 штук, выберем их. Хорошо, что в нашей выборке оказалсь PS трех разных поколений - по ним увидим продолжительность каждого. PS - самая старая из таковых. Была выпущена в 1994 году, потому оставим только данные не позже него:"
   ]
  },
  {
   "cell_type": "code",
   "execution_count": 22,
   "metadata": {},
   "outputs": [],
   "source": [
    "df_1994=df[df['year_of_release']>=1994] \n",
    "platforms_leaders = df_1994.groupby('platform')['total_sales'].sum().sort_values()[-6:].index.tolist()"
   ]
  },
  {
   "cell_type": "code",
   "execution_count": 23,
   "metadata": {},
   "outputs": [
    {
     "data": {
      "application/vnd.plotly.v1+json": {
       "config": {
        "plotlyServerURL": "https://plot.ly"
       },
       "data": [
        {
         "name": "PS",
         "type": "bar",
         "x": [
          1994,
          1995,
          1996,
          1997,
          1998,
          1999,
          2000,
          2001,
          2002,
          2003
         ],
         "y": [
          6.03,
          35.96,
          94.7,
          136.17000000000002,
          169.49,
          144.53,
          96.37,
          35.59,
          6.67,
          2.0700000000000003
         ]
        },
        {
         "name": "DS",
         "type": "bar",
         "x": [
          2004,
          2005,
          2006,
          2007,
          2008,
          2009,
          2010,
          2011,
          2012,
          2013
         ],
         "y": [
          17.27,
          130.14,
          119.81,
          146.94,
          145.31,
          119.54,
          85.02,
          26.18,
          11.01,
          1.54
         ]
        },
        {
         "name": "Wii",
         "type": "bar",
         "x": [
          2006,
          2007,
          2008,
          2009,
          2010,
          2011,
          2012,
          2013,
          2014,
          2015,
          2016
         ],
         "y": [
          137.15,
          152.77,
          171.32,
          206.97,
          127.95,
          59.65,
          21.71,
          8.59,
          3.75,
          1.14,
          0.18
         ]
        },
        {
         "name": "PS3",
         "type": "bar",
         "x": [
          2006,
          2007,
          2008,
          2009,
          2010,
          2011,
          2012,
          2013,
          2014,
          2015,
          2016
         ],
         "y": [
          20.96,
          73.19,
          118.52,
          130.93,
          142.17,
          156.78,
          107.36,
          113.25,
          47.760000000000005,
          16.82,
          3.6
         ]
        },
        {
         "name": "X360",
         "type": "bar",
         "x": [
          2005,
          2006,
          2007,
          2008,
          2009,
          2010,
          2011,
          2012,
          2013,
          2014,
          2015,
          2016
         ],
         "y": [
          8.25,
          51.620000000000005,
          95.41,
          135.26,
          120.29,
          170.03,
          143.84,
          99.74000000000001,
          88.58,
          34.74,
          11.959999999999999,
          1.52
         ]
        },
        {
         "name": "PS2",
         "type": "bar",
         "x": [
          2000,
          2001,
          2002,
          2003,
          2004,
          2005,
          2006,
          2007,
          2008,
          2009,
          2010,
          2011
         ],
         "y": [
          39.17,
          166.43,
          205.38,
          184.31,
          211.81,
          160.66,
          103.42,
          75.99,
          53.9,
          26.4,
          5.64,
          0.45
         ]
        }
       ],
       "layout": {
        "template": {
         "data": {
          "bar": [
           {
            "error_x": {
             "color": "#2a3f5f"
            },
            "error_y": {
             "color": "#2a3f5f"
            },
            "marker": {
             "line": {
              "color": "#E5ECF6",
              "width": 0.5
             },
             "pattern": {
              "fillmode": "overlay",
              "size": 10,
              "solidity": 0.2
             }
            },
            "type": "bar"
           }
          ],
          "barpolar": [
           {
            "marker": {
             "line": {
              "color": "#E5ECF6",
              "width": 0.5
             },
             "pattern": {
              "fillmode": "overlay",
              "size": 10,
              "solidity": 0.2
             }
            },
            "type": "barpolar"
           }
          ],
          "carpet": [
           {
            "aaxis": {
             "endlinecolor": "#2a3f5f",
             "gridcolor": "white",
             "linecolor": "white",
             "minorgridcolor": "white",
             "startlinecolor": "#2a3f5f"
            },
            "baxis": {
             "endlinecolor": "#2a3f5f",
             "gridcolor": "white",
             "linecolor": "white",
             "minorgridcolor": "white",
             "startlinecolor": "#2a3f5f"
            },
            "type": "carpet"
           }
          ],
          "choropleth": [
           {
            "colorbar": {
             "outlinewidth": 0,
             "ticks": ""
            },
            "type": "choropleth"
           }
          ],
          "contour": [
           {
            "colorbar": {
             "outlinewidth": 0,
             "ticks": ""
            },
            "colorscale": [
             [
              0,
              "#0d0887"
             ],
             [
              0.1111111111111111,
              "#46039f"
             ],
             [
              0.2222222222222222,
              "#7201a8"
             ],
             [
              0.3333333333333333,
              "#9c179e"
             ],
             [
              0.4444444444444444,
              "#bd3786"
             ],
             [
              0.5555555555555556,
              "#d8576b"
             ],
             [
              0.6666666666666666,
              "#ed7953"
             ],
             [
              0.7777777777777778,
              "#fb9f3a"
             ],
             [
              0.8888888888888888,
              "#fdca26"
             ],
             [
              1,
              "#f0f921"
             ]
            ],
            "type": "contour"
           }
          ],
          "contourcarpet": [
           {
            "colorbar": {
             "outlinewidth": 0,
             "ticks": ""
            },
            "type": "contourcarpet"
           }
          ],
          "heatmap": [
           {
            "colorbar": {
             "outlinewidth": 0,
             "ticks": ""
            },
            "colorscale": [
             [
              0,
              "#0d0887"
             ],
             [
              0.1111111111111111,
              "#46039f"
             ],
             [
              0.2222222222222222,
              "#7201a8"
             ],
             [
              0.3333333333333333,
              "#9c179e"
             ],
             [
              0.4444444444444444,
              "#bd3786"
             ],
             [
              0.5555555555555556,
              "#d8576b"
             ],
             [
              0.6666666666666666,
              "#ed7953"
             ],
             [
              0.7777777777777778,
              "#fb9f3a"
             ],
             [
              0.8888888888888888,
              "#fdca26"
             ],
             [
              1,
              "#f0f921"
             ]
            ],
            "type": "heatmap"
           }
          ],
          "heatmapgl": [
           {
            "colorbar": {
             "outlinewidth": 0,
             "ticks": ""
            },
            "colorscale": [
             [
              0,
              "#0d0887"
             ],
             [
              0.1111111111111111,
              "#46039f"
             ],
             [
              0.2222222222222222,
              "#7201a8"
             ],
             [
              0.3333333333333333,
              "#9c179e"
             ],
             [
              0.4444444444444444,
              "#bd3786"
             ],
             [
              0.5555555555555556,
              "#d8576b"
             ],
             [
              0.6666666666666666,
              "#ed7953"
             ],
             [
              0.7777777777777778,
              "#fb9f3a"
             ],
             [
              0.8888888888888888,
              "#fdca26"
             ],
             [
              1,
              "#f0f921"
             ]
            ],
            "type": "heatmapgl"
           }
          ],
          "histogram": [
           {
            "marker": {
             "pattern": {
              "fillmode": "overlay",
              "size": 10,
              "solidity": 0.2
             }
            },
            "type": "histogram"
           }
          ],
          "histogram2d": [
           {
            "colorbar": {
             "outlinewidth": 0,
             "ticks": ""
            },
            "colorscale": [
             [
              0,
              "#0d0887"
             ],
             [
              0.1111111111111111,
              "#46039f"
             ],
             [
              0.2222222222222222,
              "#7201a8"
             ],
             [
              0.3333333333333333,
              "#9c179e"
             ],
             [
              0.4444444444444444,
              "#bd3786"
             ],
             [
              0.5555555555555556,
              "#d8576b"
             ],
             [
              0.6666666666666666,
              "#ed7953"
             ],
             [
              0.7777777777777778,
              "#fb9f3a"
             ],
             [
              0.8888888888888888,
              "#fdca26"
             ],
             [
              1,
              "#f0f921"
             ]
            ],
            "type": "histogram2d"
           }
          ],
          "histogram2dcontour": [
           {
            "colorbar": {
             "outlinewidth": 0,
             "ticks": ""
            },
            "colorscale": [
             [
              0,
              "#0d0887"
             ],
             [
              0.1111111111111111,
              "#46039f"
             ],
             [
              0.2222222222222222,
              "#7201a8"
             ],
             [
              0.3333333333333333,
              "#9c179e"
             ],
             [
              0.4444444444444444,
              "#bd3786"
             ],
             [
              0.5555555555555556,
              "#d8576b"
             ],
             [
              0.6666666666666666,
              "#ed7953"
             ],
             [
              0.7777777777777778,
              "#fb9f3a"
             ],
             [
              0.8888888888888888,
              "#fdca26"
             ],
             [
              1,
              "#f0f921"
             ]
            ],
            "type": "histogram2dcontour"
           }
          ],
          "mesh3d": [
           {
            "colorbar": {
             "outlinewidth": 0,
             "ticks": ""
            },
            "type": "mesh3d"
           }
          ],
          "parcoords": [
           {
            "line": {
             "colorbar": {
              "outlinewidth": 0,
              "ticks": ""
             }
            },
            "type": "parcoords"
           }
          ],
          "pie": [
           {
            "automargin": true,
            "type": "pie"
           }
          ],
          "scatter": [
           {
            "marker": {
             "colorbar": {
              "outlinewidth": 0,
              "ticks": ""
             }
            },
            "type": "scatter"
           }
          ],
          "scatter3d": [
           {
            "line": {
             "colorbar": {
              "outlinewidth": 0,
              "ticks": ""
             }
            },
            "marker": {
             "colorbar": {
              "outlinewidth": 0,
              "ticks": ""
             }
            },
            "type": "scatter3d"
           }
          ],
          "scattercarpet": [
           {
            "marker": {
             "colorbar": {
              "outlinewidth": 0,
              "ticks": ""
             }
            },
            "type": "scattercarpet"
           }
          ],
          "scattergeo": [
           {
            "marker": {
             "colorbar": {
              "outlinewidth": 0,
              "ticks": ""
             }
            },
            "type": "scattergeo"
           }
          ],
          "scattergl": [
           {
            "marker": {
             "colorbar": {
              "outlinewidth": 0,
              "ticks": ""
             }
            },
            "type": "scattergl"
           }
          ],
          "scattermapbox": [
           {
            "marker": {
             "colorbar": {
              "outlinewidth": 0,
              "ticks": ""
             }
            },
            "type": "scattermapbox"
           }
          ],
          "scatterpolar": [
           {
            "marker": {
             "colorbar": {
              "outlinewidth": 0,
              "ticks": ""
             }
            },
            "type": "scatterpolar"
           }
          ],
          "scatterpolargl": [
           {
            "marker": {
             "colorbar": {
              "outlinewidth": 0,
              "ticks": ""
             }
            },
            "type": "scatterpolargl"
           }
          ],
          "scatterternary": [
           {
            "marker": {
             "colorbar": {
              "outlinewidth": 0,
              "ticks": ""
             }
            },
            "type": "scatterternary"
           }
          ],
          "surface": [
           {
            "colorbar": {
             "outlinewidth": 0,
             "ticks": ""
            },
            "colorscale": [
             [
              0,
              "#0d0887"
             ],
             [
              0.1111111111111111,
              "#46039f"
             ],
             [
              0.2222222222222222,
              "#7201a8"
             ],
             [
              0.3333333333333333,
              "#9c179e"
             ],
             [
              0.4444444444444444,
              "#bd3786"
             ],
             [
              0.5555555555555556,
              "#d8576b"
             ],
             [
              0.6666666666666666,
              "#ed7953"
             ],
             [
              0.7777777777777778,
              "#fb9f3a"
             ],
             [
              0.8888888888888888,
              "#fdca26"
             ],
             [
              1,
              "#f0f921"
             ]
            ],
            "type": "surface"
           }
          ],
          "table": [
           {
            "cells": {
             "fill": {
              "color": "#EBF0F8"
             },
             "line": {
              "color": "white"
             }
            },
            "header": {
             "fill": {
              "color": "#C8D4E3"
             },
             "line": {
              "color": "white"
             }
            },
            "type": "table"
           }
          ]
         },
         "layout": {
          "annotationdefaults": {
           "arrowcolor": "#2a3f5f",
           "arrowhead": 0,
           "arrowwidth": 1
          },
          "autotypenumbers": "strict",
          "coloraxis": {
           "colorbar": {
            "outlinewidth": 0,
            "ticks": ""
           }
          },
          "colorscale": {
           "diverging": [
            [
             0,
             "#8e0152"
            ],
            [
             0.1,
             "#c51b7d"
            ],
            [
             0.2,
             "#de77ae"
            ],
            [
             0.3,
             "#f1b6da"
            ],
            [
             0.4,
             "#fde0ef"
            ],
            [
             0.5,
             "#f7f7f7"
            ],
            [
             0.6,
             "#e6f5d0"
            ],
            [
             0.7,
             "#b8e186"
            ],
            [
             0.8,
             "#7fbc41"
            ],
            [
             0.9,
             "#4d9221"
            ],
            [
             1,
             "#276419"
            ]
           ],
           "sequential": [
            [
             0,
             "#0d0887"
            ],
            [
             0.1111111111111111,
             "#46039f"
            ],
            [
             0.2222222222222222,
             "#7201a8"
            ],
            [
             0.3333333333333333,
             "#9c179e"
            ],
            [
             0.4444444444444444,
             "#bd3786"
            ],
            [
             0.5555555555555556,
             "#d8576b"
            ],
            [
             0.6666666666666666,
             "#ed7953"
            ],
            [
             0.7777777777777778,
             "#fb9f3a"
            ],
            [
             0.8888888888888888,
             "#fdca26"
            ],
            [
             1,
             "#f0f921"
            ]
           ],
           "sequentialminus": [
            [
             0,
             "#0d0887"
            ],
            [
             0.1111111111111111,
             "#46039f"
            ],
            [
             0.2222222222222222,
             "#7201a8"
            ],
            [
             0.3333333333333333,
             "#9c179e"
            ],
            [
             0.4444444444444444,
             "#bd3786"
            ],
            [
             0.5555555555555556,
             "#d8576b"
            ],
            [
             0.6666666666666666,
             "#ed7953"
            ],
            [
             0.7777777777777778,
             "#fb9f3a"
            ],
            [
             0.8888888888888888,
             "#fdca26"
            ],
            [
             1,
             "#f0f921"
            ]
           ]
          },
          "colorway": [
           "#636efa",
           "#EF553B",
           "#00cc96",
           "#ab63fa",
           "#FFA15A",
           "#19d3f3",
           "#FF6692",
           "#B6E880",
           "#FF97FF",
           "#FECB52"
          ],
          "font": {
           "color": "#2a3f5f"
          },
          "geo": {
           "bgcolor": "white",
           "lakecolor": "white",
           "landcolor": "#E5ECF6",
           "showlakes": true,
           "showland": true,
           "subunitcolor": "white"
          },
          "hoverlabel": {
           "align": "left"
          },
          "hovermode": "closest",
          "mapbox": {
           "style": "light"
          },
          "paper_bgcolor": "white",
          "plot_bgcolor": "#E5ECF6",
          "polar": {
           "angularaxis": {
            "gridcolor": "white",
            "linecolor": "white",
            "ticks": ""
           },
           "bgcolor": "#E5ECF6",
           "radialaxis": {
            "gridcolor": "white",
            "linecolor": "white",
            "ticks": ""
           }
          },
          "scene": {
           "xaxis": {
            "backgroundcolor": "#E5ECF6",
            "gridcolor": "white",
            "gridwidth": 2,
            "linecolor": "white",
            "showbackground": true,
            "ticks": "",
            "zerolinecolor": "white"
           },
           "yaxis": {
            "backgroundcolor": "#E5ECF6",
            "gridcolor": "white",
            "gridwidth": 2,
            "linecolor": "white",
            "showbackground": true,
            "ticks": "",
            "zerolinecolor": "white"
           },
           "zaxis": {
            "backgroundcolor": "#E5ECF6",
            "gridcolor": "white",
            "gridwidth": 2,
            "linecolor": "white",
            "showbackground": true,
            "ticks": "",
            "zerolinecolor": "white"
           }
          },
          "shapedefaults": {
           "line": {
            "color": "#2a3f5f"
           }
          },
          "ternary": {
           "aaxis": {
            "gridcolor": "white",
            "linecolor": "white",
            "ticks": ""
           },
           "baxis": {
            "gridcolor": "white",
            "linecolor": "white",
            "ticks": ""
           },
           "bgcolor": "#E5ECF6",
           "caxis": {
            "gridcolor": "white",
            "linecolor": "white",
            "ticks": ""
           }
          },
          "title": {
           "x": 0.05
          },
          "xaxis": {
           "automargin": true,
           "gridcolor": "white",
           "linecolor": "white",
           "ticks": "",
           "title": {
            "standoff": 15
           },
           "zerolinecolor": "white",
           "zerolinewidth": 2
          },
          "yaxis": {
           "automargin": true,
           "gridcolor": "white",
           "linecolor": "white",
           "ticks": "",
           "title": {
            "standoff": 15
           },
           "zerolinecolor": "white",
           "zerolinewidth": 2
          }
         }
        },
        "title": {
         "text": "Продажи по годам"
        }
       }
      },
      "text/html": [
       "<div>                            <div id=\"2d38109d-2ce8-478a-8b78-0dbb18e4d03c\" class=\"plotly-graph-div\" style=\"height:525px; width:100%;\"></div>            <script type=\"text/javascript\">                require([\"plotly\"], function(Plotly) {                    window.PLOTLYENV=window.PLOTLYENV || {};                                    if (document.getElementById(\"2d38109d-2ce8-478a-8b78-0dbb18e4d03c\")) {                    Plotly.newPlot(                        \"2d38109d-2ce8-478a-8b78-0dbb18e4d03c\",                        [{\"name\":\"PS\",\"x\":[1994,1995,1996,1997,1998,1999,2000,2001,2002,2003],\"y\":[6.03,35.96,94.7,136.17000000000002,169.49,144.53,96.37,35.59,6.67,2.0700000000000003],\"type\":\"bar\"},{\"name\":\"DS\",\"x\":[2004,2005,2006,2007,2008,2009,2010,2011,2012,2013],\"y\":[17.27,130.14,119.81,146.94,145.31,119.54,85.02,26.18,11.01,1.54],\"type\":\"bar\"},{\"name\":\"Wii\",\"x\":[2006,2007,2008,2009,2010,2011,2012,2013,2014,2015,2016],\"y\":[137.15,152.77,171.32,206.97,127.95,59.65,21.71,8.59,3.75,1.14,0.18],\"type\":\"bar\"},{\"name\":\"PS3\",\"x\":[2006,2007,2008,2009,2010,2011,2012,2013,2014,2015,2016],\"y\":[20.96,73.19,118.52,130.93,142.17,156.78,107.36,113.25,47.760000000000005,16.82,3.6],\"type\":\"bar\"},{\"name\":\"X360\",\"x\":[2005,2006,2007,2008,2009,2010,2011,2012,2013,2014,2015,2016],\"y\":[8.25,51.620000000000005,95.41,135.26,120.29,170.03,143.84,99.74000000000001,88.58,34.74,11.959999999999999,1.52],\"type\":\"bar\"},{\"name\":\"PS2\",\"x\":[2000,2001,2002,2003,2004,2005,2006,2007,2008,2009,2010,2011],\"y\":[39.17,166.43,205.38,184.31,211.81,160.66,103.42,75.99,53.9,26.4,5.64,0.45],\"type\":\"bar\"}],                        {\"title\":{\"text\":\"\\u041f\\u0440\\u043e\\u0434\\u0430\\u0436\\u0438 \\u043f\\u043e \\u0433\\u043e\\u0434\\u0430\\u043c\"},\"template\":{\"data\":{\"bar\":[{\"error_x\":{\"color\":\"#2a3f5f\"},\"error_y\":{\"color\":\"#2a3f5f\"},\"marker\":{\"line\":{\"color\":\"#E5ECF6\",\"width\":0.5},\"pattern\":{\"fillmode\":\"overlay\",\"size\":10,\"solidity\":0.2}},\"type\":\"bar\"}],\"barpolar\":[{\"marker\":{\"line\":{\"color\":\"#E5ECF6\",\"width\":0.5},\"pattern\":{\"fillmode\":\"overlay\",\"size\":10,\"solidity\":0.2}},\"type\":\"barpolar\"}],\"carpet\":[{\"aaxis\":{\"endlinecolor\":\"#2a3f5f\",\"gridcolor\":\"white\",\"linecolor\":\"white\",\"minorgridcolor\":\"white\",\"startlinecolor\":\"#2a3f5f\"},\"baxis\":{\"endlinecolor\":\"#2a3f5f\",\"gridcolor\":\"white\",\"linecolor\":\"white\",\"minorgridcolor\":\"white\",\"startlinecolor\":\"#2a3f5f\"},\"type\":\"carpet\"}],\"choropleth\":[{\"colorbar\":{\"outlinewidth\":0,\"ticks\":\"\"},\"type\":\"choropleth\"}],\"contour\":[{\"colorbar\":{\"outlinewidth\":0,\"ticks\":\"\"},\"colorscale\":[[0.0,\"#0d0887\"],[0.1111111111111111,\"#46039f\"],[0.2222222222222222,\"#7201a8\"],[0.3333333333333333,\"#9c179e\"],[0.4444444444444444,\"#bd3786\"],[0.5555555555555556,\"#d8576b\"],[0.6666666666666666,\"#ed7953\"],[0.7777777777777778,\"#fb9f3a\"],[0.8888888888888888,\"#fdca26\"],[1.0,\"#f0f921\"]],\"type\":\"contour\"}],\"contourcarpet\":[{\"colorbar\":{\"outlinewidth\":0,\"ticks\":\"\"},\"type\":\"contourcarpet\"}],\"heatmap\":[{\"colorbar\":{\"outlinewidth\":0,\"ticks\":\"\"},\"colorscale\":[[0.0,\"#0d0887\"],[0.1111111111111111,\"#46039f\"],[0.2222222222222222,\"#7201a8\"],[0.3333333333333333,\"#9c179e\"],[0.4444444444444444,\"#bd3786\"],[0.5555555555555556,\"#d8576b\"],[0.6666666666666666,\"#ed7953\"],[0.7777777777777778,\"#fb9f3a\"],[0.8888888888888888,\"#fdca26\"],[1.0,\"#f0f921\"]],\"type\":\"heatmap\"}],\"heatmapgl\":[{\"colorbar\":{\"outlinewidth\":0,\"ticks\":\"\"},\"colorscale\":[[0.0,\"#0d0887\"],[0.1111111111111111,\"#46039f\"],[0.2222222222222222,\"#7201a8\"],[0.3333333333333333,\"#9c179e\"],[0.4444444444444444,\"#bd3786\"],[0.5555555555555556,\"#d8576b\"],[0.6666666666666666,\"#ed7953\"],[0.7777777777777778,\"#fb9f3a\"],[0.8888888888888888,\"#fdca26\"],[1.0,\"#f0f921\"]],\"type\":\"heatmapgl\"}],\"histogram\":[{\"marker\":{\"pattern\":{\"fillmode\":\"overlay\",\"size\":10,\"solidity\":0.2}},\"type\":\"histogram\"}],\"histogram2d\":[{\"colorbar\":{\"outlinewidth\":0,\"ticks\":\"\"},\"colorscale\":[[0.0,\"#0d0887\"],[0.1111111111111111,\"#46039f\"],[0.2222222222222222,\"#7201a8\"],[0.3333333333333333,\"#9c179e\"],[0.4444444444444444,\"#bd3786\"],[0.5555555555555556,\"#d8576b\"],[0.6666666666666666,\"#ed7953\"],[0.7777777777777778,\"#fb9f3a\"],[0.8888888888888888,\"#fdca26\"],[1.0,\"#f0f921\"]],\"type\":\"histogram2d\"}],\"histogram2dcontour\":[{\"colorbar\":{\"outlinewidth\":0,\"ticks\":\"\"},\"colorscale\":[[0.0,\"#0d0887\"],[0.1111111111111111,\"#46039f\"],[0.2222222222222222,\"#7201a8\"],[0.3333333333333333,\"#9c179e\"],[0.4444444444444444,\"#bd3786\"],[0.5555555555555556,\"#d8576b\"],[0.6666666666666666,\"#ed7953\"],[0.7777777777777778,\"#fb9f3a\"],[0.8888888888888888,\"#fdca26\"],[1.0,\"#f0f921\"]],\"type\":\"histogram2dcontour\"}],\"mesh3d\":[{\"colorbar\":{\"outlinewidth\":0,\"ticks\":\"\"},\"type\":\"mesh3d\"}],\"parcoords\":[{\"line\":{\"colorbar\":{\"outlinewidth\":0,\"ticks\":\"\"}},\"type\":\"parcoords\"}],\"pie\":[{\"automargin\":true,\"type\":\"pie\"}],\"scatter\":[{\"marker\":{\"colorbar\":{\"outlinewidth\":0,\"ticks\":\"\"}},\"type\":\"scatter\"}],\"scatter3d\":[{\"line\":{\"colorbar\":{\"outlinewidth\":0,\"ticks\":\"\"}},\"marker\":{\"colorbar\":{\"outlinewidth\":0,\"ticks\":\"\"}},\"type\":\"scatter3d\"}],\"scattercarpet\":[{\"marker\":{\"colorbar\":{\"outlinewidth\":0,\"ticks\":\"\"}},\"type\":\"scattercarpet\"}],\"scattergeo\":[{\"marker\":{\"colorbar\":{\"outlinewidth\":0,\"ticks\":\"\"}},\"type\":\"scattergeo\"}],\"scattergl\":[{\"marker\":{\"colorbar\":{\"outlinewidth\":0,\"ticks\":\"\"}},\"type\":\"scattergl\"}],\"scattermapbox\":[{\"marker\":{\"colorbar\":{\"outlinewidth\":0,\"ticks\":\"\"}},\"type\":\"scattermapbox\"}],\"scatterpolar\":[{\"marker\":{\"colorbar\":{\"outlinewidth\":0,\"ticks\":\"\"}},\"type\":\"scatterpolar\"}],\"scatterpolargl\":[{\"marker\":{\"colorbar\":{\"outlinewidth\":0,\"ticks\":\"\"}},\"type\":\"scatterpolargl\"}],\"scatterternary\":[{\"marker\":{\"colorbar\":{\"outlinewidth\":0,\"ticks\":\"\"}},\"type\":\"scatterternary\"}],\"surface\":[{\"colorbar\":{\"outlinewidth\":0,\"ticks\":\"\"},\"colorscale\":[[0.0,\"#0d0887\"],[0.1111111111111111,\"#46039f\"],[0.2222222222222222,\"#7201a8\"],[0.3333333333333333,\"#9c179e\"],[0.4444444444444444,\"#bd3786\"],[0.5555555555555556,\"#d8576b\"],[0.6666666666666666,\"#ed7953\"],[0.7777777777777778,\"#fb9f3a\"],[0.8888888888888888,\"#fdca26\"],[1.0,\"#f0f921\"]],\"type\":\"surface\"}],\"table\":[{\"cells\":{\"fill\":{\"color\":\"#EBF0F8\"},\"line\":{\"color\":\"white\"}},\"header\":{\"fill\":{\"color\":\"#C8D4E3\"},\"line\":{\"color\":\"white\"}},\"type\":\"table\"}]},\"layout\":{\"annotationdefaults\":{\"arrowcolor\":\"#2a3f5f\",\"arrowhead\":0,\"arrowwidth\":1},\"autotypenumbers\":\"strict\",\"coloraxis\":{\"colorbar\":{\"outlinewidth\":0,\"ticks\":\"\"}},\"colorscale\":{\"diverging\":[[0,\"#8e0152\"],[0.1,\"#c51b7d\"],[0.2,\"#de77ae\"],[0.3,\"#f1b6da\"],[0.4,\"#fde0ef\"],[0.5,\"#f7f7f7\"],[0.6,\"#e6f5d0\"],[0.7,\"#b8e186\"],[0.8,\"#7fbc41\"],[0.9,\"#4d9221\"],[1,\"#276419\"]],\"sequential\":[[0.0,\"#0d0887\"],[0.1111111111111111,\"#46039f\"],[0.2222222222222222,\"#7201a8\"],[0.3333333333333333,\"#9c179e\"],[0.4444444444444444,\"#bd3786\"],[0.5555555555555556,\"#d8576b\"],[0.6666666666666666,\"#ed7953\"],[0.7777777777777778,\"#fb9f3a\"],[0.8888888888888888,\"#fdca26\"],[1.0,\"#f0f921\"]],\"sequentialminus\":[[0.0,\"#0d0887\"],[0.1111111111111111,\"#46039f\"],[0.2222222222222222,\"#7201a8\"],[0.3333333333333333,\"#9c179e\"],[0.4444444444444444,\"#bd3786\"],[0.5555555555555556,\"#d8576b\"],[0.6666666666666666,\"#ed7953\"],[0.7777777777777778,\"#fb9f3a\"],[0.8888888888888888,\"#fdca26\"],[1.0,\"#f0f921\"]]},\"colorway\":[\"#636efa\",\"#EF553B\",\"#00cc96\",\"#ab63fa\",\"#FFA15A\",\"#19d3f3\",\"#FF6692\",\"#B6E880\",\"#FF97FF\",\"#FECB52\"],\"font\":{\"color\":\"#2a3f5f\"},\"geo\":{\"bgcolor\":\"white\",\"lakecolor\":\"white\",\"landcolor\":\"#E5ECF6\",\"showlakes\":true,\"showland\":true,\"subunitcolor\":\"white\"},\"hoverlabel\":{\"align\":\"left\"},\"hovermode\":\"closest\",\"mapbox\":{\"style\":\"light\"},\"paper_bgcolor\":\"white\",\"plot_bgcolor\":\"#E5ECF6\",\"polar\":{\"angularaxis\":{\"gridcolor\":\"white\",\"linecolor\":\"white\",\"ticks\":\"\"},\"bgcolor\":\"#E5ECF6\",\"radialaxis\":{\"gridcolor\":\"white\",\"linecolor\":\"white\",\"ticks\":\"\"}},\"scene\":{\"xaxis\":{\"backgroundcolor\":\"#E5ECF6\",\"gridcolor\":\"white\",\"gridwidth\":2,\"linecolor\":\"white\",\"showbackground\":true,\"ticks\":\"\",\"zerolinecolor\":\"white\"},\"yaxis\":{\"backgroundcolor\":\"#E5ECF6\",\"gridcolor\":\"white\",\"gridwidth\":2,\"linecolor\":\"white\",\"showbackground\":true,\"ticks\":\"\",\"zerolinecolor\":\"white\"},\"zaxis\":{\"backgroundcolor\":\"#E5ECF6\",\"gridcolor\":\"white\",\"gridwidth\":2,\"linecolor\":\"white\",\"showbackground\":true,\"ticks\":\"\",\"zerolinecolor\":\"white\"}},\"shapedefaults\":{\"line\":{\"color\":\"#2a3f5f\"}},\"ternary\":{\"aaxis\":{\"gridcolor\":\"white\",\"linecolor\":\"white\",\"ticks\":\"\"},\"baxis\":{\"gridcolor\":\"white\",\"linecolor\":\"white\",\"ticks\":\"\"},\"bgcolor\":\"#E5ECF6\",\"caxis\":{\"gridcolor\":\"white\",\"linecolor\":\"white\",\"ticks\":\"\"}},\"title\":{\"x\":0.05},\"xaxis\":{\"automargin\":true,\"gridcolor\":\"white\",\"linecolor\":\"white\",\"ticks\":\"\",\"title\":{\"standoff\":15},\"zerolinecolor\":\"white\",\"zerolinewidth\":2},\"yaxis\":{\"automargin\":true,\"gridcolor\":\"white\",\"linecolor\":\"white\",\"ticks\":\"\",\"title\":{\"standoff\":15},\"zerolinecolor\":\"white\",\"zerolinewidth\":2}}}},                        {\"responsive\": true}                    ).then(function(){\n",
       "                            \n",
       "var gd = document.getElementById('2d38109d-2ce8-478a-8b78-0dbb18e4d03c');\n",
       "var x = new MutationObserver(function (mutations, observer) {{\n",
       "        var display = window.getComputedStyle(gd).display;\n",
       "        if (!display || display === 'none') {{\n",
       "            console.log([gd, 'removed!']);\n",
       "            Plotly.purge(gd);\n",
       "            observer.disconnect();\n",
       "        }}\n",
       "}});\n",
       "\n",
       "// Listen for the removal of the full notebook cells\n",
       "var notebookContainer = gd.closest('#notebook-container');\n",
       "if (notebookContainer) {{\n",
       "    x.observe(notebookContainer, {childList: true});\n",
       "}}\n",
       "\n",
       "// Listen for the clearing of the current output cell\n",
       "var outputEl = gd.closest('.output');\n",
       "if (outputEl) {{\n",
       "    x.observe(outputEl, {childList: true});\n",
       "}}\n",
       "\n",
       "                        })                };                });            </script>        </div>"
      ]
     },
     "metadata": {},
     "output_type": "display_data"
    }
   ],
   "source": [
    "data = []\n",
    "\n",
    "for platform in platforms_leaders:\n",
    "    data.append(\n",
    "        go.Bar(x=df_1994[df_1994.platform==platform].groupby(\"year_of_release\")['total_sales'].sum().index,\n",
    "               y=df_1994[df_1994.platform==platform].groupby(\"year_of_release\")['total_sales'].sum(),\n",
    "               name=platform)\n",
    "    )\n",
    "layout = {'title': 'Продажи по годам'}\n",
    "    \n",
    "fig = go.Figure(data=data, layout=layout)\n",
    "fig.show()"
   ]
  },
  {
   "cell_type": "markdown",
   "metadata": {},
   "source": [
    "Можно заметить, что продолжительность \"жизни\" каждой платформы составила около 10 лет. Как и ожидалось, мы увидели распределения, близкие к распределению Гаусса. Также можно заметить, как разные поколения приставок PS сменяют друг друга. \n",
    "\n",
    "Как мы отметили ранее, продажи сферы в целом, сейчас на спаде, начиная с 2009 года. Поскольку продолжительность \"жизни\" платформы составляет около 10, нам не имеет смысла вкладывать деньги в те, чьи продажи в 2017 упадут до минимальных значений. Потому предлагаю актуальным считать период, как раз, начиная с 2012 года: он совпадает с ситуацией на рынке в целом (без резких перепадов графика), а также вместит в себя интервал, когда потенциально прибыльная платформа выходит на свой пик."
   ]
  },
  {
   "cell_type": "code",
   "execution_count": 24,
   "metadata": {},
   "outputs": [
    {
     "data": {
      "text/plain": [
       "['DS', 'Wii', 'PSV', 'PC', 'WiiU', 'XOne', '3DS', 'X360', 'PS3', 'PS4']"
      ]
     },
     "metadata": {},
     "output_type": "display_data"
    }
   ],
   "source": [
    "df_2012 = df[df['year_of_release'] > 2011] #Таблица с актуальными данными\n",
    "platforms_2012 = df_2012.groupby('platform')['total_sales'].sum().sort_values()[-10:].index.tolist() #10 лидеров на актуальном участке\n",
    "display(platforms_2012)"
   ]
  },
  {
   "cell_type": "code",
   "execution_count": 25,
   "metadata": {},
   "outputs": [
    {
     "data": {
      "application/vnd.plotly.v1+json": {
       "config": {
        "plotlyServerURL": "https://plot.ly"
       },
       "data": [
        {
         "name": "DS",
         "type": "scatter",
         "x": [
          2012,
          2013
         ],
         "y": [
          11.01,
          1.54
         ]
        },
        {
         "name": "Wii",
         "type": "scatter",
         "x": [
          2012,
          2013,
          2014,
          2015,
          2016
         ],
         "y": [
          21.71,
          8.59,
          3.75,
          1.14,
          0.18
         ]
        },
        {
         "name": "PSV",
         "type": "scatter",
         "x": [
          2012,
          2013,
          2014,
          2015,
          2016
         ],
         "y": [
          16.19,
          10.59,
          11.9,
          6.25,
          4.25
         ]
        },
        {
         "name": "PC",
         "type": "scatter",
         "x": [
          2012,
          2013,
          2014,
          2015,
          2016
         ],
         "y": [
          23.22,
          12.38,
          13.280000000000001,
          8.520000000000001,
          5.25
         ]
        },
        {
         "name": "WiiU",
         "type": "scatter",
         "x": [
          2012,
          2013,
          2014,
          2015,
          2016
         ],
         "y": [
          17.560000000000002,
          21.650000000000002,
          22.03,
          16.35,
          4.6000000000000005
         ]
        },
        {
         "name": "XOne",
         "type": "scatter",
         "x": [
          2013,
          2014,
          2015,
          2016
         ],
         "y": [
          18.96,
          54.07,
          60.14,
          26.150000000000002
         ]
        },
        {
         "name": "3DS",
         "type": "scatter",
         "x": [
          2012,
          2013,
          2014,
          2015,
          2016
         ],
         "y": [
          51.36000000000001,
          56.57,
          43.76,
          27.78,
          15.14
         ]
        },
        {
         "name": "X360",
         "type": "scatter",
         "x": [
          2012,
          2013,
          2014,
          2015,
          2016
         ],
         "y": [
          99.74000000000001,
          88.58,
          34.74,
          11.959999999999999,
          1.52
         ]
        },
        {
         "name": "PS3",
         "type": "scatter",
         "x": [
          2012,
          2013,
          2014,
          2015,
          2016
         ],
         "y": [
          107.36,
          113.25,
          47.760000000000005,
          16.82,
          3.6
         ]
        },
        {
         "name": "PS4",
         "type": "scatter",
         "x": [
          2013,
          2014,
          2015,
          2016
         ],
         "y": [
          25.99,
          100,
          118.9,
          69.25
         ]
        }
       ],
       "layout": {
        "template": {
         "data": {
          "bar": [
           {
            "error_x": {
             "color": "#2a3f5f"
            },
            "error_y": {
             "color": "#2a3f5f"
            },
            "marker": {
             "line": {
              "color": "#E5ECF6",
              "width": 0.5
             },
             "pattern": {
              "fillmode": "overlay",
              "size": 10,
              "solidity": 0.2
             }
            },
            "type": "bar"
           }
          ],
          "barpolar": [
           {
            "marker": {
             "line": {
              "color": "#E5ECF6",
              "width": 0.5
             },
             "pattern": {
              "fillmode": "overlay",
              "size": 10,
              "solidity": 0.2
             }
            },
            "type": "barpolar"
           }
          ],
          "carpet": [
           {
            "aaxis": {
             "endlinecolor": "#2a3f5f",
             "gridcolor": "white",
             "linecolor": "white",
             "minorgridcolor": "white",
             "startlinecolor": "#2a3f5f"
            },
            "baxis": {
             "endlinecolor": "#2a3f5f",
             "gridcolor": "white",
             "linecolor": "white",
             "minorgridcolor": "white",
             "startlinecolor": "#2a3f5f"
            },
            "type": "carpet"
           }
          ],
          "choropleth": [
           {
            "colorbar": {
             "outlinewidth": 0,
             "ticks": ""
            },
            "type": "choropleth"
           }
          ],
          "contour": [
           {
            "colorbar": {
             "outlinewidth": 0,
             "ticks": ""
            },
            "colorscale": [
             [
              0,
              "#0d0887"
             ],
             [
              0.1111111111111111,
              "#46039f"
             ],
             [
              0.2222222222222222,
              "#7201a8"
             ],
             [
              0.3333333333333333,
              "#9c179e"
             ],
             [
              0.4444444444444444,
              "#bd3786"
             ],
             [
              0.5555555555555556,
              "#d8576b"
             ],
             [
              0.6666666666666666,
              "#ed7953"
             ],
             [
              0.7777777777777778,
              "#fb9f3a"
             ],
             [
              0.8888888888888888,
              "#fdca26"
             ],
             [
              1,
              "#f0f921"
             ]
            ],
            "type": "contour"
           }
          ],
          "contourcarpet": [
           {
            "colorbar": {
             "outlinewidth": 0,
             "ticks": ""
            },
            "type": "contourcarpet"
           }
          ],
          "heatmap": [
           {
            "colorbar": {
             "outlinewidth": 0,
             "ticks": ""
            },
            "colorscale": [
             [
              0,
              "#0d0887"
             ],
             [
              0.1111111111111111,
              "#46039f"
             ],
             [
              0.2222222222222222,
              "#7201a8"
             ],
             [
              0.3333333333333333,
              "#9c179e"
             ],
             [
              0.4444444444444444,
              "#bd3786"
             ],
             [
              0.5555555555555556,
              "#d8576b"
             ],
             [
              0.6666666666666666,
              "#ed7953"
             ],
             [
              0.7777777777777778,
              "#fb9f3a"
             ],
             [
              0.8888888888888888,
              "#fdca26"
             ],
             [
              1,
              "#f0f921"
             ]
            ],
            "type": "heatmap"
           }
          ],
          "heatmapgl": [
           {
            "colorbar": {
             "outlinewidth": 0,
             "ticks": ""
            },
            "colorscale": [
             [
              0,
              "#0d0887"
             ],
             [
              0.1111111111111111,
              "#46039f"
             ],
             [
              0.2222222222222222,
              "#7201a8"
             ],
             [
              0.3333333333333333,
              "#9c179e"
             ],
             [
              0.4444444444444444,
              "#bd3786"
             ],
             [
              0.5555555555555556,
              "#d8576b"
             ],
             [
              0.6666666666666666,
              "#ed7953"
             ],
             [
              0.7777777777777778,
              "#fb9f3a"
             ],
             [
              0.8888888888888888,
              "#fdca26"
             ],
             [
              1,
              "#f0f921"
             ]
            ],
            "type": "heatmapgl"
           }
          ],
          "histogram": [
           {
            "marker": {
             "pattern": {
              "fillmode": "overlay",
              "size": 10,
              "solidity": 0.2
             }
            },
            "type": "histogram"
           }
          ],
          "histogram2d": [
           {
            "colorbar": {
             "outlinewidth": 0,
             "ticks": ""
            },
            "colorscale": [
             [
              0,
              "#0d0887"
             ],
             [
              0.1111111111111111,
              "#46039f"
             ],
             [
              0.2222222222222222,
              "#7201a8"
             ],
             [
              0.3333333333333333,
              "#9c179e"
             ],
             [
              0.4444444444444444,
              "#bd3786"
             ],
             [
              0.5555555555555556,
              "#d8576b"
             ],
             [
              0.6666666666666666,
              "#ed7953"
             ],
             [
              0.7777777777777778,
              "#fb9f3a"
             ],
             [
              0.8888888888888888,
              "#fdca26"
             ],
             [
              1,
              "#f0f921"
             ]
            ],
            "type": "histogram2d"
           }
          ],
          "histogram2dcontour": [
           {
            "colorbar": {
             "outlinewidth": 0,
             "ticks": ""
            },
            "colorscale": [
             [
              0,
              "#0d0887"
             ],
             [
              0.1111111111111111,
              "#46039f"
             ],
             [
              0.2222222222222222,
              "#7201a8"
             ],
             [
              0.3333333333333333,
              "#9c179e"
             ],
             [
              0.4444444444444444,
              "#bd3786"
             ],
             [
              0.5555555555555556,
              "#d8576b"
             ],
             [
              0.6666666666666666,
              "#ed7953"
             ],
             [
              0.7777777777777778,
              "#fb9f3a"
             ],
             [
              0.8888888888888888,
              "#fdca26"
             ],
             [
              1,
              "#f0f921"
             ]
            ],
            "type": "histogram2dcontour"
           }
          ],
          "mesh3d": [
           {
            "colorbar": {
             "outlinewidth": 0,
             "ticks": ""
            },
            "type": "mesh3d"
           }
          ],
          "parcoords": [
           {
            "line": {
             "colorbar": {
              "outlinewidth": 0,
              "ticks": ""
             }
            },
            "type": "parcoords"
           }
          ],
          "pie": [
           {
            "automargin": true,
            "type": "pie"
           }
          ],
          "scatter": [
           {
            "marker": {
             "colorbar": {
              "outlinewidth": 0,
              "ticks": ""
             }
            },
            "type": "scatter"
           }
          ],
          "scatter3d": [
           {
            "line": {
             "colorbar": {
              "outlinewidth": 0,
              "ticks": ""
             }
            },
            "marker": {
             "colorbar": {
              "outlinewidth": 0,
              "ticks": ""
             }
            },
            "type": "scatter3d"
           }
          ],
          "scattercarpet": [
           {
            "marker": {
             "colorbar": {
              "outlinewidth": 0,
              "ticks": ""
             }
            },
            "type": "scattercarpet"
           }
          ],
          "scattergeo": [
           {
            "marker": {
             "colorbar": {
              "outlinewidth": 0,
              "ticks": ""
             }
            },
            "type": "scattergeo"
           }
          ],
          "scattergl": [
           {
            "marker": {
             "colorbar": {
              "outlinewidth": 0,
              "ticks": ""
             }
            },
            "type": "scattergl"
           }
          ],
          "scattermapbox": [
           {
            "marker": {
             "colorbar": {
              "outlinewidth": 0,
              "ticks": ""
             }
            },
            "type": "scattermapbox"
           }
          ],
          "scatterpolar": [
           {
            "marker": {
             "colorbar": {
              "outlinewidth": 0,
              "ticks": ""
             }
            },
            "type": "scatterpolar"
           }
          ],
          "scatterpolargl": [
           {
            "marker": {
             "colorbar": {
              "outlinewidth": 0,
              "ticks": ""
             }
            },
            "type": "scatterpolargl"
           }
          ],
          "scatterternary": [
           {
            "marker": {
             "colorbar": {
              "outlinewidth": 0,
              "ticks": ""
             }
            },
            "type": "scatterternary"
           }
          ],
          "surface": [
           {
            "colorbar": {
             "outlinewidth": 0,
             "ticks": ""
            },
            "colorscale": [
             [
              0,
              "#0d0887"
             ],
             [
              0.1111111111111111,
              "#46039f"
             ],
             [
              0.2222222222222222,
              "#7201a8"
             ],
             [
              0.3333333333333333,
              "#9c179e"
             ],
             [
              0.4444444444444444,
              "#bd3786"
             ],
             [
              0.5555555555555556,
              "#d8576b"
             ],
             [
              0.6666666666666666,
              "#ed7953"
             ],
             [
              0.7777777777777778,
              "#fb9f3a"
             ],
             [
              0.8888888888888888,
              "#fdca26"
             ],
             [
              1,
              "#f0f921"
             ]
            ],
            "type": "surface"
           }
          ],
          "table": [
           {
            "cells": {
             "fill": {
              "color": "#EBF0F8"
             },
             "line": {
              "color": "white"
             }
            },
            "header": {
             "fill": {
              "color": "#C8D4E3"
             },
             "line": {
              "color": "white"
             }
            },
            "type": "table"
           }
          ]
         },
         "layout": {
          "annotationdefaults": {
           "arrowcolor": "#2a3f5f",
           "arrowhead": 0,
           "arrowwidth": 1
          },
          "autotypenumbers": "strict",
          "coloraxis": {
           "colorbar": {
            "outlinewidth": 0,
            "ticks": ""
           }
          },
          "colorscale": {
           "diverging": [
            [
             0,
             "#8e0152"
            ],
            [
             0.1,
             "#c51b7d"
            ],
            [
             0.2,
             "#de77ae"
            ],
            [
             0.3,
             "#f1b6da"
            ],
            [
             0.4,
             "#fde0ef"
            ],
            [
             0.5,
             "#f7f7f7"
            ],
            [
             0.6,
             "#e6f5d0"
            ],
            [
             0.7,
             "#b8e186"
            ],
            [
             0.8,
             "#7fbc41"
            ],
            [
             0.9,
             "#4d9221"
            ],
            [
             1,
             "#276419"
            ]
           ],
           "sequential": [
            [
             0,
             "#0d0887"
            ],
            [
             0.1111111111111111,
             "#46039f"
            ],
            [
             0.2222222222222222,
             "#7201a8"
            ],
            [
             0.3333333333333333,
             "#9c179e"
            ],
            [
             0.4444444444444444,
             "#bd3786"
            ],
            [
             0.5555555555555556,
             "#d8576b"
            ],
            [
             0.6666666666666666,
             "#ed7953"
            ],
            [
             0.7777777777777778,
             "#fb9f3a"
            ],
            [
             0.8888888888888888,
             "#fdca26"
            ],
            [
             1,
             "#f0f921"
            ]
           ],
           "sequentialminus": [
            [
             0,
             "#0d0887"
            ],
            [
             0.1111111111111111,
             "#46039f"
            ],
            [
             0.2222222222222222,
             "#7201a8"
            ],
            [
             0.3333333333333333,
             "#9c179e"
            ],
            [
             0.4444444444444444,
             "#bd3786"
            ],
            [
             0.5555555555555556,
             "#d8576b"
            ],
            [
             0.6666666666666666,
             "#ed7953"
            ],
            [
             0.7777777777777778,
             "#fb9f3a"
            ],
            [
             0.8888888888888888,
             "#fdca26"
            ],
            [
             1,
             "#f0f921"
            ]
           ]
          },
          "colorway": [
           "#636efa",
           "#EF553B",
           "#00cc96",
           "#ab63fa",
           "#FFA15A",
           "#19d3f3",
           "#FF6692",
           "#B6E880",
           "#FF97FF",
           "#FECB52"
          ],
          "font": {
           "color": "#2a3f5f"
          },
          "geo": {
           "bgcolor": "white",
           "lakecolor": "white",
           "landcolor": "#E5ECF6",
           "showlakes": true,
           "showland": true,
           "subunitcolor": "white"
          },
          "hoverlabel": {
           "align": "left"
          },
          "hovermode": "closest",
          "mapbox": {
           "style": "light"
          },
          "paper_bgcolor": "white",
          "plot_bgcolor": "#E5ECF6",
          "polar": {
           "angularaxis": {
            "gridcolor": "white",
            "linecolor": "white",
            "ticks": ""
           },
           "bgcolor": "#E5ECF6",
           "radialaxis": {
            "gridcolor": "white",
            "linecolor": "white",
            "ticks": ""
           }
          },
          "scene": {
           "xaxis": {
            "backgroundcolor": "#E5ECF6",
            "gridcolor": "white",
            "gridwidth": 2,
            "linecolor": "white",
            "showbackground": true,
            "ticks": "",
            "zerolinecolor": "white"
           },
           "yaxis": {
            "backgroundcolor": "#E5ECF6",
            "gridcolor": "white",
            "gridwidth": 2,
            "linecolor": "white",
            "showbackground": true,
            "ticks": "",
            "zerolinecolor": "white"
           },
           "zaxis": {
            "backgroundcolor": "#E5ECF6",
            "gridcolor": "white",
            "gridwidth": 2,
            "linecolor": "white",
            "showbackground": true,
            "ticks": "",
            "zerolinecolor": "white"
           }
          },
          "shapedefaults": {
           "line": {
            "color": "#2a3f5f"
           }
          },
          "ternary": {
           "aaxis": {
            "gridcolor": "white",
            "linecolor": "white",
            "ticks": ""
           },
           "baxis": {
            "gridcolor": "white",
            "linecolor": "white",
            "ticks": ""
           },
           "bgcolor": "#E5ECF6",
           "caxis": {
            "gridcolor": "white",
            "linecolor": "white",
            "ticks": ""
           }
          },
          "title": {
           "x": 0.05
          },
          "xaxis": {
           "automargin": true,
           "gridcolor": "white",
           "linecolor": "white",
           "ticks": "",
           "title": {
            "standoff": 15
           },
           "zerolinecolor": "white",
           "zerolinewidth": 2
          },
          "yaxis": {
           "automargin": true,
           "gridcolor": "white",
           "linecolor": "white",
           "ticks": "",
           "title": {
            "standoff": 15
           },
           "zerolinecolor": "white",
           "zerolinewidth": 2
          }
         }
        },
        "title": {
         "text": "Продажи по годам"
        }
       }
      },
      "text/html": [
       "<div>                            <div id=\"25989343-8e92-4811-a52b-4a664077aaf0\" class=\"plotly-graph-div\" style=\"height:525px; width:100%;\"></div>            <script type=\"text/javascript\">                require([\"plotly\"], function(Plotly) {                    window.PLOTLYENV=window.PLOTLYENV || {};                                    if (document.getElementById(\"25989343-8e92-4811-a52b-4a664077aaf0\")) {                    Plotly.newPlot(                        \"25989343-8e92-4811-a52b-4a664077aaf0\",                        [{\"name\":\"DS\",\"x\":[2012,2013],\"y\":[11.01,1.54],\"type\":\"scatter\"},{\"name\":\"Wii\",\"x\":[2012,2013,2014,2015,2016],\"y\":[21.71,8.59,3.75,1.14,0.18],\"type\":\"scatter\"},{\"name\":\"PSV\",\"x\":[2012,2013,2014,2015,2016],\"y\":[16.19,10.59,11.9,6.25,4.25],\"type\":\"scatter\"},{\"name\":\"PC\",\"x\":[2012,2013,2014,2015,2016],\"y\":[23.22,12.38,13.280000000000001,8.520000000000001,5.25],\"type\":\"scatter\"},{\"name\":\"WiiU\",\"x\":[2012,2013,2014,2015,2016],\"y\":[17.560000000000002,21.650000000000002,22.03,16.35,4.6000000000000005],\"type\":\"scatter\"},{\"name\":\"XOne\",\"x\":[2013,2014,2015,2016],\"y\":[18.96,54.07,60.14,26.150000000000002],\"type\":\"scatter\"},{\"name\":\"3DS\",\"x\":[2012,2013,2014,2015,2016],\"y\":[51.36000000000001,56.57,43.76,27.78,15.14],\"type\":\"scatter\"},{\"name\":\"X360\",\"x\":[2012,2013,2014,2015,2016],\"y\":[99.74000000000001,88.58,34.74,11.959999999999999,1.52],\"type\":\"scatter\"},{\"name\":\"PS3\",\"x\":[2012,2013,2014,2015,2016],\"y\":[107.36,113.25,47.760000000000005,16.82,3.6],\"type\":\"scatter\"},{\"name\":\"PS4\",\"x\":[2013,2014,2015,2016],\"y\":[25.99,100.0,118.9,69.25],\"type\":\"scatter\"}],                        {\"title\":{\"text\":\"\\u041f\\u0440\\u043e\\u0434\\u0430\\u0436\\u0438 \\u043f\\u043e \\u0433\\u043e\\u0434\\u0430\\u043c\"},\"template\":{\"data\":{\"bar\":[{\"error_x\":{\"color\":\"#2a3f5f\"},\"error_y\":{\"color\":\"#2a3f5f\"},\"marker\":{\"line\":{\"color\":\"#E5ECF6\",\"width\":0.5},\"pattern\":{\"fillmode\":\"overlay\",\"size\":10,\"solidity\":0.2}},\"type\":\"bar\"}],\"barpolar\":[{\"marker\":{\"line\":{\"color\":\"#E5ECF6\",\"width\":0.5},\"pattern\":{\"fillmode\":\"overlay\",\"size\":10,\"solidity\":0.2}},\"type\":\"barpolar\"}],\"carpet\":[{\"aaxis\":{\"endlinecolor\":\"#2a3f5f\",\"gridcolor\":\"white\",\"linecolor\":\"white\",\"minorgridcolor\":\"white\",\"startlinecolor\":\"#2a3f5f\"},\"baxis\":{\"endlinecolor\":\"#2a3f5f\",\"gridcolor\":\"white\",\"linecolor\":\"white\",\"minorgridcolor\":\"white\",\"startlinecolor\":\"#2a3f5f\"},\"type\":\"carpet\"}],\"choropleth\":[{\"colorbar\":{\"outlinewidth\":0,\"ticks\":\"\"},\"type\":\"choropleth\"}],\"contour\":[{\"colorbar\":{\"outlinewidth\":0,\"ticks\":\"\"},\"colorscale\":[[0.0,\"#0d0887\"],[0.1111111111111111,\"#46039f\"],[0.2222222222222222,\"#7201a8\"],[0.3333333333333333,\"#9c179e\"],[0.4444444444444444,\"#bd3786\"],[0.5555555555555556,\"#d8576b\"],[0.6666666666666666,\"#ed7953\"],[0.7777777777777778,\"#fb9f3a\"],[0.8888888888888888,\"#fdca26\"],[1.0,\"#f0f921\"]],\"type\":\"contour\"}],\"contourcarpet\":[{\"colorbar\":{\"outlinewidth\":0,\"ticks\":\"\"},\"type\":\"contourcarpet\"}],\"heatmap\":[{\"colorbar\":{\"outlinewidth\":0,\"ticks\":\"\"},\"colorscale\":[[0.0,\"#0d0887\"],[0.1111111111111111,\"#46039f\"],[0.2222222222222222,\"#7201a8\"],[0.3333333333333333,\"#9c179e\"],[0.4444444444444444,\"#bd3786\"],[0.5555555555555556,\"#d8576b\"],[0.6666666666666666,\"#ed7953\"],[0.7777777777777778,\"#fb9f3a\"],[0.8888888888888888,\"#fdca26\"],[1.0,\"#f0f921\"]],\"type\":\"heatmap\"}],\"heatmapgl\":[{\"colorbar\":{\"outlinewidth\":0,\"ticks\":\"\"},\"colorscale\":[[0.0,\"#0d0887\"],[0.1111111111111111,\"#46039f\"],[0.2222222222222222,\"#7201a8\"],[0.3333333333333333,\"#9c179e\"],[0.4444444444444444,\"#bd3786\"],[0.5555555555555556,\"#d8576b\"],[0.6666666666666666,\"#ed7953\"],[0.7777777777777778,\"#fb9f3a\"],[0.8888888888888888,\"#fdca26\"],[1.0,\"#f0f921\"]],\"type\":\"heatmapgl\"}],\"histogram\":[{\"marker\":{\"pattern\":{\"fillmode\":\"overlay\",\"size\":10,\"solidity\":0.2}},\"type\":\"histogram\"}],\"histogram2d\":[{\"colorbar\":{\"outlinewidth\":0,\"ticks\":\"\"},\"colorscale\":[[0.0,\"#0d0887\"],[0.1111111111111111,\"#46039f\"],[0.2222222222222222,\"#7201a8\"],[0.3333333333333333,\"#9c179e\"],[0.4444444444444444,\"#bd3786\"],[0.5555555555555556,\"#d8576b\"],[0.6666666666666666,\"#ed7953\"],[0.7777777777777778,\"#fb9f3a\"],[0.8888888888888888,\"#fdca26\"],[1.0,\"#f0f921\"]],\"type\":\"histogram2d\"}],\"histogram2dcontour\":[{\"colorbar\":{\"outlinewidth\":0,\"ticks\":\"\"},\"colorscale\":[[0.0,\"#0d0887\"],[0.1111111111111111,\"#46039f\"],[0.2222222222222222,\"#7201a8\"],[0.3333333333333333,\"#9c179e\"],[0.4444444444444444,\"#bd3786\"],[0.5555555555555556,\"#d8576b\"],[0.6666666666666666,\"#ed7953\"],[0.7777777777777778,\"#fb9f3a\"],[0.8888888888888888,\"#fdca26\"],[1.0,\"#f0f921\"]],\"type\":\"histogram2dcontour\"}],\"mesh3d\":[{\"colorbar\":{\"outlinewidth\":0,\"ticks\":\"\"},\"type\":\"mesh3d\"}],\"parcoords\":[{\"line\":{\"colorbar\":{\"outlinewidth\":0,\"ticks\":\"\"}},\"type\":\"parcoords\"}],\"pie\":[{\"automargin\":true,\"type\":\"pie\"}],\"scatter\":[{\"marker\":{\"colorbar\":{\"outlinewidth\":0,\"ticks\":\"\"}},\"type\":\"scatter\"}],\"scatter3d\":[{\"line\":{\"colorbar\":{\"outlinewidth\":0,\"ticks\":\"\"}},\"marker\":{\"colorbar\":{\"outlinewidth\":0,\"ticks\":\"\"}},\"type\":\"scatter3d\"}],\"scattercarpet\":[{\"marker\":{\"colorbar\":{\"outlinewidth\":0,\"ticks\":\"\"}},\"type\":\"scattercarpet\"}],\"scattergeo\":[{\"marker\":{\"colorbar\":{\"outlinewidth\":0,\"ticks\":\"\"}},\"type\":\"scattergeo\"}],\"scattergl\":[{\"marker\":{\"colorbar\":{\"outlinewidth\":0,\"ticks\":\"\"}},\"type\":\"scattergl\"}],\"scattermapbox\":[{\"marker\":{\"colorbar\":{\"outlinewidth\":0,\"ticks\":\"\"}},\"type\":\"scattermapbox\"}],\"scatterpolar\":[{\"marker\":{\"colorbar\":{\"outlinewidth\":0,\"ticks\":\"\"}},\"type\":\"scatterpolar\"}],\"scatterpolargl\":[{\"marker\":{\"colorbar\":{\"outlinewidth\":0,\"ticks\":\"\"}},\"type\":\"scatterpolargl\"}],\"scatterternary\":[{\"marker\":{\"colorbar\":{\"outlinewidth\":0,\"ticks\":\"\"}},\"type\":\"scatterternary\"}],\"surface\":[{\"colorbar\":{\"outlinewidth\":0,\"ticks\":\"\"},\"colorscale\":[[0.0,\"#0d0887\"],[0.1111111111111111,\"#46039f\"],[0.2222222222222222,\"#7201a8\"],[0.3333333333333333,\"#9c179e\"],[0.4444444444444444,\"#bd3786\"],[0.5555555555555556,\"#d8576b\"],[0.6666666666666666,\"#ed7953\"],[0.7777777777777778,\"#fb9f3a\"],[0.8888888888888888,\"#fdca26\"],[1.0,\"#f0f921\"]],\"type\":\"surface\"}],\"table\":[{\"cells\":{\"fill\":{\"color\":\"#EBF0F8\"},\"line\":{\"color\":\"white\"}},\"header\":{\"fill\":{\"color\":\"#C8D4E3\"},\"line\":{\"color\":\"white\"}},\"type\":\"table\"}]},\"layout\":{\"annotationdefaults\":{\"arrowcolor\":\"#2a3f5f\",\"arrowhead\":0,\"arrowwidth\":1},\"autotypenumbers\":\"strict\",\"coloraxis\":{\"colorbar\":{\"outlinewidth\":0,\"ticks\":\"\"}},\"colorscale\":{\"diverging\":[[0,\"#8e0152\"],[0.1,\"#c51b7d\"],[0.2,\"#de77ae\"],[0.3,\"#f1b6da\"],[0.4,\"#fde0ef\"],[0.5,\"#f7f7f7\"],[0.6,\"#e6f5d0\"],[0.7,\"#b8e186\"],[0.8,\"#7fbc41\"],[0.9,\"#4d9221\"],[1,\"#276419\"]],\"sequential\":[[0.0,\"#0d0887\"],[0.1111111111111111,\"#46039f\"],[0.2222222222222222,\"#7201a8\"],[0.3333333333333333,\"#9c179e\"],[0.4444444444444444,\"#bd3786\"],[0.5555555555555556,\"#d8576b\"],[0.6666666666666666,\"#ed7953\"],[0.7777777777777778,\"#fb9f3a\"],[0.8888888888888888,\"#fdca26\"],[1.0,\"#f0f921\"]],\"sequentialminus\":[[0.0,\"#0d0887\"],[0.1111111111111111,\"#46039f\"],[0.2222222222222222,\"#7201a8\"],[0.3333333333333333,\"#9c179e\"],[0.4444444444444444,\"#bd3786\"],[0.5555555555555556,\"#d8576b\"],[0.6666666666666666,\"#ed7953\"],[0.7777777777777778,\"#fb9f3a\"],[0.8888888888888888,\"#fdca26\"],[1.0,\"#f0f921\"]]},\"colorway\":[\"#636efa\",\"#EF553B\",\"#00cc96\",\"#ab63fa\",\"#FFA15A\",\"#19d3f3\",\"#FF6692\",\"#B6E880\",\"#FF97FF\",\"#FECB52\"],\"font\":{\"color\":\"#2a3f5f\"},\"geo\":{\"bgcolor\":\"white\",\"lakecolor\":\"white\",\"landcolor\":\"#E5ECF6\",\"showlakes\":true,\"showland\":true,\"subunitcolor\":\"white\"},\"hoverlabel\":{\"align\":\"left\"},\"hovermode\":\"closest\",\"mapbox\":{\"style\":\"light\"},\"paper_bgcolor\":\"white\",\"plot_bgcolor\":\"#E5ECF6\",\"polar\":{\"angularaxis\":{\"gridcolor\":\"white\",\"linecolor\":\"white\",\"ticks\":\"\"},\"bgcolor\":\"#E5ECF6\",\"radialaxis\":{\"gridcolor\":\"white\",\"linecolor\":\"white\",\"ticks\":\"\"}},\"scene\":{\"xaxis\":{\"backgroundcolor\":\"#E5ECF6\",\"gridcolor\":\"white\",\"gridwidth\":2,\"linecolor\":\"white\",\"showbackground\":true,\"ticks\":\"\",\"zerolinecolor\":\"white\"},\"yaxis\":{\"backgroundcolor\":\"#E5ECF6\",\"gridcolor\":\"white\",\"gridwidth\":2,\"linecolor\":\"white\",\"showbackground\":true,\"ticks\":\"\",\"zerolinecolor\":\"white\"},\"zaxis\":{\"backgroundcolor\":\"#E5ECF6\",\"gridcolor\":\"white\",\"gridwidth\":2,\"linecolor\":\"white\",\"showbackground\":true,\"ticks\":\"\",\"zerolinecolor\":\"white\"}},\"shapedefaults\":{\"line\":{\"color\":\"#2a3f5f\"}},\"ternary\":{\"aaxis\":{\"gridcolor\":\"white\",\"linecolor\":\"white\",\"ticks\":\"\"},\"baxis\":{\"gridcolor\":\"white\",\"linecolor\":\"white\",\"ticks\":\"\"},\"bgcolor\":\"#E5ECF6\",\"caxis\":{\"gridcolor\":\"white\",\"linecolor\":\"white\",\"ticks\":\"\"}},\"title\":{\"x\":0.05},\"xaxis\":{\"automargin\":true,\"gridcolor\":\"white\",\"linecolor\":\"white\",\"ticks\":\"\",\"title\":{\"standoff\":15},\"zerolinecolor\":\"white\",\"zerolinewidth\":2},\"yaxis\":{\"automargin\":true,\"gridcolor\":\"white\",\"linecolor\":\"white\",\"ticks\":\"\",\"title\":{\"standoff\":15},\"zerolinecolor\":\"white\",\"zerolinewidth\":2}}}},                        {\"responsive\": true}                    ).then(function(){\n",
       "                            \n",
       "var gd = document.getElementById('25989343-8e92-4811-a52b-4a664077aaf0');\n",
       "var x = new MutationObserver(function (mutations, observer) {{\n",
       "        var display = window.getComputedStyle(gd).display;\n",
       "        if (!display || display === 'none') {{\n",
       "            console.log([gd, 'removed!']);\n",
       "            Plotly.purge(gd);\n",
       "            observer.disconnect();\n",
       "        }}\n",
       "}});\n",
       "\n",
       "// Listen for the removal of the full notebook cells\n",
       "var notebookContainer = gd.closest('#notebook-container');\n",
       "if (notebookContainer) {{\n",
       "    x.observe(notebookContainer, {childList: true});\n",
       "}}\n",
       "\n",
       "// Listen for the clearing of the current output cell\n",
       "var outputEl = gd.closest('.output');\n",
       "if (outputEl) {{\n",
       "    x.observe(outputEl, {childList: true});\n",
       "}}\n",
       "\n",
       "                        })                };                });            </script>        </div>"
      ]
     },
     "metadata": {},
     "output_type": "display_data"
    }
   ],
   "source": [
    "data = []\n",
    "\n",
    "for platform in platforms_2012:\n",
    "    data.append(\n",
    "        go.Scatter(x=df_2012[df_2012.platform==platform].groupby(\"year_of_release\")['total_sales'].sum().index,\n",
    "               y=df_2012[df_2012.platform==platform].groupby(\"year_of_release\")['total_sales'].sum(),\n",
    "               name=platform)\n",
    "    )\n",
    "layout = {'title': 'Продажи по годам'}\n",
    "    \n",
    "fig = go.Figure(data=data, layout=layout)\n",
    "fig.show()"
   ]
  },
  {
   "cell_type": "markdown",
   "metadata": {},
   "source": [
    "Как мы видим, продажи по всем платформам падают. Наиболее интересными с точки зрения прибыли являются XOne и PS4: обе платформы только в 2013 году начали свой жизненный цикл, и противостояние \"PS vs XBox\" должно получиться вызывающим интерес (в предыдущем графике пример предыдущих поколений - XBox 360 и PS4.) в сфере геймеров."
   ]
  },
  {
   "cell_type": "markdown",
   "metadata": {},
   "source": [
    "Далее построим график \"ящик с усами\" по глобальным продажам игр в разбивке по платформам:"
   ]
  },
  {
   "cell_type": "code",
   "execution_count": 26,
   "metadata": {},
   "outputs": [
    {
     "data": {
      "text/plain": [
       "(0.0, 2.0)"
      ]
     },
     "execution_count": 26,
     "metadata": {},
     "output_type": "execute_result"
    },
    {
     "data": {
      "image/png": "[encoded data removed]",
      "text/plain": [
       "<Figure size 432x288 with 1 Axes>"
      ]
     },
     "metadata": {
      "needs_background": "light"
     },
     "output_type": "display_data"
    }
   ],
   "source": [
    "df_2012.boxplot('total_sales', by='platform')\n",
    "plt.ylim(0,2)"
   ]
  },
  {
   "cell_type": "markdown",
   "metadata": {},
   "source": [
    "За последние 5 лет наибольшие медианные продажи у X360. Однако, на пятки наступают приставки новых поколений - XOne, PS4 и WiiU (также новое поколоение Wii). Игры на PS3, Wii и X360 в скором времени перестанут выпускаться, и в ближайшей перпеспективе новые поколения данных приставок выйдут вперед.\n",
    "\n",
    "Обратим внимание, среди всех представленных приставок, были игры, которые \"стрельнули\" - их продажи вне \"ящика с усами\"."
   ]
  },
  {
   "cell_type": "markdown",
   "metadata": {},
   "source": [
    "Далее изучим, как влияют отзывы пользователей и критиков на продажи внутри одной платформы. На данный момент лучше всего дела обстоят у PS4. Ее и возьмем для анализа:"
   ]
  },
  {
   "cell_type": "code",
   "execution_count": 27,
   "metadata": {},
   "outputs": [
    {
     "data": {
      "text/plain": [
       "array([[<AxesSubplot:xlabel='total_sales', ylabel='total_sales'>,\n",
       "        <AxesSubplot:xlabel='critic_score', ylabel='total_sales'>,\n",
       "        <AxesSubplot:xlabel='user_score', ylabel='total_sales'>],\n",
       "       [<AxesSubplot:xlabel='total_sales', ylabel='critic_score'>,\n",
       "        <AxesSubplot:xlabel='critic_score', ylabel='critic_score'>,\n",
       "        <AxesSubplot:xlabel='user_score', ylabel='critic_score'>],\n",
       "       [<AxesSubplot:xlabel='total_sales', ylabel='user_score'>,\n",
       "        <AxesSubplot:xlabel='critic_score', ylabel='user_score'>,\n",
       "        <AxesSubplot:xlabel='user_score', ylabel='user_score'>]],\n",
       "      dtype=object)"
      ]
     },
     "execution_count": 27,
     "metadata": {},
     "output_type": "execute_result"
    },
    {
     "data": {
      "image/png": "[encoded data removed]",
      "text/plain": [
       "<Figure size 648x648 with 9 Axes>"
      ]
     },
     "metadata": {
      "needs_background": "light"
     },
     "output_type": "display_data"
    }
   ],
   "source": [
    "ps4 = df_2012[df_2012['platform']=='PS4']\n",
    "ps4 = ps4[(ps4['critic_score']!=(-100)) & (ps4['user_score']!=(-10))] #исключим значения оценок, на которые мы меняли пропуски\n",
    "pd.plotting.scatter_matrix(ps4[['total_sales', 'critic_score', 'user_score']], figsize=(9, 9)) #строим матрицу рассеяния"
   ]
  },
  {
   "cell_type": "code",
   "execution_count": 28,
   "metadata": {},
   "outputs": [
    {
     "data": {
      "text/html": [
       "<div>\n",
       "<style scoped>\n",
       "    .dataframe tbody tr th:only-of-type {\n",
       "        vertical-align: middle;\n",
       "    }\n",
       "\n",
       "    .dataframe tbody tr th {\n",
       "        vertical-align: top;\n",
       "    }\n",
       "\n",
       "    .dataframe thead th {\n",
       "        text-align: right;\n",
       "    }\n",
       "</style>\n",
       "<table border=\"1\" class=\"dataframe\">\n",
       "  <thead>\n",
       "    <tr style=\"text-align: right;\">\n",
       "      <th></th>\n",
       "      <th>total_sales</th>\n",
       "      <th>critic_score</th>\n",
       "      <th>user_score</th>\n",
       "    </tr>\n",
       "  </thead>\n",
       "  <tbody>\n",
       "    <tr>\n",
       "      <th>total_sales</th>\n",
       "      <td>1.000000</td>\n",
       "      <td>0.405895</td>\n",
       "      <td>-0.033625</td>\n",
       "    </tr>\n",
       "    <tr>\n",
       "      <th>critic_score</th>\n",
       "      <td>0.405895</td>\n",
       "      <td>1.000000</td>\n",
       "      <td>0.557654</td>\n",
       "    </tr>\n",
       "    <tr>\n",
       "      <th>user_score</th>\n",
       "      <td>-0.033625</td>\n",
       "      <td>0.557654</td>\n",
       "      <td>1.000000</td>\n",
       "    </tr>\n",
       "  </tbody>\n",
       "</table>\n",
       "</div>"
      ],
      "text/plain": [
       "              total_sales  critic_score  user_score\n",
       "total_sales      1.000000      0.405895   -0.033625\n",
       "critic_score     0.405895      1.000000    0.557654\n",
       "user_score      -0.033625      0.557654    1.000000"
      ]
     },
     "execution_count": 28,
     "metadata": {},
     "output_type": "execute_result"
    }
   ],
   "source": [
    "ps4[['total_sales', 'critic_score', 'user_score']].corr()"
   ]
  },
  {
   "cell_type": "markdown",
   "metadata": {},
   "source": [
    "На основе матрицы рассеяния и рассчитанных коэффициентов Пирсона, мы пришли к выводу: продажи игры прямо зависят от оценки критиков (коэффициент корреляции 0,4) и не зависят от оценок пользователей (коэффициент корреляции нулевой). Теперь проверим, применим ли этот вывод к остальным платформам:"
   ]
  },
  {
   "cell_type": "code",
   "execution_count": 29,
   "metadata": {},
   "outputs": [
    {
     "data": {
      "text/html": [
       "<div>\n",
       "<style scoped>\n",
       "    .dataframe tbody tr th:only-of-type {\n",
       "        vertical-align: middle;\n",
       "    }\n",
       "\n",
       "    .dataframe tbody tr th {\n",
       "        vertical-align: top;\n",
       "    }\n",
       "\n",
       "    .dataframe thead th {\n",
       "        text-align: right;\n",
       "    }\n",
       "</style>\n",
       "<table border=\"1\" class=\"dataframe\">\n",
       "  <thead>\n",
       "    <tr style=\"text-align: right;\">\n",
       "      <th></th>\n",
       "      <th>total_sales</th>\n",
       "      <th>critic_score</th>\n",
       "      <th>user_score</th>\n",
       "    </tr>\n",
       "  </thead>\n",
       "  <tbody>\n",
       "    <tr>\n",
       "      <th>total_sales</th>\n",
       "      <td>1.000000</td>\n",
       "      <td>0.282820</td>\n",
       "      <td>0.009742</td>\n",
       "    </tr>\n",
       "    <tr>\n",
       "      <th>critic_score</th>\n",
       "      <td>0.282820</td>\n",
       "      <td>1.000000</td>\n",
       "      <td>0.508452</td>\n",
       "    </tr>\n",
       "    <tr>\n",
       "      <th>user_score</th>\n",
       "      <td>0.009742</td>\n",
       "      <td>0.508452</td>\n",
       "      <td>1.000000</td>\n",
       "    </tr>\n",
       "  </tbody>\n",
       "</table>\n",
       "</div>"
      ],
      "text/plain": [
       "              total_sales  critic_score  user_score\n",
       "total_sales      1.000000      0.282820    0.009742\n",
       "critic_score     0.282820      1.000000    0.508452\n",
       "user_score       0.009742      0.508452    1.000000"
      ]
     },
     "execution_count": 29,
     "metadata": {},
     "output_type": "execute_result"
    }
   ],
   "source": [
    "other = df_2012[df_2012['platform']!='PS4'] #исключаем информацию о PS4\n",
    "other = other[(other['critic_score']!=(-100)) & (other['user_score']!=(-10))] #исключим значения оценок, на которые мы меняли пропуски\n",
    "other[['total_sales', 'critic_score', 'user_score']].corr()"
   ]
  },
  {
   "cell_type": "markdown",
   "metadata": {},
   "source": [
    "В целом, получили схожую картину. Коэффициент Пирсона между оценками экспертов и суммарными продажами положителен и составляет 0,28, что говорит о прямой взаимосвязи данных. Зависмостью между оценками пользователей и суммарными продажами можно принебречь."
   ]
  },
  {
   "cell_type": "markdown",
   "metadata": {},
   "source": [
    "Теперь обратим внимание на общее распределение по жанрам:"
   ]
  },
  {
   "cell_type": "code",
   "execution_count": 30,
   "metadata": {
    "scrolled": true
   },
   "outputs": [
    {
     "data": {
      "text/plain": [
       "([<matplotlib.patches.Wedge at 0x222ad3db2e0>,\n",
       "  <matplotlib.patches.Wedge at 0x222ad3dba00>,\n",
       "  <matplotlib.patches.Wedge at 0x222ad3ec160>,\n",
       "  <matplotlib.patches.Wedge at 0x222ad3ec880>,\n",
       "  <matplotlib.patches.Wedge at 0x222ad3ecfa0>,\n",
       "  <matplotlib.patches.Wedge at 0x222ad3f7700>,\n",
       "  <matplotlib.patches.Wedge at 0x222ad3f7e20>,\n",
       "  <matplotlib.patches.Wedge at 0x222ad402580>,\n",
       "  <matplotlib.patches.Wedge at 0x222ad402ca0>,\n",
       "  <matplotlib.patches.Wedge at 0x222ad410400>,\n",
       "  <matplotlib.patches.Wedge at 0x222ad3db2b0>,\n",
       "  <matplotlib.patches.Wedge at 0x222ad41d250>],\n",
       " [Text(0.47696381414775035, 0.9912141645444895, 'Action'),\n",
       "  Text(-0.9271404171513369, 0.5919549365318658, 'Adventure'),\n",
       "  Text(-1.0919797733250323, 0.13259025095764476, 'Fighting'),\n",
       "  Text(-1.076556164714592, -0.22589117781579762, 'Misc'),\n",
       "  Text(-0.9608988803638842, -0.5354188469931126, 'Platform'),\n",
       "  Text(-0.8879437916054485, -0.649273303739912, 'Puzzle'),\n",
       "  Text(-0.7765462902786913, -0.7790865542764827, 'Racing'),\n",
       "  Text(-0.27833434872160184, -1.064203923278674, 'Role-Playing'),\n",
       "  Text(0.43116342420447895, -1.0119773226847866, 'Shooter'),\n",
       "  Text(0.7463071661231998, -0.8081000023469612, 'Simulation'),\n",
       "  Text(0.9922502806816959, -0.4748045708363559, 'Sports'),\n",
       "  Text(1.0967162614101778, -0.08493198430793361, 'Strategy')],\n",
       " [Text(0.26016208044422745, 0.5406622715697215, '35.72'),\n",
       "  Text(-0.50571295480982, 0.32288451083556313, '10.46'),\n",
       "  Text(-0.595625330904563, 0.07232195506780623, '3.78'),\n",
       "  Text(-0.5872124534806865, -0.12321336971770779, '6.65'),\n",
       "  Text(-0.524126662016664, -0.292046643814425, '2.95'),\n",
       "  Text(-0.48433297723933544, -0.3541490747672247, '0.97'),\n",
       "  Text(-0.423570703788377, -0.4249563023326269, '3.98'),\n",
       "  Text(-0.15181873566632828, -0.5804748672429131, '12.82'),\n",
       "  Text(0.2351800495660794, -0.5519876305553381, '8.14'),\n",
       "  Text(0.40707663606719985, -0.4407818194619788, '2.77'),\n",
       "  Text(0.5412274258263795, -0.25898431136528505, '9.29'),\n",
       "  Text(0.5982088698600968, -0.04632653689523651, '2.46')])"
      ]
     },
     "execution_count": 30,
     "metadata": {},
     "output_type": "execute_result"
    },
    {
     "data": {
      "image/png": "[encoded data removed]",
      "text/plain": [
       "<Figure size 432x288 with 1 Axes>"
      ]
     },
     "metadata": {},
     "output_type": "display_data"
    }
   ],
   "source": [
    "plt.pie(x=df_2012.groupby('genre')['genre'].count(), labels=df_2012.groupby('genre')['genre'].count().index, autopct=\"%.2f\")"
   ]
  },
  {
   "cell_type": "markdown",
   "metadata": {},
   "source": [
    "Самым широко представленным с отрывом является жанр Action. Второе место у Role-Playing. Следом с близкими значениями идут  Adventure, Sports, Shooter, Misc. Посмотрим, как обстоят дела с продажами в зависимости от жанра:"
   ]
  },
  {
   "cell_type": "code",
   "execution_count": 31,
   "metadata": {
    "scrolled": true
   },
   "outputs": [
    {
     "name": "stdout",
     "output_type": "stream",
     "text": [
      "genre\n",
      "Action          441.12\n",
      "Shooter         304.73\n",
      "Role-Playing    192.80\n",
      "Sports          181.07\n",
      "Misc             85.04\n",
      "Platform         61.00\n",
      "Racing           53.50\n",
      "Fighting         44.49\n",
      "Simulation       35.12\n",
      "Adventure        29.43\n",
      "Strategy         13.34\n",
      "Puzzle            4.89\n",
      "Name: total_sales, dtype: float64\n"
     ]
    },
    {
     "data": {
      "text/plain": [
       "([<matplotlib.patches.Wedge at 0x222ad462820>,\n",
       "  <matplotlib.patches.Wedge at 0x222ad462f40>,\n",
       "  <matplotlib.patches.Wedge at 0x222ad4706a0>,\n",
       "  <matplotlib.patches.Wedge at 0x222ad470dc0>,\n",
       "  <matplotlib.patches.Wedge at 0x222ad47e520>,\n",
       "  <matplotlib.patches.Wedge at 0x222ad47ec40>,\n",
       "  <matplotlib.patches.Wedge at 0x222ad48d3a0>,\n",
       "  <matplotlib.patches.Wedge at 0x222ad48dac0>,\n",
       "  <matplotlib.patches.Wedge at 0x222ad498220>,\n",
       "  <matplotlib.patches.Wedge at 0x222ad498940>,\n",
       "  <matplotlib.patches.Wedge at 0x222ad4627f0>,\n",
       "  <matplotlib.patches.Wedge at 0x222ad4a5790>],\n",
       " [Text(0.6326458750291509, 0.899866210504984, 'Action'),\n",
       "  Text(-0.9298029801081938, 0.5877639136438386, 'Shooter'),\n",
       "  Text(-0.9563309561233106, -0.5435357415665272, 'Role-Playing'),\n",
       "  Text(-0.26360328911194947, -1.067948175694571, 'Sports'),\n",
       "  Text(0.3626294863995826, -1.0385084764187411, 'Misc'),\n",
       "  Text(0.6684325085210389, -0.8736120314832388, 'Platform'),\n",
       "  Text(0.8628827904627661, -0.6822267144602228, 'Racing'),\n",
       "  Text(0.9875114327276391, -0.4845835018159469, 'Fighting'),\n",
       "  Text(1.0561546883601118, -0.307469143581848, 'Simulation'),\n",
       "  Text(1.0887563764262855, -0.15687432164348875, 'Adventure'),\n",
       "  Text(1.0986135799195862, -0.05521052450639659, 'Strategy'),\n",
       "  Text(1.0999379652533312, -0.011682148533633542, 'Puzzle')],\n",
       " [Text(0.3450795681977186, 0.4908361148209003, '30.50'),\n",
       "  Text(-0.5071652618771966, 0.3205984983511847, '21.07'),\n",
       "  Text(-0.5216350669763512, -0.2964740408544693, '13.33'),\n",
       "  Text(-0.14378361224288153, -0.5825171867424932, '12.52'),\n",
       "  Text(0.19779790167249958, -0.5664591689556769, '5.88'),\n",
       "  Text(0.36459955010238476, -0.47651565353631203, '4.22'),\n",
       "  Text(0.47066334025241774, -0.3721236624328488, '3.70'),\n",
       "  Text(0.5386425996696212, -0.26431827371778915, '3.08'),\n",
       "  Text(0.5760843754691519, -0.16771044195373525, '2.43'),\n",
       "  Text(0.5938671144143375, -0.08556781180553931, '2.03'),\n",
       "  Text(0.5992437708652287, -0.030114831548943587, '0.92'),\n",
       "  Text(0.5999661628654532, -0.006372081018345567, '0.34')])"
      ]
     },
     "execution_count": 31,
     "metadata": {},
     "output_type": "execute_result"
    },
    {
     "data": {
      "image/png": "[encoded data removed]",
      "text/plain": [
       "<Figure size 432x288 with 1 Axes>"
      ]
     },
     "metadata": {},
     "output_type": "display_data"
    }
   ],
   "source": [
    "genres = df_2012.groupby('genre')['total_sales'].sum().sort_values(ascending=False)\n",
    "print(genres)\n",
    "plt.pie(x=genres, labels=genres.index, autopct=\"%.2f\")"
   ]
  },
  {
   "cell_type": "markdown",
   "metadata": {},
   "source": [
    "Лидер по-прежнему Action. Самый широко представленный жанр имеет наибольшие продажи - звучит вполне логично. Хорошо продажи идут у жанков: Shooter, Sports, Platform. Процентная доля продаж у них выше, чем процентная доля их представительства (особенно у Shooter, см. график выше). Плохо дела с продажами обстоят у игр жанра Adventure (всего игр такого жанра - 7,8%, а продажи ниже 2,5% от числа всех продаж), Puzzle (0,97% против 0,34), Strategy(2,46% против 0,92). В остальных случаях процентные доли на первом и втором графиках отличаются не столь явно."
   ]
  },
  {
   "cell_type": "markdown",
   "metadata": {},
   "source": [
    "**ВЫВОД**\n",
    "\n",
    "Результатом выполнения исследовательского анализа данных приведены следующие выводы:\n",
    "* Сфера компьютерных игра на спаде, начиная с 2009 года;\n",
    "* Жизненный цикл приставки одного поколения составляет 10 лет. Продажи игр на конкретную приставку представляют собой нормальное распределение;\n",
    "* Определен актуальный период, на основе которого проводился дальнейшей анализ;\n",
    "* В качестве потенциально прибыльных платформ были выбраны XOne и PS4;\n",
    "* Изучены медианные продажи каждой приставки;\n",
    "* Продажи прямо зависят от оценок критиков и не зависят от оценок пользователей\n",
    "* Наиболее широко представленный жанр как с точки количества игр, так и их продаж - Action. Стоит отметить Shooters: в процентном отношении относительно всего рынка данный жанр занимает второе место по продажам при лишь шестом по количеству представленных игр."
   ]
  },
  {
   "cell_type": "markdown",
   "metadata": {},
   "source": [
    "## Портрет пользователя каждого региона"
   ]
  },
  {
   "cell_type": "markdown",
   "metadata": {},
   "source": [
    "Узнаем самые популярные платформы для каждого региона:"
   ]
  },
  {
   "cell_type": "code",
   "execution_count": 32,
   "metadata": {},
   "outputs": [
    {
     "data": {
      "image/png": "[encoded data removed]",
      "text/plain": [
       "<Figure size 1440x288 with 3 Axes>"
      ]
     },
     "metadata": {},
     "output_type": "display_data"
    }
   ],
   "source": [
    "na_index = df_2012.groupby('platform')['na_sales'].sum().sort_values().index\n",
    "na_values = df_2012.groupby('platform')['na_sales'].sum().sort_values()\n",
    "eu_index = df_2012.groupby('platform')['eu_sales'].sum().sort_values().index\n",
    "eu_values = df_2012.groupby('platform')['eu_sales'].sum().sort_values()\n",
    "jp_index = df_2012.groupby('platform')['jp_sales'].sum().sort_values().index\n",
    "jp_values = df_2012.groupby('platform')['jp_sales'].sum().sort_values()\n",
    "\n",
    "fig, (ax1, ax2, ax3) = plt.subplots(1, 3, figsize=(20,4))\n",
    "\n",
    "ax1.pie(x=na_values, labels=na_index, autopct=\"%.2f\")\n",
    "ax1.set_title(\"North America\", fontsize=16)\n",
    "\n",
    "ax2.pie(x=eu_values, labels=eu_index, autopct=\"%.2f\")\n",
    "ax2.set_title(\"Europe\", fontsize=16)\n",
    "\n",
    "ax3.pie(x=jp_values, labels=jp_index, autopct=\"%.2f\")\n",
    "ax3.set_title(\"Japan\", fontsize=16)\n",
    "\n",
    "plt.show()\n",
    "#plt.pie(x=df_2009.groupby('platform')['na_sales'].sum(), labels=df_2009.groupby('platform')['na_sales'].sum().index, autopct=\"%.2f\")"
   ]
  },
  {
   "cell_type": "markdown",
   "metadata": {},
   "source": [
    "Самыми популярными в Северной Америке оказались: X360 (23,70% продаж игр от общего количества продаж в регионе), PS4 (18,40%), XOne (15,76%), 3DS (9,36%), WiiU (6,45%).\n",
    "\n",
    "В Европе же более четверти продаж за PS4 (27,84%), следом PS3 (21,08%), X360 (14,70), XOne (10,18), 3DS (8,41%)\n",
    "\n",
    "В Японии уверенное лидерство за 3DS (45,59%), дальше идет PS3 (18,32%), PSV (10,93%), PS4 (8,29%), WiiU (6,76)"
   ]
  },
  {
   "cell_type": "markdown",
   "metadata": {},
   "source": [
    "Изучим жанровые предпочтения жителей каждого региона:"
   ]
  },
  {
   "cell_type": "code",
   "execution_count": 33,
   "metadata": {},
   "outputs": [
    {
     "data": {
      "image/png": "[encoded data removed]",
      "text/plain": [
       "<Figure size 1440x720 with 3 Axes>"
      ]
     },
     "metadata": {
      "needs_background": "light"
     },
     "output_type": "display_data"
    }
   ],
   "source": [
    "na_index = df_2012.groupby('genre')['na_sales'].sum().sort_values().index.tolist()\n",
    "na_values = df_2012.groupby('genre')['na_sales'].sum().sort_values()\n",
    "eu_index = df_2012.groupby('genre')['eu_sales'].sum().sort_values().index.tolist()\n",
    "eu_values = df_2012.groupby('genre')['eu_sales'].sum().sort_values()\n",
    "jp_index = df_2012.groupby('genre')['jp_sales'].sum().sort_values().index.tolist()\n",
    "jp_values = df_2012.groupby('genre')['jp_sales'].sum().sort_values()\n",
    "\n",
    "fig, (ax1, ax2, ax3) = plt.subplots(3, 1, figsize=(20,10))\n",
    "\n",
    "ax1.bar(na_index, na_values)\n",
    "ax1.set_title(\"North America\", fontsize=16)\n",
    "\n",
    "ax2.bar(eu_index, eu_values)\n",
    "ax2.set_title(\"Europe\", fontsize=16)\n",
    "\n",
    "ax3.bar(jp_index, jp_values)\n",
    "ax3.set_title(\"Japan\", fontsize=16)\n",
    "\n",
    "plt.show()"
   ]
  },
  {
   "cell_type": "markdown",
   "metadata": {},
   "source": [
    "В Северной Америке больше всего любят Action, потом Shooter, Sports, Role-Playing, Misc. Идентичная картина в Европе, меняется только последняя позиция ТОП-5: вссто Misc - Racing\n",
    "\n",
    "В Японии же лидерство у жанра Role-Playing, следом за которым идут Action, Misc, Simulation, Fighting."
   ]
  },
  {
   "cell_type": "markdown",
   "metadata": {},
   "source": [
    "Теперь изучим, влияет ли рейтинг ESRB на продажи в зависимости от региона:"
   ]
  },
  {
   "cell_type": "markdown",
   "metadata": {},
   "source": [
    "Согласно документации ESRB, игры разделяются на следующие категории:\n",
    "* **EC** («Early childhood») — «Для детей младшего возраста»\n",
    "* **E** («Everyone») — «Для всех»\n",
    "* **E10+** («Everyone 10 and older») — «Для всех от 10 лет и старше»\n",
    "* **T** («Teen») — «Подросткам»\n",
    "* **M** («Mature») — «Для взрослых»\n",
    "* **RP** («Rating Pending») — «Рейтинг ожидается»"
   ]
  },
  {
   "cell_type": "code",
   "execution_count": 34,
   "metadata": {},
   "outputs": [
    {
     "data": {
      "image/png": "[encoded data removed]",
      "text/plain": [
       "<Figure size 1440x288 with 3 Axes>"
      ]
     },
     "metadata": {
      "needs_background": "light"
     },
     "output_type": "display_data"
    }
   ],
   "source": [
    "na_index = df_2012.groupby('rating')['na_sales'].sum().sort_values().index.tolist()\n",
    "na_values = df_2012.groupby('rating')['na_sales'].sum().sort_values()\n",
    "eu_index = df_2012.groupby('rating')['eu_sales'].sum().sort_values().index.tolist()\n",
    "eu_values = df_2012.groupby('rating')['eu_sales'].sum().sort_values()\n",
    "jp_index = df_2012.groupby('rating')['jp_sales'].sum().sort_values().index.tolist()\n",
    "jp_values = df_2012.groupby('rating')['jp_sales'].sum().sort_values()\n",
    "\n",
    "fig, (ax1, ax2, ax3) = plt.subplots(1, 3, figsize=(20,4))\n",
    "\n",
    "ax1.bar(na_index, na_values)\n",
    "ax1.set_title(\"North America\", fontsize=16)\n",
    "\n",
    "ax2.bar(eu_index, eu_values)\n",
    "ax2.set_title(\"Europe\", fontsize=16)\n",
    "\n",
    "ax3.bar(jp_index, jp_values)\n",
    "ax3.set_title(\"Japan\", fontsize=16)\n",
    "\n",
    "plt.show()"
   ]
  },
  {
   "cell_type": "markdown",
   "metadata": {},
   "source": [
    "Получилась схожая с предыдущим пунктом картина: \n",
    "\n",
    "В Северной Америке и Европе идентичные продажи в зависимости от рейтинга ESRB. Самыми популярными оказались игры для \"взрослых\". Наиболее вероятно, что подавляющее большинство игр жанров Action и Shooter, популярных в этих регионах, как раз имеют рейтинг M. Далее идут игры \"для всех\", \"для подростков\" и \"для всех от 10 лет\". Ожидаемо, категория игр \"Для детей младшего возраста\" имет на последнем месте.\n",
    "\n",
    "В Японии лидерство у игр c неопределенным рейтингом. Возможно, это связано с популярностью там игр отечественного производителя, который ERSB не аттестует. Следом, в отличие от Европы и Северной Америки, идут игры \"для всех\". Думаю, многие Role-Playing, особенно популярные в стране восходящего солнца, в большинстве своем обладают рейтингом E. Следом расположились игры \"для подростков\", \"для взрослых\" и \"для всех от 10 лет\". Последнее место неизменно у категории EC."
   ]
  },
  {
   "cell_type": "markdown",
   "metadata": {},
   "source": [
    "**ВЫВОД**\n",
    "\n",
    "Нами были составлены портреты пользователей каждого региона.\n",
    "\n",
    "Североамериканский и европейский пользователи схожи между собой: предпочитают игры одних и тех же жанров и обладают близкими распределениями продаж в зависимости от рейтинга ESRB. Отличия есть в наиболее популярных платформах для игр.\n",
    "\n",
    "Японский пользователь не похож на упомянутых западных. Он отличается предпочтениями как по жанрам и рейтингу ESRB, так и по плаформам, на которых играет. Мне кажется, это связано с культурными различиями между пользователями: европейцы и североамериканцы похожи не только в предпочтениях по компьютерным играм (если говорить очень грубо, то \"вторые появились из первых\" вследствие колонизации Северной Америки, которая европейцами и проводилась). Япония же очень закрытая страна и не просто так считается одной из самых сложных стран для переезда в нее - ее культура сильно отличается от культуры любой другой страны."
   ]
  },
  {
   "cell_type": "markdown",
   "metadata": {},
   "source": [
    "## Проверка гипотез"
   ]
  },
  {
   "cell_type": "markdown",
   "metadata": {},
   "source": [
    "**ГИПОТЕЗА 1**\n",
    "\n",
    "Средние пользовательские рейтинги платформ Xbox One и PC одинаковые"
   ]
  },
  {
   "cell_type": "markdown",
   "metadata": {},
   "source": [
    "Сформулируем нулевую и альтернативную гипотезы:\n",
    "\n",
    "* **Нулевая** - средние пользовательские рейтинги платформ Xbox One и PC **одинаковые**\n",
    "* **Альтернативная** - средние пользовательские рейтинги платформ Xbox One и PC **различаются**\n",
    "\n",
    "Xbox One только недавно появилась, когда игры на PC уже давно. Потому будем изучать таблицу с данными не только за актуальный период, а за все время. Притом исключим значения, на которые мы меняли пропуски:"
   ]
  },
  {
   "cell_type": "code",
   "execution_count": 35,
   "metadata": {},
   "outputs": [],
   "source": [
    "df = df[df['user_score']!=(-10)]"
   ]
  },
  {
   "cell_type": "markdown",
   "metadata": {},
   "source": [
    "Перед проверкой гипотез следует проверить дисперсии выборок, чтобы корректно определить атрибут equal_val в Т–тесте.\n",
    "В том числе стоит визуализировать распределение каждой выборки, чтобы определить нормальное ли у них распределение или нет."
   ]
  },
  {
   "cell_type": "code",
   "execution_count": 36,
   "metadata": {},
   "outputs": [],
   "source": [
    "x_one = df[df['platform']=='XOne']['user_score'] #выборка оценок пользователей XBox One\n",
    "pc = df[df['platform']=='PC']['user_score'] #выборка оценок пользователей PC"
   ]
  },
  {
   "cell_type": "code",
   "execution_count": 37,
   "metadata": {},
   "outputs": [
    {
     "name": "stdout",
     "output_type": "stream",
     "text": [
      "XOne. Средняя оценка пользователя: 6.52142857142857\n",
      "XOne. Дисперсия: 1.9069968429360702\n",
      "XOne. Стандартное отклонение: 1.3809405645921442\n",
      "PC. Средняя оценка пользователя: 7.062467532467546\n",
      "PC. Дисперсия: 2.3407871413372\n",
      "PC. Стандартное отклонение: 1.529963117639507\n"
     ]
    },
    {
     "data": {
      "text/plain": [
       "<AxesSubplot:title={'center':'Распределение пользовательского рейтинга'}, xlabel='Оценка', ylabel='Frequency'>"
      ]
     },
     "execution_count": 37,
     "metadata": {},
     "output_type": "execute_result"
    },
    {
     "data": {
      "image/png": "[encoded data removed]",
      "text/plain": [
       "<Figure size 432x288 with 1 Axes>"
      ]
     },
     "metadata": {
      "needs_background": "light"
     },
     "output_type": "display_data"
    }
   ],
   "source": [
    "x_one.plot(kind='hist', bins=10, label='XOne', legend=True, grid = True)\n",
    "ax = plt.gca()\n",
    "ax.set_xlabel(\"Оценка\", fontsize=12, color='blue')\n",
    "ax.set_ylabel(\"Частота\", fontsize=12, color='orange')\n",
    "print('XOne. Средняя оценка пользователя:', np.mean(x_one))\n",
    "print('XOne. Дисперсия:', np.var(x_one, ddof=1))\n",
    "print('XOne. Стандартное отклонение:', np.std(x_one, ddof=1))\n",
    "print('PC. Средняя оценка пользователя:', np.mean(pc))\n",
    "print('PC. Дисперсия:', np.var(pc, ddof=1))\n",
    "print('PC. Стандартное отклонение:', np.std(pc, ddof=1))\n",
    "pc.plot(kind='hist', bins=35, title = 'Распределение пользовательского рейтинга', color = 'red', alpha=0.5, label='PC', legend=True, grid = True)"
   ]
  },
  {
   "cell_type": "markdown",
   "metadata": {},
   "source": [
    "Дисперсии получились разными, потому добавим equal_var=False и проведем Т-тест"
   ]
  },
  {
   "cell_type": "code",
   "execution_count": 38,
   "metadata": {},
   "outputs": [
    {
     "name": "stdout",
     "output_type": "stream",
     "text": [
      "p-значение: 4.935072360183565e-06\n",
      "Отвергаем нулевую гипотезу\n"
     ]
    }
   ],
   "source": [
    "alpha = 0.05 #зададим критический уровень значимости\n",
    "result = st.ttest_ind(x_one, pc, equal_var=False)\n",
    "print('p-значение:', result.pvalue)\n",
    "if result.pvalue < alpha:\n",
    "    print('Отвергаем нулевую гипотезу')\n",
    "else:\n",
    "    print('Не получилось отвергнуть нулевую гипотезу')"
   ]
  },
  {
   "cell_type": "markdown",
   "metadata": {},
   "source": [
    "Нулевая гипотеза о равенстве среднего пользовательского рейтинга XOne и PC отвергается. Альтернативная гипотеза не отвергается."
   ]
  },
  {
   "cell_type": "markdown",
   "metadata": {},
   "source": [
    "**ГИПОТЕЗА 2**\n",
    "\n",
    "Средние пользовательские рейтинги жанров Action и Sports разные."
   ]
  },
  {
   "cell_type": "markdown",
   "metadata": {},
   "source": [
    "Сформулируем нулевую и альтернативную гипотезы:\n",
    "\n",
    "* **Нулевая** - средние пользовательские рейтинги жанров Action и Sports **одинаковые**\n",
    "* **Альтернативная** - средние пользовательские рейтинги жанров Action и Sports **различаются**\n"
   ]
  },
  {
   "cell_type": "code",
   "execution_count": 39,
   "metadata": {},
   "outputs": [],
   "source": [
    "action = df[df['genre']=='Action']['user_score']\n",
    "sports = df[df['genre']=='Sports']['user_score']"
   ]
  },
  {
   "cell_type": "markdown",
   "metadata": {},
   "source": [
    "Проведем дейтсвия, аналогичные проверке первой гипотезы:"
   ]
  },
  {
   "cell_type": "code",
   "execution_count": 40,
   "metadata": {},
   "outputs": [
    {
     "name": "stdout",
     "output_type": "stream",
     "text": [
      "Action. Средняя оценка пользователя: 7.054043715846988\n",
      "Action. Дисперсия: 2.031746898033191\n",
      "Action. Стандартное отклонение: 1.4253935940761033\n",
      "Sports. Средняя оценка пользователя: 6.961196736174073\n",
      "Sports. Дисперсия: 2.5965147189730073\n",
      "Sports. Стандартное отклонение: 1.6113704474679331\n"
     ]
    },
    {
     "data": {
      "text/plain": [
       "<AxesSubplot:title={'center':'Распределение пользовательского рейтинга'}, xlabel='Оценка', ylabel='Frequency'>"
      ]
     },
     "execution_count": 40,
     "metadata": {},
     "output_type": "execute_result"
    },
    {
     "data": {
      "image/png": "[encoded data removed]",
      "text/plain": [
       "<Figure size 432x288 with 1 Axes>"
      ]
     },
     "metadata": {
      "needs_background": "light"
     },
     "output_type": "display_data"
    }
   ],
   "source": [
    "action.plot(kind='hist', bins=10, label='Action', color='yellow', legend=True, grid = True)\n",
    "ax = plt.gca()\n",
    "ax.set_xlabel(\"Оценка\", fontsize=12, color='blue')\n",
    "ax.set_ylabel(\"Частота\", fontsize=12, color='orange')\n",
    "print('Action. Средняя оценка пользователя:', np.mean(action))\n",
    "print('Action. Дисперсия:', np.var(action, ddof=1))\n",
    "print('Action. Стандартное отклонение:', np.std(action, ddof=1))\n",
    "print('Sports. Средняя оценка пользователя:', np.mean(sports))\n",
    "print('Sports. Дисперсия:', np.var(sports, ddof=1))\n",
    "print('Sports. Стандартное отклонение:', np.std(sports, ddof=1))\n",
    "sports.plot(kind='hist', bins=35, title = 'Распределение пользовательского рейтинга', color = 'purple', alpha=0.9, label='Sports', legend=True, grid = True)"
   ]
  },
  {
   "cell_type": "code",
   "execution_count": 41,
   "metadata": {},
   "outputs": [
    {
     "name": "stdout",
     "output_type": "stream",
     "text": [
      "p-значение: 0.11483818791498286\n",
      "Не получилось отвергнуть нулевую гипотезу\n"
     ]
    }
   ],
   "source": [
    "alpha = 0.05 #зададим критический уровень значимости\n",
    "result = st.ttest_ind(action, sports, equal_var=False)\n",
    "print('p-значение:', result.pvalue)\n",
    "if result.pvalue < alpha:\n",
    "    print('Отвергаем нулевую гипотезу')\n",
    "else:\n",
    "    print('Не получилось отвергнуть нулевую гипотезу')"
   ]
  },
  {
   "cell_type": "markdown",
   "metadata": {},
   "source": [
    "Нулевая гипотеза о равенстве пользовательских рейтингов жанров Action и Sports не отвергается. Альтернативная же отвергается."
   ]
  },
  {
   "cell_type": "markdown",
   "metadata": {},
   "source": [
    "**ВЫВОД**\n",
    "\n",
    "В результате проверки гипотез была отвергнута нулевая гипотеза о равенстве средних пользовательских рейтингов платформ XOne и PC. Альтернативная ей гипотеза не отвергнута.\n",
    "\n",
    "Гипотеза о равенстве средних пользовательских оценок жанров Action и Sports не отвергнута."
   ]
  },
  {
   "cell_type": "markdown",
   "metadata": {},
   "source": [
    "# Общий вывод\n",
    "\n",
    "Ознакомившись с данными и предобратов их, мы приступили к исследовательскому анализу данных, в результате которого были получены необходимые знания о самой сфере и взаимосвязи ее составляющих:\n",
    "* Сфера компьютерных игра на спаде, начиная с 2009 года;\n",
    "* Жизненный цикл приставки одного поколения составляет 10 лет. Продажи игр на конкретную приставку представляют собой нормальное распределение;\n",
    "* Определен актуальный период, на основе которого проводился дальнейшей анализ (с 2012 года);\n",
    "* В качестве потенциально прибыльных платформ были выбраны XOne и PS4;\n",
    "* Изучены медианные продажи каждой приставки;\n",
    "* Продажи прямо зависят от оценок критиков и не зависят от оценок пользователей\n",
    "* Наиболее широко представленный жанр как с точки количества игр, так и их продаж - Action. Стоит отметить Shooters: в процентном отношении относительно всего рынка данный жанр занимает второе место по продажам при лишь шестом по количеству представленных игр.\n",
    "\n",
    "Также был составлен портрет пользователя каждого из представленных регионов. Пользователи из Европы и Северной Америки обладают схожими предпочтениями, японцы же сильно отличаются от них буквально во всем. Я думаю, эти различия можно объяснить, в первую очередь, \"культурным барьером\" между Японией и любой другой страной. В ту же очередь схожесть предпочтений в области компьютерных игр североамериканцев и европейцев объяснима схожестью культур \n",
    "\n",
    "В завершении были проверены гипотез:\n",
    "* Гипотеза о равенстве средних пользовательских рейтингов платформ XOne и PC отвергнута.\n",
    "* Гипотеза о равенстве средних пользовательских оценок жанров Action и Sports не отвергнута."
   ]
  }
 ],
 "metadata": {
  "ExecuteTimeLog": [
   {
    "duration": 1028,
    "start_time": "2022-01-10T20:50:40.699Z"
   },
   {
    "duration": 50,
    "start_time": "2022-01-10T20:52:09.548Z"
   },
   {
    "duration": 14,
    "start_time": "2022-01-10T20:54:09.466Z"
   },
   {
    "duration": 46,
    "start_time": "2022-01-10T21:00:41.718Z"
   },
   {
    "duration": 290,
    "start_time": "2022-01-11T18:42:47.687Z"
   },
   {
    "duration": 1323,
    "start_time": "2022-01-11T18:42:54.504Z"
   },
   {
    "duration": 52,
    "start_time": "2022-01-11T18:42:57.419Z"
   },
   {
    "duration": 16,
    "start_time": "2022-01-11T18:43:00.069Z"
   },
   {
    "duration": 351,
    "start_time": "2022-01-11T18:43:02.781Z"
   },
   {
    "duration": 358,
    "start_time": "2022-01-11T18:43:12.129Z"
   },
   {
    "duration": 3,
    "start_time": "2022-01-11T18:43:24.248Z"
   },
   {
    "duration": 5,
    "start_time": "2022-01-11T18:46:31.016Z"
   },
   {
    "duration": 7,
    "start_time": "2022-01-11T18:51:29.712Z"
   },
   {
    "duration": 268,
    "start_time": "2022-01-11T18:51:51.589Z"
   },
   {
    "duration": 13,
    "start_time": "2022-01-11T18:51:56.101Z"
   },
   {
    "duration": 7,
    "start_time": "2022-01-11T18:52:14.932Z"
   },
   {
    "duration": 3,
    "start_time": "2022-01-11T18:52:34.512Z"
   },
   {
    "duration": 16,
    "start_time": "2022-01-11T18:52:36.850Z"
   },
   {
    "duration": 3,
    "start_time": "2022-01-11T18:52:40.474Z"
   },
   {
    "duration": 13,
    "start_time": "2022-01-11T18:52:44.956Z"
   },
   {
    "duration": 7,
    "start_time": "2022-01-11T18:53:33.997Z"
   },
   {
    "duration": 6,
    "start_time": "2022-01-11T18:53:47.687Z"
   },
   {
    "duration": 7,
    "start_time": "2022-01-11T18:53:51.887Z"
   },
   {
    "duration": 7,
    "start_time": "2022-01-11T18:57:39.686Z"
   },
   {
    "duration": 7067,
    "start_time": "2022-01-11T18:58:40.795Z"
   },
   {
    "duration": 1064,
    "start_time": "2022-01-11T18:59:01.490Z"
   },
   {
    "duration": 52,
    "start_time": "2022-01-11T18:59:02.556Z"
   },
   {
    "duration": 14,
    "start_time": "2022-01-11T18:59:02.610Z"
   },
   {
    "duration": 13,
    "start_time": "2022-01-11T18:59:02.625Z"
   },
   {
    "duration": 20,
    "start_time": "2022-01-11T18:59:02.640Z"
   },
   {
    "duration": 6834,
    "start_time": "2022-01-11T18:59:02.662Z"
   },
   {
    "duration": 9323,
    "start_time": "2022-01-11T18:59:34.196Z"
   },
   {
    "duration": 820,
    "start_time": "2022-01-11T18:59:52.569Z"
   },
   {
    "duration": 8,
    "start_time": "2022-01-11T19:00:08.238Z"
   },
   {
    "duration": 9,
    "start_time": "2022-01-11T19:00:37.877Z"
   },
   {
    "duration": 14,
    "start_time": "2022-01-11T19:01:02.696Z"
   },
   {
    "duration": 14,
    "start_time": "2022-01-11T19:06:00.871Z"
   },
   {
    "duration": 1106,
    "start_time": "2022-01-11T19:15:34.534Z"
   },
   {
    "duration": 52,
    "start_time": "2022-01-11T19:15:35.642Z"
   },
   {
    "duration": 19,
    "start_time": "2022-01-11T19:15:35.696Z"
   },
   {
    "duration": 12,
    "start_time": "2022-01-11T19:15:35.717Z"
   },
   {
    "duration": 7,
    "start_time": "2022-01-11T19:15:35.731Z"
   },
   {
    "duration": 15,
    "start_time": "2022-01-11T19:15:43.681Z"
   },
   {
    "duration": 4,
    "start_time": "2022-01-11T19:15:56.100Z"
   },
   {
    "duration": 5,
    "start_time": "2022-01-11T19:33:12.433Z"
   },
   {
    "duration": 5,
    "start_time": "2022-01-11T19:33:55.295Z"
   },
   {
    "duration": 1077,
    "start_time": "2022-01-11T19:41:42.872Z"
   },
   {
    "duration": 58,
    "start_time": "2022-01-11T19:41:43.951Z"
   },
   {
    "duration": 15,
    "start_time": "2022-01-11T19:41:44.011Z"
   },
   {
    "duration": 3,
    "start_time": "2022-01-11T19:41:44.028Z"
   },
   {
    "duration": 43,
    "start_time": "2022-01-11T19:41:44.033Z"
   },
   {
    "duration": 17,
    "start_time": "2022-01-11T19:41:44.078Z"
   },
   {
    "duration": 11,
    "start_time": "2022-01-11T19:41:44.097Z"
   },
   {
    "duration": 5,
    "start_time": "2022-01-11T19:43:52.165Z"
   },
   {
    "duration": 5,
    "start_time": "2022-01-11T19:52:20.189Z"
   },
   {
    "duration": 7,
    "start_time": "2022-01-11T19:54:59.329Z"
   },
   {
    "duration": 9,
    "start_time": "2022-01-11T19:56:53.297Z"
   },
   {
    "duration": 5,
    "start_time": "2022-01-11T19:57:18.741Z"
   },
   {
    "duration": 6,
    "start_time": "2022-01-11T19:59:40.409Z"
   },
   {
    "duration": 6607,
    "start_time": "2022-01-11T20:00:56.162Z"
   },
   {
    "duration": 12,
    "start_time": "2022-01-11T20:02:44.702Z"
   },
   {
    "duration": 14,
    "start_time": "2022-01-11T20:02:56.381Z"
   },
   {
    "duration": 11,
    "start_time": "2022-01-11T20:08:10.843Z"
   },
   {
    "duration": 1569,
    "start_time": "2022-01-14T11:55:26.360Z"
   },
   {
    "duration": 70,
    "start_time": "2022-01-14T11:55:27.931Z"
   },
   {
    "duration": 21,
    "start_time": "2022-01-14T11:55:28.004Z"
   },
   {
    "duration": 4,
    "start_time": "2022-01-14T11:55:28.027Z"
   },
   {
    "duration": 31,
    "start_time": "2022-01-14T11:55:28.034Z"
   },
   {
    "duration": 7,
    "start_time": "2022-01-14T11:55:28.068Z"
   },
   {
    "duration": 6,
    "start_time": "2022-01-14T11:55:28.078Z"
   },
   {
    "duration": 7,
    "start_time": "2022-01-14T11:55:28.089Z"
   },
   {
    "duration": 9,
    "start_time": "2022-01-14T11:55:28.098Z"
   },
   {
    "duration": 62,
    "start_time": "2022-01-14T11:55:28.109Z"
   },
   {
    "duration": 26,
    "start_time": "2022-01-14T11:55:28.173Z"
   },
   {
    "duration": 15,
    "start_time": "2022-01-14T11:55:28.202Z"
   },
   {
    "duration": 407,
    "start_time": "2022-01-14T11:56:00.786Z"
   },
   {
    "duration": 14,
    "start_time": "2022-01-14T11:56:21.233Z"
   },
   {
    "duration": 5,
    "start_time": "2022-01-14T12:02:10.380Z"
   },
   {
    "duration": 306,
    "start_time": "2022-01-14T12:24:32.570Z"
   },
   {
    "duration": 7,
    "start_time": "2022-01-14T12:24:39.357Z"
   },
   {
    "duration": 9,
    "start_time": "2022-01-14T12:25:56.947Z"
   },
   {
    "duration": 32,
    "start_time": "2022-01-14T12:32:18.724Z"
   },
   {
    "duration": 29,
    "start_time": "2022-01-14T13:04:53.634Z"
   },
   {
    "duration": 23,
    "start_time": "2022-01-14T13:05:17.730Z"
   },
   {
    "duration": 6,
    "start_time": "2022-01-14T13:14:00.935Z"
   },
   {
    "duration": 9,
    "start_time": "2022-01-14T13:15:03.699Z"
   },
   {
    "duration": 9,
    "start_time": "2022-01-14T13:19:06.329Z"
   },
   {
    "duration": 7,
    "start_time": "2022-01-14T13:19:31.488Z"
   },
   {
    "duration": 22,
    "start_time": "2022-01-14T13:20:45.275Z"
   },
   {
    "duration": 294,
    "start_time": "2022-01-14T13:22:07.856Z"
   },
   {
    "duration": 7,
    "start_time": "2022-01-14T13:22:18.489Z"
   },
   {
    "duration": 12,
    "start_time": "2022-01-14T13:23:54.797Z"
   },
   {
    "duration": 283,
    "start_time": "2022-01-14T13:24:36.284Z"
   },
   {
    "duration": 9,
    "start_time": "2022-01-14T13:24:56.238Z"
   },
   {
    "duration": 1441,
    "start_time": "2022-01-14T13:25:05.605Z"
   },
   {
    "duration": 98,
    "start_time": "2022-01-14T13:25:07.049Z"
   },
   {
    "duration": 30,
    "start_time": "2022-01-14T13:25:07.151Z"
   },
   {
    "duration": 5,
    "start_time": "2022-01-14T13:25:07.185Z"
   },
   {
    "duration": 16,
    "start_time": "2022-01-14T13:25:07.193Z"
   },
   {
    "duration": 6,
    "start_time": "2022-01-14T13:25:07.212Z"
   },
   {
    "duration": 11,
    "start_time": "2022-01-14T13:25:07.220Z"
   },
   {
    "duration": 38,
    "start_time": "2022-01-14T13:25:07.235Z"
   },
   {
    "duration": 24,
    "start_time": "2022-01-14T13:25:07.276Z"
   },
   {
    "duration": 29,
    "start_time": "2022-01-14T13:25:07.302Z"
   },
   {
    "duration": 34,
    "start_time": "2022-01-14T13:25:07.333Z"
   },
   {
    "duration": 10,
    "start_time": "2022-01-14T13:25:07.370Z"
   },
   {
    "duration": 11,
    "start_time": "2022-01-14T13:25:07.383Z"
   },
   {
    "duration": 10,
    "start_time": "2022-01-14T13:25:07.396Z"
   },
   {
    "duration": 21,
    "start_time": "2022-01-14T13:25:07.409Z"
   },
   {
    "duration": 57,
    "start_time": "2022-01-14T13:25:07.433Z"
   },
   {
    "duration": 29,
    "start_time": "2022-01-14T13:25:07.493Z"
   },
   {
    "duration": 7,
    "start_time": "2022-01-14T13:25:07.524Z"
   },
   {
    "duration": 7,
    "start_time": "2022-01-14T14:04:32.932Z"
   },
   {
    "duration": 9,
    "start_time": "2022-01-14T14:04:39.652Z"
   },
   {
    "duration": 292,
    "start_time": "2022-01-14T14:05:07.919Z"
   },
   {
    "duration": 2636,
    "start_time": "2022-01-14T14:06:02.932Z"
   },
   {
    "duration": 382,
    "start_time": "2022-01-14T14:06:19.991Z"
   },
   {
    "duration": 379,
    "start_time": "2022-01-14T14:06:38.397Z"
   },
   {
    "duration": 542,
    "start_time": "2022-01-14T14:06:44.469Z"
   },
   {
    "duration": 400,
    "start_time": "2022-01-14T14:06:50.673Z"
   },
   {
    "duration": 304,
    "start_time": "2022-01-14T14:11:01.425Z"
   },
   {
    "duration": 298,
    "start_time": "2022-01-14T14:11:07.846Z"
   },
   {
    "duration": 390,
    "start_time": "2022-01-14T14:11:44.711Z"
   },
   {
    "duration": 397,
    "start_time": "2022-01-14T14:11:58.722Z"
   },
   {
    "duration": 7,
    "start_time": "2022-01-14T14:23:22.817Z"
   },
   {
    "duration": 10,
    "start_time": "2022-01-14T14:23:32.863Z"
   },
   {
    "duration": 40,
    "start_time": "2022-01-14T14:54:10.887Z"
   },
   {
    "duration": 48,
    "start_time": "2022-01-14T14:54:23.434Z"
   },
   {
    "duration": 46,
    "start_time": "2022-01-14T14:54:54.782Z"
   },
   {
    "duration": 440,
    "start_time": "2022-01-14T14:55:45.122Z"
   },
   {
    "duration": 49,
    "start_time": "2022-01-14T14:55:50.668Z"
   },
   {
    "duration": 66,
    "start_time": "2022-01-14T14:57:47.231Z"
   },
   {
    "duration": 323,
    "start_time": "2022-01-14T15:00:34.678Z"
   },
   {
    "duration": 110,
    "start_time": "2022-01-14T15:00:44.718Z"
   },
   {
    "duration": 62,
    "start_time": "2022-01-14T15:01:45.116Z"
   },
   {
    "duration": 5810,
    "start_time": "2022-01-14T15:02:57.121Z"
   },
   {
    "duration": 61,
    "start_time": "2022-01-14T15:03:19.464Z"
   },
   {
    "duration": 345,
    "start_time": "2022-01-14T15:06:01.174Z"
   },
   {
    "duration": 11,
    "start_time": "2022-01-14T15:07:07.040Z"
   },
   {
    "duration": 283,
    "start_time": "2022-01-14T15:07:44.523Z"
   },
   {
    "duration": 10,
    "start_time": "2022-01-14T15:07:51.662Z"
   },
   {
    "duration": 10,
    "start_time": "2022-01-14T15:09:15.328Z"
   },
   {
    "duration": 624,
    "start_time": "2022-01-14T15:14:40.171Z"
   },
   {
    "duration": 123,
    "start_time": "2022-01-14T15:15:22.472Z"
   },
   {
    "duration": 955,
    "start_time": "2022-01-14T15:15:28.945Z"
   },
   {
    "duration": 597,
    "start_time": "2022-01-14T15:15:34.931Z"
   },
   {
    "duration": 96,
    "start_time": "2022-01-14T15:15:43.529Z"
   },
   {
    "duration": 495,
    "start_time": "2022-01-14T15:15:46.858Z"
   },
   {
    "duration": 8218,
    "start_time": "2022-01-14T15:24:38.069Z"
   },
   {
    "duration": 8694,
    "start_time": "2022-01-14T15:24:50.850Z"
   },
   {
    "duration": 484,
    "start_time": "2022-01-14T15:35:05.961Z"
   },
   {
    "duration": 723,
    "start_time": "2022-01-14T15:35:22.884Z"
   },
   {
    "duration": 1364,
    "start_time": "2022-01-14T15:35:55.799Z"
   },
   {
    "duration": 76,
    "start_time": "2022-01-14T15:35:57.167Z"
   },
   {
    "duration": 40,
    "start_time": "2022-01-14T15:35:57.247Z"
   },
   {
    "duration": 4,
    "start_time": "2022-01-14T15:35:57.290Z"
   },
   {
    "duration": 8,
    "start_time": "2022-01-14T15:35:57.297Z"
   },
   {
    "duration": 7,
    "start_time": "2022-01-14T15:35:57.307Z"
   },
   {
    "duration": 51,
    "start_time": "2022-01-14T15:35:57.316Z"
   },
   {
    "duration": 11,
    "start_time": "2022-01-14T15:35:57.373Z"
   },
   {
    "duration": 11,
    "start_time": "2022-01-14T15:35:57.388Z"
   },
   {
    "duration": 22,
    "start_time": "2022-01-14T15:35:57.402Z"
   },
   {
    "duration": 58,
    "start_time": "2022-01-14T15:35:57.427Z"
   },
   {
    "duration": 10,
    "start_time": "2022-01-14T15:35:57.488Z"
   },
   {
    "duration": 6,
    "start_time": "2022-01-14T15:35:57.501Z"
   },
   {
    "duration": 9,
    "start_time": "2022-01-14T15:35:57.510Z"
   },
   {
    "duration": 55,
    "start_time": "2022-01-14T15:35:57.521Z"
   },
   {
    "duration": 44,
    "start_time": "2022-01-14T15:35:57.579Z"
   },
   {
    "duration": 61,
    "start_time": "2022-01-14T15:35:57.626Z"
   },
   {
    "duration": 433,
    "start_time": "2022-01-14T15:35:57.689Z"
   },
   {
    "duration": 319,
    "start_time": "2022-01-14T15:35:58.124Z"
   },
   {
    "duration": 503,
    "start_time": "2022-01-14T15:35:58.445Z"
   },
   {
    "duration": 13,
    "start_time": "2022-01-14T15:35:58.951Z"
   },
   {
    "duration": 101,
    "start_time": "2022-01-14T15:39:06.153Z"
   },
   {
    "duration": 97,
    "start_time": "2022-01-14T15:39:23.124Z"
   },
   {
    "duration": 135,
    "start_time": "2022-01-14T15:39:41.391Z"
   },
   {
    "duration": 96,
    "start_time": "2022-01-14T15:39:47.435Z"
   },
   {
    "duration": 903,
    "start_time": "2022-01-14T15:39:53.766Z"
   },
   {
    "duration": 451,
    "start_time": "2022-01-14T15:40:10.176Z"
   },
   {
    "duration": 295,
    "start_time": "2022-01-14T15:43:50.607Z"
   },
   {
    "duration": 29,
    "start_time": "2022-01-14T15:44:01.741Z"
   },
   {
    "duration": 60,
    "start_time": "2022-01-14T15:44:11.600Z"
   },
   {
    "duration": 23,
    "start_time": "2022-01-14T15:46:05.904Z"
   },
   {
    "duration": 23,
    "start_time": "2022-01-14T15:46:56.077Z"
   },
   {
    "duration": 7909,
    "start_time": "2022-01-14T15:49:29.505Z"
   },
   {
    "duration": 24,
    "start_time": "2022-01-14T16:05:02.936Z"
   },
   {
    "duration": 22,
    "start_time": "2022-01-14T16:05:16.837Z"
   },
   {
    "duration": 303,
    "start_time": "2022-01-14T16:09:17.346Z"
   },
   {
    "duration": 8,
    "start_time": "2022-01-14T16:09:30.794Z"
   },
   {
    "duration": 9,
    "start_time": "2022-01-14T16:09:42.436Z"
   },
   {
    "duration": 13,
    "start_time": "2022-01-14T16:09:54.388Z"
   },
   {
    "duration": 10,
    "start_time": "2022-01-14T16:10:17.182Z"
   },
   {
    "duration": 96,
    "start_time": "2022-01-14T16:10:38.148Z"
   },
   {
    "duration": 9,
    "start_time": "2022-01-14T16:10:41.980Z"
   },
   {
    "duration": 9,
    "start_time": "2022-01-14T16:11:07.696Z"
   },
   {
    "duration": 9,
    "start_time": "2022-01-14T16:11:51.486Z"
   },
   {
    "duration": 307,
    "start_time": "2022-01-14T16:12:54.541Z"
   },
   {
    "duration": 10,
    "start_time": "2022-01-14T16:13:00.326Z"
   },
   {
    "duration": 9,
    "start_time": "2022-01-14T16:16:56.876Z"
   },
   {
    "duration": 19,
    "start_time": "2022-01-14T16:17:05.761Z"
   },
   {
    "duration": 14,
    "start_time": "2022-01-14T16:19:05.432Z"
   },
   {
    "duration": 25,
    "start_time": "2022-01-14T16:19:17.376Z"
   },
   {
    "duration": 29,
    "start_time": "2022-01-14T16:24:21.393Z"
   },
   {
    "duration": 17,
    "start_time": "2022-01-14T16:24:39.475Z"
   },
   {
    "duration": 18,
    "start_time": "2022-01-14T16:25:57.062Z"
   },
   {
    "duration": 1564,
    "start_time": "2022-01-14T16:26:10.991Z"
   },
   {
    "duration": 75,
    "start_time": "2022-01-14T16:26:12.557Z"
   },
   {
    "duration": 46,
    "start_time": "2022-01-14T16:26:12.637Z"
   },
   {
    "duration": 5,
    "start_time": "2022-01-14T16:26:12.686Z"
   },
   {
    "duration": 10,
    "start_time": "2022-01-14T16:26:12.694Z"
   },
   {
    "duration": 6,
    "start_time": "2022-01-14T16:26:12.707Z"
   },
   {
    "duration": 7,
    "start_time": "2022-01-14T16:26:12.715Z"
   },
   {
    "duration": 41,
    "start_time": "2022-01-14T16:26:12.725Z"
   },
   {
    "duration": 11,
    "start_time": "2022-01-14T16:26:12.770Z"
   },
   {
    "duration": 18,
    "start_time": "2022-01-14T16:26:12.786Z"
   },
   {
    "duration": 22,
    "start_time": "2022-01-14T16:26:12.806Z"
   },
   {
    "duration": 14,
    "start_time": "2022-01-14T16:26:12.862Z"
   },
   {
    "duration": 9,
    "start_time": "2022-01-14T16:26:12.882Z"
   },
   {
    "duration": 6,
    "start_time": "2022-01-14T16:26:12.894Z"
   },
   {
    "duration": 10,
    "start_time": "2022-01-14T16:26:12.902Z"
   },
   {
    "duration": 88,
    "start_time": "2022-01-14T16:26:12.916Z"
   },
   {
    "duration": 39,
    "start_time": "2022-01-14T16:26:13.007Z"
   },
   {
    "duration": 650,
    "start_time": "2022-01-14T16:26:13.049Z"
   },
   {
    "duration": 353,
    "start_time": "2022-01-14T16:26:13.702Z"
   },
   {
    "duration": 193,
    "start_time": "2022-01-14T16:26:14.057Z"
   },
   {
    "duration": -26,
    "start_time": "2022-01-14T16:26:14.279Z"
   },
   {
    "duration": -27,
    "start_time": "2022-01-14T16:26:14.282Z"
   },
   {
    "duration": 860,
    "start_time": "2022-01-14T16:26:32.218Z"
   },
   {
    "duration": 98,
    "start_time": "2022-01-14T16:26:48.177Z"
   },
   {
    "duration": 486,
    "start_time": "2022-01-14T16:26:50.501Z"
   },
   {
    "duration": 1532,
    "start_time": "2022-01-14T16:27:00.268Z"
   },
   {
    "duration": 76,
    "start_time": "2022-01-14T16:27:01.802Z"
   },
   {
    "duration": 26,
    "start_time": "2022-01-14T16:27:01.881Z"
   },
   {
    "duration": 4,
    "start_time": "2022-01-14T16:27:01.909Z"
   },
   {
    "duration": 11,
    "start_time": "2022-01-14T16:27:01.916Z"
   },
   {
    "duration": 41,
    "start_time": "2022-01-14T16:27:01.930Z"
   },
   {
    "duration": 17,
    "start_time": "2022-01-14T16:27:01.974Z"
   },
   {
    "duration": 7,
    "start_time": "2022-01-14T16:27:01.996Z"
   },
   {
    "duration": 9,
    "start_time": "2022-01-14T16:27:02.006Z"
   },
   {
    "duration": 48,
    "start_time": "2022-01-14T16:27:02.018Z"
   },
   {
    "duration": 24,
    "start_time": "2022-01-14T16:27:02.071Z"
   },
   {
    "duration": 14,
    "start_time": "2022-01-14T16:27:02.098Z"
   },
   {
    "duration": 8,
    "start_time": "2022-01-14T16:27:02.115Z"
   },
   {
    "duration": 43,
    "start_time": "2022-01-14T16:27:02.126Z"
   },
   {
    "duration": 26,
    "start_time": "2022-01-14T16:27:02.172Z"
   },
   {
    "duration": 65,
    "start_time": "2022-01-14T16:27:02.201Z"
   },
   {
    "duration": 48,
    "start_time": "2022-01-14T16:27:02.268Z"
   },
   {
    "duration": 441,
    "start_time": "2022-01-14T16:27:02.319Z"
   },
   {
    "duration": 365,
    "start_time": "2022-01-14T16:27:02.763Z"
   },
   {
    "duration": 592,
    "start_time": "2022-01-14T16:27:03.131Z"
   },
   {
    "duration": 21,
    "start_time": "2022-01-14T16:27:03.726Z"
   },
   {
    "duration": 24,
    "start_time": "2022-01-14T16:27:03.762Z"
   },
   {
    "duration": 2038,
    "start_time": "2022-01-14T16:29:34.066Z"
   },
   {
    "duration": 1265,
    "start_time": "2022-01-14T16:30:31.921Z"
   },
   {
    "duration": 1188,
    "start_time": "2022-01-14T16:30:35.435Z"
   },
   {
    "duration": 17,
    "start_time": "2022-01-14T16:31:09.756Z"
   },
   {
    "duration": 18,
    "start_time": "2022-01-14T16:31:45.931Z"
   },
   {
    "duration": 26,
    "start_time": "2022-01-14T16:36:07.279Z"
   },
   {
    "duration": 1442,
    "start_time": "2022-01-14T16:36:34.736Z"
   },
   {
    "duration": 72,
    "start_time": "2022-01-14T16:36:36.181Z"
   },
   {
    "duration": 31,
    "start_time": "2022-01-14T16:36:36.256Z"
   },
   {
    "duration": 4,
    "start_time": "2022-01-14T16:36:36.293Z"
   },
   {
    "duration": 11,
    "start_time": "2022-01-14T16:36:36.300Z"
   },
   {
    "duration": 8,
    "start_time": "2022-01-14T16:36:36.313Z"
   },
   {
    "duration": 44,
    "start_time": "2022-01-14T16:36:36.324Z"
   },
   {
    "duration": 8,
    "start_time": "2022-01-14T16:36:36.374Z"
   },
   {
    "duration": 13,
    "start_time": "2022-01-14T16:36:36.385Z"
   },
   {
    "duration": 13,
    "start_time": "2022-01-14T16:36:36.400Z"
   },
   {
    "duration": 66,
    "start_time": "2022-01-14T16:36:36.416Z"
   },
   {
    "duration": 13,
    "start_time": "2022-01-14T16:36:36.485Z"
   },
   {
    "duration": 6,
    "start_time": "2022-01-14T16:36:36.500Z"
   },
   {
    "duration": 6,
    "start_time": "2022-01-14T16:36:36.509Z"
   },
   {
    "duration": 45,
    "start_time": "2022-01-14T16:36:36.517Z"
   },
   {
    "duration": 38,
    "start_time": "2022-01-14T16:36:36.568Z"
   },
   {
    "duration": 30,
    "start_time": "2022-01-14T16:36:36.608Z"
   },
   {
    "duration": 449,
    "start_time": "2022-01-14T16:36:36.640Z"
   },
   {
    "duration": 334,
    "start_time": "2022-01-14T16:36:37.091Z"
   },
   {
    "duration": 498,
    "start_time": "2022-01-14T16:36:37.429Z"
   },
   {
    "duration": 39,
    "start_time": "2022-01-14T16:36:37.930Z"
   },
   {
    "duration": 37,
    "start_time": "2022-01-14T16:36:37.972Z"
   },
   {
    "duration": 10480,
    "start_time": "2022-01-14T16:37:53.673Z"
   },
   {
    "duration": 110,
    "start_time": "2022-01-14T16:38:41.101Z"
   },
   {
    "duration": 299,
    "start_time": "2022-01-14T16:38:45.406Z"
   },
   {
    "duration": 22,
    "start_time": "2022-01-14T16:38:50.822Z"
   },
   {
    "duration": 14,
    "start_time": "2022-01-14T16:42:43.988Z"
   },
   {
    "duration": 315,
    "start_time": "2022-01-14T16:43:22.318Z"
   },
   {
    "duration": 24,
    "start_time": "2022-01-14T16:43:44.296Z"
   },
   {
    "duration": 280,
    "start_time": "2022-01-14T16:44:41.401Z"
   },
   {
    "duration": 6,
    "start_time": "2022-01-14T16:44:51.974Z"
   },
   {
    "duration": 15,
    "start_time": "2022-01-14T16:44:57.203Z"
   },
   {
    "duration": 102,
    "start_time": "2022-01-14T16:45:06.512Z"
   },
   {
    "duration": 302,
    "start_time": "2022-01-14T16:45:10.357Z"
   },
   {
    "duration": 24,
    "start_time": "2022-01-14T16:46:05.690Z"
   },
   {
    "duration": 24,
    "start_time": "2022-01-14T16:46:22.888Z"
   },
   {
    "duration": 29,
    "start_time": "2022-01-14T16:49:57.095Z"
   },
   {
    "duration": 36,
    "start_time": "2022-01-14T16:50:05.958Z"
   },
   {
    "duration": 45,
    "start_time": "2022-01-14T16:50:48.528Z"
   },
   {
    "duration": 32,
    "start_time": "2022-01-14T16:51:36.876Z"
   },
   {
    "duration": 5,
    "start_time": "2022-01-14T17:30:56.645Z"
   },
   {
    "duration": 6,
    "start_time": "2022-01-14T17:43:00.303Z"
   },
   {
    "duration": 20,
    "start_time": "2022-01-14T17:43:17.078Z"
   },
   {
    "duration": 1305,
    "start_time": "2022-01-14T17:47:11.413Z"
   },
   {
    "duration": 69,
    "start_time": "2022-01-14T17:47:12.720Z"
   },
   {
    "duration": 21,
    "start_time": "2022-01-14T17:47:12.792Z"
   },
   {
    "duration": 4,
    "start_time": "2022-01-14T17:47:12.816Z"
   },
   {
    "duration": 8,
    "start_time": "2022-01-14T17:47:12.822Z"
   },
   {
    "duration": 34,
    "start_time": "2022-01-14T17:47:12.832Z"
   },
   {
    "duration": 6,
    "start_time": "2022-01-14T17:47:12.869Z"
   },
   {
    "duration": 10,
    "start_time": "2022-01-14T17:47:12.878Z"
   },
   {
    "duration": 10,
    "start_time": "2022-01-14T17:47:12.891Z"
   },
   {
    "duration": 13,
    "start_time": "2022-01-14T17:47:12.904Z"
   },
   {
    "duration": 56,
    "start_time": "2022-01-14T17:47:12.920Z"
   },
   {
    "duration": 10,
    "start_time": "2022-01-14T17:47:12.979Z"
   },
   {
    "duration": 6,
    "start_time": "2022-01-14T17:47:12.991Z"
   },
   {
    "duration": 8,
    "start_time": "2022-01-14T17:47:12.999Z"
   },
   {
    "duration": 9,
    "start_time": "2022-01-14T17:47:13.010Z"
   },
   {
    "duration": 69,
    "start_time": "2022-01-14T17:47:13.022Z"
   },
   {
    "duration": 24,
    "start_time": "2022-01-14T17:47:13.093Z"
   },
   {
    "duration": 434,
    "start_time": "2022-01-14T17:47:13.119Z"
   },
   {
    "duration": 322,
    "start_time": "2022-01-14T17:47:13.555Z"
   },
   {
    "duration": 475,
    "start_time": "2022-01-14T17:47:13.880Z"
   },
   {
    "duration": 35,
    "start_time": "2022-01-14T17:47:14.358Z"
   },
   {
    "duration": 78,
    "start_time": "2022-01-14T17:47:14.397Z"
   },
   {
    "duration": 22,
    "start_time": "2022-01-14T17:47:14.479Z"
   },
   {
    "duration": 7,
    "start_time": "2022-01-14T17:47:14.504Z"
   },
   {
    "duration": 37,
    "start_time": "2022-01-14T17:47:53.723Z"
   },
   {
    "duration": 38,
    "start_time": "2022-01-14T17:48:30.662Z"
   },
   {
    "duration": 5,
    "start_time": "2022-01-14T17:49:13.693Z"
   },
   {
    "duration": 327,
    "start_time": "2022-01-14T17:50:45.454Z"
   },
   {
    "duration": 1024,
    "start_time": "2022-01-14T18:03:30.593Z"
   },
   {
    "duration": 327,
    "start_time": "2022-01-14T18:05:09.705Z"
   },
   {
    "duration": 1318,
    "start_time": "2022-01-14T18:07:41.705Z"
   },
   {
    "duration": 69,
    "start_time": "2022-01-14T18:07:43.026Z"
   },
   {
    "duration": 21,
    "start_time": "2022-01-14T18:07:43.098Z"
   },
   {
    "duration": 4,
    "start_time": "2022-01-14T18:07:43.122Z"
   },
   {
    "duration": 35,
    "start_time": "2022-01-14T18:07:43.128Z"
   },
   {
    "duration": 6,
    "start_time": "2022-01-14T18:07:43.165Z"
   },
   {
    "duration": 6,
    "start_time": "2022-01-14T18:07:43.174Z"
   },
   {
    "duration": 7,
    "start_time": "2022-01-14T18:07:43.184Z"
   },
   {
    "duration": 11,
    "start_time": "2022-01-14T18:07:43.193Z"
   },
   {
    "duration": 14,
    "start_time": "2022-01-14T18:07:43.206Z"
   },
   {
    "duration": 57,
    "start_time": "2022-01-14T18:07:43.222Z"
   },
   {
    "duration": 11,
    "start_time": "2022-01-14T18:07:43.282Z"
   },
   {
    "duration": 8,
    "start_time": "2022-01-14T18:07:43.295Z"
   },
   {
    "duration": 8,
    "start_time": "2022-01-14T18:07:43.305Z"
   },
   {
    "duration": 48,
    "start_time": "2022-01-14T18:07:43.315Z"
   },
   {
    "duration": 35,
    "start_time": "2022-01-14T18:07:43.365Z"
   },
   {
    "duration": 23,
    "start_time": "2022-01-14T18:07:43.402Z"
   },
   {
    "duration": 426,
    "start_time": "2022-01-14T18:07:43.428Z"
   },
   {
    "duration": 301,
    "start_time": "2022-01-14T18:07:43.862Z"
   },
   {
    "duration": 452,
    "start_time": "2022-01-14T18:07:44.165Z"
   },
   {
    "duration": 21,
    "start_time": "2022-01-14T18:07:44.619Z"
   },
   {
    "duration": 55,
    "start_time": "2022-01-14T18:07:44.643Z"
   },
   {
    "duration": 1333,
    "start_time": "2022-01-14T18:07:44.702Z"
   },
   {
    "duration": 366,
    "start_time": "2022-01-14T18:09:10.843Z"
   },
   {
    "duration": 8,
    "start_time": "2022-01-14T18:13:15.232Z"
   },
   {
    "duration": 250,
    "start_time": "2022-01-14T18:13:16.839Z"
   },
   {
    "duration": 269,
    "start_time": "2022-01-14T18:14:01.940Z"
   },
   {
    "duration": 16,
    "start_time": "2022-01-14T18:15:19.131Z"
   },
   {
    "duration": 1361,
    "start_time": "2022-01-14T18:15:25.579Z"
   },
   {
    "duration": 70,
    "start_time": "2022-01-14T18:15:26.942Z"
   },
   {
    "duration": 24,
    "start_time": "2022-01-14T18:15:27.020Z"
   },
   {
    "duration": 5,
    "start_time": "2022-01-14T18:15:27.063Z"
   },
   {
    "duration": 10,
    "start_time": "2022-01-14T18:15:27.070Z"
   },
   {
    "duration": 6,
    "start_time": "2022-01-14T18:15:27.082Z"
   },
   {
    "duration": 5,
    "start_time": "2022-01-14T18:15:27.093Z"
   },
   {
    "duration": 7,
    "start_time": "2022-01-14T18:15:27.101Z"
   },
   {
    "duration": 58,
    "start_time": "2022-01-14T18:15:27.111Z"
   },
   {
    "duration": 14,
    "start_time": "2022-01-14T18:15:27.172Z"
   },
   {
    "duration": 21,
    "start_time": "2022-01-14T18:15:27.188Z"
   },
   {
    "duration": 12,
    "start_time": "2022-01-14T18:15:27.212Z"
   },
   {
    "duration": 39,
    "start_time": "2022-01-14T18:15:27.227Z"
   },
   {
    "duration": 9,
    "start_time": "2022-01-14T18:15:27.269Z"
   },
   {
    "duration": 13,
    "start_time": "2022-01-14T18:15:27.280Z"
   },
   {
    "duration": 75,
    "start_time": "2022-01-14T18:15:27.297Z"
   },
   {
    "duration": 22,
    "start_time": "2022-01-14T18:15:27.375Z"
   },
   {
    "duration": 419,
    "start_time": "2022-01-14T18:15:27.400Z"
   },
   {
    "duration": 415,
    "start_time": "2022-01-14T18:15:27.822Z"
   },
   {
    "duration": 484,
    "start_time": "2022-01-14T18:15:28.239Z"
   },
   {
    "duration": 4,
    "start_time": "2022-01-14T18:15:28.726Z"
   },
   {
    "duration": 3,
    "start_time": "2022-01-14T18:15:28.735Z"
   },
   {
    "duration": 13,
    "start_time": "2022-01-14T18:15:28.763Z"
   },
   {
    "duration": 1643,
    "start_time": "2022-01-14T18:15:28.778Z"
   },
   {
    "duration": 1362,
    "start_time": "2022-01-14T18:19:55.372Z"
   },
   {
    "duration": 72,
    "start_time": "2022-01-14T18:19:56.737Z"
   },
   {
    "duration": 22,
    "start_time": "2022-01-14T18:19:56.812Z"
   },
   {
    "duration": 25,
    "start_time": "2022-01-14T18:19:56.837Z"
   },
   {
    "duration": 7,
    "start_time": "2022-01-14T18:19:56.865Z"
   },
   {
    "duration": 7,
    "start_time": "2022-01-14T18:19:56.875Z"
   },
   {
    "duration": 10,
    "start_time": "2022-01-14T18:19:56.885Z"
   },
   {
    "duration": 6,
    "start_time": "2022-01-14T18:19:56.900Z"
   },
   {
    "duration": 52,
    "start_time": "2022-01-14T18:19:56.911Z"
   },
   {
    "duration": 16,
    "start_time": "2022-01-14T18:19:56.966Z"
   },
   {
    "duration": 23,
    "start_time": "2022-01-14T18:19:56.985Z"
   },
   {
    "duration": 14,
    "start_time": "2022-01-14T18:19:57.010Z"
   },
   {
    "duration": 7,
    "start_time": "2022-01-14T18:19:57.063Z"
   },
   {
    "duration": 7,
    "start_time": "2022-01-14T18:19:57.073Z"
   },
   {
    "duration": 11,
    "start_time": "2022-01-14T18:19:57.082Z"
   },
   {
    "duration": 70,
    "start_time": "2022-01-14T18:19:57.096Z"
   },
   {
    "duration": 25,
    "start_time": "2022-01-14T18:19:57.169Z"
   },
   {
    "duration": 416,
    "start_time": "2022-01-14T18:19:57.196Z"
   },
   {
    "duration": 326,
    "start_time": "2022-01-14T18:19:57.614Z"
   },
   {
    "duration": 478,
    "start_time": "2022-01-14T18:19:57.942Z"
   },
   {
    "duration": 3,
    "start_time": "2022-01-14T18:19:58.422Z"
   },
   {
    "duration": 5,
    "start_time": "2022-01-14T18:19:58.428Z"
   },
   {
    "duration": 34,
    "start_time": "2022-01-14T18:19:58.438Z"
   },
   {
    "duration": 1368,
    "start_time": "2022-01-14T18:19:58.475Z"
   },
   {
    "duration": 15,
    "start_time": "2022-01-14T18:25:40.589Z"
   },
   {
    "duration": 377,
    "start_time": "2022-01-14T18:25:42.854Z"
   },
   {
    "duration": 400,
    "start_time": "2022-01-14T18:43:53.152Z"
   },
   {
    "duration": 475,
    "start_time": "2022-01-14T18:44:25.575Z"
   },
   {
    "duration": 315,
    "start_time": "2022-01-14T18:45:05.629Z"
   },
   {
    "duration": 264,
    "start_time": "2022-01-14T18:45:17.781Z"
   },
   {
    "duration": 282,
    "start_time": "2022-01-14T18:45:33.320Z"
   },
   {
    "duration": 288,
    "start_time": "2022-01-14T18:45:44.092Z"
   },
   {
    "duration": 325,
    "start_time": "2022-01-14T18:45:53.250Z"
   },
   {
    "duration": 325,
    "start_time": "2022-01-14T18:45:58.048Z"
   },
   {
    "duration": 322,
    "start_time": "2022-01-14T18:46:14.091Z"
   },
   {
    "duration": 407,
    "start_time": "2022-01-14T18:46:24.436Z"
   },
   {
    "duration": 316,
    "start_time": "2022-01-14T18:46:37.327Z"
   },
   {
    "duration": 461,
    "start_time": "2022-01-14T18:46:42.130Z"
   },
   {
    "duration": 1418,
    "start_time": "2022-01-14T18:46:53.215Z"
   },
   {
    "duration": 77,
    "start_time": "2022-01-14T18:46:54.636Z"
   },
   {
    "duration": 21,
    "start_time": "2022-01-14T18:46:54.716Z"
   },
   {
    "duration": 23,
    "start_time": "2022-01-14T18:46:54.741Z"
   },
   {
    "duration": 20,
    "start_time": "2022-01-14T18:46:54.767Z"
   },
   {
    "duration": 8,
    "start_time": "2022-01-14T18:46:54.789Z"
   },
   {
    "duration": 7,
    "start_time": "2022-01-14T18:46:54.800Z"
   },
   {
    "duration": 7,
    "start_time": "2022-01-14T18:46:54.810Z"
   },
   {
    "duration": 42,
    "start_time": "2022-01-14T18:46:54.821Z"
   },
   {
    "duration": 16,
    "start_time": "2022-01-14T18:46:54.866Z"
   },
   {
    "duration": 20,
    "start_time": "2022-01-14T18:46:54.884Z"
   },
   {
    "duration": 11,
    "start_time": "2022-01-14T18:46:54.906Z"
   },
   {
    "duration": 46,
    "start_time": "2022-01-14T18:46:54.919Z"
   },
   {
    "duration": 14,
    "start_time": "2022-01-14T18:46:54.967Z"
   },
   {
    "duration": 11,
    "start_time": "2022-01-14T18:46:54.983Z"
   },
   {
    "duration": 40,
    "start_time": "2022-01-14T18:46:54.997Z"
   },
   {
    "duration": 45,
    "start_time": "2022-01-14T18:46:55.039Z"
   },
   {
    "duration": 424,
    "start_time": "2022-01-14T18:46:55.086Z"
   },
   {
    "duration": 326,
    "start_time": "2022-01-14T18:46:55.512Z"
   },
   {
    "duration": 507,
    "start_time": "2022-01-14T18:46:55.840Z"
   },
   {
    "duration": 16,
    "start_time": "2022-01-14T18:46:56.349Z"
   },
   {
    "duration": 1582,
    "start_time": "2022-01-14T18:46:56.368Z"
   },
   {
    "duration": 7,
    "start_time": "2022-01-14T18:59:02.632Z"
   },
   {
    "duration": 10,
    "start_time": "2022-01-14T19:03:00.849Z"
   },
   {
    "duration": 12,
    "start_time": "2022-01-14T19:03:43.093Z"
   },
   {
    "duration": 257,
    "start_time": "2022-01-14T19:06:32.927Z"
   },
   {
    "duration": 12,
    "start_time": "2022-01-14T19:07:20.351Z"
   },
   {
    "duration": 268,
    "start_time": "2022-01-14T19:07:21.899Z"
   },
   {
    "duration": 12,
    "start_time": "2022-01-14T19:07:42.842Z"
   },
   {
    "duration": 411,
    "start_time": "2022-01-14T19:23:25.192Z"
   },
   {
    "duration": 17,
    "start_time": "2022-01-14T19:23:54.038Z"
   },
   {
    "duration": 320,
    "start_time": "2022-01-14T19:24:04.692Z"
   },
   {
    "duration": 12,
    "start_time": "2022-01-14T19:24:20.182Z"
   },
   {
    "duration": 323,
    "start_time": "2022-01-14T19:24:22.338Z"
   },
   {
    "duration": 12,
    "start_time": "2022-01-14T19:24:36.214Z"
   },
   {
    "duration": 479,
    "start_time": "2022-01-14T19:24:37.785Z"
   },
   {
    "duration": 540,
    "start_time": "2022-01-14T20:00:58.389Z"
   },
   {
    "duration": 309,
    "start_time": "2022-01-14T20:01:53.482Z"
   },
   {
    "duration": 309,
    "start_time": "2022-01-14T20:03:31.081Z"
   },
   {
    "duration": 311,
    "start_time": "2022-01-14T20:04:04.067Z"
   },
   {
    "duration": 312,
    "start_time": "2022-01-14T20:04:14.489Z"
   },
   {
    "duration": 297,
    "start_time": "2022-01-14T20:05:36.830Z"
   },
   {
    "duration": 351,
    "start_time": "2022-01-14T20:05:43.163Z"
   },
   {
    "duration": 294,
    "start_time": "2022-01-14T20:05:49.477Z"
   },
   {
    "duration": 1153,
    "start_time": "2022-01-14T20:06:02.254Z"
   },
   {
    "duration": 316,
    "start_time": "2022-01-14T20:06:47.594Z"
   },
   {
    "duration": 1121,
    "start_time": "2022-01-14T20:07:15.307Z"
   },
   {
    "duration": 298,
    "start_time": "2022-01-14T20:09:57.422Z"
   },
   {
    "duration": 300,
    "start_time": "2022-01-14T20:10:21.212Z"
   },
   {
    "duration": 550,
    "start_time": "2022-01-14T20:16:21.059Z"
   },
   {
    "duration": 648,
    "start_time": "2022-01-14T20:16:41.262Z"
   },
   {
    "duration": 1349,
    "start_time": "2022-01-14T20:17:28.485Z"
   },
   {
    "duration": 71,
    "start_time": "2022-01-14T20:17:29.837Z"
   },
   {
    "duration": 21,
    "start_time": "2022-01-14T20:17:29.910Z"
   },
   {
    "duration": 3,
    "start_time": "2022-01-14T20:17:29.934Z"
   },
   {
    "duration": 7,
    "start_time": "2022-01-14T20:17:29.963Z"
   },
   {
    "duration": 5,
    "start_time": "2022-01-14T20:17:29.973Z"
   },
   {
    "duration": 5,
    "start_time": "2022-01-14T20:17:29.980Z"
   },
   {
    "duration": 6,
    "start_time": "2022-01-14T20:17:29.990Z"
   },
   {
    "duration": 13,
    "start_time": "2022-01-14T20:17:29.999Z"
   },
   {
    "duration": 63,
    "start_time": "2022-01-14T20:17:30.015Z"
   },
   {
    "duration": 39,
    "start_time": "2022-01-14T20:17:30.080Z"
   },
   {
    "duration": 12,
    "start_time": "2022-01-14T20:17:30.122Z"
   },
   {
    "duration": 8,
    "start_time": "2022-01-14T20:17:30.136Z"
   },
   {
    "duration": 19,
    "start_time": "2022-01-14T20:17:30.147Z"
   },
   {
    "duration": 23,
    "start_time": "2022-01-14T20:17:30.169Z"
   },
   {
    "duration": 36,
    "start_time": "2022-01-14T20:17:30.195Z"
   },
   {
    "duration": 45,
    "start_time": "2022-01-14T20:17:30.234Z"
   },
   {
    "duration": 469,
    "start_time": "2022-01-14T20:17:30.282Z"
   },
   {
    "duration": 343,
    "start_time": "2022-01-14T20:17:30.754Z"
   },
   {
    "duration": 595,
    "start_time": "2022-01-14T20:17:31.099Z"
   },
   {
    "duration": 12,
    "start_time": "2022-01-14T20:17:31.696Z"
   },
   {
    "duration": 1552,
    "start_time": "2022-01-14T20:17:31.711Z"
   },
   {
    "duration": 12,
    "start_time": "2022-01-14T20:17:33.267Z"
   },
   {
    "duration": 477,
    "start_time": "2022-01-14T20:17:33.282Z"
   },
   {
    "duration": 874,
    "start_time": "2022-01-14T20:17:33.762Z"
   },
   {
    "duration": 610,
    "start_time": "2022-01-14T20:17:51.233Z"
   },
   {
    "duration": 305,
    "start_time": "2022-01-14T20:18:52.625Z"
   },
   {
    "duration": 325,
    "start_time": "2022-01-14T20:19:59.353Z"
   },
   {
    "duration": 99,
    "start_time": "2022-01-14T20:20:13.562Z"
   },
   {
    "duration": 335,
    "start_time": "2022-01-14T20:20:18.435Z"
   },
   {
    "duration": 325,
    "start_time": "2022-01-14T20:21:09.558Z"
   },
   {
    "duration": 221,
    "start_time": "2022-01-14T20:22:49.581Z"
   },
   {
    "duration": 202,
    "start_time": "2022-01-14T20:23:56.213Z"
   },
   {
    "duration": 296,
    "start_time": "2022-01-14T20:26:11.818Z"
   },
   {
    "duration": 301,
    "start_time": "2022-01-14T20:26:41.714Z"
   },
   {
    "duration": 312,
    "start_time": "2022-01-14T20:27:46.170Z"
   },
   {
    "duration": 295,
    "start_time": "2022-01-14T20:30:45.897Z"
   },
   {
    "duration": 339,
    "start_time": "2022-01-14T20:32:42.950Z"
   },
   {
    "duration": 311,
    "start_time": "2022-01-14T20:33:21.876Z"
   },
   {
    "duration": 1241,
    "start_time": "2022-01-14T20:34:18.337Z"
   },
   {
    "duration": 1622,
    "start_time": "2022-01-14T20:42:40.756Z"
   },
   {
    "duration": 1638,
    "start_time": "2022-01-14T20:44:28.557Z"
   },
   {
    "duration": 1402,
    "start_time": "2022-01-14T20:45:21.662Z"
   },
   {
    "duration": 1717,
    "start_time": "2022-01-14T20:46:20.124Z"
   },
   {
    "duration": 1419,
    "start_time": "2022-01-14T20:46:43.153Z"
   },
   {
    "duration": 1632,
    "start_time": "2022-01-14T20:50:38.794Z"
   },
   {
    "duration": 1033,
    "start_time": "2022-01-15T11:27:16.868Z"
   },
   {
    "duration": 53,
    "start_time": "2022-01-15T11:27:17.902Z"
   },
   {
    "duration": 14,
    "start_time": "2022-01-15T11:27:17.957Z"
   },
   {
    "duration": 3,
    "start_time": "2022-01-15T11:27:17.973Z"
   },
   {
    "duration": 11,
    "start_time": "2022-01-15T11:27:17.978Z"
   },
   {
    "duration": 4,
    "start_time": "2022-01-15T11:27:17.998Z"
   },
   {
    "duration": 8,
    "start_time": "2022-01-15T11:27:18.004Z"
   },
   {
    "duration": 5,
    "start_time": "2022-01-15T11:27:18.014Z"
   },
   {
    "duration": 9,
    "start_time": "2022-01-15T11:27:18.021Z"
   },
   {
    "duration": 10,
    "start_time": "2022-01-15T11:27:18.032Z"
   },
   {
    "duration": 16,
    "start_time": "2022-01-15T11:27:18.044Z"
   },
   {
    "duration": 7,
    "start_time": "2022-01-15T11:27:18.061Z"
   },
   {
    "duration": 30,
    "start_time": "2022-01-15T11:27:18.070Z"
   },
   {
    "duration": 6,
    "start_time": "2022-01-15T11:27:18.102Z"
   },
   {
    "duration": 9,
    "start_time": "2022-01-15T11:27:18.110Z"
   },
   {
    "duration": 21,
    "start_time": "2022-01-15T11:27:18.121Z"
   },
   {
    "duration": 17,
    "start_time": "2022-01-15T11:27:18.144Z"
   },
   {
    "duration": 297,
    "start_time": "2022-01-15T11:27:18.163Z"
   },
   {
    "duration": 219,
    "start_time": "2022-01-15T11:27:18.462Z"
   },
   {
    "duration": 321,
    "start_time": "2022-01-15T11:27:18.683Z"
   },
   {
    "duration": 10,
    "start_time": "2022-01-15T11:27:19.005Z"
   },
   {
    "duration": 982,
    "start_time": "2022-01-15T11:27:19.017Z"
   },
   {
    "duration": 13,
    "start_time": "2022-01-15T11:27:20.002Z"
   },
   {
    "duration": 322,
    "start_time": "2022-01-15T11:27:20.017Z"
   },
   {
    "duration": 1406,
    "start_time": "2022-01-15T11:39:56.774Z"
   },
   {
    "duration": 50,
    "start_time": "2022-01-15T11:39:58.182Z"
   },
   {
    "duration": 14,
    "start_time": "2022-01-15T11:39:58.234Z"
   },
   {
    "duration": 3,
    "start_time": "2022-01-15T11:39:58.250Z"
   },
   {
    "duration": 6,
    "start_time": "2022-01-15T11:39:58.255Z"
   },
   {
    "duration": 5,
    "start_time": "2022-01-15T11:39:58.263Z"
   },
   {
    "duration": 5,
    "start_time": "2022-01-15T11:39:58.269Z"
   },
   {
    "duration": 24,
    "start_time": "2022-01-15T11:39:58.277Z"
   },
   {
    "duration": 8,
    "start_time": "2022-01-15T11:39:58.304Z"
   },
   {
    "duration": 12,
    "start_time": "2022-01-15T11:39:58.313Z"
   },
   {
    "duration": 15,
    "start_time": "2022-01-15T11:39:58.327Z"
   },
   {
    "duration": 7,
    "start_time": "2022-01-15T11:39:58.343Z"
   },
   {
    "duration": 6,
    "start_time": "2022-01-15T11:39:58.352Z"
   },
   {
    "duration": 6,
    "start_time": "2022-01-15T11:39:58.360Z"
   },
   {
    "duration": 34,
    "start_time": "2022-01-15T11:39:58.367Z"
   },
   {
    "duration": 21,
    "start_time": "2022-01-15T11:39:58.403Z"
   },
   {
    "duration": 15,
    "start_time": "2022-01-15T11:39:58.425Z"
   },
   {
    "duration": 286,
    "start_time": "2022-01-15T11:39:58.441Z"
   },
   {
    "duration": 221,
    "start_time": "2022-01-15T11:39:58.729Z"
   },
   {
    "duration": 323,
    "start_time": "2022-01-15T11:39:58.952Z"
   },
   {
    "duration": 9,
    "start_time": "2022-01-15T11:39:59.277Z"
   },
   {
    "duration": 659,
    "start_time": "2022-01-15T11:39:59.287Z"
   },
   {
    "duration": 8,
    "start_time": "2022-01-15T11:39:59.949Z"
   },
   {
    "duration": 322,
    "start_time": "2022-01-15T11:39:59.959Z"
   },
   {
    "duration": 81,
    "start_time": "2022-01-15T11:40:00.283Z"
   },
   {
    "duration": 365,
    "start_time": "2022-01-15T11:42:33.009Z"
   },
   {
    "duration": 355,
    "start_time": "2022-01-15T11:43:44.007Z"
   },
   {
    "duration": 229,
    "start_time": "2022-01-15T11:47:01.382Z"
   },
   {
    "duration": 211,
    "start_time": "2022-01-15T11:47:11.971Z"
   },
   {
    "duration": 216,
    "start_time": "2022-01-15T11:47:48.336Z"
   },
   {
    "duration": 232,
    "start_time": "2022-01-15T11:47:53.034Z"
   },
   {
    "duration": 318,
    "start_time": "2022-01-15T11:48:16.257Z"
   },
   {
    "duration": 214,
    "start_time": "2022-01-15T11:48:20.529Z"
   },
   {
    "duration": 10,
    "start_time": "2022-01-15T11:48:32.070Z"
   },
   {
    "duration": 194,
    "start_time": "2022-01-15T11:48:34.021Z"
   },
   {
    "duration": 373,
    "start_time": "2022-01-15T11:49:51.340Z"
   },
   {
    "duration": 1431,
    "start_time": "2022-01-15T16:00:20.489Z"
   },
   {
    "duration": 52,
    "start_time": "2022-01-15T16:00:21.922Z"
   },
   {
    "duration": 14,
    "start_time": "2022-01-15T16:00:21.976Z"
   },
   {
    "duration": 3,
    "start_time": "2022-01-15T16:00:21.992Z"
   },
   {
    "duration": 17,
    "start_time": "2022-01-15T16:00:21.997Z"
   },
   {
    "duration": 11,
    "start_time": "2022-01-15T16:00:22.016Z"
   },
   {
    "duration": 21,
    "start_time": "2022-01-15T16:00:22.029Z"
   },
   {
    "duration": 12,
    "start_time": "2022-01-15T16:00:22.053Z"
   },
   {
    "duration": 19,
    "start_time": "2022-01-15T16:00:22.067Z"
   },
   {
    "duration": 20,
    "start_time": "2022-01-15T16:00:22.087Z"
   },
   {
    "duration": 27,
    "start_time": "2022-01-15T16:00:22.108Z"
   },
   {
    "duration": 20,
    "start_time": "2022-01-15T16:00:22.137Z"
   },
   {
    "duration": 14,
    "start_time": "2022-01-15T16:00:22.158Z"
   },
   {
    "duration": 18,
    "start_time": "2022-01-15T16:00:22.174Z"
   },
   {
    "duration": 15,
    "start_time": "2022-01-15T16:00:22.193Z"
   },
   {
    "duration": 47,
    "start_time": "2022-01-15T16:00:22.210Z"
   },
   {
    "duration": 15,
    "start_time": "2022-01-15T16:00:22.259Z"
   },
   {
    "duration": 279,
    "start_time": "2022-01-15T16:00:22.276Z"
   },
   {
    "duration": 215,
    "start_time": "2022-01-15T16:00:22.557Z"
   },
   {
    "duration": 326,
    "start_time": "2022-01-15T16:00:22.774Z"
   },
   {
    "duration": 8,
    "start_time": "2022-01-15T16:00:23.102Z"
   },
   {
    "duration": 686,
    "start_time": "2022-01-15T16:00:23.112Z"
   },
   {
    "duration": 9,
    "start_time": "2022-01-15T16:00:23.802Z"
   },
   {
    "duration": 308,
    "start_time": "2022-01-15T16:00:23.812Z"
   },
   {
    "duration": 398,
    "start_time": "2022-01-15T16:00:24.122Z"
   },
   {
    "duration": 4,
    "start_time": "2022-01-15T16:02:29.294Z"
   },
   {
    "duration": 603,
    "start_time": "2022-01-15T16:06:01.927Z"
   },
   {
    "duration": 1207,
    "start_time": "2022-01-15T16:07:59.678Z"
   },
   {
    "duration": 1360,
    "start_time": "2022-01-15T16:08:49.175Z"
   },
   {
    "duration": 984,
    "start_time": "2022-01-15T16:09:00.770Z"
   },
   {
    "duration": 933,
    "start_time": "2022-01-15T16:10:53.545Z"
   },
   {
    "duration": 9,
    "start_time": "2022-01-15T16:12:41.898Z"
   },
   {
    "duration": 18,
    "start_time": "2022-01-15T16:22:55.868Z"
   },
   {
    "duration": 14,
    "start_time": "2022-01-15T16:23:13.140Z"
   },
   {
    "duration": 274,
    "start_time": "2022-01-15T16:33:07.260Z"
   },
   {
    "duration": 3464,
    "start_time": "2022-01-15T16:33:23.671Z"
   },
   {
    "duration": 263,
    "start_time": "2022-01-15T16:33:54.150Z"
   },
   {
    "duration": 72,
    "start_time": "2022-01-15T16:35:00.931Z"
   },
   {
    "duration": 98,
    "start_time": "2022-01-15T16:36:04.125Z"
   },
   {
    "duration": 280,
    "start_time": "2022-01-15T16:37:01.882Z"
   },
   {
    "duration": 6,
    "start_time": "2022-01-15T16:43:14.972Z"
   },
   {
    "duration": 264,
    "start_time": "2022-01-15T16:43:51.262Z"
   },
   {
    "duration": 287,
    "start_time": "2022-01-15T16:44:06.281Z"
   },
   {
    "duration": 6,
    "start_time": "2022-01-15T16:44:28.010Z"
   },
   {
    "duration": 291,
    "start_time": "2022-01-15T16:45:08.688Z"
   },
   {
    "duration": 7,
    "start_time": "2022-01-15T16:45:34.355Z"
   },
   {
    "duration": 6,
    "start_time": "2022-01-15T16:45:45.949Z"
   },
   {
    "duration": 122,
    "start_time": "2022-01-15T16:46:55.619Z"
   },
   {
    "duration": 132,
    "start_time": "2022-01-15T16:48:06.856Z"
   },
   {
    "duration": 127,
    "start_time": "2022-01-15T17:14:42.606Z"
   },
   {
    "duration": 120,
    "start_time": "2022-01-15T17:15:52.285Z"
   },
   {
    "duration": 5,
    "start_time": "2022-01-15T21:34:08.072Z"
   },
   {
    "duration": 5,
    "start_time": "2022-01-15T21:34:15.707Z"
   },
   {
    "duration": 6,
    "start_time": "2022-01-15T21:34:22.211Z"
   },
   {
    "duration": 73,
    "start_time": "2022-01-15T21:37:01.670Z"
   },
   {
    "duration": 112,
    "start_time": "2022-01-15T21:42:23.861Z"
   },
   {
    "duration": 458,
    "start_time": "2022-01-16T10:33:54.286Z"
   },
   {
    "duration": 1368,
    "start_time": "2022-01-16T10:33:59.682Z"
   },
   {
    "duration": 50,
    "start_time": "2022-01-16T10:34:01.052Z"
   },
   {
    "duration": 13,
    "start_time": "2022-01-16T10:34:01.104Z"
   },
   {
    "duration": 3,
    "start_time": "2022-01-16T10:34:01.119Z"
   },
   {
    "duration": 14,
    "start_time": "2022-01-16T10:34:01.124Z"
   },
   {
    "duration": 7,
    "start_time": "2022-01-16T10:34:01.140Z"
   },
   {
    "duration": 8,
    "start_time": "2022-01-16T10:34:01.148Z"
   },
   {
    "duration": 9,
    "start_time": "2022-01-16T10:34:01.158Z"
   },
   {
    "duration": 13,
    "start_time": "2022-01-16T10:34:01.168Z"
   },
   {
    "duration": 16,
    "start_time": "2022-01-16T10:34:01.182Z"
   },
   {
    "duration": 23,
    "start_time": "2022-01-16T10:34:01.200Z"
   },
   {
    "duration": 8,
    "start_time": "2022-01-16T10:34:01.224Z"
   },
   {
    "duration": 9,
    "start_time": "2022-01-16T10:34:01.234Z"
   },
   {
    "duration": 10,
    "start_time": "2022-01-16T10:34:01.244Z"
   },
   {
    "duration": 10,
    "start_time": "2022-01-16T10:34:01.255Z"
   },
   {
    "duration": 22,
    "start_time": "2022-01-16T10:34:01.266Z"
   },
   {
    "duration": 14,
    "start_time": "2022-01-16T10:34:01.289Z"
   },
   {
    "duration": 242,
    "start_time": "2022-01-16T10:34:01.305Z"
   },
   {
    "duration": 191,
    "start_time": "2022-01-16T10:34:01.549Z"
   },
   {
    "duration": 367,
    "start_time": "2022-01-16T10:34:01.742Z"
   },
   {
    "duration": 18,
    "start_time": "2022-01-16T10:34:02.111Z"
   },
   {
    "duration": 624,
    "start_time": "2022-01-16T10:34:02.130Z"
   },
   {
    "duration": 10,
    "start_time": "2022-01-16T10:34:02.757Z"
   },
   {
    "duration": 363,
    "start_time": "2022-01-16T10:34:02.769Z"
   },
   {
    "duration": 318,
    "start_time": "2022-01-16T10:34:03.134Z"
   },
   {
    "duration": 843,
    "start_time": "2022-01-16T10:34:03.454Z"
   },
   {
    "duration": 10,
    "start_time": "2022-01-16T10:34:04.299Z"
   },
   {
    "duration": 27,
    "start_time": "2022-01-16T10:34:04.311Z"
   },
   {
    "duration": 121,
    "start_time": "2022-01-16T10:34:04.339Z"
   },
   {
    "duration": 243,
    "start_time": "2022-01-16T10:34:04.461Z"
   },
   {
    "duration": 104,
    "start_time": "2022-01-16T10:34:04.705Z"
   },
   {
    "duration": 7,
    "start_time": "2022-01-16T12:07:57.443Z"
   },
   {
    "duration": 7,
    "start_time": "2022-01-16T12:08:14.946Z"
   },
   {
    "duration": 214,
    "start_time": "2022-01-16T12:11:07.280Z"
   },
   {
    "duration": 466,
    "start_time": "2022-01-16T12:11:29.255Z"
   },
   {
    "duration": 7,
    "start_time": "2022-01-16T12:12:08.645Z"
   },
   {
    "duration": 327,
    "start_time": "2022-01-16T12:12:23.991Z"
   },
   {
    "duration": 521,
    "start_time": "2022-01-16T12:14:00.109Z"
   },
   {
    "duration": 320,
    "start_time": "2022-01-16T12:15:18.287Z"
   },
   {
    "duration": 322,
    "start_time": "2022-01-16T12:15:37.232Z"
   },
   {
    "duration": 333,
    "start_time": "2022-01-16T12:16:59.628Z"
   },
   {
    "duration": 341,
    "start_time": "2022-01-16T12:18:30.668Z"
   },
   {
    "duration": 94,
    "start_time": "2022-01-16T12:21:35.391Z"
   },
   {
    "duration": 203,
    "start_time": "2022-01-16T12:24:12.748Z"
   },
   {
    "duration": 227,
    "start_time": "2022-01-16T12:30:23.490Z"
   },
   {
    "duration": 484,
    "start_time": "2022-01-16T12:32:38.091Z"
   },
   {
    "duration": 185,
    "start_time": "2022-01-16T12:32:56.185Z"
   },
   {
    "duration": 178,
    "start_time": "2022-01-16T12:34:51.450Z"
   },
   {
    "duration": 180,
    "start_time": "2022-01-16T12:34:57.184Z"
   },
   {
    "duration": 184,
    "start_time": "2022-01-16T12:35:04.109Z"
   },
   {
    "duration": 181,
    "start_time": "2022-01-16T12:35:26.722Z"
   },
   {
    "duration": 466,
    "start_time": "2022-01-16T12:37:01.770Z"
   },
   {
    "duration": 184,
    "start_time": "2022-01-16T12:37:29.886Z"
   },
   {
    "duration": 183,
    "start_time": "2022-01-16T12:37:58.149Z"
   },
   {
    "duration": 95,
    "start_time": "2022-01-16T12:41:39.717Z"
   },
   {
    "duration": 346,
    "start_time": "2022-01-16T12:44:41.565Z"
   },
   {
    "duration": 336,
    "start_time": "2022-01-16T12:44:46.773Z"
   },
   {
    "duration": 853,
    "start_time": "2022-01-16T12:45:05.446Z"
   },
   {
    "duration": 352,
    "start_time": "2022-01-16T12:45:14.241Z"
   },
   {
    "duration": 1293,
    "start_time": "2022-01-16T12:45:20.768Z"
   },
   {
    "duration": 344,
    "start_time": "2022-01-16T12:45:39.745Z"
   },
   {
    "duration": 344,
    "start_time": "2022-01-16T12:45:50.460Z"
   },
   {
    "duration": 342,
    "start_time": "2022-01-16T12:46:01.010Z"
   },
   {
    "duration": 355,
    "start_time": "2022-01-16T12:46:46.705Z"
   },
   {
    "duration": 546,
    "start_time": "2022-01-16T12:47:12.743Z"
   },
   {
    "duration": 347,
    "start_time": "2022-01-16T12:47:27.360Z"
   },
   {
    "duration": 108,
    "start_time": "2022-01-16T12:48:47.443Z"
   },
   {
    "duration": 113,
    "start_time": "2022-01-16T12:49:40.959Z"
   },
   {
    "duration": 120,
    "start_time": "2022-01-16T12:50:01.882Z"
   },
   {
    "duration": 100,
    "start_time": "2022-01-16T12:54:08.996Z"
   },
   {
    "duration": 477,
    "start_time": "2022-01-16T12:56:35.505Z"
   },
   {
    "duration": 500,
    "start_time": "2022-01-16T12:56:50.531Z"
   },
   {
    "duration": 360,
    "start_time": "2022-01-16T13:06:52.770Z"
   },
   {
    "duration": 774,
    "start_time": "2022-01-16T13:07:39.478Z"
   },
   {
    "duration": 425,
    "start_time": "2022-01-16T13:08:17.423Z"
   },
   {
    "duration": 1257,
    "start_time": "2022-01-16T13:10:06.256Z"
   },
   {
    "duration": 1427,
    "start_time": "2022-01-16T13:10:29.896Z"
   },
   {
    "duration": 434,
    "start_time": "2022-01-16T13:11:37.678Z"
   },
   {
    "duration": 1208,
    "start_time": "2022-01-16T13:14:10.150Z"
   },
   {
    "duration": 153,
    "start_time": "2022-01-16T13:15:02.270Z"
   },
   {
    "duration": 112,
    "start_time": "2022-01-16T13:15:27.441Z"
   },
   {
    "duration": 1058,
    "start_time": "2022-01-16T13:15:45.122Z"
   },
   {
    "duration": 1041,
    "start_time": "2022-01-16T13:16:47.210Z"
   },
   {
    "duration": 1052,
    "start_time": "2022-01-16T13:17:05.276Z"
   },
   {
    "duration": 1076,
    "start_time": "2022-01-16T13:17:16.624Z"
   },
   {
    "duration": 1201,
    "start_time": "2022-01-16T13:17:29.459Z"
   },
   {
    "duration": 1021,
    "start_time": "2022-01-16T13:17:59.860Z"
   },
   {
    "duration": 721,
    "start_time": "2022-01-16T13:18:35.670Z"
   },
   {
    "duration": 343,
    "start_time": "2022-01-16T13:20:13.012Z"
   },
   {
    "duration": 118,
    "start_time": "2022-01-16T13:21:01.823Z"
   },
   {
    "duration": 351,
    "start_time": "2022-01-16T13:23:04.166Z"
   },
   {
    "duration": 408,
    "start_time": "2022-01-16T13:25:58.955Z"
   },
   {
    "duration": 343,
    "start_time": "2022-01-16T13:27:06.029Z"
   },
   {
    "duration": 352,
    "start_time": "2022-01-16T13:27:18.966Z"
   },
   {
    "duration": 578,
    "start_time": "2022-01-16T13:28:52.202Z"
   },
   {
    "duration": 342,
    "start_time": "2022-01-16T13:30:42.206Z"
   },
   {
    "duration": 322,
    "start_time": "2022-01-16T13:52:16.861Z"
   },
   {
    "duration": 455,
    "start_time": "2022-01-16T13:52:49.432Z"
   },
   {
    "duration": 533,
    "start_time": "2022-01-16T13:53:00.896Z"
   },
   {
    "duration": 1081,
    "start_time": "2022-01-16T13:53:07.396Z"
   },
   {
    "duration": 415,
    "start_time": "2022-01-16T13:53:36.885Z"
   },
   {
    "duration": 447,
    "start_time": "2022-01-16T13:53:41.616Z"
   },
   {
    "duration": 595,
    "start_time": "2022-01-16T13:53:52.490Z"
   },
   {
    "duration": 546,
    "start_time": "2022-01-16T13:54:06.095Z"
   },
   {
    "duration": 538,
    "start_time": "2022-01-16T13:54:35.874Z"
   },
   {
    "duration": 547,
    "start_time": "2022-01-16T13:54:53.543Z"
   },
   {
    "duration": 640,
    "start_time": "2022-01-16T13:56:20.606Z"
   },
   {
    "duration": 153,
    "start_time": "2022-01-16T14:06:58.830Z"
   },
   {
    "duration": 5,
    "start_time": "2022-01-16T14:09:29.749Z"
   },
   {
    "duration": 334,
    "start_time": "2022-01-16T14:10:48.035Z"
   },
   {
    "duration": 4,
    "start_time": "2022-01-16T14:14:35.619Z"
   },
   {
    "duration": 118,
    "start_time": "2022-01-16T14:15:05.474Z"
   },
   {
    "duration": 334,
    "start_time": "2022-01-16T14:17:04.787Z"
   },
   {
    "duration": 1415,
    "start_time": "2022-01-16T14:18:57.722Z"
   },
   {
    "duration": 50,
    "start_time": "2022-01-16T14:18:59.138Z"
   },
   {
    "duration": 12,
    "start_time": "2022-01-16T14:18:59.190Z"
   },
   {
    "duration": 2,
    "start_time": "2022-01-16T14:18:59.204Z"
   },
   {
    "duration": 5,
    "start_time": "2022-01-16T14:18:59.208Z"
   },
   {
    "duration": 4,
    "start_time": "2022-01-16T14:18:59.215Z"
   },
   {
    "duration": 9,
    "start_time": "2022-01-16T14:18:59.220Z"
   },
   {
    "duration": 4,
    "start_time": "2022-01-16T14:18:59.231Z"
   },
   {
    "duration": 7,
    "start_time": "2022-01-16T14:18:59.237Z"
   },
   {
    "duration": 9,
    "start_time": "2022-01-16T14:18:59.245Z"
   },
   {
    "duration": 14,
    "start_time": "2022-01-16T14:18:59.255Z"
   },
   {
    "duration": 6,
    "start_time": "2022-01-16T14:18:59.271Z"
   },
   {
    "duration": 4,
    "start_time": "2022-01-16T14:18:59.279Z"
   },
   {
    "duration": 5,
    "start_time": "2022-01-16T14:18:59.284Z"
   },
   {
    "duration": 39,
    "start_time": "2022-01-16T14:18:59.290Z"
   },
   {
    "duration": 19,
    "start_time": "2022-01-16T14:18:59.331Z"
   },
   {
    "duration": 12,
    "start_time": "2022-01-16T14:18:59.351Z"
   },
   {
    "duration": 225,
    "start_time": "2022-01-16T14:18:59.365Z"
   },
   {
    "duration": 171,
    "start_time": "2022-01-16T14:18:59.592Z"
   },
   {
    "duration": 255,
    "start_time": "2022-01-16T14:18:59.765Z"
   },
   {
    "duration": 12,
    "start_time": "2022-01-16T14:19:00.021Z"
   },
   {
    "duration": 622,
    "start_time": "2022-01-16T14:19:00.035Z"
   },
   {
    "duration": 10,
    "start_time": "2022-01-16T14:19:00.661Z"
   },
   {
    "duration": 338,
    "start_time": "2022-01-16T14:19:00.673Z"
   },
   {
    "duration": 319,
    "start_time": "2022-01-16T14:19:01.013Z"
   },
   {
    "duration": 894,
    "start_time": "2022-01-16T14:19:01.333Z"
   },
   {
    "duration": 9,
    "start_time": "2022-01-16T14:19:02.228Z"
   },
   {
    "duration": 13,
    "start_time": "2022-01-16T14:19:02.239Z"
   },
   {
    "duration": 128,
    "start_time": "2022-01-16T14:19:02.253Z"
   },
   {
    "duration": 231,
    "start_time": "2022-01-16T14:19:02.382Z"
   },
   {
    "duration": 357,
    "start_time": "2022-01-16T14:19:02.615Z"
   },
   {
    "duration": 555,
    "start_time": "2022-01-16T14:19:02.974Z"
   },
   {
    "duration": 4,
    "start_time": "2022-01-16T14:19:03.531Z"
   },
   {
    "duration": 352,
    "start_time": "2022-01-16T14:19:03.537Z"
   },
   {
    "duration": 477,
    "start_time": "2022-01-16T14:53:04.836Z"
   },
   {
    "duration": 13,
    "start_time": "2022-01-16T14:54:54.369Z"
   },
   {
    "duration": 1374,
    "start_time": "2022-01-16T14:56:44.116Z"
   },
   {
    "duration": 47,
    "start_time": "2022-01-16T14:56:45.492Z"
   },
   {
    "duration": 15,
    "start_time": "2022-01-16T14:56:45.540Z"
   },
   {
    "duration": 2,
    "start_time": "2022-01-16T14:56:45.557Z"
   },
   {
    "duration": 6,
    "start_time": "2022-01-16T14:56:45.561Z"
   },
   {
    "duration": 4,
    "start_time": "2022-01-16T14:56:45.568Z"
   },
   {
    "duration": 6,
    "start_time": "2022-01-16T14:56:45.574Z"
   },
   {
    "duration": 4,
    "start_time": "2022-01-16T14:56:45.582Z"
   },
   {
    "duration": 6,
    "start_time": "2022-01-16T14:56:45.588Z"
   },
   {
    "duration": 35,
    "start_time": "2022-01-16T14:56:45.595Z"
   },
   {
    "duration": 18,
    "start_time": "2022-01-16T14:56:45.632Z"
   },
   {
    "duration": 18,
    "start_time": "2022-01-16T14:56:45.651Z"
   },
   {
    "duration": 14,
    "start_time": "2022-01-16T14:56:45.670Z"
   },
   {
    "duration": 18,
    "start_time": "2022-01-16T14:56:45.686Z"
   },
   {
    "duration": 17,
    "start_time": "2022-01-16T14:56:45.705Z"
   },
   {
    "duration": 18,
    "start_time": "2022-01-16T14:56:45.723Z"
   },
   {
    "duration": 12,
    "start_time": "2022-01-16T14:56:45.743Z"
   },
   {
    "duration": 221,
    "start_time": "2022-01-16T14:56:45.757Z"
   },
   {
    "duration": 165,
    "start_time": "2022-01-16T14:56:45.980Z"
   },
   {
    "duration": 261,
    "start_time": "2022-01-16T14:56:46.146Z"
   },
   {
    "duration": 8,
    "start_time": "2022-01-16T14:56:46.408Z"
   },
   {
    "duration": 596,
    "start_time": "2022-01-16T14:56:46.418Z"
   },
   {
    "duration": 7,
    "start_time": "2022-01-16T14:56:47.029Z"
   },
   {
    "duration": 260,
    "start_time": "2022-01-16T14:56:47.038Z"
   },
   {
    "duration": 321,
    "start_time": "2022-01-16T14:56:47.300Z"
   },
   {
    "duration": 900,
    "start_time": "2022-01-16T14:56:47.622Z"
   },
   {
    "duration": 9,
    "start_time": "2022-01-16T14:56:48.527Z"
   },
   {
    "duration": 13,
    "start_time": "2022-01-16T14:56:48.538Z"
   },
   {
    "duration": 128,
    "start_time": "2022-01-16T14:56:48.552Z"
   },
   {
    "duration": 233,
    "start_time": "2022-01-16T14:56:48.682Z"
   },
   {
    "duration": 374,
    "start_time": "2022-01-16T14:56:48.917Z"
   },
   {
    "duration": 584,
    "start_time": "2022-01-16T14:56:49.293Z"
   },
   {
    "duration": 6,
    "start_time": "2022-01-16T14:56:49.879Z"
   },
   {
    "duration": 350,
    "start_time": "2022-01-16T14:56:49.887Z"
   },
   {
    "duration": 10,
    "start_time": "2022-01-16T14:56:50.239Z"
   },
   {
    "duration": 11,
    "start_time": "2022-01-16T14:58:37.013Z"
   },
   {
    "duration": 13,
    "start_time": "2022-01-16T14:59:25.582Z"
   },
   {
    "duration": 10,
    "start_time": "2022-01-16T15:01:18.822Z"
   },
   {
    "duration": 10,
    "start_time": "2022-01-16T15:01:22.907Z"
   },
   {
    "duration": 10,
    "start_time": "2022-01-16T15:01:27.834Z"
   },
   {
    "duration": 10,
    "start_time": "2022-01-16T15:02:03.197Z"
   },
   {
    "duration": 8,
    "start_time": "2022-01-16T15:03:03.648Z"
   },
   {
    "duration": 5,
    "start_time": "2022-01-16T15:03:19.418Z"
   },
   {
    "duration": 7,
    "start_time": "2022-01-16T15:06:57.456Z"
   },
   {
    "duration": 1982,
    "start_time": "2022-01-16T15:08:57.047Z"
   },
   {
    "duration": 3,
    "start_time": "2022-01-16T15:09:03.046Z"
   },
   {
    "duration": 6,
    "start_time": "2022-01-16T15:11:53.718Z"
   },
   {
    "duration": 231,
    "start_time": "2022-01-16T15:16:20.401Z"
   },
   {
    "duration": 249,
    "start_time": "2022-01-16T15:16:33.862Z"
   },
   {
    "duration": 196,
    "start_time": "2022-01-16T15:16:39.816Z"
   },
   {
    "duration": 277,
    "start_time": "2022-01-16T15:19:15.632Z"
   },
   {
    "duration": 263,
    "start_time": "2022-01-16T15:19:41.488Z"
   },
   {
    "duration": 293,
    "start_time": "2022-01-16T15:19:52.421Z"
   },
   {
    "duration": 420,
    "start_time": "2022-01-16T15:34:31.981Z"
   },
   {
    "duration": 4,
    "start_time": "2022-01-16T15:38:54.890Z"
   },
   {
    "duration": 1401,
    "start_time": "2022-01-16T15:39:00.759Z"
   },
   {
    "duration": 51,
    "start_time": "2022-01-16T15:39:02.162Z"
   },
   {
    "duration": 14,
    "start_time": "2022-01-16T15:39:02.218Z"
   },
   {
    "duration": 3,
    "start_time": "2022-01-16T15:39:02.233Z"
   },
   {
    "duration": 13,
    "start_time": "2022-01-16T15:39:02.237Z"
   },
   {
    "duration": 4,
    "start_time": "2022-01-16T15:39:02.251Z"
   },
   {
    "duration": 4,
    "start_time": "2022-01-16T15:39:02.257Z"
   },
   {
    "duration": 5,
    "start_time": "2022-01-16T15:39:02.263Z"
   },
   {
    "duration": 23,
    "start_time": "2022-01-16T15:39:02.270Z"
   },
   {
    "duration": 16,
    "start_time": "2022-01-16T15:39:02.295Z"
   },
   {
    "duration": 19,
    "start_time": "2022-01-16T15:39:02.312Z"
   },
   {
    "duration": 7,
    "start_time": "2022-01-16T15:39:02.333Z"
   },
   {
    "duration": 5,
    "start_time": "2022-01-16T15:39:02.341Z"
   },
   {
    "duration": 7,
    "start_time": "2022-01-16T15:39:02.348Z"
   },
   {
    "duration": 7,
    "start_time": "2022-01-16T15:39:02.357Z"
   },
   {
    "duration": 18,
    "start_time": "2022-01-16T15:39:02.365Z"
   },
   {
    "duration": 12,
    "start_time": "2022-01-16T15:39:02.385Z"
   },
   {
    "duration": 243,
    "start_time": "2022-01-16T15:39:02.399Z"
   },
   {
    "duration": 168,
    "start_time": "2022-01-16T15:39:02.644Z"
   },
   {
    "duration": 269,
    "start_time": "2022-01-16T15:39:02.814Z"
   },
   {
    "duration": 8,
    "start_time": "2022-01-16T15:39:03.084Z"
   },
   {
    "duration": 635,
    "start_time": "2022-01-16T15:39:03.093Z"
   },
   {
    "duration": 8,
    "start_time": "2022-01-16T15:39:03.729Z"
   },
   {
    "duration": 282,
    "start_time": "2022-01-16T15:39:03.739Z"
   },
   {
    "duration": 324,
    "start_time": "2022-01-16T15:39:04.027Z"
   },
   {
    "duration": 935,
    "start_time": "2022-01-16T15:39:04.354Z"
   },
   {
    "duration": 8,
    "start_time": "2022-01-16T15:39:05.291Z"
   },
   {
    "duration": 27,
    "start_time": "2022-01-16T15:39:05.301Z"
   },
   {
    "duration": 227,
    "start_time": "2022-01-16T15:39:05.329Z"
   },
   {
    "duration": 108,
    "start_time": "2022-01-16T15:39:05.558Z"
   },
   {
    "duration": 368,
    "start_time": "2022-01-16T15:39:05.668Z"
   },
   {
    "duration": 554,
    "start_time": "2022-01-16T15:39:06.037Z"
   },
   {
    "duration": 4,
    "start_time": "2022-01-16T15:39:06.593Z"
   },
   {
    "duration": 357,
    "start_time": "2022-01-16T15:39:06.599Z"
   },
   {
    "duration": 5,
    "start_time": "2022-01-16T15:39:06.957Z"
   },
   {
    "duration": 5,
    "start_time": "2022-01-16T15:39:06.964Z"
   },
   {
    "duration": 302,
    "start_time": "2022-01-16T15:39:06.971Z"
   },
   {
    "duration": 5,
    "start_time": "2022-01-16T15:39:07.275Z"
   },
   {
    "duration": 6,
    "start_time": "2022-01-16T15:40:42.909Z"
   },
   {
    "duration": 625,
    "start_time": "2022-01-16T15:40:55.412Z"
   },
   {
    "duration": 7,
    "start_time": "2022-01-16T15:40:59.218Z"
   },
   {
    "duration": 6,
    "start_time": "2022-01-16T15:41:42.824Z"
   },
   {
    "duration": 273,
    "start_time": "2022-01-16T15:44:49.715Z"
   },
   {
    "duration": 254,
    "start_time": "2022-01-16T15:44:59.943Z"
   },
   {
    "duration": 251,
    "start_time": "2022-01-16T15:46:40.034Z"
   },
   {
    "duration": 245,
    "start_time": "2022-01-16T15:46:51.842Z"
   },
   {
    "duration": 281,
    "start_time": "2022-01-16T15:47:10.416Z"
   },
   {
    "duration": 5,
    "start_time": "2022-01-16T15:47:29.653Z"
   },
   {
    "duration": 5,
    "start_time": "2022-01-16T15:47:46.000Z"
   },
   {
    "duration": 168,
    "start_time": "2022-01-16T16:01:02.985Z"
   },
   {
    "duration": 2280,
    "start_time": "2022-01-19T13:21:30.274Z"
   },
   {
    "duration": 47,
    "start_time": "2022-01-19T13:21:32.556Z"
   },
   {
    "duration": 16,
    "start_time": "2022-01-19T13:21:32.605Z"
   },
   {
    "duration": 3,
    "start_time": "2022-01-19T13:21:32.623Z"
   },
   {
    "duration": 9,
    "start_time": "2022-01-19T13:21:32.627Z"
   },
   {
    "duration": 6,
    "start_time": "2022-01-19T13:21:32.638Z"
   },
   {
    "duration": 5,
    "start_time": "2022-01-19T13:21:32.645Z"
   },
   {
    "duration": 4,
    "start_time": "2022-01-19T13:21:32.653Z"
   },
   {
    "duration": 6,
    "start_time": "2022-01-19T13:21:32.659Z"
   },
   {
    "duration": 9,
    "start_time": "2022-01-19T13:21:32.666Z"
   },
   {
    "duration": 38,
    "start_time": "2022-01-19T13:21:32.677Z"
   },
   {
    "duration": 6,
    "start_time": "2022-01-19T13:21:32.717Z"
   },
   {
    "duration": 4,
    "start_time": "2022-01-19T13:21:32.724Z"
   },
   {
    "duration": 8,
    "start_time": "2022-01-19T13:21:32.729Z"
   },
   {
    "duration": 8,
    "start_time": "2022-01-19T13:21:32.738Z"
   },
   {
    "duration": 19,
    "start_time": "2022-01-19T13:21:32.747Z"
   },
   {
    "duration": 13,
    "start_time": "2022-01-19T13:21:32.767Z"
   },
   {
    "duration": 252,
    "start_time": "2022-01-19T13:21:32.781Z"
   },
   {
    "duration": 178,
    "start_time": "2022-01-19T13:21:33.035Z"
   },
   {
    "duration": 278,
    "start_time": "2022-01-19T13:21:33.215Z"
   },
   {
    "duration": 17,
    "start_time": "2022-01-19T13:21:33.495Z"
   },
   {
    "duration": 617,
    "start_time": "2022-01-19T13:21:33.514Z"
   },
   {
    "duration": 8,
    "start_time": "2022-01-19T13:21:34.135Z"
   },
   {
    "duration": 313,
    "start_time": "2022-01-19T13:21:34.145Z"
   },
   {
    "duration": 383,
    "start_time": "2022-01-19T13:21:34.459Z"
   },
   {
    "duration": 959,
    "start_time": "2022-01-19T13:21:34.844Z"
   },
   {
    "duration": 15,
    "start_time": "2022-01-19T13:21:35.805Z"
   },
   {
    "duration": 14,
    "start_time": "2022-01-19T13:21:35.821Z"
   },
   {
    "duration": 235,
    "start_time": "2022-01-19T13:21:35.836Z"
   },
   {
    "duration": 126,
    "start_time": "2022-01-19T13:21:36.073Z"
   },
   {
    "duration": 416,
    "start_time": "2022-01-19T13:21:36.201Z"
   },
   {
    "duration": 640,
    "start_time": "2022-01-19T13:21:36.619Z"
   },
   {
    "duration": 5,
    "start_time": "2022-01-19T13:21:37.260Z"
   },
   {
    "duration": 409,
    "start_time": "2022-01-19T13:21:37.266Z"
   },
   {
    "duration": 4,
    "start_time": "2022-01-19T13:21:37.678Z"
   },
   {
    "duration": 7,
    "start_time": "2022-01-19T13:21:37.684Z"
   },
   {
    "duration": 349,
    "start_time": "2022-01-19T13:21:37.692Z"
   },
   {
    "duration": 4,
    "start_time": "2022-01-19T13:21:38.043Z"
   },
   {
    "duration": 12,
    "start_time": "2022-01-19T13:21:38.049Z"
   },
   {
    "duration": 314,
    "start_time": "2022-01-19T13:21:38.063Z"
   },
   {
    "duration": 4,
    "start_time": "2022-01-19T13:21:38.379Z"
   },
   {
    "duration": 384,
    "start_time": "2022-01-19T14:12:52.520Z"
   },
   {
    "duration": 1789,
    "start_time": "2022-01-19T14:13:02.514Z"
   },
   {
    "duration": 71,
    "start_time": "2022-01-19T14:13:04.305Z"
   },
   {
    "duration": 22,
    "start_time": "2022-01-19T14:13:04.380Z"
   },
   {
    "duration": 5,
    "start_time": "2022-01-19T14:13:04.404Z"
   },
   {
    "duration": 13,
    "start_time": "2022-01-19T14:13:04.412Z"
   },
   {
    "duration": 37,
    "start_time": "2022-01-19T14:13:04.428Z"
   },
   {
    "duration": 8,
    "start_time": "2022-01-19T14:13:04.468Z"
   },
   {
    "duration": 17,
    "start_time": "2022-01-19T14:13:04.481Z"
   },
   {
    "duration": 11,
    "start_time": "2022-01-19T14:13:04.502Z"
   },
   {
    "duration": 16,
    "start_time": "2022-01-19T14:13:04.515Z"
   },
   {
    "duration": 48,
    "start_time": "2022-01-19T14:13:04.533Z"
   },
   {
    "duration": 10,
    "start_time": "2022-01-19T14:13:04.584Z"
   },
   {
    "duration": 6,
    "start_time": "2022-01-19T14:13:04.596Z"
   },
   {
    "duration": 8,
    "start_time": "2022-01-19T14:13:04.604Z"
   },
   {
    "duration": 13,
    "start_time": "2022-01-19T14:13:04.614Z"
   },
   {
    "duration": 36,
    "start_time": "2022-01-19T14:13:04.666Z"
   },
   {
    "duration": 29,
    "start_time": "2022-01-19T14:13:04.704Z"
   },
   {
    "duration": 428,
    "start_time": "2022-01-19T14:13:04.736Z"
   },
   {
    "duration": 459,
    "start_time": "2022-01-19T14:13:05.167Z"
   },
   {
    "duration": -66,
    "start_time": "2022-01-19T14:13:05.695Z"
   },
   {
    "duration": -72,
    "start_time": "2022-01-19T14:13:05.703Z"
   },
   {
    "duration": -77,
    "start_time": "2022-01-19T14:13:05.709Z"
   },
   {
    "duration": -81,
    "start_time": "2022-01-19T14:13:05.714Z"
   },
   {
    "duration": -93,
    "start_time": "2022-01-19T14:13:05.728Z"
   },
   {
    "duration": -97,
    "start_time": "2022-01-19T14:13:05.734Z"
   },
   {
    "duration": -103,
    "start_time": "2022-01-19T14:13:05.741Z"
   },
   {
    "duration": -106,
    "start_time": "2022-01-19T14:13:05.746Z"
   },
   {
    "duration": -110,
    "start_time": "2022-01-19T14:13:05.751Z"
   },
   {
    "duration": -113,
    "start_time": "2022-01-19T14:13:05.756Z"
   },
   {
    "duration": -116,
    "start_time": "2022-01-19T14:13:05.761Z"
   },
   {
    "duration": -119,
    "start_time": "2022-01-19T14:13:05.765Z"
   },
   {
    "duration": -121,
    "start_time": "2022-01-19T14:13:05.769Z"
   },
   {
    "duration": -123,
    "start_time": "2022-01-19T14:13:05.772Z"
   },
   {
    "duration": -125,
    "start_time": "2022-01-19T14:13:05.776Z"
   },
   {
    "duration": -126,
    "start_time": "2022-01-19T14:13:05.779Z"
   },
   {
    "duration": -129,
    "start_time": "2022-01-19T14:13:05.783Z"
   },
   {
    "duration": -130,
    "start_time": "2022-01-19T14:13:05.786Z"
   },
   {
    "duration": -133,
    "start_time": "2022-01-19T14:13:05.790Z"
   },
   {
    "duration": -134,
    "start_time": "2022-01-19T14:13:05.793Z"
   },
   {
    "duration": -137,
    "start_time": "2022-01-19T14:13:05.797Z"
   },
   {
    "duration": -139,
    "start_time": "2022-01-19T14:13:05.800Z"
   },
   {
    "duration": 316,
    "start_time": "2022-01-19T14:13:17.934Z"
   },
   {
    "duration": 312,
    "start_time": "2022-01-19T14:13:32.378Z"
   },
   {
    "duration": 315,
    "start_time": "2022-01-19T14:14:15.616Z"
   },
   {
    "duration": 312,
    "start_time": "2022-01-19T14:14:43.598Z"
   },
   {
    "duration": 331,
    "start_time": "2022-01-19T14:14:52.717Z"
   },
   {
    "duration": 317,
    "start_time": "2022-01-19T14:30:28.623Z"
   },
   {
    "duration": 585,
    "start_time": "2022-01-19T14:30:52.687Z"
   },
   {
    "duration": 401,
    "start_time": "2022-01-19T14:31:01.693Z"
   },
   {
    "duration": 1800,
    "start_time": "2022-01-19T20:03:38.314Z"
   },
   {
    "duration": 92,
    "start_time": "2022-01-19T20:03:40.117Z"
   },
   {
    "duration": 30,
    "start_time": "2022-01-19T20:03:40.213Z"
   },
   {
    "duration": 4,
    "start_time": "2022-01-19T20:03:40.265Z"
   },
   {
    "duration": 9,
    "start_time": "2022-01-19T20:03:40.272Z"
   },
   {
    "duration": 9,
    "start_time": "2022-01-19T20:03:40.284Z"
   },
   {
    "duration": 9,
    "start_time": "2022-01-19T20:03:40.296Z"
   },
   {
    "duration": 10,
    "start_time": "2022-01-19T20:03:40.310Z"
   },
   {
    "duration": 58,
    "start_time": "2022-01-19T20:03:40.324Z"
   },
   {
    "duration": 22,
    "start_time": "2022-01-19T20:03:40.385Z"
   },
   {
    "duration": 29,
    "start_time": "2022-01-19T20:03:40.410Z"
   },
   {
    "duration": 28,
    "start_time": "2022-01-19T20:03:40.442Z"
   },
   {
    "duration": 7,
    "start_time": "2022-01-19T20:03:40.472Z"
   },
   {
    "duration": 7,
    "start_time": "2022-01-19T20:03:40.481Z"
   },
   {
    "duration": 13,
    "start_time": "2022-01-19T20:03:40.491Z"
   },
   {
    "duration": 80,
    "start_time": "2022-01-19T20:03:40.507Z"
   },
   {
    "duration": 22,
    "start_time": "2022-01-19T20:03:40.589Z"
   },
   {
    "duration": 413,
    "start_time": "2022-01-19T20:03:40.614Z"
   },
   {
    "duration": 329,
    "start_time": "2022-01-19T20:03:41.029Z"
   },
   {
    "duration": 477,
    "start_time": "2022-01-19T20:03:41.365Z"
   },
   {
    "duration": 24,
    "start_time": "2022-01-19T20:03:41.845Z"
   },
   {
    "duration": 911,
    "start_time": "2022-01-19T20:03:41.871Z"
   },
   {
    "duration": 12,
    "start_time": "2022-01-19T20:03:42.786Z"
   },
   {
    "duration": 467,
    "start_time": "2022-01-19T20:03:42.800Z"
   },
   {
    "duration": 664,
    "start_time": "2022-01-19T20:03:43.270Z"
   },
   {
    "duration": 1424,
    "start_time": "2022-01-19T20:03:43.936Z"
   },
   {
    "duration": 13,
    "start_time": "2022-01-19T20:03:45.365Z"
   },
   {
    "duration": 19,
    "start_time": "2022-01-19T20:03:45.381Z"
   },
   {
    "duration": 217,
    "start_time": "2022-01-19T20:03:45.402Z"
   },
   {
    "duration": 352,
    "start_time": "2022-01-19T20:03:45.622Z"
   },
   {
    "duration": 615,
    "start_time": "2022-01-19T20:03:45.978Z"
   },
   {
    "duration": 983,
    "start_time": "2022-01-19T20:03:46.596Z"
   },
   {
    "duration": 6,
    "start_time": "2022-01-19T20:03:47.582Z"
   },
   {
    "duration": 635,
    "start_time": "2022-01-19T20:03:47.590Z"
   },
   {
    "duration": 7,
    "start_time": "2022-01-19T20:03:48.228Z"
   },
   {
    "duration": 27,
    "start_time": "2022-01-19T20:03:48.237Z"
   },
   {
    "duration": 521,
    "start_time": "2022-01-19T20:03:48.267Z"
   },
   {
    "duration": 8,
    "start_time": "2022-01-19T20:03:48.792Z"
   },
   {
    "duration": 11,
    "start_time": "2022-01-19T20:03:48.802Z"
   },
   {
    "duration": 489,
    "start_time": "2022-01-19T20:03:48.816Z"
   },
   {
    "duration": 8,
    "start_time": "2022-01-19T20:03:49.308Z"
   },
   {
    "duration": 367,
    "start_time": "2022-01-19T20:09:53.479Z"
   },
   {
    "duration": 403,
    "start_time": "2022-01-19T20:10:25.622Z"
   },
   {
    "duration": 390,
    "start_time": "2022-01-19T20:10:53.492Z"
   },
   {
    "duration": 804,
    "start_time": "2022-01-19T20:20:00.283Z"
   },
   {
    "duration": 12,
    "start_time": "2022-01-19T20:20:23.831Z"
   },
   {
    "duration": 1669,
    "start_time": "2022-01-19T20:20:54.081Z"
   },
   {
    "duration": 15,
    "start_time": "2022-01-19T20:21:00.039Z"
   },
   {
    "duration": 19,
    "start_time": "2022-01-19T20:21:13.634Z"
   },
   {
    "duration": 192,
    "start_time": "2022-01-19T20:21:52.157Z"
   },
   {
    "duration": 255,
    "start_time": "2022-01-19T20:22:00.577Z"
   },
   {
    "duration": 201,
    "start_time": "2022-01-19T20:22:14.254Z"
   },
   {
    "duration": 1961,
    "start_time": "2022-01-19T20:26:09.842Z"
   },
   {
    "duration": 66,
    "start_time": "2022-01-19T20:26:11.806Z"
   },
   {
    "duration": 22,
    "start_time": "2022-01-19T20:26:11.876Z"
   },
   {
    "duration": 4,
    "start_time": "2022-01-19T20:26:11.901Z"
   },
   {
    "duration": 9,
    "start_time": "2022-01-19T20:26:11.907Z"
   },
   {
    "duration": 45,
    "start_time": "2022-01-19T20:26:11.919Z"
   },
   {
    "duration": 8,
    "start_time": "2022-01-19T20:26:11.968Z"
   },
   {
    "duration": 6,
    "start_time": "2022-01-19T20:26:11.981Z"
   },
   {
    "duration": 10,
    "start_time": "2022-01-19T20:26:11.991Z"
   },
   {
    "duration": 14,
    "start_time": "2022-01-19T20:26:12.004Z"
   },
   {
    "duration": 22,
    "start_time": "2022-01-19T20:26:12.066Z"
   },
   {
    "duration": 11,
    "start_time": "2022-01-19T20:26:12.091Z"
   },
   {
    "duration": 6,
    "start_time": "2022-01-19T20:26:12.104Z"
   },
   {
    "duration": 7,
    "start_time": "2022-01-19T20:26:12.113Z"
   },
   {
    "duration": 51,
    "start_time": "2022-01-19T20:26:12.123Z"
   },
   {
    "duration": 33,
    "start_time": "2022-01-19T20:26:12.177Z"
   },
   {
    "duration": 51,
    "start_time": "2022-01-19T20:26:12.213Z"
   },
   {
    "duration": 412,
    "start_time": "2022-01-19T20:26:12.267Z"
   },
   {
    "duration": 367,
    "start_time": "2022-01-19T20:26:12.682Z"
   },
   {
    "duration": 489,
    "start_time": "2022-01-19T20:26:13.052Z"
   },
   {
    "duration": 24,
    "start_time": "2022-01-19T20:26:13.543Z"
   },
   {
    "duration": 924,
    "start_time": "2022-01-19T20:26:13.570Z"
   },
   {
    "duration": 767,
    "start_time": "2022-01-19T20:26:14.499Z"
   },
   {
    "duration": -1038,
    "start_time": "2022-01-19T20:26:16.309Z"
   },
   {
    "duration": -1042,
    "start_time": "2022-01-19T20:26:16.316Z"
   },
   {
    "duration": -1045,
    "start_time": "2022-01-19T20:26:16.321Z"
   },
   {
    "duration": -1046,
    "start_time": "2022-01-19T20:26:16.325Z"
   },
   {
    "duration": -1052,
    "start_time": "2022-01-19T20:26:16.333Z"
   },
   {
    "duration": -1056,
    "start_time": "2022-01-19T20:26:16.339Z"
   },
   {
    "duration": -1058,
    "start_time": "2022-01-19T20:26:16.343Z"
   },
   {
    "duration": -1061,
    "start_time": "2022-01-19T20:26:16.349Z"
   },
   {
    "duration": -1064,
    "start_time": "2022-01-19T20:26:16.354Z"
   },
   {
    "duration": -1065,
    "start_time": "2022-01-19T20:26:16.358Z"
   },
   {
    "duration": -1069,
    "start_time": "2022-01-19T20:26:16.364Z"
   },
   {
    "duration": -1071,
    "start_time": "2022-01-19T20:26:16.368Z"
   },
   {
    "duration": -1072,
    "start_time": "2022-01-19T20:26:16.372Z"
   },
   {
    "duration": -1075,
    "start_time": "2022-01-19T20:26:16.377Z"
   },
   {
    "duration": -1090,
    "start_time": "2022-01-19T20:26:16.394Z"
   },
   {
    "duration": -1093,
    "start_time": "2022-01-19T20:26:16.400Z"
   },
   {
    "duration": -1094,
    "start_time": "2022-01-19T20:26:16.404Z"
   },
   {
    "duration": -1045,
    "start_time": "2022-01-19T20:26:16.409Z"
   },
   {
    "duration": 2751,
    "start_time": "2022-01-19T20:26:45.677Z"
   },
   {
    "duration": 72,
    "start_time": "2022-01-19T20:26:48.431Z"
   },
   {
    "duration": 24,
    "start_time": "2022-01-19T20:26:48.507Z"
   },
   {
    "duration": 5,
    "start_time": "2022-01-19T20:26:48.534Z"
   },
   {
    "duration": 8,
    "start_time": "2022-01-19T20:26:48.566Z"
   },
   {
    "duration": 8,
    "start_time": "2022-01-19T20:26:48.579Z"
   },
   {
    "duration": 12,
    "start_time": "2022-01-19T20:26:48.589Z"
   },
   {
    "duration": 6,
    "start_time": "2022-01-19T20:26:48.606Z"
   },
   {
    "duration": 54,
    "start_time": "2022-01-19T20:26:48.616Z"
   },
   {
    "duration": 19,
    "start_time": "2022-01-19T20:26:48.672Z"
   },
   {
    "duration": 24,
    "start_time": "2022-01-19T20:26:48.693Z"
   },
   {
    "duration": 12,
    "start_time": "2022-01-19T20:26:48.720Z"
   },
   {
    "duration": 36,
    "start_time": "2022-01-19T20:26:48.735Z"
   },
   {
    "duration": 9,
    "start_time": "2022-01-19T20:26:48.773Z"
   },
   {
    "duration": 13,
    "start_time": "2022-01-19T20:26:48.784Z"
   },
   {
    "duration": 66,
    "start_time": "2022-01-19T20:26:48.799Z"
   },
   {
    "duration": 23,
    "start_time": "2022-01-19T20:26:48.868Z"
   },
   {
    "duration": 504,
    "start_time": "2022-01-19T20:26:48.893Z"
   },
   {
    "duration": 369,
    "start_time": "2022-01-19T20:26:49.400Z"
   },
   {
    "duration": 501,
    "start_time": "2022-01-19T20:26:49.773Z"
   },
   {
    "duration": 12,
    "start_time": "2022-01-19T20:26:50.277Z"
   },
   {
    "duration": 1002,
    "start_time": "2022-01-19T20:26:50.292Z"
   },
   {
    "duration": 12,
    "start_time": "2022-01-19T20:26:51.299Z"
   },
   {
    "duration": 1251,
    "start_time": "2022-01-19T20:26:51.314Z"
   },
   {
    "duration": -804,
    "start_time": "2022-01-19T20:26:53.372Z"
   },
   {
    "duration": -807,
    "start_time": "2022-01-19T20:26:53.378Z"
   },
   {
    "duration": -811,
    "start_time": "2022-01-19T20:26:53.384Z"
   },
   {
    "duration": -814,
    "start_time": "2022-01-19T20:26:53.388Z"
   },
   {
    "duration": -818,
    "start_time": "2022-01-19T20:26:53.394Z"
   },
   {
    "duration": -821,
    "start_time": "2022-01-19T20:26:53.399Z"
   },
   {
    "duration": -824,
    "start_time": "2022-01-19T20:26:53.404Z"
   },
   {
    "duration": -829,
    "start_time": "2022-01-19T20:26:53.410Z"
   },
   {
    "duration": -832,
    "start_time": "2022-01-19T20:26:53.415Z"
   },
   {
    "duration": -833,
    "start_time": "2022-01-19T20:26:53.419Z"
   },
   {
    "duration": -838,
    "start_time": "2022-01-19T20:26:53.425Z"
   },
   {
    "duration": -841,
    "start_time": "2022-01-19T20:26:53.430Z"
   },
   {
    "duration": -845,
    "start_time": "2022-01-19T20:26:53.436Z"
   },
   {
    "duration": -848,
    "start_time": "2022-01-19T20:26:53.441Z"
   },
   {
    "duration": -849,
    "start_time": "2022-01-19T20:26:53.445Z"
   },
   {
    "duration": -850,
    "start_time": "2022-01-19T20:26:53.448Z"
   },
   {
    "duration": -852,
    "start_time": "2022-01-19T20:26:53.452Z"
   },
   {
    "duration": 410,
    "start_time": "2022-01-19T20:27:23.696Z"
   },
   {
    "duration": 551,
    "start_time": "2022-01-19T20:28:44.203Z"
   },
   {
    "duration": 1512,
    "start_time": "2022-01-19T20:32:18.738Z"
   },
   {
    "duration": 15,
    "start_time": "2022-01-19T20:32:22.454Z"
   },
   {
    "duration": 23,
    "start_time": "2022-01-19T20:32:27.005Z"
   },
   {
    "duration": 183,
    "start_time": "2022-01-19T20:32:36.102Z"
   },
   {
    "duration": 510,
    "start_time": "2022-01-19T20:34:37.418Z"
   },
   {
    "duration": 599,
    "start_time": "2022-01-19T20:38:08.427Z"
   },
   {
    "duration": 1034,
    "start_time": "2022-01-19T20:42:43.224Z"
   },
   {
    "duration": 282,
    "start_time": "2022-01-19T20:45:28.872Z"
   },
   {
    "duration": 4,
    "start_time": "2022-01-19T20:45:32.263Z"
   },
   {
    "duration": 632,
    "start_time": "2022-01-19T20:45:34.820Z"
   },
   {
    "duration": 609,
    "start_time": "2022-01-19T20:50:51.790Z"
   },
   {
    "duration": 1799,
    "start_time": "2022-01-19T21:10:51.692Z"
   },
   {
    "duration": 70,
    "start_time": "2022-01-19T21:10:53.493Z"
   },
   {
    "duration": 20,
    "start_time": "2022-01-19T21:10:53.566Z"
   },
   {
    "duration": 4,
    "start_time": "2022-01-19T21:10:53.589Z"
   },
   {
    "duration": 9,
    "start_time": "2022-01-19T21:10:53.595Z"
   },
   {
    "duration": 6,
    "start_time": "2022-01-19T21:10:53.607Z"
   },
   {
    "duration": 7,
    "start_time": "2022-01-19T21:10:53.615Z"
   },
   {
    "duration": 42,
    "start_time": "2022-01-19T21:10:53.626Z"
   },
   {
    "duration": 11,
    "start_time": "2022-01-19T21:10:53.671Z"
   },
   {
    "duration": 15,
    "start_time": "2022-01-19T21:10:53.685Z"
   },
   {
    "duration": 23,
    "start_time": "2022-01-19T21:10:53.702Z"
   },
   {
    "duration": 39,
    "start_time": "2022-01-19T21:10:53.727Z"
   },
   {
    "duration": 5,
    "start_time": "2022-01-19T21:10:53.769Z"
   },
   {
    "duration": 7,
    "start_time": "2022-01-19T21:10:53.777Z"
   },
   {
    "duration": 11,
    "start_time": "2022-01-19T21:10:53.786Z"
   },
   {
    "duration": 65,
    "start_time": "2022-01-19T21:10:53.800Z"
   },
   {
    "duration": 23,
    "start_time": "2022-01-19T21:10:53.868Z"
   },
   {
    "duration": 432,
    "start_time": "2022-01-19T21:10:53.894Z"
   },
   {
    "duration": 322,
    "start_time": "2022-01-19T21:10:54.329Z"
   },
   {
    "duration": 460,
    "start_time": "2022-01-19T21:10:54.653Z"
   },
   {
    "duration": 13,
    "start_time": "2022-01-19T21:10:55.115Z"
   },
   {
    "duration": 1035,
    "start_time": "2022-01-19T21:10:55.131Z"
   },
   {
    "duration": 12,
    "start_time": "2022-01-19T21:10:56.170Z"
   },
   {
    "duration": 443,
    "start_time": "2022-01-19T21:10:56.184Z"
   },
   {
    "duration": 564,
    "start_time": "2022-01-19T21:10:56.630Z"
   },
   {
    "duration": 1342,
    "start_time": "2022-01-19T21:10:57.197Z"
   },
   {
    "duration": 24,
    "start_time": "2022-01-19T21:10:58.541Z"
   },
   {
    "duration": 19,
    "start_time": "2022-01-19T21:10:58.567Z"
   },
   {
    "duration": 204,
    "start_time": "2022-01-19T21:10:58.588Z"
   },
   {
    "duration": 353,
    "start_time": "2022-01-19T21:10:58.794Z"
   },
   {
    "duration": 600,
    "start_time": "2022-01-19T21:10:59.150Z"
   },
   {
    "duration": 1020,
    "start_time": "2022-01-19T21:10:59.753Z"
   },
   {
    "duration": 612,
    "start_time": "2022-01-19T21:11:00.775Z"
   },
   {
    "duration": 8,
    "start_time": "2022-01-19T21:11:01.389Z"
   },
   {
    "duration": 17,
    "start_time": "2022-01-19T21:11:01.400Z"
   },
   {
    "duration": 525,
    "start_time": "2022-01-19T21:11:01.420Z"
   },
   {
    "duration": 16,
    "start_time": "2022-01-19T21:11:01.948Z"
   },
   {
    "duration": 21,
    "start_time": "2022-01-19T21:11:01.967Z"
   },
   {
    "duration": 482,
    "start_time": "2022-01-19T21:11:01.990Z"
   },
   {
    "duration": 8,
    "start_time": "2022-01-19T21:11:02.474Z"
   },
   {
    "duration": 1363,
    "start_time": "2022-01-27T12:22:10.072Z"
   },
   {
    "duration": 47,
    "start_time": "2022-01-27T12:22:11.436Z"
   },
   {
    "duration": 12,
    "start_time": "2022-01-27T12:22:11.485Z"
   },
   {
    "duration": 13,
    "start_time": "2022-01-27T12:22:11.498Z"
   },
   {
    "duration": 7,
    "start_time": "2022-01-27T12:22:11.512Z"
   },
   {
    "duration": 7,
    "start_time": "2022-01-27T12:22:11.521Z"
   },
   {
    "duration": 12,
    "start_time": "2022-01-27T12:22:11.529Z"
   },
   {
    "duration": 4,
    "start_time": "2022-01-27T12:22:11.543Z"
   },
   {
    "duration": 7,
    "start_time": "2022-01-27T12:22:11.549Z"
   },
   {
    "duration": 18,
    "start_time": "2022-01-27T12:22:11.557Z"
   },
   {
    "duration": 16,
    "start_time": "2022-01-27T12:22:11.577Z"
   },
   {
    "duration": 7,
    "start_time": "2022-01-27T12:22:11.595Z"
   },
   {
    "duration": 5,
    "start_time": "2022-01-27T12:22:11.604Z"
   },
   {
    "duration": 8,
    "start_time": "2022-01-27T12:22:11.611Z"
   },
   {
    "duration": 12,
    "start_time": "2022-01-27T12:22:11.620Z"
   },
   {
    "duration": 42,
    "start_time": "2022-01-27T12:22:11.633Z"
   },
   {
    "duration": 14,
    "start_time": "2022-01-27T12:22:11.677Z"
   },
   {
    "duration": 238,
    "start_time": "2022-01-27T12:22:11.692Z"
   },
   {
    "duration": 189,
    "start_time": "2022-01-27T12:22:11.932Z"
   },
   {
    "duration": 262,
    "start_time": "2022-01-27T12:22:12.123Z"
   },
   {
    "duration": 8,
    "start_time": "2022-01-27T12:22:12.386Z"
   },
   {
    "duration": 617,
    "start_time": "2022-01-27T12:22:12.395Z"
   },
   {
    "duration": 7,
    "start_time": "2022-01-27T12:22:13.015Z"
   },
   {
    "duration": 340,
    "start_time": "2022-01-27T12:22:13.024Z"
   },
   {
    "duration": 317,
    "start_time": "2022-01-27T12:22:13.371Z"
   },
   {
    "duration": 783,
    "start_time": "2022-01-27T12:22:13.690Z"
   },
   {
    "duration": 9,
    "start_time": "2022-01-27T12:22:14.475Z"
   },
   {
    "duration": 11,
    "start_time": "2022-01-27T12:22:14.485Z"
   },
   {
    "duration": 150,
    "start_time": "2022-01-27T12:22:14.498Z"
   },
   {
    "duration": 254,
    "start_time": "2022-01-27T12:22:14.650Z"
   },
   {
    "duration": 345,
    "start_time": "2022-01-27T12:22:14.906Z"
   },
   {
    "duration": 596,
    "start_time": "2022-01-27T12:22:15.253Z"
   },
   {
    "duration": 359,
    "start_time": "2022-01-27T12:22:15.850Z"
   },
   {
    "duration": 4,
    "start_time": "2022-01-27T12:22:16.211Z"
   },
   {
    "duration": 6,
    "start_time": "2022-01-27T12:22:16.216Z"
   },
   {
    "duration": 285,
    "start_time": "2022-01-27T12:22:16.223Z"
   },
   {
    "duration": 4,
    "start_time": "2022-01-27T12:22:16.510Z"
   },
   {
    "duration": 11,
    "start_time": "2022-01-27T12:22:16.515Z"
   },
   {
    "duration": 277,
    "start_time": "2022-01-27T12:22:16.527Z"
   },
   {
    "duration": 5,
    "start_time": "2022-01-27T12:22:16.806Z"
   },
   {
    "duration": 1280,
    "start_time": "2022-01-29T09:22:48.385Z"
   },
   {
    "duration": 45,
    "start_time": "2022-01-29T09:22:49.667Z"
   },
   {
    "duration": 13,
    "start_time": "2022-01-29T09:22:49.714Z"
   },
   {
    "duration": 3,
    "start_time": "2022-01-29T09:22:49.729Z"
   },
   {
    "duration": 6,
    "start_time": "2022-01-29T09:22:49.733Z"
   },
   {
    "duration": 4,
    "start_time": "2022-01-29T09:22:49.740Z"
   },
   {
    "duration": 5,
    "start_time": "2022-01-29T09:22:49.746Z"
   },
   {
    "duration": 4,
    "start_time": "2022-01-29T09:22:49.753Z"
   },
   {
    "duration": 6,
    "start_time": "2022-01-29T09:22:49.759Z"
   },
   {
    "duration": 45,
    "start_time": "2022-01-29T09:22:49.767Z"
   },
   {
    "duration": 14,
    "start_time": "2022-01-29T09:22:49.814Z"
   },
   {
    "duration": 6,
    "start_time": "2022-01-29T09:22:49.830Z"
   },
   {
    "duration": 4,
    "start_time": "2022-01-29T09:22:49.838Z"
   },
   {
    "duration": 5,
    "start_time": "2022-01-29T09:22:49.844Z"
   },
   {
    "duration": 8,
    "start_time": "2022-01-29T09:22:49.850Z"
   },
   {
    "duration": 20,
    "start_time": "2022-01-29T09:22:49.859Z"
   },
   {
    "duration": 15,
    "start_time": "2022-01-29T09:22:49.912Z"
   },
   {
    "duration": 279,
    "start_time": "2022-01-29T09:22:49.928Z"
   },
   {
    "duration": 202,
    "start_time": "2022-01-29T09:22:50.212Z"
   },
   {
    "duration": 298,
    "start_time": "2022-01-29T09:22:50.415Z"
   },
   {
    "duration": 8,
    "start_time": "2022-01-29T09:22:50.715Z"
   },
   {
    "duration": 636,
    "start_time": "2022-01-29T09:22:50.725Z"
   },
   {
    "duration": 8,
    "start_time": "2022-01-29T09:22:51.365Z"
   },
   {
    "duration": 310,
    "start_time": "2022-01-29T09:22:51.375Z"
   },
   {
    "duration": 366,
    "start_time": "2022-01-29T09:22:51.687Z"
   },
   {
    "duration": 875,
    "start_time": "2022-01-29T09:22:52.055Z"
   },
   {
    "duration": 9,
    "start_time": "2022-01-29T09:22:52.932Z"
   },
   {
    "duration": 12,
    "start_time": "2022-01-29T09:22:52.942Z"
   },
   {
    "duration": 137,
    "start_time": "2022-01-29T09:22:52.956Z"
   },
   {
    "duration": 246,
    "start_time": "2022-01-29T09:22:53.094Z"
   },
   {
    "duration": 387,
    "start_time": "2022-01-29T09:22:53.341Z"
   },
   {
    "duration": 623,
    "start_time": "2022-01-29T09:22:53.729Z"
   },
   {
    "duration": 398,
    "start_time": "2022-01-29T09:22:54.354Z"
   },
   {
    "duration": 5,
    "start_time": "2022-01-29T09:22:54.754Z"
   },
   {
    "duration": 8,
    "start_time": "2022-01-29T09:22:54.760Z"
   },
   {
    "duration": 336,
    "start_time": "2022-01-29T09:22:54.769Z"
   },
   {
    "duration": 8,
    "start_time": "2022-01-29T09:22:55.107Z"
   },
   {
    "duration": 10,
    "start_time": "2022-01-29T09:22:55.117Z"
   },
   {
    "duration": 313,
    "start_time": "2022-01-29T09:22:55.128Z"
   },
   {
    "duration": 5,
    "start_time": "2022-01-29T09:22:55.443Z"
   },
   {
    "duration": 1186,
    "start_time": "2022-09-13T16:08:41.995Z"
   },
   {
    "duration": 110,
    "start_time": "2022-09-13T16:08:43.183Z"
   },
   {
    "duration": 18,
    "start_time": "2022-09-13T16:08:43.294Z"
   },
   {
    "duration": 3,
    "start_time": "2022-09-13T16:08:43.315Z"
   },
   {
    "duration": 6,
    "start_time": "2022-09-13T16:08:43.320Z"
   },
   {
    "duration": 5,
    "start_time": "2022-09-13T16:08:43.336Z"
   },
   {
    "duration": 8,
    "start_time": "2022-09-13T16:08:43.342Z"
   },
   {
    "duration": 11,
    "start_time": "2022-09-13T16:08:43.351Z"
   },
   {
    "duration": 10,
    "start_time": "2022-09-13T16:08:43.363Z"
   },
   {
    "duration": 20,
    "start_time": "2022-09-13T16:08:43.376Z"
   },
   {
    "duration": 19,
    "start_time": "2022-09-13T16:08:43.398Z"
   },
   {
    "duration": 9,
    "start_time": "2022-09-13T16:08:43.421Z"
   },
   {
    "duration": 8,
    "start_time": "2022-09-13T16:08:43.431Z"
   },
   {
    "duration": 16,
    "start_time": "2022-09-13T16:08:43.441Z"
   },
   {
    "duration": 10,
    "start_time": "2022-09-13T16:08:43.459Z"
   },
   {
    "duration": 23,
    "start_time": "2022-09-13T16:08:43.471Z"
   },
   {
    "duration": 15,
    "start_time": "2022-09-13T16:08:43.495Z"
   },
   {
    "duration": 199,
    "start_time": "2022-09-13T16:08:43.512Z"
   },
   {
    "duration": 152,
    "start_time": "2022-09-13T16:08:43.713Z"
   },
   {
    "duration": 241,
    "start_time": "2022-09-13T16:08:43.867Z"
   },
   {
    "duration": 9,
    "start_time": "2022-09-13T16:08:44.110Z"
   },
   {
    "duration": 168,
    "start_time": "2022-09-13T16:08:44.121Z"
   },
   {
    "duration": 8,
    "start_time": "2022-09-13T16:08:44.290Z"
   },
   {
    "duration": 64,
    "start_time": "2022-09-13T16:08:44.300Z"
   },
   {
    "duration": 282,
    "start_time": "2022-09-13T16:08:44.366Z"
   },
   {
    "duration": 595,
    "start_time": "2022-09-13T16:08:44.650Z"
   },
   {
    "duration": 9,
    "start_time": "2022-09-13T16:08:45.247Z"
   },
   {
    "duration": 33,
    "start_time": "2022-09-13T16:08:45.259Z"
   },
   {
    "duration": 145,
    "start_time": "2022-09-13T16:08:45.294Z"
   },
   {
    "duration": 148,
    "start_time": "2022-09-13T16:08:45.441Z"
   },
   {
    "duration": 476,
    "start_time": "2022-09-13T16:08:45.591Z"
   },
   {
    "duration": 398,
    "start_time": "2022-09-13T16:08:46.069Z"
   },
   {
    "duration": 254,
    "start_time": "2022-09-13T16:08:46.469Z"
   },
   {
    "duration": 12,
    "start_time": "2022-09-13T16:08:46.725Z"
   },
   {
    "duration": 9,
    "start_time": "2022-09-13T16:08:46.739Z"
   },
   {
    "duration": 335,
    "start_time": "2022-09-13T16:08:46.749Z"
   },
   {
    "duration": 5,
    "start_time": "2022-09-13T16:08:47.085Z"
   },
   {
    "duration": 12,
    "start_time": "2022-09-13T16:08:47.092Z"
   },
   {
    "duration": 276,
    "start_time": "2022-09-13T16:08:47.106Z"
   },
   {
    "duration": 5,
    "start_time": "2022-09-13T16:08:47.384Z"
   }
  ],
  "kernelspec": {
   "display_name": "Python 3 (ipykernel)",
   "language": "python",
   "name": "python3"
  },
  "language_info": {
   "codemirror_mode": {
    "name": "ipython",
    "version": 3
   },
   "file_extension": ".py",
   "mimetype": "text/x-python",
   "name": "python",
   "nbconvert_exporter": "python",
   "pygments_lexer": "ipython3",
   "version": "3.9.12"
  },
  "toc": {
   "base_numbering": 1,
   "nav_menu": {},
   "number_sections": true,
   "sideBar": true,
   "skip_h1_title": true,
   "title_cell": "Table of Contents",
   "title_sidebar": "Contents",
   "toc_cell": false,
   "toc_position": {},
   "toc_section_display": true,
   "toc_window_display": false
  }
 },
 "nbformat": 4,
 "nbformat_minor": 2
}
