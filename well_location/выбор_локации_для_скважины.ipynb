{
 "cells": [
  {
   "cell_type": "markdown",
   "metadata": {},
   "source": [
    "# Выбор локации для скважины"
   ]
  },
  {
   "cell_type": "markdown",
   "metadata": {},
   "source": [
    "Допустим, вы работаете в добывающей компании «ГлавРосГосНефть». Нужно решить, где бурить новую скважину.\n",
    "\n",
    "Вам предоставлены пробы нефти в трёх регионах: в каждом 10 000 месторождений, где измерили качество нефти и объём её запасов. Постройте модель машинного обучения, которая поможет определить регион, где добыча принесёт наибольшую прибыль. Проанализируйте возможную прибыль и риски техникой *Bootstrap.*\n",
    "\n",
    "Шаги для выбора локации:\n",
    "\n",
    "- В избранном регионе ищут месторождения, для каждого определяют значения признаков;\n",
    "- Строят модель и оценивают объём запасов;\n",
    "- Выбирают месторождения с самым высокими оценками значений. Количество месторождений зависит от бюджета компании и стоимости разработки одной скважины;\n",
    "- Прибыль равна суммарной прибыли отобранных месторождений."
   ]
  },
  {
   "cell_type": "markdown",
   "metadata": {},
   "source": [
    "## Загрузка и подготовка данных"
   ]
  },
  {
   "cell_type": "markdown",
   "metadata": {},
   "source": [
    "Импортируем необходимые для выполнения проекта библиотеки и функции:"
   ]
  },
  {
   "cell_type": "code",
   "execution_count": 1,
   "metadata": {},
   "outputs": [],
   "source": [
    "import pandas as pd\n",
    "import numpy as np\n",
    "import scipy.stats as st\n",
    "\n",
    "from sklearn.preprocessing import StandardScaler \n",
    "from sklearn.linear_model import LinearRegression\n",
    "from sklearn.model_selection import train_test_split\n",
    "from sklearn.metrics import mean_squared_error"
   ]
  },
  {
   "cell_type": "markdown",
   "metadata": {},
   "source": [
    "Загрузим датасеты:"
   ]
  },
  {
   "cell_type": "code",
   "execution_count": 2,
   "metadata": {},
   "outputs": [],
   "source": [
    "df1 = pd.read_csv('/datasets/geo_data_0.csv')\n",
    "df2 = pd.read_csv('/datasets/geo_data_1.csv')\n",
    "df3 = pd.read_csv('/datasets/geo_data_2.csv')"
   ]
  },
  {
   "cell_type": "markdown",
   "metadata": {},
   "source": [
    "Теперь последовательно изучим каждый из них. Создадим функцию, которая выдаст нам необходимую информацию о каждом датасете:"
   ]
  },
  {
   "cell_type": "code",
   "execution_count": 3,
   "metadata": {},
   "outputs": [],
   "source": [
    "def explanations(df):\n",
    "    display(df.head())\n",
    "    df.info()\n",
    "    print('Всего пропусков:', df.isna().sum().sum())\n",
    "    print('Всего дубликатов:', df.duplicated().sum())\n",
    "    print('Максимальные значения признаков:')\n",
    "    print(df[[\"f0\",\"f1\",\"f2\"]].max())\n",
    "    print('Минимальные значения признаков:')\n",
    "    print(df[[\"f0\",\"f1\",\"f2\"]].min())"
   ]
  },
  {
   "cell_type": "code",
   "execution_count": 4,
   "metadata": {},
   "outputs": [
    {
     "data": {
      "text/html": [
       "<div>\n",
       "<style scoped>\n",
       "    .dataframe tbody tr th:only-of-type {\n",
       "        vertical-align: middle;\n",
       "    }\n",
       "\n",
       "    .dataframe tbody tr th {\n",
       "        vertical-align: top;\n",
       "    }\n",
       "\n",
       "    .dataframe thead th {\n",
       "        text-align: right;\n",
       "    }\n",
       "</style>\n",
       "<table border=\"1\" class=\"dataframe\">\n",
       "  <thead>\n",
       "    <tr style=\"text-align: right;\">\n",
       "      <th></th>\n",
       "      <th>id</th>\n",
       "      <th>f0</th>\n",
       "      <th>f1</th>\n",
       "      <th>f2</th>\n",
       "      <th>product</th>\n",
       "    </tr>\n",
       "  </thead>\n",
       "  <tbody>\n",
       "    <tr>\n",
       "      <td>0</td>\n",
       "      <td>txEyH</td>\n",
       "      <td>0.705745</td>\n",
       "      <td>-0.497823</td>\n",
       "      <td>1.221170</td>\n",
       "      <td>105.280062</td>\n",
       "    </tr>\n",
       "    <tr>\n",
       "      <td>1</td>\n",
       "      <td>2acmU</td>\n",
       "      <td>1.334711</td>\n",
       "      <td>-0.340164</td>\n",
       "      <td>4.365080</td>\n",
       "      <td>73.037750</td>\n",
       "    </tr>\n",
       "    <tr>\n",
       "      <td>2</td>\n",
       "      <td>409Wp</td>\n",
       "      <td>1.022732</td>\n",
       "      <td>0.151990</td>\n",
       "      <td>1.419926</td>\n",
       "      <td>85.265647</td>\n",
       "    </tr>\n",
       "    <tr>\n",
       "      <td>3</td>\n",
       "      <td>iJLyR</td>\n",
       "      <td>-0.032172</td>\n",
       "      <td>0.139033</td>\n",
       "      <td>2.978566</td>\n",
       "      <td>168.620776</td>\n",
       "    </tr>\n",
       "    <tr>\n",
       "      <td>4</td>\n",
       "      <td>Xdl7t</td>\n",
       "      <td>1.988431</td>\n",
       "      <td>0.155413</td>\n",
       "      <td>4.751769</td>\n",
       "      <td>154.036647</td>\n",
       "    </tr>\n",
       "  </tbody>\n",
       "</table>\n",
       "</div>"
      ],
      "text/plain": [
       "      id        f0        f1        f2     product\n",
       "0  txEyH  0.705745 -0.497823  1.221170  105.280062\n",
       "1  2acmU  1.334711 -0.340164  4.365080   73.037750\n",
       "2  409Wp  1.022732  0.151990  1.419926   85.265647\n",
       "3  iJLyR -0.032172  0.139033  2.978566  168.620776\n",
       "4  Xdl7t  1.988431  0.155413  4.751769  154.036647"
      ]
     },
     "metadata": {},
     "output_type": "display_data"
    },
    {
     "name": "stdout",
     "output_type": "stream",
     "text": [
      "<class 'pandas.core.frame.DataFrame'>\n",
      "RangeIndex: 100000 entries, 0 to 99999\n",
      "Data columns (total 5 columns):\n",
      "id         100000 non-null object\n",
      "f0         100000 non-null float64\n",
      "f1         100000 non-null float64\n",
      "f2         100000 non-null float64\n",
      "product    100000 non-null float64\n",
      "dtypes: float64(4), object(1)\n",
      "memory usage: 3.8+ MB\n",
      "Всего пропусков: 0\n",
      "Всего дубликатов: 0\n",
      "Максимальные значения признаков:\n",
      "f0     2.362331\n",
      "f1     1.343769\n",
      "f2    16.003790\n",
      "dtype: float64\n",
      "Минимальные значения признаков:\n",
      "f0    -1.408605\n",
      "f1    -0.848218\n",
      "f2   -12.088328\n",
      "dtype: float64\n"
     ]
    }
   ],
   "source": [
    "explanations(df1)"
   ]
  },
  {
   "cell_type": "code",
   "execution_count": 5,
   "metadata": {},
   "outputs": [
    {
     "data": {
      "text/html": [
       "<div>\n",
       "<style scoped>\n",
       "    .dataframe tbody tr th:only-of-type {\n",
       "        vertical-align: middle;\n",
       "    }\n",
       "\n",
       "    .dataframe tbody tr th {\n",
       "        vertical-align: top;\n",
       "    }\n",
       "\n",
       "    .dataframe thead th {\n",
       "        text-align: right;\n",
       "    }\n",
       "</style>\n",
       "<table border=\"1\" class=\"dataframe\">\n",
       "  <thead>\n",
       "    <tr style=\"text-align: right;\">\n",
       "      <th></th>\n",
       "      <th>id</th>\n",
       "      <th>f0</th>\n",
       "      <th>f1</th>\n",
       "      <th>f2</th>\n",
       "      <th>product</th>\n",
       "    </tr>\n",
       "  </thead>\n",
       "  <tbody>\n",
       "    <tr>\n",
       "      <td>0</td>\n",
       "      <td>kBEdx</td>\n",
       "      <td>-15.001348</td>\n",
       "      <td>-8.276000</td>\n",
       "      <td>-0.005876</td>\n",
       "      <td>3.179103</td>\n",
       "    </tr>\n",
       "    <tr>\n",
       "      <td>1</td>\n",
       "      <td>62mP7</td>\n",
       "      <td>14.272088</td>\n",
       "      <td>-3.475083</td>\n",
       "      <td>0.999183</td>\n",
       "      <td>26.953261</td>\n",
       "    </tr>\n",
       "    <tr>\n",
       "      <td>2</td>\n",
       "      <td>vyE1P</td>\n",
       "      <td>6.263187</td>\n",
       "      <td>-5.948386</td>\n",
       "      <td>5.001160</td>\n",
       "      <td>134.766305</td>\n",
       "    </tr>\n",
       "    <tr>\n",
       "      <td>3</td>\n",
       "      <td>KcrkZ</td>\n",
       "      <td>-13.081196</td>\n",
       "      <td>-11.506057</td>\n",
       "      <td>4.999415</td>\n",
       "      <td>137.945408</td>\n",
       "    </tr>\n",
       "    <tr>\n",
       "      <td>4</td>\n",
       "      <td>AHL4O</td>\n",
       "      <td>12.702195</td>\n",
       "      <td>-8.147433</td>\n",
       "      <td>5.004363</td>\n",
       "      <td>134.766305</td>\n",
       "    </tr>\n",
       "  </tbody>\n",
       "</table>\n",
       "</div>"
      ],
      "text/plain": [
       "      id         f0         f1        f2     product\n",
       "0  kBEdx -15.001348  -8.276000 -0.005876    3.179103\n",
       "1  62mP7  14.272088  -3.475083  0.999183   26.953261\n",
       "2  vyE1P   6.263187  -5.948386  5.001160  134.766305\n",
       "3  KcrkZ -13.081196 -11.506057  4.999415  137.945408\n",
       "4  AHL4O  12.702195  -8.147433  5.004363  134.766305"
      ]
     },
     "metadata": {},
     "output_type": "display_data"
    },
    {
     "name": "stdout",
     "output_type": "stream",
     "text": [
      "<class 'pandas.core.frame.DataFrame'>\n",
      "RangeIndex: 100000 entries, 0 to 99999\n",
      "Data columns (total 5 columns):\n",
      "id         100000 non-null object\n",
      "f0         100000 non-null float64\n",
      "f1         100000 non-null float64\n",
      "f2         100000 non-null float64\n",
      "product    100000 non-null float64\n",
      "dtypes: float64(4), object(1)\n",
      "memory usage: 3.8+ MB\n",
      "Всего пропусков: 0\n",
      "Всего дубликатов: 0\n",
      "Максимальные значения признаков:\n",
      "f0    29.421755\n",
      "f1    18.734063\n",
      "f2     5.019721\n",
      "dtype: float64\n",
      "Минимальные значения признаков:\n",
      "f0   -31.609576\n",
      "f1   -26.358598\n",
      "f2    -0.018144\n",
      "dtype: float64\n"
     ]
    }
   ],
   "source": [
    "explanations(df2)"
   ]
  },
  {
   "cell_type": "code",
   "execution_count": 6,
   "metadata": {},
   "outputs": [
    {
     "data": {
      "text/html": [
       "<div>\n",
       "<style scoped>\n",
       "    .dataframe tbody tr th:only-of-type {\n",
       "        vertical-align: middle;\n",
       "    }\n",
       "\n",
       "    .dataframe tbody tr th {\n",
       "        vertical-align: top;\n",
       "    }\n",
       "\n",
       "    .dataframe thead th {\n",
       "        text-align: right;\n",
       "    }\n",
       "</style>\n",
       "<table border=\"1\" class=\"dataframe\">\n",
       "  <thead>\n",
       "    <tr style=\"text-align: right;\">\n",
       "      <th></th>\n",
       "      <th>id</th>\n",
       "      <th>f0</th>\n",
       "      <th>f1</th>\n",
       "      <th>f2</th>\n",
       "      <th>product</th>\n",
       "    </tr>\n",
       "  </thead>\n",
       "  <tbody>\n",
       "    <tr>\n",
       "      <td>0</td>\n",
       "      <td>fwXo0</td>\n",
       "      <td>-1.146987</td>\n",
       "      <td>0.963328</td>\n",
       "      <td>-0.828965</td>\n",
       "      <td>27.758673</td>\n",
       "    </tr>\n",
       "    <tr>\n",
       "      <td>1</td>\n",
       "      <td>WJtFt</td>\n",
       "      <td>0.262778</td>\n",
       "      <td>0.269839</td>\n",
       "      <td>-2.530187</td>\n",
       "      <td>56.069697</td>\n",
       "    </tr>\n",
       "    <tr>\n",
       "      <td>2</td>\n",
       "      <td>ovLUW</td>\n",
       "      <td>0.194587</td>\n",
       "      <td>0.289035</td>\n",
       "      <td>-5.586433</td>\n",
       "      <td>62.871910</td>\n",
       "    </tr>\n",
       "    <tr>\n",
       "      <td>3</td>\n",
       "      <td>q6cA6</td>\n",
       "      <td>2.236060</td>\n",
       "      <td>-0.553760</td>\n",
       "      <td>0.930038</td>\n",
       "      <td>114.572842</td>\n",
       "    </tr>\n",
       "    <tr>\n",
       "      <td>4</td>\n",
       "      <td>WPMUX</td>\n",
       "      <td>-0.515993</td>\n",
       "      <td>1.716266</td>\n",
       "      <td>5.899011</td>\n",
       "      <td>149.600746</td>\n",
       "    </tr>\n",
       "  </tbody>\n",
       "</table>\n",
       "</div>"
      ],
      "text/plain": [
       "      id        f0        f1        f2     product\n",
       "0  fwXo0 -1.146987  0.963328 -0.828965   27.758673\n",
       "1  WJtFt  0.262778  0.269839 -2.530187   56.069697\n",
       "2  ovLUW  0.194587  0.289035 -5.586433   62.871910\n",
       "3  q6cA6  2.236060 -0.553760  0.930038  114.572842\n",
       "4  WPMUX -0.515993  1.716266  5.899011  149.600746"
      ]
     },
     "metadata": {},
     "output_type": "display_data"
    },
    {
     "name": "stdout",
     "output_type": "stream",
     "text": [
      "<class 'pandas.core.frame.DataFrame'>\n",
      "RangeIndex: 100000 entries, 0 to 99999\n",
      "Data columns (total 5 columns):\n",
      "id         100000 non-null object\n",
      "f0         100000 non-null float64\n",
      "f1         100000 non-null float64\n",
      "f2         100000 non-null float64\n",
      "product    100000 non-null float64\n",
      "dtypes: float64(4), object(1)\n",
      "memory usage: 3.8+ MB\n",
      "Всего пропусков: 0\n",
      "Всего дубликатов: 0\n",
      "Максимальные значения признаков:\n",
      "f0     7.238262\n",
      "f1     7.844801\n",
      "f2    16.739402\n",
      "dtype: float64\n",
      "Минимальные значения признаков:\n",
      "f0    -8.760004\n",
      "f1    -7.084020\n",
      "f2   -11.970335\n",
      "dtype: float64\n"
     ]
    }
   ],
   "source": [
    "explanations(df3)"
   ]
  },
  {
   "cell_type": "markdown",
   "metadata": {},
   "source": [
    "**ВЫВОД**\n",
    "\n",
    "В процессе подготовки данных были загружены 3 датасета с данными геологоразведки трёх регионов. Пропусков и дубликатов нет. Типы данных в каждом столбце - корректны.\n",
    "\n",
    "Значения и их разбросы в столбцах признаков отличаются - притом для каждого датасета они тоже разные. Чтобы алгоритм считал все признаки одинаково важными, необходимо будет произвести масштабирование для каждого датасета. Объединять их не будем, а продолжим работу с тремя отдельными таблицами."
   ]
  },
  {
   "cell_type": "markdown",
   "metadata": {},
   "source": [
    "## Обучение и проверка модели"
   ]
  },
  {
   "cell_type": "markdown",
   "metadata": {},
   "source": [
    "Для обучения и проверки модели необходимо произвести следующие операции:\n",
    "\n",
    "* Разбить данные на обучающую и валидационную выборку в соотношении 75:25.\n",
    "* Обучить модель и сделать предсказания на валидационной выборке.\n",
    "* Сохранить предсказания и правильные ответы на валидационной выборке.\n",
    "* Напечатать на экране средний запас предсказанного сырья и RMSE модели.\n",
    "\n",
    "Далее необходимо будет проанализировать результаты.\n",
    "Зададим функцию:"
   ]
  },
  {
   "cell_type": "code",
   "execution_count": 7,
   "metadata": {},
   "outputs": [],
   "source": [
    "def everything_you_want(df):\n",
    "    features = df.drop([\"product\",\"id\"], axis=1) #уберем целевой признак и id каждой скважины\n",
    "    target = df[\"product\"]\n",
    "    features_train, features_valid, target_train, target_valid = train_test_split(features, target, test_size=0.25, random_state=12345)\n",
    "    \n",
    "    scaler = StandardScaler() #произведем масштабирование признаков\n",
    "    features_train = scaler.fit_transform(features_train)\n",
    "    features_valid = scaler.transform(features_valid)\n",
    "    \n",
    "    model_regression = LinearRegression()\n",
    "    model_regression.fit(features_train, target_train)\n",
    "    predictions_valid = model_regression.predict(features_valid)\n",
    "    predictions_valid = pd.Series(predictions_valid)\n",
    "    average_stock = sum(predictions_valid)/len(predictions_valid)\n",
    "    rmse = (mean_squared_error(predictions_valid, target_valid))**(0.5)\n",
    "    \n",
    "    print(f'RMSE модели: {rmse:.4f}')\n",
    "    print(f'Средний запас предсказанного сырья: {average_stock:.4f}')\n",
    "    return (predictions_valid, target_valid.reset_index(drop=True), rmse, average_stock)"
   ]
  },
  {
   "cell_type": "code",
   "execution_count": 8,
   "metadata": {},
   "outputs": [
    {
     "name": "stdout",
     "output_type": "stream",
     "text": [
      "Регион 1:\n",
      "RMSE модели: 37.5794\n",
      "Средний запас предсказанного сырья: 92.5926\n",
      "\n",
      "Регион 2:\n",
      "RMSE модели: 0.8931\n",
      "Средний запас предсказанного сырья: 68.7285\n",
      "\n",
      "Регион 3:\n",
      "RMSE модели: 40.0297\n",
      "Средний запас предсказанного сырья: 94.9650\n",
      "\n"
     ]
    }
   ],
   "source": [
    "k=1\n",
    "for i in [df1, df2, df3]:\n",
    "    print(f'Регион {k}:')\n",
    "    everything_you_want(i)\n",
    "    k +=1\n",
    "    print()"
   ]
  },
  {
   "cell_type": "markdown",
   "metadata": {},
   "source": [
    "Теперь сохраним значения для каждого региона:"
   ]
  },
  {
   "cell_type": "code",
   "execution_count": 9,
   "metadata": {},
   "outputs": [
    {
     "name": "stdout",
     "output_type": "stream",
     "text": [
      "RMSE модели: 37.5794\n",
      "Средний запас предсказанного сырья: 92.5926\n",
      "RMSE модели: 0.8931\n",
      "Средний запас предсказанного сырья: 68.7285\n",
      "RMSE модели: 40.0297\n",
      "Средний запас предсказанного сырья: 94.9650\n"
     ]
    }
   ],
   "source": [
    "predictions_valid_1, target_valid_1, rmse_1, average_stock_1 = everything_you_want(df1)\n",
    "predictions_valid_2, target_valid_2, rmse_2, average_stock_2 = everything_you_want(df2)\n",
    "predictions_valid_3, target_valid_3, rmse_3, average_stock_3 = everything_you_want(df3)"
   ]
  },
  {
   "cell_type": "markdown",
   "metadata": {},
   "source": [
    "**ВЫВОД**\n",
    "\n",
    "Наименьший корень среднеквадратической ошибки у модели, предсказывающей поведение второго региона. Притом у данного региона наименьший средний запас предсказанного сырья. У первого и третьего регионов ситуация обратная: большой средний запас предсказываемого сырья, но и RMSE значительно больше. Нам необходимо рассчитать достаточный объем сырья для безубыточной работы, чтобы понять, какой из регионов подходит лучше."
   ]
  },
  {
   "cell_type": "markdown",
   "metadata": {},
   "source": [
    "## Подготовка к расчёту прибыли"
   ]
  },
  {
   "cell_type": "markdown",
   "metadata": {},
   "source": [
    "Бюджет на разработку скважин в регионе равен 10 млрд рублей. Доход с каждой единицы продукта составляет 450 тыс. рублей, поскольку объём указан в тысячах баррелей. Необходимо определить, сколько тысяч баррелей нужно продать, чтобы разница между общим доходом и бюджетом была нулевой. Зная это, найдем точку безубыточности:"
   ]
  },
  {
   "cell_type": "code",
   "execution_count": 10,
   "metadata": {},
   "outputs": [
    {
     "name": "stdout",
     "output_type": "stream",
     "text": [
      "Для безубыточной работы необходимо продать 22223.0 тысяч баррелей\n"
     ]
    }
   ],
   "source": [
    "budget = 10**10\n",
    "income_per_thousand = 450*10**3\n",
    "n = np.ceil(budget/income_per_thousand) #округлим в сторону большего целого\n",
    "print(f'Для безубыточной работы необходимо продать {n:.1f} тысяч баррелей')"
   ]
  },
  {
   "cell_type": "markdown",
   "metadata": {},
   "source": [
    "При разведке региона исследуют 500 точек, из которых с помощью машинного обучения выбирают 200 лучших для разработки. Таким образом, необходимо, сколько в среднем тысяч баррелей должно быть на каждой точке, чтобы достичь точку безубыточности:"
   ]
  },
  {
   "cell_type": "code",
   "execution_count": 11,
   "metadata": {},
   "outputs": [
    {
     "name": "stdout",
     "output_type": "stream",
     "text": [
      "112.0\n"
     ]
    }
   ],
   "source": [
    "average_raw = np.ceil(n/200) #округлим в сторону большего целого\n",
    "print(average_raw)"
   ]
  },
  {
   "cell_type": "markdown",
   "metadata": {},
   "source": [
    "**ВЫВОД**\n",
    "\n",
    "Средний запас предсказанного сырья для всех трех регионов меньше необходимого для безубыточной работы. Если мы просто поставим скважины - дело прогорит. Необходимо тщательно выбрать точки для скважин."
   ]
  },
  {
   "cell_type": "markdown",
   "metadata": {},
   "source": [
    "## Расчёт прибыли и рисков "
   ]
  },
  {
   "cell_type": "markdown",
   "metadata": {},
   "source": [
    "Напишем функцию для расчёта прибыли по выбранным скважинам и предсказаниям модели:"
   ]
  },
  {
   "cell_type": "code",
   "execution_count": 12,
   "metadata": {},
   "outputs": [],
   "source": [
    "def profit(predictions, target):\n",
    "    best_predictions = predictions.sort_values(ascending=False) #разместили предсказания в порядке убывания\n",
    "    best_target = target[best_predictions.index][:200] #выбрали целевые значения, соответствующие 200 лучших предсказаний\n",
    "    revenue = best_target.sum() * income_per_thousand #суммарная выручка\n",
    "    income = revenue - budget #прибыль\n",
    "    return income"
   ]
  },
  {
   "cell_type": "markdown",
   "metadata": {},
   "source": [
    "Перейдем к расчету рисков и прибыли каждого региона. Для определения распеделения прибыли, доверительного интервала и риска убытков применим технику Bootstrap с 1000 выборок:"
   ]
  },
  {
   "cell_type": "code",
   "execution_count": 13,
   "metadata": {},
   "outputs": [],
   "source": [
    "def profit_and_risk(predictions, target):\n",
    "    state = np.random.RandomState(12345)\n",
    "    values = []\n",
    "    for j in range(1000):\n",
    "        target_subsample = target.sample(n=500, replace=True, random_state=state)\n",
    "        predictions_subsample = predictions[target_subsample.index]\n",
    "        values.append(profit(predictions_subsample, target_subsample))\n",
    "    \n",
    "    values = pd.Series(values)\n",
    "    lower = values.quantile(0.025)\n",
    "    upper = values.quantile(0.975)\n",
    "    mean_rev = values.mean()\n",
    "    risk = st.percentileofscore(values, 0)\n",
    "        \n",
    "    return ((int(lower), int(upper)), mean_rev, risk)"
   ]
  },
  {
   "cell_type": "code",
   "execution_count": 14,
   "metadata": {},
   "outputs": [
    {
     "name": "stdout",
     "output_type": "stream",
     "text": [
      "Регион 1:\n",
      "95%-й доверительный интервал: (-102090094, 947976353)\n",
      "Средняя прибыль: 425938527\n",
      "Риск: 6.0\n",
      "\n",
      "Регион 2:\n",
      "95%-й доверительный интервал: (68873225, 931547591)\n",
      "Средняя прибыль: 515222773\n",
      "Риск: 1.0\n",
      "\n",
      "Регион 3:\n",
      "95%-й доверительный интервал: (-128880547, 969706954)\n",
      "Средняя прибыль: 435008363\n",
      "Риск: 6.4\n",
      "\n"
     ]
    }
   ],
   "source": [
    "a = [predictions_valid_1, predictions_valid_2, predictions_valid_3]\n",
    "b = [target_valid_1, target_valid_2, target_valid_3]\n",
    "k = 1\n",
    "for i,j in zip(a,b):\n",
    "    interval, mean_revenue, risk = profit_and_risk(i, j)\n",
    "    print(f'Регион {k}:')\n",
    "    print(f'95%-й доверительный интервал: {interval}')\n",
    "    print(f'Средняя прибыль: {mean_revenue:.0f}')\n",
    "    print(f'Риск: {risk}')\n",
    "    print()\n",
    "    k +=1"
   ]
  },
  {
   "cell_type": "markdown",
   "metadata": {},
   "source": [
    "Среди регионов только во втором риски оказались ниже 2.5%, что удовлетворяет условию задачи. Средняя прибыль с одной точки составляет **515222773**. С учетом риска в 1% инвестиции окупятся сполна"
   ]
  },
  {
   "cell_type": "markdown",
   "metadata": {},
   "source": [
    "# Вывод"
   ]
  },
  {
   "cell_type": "markdown",
   "metadata": {},
   "source": [
    "В ходе выполнения работы были изучены данные пробы нефти в трех регионах. Пропуски и дубликаты отсутствовали.\n",
    "\n",
    "Далее были составлены модели линейной регрессии для каждого региона с учетом дисбаланса классов. Найдены значения RMSE, среднего запаса предсказываемого сырья и точки безубыточности.\n",
    "\n",
    "Следом с помощью техники Bootstrap для каждого были определены: средняя прибыль, 95%-й доверительный интервал и риск. Удовлетворяющим требования оказался регион №2. Таким образом, цитируя Макконахи в фильме \"Золото\" (2016), мы нашли золотую жилу!"
   ]
  }
 ],
 "metadata": {
  "ExecuteTimeLog": [
   {
    "duration": 1310,
    "start_time": "2022-03-05T10:41:54.566Z"
   },
   {
    "duration": 418,
    "start_time": "2022-03-05T10:43:01.952Z"
   },
   {
    "duration": 21,
    "start_time": "2022-03-05T10:46:15.278Z"
   },
   {
    "duration": 38,
    "start_time": "2022-03-05T10:46:33.567Z"
   },
   {
    "duration": 29,
    "start_time": "2022-03-05T10:48:47.890Z"
   },
   {
    "duration": 30,
    "start_time": "2022-03-05T10:49:22.204Z"
   },
   {
    "duration": 90,
    "start_time": "2022-03-05T10:50:58.300Z"
   },
   {
    "duration": 85,
    "start_time": "2022-03-05T10:54:07.693Z"
   },
   {
    "duration": 75,
    "start_time": "2022-03-05T10:54:23.146Z"
   },
   {
    "duration": 5,
    "start_time": "2022-03-05T10:54:41.385Z"
   },
   {
    "duration": 1309,
    "start_time": "2022-03-05T10:55:34.261Z"
   },
   {
    "duration": 411,
    "start_time": "2022-03-05T10:55:35.573Z"
   },
   {
    "duration": 5,
    "start_time": "2022-03-05T10:55:35.987Z"
   },
   {
    "duration": 5,
    "start_time": "2022-03-05T10:56:38.826Z"
   },
   {
    "duration": 687,
    "start_time": "2022-03-05T10:56:53.274Z"
   },
   {
    "duration": 6,
    "start_time": "2022-03-05T10:57:00.722Z"
   },
   {
    "duration": 104,
    "start_time": "2022-03-05T10:57:02.379Z"
   },
   {
    "duration": 5,
    "start_time": "2022-03-05T10:57:14.422Z"
   },
   {
    "duration": 95,
    "start_time": "2022-03-05T10:57:15.787Z"
   },
   {
    "duration": 5,
    "start_time": "2022-03-05T10:57:58.696Z"
   },
   {
    "duration": 95,
    "start_time": "2022-03-05T10:58:01.112Z"
   },
   {
    "duration": 6,
    "start_time": "2022-03-05T10:59:03.778Z"
   },
   {
    "duration": 539,
    "start_time": "2022-03-05T10:59:05.119Z"
   },
   {
    "duration": 5,
    "start_time": "2022-03-05T11:00:09.949Z"
   },
   {
    "duration": 92,
    "start_time": "2022-03-05T11:00:12.178Z"
   },
   {
    "duration": 6,
    "start_time": "2022-03-05T11:00:46.232Z"
   },
   {
    "duration": 100,
    "start_time": "2022-03-05T11:00:47.734Z"
   },
   {
    "duration": 99,
    "start_time": "2022-03-05T11:01:02.542Z"
   },
   {
    "duration": 109,
    "start_time": "2022-03-05T11:01:13.307Z"
   },
   {
    "duration": 1261,
    "start_time": "2022-03-05T11:12:15.405Z"
   },
   {
    "duration": 425,
    "start_time": "2022-03-05T11:12:16.669Z"
   },
   {
    "duration": 6,
    "start_time": "2022-03-05T11:12:17.097Z"
   },
   {
    "duration": 134,
    "start_time": "2022-03-05T11:12:17.106Z"
   },
   {
    "duration": 114,
    "start_time": "2022-03-05T11:12:17.243Z"
   },
   {
    "duration": 106,
    "start_time": "2022-03-05T11:12:17.359Z"
   },
   {
    "duration": 6,
    "start_time": "2022-03-05T11:37:09.151Z"
   },
   {
    "duration": 7,
    "start_time": "2022-03-05T11:38:16.922Z"
   },
   {
    "duration": 620,
    "start_time": "2022-03-05T11:38:29.862Z"
   },
   {
    "duration": 7,
    "start_time": "2022-03-05T11:38:44.259Z"
   },
   {
    "duration": 479,
    "start_time": "2022-03-05T11:38:47.228Z"
   },
   {
    "duration": 7,
    "start_time": "2022-03-05T11:39:03.239Z"
   },
   {
    "duration": 63,
    "start_time": "2022-03-05T11:39:05.323Z"
   },
   {
    "duration": 8,
    "start_time": "2022-03-05T11:45:49.104Z"
   },
   {
    "duration": 535,
    "start_time": "2022-03-05T11:46:12.252Z"
   },
   {
    "duration": 515,
    "start_time": "2022-03-05T11:47:50.551Z"
   },
   {
    "duration": 548,
    "start_time": "2022-03-05T11:48:03.137Z"
   },
   {
    "duration": 1255,
    "start_time": "2022-03-05T11:48:09.637Z"
   },
   {
    "duration": 432,
    "start_time": "2022-03-05T11:48:10.895Z"
   },
   {
    "duration": 5,
    "start_time": "2022-03-05T11:48:11.330Z"
   },
   {
    "duration": 122,
    "start_time": "2022-03-05T11:48:11.338Z"
   },
   {
    "duration": 108,
    "start_time": "2022-03-05T11:48:11.463Z"
   },
   {
    "duration": 115,
    "start_time": "2022-03-05T11:48:11.583Z"
   },
   {
    "duration": 7,
    "start_time": "2022-03-05T11:48:11.701Z"
   },
   {
    "duration": 475,
    "start_time": "2022-03-05T11:48:11.711Z"
   },
   {
    "duration": 485,
    "start_time": "2022-03-05T12:03:15.299Z"
   },
   {
    "duration": 1266,
    "start_time": "2022-03-05T12:04:28.222Z"
   },
   {
    "duration": 457,
    "start_time": "2022-03-05T12:04:29.491Z"
   },
   {
    "duration": 6,
    "start_time": "2022-03-05T12:04:29.951Z"
   },
   {
    "duration": 145,
    "start_time": "2022-03-05T12:04:29.959Z"
   },
   {
    "duration": 129,
    "start_time": "2022-03-05T12:04:30.107Z"
   },
   {
    "duration": 157,
    "start_time": "2022-03-05T12:04:30.239Z"
   },
   {
    "duration": 10,
    "start_time": "2022-03-05T12:04:30.400Z"
   },
   {
    "duration": 668,
    "start_time": "2022-03-05T12:04:30.414Z"
   },
   {
    "duration": 499,
    "start_time": "2022-03-05T12:04:31.085Z"
   },
   {
    "duration": 4,
    "start_time": "2022-03-05T13:26:06.120Z"
   },
   {
    "duration": 6,
    "start_time": "2022-03-05T13:29:19.152Z"
   },
   {
    "duration": 5,
    "start_time": "2022-03-05T13:29:29.023Z"
   },
   {
    "duration": 5,
    "start_time": "2022-03-05T13:29:43.114Z"
   },
   {
    "duration": 5,
    "start_time": "2022-03-05T13:29:47.850Z"
   },
   {
    "duration": 5,
    "start_time": "2022-03-05T13:30:57.799Z"
   },
   {
    "duration": 1318,
    "start_time": "2022-03-05T13:31:02.671Z"
   },
   {
    "duration": 440,
    "start_time": "2022-03-05T13:31:03.992Z"
   },
   {
    "duration": 5,
    "start_time": "2022-03-05T13:31:04.435Z"
   },
   {
    "duration": 127,
    "start_time": "2022-03-05T13:31:04.443Z"
   },
   {
    "duration": 116,
    "start_time": "2022-03-05T13:31:04.572Z"
   },
   {
    "duration": 118,
    "start_time": "2022-03-05T13:31:04.691Z"
   },
   {
    "duration": 7,
    "start_time": "2022-03-05T13:31:04.811Z"
   },
   {
    "duration": 461,
    "start_time": "2022-03-05T13:31:04.822Z"
   },
   {
    "duration": 523,
    "start_time": "2022-03-05T13:31:05.287Z"
   },
   {
    "duration": 7,
    "start_time": "2022-03-05T13:31:05.887Z"
   },
   {
    "duration": 5,
    "start_time": "2022-03-05T13:32:58.183Z"
   },
   {
    "duration": 5,
    "start_time": "2022-03-05T13:38:51.433Z"
   },
   {
    "duration": 5,
    "start_time": "2022-03-05T13:39:07.261Z"
   },
   {
    "duration": 4,
    "start_time": "2022-03-05T13:39:31.092Z"
   },
   {
    "duration": 5,
    "start_time": "2022-03-05T13:39:52.977Z"
   },
   {
    "duration": 4,
    "start_time": "2022-03-05T14:33:14.768Z"
   },
   {
    "duration": 5,
    "start_time": "2022-03-05T14:35:18.451Z"
   },
   {
    "duration": 7,
    "start_time": "2022-03-05T15:31:51.220Z"
   },
   {
    "duration": 562,
    "start_time": "2022-03-05T15:32:42.116Z"
   },
   {
    "duration": 7,
    "start_time": "2022-03-05T15:33:12.217Z"
   },
   {
    "duration": 475,
    "start_time": "2022-03-05T15:33:13.801Z"
   },
   {
    "duration": 8,
    "start_time": "2022-03-05T15:33:31.617Z"
   },
   {
    "duration": 8862,
    "start_time": "2022-03-05T15:33:33.741Z"
   },
   {
    "duration": 7,
    "start_time": "2022-03-05T15:34:01.471Z"
   },
   {
    "duration": 5566,
    "start_time": "2022-03-05T15:34:03.153Z"
   },
   {
    "duration": 7,
    "start_time": "2022-03-05T15:34:19.710Z"
   },
   {
    "duration": 5214,
    "start_time": "2022-03-05T15:34:21.186Z"
   },
   {
    "duration": 5043,
    "start_time": "2022-03-05T15:35:47.284Z"
   },
   {
    "duration": 6,
    "start_time": "2022-03-05T15:36:03.269Z"
   },
   {
    "duration": 5060,
    "start_time": "2022-03-05T15:36:05.333Z"
   },
   {
    "duration": 5175,
    "start_time": "2022-03-05T15:36:13.509Z"
   },
   {
    "duration": 7,
    "start_time": "2022-03-05T15:38:25.566Z"
   },
   {
    "duration": 5724,
    "start_time": "2022-03-05T15:38:27.825Z"
   },
   {
    "duration": 6,
    "start_time": "2022-03-05T15:38:50.459Z"
   },
   {
    "duration": 5512,
    "start_time": "2022-03-05T15:38:52.666Z"
   },
   {
    "duration": 6,
    "start_time": "2022-03-05T15:39:28.833Z"
   },
   {
    "duration": 6072,
    "start_time": "2022-03-05T15:39:30.734Z"
   },
   {
    "duration": 8,
    "start_time": "2022-03-05T15:39:51.260Z"
   },
   {
    "duration": 5210,
    "start_time": "2022-03-05T15:39:52.918Z"
   },
   {
    "duration": 6,
    "start_time": "2022-03-05T15:40:25.527Z"
   },
   {
    "duration": 5361,
    "start_time": "2022-03-05T15:40:27.522Z"
   },
   {
    "duration": 9,
    "start_time": "2022-03-05T15:41:06.777Z"
   },
   {
    "duration": 5077,
    "start_time": "2022-03-05T15:41:08.737Z"
   },
   {
    "duration": 7,
    "start_time": "2022-03-05T15:41:34.787Z"
   },
   {
    "duration": 5071,
    "start_time": "2022-03-05T15:41:36.734Z"
   },
   {
    "duration": 6,
    "start_time": "2022-03-05T15:42:20.383Z"
   },
   {
    "duration": 5135,
    "start_time": "2022-03-05T15:42:22.359Z"
   },
   {
    "duration": 7,
    "start_time": "2022-03-05T15:46:17.638Z"
   },
   {
    "duration": 7404,
    "start_time": "2022-03-05T15:46:19.244Z"
   },
   {
    "duration": 4,
    "start_time": "2022-03-05T15:48:59.569Z"
   },
   {
    "duration": 6,
    "start_time": "2022-03-05T15:49:46.041Z"
   },
   {
    "duration": 5149,
    "start_time": "2022-03-05T15:49:47.539Z"
   },
   {
    "duration": 15629,
    "start_time": "2022-03-05T15:54:13.518Z"
   },
   {
    "duration": 15365,
    "start_time": "2022-03-05T15:57:30.038Z"
   },
   {
    "duration": 15392,
    "start_time": "2022-03-05T15:57:57.939Z"
   },
   {
    "duration": 25154,
    "start_time": "2022-03-05T15:59:08.754Z"
   },
   {
    "duration": 25427,
    "start_time": "2022-03-05T16:00:03.264Z"
   },
   {
    "duration": 5461,
    "start_time": "2022-03-05T16:03:39.553Z"
   },
   {
    "duration": 5463,
    "start_time": "2022-03-05T16:04:04.963Z"
   },
   {
    "duration": 15576,
    "start_time": "2022-03-05T16:04:23.487Z"
   },
   {
    "duration": 1306,
    "start_time": "2022-03-05T16:04:50.725Z"
   },
   {
    "duration": 454,
    "start_time": "2022-03-05T16:04:52.034Z"
   },
   {
    "duration": 6,
    "start_time": "2022-03-05T16:04:52.492Z"
   },
   {
    "duration": 147,
    "start_time": "2022-03-05T16:04:52.502Z"
   },
   {
    "duration": 122,
    "start_time": "2022-03-05T16:04:52.651Z"
   },
   {
    "duration": 123,
    "start_time": "2022-03-05T16:04:52.783Z"
   },
   {
    "duration": 7,
    "start_time": "2022-03-05T16:04:52.908Z"
   },
   {
    "duration": 568,
    "start_time": "2022-03-05T16:04:52.918Z"
   },
   {
    "duration": 500,
    "start_time": "2022-03-05T16:04:53.491Z"
   },
   {
    "duration": 5,
    "start_time": "2022-03-05T16:04:54.083Z"
   },
   {
    "duration": 18,
    "start_time": "2022-03-05T16:04:54.090Z"
   },
   {
    "duration": 12,
    "start_time": "2022-03-05T16:04:54.110Z"
   },
   {
    "duration": 11,
    "start_time": "2022-03-05T16:04:54.125Z"
   },
   {
    "duration": 15375,
    "start_time": "2022-03-05T16:04:54.139Z"
   },
   {
    "duration": 5586,
    "start_time": "2022-03-05T16:05:28.859Z"
   },
   {
    "duration": 9,
    "start_time": "2022-03-05T16:06:00.970Z"
   },
   {
    "duration": 18973,
    "start_time": "2022-03-05T16:06:02.641Z"
   },
   {
    "duration": 251,
    "start_time": "2022-03-05T16:15:07.000Z"
   },
   {
    "duration": 5454,
    "start_time": "2022-03-05T16:15:15.061Z"
   },
   {
    "duration": 5372,
    "start_time": "2022-03-05T16:16:13.610Z"
   },
   {
    "duration": 18805,
    "start_time": "2022-03-05T16:37:39.314Z"
   },
   {
    "duration": 1557,
    "start_time": "2022-03-05T16:42:21.882Z"
   },
   {
    "duration": 453,
    "start_time": "2022-03-05T16:42:23.442Z"
   },
   {
    "duration": 6,
    "start_time": "2022-03-05T16:42:23.901Z"
   },
   {
    "duration": 156,
    "start_time": "2022-03-05T16:42:23.909Z"
   },
   {
    "duration": 133,
    "start_time": "2022-03-05T16:42:24.068Z"
   },
   {
    "duration": 126,
    "start_time": "2022-03-05T16:42:24.204Z"
   },
   {
    "duration": 7,
    "start_time": "2022-03-05T16:42:24.334Z"
   },
   {
    "duration": 638,
    "start_time": "2022-03-05T16:42:24.344Z"
   },
   {
    "duration": 496,
    "start_time": "2022-03-05T16:42:24.988Z"
   },
   {
    "duration": 96,
    "start_time": "2022-03-05T16:42:25.488Z"
   },
   {
    "duration": 5,
    "start_time": "2022-03-05T16:42:25.587Z"
   },
   {
    "duration": 6,
    "start_time": "2022-03-05T16:42:25.595Z"
   },
   {
    "duration": 9,
    "start_time": "2022-03-05T16:42:25.603Z"
   },
   {
    "duration": 15444,
    "start_time": "2022-03-05T16:42:25.615Z"
   }
  ],
  "kernelspec": {
   "display_name": "Python 3 (ipykernel)",
   "language": "python",
   "name": "python3"
  },
  "language_info": {
   "codemirror_mode": {
    "name": "ipython",
    "version": 3
   },
   "file_extension": ".py",
   "mimetype": "text/x-python",
   "name": "python",
   "nbconvert_exporter": "python",
   "pygments_lexer": "ipython3",
   "version": "3.9.12"
  },
  "toc": {
   "base_numbering": 1,
   "nav_menu": {},
   "number_sections": true,
   "sideBar": true,
   "skip_h1_title": true,
   "title_cell": "Table of Contents",
   "title_sidebar": "Contents",
   "toc_cell": false,
   "toc_position": {},
   "toc_section_display": true,
   "toc_window_display": false
  }
 },
 "nbformat": 4,
 "nbformat_minor": 2
}
