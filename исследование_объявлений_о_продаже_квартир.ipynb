{
 "cells": [
  {
   "cell_type": "markdown",
   "metadata": {
    "toc": true
   },
   "source": [
    "<h1>Содержание<span class=\"tocSkip\"></span></h1>\n",
    "<div class=\"toc\"><ul class=\"toc-item\"><li><span><a href=\"#Изучение-данных-из-файла\" data-toc-modified-id=\"Изучение-данных-из-файла-1\"><span class=\"toc-item-num\">1&nbsp;&nbsp;</span>Изучение данных из файла</a></span></li><li><span><a href=\"#Предобработка-данных\" data-toc-modified-id=\"Предобработка-данных-2\"><span class=\"toc-item-num\">2&nbsp;&nbsp;</span>Предобработка данных</a></span><ul class=\"toc-item\"><li><span><a href=\"#Обработка-пропусков\" data-toc-modified-id=\"Обработка-пропусков-2.1\"><span class=\"toc-item-num\">2.1&nbsp;&nbsp;</span>Обработка пропусков</a></span></li><li><span><a href=\"#Замена-типа-данных\" data-toc-modified-id=\"Замена-типа-данных-2.2\"><span class=\"toc-item-num\">2.2&nbsp;&nbsp;</span>Замена типа данных</a></span></li></ul></li><li><span><a href=\"#Расчёты-и-добавление-результатов-в-таблицу\" data-toc-modified-id=\"Расчёты-и-добавление-результатов-в-таблицу-3\"><span class=\"toc-item-num\">3&nbsp;&nbsp;</span>Расчёты и добавление результатов в таблицу</a></span></li><li><span><a href=\"#Исследовательский-анализ-данных\" data-toc-modified-id=\"Исследовательский-анализ-данных-4\"><span class=\"toc-item-num\">4&nbsp;&nbsp;</span>Исследовательский анализ данных</a></span></li><li><span><a href=\"#Общий-вывод\" data-toc-modified-id=\"Общий-вывод-5\"><span class=\"toc-item-num\">5&nbsp;&nbsp;</span>Общий вывод</a></span></li><li><span><a href=\"#Чек-лист-готовности-проекта\" data-toc-modified-id=\"Чек-лист-готовности-проекта-6\"><span class=\"toc-item-num\">6&nbsp;&nbsp;</span>Чек-лист готовности проекта</a></span></li></ul></div>"
   ]
  },
  {
   "cell_type": "markdown",
   "metadata": {},
   "source": [
    "# Исследование объявлений о продаже квартир\n",
    "\n",
    "В вашем распоряжении данные сервиса Яндекс.Недвижимость — архив объявлений о продаже квартир в Санкт-Петербурге и соседних населённых пунктах за несколько лет. Нужно научиться определять рыночную стоимость объектов недвижимости. Ваша задача — установить параметры. Это позволит построить автоматизированную систему: она отследит аномалии и мошенническую деятельность. \n",
    "\n",
    "По каждой квартире на продажу доступны два вида данных. Первые вписаны пользователем, вторые получены автоматически на основе картографических данных. Например, расстояние до центра, аэропорта, ближайшего парка и водоёма. "
   ]
  },
  {
   "cell_type": "markdown",
   "metadata": {},
   "source": [
    "## Изучение данных из файла"
   ]
  },
  {
   "cell_type": "code",
   "execution_count": 1,
   "metadata": {},
   "outputs": [
    {
     "data": {
      "text/html": [
       "<div>\n",
       "<style scoped>\n",
       "    .dataframe tbody tr th:only-of-type {\n",
       "        vertical-align: middle;\n",
       "    }\n",
       "\n",
       "    .dataframe tbody tr th {\n",
       "        vertical-align: top;\n",
       "    }\n",
       "\n",
       "    .dataframe thead th {\n",
       "        text-align: right;\n",
       "    }\n",
       "</style>\n",
       "<table border=\"1\" class=\"dataframe\">\n",
       "  <thead>\n",
       "    <tr style=\"text-align: right;\">\n",
       "      <th></th>\n",
       "      <th>total_images\\tlast_price\\ttotal_area\\tfirst_day_exposition\\trooms\\tceiling_height\\tfloors_total\\tliving_area\\tfloor\\tis_apartment\\tstudio\\topen_plan\\tkitchen_area\\tbalcony\\tlocality_name\\tairports_nearest\\tcityCenters_nearest\\tparks_around3000\\tparks_nearest\\tponds_around3000\\tponds_nearest\\tdays_exposition</th>\n",
       "    </tr>\n",
       "  </thead>\n",
       "  <tbody>\n",
       "    <tr>\n",
       "      <td>0</td>\n",
       "      <td>20\\t13000000.0\\t108.0\\t2019-03-07T00:00:00\\t3\\...</td>\n",
       "    </tr>\n",
       "    <tr>\n",
       "      <td>1</td>\n",
       "      <td>7\\t3350000.0\\t40.4\\t2018-12-04T00:00:00\\t1\\t\\t...</td>\n",
       "    </tr>\n",
       "    <tr>\n",
       "      <td>2</td>\n",
       "      <td>10\\t5196000.0\\t56.0\\t2015-08-20T00:00:00\\t2\\t\\...</td>\n",
       "    </tr>\n",
       "    <tr>\n",
       "      <td>3</td>\n",
       "      <td>0\\t64900000.0\\t159.0\\t2015-07-24T00:00:00\\t3\\t...</td>\n",
       "    </tr>\n",
       "    <tr>\n",
       "      <td>4</td>\n",
       "      <td>2\\t10000000.0\\t100.0\\t2018-06-19T00:00:00\\t2\\t...</td>\n",
       "    </tr>\n",
       "    <tr>\n",
       "      <td>5</td>\n",
       "      <td>10\\t2890000.0\\t30.4\\t2018-09-10T00:00:00\\t1\\t\\...</td>\n",
       "    </tr>\n",
       "    <tr>\n",
       "      <td>6</td>\n",
       "      <td>6\\t3700000.0\\t37.3\\t2017-11-02T00:00:00\\t1\\t\\t...</td>\n",
       "    </tr>\n",
       "    <tr>\n",
       "      <td>7</td>\n",
       "      <td>5\\t7915000.0\\t71.6\\t2019-04-18T00:00:00\\t2\\t\\t...</td>\n",
       "    </tr>\n",
       "    <tr>\n",
       "      <td>8</td>\n",
       "      <td>20\\t2900000.0\\t33.16\\t2018-05-23T00:00:00\\t1\\t...</td>\n",
       "    </tr>\n",
       "    <tr>\n",
       "      <td>9</td>\n",
       "      <td>18\\t5400000.0\\t61.0\\t2017-02-26T00:00:00\\t3\\t2...</td>\n",
       "    </tr>\n",
       "  </tbody>\n",
       "</table>\n",
       "</div>"
      ],
      "text/plain": [
       "  total_images\\tlast_price\\ttotal_area\\tfirst_day_exposition\\trooms\\tceiling_height\\tfloors_total\\tliving_area\\tfloor\\tis_apartment\\tstudio\\topen_plan\\tkitchen_area\\tbalcony\\tlocality_name\\tairports_nearest\\tcityCenters_nearest\\tparks_around3000\\tparks_nearest\\tponds_around3000\\tponds_nearest\\tdays_exposition\n",
       "0  20\\t13000000.0\\t108.0\\t2019-03-07T00:00:00\\t3\\...                                                                                                                                                                                                                                                                  \n",
       "1  7\\t3350000.0\\t40.4\\t2018-12-04T00:00:00\\t1\\t\\t...                                                                                                                                                                                                                                                                  \n",
       "2  10\\t5196000.0\\t56.0\\t2015-08-20T00:00:00\\t2\\t\\...                                                                                                                                                                                                                                                                  \n",
       "3  0\\t64900000.0\\t159.0\\t2015-07-24T00:00:00\\t3\\t...                                                                                                                                                                                                                                                                  \n",
       "4  2\\t10000000.0\\t100.0\\t2018-06-19T00:00:00\\t2\\t...                                                                                                                                                                                                                                                                  \n",
       "5  10\\t2890000.0\\t30.4\\t2018-09-10T00:00:00\\t1\\t\\...                                                                                                                                                                                                                                                                  \n",
       "6  6\\t3700000.0\\t37.3\\t2017-11-02T00:00:00\\t1\\t\\t...                                                                                                                                                                                                                                                                  \n",
       "7  5\\t7915000.0\\t71.6\\t2019-04-18T00:00:00\\t2\\t\\t...                                                                                                                                                                                                                                                                  \n",
       "8  20\\t2900000.0\\t33.16\\t2018-05-23T00:00:00\\t1\\t...                                                                                                                                                                                                                                                                  \n",
       "9  18\\t5400000.0\\t61.0\\t2017-02-26T00:00:00\\t3\\t2...                                                                                                                                                                                                                                                                  "
      ]
     },
     "metadata": {},
     "output_type": "display_data"
    }
   ],
   "source": [
    "import pandas as pd\n",
    "df=pd.read_csv('/datasets/real_estate_data.csv')\n",
    "display(df.head(10))"
   ]
  },
  {
   "cell_type": "markdown",
   "metadata": {},
   "source": [
    "Как можно заметить, таблица вышла \"нечитаемой\" ввиду того, что данные разделены не запятой, а **/t**. Исправим этот момент, применив разделитель колонок **sep**"
   ]
  },
  {
   "cell_type": "code",
   "execution_count": 2,
   "metadata": {},
   "outputs": [
    {
     "data": {
      "text/html": [
       "<div>\n",
       "<style scoped>\n",
       "    .dataframe tbody tr th:only-of-type {\n",
       "        vertical-align: middle;\n",
       "    }\n",
       "\n",
       "    .dataframe tbody tr th {\n",
       "        vertical-align: top;\n",
       "    }\n",
       "\n",
       "    .dataframe thead th {\n",
       "        text-align: right;\n",
       "    }\n",
       "</style>\n",
       "<table border=\"1\" class=\"dataframe\">\n",
       "  <thead>\n",
       "    <tr style=\"text-align: right;\">\n",
       "      <th></th>\n",
       "      <th>total_images</th>\n",
       "      <th>last_price</th>\n",
       "      <th>total_area</th>\n",
       "      <th>first_day_exposition</th>\n",
       "      <th>rooms</th>\n",
       "      <th>ceiling_height</th>\n",
       "      <th>floors_total</th>\n",
       "      <th>living_area</th>\n",
       "      <th>floor</th>\n",
       "      <th>is_apartment</th>\n",
       "      <th>...</th>\n",
       "      <th>kitchen_area</th>\n",
       "      <th>balcony</th>\n",
       "      <th>locality_name</th>\n",
       "      <th>airports_nearest</th>\n",
       "      <th>cityCenters_nearest</th>\n",
       "      <th>parks_around3000</th>\n",
       "      <th>parks_nearest</th>\n",
       "      <th>ponds_around3000</th>\n",
       "      <th>ponds_nearest</th>\n",
       "      <th>days_exposition</th>\n",
       "    </tr>\n",
       "  </thead>\n",
       "  <tbody>\n",
       "    <tr>\n",
       "      <td>0</td>\n",
       "      <td>20</td>\n",
       "      <td>13000000.0</td>\n",
       "      <td>108.0</td>\n",
       "      <td>2019-03-07T00:00:00</td>\n",
       "      <td>3</td>\n",
       "      <td>2.70</td>\n",
       "      <td>16.0</td>\n",
       "      <td>51.0</td>\n",
       "      <td>8</td>\n",
       "      <td>NaN</td>\n",
       "      <td>...</td>\n",
       "      <td>25.0</td>\n",
       "      <td>NaN</td>\n",
       "      <td>Санкт-Петербург</td>\n",
       "      <td>18863.0</td>\n",
       "      <td>16028.0</td>\n",
       "      <td>1.0</td>\n",
       "      <td>482.0</td>\n",
       "      <td>2.0</td>\n",
       "      <td>755.0</td>\n",
       "      <td>NaN</td>\n",
       "    </tr>\n",
       "    <tr>\n",
       "      <td>1</td>\n",
       "      <td>7</td>\n",
       "      <td>3350000.0</td>\n",
       "      <td>40.4</td>\n",
       "      <td>2018-12-04T00:00:00</td>\n",
       "      <td>1</td>\n",
       "      <td>NaN</td>\n",
       "      <td>11.0</td>\n",
       "      <td>18.6</td>\n",
       "      <td>1</td>\n",
       "      <td>NaN</td>\n",
       "      <td>...</td>\n",
       "      <td>11.0</td>\n",
       "      <td>2.0</td>\n",
       "      <td>посёлок Шушары</td>\n",
       "      <td>12817.0</td>\n",
       "      <td>18603.0</td>\n",
       "      <td>0.0</td>\n",
       "      <td>NaN</td>\n",
       "      <td>0.0</td>\n",
       "      <td>NaN</td>\n",
       "      <td>81.0</td>\n",
       "    </tr>\n",
       "    <tr>\n",
       "      <td>2</td>\n",
       "      <td>10</td>\n",
       "      <td>5196000.0</td>\n",
       "      <td>56.0</td>\n",
       "      <td>2015-08-20T00:00:00</td>\n",
       "      <td>2</td>\n",
       "      <td>NaN</td>\n",
       "      <td>5.0</td>\n",
       "      <td>34.3</td>\n",
       "      <td>4</td>\n",
       "      <td>NaN</td>\n",
       "      <td>...</td>\n",
       "      <td>8.3</td>\n",
       "      <td>0.0</td>\n",
       "      <td>Санкт-Петербург</td>\n",
       "      <td>21741.0</td>\n",
       "      <td>13933.0</td>\n",
       "      <td>1.0</td>\n",
       "      <td>90.0</td>\n",
       "      <td>2.0</td>\n",
       "      <td>574.0</td>\n",
       "      <td>558.0</td>\n",
       "    </tr>\n",
       "    <tr>\n",
       "      <td>3</td>\n",
       "      <td>0</td>\n",
       "      <td>64900000.0</td>\n",
       "      <td>159.0</td>\n",
       "      <td>2015-07-24T00:00:00</td>\n",
       "      <td>3</td>\n",
       "      <td>NaN</td>\n",
       "      <td>14.0</td>\n",
       "      <td>NaN</td>\n",
       "      <td>9</td>\n",
       "      <td>NaN</td>\n",
       "      <td>...</td>\n",
       "      <td>NaN</td>\n",
       "      <td>0.0</td>\n",
       "      <td>Санкт-Петербург</td>\n",
       "      <td>28098.0</td>\n",
       "      <td>6800.0</td>\n",
       "      <td>2.0</td>\n",
       "      <td>84.0</td>\n",
       "      <td>3.0</td>\n",
       "      <td>234.0</td>\n",
       "      <td>424.0</td>\n",
       "    </tr>\n",
       "    <tr>\n",
       "      <td>4</td>\n",
       "      <td>2</td>\n",
       "      <td>10000000.0</td>\n",
       "      <td>100.0</td>\n",
       "      <td>2018-06-19T00:00:00</td>\n",
       "      <td>2</td>\n",
       "      <td>3.03</td>\n",
       "      <td>14.0</td>\n",
       "      <td>32.0</td>\n",
       "      <td>13</td>\n",
       "      <td>NaN</td>\n",
       "      <td>...</td>\n",
       "      <td>41.0</td>\n",
       "      <td>NaN</td>\n",
       "      <td>Санкт-Петербург</td>\n",
       "      <td>31856.0</td>\n",
       "      <td>8098.0</td>\n",
       "      <td>2.0</td>\n",
       "      <td>112.0</td>\n",
       "      <td>1.0</td>\n",
       "      <td>48.0</td>\n",
       "      <td>121.0</td>\n",
       "    </tr>\n",
       "  </tbody>\n",
       "</table>\n",
       "<p>5 rows × 22 columns</p>\n",
       "</div>"
      ],
      "text/plain": [
       "   total_images  last_price  total_area first_day_exposition  rooms  \\\n",
       "0            20  13000000.0       108.0  2019-03-07T00:00:00      3   \n",
       "1             7   3350000.0        40.4  2018-12-04T00:00:00      1   \n",
       "2            10   5196000.0        56.0  2015-08-20T00:00:00      2   \n",
       "3             0  64900000.0       159.0  2015-07-24T00:00:00      3   \n",
       "4             2  10000000.0       100.0  2018-06-19T00:00:00      2   \n",
       "\n",
       "   ceiling_height  floors_total  living_area  floor is_apartment  ...  \\\n",
       "0            2.70          16.0         51.0      8          NaN  ...   \n",
       "1             NaN          11.0         18.6      1          NaN  ...   \n",
       "2             NaN           5.0         34.3      4          NaN  ...   \n",
       "3             NaN          14.0          NaN      9          NaN  ...   \n",
       "4            3.03          14.0         32.0     13          NaN  ...   \n",
       "\n",
       "   kitchen_area  balcony    locality_name  airports_nearest  \\\n",
       "0          25.0      NaN  Санкт-Петербург           18863.0   \n",
       "1          11.0      2.0   посёлок Шушары           12817.0   \n",
       "2           8.3      0.0  Санкт-Петербург           21741.0   \n",
       "3           NaN      0.0  Санкт-Петербург           28098.0   \n",
       "4          41.0      NaN  Санкт-Петербург           31856.0   \n",
       "\n",
       "  cityCenters_nearest  parks_around3000  parks_nearest  ponds_around3000  \\\n",
       "0             16028.0               1.0          482.0               2.0   \n",
       "1             18603.0               0.0            NaN               0.0   \n",
       "2             13933.0               1.0           90.0               2.0   \n",
       "3              6800.0               2.0           84.0               3.0   \n",
       "4              8098.0               2.0          112.0               1.0   \n",
       "\n",
       "   ponds_nearest  days_exposition  \n",
       "0          755.0              NaN  \n",
       "1            NaN             81.0  \n",
       "2          574.0            558.0  \n",
       "3          234.0            424.0  \n",
       "4           48.0            121.0  \n",
       "\n",
       "[5 rows x 22 columns]"
      ]
     },
     "metadata": {},
     "output_type": "display_data"
    }
   ],
   "source": [
    "df=pd.read_csv('/datasets/real_estate_data.csv', sep='\\t')\n",
    "display(df.head())"
   ]
  },
  {
   "cell_type": "markdown",
   "metadata": {},
   "source": [
    "Таблица стала читаемой. Изучим информацию о таблице, воспользовавшись методом **info()**"
   ]
  },
  {
   "cell_type": "code",
   "execution_count": 3,
   "metadata": {
    "scrolled": true
   },
   "outputs": [
    {
     "name": "stdout",
     "output_type": "stream",
     "text": [
      "<class 'pandas.core.frame.DataFrame'>\n",
      "RangeIndex: 23699 entries, 0 to 23698\n",
      "Data columns (total 22 columns):\n",
      "total_images            23699 non-null int64\n",
      "last_price              23699 non-null float64\n",
      "total_area              23699 non-null float64\n",
      "first_day_exposition    23699 non-null object\n",
      "rooms                   23699 non-null int64\n",
      "ceiling_height          14504 non-null float64\n",
      "floors_total            23613 non-null float64\n",
      "living_area             21796 non-null float64\n",
      "floor                   23699 non-null int64\n",
      "is_apartment            2775 non-null object\n",
      "studio                  23699 non-null bool\n",
      "open_plan               23699 non-null bool\n",
      "kitchen_area            21421 non-null float64\n",
      "balcony                 12180 non-null float64\n",
      "locality_name           23650 non-null object\n",
      "airports_nearest        18157 non-null float64\n",
      "cityCenters_nearest     18180 non-null float64\n",
      "parks_around3000        18181 non-null float64\n",
      "parks_nearest           8079 non-null float64\n",
      "ponds_around3000        18181 non-null float64\n",
      "ponds_nearest           9110 non-null float64\n",
      "days_exposition         20518 non-null float64\n",
      "dtypes: bool(2), float64(14), int64(3), object(3)\n",
      "memory usage: 3.7+ MB\n"
     ]
    }
   ],
   "source": [
    "df.info()"
   ]
  },
  {
   "cell_type": "markdown",
   "metadata": {},
   "source": [
    "**Вывод**"
   ]
  },
  {
   "cell_type": "markdown",
   "metadata": {},
   "source": [
    "В талице 22 столбца и 23699 строк. В столбцах представлены данные типа **int**, **float**, **object** и **bool**. \n",
    "\n",
    "Согласно документации к данным:\n",
    "\n",
    "**airports_nearest** — расстояние до ближайшего аэропорта в метрах (м)\n",
    "**balcony** — число балконов\n",
    "**ceiling_height** — высота потолков (м)\n",
    "**cityCenters_nearest** — расстояние до центра города (м)\n",
    "**days_exposition** — сколько дней было размещено объявление (от публикации до снятия)\n",
    "**first_day_exposition** — дата публикации\n",
    "**floor** — этаж\n",
    "**floors_total** — всего этажей в доме\n",
    "**is_apartment** — апартаменты (булев тип)\n",
    "**kitchen_area** — площадь кухни в квадратных метрах (м²)\n",
    "**last_price** — цена на момент снятия с публикации\n",
    "**living_area** — жилая площадь в квадратных метрах (м²)\n",
    "**locality_name** — название населённого пункта\n",
    "**open_plan** — свободная планировка (булев тип)\n",
    "**parks_around3000** — число парков в радиусе 3 км\n",
    "**parks_nearest** — расстояние до ближайшего парка (м)\n",
    "**ponds_around3000** — число водоёмов в радиусе 3 км\n",
    "**ponds_nearest** — расстояние до ближайшего водоёма (м)\n",
    "**rooms** — число комнат\n",
    "**studio** — квартира-студия (булев тип)\n",
    "**total_area** — площадь квартиры в квадратных метрах (м²)\n",
    "**total_images** — число фотографий квартиры в объявлении\n",
    "\n",
    "В каждой строке таблицы представлены данные о объявлении по продаже квартиры. Предварительно, данных достаточно для ответа на поставленные вопросы. Однако до этого необходимо произвести предобработку данных"
   ]
  },
  {
   "cell_type": "markdown",
   "metadata": {},
   "source": [
    "## Предобработка данных"
   ]
  },
  {
   "cell_type": "markdown",
   "metadata": {},
   "source": [
    "### Обработка пропусков"
   ]
  },
  {
   "cell_type": "markdown",
   "metadata": {},
   "source": [
    "Для начала выведем общее количество пропусков в таблице"
   ]
  },
  {
   "cell_type": "code",
   "execution_count": 4,
   "metadata": {},
   "outputs": [
    {
     "name": "stdout",
     "output_type": "stream",
     "text": [
      "total_images                0\n",
      "last_price                  0\n",
      "total_area                  0\n",
      "first_day_exposition        0\n",
      "rooms                       0\n",
      "ceiling_height           9195\n",
      "floors_total               86\n",
      "living_area              1903\n",
      "floor                       0\n",
      "is_apartment            20924\n",
      "studio                      0\n",
      "open_plan                   0\n",
      "kitchen_area             2278\n",
      "balcony                 11519\n",
      "locality_name              49\n",
      "airports_nearest         5542\n",
      "cityCenters_nearest      5519\n",
      "parks_around3000         5518\n",
      "parks_nearest           15620\n",
      "ponds_around3000         5518\n",
      "ponds_nearest           14589\n",
      "days_exposition          3181\n",
      "dtype: int64\n"
     ]
    }
   ],
   "source": [
    "print(df.isna().sum())"
   ]
  },
  {
   "cell_type": "markdown",
   "metadata": {},
   "source": [
    "Пропусков в таблице много. Начнем с простого: скорее всего, пропуски в столбцах **balcony** появились ввиду отсутствия балкона в квартире, и их просто не указали в объявлении. Потому заменим пропуски на нулевые значения. "
   ]
  },
  {
   "cell_type": "code",
   "execution_count": 5,
   "metadata": {},
   "outputs": [
    {
     "name": "stdout",
     "output_type": "stream",
     "text": [
      "[0. 2. 1. 5. 4. 3.]\n"
     ]
    }
   ],
   "source": [
    "df['balcony'] = df['balcony'].fillna(0)\n",
    "print(df['balcony'].unique()) #выведем уникальные значения"
   ]
  },
  {
   "cell_type": "markdown",
   "metadata": {},
   "source": [
    "Количество балконов варируется от 0 до 5. Проверим объявления, где балконов больше трех, ибо квартира с площадью в 30 квадратных метров и пятью балконами звучит неправдоподобно"
   ]
  },
  {
   "cell_type": "code",
   "execution_count": 6,
   "metadata": {},
   "outputs": [
    {
     "data": {
      "text/html": [
       "<div>\n",
       "<style scoped>\n",
       "    .dataframe tbody tr th:only-of-type {\n",
       "        vertical-align: middle;\n",
       "    }\n",
       "\n",
       "    .dataframe tbody tr th {\n",
       "        vertical-align: top;\n",
       "    }\n",
       "\n",
       "    .dataframe thead th {\n",
       "        text-align: right;\n",
       "    }\n",
       "</style>\n",
       "<table border=\"1\" class=\"dataframe\">\n",
       "  <thead>\n",
       "    <tr style=\"text-align: right;\">\n",
       "      <th></th>\n",
       "      <th>total_images</th>\n",
       "      <th>last_price</th>\n",
       "      <th>total_area</th>\n",
       "      <th>first_day_exposition</th>\n",
       "      <th>rooms</th>\n",
       "      <th>ceiling_height</th>\n",
       "      <th>floors_total</th>\n",
       "      <th>living_area</th>\n",
       "      <th>floor</th>\n",
       "      <th>is_apartment</th>\n",
       "      <th>...</th>\n",
       "      <th>kitchen_area</th>\n",
       "      <th>balcony</th>\n",
       "      <th>locality_name</th>\n",
       "      <th>airports_nearest</th>\n",
       "      <th>cityCenters_nearest</th>\n",
       "      <th>parks_around3000</th>\n",
       "      <th>parks_nearest</th>\n",
       "      <th>ponds_around3000</th>\n",
       "      <th>ponds_nearest</th>\n",
       "      <th>days_exposition</th>\n",
       "    </tr>\n",
       "  </thead>\n",
       "  <tbody>\n",
       "    <tr>\n",
       "      <td>23363</td>\n",
       "      <td>10</td>\n",
       "      <td>4300000.0</td>\n",
       "      <td>52.00</td>\n",
       "      <td>2019-04-21T00:00:00</td>\n",
       "      <td>1</td>\n",
       "      <td>2.70</td>\n",
       "      <td>16.0</td>\n",
       "      <td>28.0</td>\n",
       "      <td>8</td>\n",
       "      <td>False</td>\n",
       "      <td>...</td>\n",
       "      <td>11.0</td>\n",
       "      <td>5.0</td>\n",
       "      <td>посёлок Мурино</td>\n",
       "      <td>NaN</td>\n",
       "      <td>NaN</td>\n",
       "      <td>NaN</td>\n",
       "      <td>NaN</td>\n",
       "      <td>NaN</td>\n",
       "      <td>NaN</td>\n",
       "      <td>NaN</td>\n",
       "    </tr>\n",
       "    <tr>\n",
       "      <td>23474</td>\n",
       "      <td>16</td>\n",
       "      <td>5900000.0</td>\n",
       "      <td>40.50</td>\n",
       "      <td>2019-03-16T00:00:00</td>\n",
       "      <td>2</td>\n",
       "      <td>2.73</td>\n",
       "      <td>17.0</td>\n",
       "      <td>31.0</td>\n",
       "      <td>16</td>\n",
       "      <td>NaN</td>\n",
       "      <td>...</td>\n",
       "      <td>5.0</td>\n",
       "      <td>4.0</td>\n",
       "      <td>Санкт-Петербург</td>\n",
       "      <td>19901.0</td>\n",
       "      <td>21613.0</td>\n",
       "      <td>0.0</td>\n",
       "      <td>NaN</td>\n",
       "      <td>1.0</td>\n",
       "      <td>1003.0</td>\n",
       "      <td>NaN</td>\n",
       "    </tr>\n",
       "    <tr>\n",
       "      <td>23497</td>\n",
       "      <td>17</td>\n",
       "      <td>6150000.0</td>\n",
       "      <td>55.40</td>\n",
       "      <td>2019-04-22T00:00:00</td>\n",
       "      <td>2</td>\n",
       "      <td>2.80</td>\n",
       "      <td>20.0</td>\n",
       "      <td>29.4</td>\n",
       "      <td>16</td>\n",
       "      <td>NaN</td>\n",
       "      <td>...</td>\n",
       "      <td>9.6</td>\n",
       "      <td>4.0</td>\n",
       "      <td>Санкт-Петербург</td>\n",
       "      <td>16285.0</td>\n",
       "      <td>13873.0</td>\n",
       "      <td>0.0</td>\n",
       "      <td>NaN</td>\n",
       "      <td>1.0</td>\n",
       "      <td>481.0</td>\n",
       "      <td>NaN</td>\n",
       "    </tr>\n",
       "    <tr>\n",
       "      <td>23526</td>\n",
       "      <td>14</td>\n",
       "      <td>5800000.0</td>\n",
       "      <td>60.69</td>\n",
       "      <td>2018-03-13T00:00:00</td>\n",
       "      <td>3</td>\n",
       "      <td>2.50</td>\n",
       "      <td>9.0</td>\n",
       "      <td>39.7</td>\n",
       "      <td>2</td>\n",
       "      <td>NaN</td>\n",
       "      <td>...</td>\n",
       "      <td>6.2</td>\n",
       "      <td>5.0</td>\n",
       "      <td>Санкт-Петербург</td>\n",
       "      <td>51239.0</td>\n",
       "      <td>15954.0</td>\n",
       "      <td>0.0</td>\n",
       "      <td>NaN</td>\n",
       "      <td>0.0</td>\n",
       "      <td>NaN</td>\n",
       "      <td>30.0</td>\n",
       "    </tr>\n",
       "    <tr>\n",
       "      <td>23549</td>\n",
       "      <td>5</td>\n",
       "      <td>19600000.0</td>\n",
       "      <td>184.00</td>\n",
       "      <td>2016-04-21T00:00:00</td>\n",
       "      <td>3</td>\n",
       "      <td>3.00</td>\n",
       "      <td>19.0</td>\n",
       "      <td>55.7</td>\n",
       "      <td>19</td>\n",
       "      <td>False</td>\n",
       "      <td>...</td>\n",
       "      <td>24.5</td>\n",
       "      <td>5.0</td>\n",
       "      <td>Санкт-Петербург</td>\n",
       "      <td>18995.0</td>\n",
       "      <td>4837.0</td>\n",
       "      <td>0.0</td>\n",
       "      <td>NaN</td>\n",
       "      <td>0.0</td>\n",
       "      <td>NaN</td>\n",
       "      <td>205.0</td>\n",
       "    </tr>\n",
       "  </tbody>\n",
       "</table>\n",
       "<p>5 rows × 22 columns</p>\n",
       "</div>"
      ],
      "text/plain": [
       "       total_images  last_price  total_area first_day_exposition  rooms  \\\n",
       "23363            10   4300000.0       52.00  2019-04-21T00:00:00      1   \n",
       "23474            16   5900000.0       40.50  2019-03-16T00:00:00      2   \n",
       "23497            17   6150000.0       55.40  2019-04-22T00:00:00      2   \n",
       "23526            14   5800000.0       60.69  2018-03-13T00:00:00      3   \n",
       "23549             5  19600000.0      184.00  2016-04-21T00:00:00      3   \n",
       "\n",
       "       ceiling_height  floors_total  living_area  floor is_apartment  ...  \\\n",
       "23363            2.70          16.0         28.0      8        False  ...   \n",
       "23474            2.73          17.0         31.0     16          NaN  ...   \n",
       "23497            2.80          20.0         29.4     16          NaN  ...   \n",
       "23526            2.50           9.0         39.7      2          NaN  ...   \n",
       "23549            3.00          19.0         55.7     19        False  ...   \n",
       "\n",
       "       kitchen_area  balcony    locality_name  airports_nearest  \\\n",
       "23363          11.0      5.0   посёлок Мурино               NaN   \n",
       "23474           5.0      4.0  Санкт-Петербург           19901.0   \n",
       "23497           9.6      4.0  Санкт-Петербург           16285.0   \n",
       "23526           6.2      5.0  Санкт-Петербург           51239.0   \n",
       "23549          24.5      5.0  Санкт-Петербург           18995.0   \n",
       "\n",
       "      cityCenters_nearest  parks_around3000  parks_nearest  ponds_around3000  \\\n",
       "23363                 NaN               NaN            NaN               NaN   \n",
       "23474             21613.0               0.0            NaN               1.0   \n",
       "23497             13873.0               0.0            NaN               1.0   \n",
       "23526             15954.0               0.0            NaN               0.0   \n",
       "23549              4837.0               0.0            NaN               0.0   \n",
       "\n",
       "       ponds_nearest  days_exposition  \n",
       "23363            NaN              NaN  \n",
       "23474         1003.0              NaN  \n",
       "23497          481.0              NaN  \n",
       "23526            NaN             30.0  \n",
       "23549            NaN            205.0  \n",
       "\n",
       "[5 rows x 22 columns]"
      ]
     },
     "metadata": {},
     "output_type": "display_data"
    }
   ],
   "source": [
    "display(df[df['balcony']>3].tail())"
   ]
  },
  {
   "cell_type": "markdown",
   "metadata": {},
   "source": [
    "\"Однушка\" с пятью балконами не вызывает доверия. Учтем это в случае необходимости, когда перейдем к самому анализу данных, а пока продолжим работу с пропусками"
   ]
  },
  {
   "cell_type": "markdown",
   "metadata": {},
   "source": [
    "Скорее всего, ситуация с пропусками в столбце **is_apartment** аналогична: пользователь просто пропустил эту графу, если его квартира не является апартаментами. Либо это графа появилась на сайте совсем недавно, и во всех предыдущих объявлениях она автоматически стала пропуском. Потому заменим пропуски на **False**"
   ]
  },
  {
   "cell_type": "code",
   "execution_count": 7,
   "metadata": {},
   "outputs": [],
   "source": [
    "df['is_apartment'] = df['is_apartment'].fillna(False)"
   ]
  },
  {
   "cell_type": "markdown",
   "metadata": {},
   "source": [
    "Далее разберемся с пропусками в столбце **ceiling_height**. Конечно, было бы проще, если бы мы знали год постройки, поскольку еще в царское время строили доходные дома (их особенно много в Петербурге), где высота потолков была от 3 метров, а в \"хрущевках\" же - 2,50. Но, поскольку этими данными мы не располагаем, заменим пропуски на медианное значение, что является допустимым для количественных переменных"
   ]
  },
  {
   "cell_type": "code",
   "execution_count": 8,
   "metadata": {},
   "outputs": [],
   "source": [
    "#df=df.dropna(subset=['ceiling_height']).reset_index(drop=True) - пробовал решить и таким способом\n",
    "df['ceiling_height'] = df['ceiling_height'].fillna(df['ceiling_height'].median())"
   ]
  },
  {
   "cell_type": "markdown",
   "metadata": {},
   "source": [
    "Далее разберемся с пропусками в столбе **floors_total**. К сожалению, от этого параметра впоследствии будет зависеть разделение на этажи: \"первый\", \"последний\" и \"другой\". Посчитать медиану в данном случае будет не верно, потому удалим значения.\n",
    "Также удалим пропуски в столбце **locality_name**, поскольку объявления без названия населенного пункта не являются информативными для пользователя."
   ]
  },
  {
   "cell_type": "code",
   "execution_count": 9,
   "metadata": {},
   "outputs": [
    {
     "name": "stdout",
     "output_type": "stream",
     "text": [
      "total_images                0\n",
      "last_price                  0\n",
      "total_area                  0\n",
      "first_day_exposition        0\n",
      "rooms                       0\n",
      "ceiling_height              0\n",
      "floors_total                0\n",
      "living_area              1865\n",
      "floor                       0\n",
      "is_apartment                0\n",
      "studio                      0\n",
      "open_plan                   0\n",
      "kitchen_area             2222\n",
      "balcony                     0\n",
      "locality_name               0\n",
      "airports_nearest         5524\n",
      "cityCenters_nearest      5501\n",
      "parks_around3000         5500\n",
      "parks_nearest           15535\n",
      "ponds_around3000         5500\n",
      "ponds_nearest           14529\n",
      "days_exposition          3171\n",
      "dtype: int64\n"
     ]
    }
   ],
   "source": [
    "df=df.dropna(subset=['floors_total', 'locality_name'])\n",
    "print(df.isna().sum()) #посмотрим на оставшиеся пропуски"
   ]
  },
  {
   "cell_type": "markdown",
   "metadata": {},
   "source": [
    "Видно, что в некоторых случаях количество пропусков либо совпадают, либо очень близко друг к другу. Скорее всего, данные ставит программа автоматически в зависимости от указанной локации на карте. Пропуски в этих столбцах пока оставим без изменения. \n",
    "Также поступим со столбцами **living_area** и **kitchen_area**. Поскольку планировка может быть сколь угодно разной, в том числе в зависимости от метража квартиры, будет не верно считать медианные или средние значения для замены пропусков. Потому продолжим предообработку данных"
   ]
  },
  {
   "cell_type": "markdown",
   "metadata": {},
   "source": [
    "**Вывод**"
   ]
  },
  {
   "cell_type": "markdown",
   "metadata": {},
   "source": [
    "В результате обработки пропусков, были удалены строки с отсутствием значений в столбцах **floors_total**, **days_exposition**, **locality_name**. В объявлениях, где не указано количество балконов, поставили нулевые значения. Аналогично поступили со столбцом **is_apartment**. Объявлений с пропусками в столбце **ceiling_height** почти 50% от общего числа, потому заменили пропуски на медианное значение"
   ]
  },
  {
   "cell_type": "markdown",
   "metadata": {},
   "source": [
    "### Замена типа данных"
   ]
  },
  {
   "cell_type": "markdown",
   "metadata": {},
   "source": [
    "Прежде, чем перейти к непосредственной замене типа данных в столбах, исправим название столбца **cityCenters_nearest**, приведя его к \"змеиному\" регистру, чтобы не \"резало\" глаза:"
   ]
  },
  {
   "cell_type": "code",
   "execution_count": 10,
   "metadata": {},
   "outputs": [
    {
     "data": {
      "text/html": [
       "<div>\n",
       "<style scoped>\n",
       "    .dataframe tbody tr th:only-of-type {\n",
       "        vertical-align: middle;\n",
       "    }\n",
       "\n",
       "    .dataframe tbody tr th {\n",
       "        vertical-align: top;\n",
       "    }\n",
       "\n",
       "    .dataframe thead th {\n",
       "        text-align: right;\n",
       "    }\n",
       "</style>\n",
       "<table border=\"1\" class=\"dataframe\">\n",
       "  <thead>\n",
       "    <tr style=\"text-align: right;\">\n",
       "      <th></th>\n",
       "      <th>total_images</th>\n",
       "      <th>last_price</th>\n",
       "      <th>total_area</th>\n",
       "      <th>first_day_exposition</th>\n",
       "      <th>rooms</th>\n",
       "      <th>ceiling_height</th>\n",
       "      <th>floors_total</th>\n",
       "      <th>living_area</th>\n",
       "      <th>floor</th>\n",
       "      <th>is_apartment</th>\n",
       "      <th>...</th>\n",
       "      <th>kitchen_area</th>\n",
       "      <th>balcony</th>\n",
       "      <th>locality_name</th>\n",
       "      <th>airports_nearest</th>\n",
       "      <th>city_centers_nearest</th>\n",
       "      <th>parks_around3000</th>\n",
       "      <th>parks_nearest</th>\n",
       "      <th>ponds_around3000</th>\n",
       "      <th>ponds_nearest</th>\n",
       "      <th>days_exposition</th>\n",
       "    </tr>\n",
       "  </thead>\n",
       "  <tbody>\n",
       "    <tr>\n",
       "      <td>0</td>\n",
       "      <td>20</td>\n",
       "      <td>13000000.0</td>\n",
       "      <td>108.0</td>\n",
       "      <td>2019-03-07T00:00:00</td>\n",
       "      <td>3</td>\n",
       "      <td>2.70</td>\n",
       "      <td>16.0</td>\n",
       "      <td>51.0</td>\n",
       "      <td>8</td>\n",
       "      <td>False</td>\n",
       "      <td>...</td>\n",
       "      <td>25.0</td>\n",
       "      <td>0.0</td>\n",
       "      <td>Санкт-Петербург</td>\n",
       "      <td>18863.0</td>\n",
       "      <td>16028.0</td>\n",
       "      <td>1.0</td>\n",
       "      <td>482.0</td>\n",
       "      <td>2.0</td>\n",
       "      <td>755.0</td>\n",
       "      <td>NaN</td>\n",
       "    </tr>\n",
       "    <tr>\n",
       "      <td>1</td>\n",
       "      <td>7</td>\n",
       "      <td>3350000.0</td>\n",
       "      <td>40.4</td>\n",
       "      <td>2018-12-04T00:00:00</td>\n",
       "      <td>1</td>\n",
       "      <td>2.65</td>\n",
       "      <td>11.0</td>\n",
       "      <td>18.6</td>\n",
       "      <td>1</td>\n",
       "      <td>False</td>\n",
       "      <td>...</td>\n",
       "      <td>11.0</td>\n",
       "      <td>2.0</td>\n",
       "      <td>посёлок Шушары</td>\n",
       "      <td>12817.0</td>\n",
       "      <td>18603.0</td>\n",
       "      <td>0.0</td>\n",
       "      <td>NaN</td>\n",
       "      <td>0.0</td>\n",
       "      <td>NaN</td>\n",
       "      <td>81.0</td>\n",
       "    </tr>\n",
       "    <tr>\n",
       "      <td>2</td>\n",
       "      <td>10</td>\n",
       "      <td>5196000.0</td>\n",
       "      <td>56.0</td>\n",
       "      <td>2015-08-20T00:00:00</td>\n",
       "      <td>2</td>\n",
       "      <td>2.65</td>\n",
       "      <td>5.0</td>\n",
       "      <td>34.3</td>\n",
       "      <td>4</td>\n",
       "      <td>False</td>\n",
       "      <td>...</td>\n",
       "      <td>8.3</td>\n",
       "      <td>0.0</td>\n",
       "      <td>Санкт-Петербург</td>\n",
       "      <td>21741.0</td>\n",
       "      <td>13933.0</td>\n",
       "      <td>1.0</td>\n",
       "      <td>90.0</td>\n",
       "      <td>2.0</td>\n",
       "      <td>574.0</td>\n",
       "      <td>558.0</td>\n",
       "    </tr>\n",
       "    <tr>\n",
       "      <td>3</td>\n",
       "      <td>0</td>\n",
       "      <td>64900000.0</td>\n",
       "      <td>159.0</td>\n",
       "      <td>2015-07-24T00:00:00</td>\n",
       "      <td>3</td>\n",
       "      <td>2.65</td>\n",
       "      <td>14.0</td>\n",
       "      <td>NaN</td>\n",
       "      <td>9</td>\n",
       "      <td>False</td>\n",
       "      <td>...</td>\n",
       "      <td>NaN</td>\n",
       "      <td>0.0</td>\n",
       "      <td>Санкт-Петербург</td>\n",
       "      <td>28098.0</td>\n",
       "      <td>6800.0</td>\n",
       "      <td>2.0</td>\n",
       "      <td>84.0</td>\n",
       "      <td>3.0</td>\n",
       "      <td>234.0</td>\n",
       "      <td>424.0</td>\n",
       "    </tr>\n",
       "    <tr>\n",
       "      <td>4</td>\n",
       "      <td>2</td>\n",
       "      <td>10000000.0</td>\n",
       "      <td>100.0</td>\n",
       "      <td>2018-06-19T00:00:00</td>\n",
       "      <td>2</td>\n",
       "      <td>3.03</td>\n",
       "      <td>14.0</td>\n",
       "      <td>32.0</td>\n",
       "      <td>13</td>\n",
       "      <td>False</td>\n",
       "      <td>...</td>\n",
       "      <td>41.0</td>\n",
       "      <td>0.0</td>\n",
       "      <td>Санкт-Петербург</td>\n",
       "      <td>31856.0</td>\n",
       "      <td>8098.0</td>\n",
       "      <td>2.0</td>\n",
       "      <td>112.0</td>\n",
       "      <td>1.0</td>\n",
       "      <td>48.0</td>\n",
       "      <td>121.0</td>\n",
       "    </tr>\n",
       "  </tbody>\n",
       "</table>\n",
       "<p>5 rows × 22 columns</p>\n",
       "</div>"
      ],
      "text/plain": [
       "   total_images  last_price  total_area first_day_exposition  rooms  \\\n",
       "0            20  13000000.0       108.0  2019-03-07T00:00:00      3   \n",
       "1             7   3350000.0        40.4  2018-12-04T00:00:00      1   \n",
       "2            10   5196000.0        56.0  2015-08-20T00:00:00      2   \n",
       "3             0  64900000.0       159.0  2015-07-24T00:00:00      3   \n",
       "4             2  10000000.0       100.0  2018-06-19T00:00:00      2   \n",
       "\n",
       "   ceiling_height  floors_total  living_area  floor  is_apartment  ...  \\\n",
       "0            2.70          16.0         51.0      8         False  ...   \n",
       "1            2.65          11.0         18.6      1         False  ...   \n",
       "2            2.65           5.0         34.3      4         False  ...   \n",
       "3            2.65          14.0          NaN      9         False  ...   \n",
       "4            3.03          14.0         32.0     13         False  ...   \n",
       "\n",
       "   kitchen_area  balcony    locality_name  airports_nearest  \\\n",
       "0          25.0      0.0  Санкт-Петербург           18863.0   \n",
       "1          11.0      2.0   посёлок Шушары           12817.0   \n",
       "2           8.3      0.0  Санкт-Петербург           21741.0   \n",
       "3           NaN      0.0  Санкт-Петербург           28098.0   \n",
       "4          41.0      0.0  Санкт-Петербург           31856.0   \n",
       "\n",
       "  city_centers_nearest  parks_around3000  parks_nearest  ponds_around3000  \\\n",
       "0              16028.0               1.0          482.0               2.0   \n",
       "1              18603.0               0.0            NaN               0.0   \n",
       "2              13933.0               1.0           90.0               2.0   \n",
       "3               6800.0               2.0           84.0               3.0   \n",
       "4               8098.0               2.0          112.0               1.0   \n",
       "\n",
       "   ponds_nearest  days_exposition  \n",
       "0          755.0              NaN  \n",
       "1            NaN             81.0  \n",
       "2          574.0            558.0  \n",
       "3          234.0            424.0  \n",
       "4           48.0            121.0  \n",
       "\n",
       "[5 rows x 22 columns]"
      ]
     },
     "metadata": {},
     "output_type": "display_data"
    }
   ],
   "source": [
    "df.rename(columns={ df.columns[16]: \"city_centers_nearest\" }, inplace = True)\n",
    "display(df.head())"
   ]
  },
  {
   "cell_type": "markdown",
   "metadata": {},
   "source": [
    "Выглядит явно лучше!\n",
    "Обратим внимание на столбец **first_day_exposition**. Здесь ограничимся точностью до дня, поскольку точное время не указано"
   ]
  },
  {
   "cell_type": "code",
   "execution_count": 11,
   "metadata": {},
   "outputs": [],
   "source": [
    "df['first_day_exposition'] = pd.to_datetime(df['first_day_exposition'], format = '%Y-%m-%d')"
   ]
  },
  {
   "cell_type": "markdown",
   "metadata": {},
   "source": [
    "Для каких-то данных (как например, высота потолков) логично оставить тип данных **float**, но для столбцов **last_price**, **balcony**, **floors_total**\t и **days_exposition** целесообразно верейти к формату целых чисел."
   ]
  },
  {
   "cell_type": "code",
   "execution_count": 12,
   "metadata": {},
   "outputs": [],
   "source": [
    "df[['last_price', 'floors_total', 'balcony']] = df[['last_price', 'floors_total', 'balcony']].astype('int')\n",
    "df['days_exposition']=df[df['days_exposition'].notnull()]['days_exposition'].astype('int')"
   ]
  },
  {
   "cell_type": "markdown",
   "metadata": {},
   "source": [
    "Конечно, имеет смысл перейти к целым числам и в столбцах с количеством парков/торговых центров/водоемов и расстоянием до них, но ввиду присутствия пропусков в таковых, опустим этом момент. Посмотрим на нашу таблицу перед тем, как перейти к последующим пунктам задания."
   ]
  },
  {
   "cell_type": "code",
   "execution_count": 13,
   "metadata": {},
   "outputs": [
    {
     "data": {
      "text/html": [
       "<div>\n",
       "<style scoped>\n",
       "    .dataframe tbody tr th:only-of-type {\n",
       "        vertical-align: middle;\n",
       "    }\n",
       "\n",
       "    .dataframe tbody tr th {\n",
       "        vertical-align: top;\n",
       "    }\n",
       "\n",
       "    .dataframe thead th {\n",
       "        text-align: right;\n",
       "    }\n",
       "</style>\n",
       "<table border=\"1\" class=\"dataframe\">\n",
       "  <thead>\n",
       "    <tr style=\"text-align: right;\">\n",
       "      <th></th>\n",
       "      <th>total_images</th>\n",
       "      <th>last_price</th>\n",
       "      <th>total_area</th>\n",
       "      <th>first_day_exposition</th>\n",
       "      <th>rooms</th>\n",
       "      <th>ceiling_height</th>\n",
       "      <th>floors_total</th>\n",
       "      <th>living_area</th>\n",
       "      <th>floor</th>\n",
       "      <th>is_apartment</th>\n",
       "      <th>...</th>\n",
       "      <th>kitchen_area</th>\n",
       "      <th>balcony</th>\n",
       "      <th>locality_name</th>\n",
       "      <th>airports_nearest</th>\n",
       "      <th>city_centers_nearest</th>\n",
       "      <th>parks_around3000</th>\n",
       "      <th>parks_nearest</th>\n",
       "      <th>ponds_around3000</th>\n",
       "      <th>ponds_nearest</th>\n",
       "      <th>days_exposition</th>\n",
       "    </tr>\n",
       "  </thead>\n",
       "  <tbody>\n",
       "    <tr>\n",
       "      <td>0</td>\n",
       "      <td>20</td>\n",
       "      <td>13000000</td>\n",
       "      <td>108.00</td>\n",
       "      <td>2019-03-07</td>\n",
       "      <td>3</td>\n",
       "      <td>2.70</td>\n",
       "      <td>16</td>\n",
       "      <td>51.00</td>\n",
       "      <td>8</td>\n",
       "      <td>False</td>\n",
       "      <td>...</td>\n",
       "      <td>25.00</td>\n",
       "      <td>0</td>\n",
       "      <td>Санкт-Петербург</td>\n",
       "      <td>18863.0</td>\n",
       "      <td>16028.0</td>\n",
       "      <td>1.0</td>\n",
       "      <td>482.0</td>\n",
       "      <td>2.0</td>\n",
       "      <td>755.0</td>\n",
       "      <td>NaN</td>\n",
       "    </tr>\n",
       "    <tr>\n",
       "      <td>1</td>\n",
       "      <td>7</td>\n",
       "      <td>3350000</td>\n",
       "      <td>40.40</td>\n",
       "      <td>2018-12-04</td>\n",
       "      <td>1</td>\n",
       "      <td>2.65</td>\n",
       "      <td>11</td>\n",
       "      <td>18.60</td>\n",
       "      <td>1</td>\n",
       "      <td>False</td>\n",
       "      <td>...</td>\n",
       "      <td>11.00</td>\n",
       "      <td>2</td>\n",
       "      <td>посёлок Шушары</td>\n",
       "      <td>12817.0</td>\n",
       "      <td>18603.0</td>\n",
       "      <td>0.0</td>\n",
       "      <td>NaN</td>\n",
       "      <td>0.0</td>\n",
       "      <td>NaN</td>\n",
       "      <td>81.0</td>\n",
       "    </tr>\n",
       "    <tr>\n",
       "      <td>2</td>\n",
       "      <td>10</td>\n",
       "      <td>5196000</td>\n",
       "      <td>56.00</td>\n",
       "      <td>2015-08-20</td>\n",
       "      <td>2</td>\n",
       "      <td>2.65</td>\n",
       "      <td>5</td>\n",
       "      <td>34.30</td>\n",
       "      <td>4</td>\n",
       "      <td>False</td>\n",
       "      <td>...</td>\n",
       "      <td>8.30</td>\n",
       "      <td>0</td>\n",
       "      <td>Санкт-Петербург</td>\n",
       "      <td>21741.0</td>\n",
       "      <td>13933.0</td>\n",
       "      <td>1.0</td>\n",
       "      <td>90.0</td>\n",
       "      <td>2.0</td>\n",
       "      <td>574.0</td>\n",
       "      <td>558.0</td>\n",
       "    </tr>\n",
       "    <tr>\n",
       "      <td>3</td>\n",
       "      <td>0</td>\n",
       "      <td>64900000</td>\n",
       "      <td>159.00</td>\n",
       "      <td>2015-07-24</td>\n",
       "      <td>3</td>\n",
       "      <td>2.65</td>\n",
       "      <td>14</td>\n",
       "      <td>NaN</td>\n",
       "      <td>9</td>\n",
       "      <td>False</td>\n",
       "      <td>...</td>\n",
       "      <td>NaN</td>\n",
       "      <td>0</td>\n",
       "      <td>Санкт-Петербург</td>\n",
       "      <td>28098.0</td>\n",
       "      <td>6800.0</td>\n",
       "      <td>2.0</td>\n",
       "      <td>84.0</td>\n",
       "      <td>3.0</td>\n",
       "      <td>234.0</td>\n",
       "      <td>424.0</td>\n",
       "    </tr>\n",
       "    <tr>\n",
       "      <td>4</td>\n",
       "      <td>2</td>\n",
       "      <td>10000000</td>\n",
       "      <td>100.00</td>\n",
       "      <td>2018-06-19</td>\n",
       "      <td>2</td>\n",
       "      <td>3.03</td>\n",
       "      <td>14</td>\n",
       "      <td>32.00</td>\n",
       "      <td>13</td>\n",
       "      <td>False</td>\n",
       "      <td>...</td>\n",
       "      <td>41.00</td>\n",
       "      <td>0</td>\n",
       "      <td>Санкт-Петербург</td>\n",
       "      <td>31856.0</td>\n",
       "      <td>8098.0</td>\n",
       "      <td>2.0</td>\n",
       "      <td>112.0</td>\n",
       "      <td>1.0</td>\n",
       "      <td>48.0</td>\n",
       "      <td>121.0</td>\n",
       "    </tr>\n",
       "    <tr>\n",
       "      <td>5</td>\n",
       "      <td>10</td>\n",
       "      <td>2890000</td>\n",
       "      <td>30.40</td>\n",
       "      <td>2018-09-10</td>\n",
       "      <td>1</td>\n",
       "      <td>2.65</td>\n",
       "      <td>12</td>\n",
       "      <td>14.40</td>\n",
       "      <td>5</td>\n",
       "      <td>False</td>\n",
       "      <td>...</td>\n",
       "      <td>9.10</td>\n",
       "      <td>0</td>\n",
       "      <td>городской посёлок Янино-1</td>\n",
       "      <td>NaN</td>\n",
       "      <td>NaN</td>\n",
       "      <td>NaN</td>\n",
       "      <td>NaN</td>\n",
       "      <td>NaN</td>\n",
       "      <td>NaN</td>\n",
       "      <td>55.0</td>\n",
       "    </tr>\n",
       "    <tr>\n",
       "      <td>6</td>\n",
       "      <td>6</td>\n",
       "      <td>3700000</td>\n",
       "      <td>37.30</td>\n",
       "      <td>2017-11-02</td>\n",
       "      <td>1</td>\n",
       "      <td>2.65</td>\n",
       "      <td>26</td>\n",
       "      <td>10.60</td>\n",
       "      <td>6</td>\n",
       "      <td>False</td>\n",
       "      <td>...</td>\n",
       "      <td>14.40</td>\n",
       "      <td>1</td>\n",
       "      <td>посёлок Парголово</td>\n",
       "      <td>52996.0</td>\n",
       "      <td>19143.0</td>\n",
       "      <td>0.0</td>\n",
       "      <td>NaN</td>\n",
       "      <td>0.0</td>\n",
       "      <td>NaN</td>\n",
       "      <td>155.0</td>\n",
       "    </tr>\n",
       "    <tr>\n",
       "      <td>7</td>\n",
       "      <td>5</td>\n",
       "      <td>7915000</td>\n",
       "      <td>71.60</td>\n",
       "      <td>2019-04-18</td>\n",
       "      <td>2</td>\n",
       "      <td>2.65</td>\n",
       "      <td>24</td>\n",
       "      <td>NaN</td>\n",
       "      <td>22</td>\n",
       "      <td>False</td>\n",
       "      <td>...</td>\n",
       "      <td>18.90</td>\n",
       "      <td>2</td>\n",
       "      <td>Санкт-Петербург</td>\n",
       "      <td>23982.0</td>\n",
       "      <td>11634.0</td>\n",
       "      <td>0.0</td>\n",
       "      <td>NaN</td>\n",
       "      <td>0.0</td>\n",
       "      <td>NaN</td>\n",
       "      <td>NaN</td>\n",
       "    </tr>\n",
       "    <tr>\n",
       "      <td>8</td>\n",
       "      <td>20</td>\n",
       "      <td>2900000</td>\n",
       "      <td>33.16</td>\n",
       "      <td>2018-05-23</td>\n",
       "      <td>1</td>\n",
       "      <td>2.65</td>\n",
       "      <td>27</td>\n",
       "      <td>15.43</td>\n",
       "      <td>26</td>\n",
       "      <td>False</td>\n",
       "      <td>...</td>\n",
       "      <td>8.81</td>\n",
       "      <td>0</td>\n",
       "      <td>посёлок Мурино</td>\n",
       "      <td>NaN</td>\n",
       "      <td>NaN</td>\n",
       "      <td>NaN</td>\n",
       "      <td>NaN</td>\n",
       "      <td>NaN</td>\n",
       "      <td>NaN</td>\n",
       "      <td>189.0</td>\n",
       "    </tr>\n",
       "    <tr>\n",
       "      <td>9</td>\n",
       "      <td>18</td>\n",
       "      <td>5400000</td>\n",
       "      <td>61.00</td>\n",
       "      <td>2017-02-26</td>\n",
       "      <td>3</td>\n",
       "      <td>2.50</td>\n",
       "      <td>9</td>\n",
       "      <td>43.60</td>\n",
       "      <td>7</td>\n",
       "      <td>False</td>\n",
       "      <td>...</td>\n",
       "      <td>6.50</td>\n",
       "      <td>2</td>\n",
       "      <td>Санкт-Петербург</td>\n",
       "      <td>50898.0</td>\n",
       "      <td>15008.0</td>\n",
       "      <td>0.0</td>\n",
       "      <td>NaN</td>\n",
       "      <td>0.0</td>\n",
       "      <td>NaN</td>\n",
       "      <td>289.0</td>\n",
       "    </tr>\n",
       "  </tbody>\n",
       "</table>\n",
       "<p>10 rows × 22 columns</p>\n",
       "</div>"
      ],
      "text/plain": [
       "   total_images  last_price  total_area first_day_exposition  rooms  \\\n",
       "0            20    13000000      108.00           2019-03-07      3   \n",
       "1             7     3350000       40.40           2018-12-04      1   \n",
       "2            10     5196000       56.00           2015-08-20      2   \n",
       "3             0    64900000      159.00           2015-07-24      3   \n",
       "4             2    10000000      100.00           2018-06-19      2   \n",
       "5            10     2890000       30.40           2018-09-10      1   \n",
       "6             6     3700000       37.30           2017-11-02      1   \n",
       "7             5     7915000       71.60           2019-04-18      2   \n",
       "8            20     2900000       33.16           2018-05-23      1   \n",
       "9            18     5400000       61.00           2017-02-26      3   \n",
       "\n",
       "   ceiling_height  floors_total  living_area  floor  is_apartment  ...  \\\n",
       "0            2.70            16        51.00      8         False  ...   \n",
       "1            2.65            11        18.60      1         False  ...   \n",
       "2            2.65             5        34.30      4         False  ...   \n",
       "3            2.65            14          NaN      9         False  ...   \n",
       "4            3.03            14        32.00     13         False  ...   \n",
       "5            2.65            12        14.40      5         False  ...   \n",
       "6            2.65            26        10.60      6         False  ...   \n",
       "7            2.65            24          NaN     22         False  ...   \n",
       "8            2.65            27        15.43     26         False  ...   \n",
       "9            2.50             9        43.60      7         False  ...   \n",
       "\n",
       "   kitchen_area  balcony              locality_name  airports_nearest  \\\n",
       "0         25.00        0            Санкт-Петербург           18863.0   \n",
       "1         11.00        2             посёлок Шушары           12817.0   \n",
       "2          8.30        0            Санкт-Петербург           21741.0   \n",
       "3           NaN        0            Санкт-Петербург           28098.0   \n",
       "4         41.00        0            Санкт-Петербург           31856.0   \n",
       "5          9.10        0  городской посёлок Янино-1               NaN   \n",
       "6         14.40        1          посёлок Парголово           52996.0   \n",
       "7         18.90        2            Санкт-Петербург           23982.0   \n",
       "8          8.81        0             посёлок Мурино               NaN   \n",
       "9          6.50        2            Санкт-Петербург           50898.0   \n",
       "\n",
       "  city_centers_nearest  parks_around3000  parks_nearest  ponds_around3000  \\\n",
       "0              16028.0               1.0          482.0               2.0   \n",
       "1              18603.0               0.0            NaN               0.0   \n",
       "2              13933.0               1.0           90.0               2.0   \n",
       "3               6800.0               2.0           84.0               3.0   \n",
       "4               8098.0               2.0          112.0               1.0   \n",
       "5                  NaN               NaN            NaN               NaN   \n",
       "6              19143.0               0.0            NaN               0.0   \n",
       "7              11634.0               0.0            NaN               0.0   \n",
       "8                  NaN               NaN            NaN               NaN   \n",
       "9              15008.0               0.0            NaN               0.0   \n",
       "\n",
       "   ponds_nearest  days_exposition  \n",
       "0          755.0              NaN  \n",
       "1            NaN             81.0  \n",
       "2          574.0            558.0  \n",
       "3          234.0            424.0  \n",
       "4           48.0            121.0  \n",
       "5            NaN             55.0  \n",
       "6            NaN            155.0  \n",
       "7            NaN              NaN  \n",
       "8            NaN            189.0  \n",
       "9            NaN            289.0  \n",
       "\n",
       "[10 rows x 22 columns]"
      ]
     },
     "metadata": {},
     "output_type": "display_data"
    }
   ],
   "source": [
    "display(df.head(10))"
   ]
  },
  {
   "cell_type": "markdown",
   "metadata": {},
   "source": [
    "**Вывод**"
   ]
  },
  {
   "cell_type": "markdown",
   "metadata": {},
   "source": [
    "Столбец **first_day_exposition** был переведен к временному формату. Также определенные столбцы привели к типу int."
   ]
  },
  {
   "cell_type": "markdown",
   "metadata": {},
   "source": [
    "## Расчёты и добавление результатов в таблицу"
   ]
  },
  {
   "cell_type": "markdown",
   "metadata": {},
   "source": [
    "Добавим цену квадратного метра в таблицу:"
   ]
  },
  {
   "cell_type": "code",
   "execution_count": 14,
   "metadata": {},
   "outputs": [],
   "source": [
    "df['price_per_meter'] = df['last_price']/df['total_area']\n",
    "df['price_per_meter'] = df['price_per_meter'].astype('int') #переведем для удобства к формату целых чисел"
   ]
  },
  {
   "cell_type": "markdown",
   "metadata": {},
   "source": [
    "Для каждого объявления опеределим день недели, месяц и год, в которые таковое было опубликовано:"
   ]
  },
  {
   "cell_type": "code",
   "execution_count": 15,
   "metadata": {},
   "outputs": [],
   "source": [
    "df['weekday_exposition'] = df['first_day_exposition'].dt.weekday\n",
    "df['month_exposition'] = df['first_day_exposition'].dt.month\n",
    "df['year_exposition'] = df['first_day_exposition'].dt.year"
   ]
  },
  {
   "cell_type": "markdown",
   "metadata": {},
   "source": [
    "Напишем функцию, которая будет определять этаж квартиры, выдавая результат \"первый\", \"последний\", \"другой\". Создадим столбец **floor_category**, куда поместим результат применения функции к столбцу **floor**"
   ]
  },
  {
   "cell_type": "code",
   "execution_count": 16,
   "metadata": {},
   "outputs": [],
   "source": [
    "def tell_me_the_floor(row):\n",
    "    floor = row['floor']\n",
    "    total = row['floors_total']\n",
    "    if floor == 1:\n",
    "        return 'первый'\n",
    "    if floor == total:\n",
    "        return 'последний'\n",
    "    elif 1 < floor < total:\n",
    "        return 'другой'\n",
    "    \n",
    "df['floor_category'] = df.apply(tell_me_the_floor, axis=1)   "
   ]
  },
  {
   "cell_type": "markdown",
   "metadata": {},
   "source": [
    "Определим соотношения жилой площади к общей и площади кухни к общей:"
   ]
  },
  {
   "cell_type": "code",
   "execution_count": 17,
   "metadata": {},
   "outputs": [],
   "source": [
    "df['living_area_ratio'] = df['living_area'] / df['total_area'] #соотношение жилой площади к общей\n",
    "df['kitchen_area_ratio'] = df['kitchen_area'] / df['total_area'] #соотношение площади кухни к жилой"
   ]
  },
  {
   "cell_type": "markdown",
   "metadata": {},
   "source": [
    "Посмотрим, как теперь выглядит наша таблица:"
   ]
  },
  {
   "cell_type": "code",
   "execution_count": 18,
   "metadata": {},
   "outputs": [
    {
     "data": {
      "text/html": [
       "<div>\n",
       "<style scoped>\n",
       "    .dataframe tbody tr th:only-of-type {\n",
       "        vertical-align: middle;\n",
       "    }\n",
       "\n",
       "    .dataframe tbody tr th {\n",
       "        vertical-align: top;\n",
       "    }\n",
       "\n",
       "    .dataframe thead th {\n",
       "        text-align: right;\n",
       "    }\n",
       "</style>\n",
       "<table border=\"1\" class=\"dataframe\">\n",
       "  <thead>\n",
       "    <tr style=\"text-align: right;\">\n",
       "      <th></th>\n",
       "      <th>total_images</th>\n",
       "      <th>last_price</th>\n",
       "      <th>total_area</th>\n",
       "      <th>first_day_exposition</th>\n",
       "      <th>rooms</th>\n",
       "      <th>ceiling_height</th>\n",
       "      <th>floors_total</th>\n",
       "      <th>living_area</th>\n",
       "      <th>floor</th>\n",
       "      <th>is_apartment</th>\n",
       "      <th>...</th>\n",
       "      <th>ponds_around3000</th>\n",
       "      <th>ponds_nearest</th>\n",
       "      <th>days_exposition</th>\n",
       "      <th>price_per_meter</th>\n",
       "      <th>weekday_exposition</th>\n",
       "      <th>month_exposition</th>\n",
       "      <th>year_exposition</th>\n",
       "      <th>floor_category</th>\n",
       "      <th>living_area_ratio</th>\n",
       "      <th>kitchen_area_ratio</th>\n",
       "    </tr>\n",
       "  </thead>\n",
       "  <tbody>\n",
       "    <tr>\n",
       "      <td>0</td>\n",
       "      <td>20</td>\n",
       "      <td>13000000</td>\n",
       "      <td>108.00</td>\n",
       "      <td>2019-03-07</td>\n",
       "      <td>3</td>\n",
       "      <td>2.70</td>\n",
       "      <td>16</td>\n",
       "      <td>51.00</td>\n",
       "      <td>8</td>\n",
       "      <td>False</td>\n",
       "      <td>...</td>\n",
       "      <td>2.0</td>\n",
       "      <td>755.0</td>\n",
       "      <td>NaN</td>\n",
       "      <td>120370</td>\n",
       "      <td>3</td>\n",
       "      <td>3</td>\n",
       "      <td>2019</td>\n",
       "      <td>другой</td>\n",
       "      <td>0.472222</td>\n",
       "      <td>0.231481</td>\n",
       "    </tr>\n",
       "    <tr>\n",
       "      <td>1</td>\n",
       "      <td>7</td>\n",
       "      <td>3350000</td>\n",
       "      <td>40.40</td>\n",
       "      <td>2018-12-04</td>\n",
       "      <td>1</td>\n",
       "      <td>2.65</td>\n",
       "      <td>11</td>\n",
       "      <td>18.60</td>\n",
       "      <td>1</td>\n",
       "      <td>False</td>\n",
       "      <td>...</td>\n",
       "      <td>0.0</td>\n",
       "      <td>NaN</td>\n",
       "      <td>81.0</td>\n",
       "      <td>82920</td>\n",
       "      <td>1</td>\n",
       "      <td>12</td>\n",
       "      <td>2018</td>\n",
       "      <td>первый</td>\n",
       "      <td>0.460396</td>\n",
       "      <td>0.272277</td>\n",
       "    </tr>\n",
       "    <tr>\n",
       "      <td>2</td>\n",
       "      <td>10</td>\n",
       "      <td>5196000</td>\n",
       "      <td>56.00</td>\n",
       "      <td>2015-08-20</td>\n",
       "      <td>2</td>\n",
       "      <td>2.65</td>\n",
       "      <td>5</td>\n",
       "      <td>34.30</td>\n",
       "      <td>4</td>\n",
       "      <td>False</td>\n",
       "      <td>...</td>\n",
       "      <td>2.0</td>\n",
       "      <td>574.0</td>\n",
       "      <td>558.0</td>\n",
       "      <td>92785</td>\n",
       "      <td>3</td>\n",
       "      <td>8</td>\n",
       "      <td>2015</td>\n",
       "      <td>другой</td>\n",
       "      <td>0.612500</td>\n",
       "      <td>0.148214</td>\n",
       "    </tr>\n",
       "    <tr>\n",
       "      <td>3</td>\n",
       "      <td>0</td>\n",
       "      <td>64900000</td>\n",
       "      <td>159.00</td>\n",
       "      <td>2015-07-24</td>\n",
       "      <td>3</td>\n",
       "      <td>2.65</td>\n",
       "      <td>14</td>\n",
       "      <td>NaN</td>\n",
       "      <td>9</td>\n",
       "      <td>False</td>\n",
       "      <td>...</td>\n",
       "      <td>3.0</td>\n",
       "      <td>234.0</td>\n",
       "      <td>424.0</td>\n",
       "      <td>408176</td>\n",
       "      <td>4</td>\n",
       "      <td>7</td>\n",
       "      <td>2015</td>\n",
       "      <td>другой</td>\n",
       "      <td>NaN</td>\n",
       "      <td>NaN</td>\n",
       "    </tr>\n",
       "    <tr>\n",
       "      <td>4</td>\n",
       "      <td>2</td>\n",
       "      <td>10000000</td>\n",
       "      <td>100.00</td>\n",
       "      <td>2018-06-19</td>\n",
       "      <td>2</td>\n",
       "      <td>3.03</td>\n",
       "      <td>14</td>\n",
       "      <td>32.00</td>\n",
       "      <td>13</td>\n",
       "      <td>False</td>\n",
       "      <td>...</td>\n",
       "      <td>1.0</td>\n",
       "      <td>48.0</td>\n",
       "      <td>121.0</td>\n",
       "      <td>100000</td>\n",
       "      <td>1</td>\n",
       "      <td>6</td>\n",
       "      <td>2018</td>\n",
       "      <td>другой</td>\n",
       "      <td>0.320000</td>\n",
       "      <td>0.410000</td>\n",
       "    </tr>\n",
       "    <tr>\n",
       "      <td>5</td>\n",
       "      <td>10</td>\n",
       "      <td>2890000</td>\n",
       "      <td>30.40</td>\n",
       "      <td>2018-09-10</td>\n",
       "      <td>1</td>\n",
       "      <td>2.65</td>\n",
       "      <td>12</td>\n",
       "      <td>14.40</td>\n",
       "      <td>5</td>\n",
       "      <td>False</td>\n",
       "      <td>...</td>\n",
       "      <td>NaN</td>\n",
       "      <td>NaN</td>\n",
       "      <td>55.0</td>\n",
       "      <td>95065</td>\n",
       "      <td>0</td>\n",
       "      <td>9</td>\n",
       "      <td>2018</td>\n",
       "      <td>другой</td>\n",
       "      <td>0.473684</td>\n",
       "      <td>0.299342</td>\n",
       "    </tr>\n",
       "    <tr>\n",
       "      <td>6</td>\n",
       "      <td>6</td>\n",
       "      <td>3700000</td>\n",
       "      <td>37.30</td>\n",
       "      <td>2017-11-02</td>\n",
       "      <td>1</td>\n",
       "      <td>2.65</td>\n",
       "      <td>26</td>\n",
       "      <td>10.60</td>\n",
       "      <td>6</td>\n",
       "      <td>False</td>\n",
       "      <td>...</td>\n",
       "      <td>0.0</td>\n",
       "      <td>NaN</td>\n",
       "      <td>155.0</td>\n",
       "      <td>99195</td>\n",
       "      <td>3</td>\n",
       "      <td>11</td>\n",
       "      <td>2017</td>\n",
       "      <td>другой</td>\n",
       "      <td>0.284182</td>\n",
       "      <td>0.386059</td>\n",
       "    </tr>\n",
       "    <tr>\n",
       "      <td>7</td>\n",
       "      <td>5</td>\n",
       "      <td>7915000</td>\n",
       "      <td>71.60</td>\n",
       "      <td>2019-04-18</td>\n",
       "      <td>2</td>\n",
       "      <td>2.65</td>\n",
       "      <td>24</td>\n",
       "      <td>NaN</td>\n",
       "      <td>22</td>\n",
       "      <td>False</td>\n",
       "      <td>...</td>\n",
       "      <td>0.0</td>\n",
       "      <td>NaN</td>\n",
       "      <td>NaN</td>\n",
       "      <td>110544</td>\n",
       "      <td>3</td>\n",
       "      <td>4</td>\n",
       "      <td>2019</td>\n",
       "      <td>другой</td>\n",
       "      <td>NaN</td>\n",
       "      <td>0.263966</td>\n",
       "    </tr>\n",
       "    <tr>\n",
       "      <td>8</td>\n",
       "      <td>20</td>\n",
       "      <td>2900000</td>\n",
       "      <td>33.16</td>\n",
       "      <td>2018-05-23</td>\n",
       "      <td>1</td>\n",
       "      <td>2.65</td>\n",
       "      <td>27</td>\n",
       "      <td>15.43</td>\n",
       "      <td>26</td>\n",
       "      <td>False</td>\n",
       "      <td>...</td>\n",
       "      <td>NaN</td>\n",
       "      <td>NaN</td>\n",
       "      <td>189.0</td>\n",
       "      <td>87454</td>\n",
       "      <td>2</td>\n",
       "      <td>5</td>\n",
       "      <td>2018</td>\n",
       "      <td>другой</td>\n",
       "      <td>0.465320</td>\n",
       "      <td>0.265682</td>\n",
       "    </tr>\n",
       "    <tr>\n",
       "      <td>9</td>\n",
       "      <td>18</td>\n",
       "      <td>5400000</td>\n",
       "      <td>61.00</td>\n",
       "      <td>2017-02-26</td>\n",
       "      <td>3</td>\n",
       "      <td>2.50</td>\n",
       "      <td>9</td>\n",
       "      <td>43.60</td>\n",
       "      <td>7</td>\n",
       "      <td>False</td>\n",
       "      <td>...</td>\n",
       "      <td>0.0</td>\n",
       "      <td>NaN</td>\n",
       "      <td>289.0</td>\n",
       "      <td>88524</td>\n",
       "      <td>6</td>\n",
       "      <td>2</td>\n",
       "      <td>2017</td>\n",
       "      <td>другой</td>\n",
       "      <td>0.714754</td>\n",
       "      <td>0.106557</td>\n",
       "    </tr>\n",
       "  </tbody>\n",
       "</table>\n",
       "<p>10 rows × 29 columns</p>\n",
       "</div>"
      ],
      "text/plain": [
       "   total_images  last_price  total_area first_day_exposition  rooms  \\\n",
       "0            20    13000000      108.00           2019-03-07      3   \n",
       "1             7     3350000       40.40           2018-12-04      1   \n",
       "2            10     5196000       56.00           2015-08-20      2   \n",
       "3             0    64900000      159.00           2015-07-24      3   \n",
       "4             2    10000000      100.00           2018-06-19      2   \n",
       "5            10     2890000       30.40           2018-09-10      1   \n",
       "6             6     3700000       37.30           2017-11-02      1   \n",
       "7             5     7915000       71.60           2019-04-18      2   \n",
       "8            20     2900000       33.16           2018-05-23      1   \n",
       "9            18     5400000       61.00           2017-02-26      3   \n",
       "\n",
       "   ceiling_height  floors_total  living_area  floor  is_apartment  ...  \\\n",
       "0            2.70            16        51.00      8         False  ...   \n",
       "1            2.65            11        18.60      1         False  ...   \n",
       "2            2.65             5        34.30      4         False  ...   \n",
       "3            2.65            14          NaN      9         False  ...   \n",
       "4            3.03            14        32.00     13         False  ...   \n",
       "5            2.65            12        14.40      5         False  ...   \n",
       "6            2.65            26        10.60      6         False  ...   \n",
       "7            2.65            24          NaN     22         False  ...   \n",
       "8            2.65            27        15.43     26         False  ...   \n",
       "9            2.50             9        43.60      7         False  ...   \n",
       "\n",
       "   ponds_around3000  ponds_nearest  days_exposition  price_per_meter  \\\n",
       "0               2.0          755.0              NaN           120370   \n",
       "1               0.0            NaN             81.0            82920   \n",
       "2               2.0          574.0            558.0            92785   \n",
       "3               3.0          234.0            424.0           408176   \n",
       "4               1.0           48.0            121.0           100000   \n",
       "5               NaN            NaN             55.0            95065   \n",
       "6               0.0            NaN            155.0            99195   \n",
       "7               0.0            NaN              NaN           110544   \n",
       "8               NaN            NaN            189.0            87454   \n",
       "9               0.0            NaN            289.0            88524   \n",
       "\n",
       "  weekday_exposition  month_exposition  year_exposition  floor_category  \\\n",
       "0                  3                 3             2019          другой   \n",
       "1                  1                12             2018          первый   \n",
       "2                  3                 8             2015          другой   \n",
       "3                  4                 7             2015          другой   \n",
       "4                  1                 6             2018          другой   \n",
       "5                  0                 9             2018          другой   \n",
       "6                  3                11             2017          другой   \n",
       "7                  3                 4             2019          другой   \n",
       "8                  2                 5             2018          другой   \n",
       "9                  6                 2             2017          другой   \n",
       "\n",
       "   living_area_ratio  kitchen_area_ratio  \n",
       "0           0.472222            0.231481  \n",
       "1           0.460396            0.272277  \n",
       "2           0.612500            0.148214  \n",
       "3                NaN                 NaN  \n",
       "4           0.320000            0.410000  \n",
       "5           0.473684            0.299342  \n",
       "6           0.284182            0.386059  \n",
       "7                NaN            0.263966  \n",
       "8           0.465320            0.265682  \n",
       "9           0.714754            0.106557  \n",
       "\n",
       "[10 rows x 29 columns]"
      ]
     },
     "metadata": {},
     "output_type": "display_data"
    }
   ],
   "source": [
    "display(df.head(10))"
   ]
  },
  {
   "cell_type": "markdown",
   "metadata": {},
   "source": [
    "У нас есть незаполненные значения в столбцах **living_area_ratio** и **kitchen_area_ratio**. их появление логично, поскольку возникли они только в тех столбцах, где не указаны размеры жилой площади и/или размеры кухни. Данные пропуски не критичны, поскольку прямых вопросов, связанных с этими параметрами нет"
   ]
  },
  {
   "cell_type": "markdown",
   "metadata": {},
   "source": [
    "**Вывод**"
   ]
  },
  {
   "cell_type": "markdown",
   "metadata": {},
   "source": [
    "В таблицу были добавлены:\n",
    "\n",
    "цена квадратного метра;\n",
    "день недели, месяц и год публикации объявления;\n",
    "этаж квартиры из вариантов — первый, последний, другой;\n",
    "соотношение жилой и общей площади, а также отношение площади кухни к общей."
   ]
  },
  {
   "cell_type": "markdown",
   "metadata": {},
   "source": [
    "## Исследовательский анализ данных"
   ]
  },
  {
   "cell_type": "markdown",
   "metadata": {},
   "source": [
    "Изучим площадь, цену, количество комнат и высоту потолков. Для каждого случая вызовем метод **describe()** и построим гистрограммы:"
   ]
  },
  {
   "cell_type": "code",
   "execution_count": 19,
   "metadata": {},
   "outputs": [
    {
     "data": {
      "text/plain": [
       "count   23,565.00\n",
       "mean        60.32\n",
       "std         35.66\n",
       "min         12.00\n",
       "25%         40.00\n",
       "50%         52.00\n",
       "75%         69.70\n",
       "max        900.00\n",
       "Name: total_area, dtype: float64"
      ]
     },
     "execution_count": 19,
     "metadata": {},
     "output_type": "execute_result"
    },
    {
     "data": {
      "image/png": "[encoded data removed]",
      "text/plain": [
       "<Figure size 432x288 with 1 Axes>"
      ]
     },
     "metadata": {
      "needs_background": "light"
     },
     "output_type": "display_data"
    }
   ],
   "source": [
    "import matplotlib.pyplot as plt #импортируем библиотеку, которая позволит нам строить сложные графики\n",
    "df['total_area'].plot(kind='hist', bins=100, title='Распределение объявлений в зависимости от площади квартиры', grid=True, range=(0,400))\n",
    "ax = plt.gca()\n",
    "ax.set_xlabel(\"Площадь квартиры, м²\", fontsize=12, color='blue')\n",
    "ax.set_ylabel(\"Количество объявлений, ед.\", fontsize=12, color='orange')\n",
    "pd.set_option('display.float_format', '{:,.2f}'.format)\n",
    "df['total_area'].describe()"
   ]
  },
  {
   "cell_type": "markdown",
   "metadata": {},
   "source": [
    "Мы получили распределение Пуассона. На первый взгляд - с данными все в порядке. Все площади квартир находятся в диапазоне от 12 до 900 м². Медианное значение - 50,8 м²"
   ]
  },
  {
   "cell_type": "code",
   "execution_count": 20,
   "metadata": {},
   "outputs": [
    {
     "data": {
      "text/plain": [
       "count        23,565.00\n",
       "mean      6,540,058.26\n",
       "std      10,910,934.72\n",
       "min          12,190.00\n",
       "25%       3,400,000.00\n",
       "50%       4,646,000.00\n",
       "75%       6,790,000.00\n",
       "max     763,000,000.00\n",
       "Name: last_price, dtype: float64"
      ]
     },
     "execution_count": 20,
     "metadata": {},
     "output_type": "execute_result"
    },
    {
     "data": {
      "image/png": "[encoded data removed]",
      "text/plain": [
       "<Figure size 432x288 with 1 Axes>"
      ]
     },
     "metadata": {
      "needs_background": "light"
     },
     "output_type": "display_data"
    }
   ],
   "source": [
    "df['last_price'].plot(kind='hist', title='Гистограмма цены', grid=True, bins=100, range=(20000,50000000))\n",
    "ax = plt.gca()\n",
    "ax.set_xlabel(\"Цена, руб.\", fontsize=12, color='blue')\n",
    "ax.set_ylabel(\"Количество объявлений, ед.\", fontsize=12, color='orange')\n",
    "df['last_price'].describe()"
   ]
  },
  {
   "cell_type": "markdown",
   "metadata": {},
   "source": [
    "Мы получили Гауссово распределение, что уже является хорошим знаком, но квартира за 12190 рублей не внушает доверия. Впоследствии избавимся от подобных значений"
   ]
  },
  {
   "cell_type": "code",
   "execution_count": 21,
   "metadata": {},
   "outputs": [
    {
     "data": {
      "text/plain": [
       "count   23,565.00\n",
       "mean         2.07\n",
       "std          1.08\n",
       "min          0.00\n",
       "25%          1.00\n",
       "50%          2.00\n",
       "75%          3.00\n",
       "max         19.00\n",
       "Name: rooms, dtype: float64"
      ]
     },
     "execution_count": 21,
     "metadata": {},
     "output_type": "execute_result"
    },
    {
     "data": {
      "image/png": "[encoded data removed]",
      "text/plain": [
       "<Figure size 432x288 with 1 Axes>"
      ]
     },
     "metadata": {
      "needs_background": "light"
     },
     "output_type": "display_data"
    }
   ],
   "source": [
    "df['rooms'].plot(kind='hist', title='Распределение объявлений в зависимости от числа комнат', grid=True, bins=8, range=(0,8))\n",
    "ax = plt.gca()\n",
    "ax.set_xlabel(\"Количество комнат, ед.\", fontsize=12, color='blue')\n",
    "ax.set_ylabel(\"Количество объявлений, ед.\", fontsize=12, color='orange')\n",
    "df['rooms'].describe()"
   ]
  },
  {
   "cell_type": "markdown",
   "metadata": {},
   "source": [
    "Конечно, 0 комнат - это что-то странное, но от выбивающихся значений мы избавимся позже. В целом, распределение выглядит правдоподобным: больше всего \"однушек\", далее \"двушки\" и тд."
   ]
  },
  {
   "cell_type": "code",
   "execution_count": 22,
   "metadata": {},
   "outputs": [
    {
     "data": {
      "text/plain": [
       "count   23,565.00\n",
       "mean         2.72\n",
       "std          0.99\n",
       "min          1.00\n",
       "25%          2.60\n",
       "50%          2.65\n",
       "75%          2.70\n",
       "max        100.00\n",
       "Name: ceiling_height, dtype: float64"
      ]
     },
     "execution_count": 22,
     "metadata": {},
     "output_type": "execute_result"
    },
    {
     "data": {
      "image/png": "[encoded data removed]",
      "text/plain": [
       "<Figure size 432x288 with 1 Axes>"
      ]
     },
     "metadata": {
      "needs_background": "light"
     },
     "output_type": "display_data"
    }
   ],
   "source": [
    "df['ceiling_height'].plot(kind = 'hist', bins=40, grid=True, range=(2.3,4))\n",
    "ax = plt.gca()\n",
    "ax.set_xlabel(\"Высота потолков, м\", fontsize=12, color='blue')\n",
    "ax.set_ylabel(\"Количество объявлений, ед.\", fontsize=12, color='orange')\n",
    "df['ceiling_height'].describe()"
   ]
  },
  {
   "cell_type": "markdown",
   "metadata": {},
   "source": [
    "На полученной гистограмме явно выделяется пик - это наша медиана, на которую мы заменяли пропуски. Конечно, такие значения, как 1 и 100 метров являются ошибочными. Поскольку первый и третий квартили расположены максимально близко к медиане, удаление с помощью \"ящика с усами\" корректным не будет, оно отбросит множество верных значений. Потому последующий отсев выбросов будем производить, опираясь на логические суждения."
   ]
  },
  {
   "cell_type": "markdown",
   "metadata": {},
   "source": [
    "Далее построим гистограмму времени продажи:"
   ]
  },
  {
   "cell_type": "code",
   "execution_count": 23,
   "metadata": {},
   "outputs": [
    {
     "data": {
      "text/plain": [
       "count   20,394.00\n",
       "mean       180.74\n",
       "std        219.73\n",
       "min          1.00\n",
       "25%         45.00\n",
       "50%         95.00\n",
       "75%        231.00\n",
       "max      1,580.00\n",
       "Name: days_exposition, dtype: float64"
      ]
     },
     "execution_count": 23,
     "metadata": {},
     "output_type": "execute_result"
    },
    {
     "data": {
      "image/png": "[encoded data removed]",
      "text/plain": [
       "<Figure size 432x288 with 1 Axes>"
      ]
     },
     "metadata": {
      "needs_background": "light"
     },
     "output_type": "display_data"
    }
   ],
   "source": [
    "df['days_exposition'].plot(kind='hist', title='Гистограмма по времени продажи квартиры', bins = 100, grid=True, range=(0,1500))\n",
    "ax = plt.gca()\n",
    "ax.set_xlabel(\"Дни закрытия сделки\", fontsize=12, color='blue')\n",
    "ax.set_ylabel(\"Количество объявлений, ед.\", fontsize=12, color='orange')\n",
    "df['days_exposition'].describe()"
   ]
  },
  {
   "cell_type": "markdown",
   "metadata": {},
   "source": [
    "Среднее время продажи - почти 181 день, медианное значение - 95 дней.\n",
    "На гистограмме видно несколько пиков. Изучим юолее подробно интервал от 0 до 200 дней:"
   ]
  },
  {
   "cell_type": "code",
   "execution_count": 24,
   "metadata": {},
   "outputs": [
    {
     "data": {
      "text/plain": [
       "<matplotlib.axes._subplots.AxesSubplot at 0x7f484b272710>"
      ]
     },
     "execution_count": 24,
     "metadata": {},
     "output_type": "execute_result"
    },
    {
     "data": {
      "image/png": "[encoded data removed]",
      "text/plain": [
       "<Figure size 432x288 with 1 Axes>"
      ]
     },
     "metadata": {
      "needs_background": "light"
     },
     "output_type": "display_data"
    }
   ],
   "source": [
    "df['days_exposition'].plot(kind='hist', title='Гистограмма по времени продажи квартиры', grid=True, bins = 100, range=(0,200))"
   ]
  },
  {
   "cell_type": "markdown",
   "metadata": {},
   "source": [
    "Значения для 45, 60 и 90 дней выбиваются из общей картины и выглядят аномальными. Для дальнейшей работы необходимо избавиться от выбросов:"
   ]
  },
  {
   "cell_type": "code",
   "execution_count": 25,
   "metadata": {},
   "outputs": [
    {
     "data": {
      "text/plain": [
       "count   18,777.00\n",
       "mean       191.52\n",
       "std        225.74\n",
       "min          1.00\n",
       "25%         41.00\n",
       "50%        110.00\n",
       "75%        252.00\n",
       "max      1,580.00\n",
       "Name: days_exposition, dtype: float64"
      ]
     },
     "execution_count": 25,
     "metadata": {},
     "output_type": "execute_result"
    },
    {
     "data": {
      "image/png": "[encoded data removed]",
      "text/plain": [
       "<Figure size 432x288 with 1 Axes>"
      ]
     },
     "metadata": {
      "needs_background": "light"
     },
     "output_type": "display_data"
    }
   ],
   "source": [
    "df = df.query('days_exposition != 45 and days_exposition != 60 and days_exposition != 90')\n",
    "df['days_exposition'].hist(bins = 100, range=(0,200))\n",
    "df['days_exposition'].describe()"
   ]
  },
  {
   "cell_type": "markdown",
   "metadata": {},
   "source": [
    "Среднее сремя продажи и медианное значение выросли. Построим теперь диаграмму размаха:"
   ]
  },
  {
   "cell_type": "code",
   "execution_count": 26,
   "metadata": {},
   "outputs": [
    {
     "data": {
      "text/plain": [
       "(1, 800)"
      ]
     },
     "execution_count": 26,
     "metadata": {},
     "output_type": "execute_result"
    },
    {
     "data": {
      "image/png": "[encoded data removed]",
      "text/plain": [
       "<Figure size 432x288 with 1 Axes>"
      ]
     },
     "metadata": {
      "needs_background": "light"
     },
     "output_type": "display_data"
    }
   ],
   "source": [
    "plt.boxplot(df[df['days_exposition'].notnull()]['days_exposition'])\n",
    "plt.ylim(1,800)"
   ]
  },
  {
   "cell_type": "markdown",
   "metadata": {},
   "source": [
    "Очень долгие продажи у нас находятся вне \"усов\". Таковыми считаются те объявления, время публикации которых выше 570 дней. Нижней границы у нас нет, потому все объявления, с продолжительностью публикации от 1 до 570 дней считаются нормальными."
   ]
  },
  {
   "cell_type": "code",
   "execution_count": 27,
   "metadata": {},
   "outputs": [],
   "source": [
    "df = df[df['days_exposition'] < 570]"
   ]
  },
  {
   "cell_type": "markdown",
   "metadata": {},
   "source": [
    "Выше, когда мы изучали гистограммы цены, количества комнат, высоты потолков и общей площади, мы заметили подозрительные значения. Опираясь на тот же самый IQR и логику, составим список значений, которые мы считаем подозрительными:\n",
    "1) Начнем с количества комнат: Естественно, \"прощаемся\" с объявлениями, где 0 комнат. Q1 = 1, Q3 = 3. \n",
    "Значит, 1,5*IQR=1,5*(3-1)=3. Q3+3=6. Следовательно, квартиры с более, чем 6 комнатами, мы также отсеем.\n",
    "\n",
    "2) Квартиры дешевле 1 000 000 рублей также не внушают доверия (сами знаем, где бесплатный сыр), потому от них мы тоже избавимся.\n",
    "Аналогично найдем межквартильный интервал и отметим, что верхний диапазон цены будет равен 11 150 000.\n",
    "\n",
    "3) С площадью нижнюю границу ставить не будем. Сейчас делают сколь угодно маленькие студии (особенно в центре СПБ, разбивая одну большую коммуналку на множество студий по 15 м²). А вот верхнюю границу интервала найдем таким же способом, как и в предыдущих пунктах. Она будет равна 111 м².\n",
    "\n",
    "4) Разобраться подобным образом с высотой потолков мешает наша медиана. Когда будем считать зависимость цены от высоты потолков, уберем и ее, а пока возьмем доверительный интервал от 2,3 м до 4,5 метров"
   ]
  },
  {
   "cell_type": "code",
   "execution_count": 28,
   "metadata": {},
   "outputs": [
    {
     "name": "stdout",
     "output_type": "stream",
     "text": [
      "<class 'pandas.core.frame.DataFrame'>\n",
      "Int64Index: 15627 entries, 1 to 23693\n",
      "Data columns (total 29 columns):\n",
      "total_images            15627 non-null int64\n",
      "last_price              15627 non-null int64\n",
      "total_area              15627 non-null float64\n",
      "first_day_exposition    15627 non-null datetime64[ns]\n",
      "rooms                   15627 non-null int64\n",
      "ceiling_height          15627 non-null float64\n",
      "floors_total            15627 non-null int64\n",
      "living_area             14753 non-null float64\n",
      "floor                   15627 non-null int64\n",
      "is_apartment            15627 non-null bool\n",
      "studio                  15627 non-null bool\n",
      "open_plan               15627 non-null bool\n",
      "kitchen_area            14564 non-null float64\n",
      "balcony                 15627 non-null int64\n",
      "locality_name           15627 non-null object\n",
      "airports_nearest        12054 non-null float64\n",
      "city_centers_nearest    12065 non-null float64\n",
      "parks_around3000        12065 non-null float64\n",
      "parks_nearest           4949 non-null float64\n",
      "ponds_around3000        12065 non-null float64\n",
      "ponds_nearest           5676 non-null float64\n",
      "days_exposition         15627 non-null float64\n",
      "price_per_meter         15627 non-null int64\n",
      "weekday_exposition      15627 non-null int64\n",
      "month_exposition        15627 non-null int64\n",
      "year_exposition         15627 non-null int64\n",
      "floor_category          15627 non-null object\n",
      "living_area_ratio       14753 non-null float64\n",
      "kitchen_area_ratio      14564 non-null float64\n",
      "dtypes: bool(3), datetime64[ns](1), float64(13), int64(10), object(2)\n",
      "memory usage: 3.3+ MB\n"
     ]
    }
   ],
   "source": [
    "df = df[(df['rooms'] <7) & (df['rooms'] >0) & (df['last_price'] < 11150000) & (df['last_price'] > 1000000) & (df['total_area'] < 111) & (df['ceiling_height'] < 4.5) & (df['ceiling_height'] > 2.3)]\n",
    "df.info()"
   ]
  },
  {
   "cell_type": "markdown",
   "metadata": {},
   "source": [
    "Мы удалили достаточно большую часть данных, но последующий анализ будет куда правильнее без аномальных значений!\n",
    "А теперь изучим, как цена влияет от определнных факторов. Для этого необходимо посчитать корреляцию цены и интересующих нас параметров."
   ]
  },
  {
   "cell_type": "code",
   "execution_count": 29,
   "metadata": {},
   "outputs": [
    {
     "data": {
      "text/html": [
       "<div>\n",
       "<style scoped>\n",
       "    .dataframe tbody tr th:only-of-type {\n",
       "        vertical-align: middle;\n",
       "    }\n",
       "\n",
       "    .dataframe tbody tr th {\n",
       "        vertical-align: top;\n",
       "    }\n",
       "\n",
       "    .dataframe thead th {\n",
       "        text-align: right;\n",
       "    }\n",
       "</style>\n",
       "<table border=\"1\" class=\"dataframe\">\n",
       "  <thead>\n",
       "    <tr style=\"text-align: right;\">\n",
       "      <th></th>\n",
       "      <th>total_area</th>\n",
       "      <th>rooms</th>\n",
       "      <th>city_centers_nearest</th>\n",
       "      <th>last_price</th>\n",
       "      <th>price_per_meter</th>\n",
       "    </tr>\n",
       "  </thead>\n",
       "  <tbody>\n",
       "    <tr>\n",
       "      <td>total_area</td>\n",
       "      <td>1.00</td>\n",
       "      <td>0.80</td>\n",
       "      <td>-0.11</td>\n",
       "      <td>0.70</td>\n",
       "      <td>-0.12</td>\n",
       "    </tr>\n",
       "    <tr>\n",
       "      <td>rooms</td>\n",
       "      <td>0.80</td>\n",
       "      <td>1.00</td>\n",
       "      <td>-0.07</td>\n",
       "      <td>0.44</td>\n",
       "      <td>-0.26</td>\n",
       "    </tr>\n",
       "    <tr>\n",
       "      <td>city_centers_nearest</td>\n",
       "      <td>-0.11</td>\n",
       "      <td>-0.07</td>\n",
       "      <td>1.00</td>\n",
       "      <td>-0.34</td>\n",
       "      <td>-0.40</td>\n",
       "    </tr>\n",
       "    <tr>\n",
       "      <td>last_price</td>\n",
       "      <td>0.70</td>\n",
       "      <td>0.44</td>\n",
       "      <td>-0.34</td>\n",
       "      <td>1.00</td>\n",
       "      <td>0.59</td>\n",
       "    </tr>\n",
       "    <tr>\n",
       "      <td>price_per_meter</td>\n",
       "      <td>-0.12</td>\n",
       "      <td>-0.26</td>\n",
       "      <td>-0.40</td>\n",
       "      <td>0.59</td>\n",
       "      <td>1.00</td>\n",
       "    </tr>\n",
       "  </tbody>\n",
       "</table>\n",
       "</div>"
      ],
      "text/plain": [
       "                      total_area  rooms  city_centers_nearest  last_price  \\\n",
       "total_area                  1.00   0.80                 -0.11        0.70   \n",
       "rooms                       0.80   1.00                 -0.07        0.44   \n",
       "city_centers_nearest       -0.11  -0.07                  1.00       -0.34   \n",
       "last_price                  0.70   0.44                 -0.34        1.00   \n",
       "price_per_meter            -0.12  -0.26                 -0.40        0.59   \n",
       "\n",
       "                      price_per_meter  \n",
       "total_area                      -0.12  \n",
       "rooms                           -0.26  \n",
       "city_centers_nearest            -0.40  \n",
       "last_price                       0.59  \n",
       "price_per_meter                  1.00  "
      ]
     },
     "metadata": {},
     "output_type": "display_data"
    }
   ],
   "source": [
    "df_corr = df[[\n",
    "    'total_area',\n",
    "    'rooms',\n",
    "    'city_centers_nearest',\n",
    "    'last_price',\n",
    "    'price_per_meter'\n",
    "]].corr()\n",
    "display(df_corr)"
   ]
  },
  {
   "cell_type": "markdown",
   "metadata": {},
   "source": [
    "Что мы получили:\n",
    "Цена зависит от площади, что вполне логично: чем больше площадь квартиры, тем выше цена на нее.\n",
    "Количество комнат зависит от площади квартиры, потому вполне логично, что цена зависит и от количества комнат.\n",
    "А вот с расстоянием до центра города все иначе: корреляция мала, но при этом отрицательна. То есть, чем больше расстояние до центра, тем ниже цена.\n",
    "\n",
    "Если говорить о цене за квадратный метр, то в случае с расстоянием до центра города, ситуация аналогична. Близкая к нулю с отрицательной стороны корреляция в парах \"цена за квадратный метр - общая площадь\" и \"цена за квадратный метр - количество комнат\". Тоже логичный результат, поскольку \"двушка\" с площадью 60 м² стоит дешевле, чем две однушки по 30 м² "
   ]
  },
  {
   "cell_type": "markdown",
   "metadata": {},
   "source": [
    "Разберемся теперь с тем, как зависит цена от этажа:"
   ]
  },
  {
   "cell_type": "code",
   "execution_count": 30,
   "metadata": {},
   "outputs": [
    {
     "data": {
      "text/html": [
       "<div>\n",
       "<style scoped>\n",
       "    .dataframe tbody tr th:only-of-type {\n",
       "        vertical-align: middle;\n",
       "    }\n",
       "\n",
       "    .dataframe tbody tr th {\n",
       "        vertical-align: top;\n",
       "    }\n",
       "\n",
       "    .dataframe thead tr th {\n",
       "        text-align: left;\n",
       "    }\n",
       "\n",
       "    .dataframe thead tr:last-of-type th {\n",
       "        text-align: right;\n",
       "    }\n",
       "</style>\n",
       "<table border=\"1\" class=\"dataframe\">\n",
       "  <thead>\n",
       "    <tr>\n",
       "      <th></th>\n",
       "      <th colspan=\"2\" halign=\"left\">mean</th>\n",
       "      <th colspan=\"2\" halign=\"left\">median</th>\n",
       "    </tr>\n",
       "    <tr>\n",
       "      <th></th>\n",
       "      <th>last_price</th>\n",
       "      <th>price_per_meter</th>\n",
       "      <th>last_price</th>\n",
       "      <th>price_per_meter</th>\n",
       "    </tr>\n",
       "    <tr>\n",
       "      <th>floor_category</th>\n",
       "      <th></th>\n",
       "      <th></th>\n",
       "      <th></th>\n",
       "      <th></th>\n",
       "    </tr>\n",
       "  </thead>\n",
       "  <tbody>\n",
       "    <tr>\n",
       "      <td>другой</td>\n",
       "      <td>4,897,086.43</td>\n",
       "      <td>95,723.56</td>\n",
       "      <td>4500000</td>\n",
       "      <td>95454</td>\n",
       "    </tr>\n",
       "    <tr>\n",
       "      <td>первый</td>\n",
       "      <td>4,086,916.86</td>\n",
       "      <td>80,245.01</td>\n",
       "      <td>3800000</td>\n",
       "      <td>81096</td>\n",
       "    </tr>\n",
       "    <tr>\n",
       "      <td>последний</td>\n",
       "      <td>4,442,470.42</td>\n",
       "      <td>85,607.51</td>\n",
       "      <td>4050000</td>\n",
       "      <td>86687</td>\n",
       "    </tr>\n",
       "  </tbody>\n",
       "</table>\n",
       "</div>"
      ],
      "text/plain": [
       "                       mean                     median                \n",
       "                 last_price price_per_meter last_price price_per_meter\n",
       "floor_category                                                        \n",
       "другой         4,897,086.43       95,723.56    4500000           95454\n",
       "первый         4,086,916.86       80,245.01    3800000           81096\n",
       "последний      4,442,470.42       85,607.51    4050000           86687"
      ]
     },
     "metadata": {},
     "output_type": "display_data"
    }
   ],
   "source": [
    "df_floor = df.pivot_table(index = 'floor_category', values = ['last_price', 'price_per_meter'], aggfunc = ['mean', 'median'])\n",
    "display(df_floor)"
   ]
  },
  {
   "cell_type": "markdown",
   "metadata": {},
   "source": [
    "Все получилось весьма логично: дешевле всего квадратный метр стоит на первом этаже (у всех на виду, может \"дуть\" из сходной двери в дом в морозы, вопрос безопасности и прочие). Следом идет цена за квадратный метр на последнем этаже (летом - жарко, зачастую капает с крыши, не всегда есть лифт и тд). Дороже всего квадратный метр стоит на не первом и не последнем этажах. Поскольку мы удалили аномальные значения, для анализа можно использовать и среднее, и медиану (они будут максимально близки друг к другу)"
   ]
  },
  {
   "cell_type": "markdown",
   "metadata": {},
   "source": [
    "Теперь изучим зависимость цены в зависимости от даты размещения. В предыдущих вариантах мы обращали внимание на общую цену. Скорее, для полноты картины. На самом деле, для исследования нам достаточно цены за квадратный метр. В этом пункте ей и ограничимся:"
   ]
  },
  {
   "cell_type": "code",
   "execution_count": 31,
   "metadata": {},
   "outputs": [
    {
     "data": {
      "text/html": [
       "<div>\n",
       "<style scoped>\n",
       "    .dataframe tbody tr th:only-of-type {\n",
       "        vertical-align: middle;\n",
       "    }\n",
       "\n",
       "    .dataframe tbody tr th {\n",
       "        vertical-align: top;\n",
       "    }\n",
       "\n",
       "    .dataframe thead th {\n",
       "        text-align: right;\n",
       "    }\n",
       "</style>\n",
       "<table border=\"1\" class=\"dataframe\">\n",
       "  <thead>\n",
       "    <tr style=\"text-align: right;\">\n",
       "      <th></th>\n",
       "      <th>price_per_meter</th>\n",
       "    </tr>\n",
       "    <tr>\n",
       "      <th>weekday_exposition</th>\n",
       "      <th></th>\n",
       "    </tr>\n",
       "  </thead>\n",
       "  <tbody>\n",
       "    <tr>\n",
       "      <td>0</td>\n",
       "      <td>92,483.57</td>\n",
       "    </tr>\n",
       "    <tr>\n",
       "      <td>1</td>\n",
       "      <td>92,234.65</td>\n",
       "    </tr>\n",
       "    <tr>\n",
       "      <td>2</td>\n",
       "      <td>92,957.56</td>\n",
       "    </tr>\n",
       "    <tr>\n",
       "      <td>3</td>\n",
       "      <td>92,658.32</td>\n",
       "    </tr>\n",
       "    <tr>\n",
       "      <td>4</td>\n",
       "      <td>92,255.00</td>\n",
       "    </tr>\n",
       "    <tr>\n",
       "      <td>5</td>\n",
       "      <td>92,542.45</td>\n",
       "    </tr>\n",
       "    <tr>\n",
       "      <td>6</td>\n",
       "      <td>92,166.78</td>\n",
       "    </tr>\n",
       "  </tbody>\n",
       "</table>\n",
       "</div>"
      ],
      "text/plain": [
       "                    price_per_meter\n",
       "weekday_exposition                 \n",
       "0                         92,483.57\n",
       "1                         92,234.65\n",
       "2                         92,957.56\n",
       "3                         92,658.32\n",
       "4                         92,255.00\n",
       "5                         92,542.45\n",
       "6                         92,166.78"
      ]
     },
     "metadata": {},
     "output_type": "display_data"
    },
    {
     "data": {
      "text/html": [
       "<div>\n",
       "<style scoped>\n",
       "    .dataframe tbody tr th:only-of-type {\n",
       "        vertical-align: middle;\n",
       "    }\n",
       "\n",
       "    .dataframe tbody tr th {\n",
       "        vertical-align: top;\n",
       "    }\n",
       "\n",
       "    .dataframe thead th {\n",
       "        text-align: right;\n",
       "    }\n",
       "</style>\n",
       "<table border=\"1\" class=\"dataframe\">\n",
       "  <thead>\n",
       "    <tr style=\"text-align: right;\">\n",
       "      <th></th>\n",
       "      <th>price_per_meter</th>\n",
       "    </tr>\n",
       "    <tr>\n",
       "      <th>month_exposition</th>\n",
       "      <th></th>\n",
       "    </tr>\n",
       "  </thead>\n",
       "  <tbody>\n",
       "    <tr>\n",
       "      <td>1</td>\n",
       "      <td>93,207.79</td>\n",
       "    </tr>\n",
       "    <tr>\n",
       "      <td>2</td>\n",
       "      <td>92,319.83</td>\n",
       "    </tr>\n",
       "    <tr>\n",
       "      <td>3</td>\n",
       "      <td>92,713.99</td>\n",
       "    </tr>\n",
       "    <tr>\n",
       "      <td>4</td>\n",
       "      <td>91,998.11</td>\n",
       "    </tr>\n",
       "    <tr>\n",
       "      <td>5</td>\n",
       "      <td>92,784.18</td>\n",
       "    </tr>\n",
       "    <tr>\n",
       "      <td>6</td>\n",
       "      <td>90,632.06</td>\n",
       "    </tr>\n",
       "    <tr>\n",
       "      <td>7</td>\n",
       "      <td>92,316.34</td>\n",
       "    </tr>\n",
       "    <tr>\n",
       "      <td>8</td>\n",
       "      <td>94,204.91</td>\n",
       "    </tr>\n",
       "    <tr>\n",
       "      <td>9</td>\n",
       "      <td>94,044.26</td>\n",
       "    </tr>\n",
       "    <tr>\n",
       "      <td>10</td>\n",
       "      <td>91,935.33</td>\n",
       "    </tr>\n",
       "    <tr>\n",
       "      <td>11</td>\n",
       "      <td>92,268.43</td>\n",
       "    </tr>\n",
       "    <tr>\n",
       "      <td>12</td>\n",
       "      <td>91,578.12</td>\n",
       "    </tr>\n",
       "  </tbody>\n",
       "</table>\n",
       "</div>"
      ],
      "text/plain": [
       "                  price_per_meter\n",
       "month_exposition                 \n",
       "1                       93,207.79\n",
       "2                       92,319.83\n",
       "3                       92,713.99\n",
       "4                       91,998.11\n",
       "5                       92,784.18\n",
       "6                       90,632.06\n",
       "7                       92,316.34\n",
       "8                       94,204.91\n",
       "9                       94,044.26\n",
       "10                      91,935.33\n",
       "11                      92,268.43\n",
       "12                      91,578.12"
      ]
     },
     "metadata": {},
     "output_type": "display_data"
    },
    {
     "data": {
      "text/html": [
       "<div>\n",
       "<style scoped>\n",
       "    .dataframe tbody tr th:only-of-type {\n",
       "        vertical-align: middle;\n",
       "    }\n",
       "\n",
       "    .dataframe tbody tr th {\n",
       "        vertical-align: top;\n",
       "    }\n",
       "\n",
       "    .dataframe thead th {\n",
       "        text-align: right;\n",
       "    }\n",
       "</style>\n",
       "<table border=\"1\" class=\"dataframe\">\n",
       "  <thead>\n",
       "    <tr style=\"text-align: right;\">\n",
       "      <th></th>\n",
       "      <th>price_per_meter</th>\n",
       "    </tr>\n",
       "    <tr>\n",
       "      <th>year_exposition</th>\n",
       "      <th></th>\n",
       "    </tr>\n",
       "  </thead>\n",
       "  <tbody>\n",
       "    <tr>\n",
       "      <td>2014</td>\n",
       "      <td>92,805.67</td>\n",
       "    </tr>\n",
       "    <tr>\n",
       "      <td>2015</td>\n",
       "      <td>89,092.21</td>\n",
       "    </tr>\n",
       "    <tr>\n",
       "      <td>2016</td>\n",
       "      <td>89,816.55</td>\n",
       "    </tr>\n",
       "    <tr>\n",
       "      <td>2017</td>\n",
       "      <td>90,541.98</td>\n",
       "    </tr>\n",
       "    <tr>\n",
       "      <td>2018</td>\n",
       "      <td>93,911.71</td>\n",
       "    </tr>\n",
       "    <tr>\n",
       "      <td>2019</td>\n",
       "      <td>103,555.87</td>\n",
       "    </tr>\n",
       "  </tbody>\n",
       "</table>\n",
       "</div>"
      ],
      "text/plain": [
       "                 price_per_meter\n",
       "year_exposition                 \n",
       "2014                   92,805.67\n",
       "2015                   89,092.21\n",
       "2016                   89,816.55\n",
       "2017                   90,541.98\n",
       "2018                   93,911.71\n",
       "2019                  103,555.87"
      ]
     },
     "metadata": {},
     "output_type": "display_data"
    }
   ],
   "source": [
    "df_day_exposition = df.pivot_table(index = 'weekday_exposition', values='price_per_meter')\n",
    "df_month_exposition = df.pivot_table(index = 'month_exposition', values='price_per_meter')\n",
    "df_year_exposition = df.pivot_table(index = 'year_exposition', values='price_per_meter')\n",
    "display(df_day_exposition)\n",
    "display(df_month_exposition)\n",
    "display(df_year_exposition)"
   ]
  },
  {
   "cell_type": "code",
   "execution_count": 32,
   "metadata": {},
   "outputs": [
    {
     "data": {
      "text/plain": [
       "<matplotlib.axes._subplots.AxesSubplot at 0x7f484bffc110>"
      ]
     },
     "execution_count": 32,
     "metadata": {},
     "output_type": "execute_result"
    },
    {
     "data": {
      "image/png": "[encoded data removed]",
      "text/plain": [
       "<Figure size 432x288 with 1 Axes>"
      ]
     },
     "metadata": {
      "needs_background": "light"
     },
     "output_type": "display_data"
    },
    {
     "data": {
      "image/png": "[encoded data removed]",
      "text/plain": [
       "<Figure size 432x288 with 1 Axes>"
      ]
     },
     "metadata": {
      "needs_background": "light"
     },
     "output_type": "display_data"
    },
    {
     "data": {
      "image/png": "[encoded data removed]",
      "text/plain": [
       "<Figure size 432x288 with 1 Axes>"
      ]
     },
     "metadata": {
      "needs_background": "light"
     },
     "output_type": "display_data"
    }
   ],
   "source": [
    "df_day_exposition.plot( y = 'price_per_meter')\n",
    "df_month_exposition.plot( y = 'price_per_meter')\n",
    "df_year_exposition.plot( y = 'price_per_meter')"
   ]
  },
  {
   "cell_type": "markdown",
   "metadata": {},
   "source": [
    "Изменение цены за квадратный метр в течение недели находится в пределах 1000 руб. То есть, не зависит от этого параметра.\n",
    "\n",
    "В случае изменения таковой по месяцам - к восьмому месяцу она заметно возрастает. Я считаю, это связано с началом учебного года - многие переезжают в Петербург учиться с разных городов России. Ввиду увиличения спроса, возрастают и цены на покупку и съем квартир в это время. Ближе к октябрю ценник \"нормализуется\" и до июня остается почти неизменным. В июне же многие студенты выпускаются из университетов и достаточно часто переезжают, потому предложение превышает спрос в этот месяц.\n",
    "\n",
    "Динамика по годам тоже выглядит вполне логично: инфляция; цены растут на все, в том числе и на квартиры."
   ]
  },
  {
   "cell_type": "markdown",
   "metadata": {},
   "source": [
    "Далее выберем 10 наиболее часто встречающихся населенных пунктов:"
   ]
  },
  {
   "cell_type": "code",
   "execution_count": 33,
   "metadata": {},
   "outputs": [
    {
     "name": "stdout",
     "output_type": "stream",
     "text": [
      "                   count       mean\n",
      "locality_name                      \n",
      "Санкт-Петербург    10255 103,978.89\n",
      "посёлок Мурино       433  85,164.33\n",
      "посёлок Шушары       348  77,687.04\n",
      "Всеволожск           274  66,590.54\n",
      "Колпино              261  74,727.77\n",
      "посёлок Парголово    251  89,646.22\n",
      "Пушкин               244  99,205.88\n",
      "деревня Кудрово      229  91,949.84\n",
      "Гатчина              219  68,127.42\n",
      "Выборг               157  57,696.96\n"
     ]
    }
   ],
   "source": [
    "df_ten = df.pivot_table(index = 'locality_name', values = 'price_per_meter', aggfunc = ['count', 'mean']) \n",
    "df_ten.columns = ['count', 'mean'] #переименуем столбцы\n",
    "df_ten = df_ten.sort_values(by = 'count', ascending = False).head(10)\n",
    "print(df_ten)"
   ]
  },
  {
   "cell_type": "markdown",
   "metadata": {},
   "source": [
    "Выведем на экран строки с населенными пунктами с максимальной и минимальной средней ценой за квадратный метр:"
   ]
  },
  {
   "cell_type": "code",
   "execution_count": 34,
   "metadata": {},
   "outputs": [
    {
     "name": "stdout",
     "output_type": "stream",
     "text": [
      "                 count       mean\n",
      "locality_name                    \n",
      "Санкт-Петербург  10255 103,978.89\n",
      "               count      mean\n",
      "locality_name                 \n",
      "Выборг           157 57,696.96\n"
     ]
    }
   ],
   "source": [
    "print(df_ten[df_ten['mean'] == df_ten['mean'].max()])\n",
    "print(df_ten[df_ten['mean'] == df_ten['mean'].min()])"
   ]
  },
  {
   "cell_type": "markdown",
   "metadata": {},
   "source": [
    "Из десяти самых часто встречаемых городов в объявлениях, самой дорогой средней ценой за квадратный метр обладает Санкт-Петурбург - почти 104000 рублей. Самой низкой - Выборг. Здесь цена составляет примерно 57500 рублей."
   ]
  },
  {
   "cell_type": "markdown",
   "metadata": {},
   "source": [
    "Далее выясним, какая область квартир входит в центре Санкт-Петербурга. Создадим новый датафрейм, где будут только квартиры из этого города."
   ]
  },
  {
   "cell_type": "code",
   "execution_count": 35,
   "metadata": {},
   "outputs": [
    {
     "data": {
      "text/html": [
       "<div>\n",
       "<style scoped>\n",
       "    .dataframe tbody tr th:only-of-type {\n",
       "        vertical-align: middle;\n",
       "    }\n",
       "\n",
       "    .dataframe tbody tr th {\n",
       "        vertical-align: top;\n",
       "    }\n",
       "\n",
       "    .dataframe thead th {\n",
       "        text-align: right;\n",
       "    }\n",
       "</style>\n",
       "<table border=\"1\" class=\"dataframe\">\n",
       "  <thead>\n",
       "    <tr style=\"text-align: right;\">\n",
       "      <th></th>\n",
       "      <th>total_images</th>\n",
       "      <th>last_price</th>\n",
       "      <th>total_area</th>\n",
       "      <th>first_day_exposition</th>\n",
       "      <th>rooms</th>\n",
       "      <th>ceiling_height</th>\n",
       "      <th>floors_total</th>\n",
       "      <th>living_area</th>\n",
       "      <th>floor</th>\n",
       "      <th>is_apartment</th>\n",
       "      <th>...</th>\n",
       "      <th>ponds_nearest</th>\n",
       "      <th>days_exposition</th>\n",
       "      <th>price_per_meter</th>\n",
       "      <th>weekday_exposition</th>\n",
       "      <th>month_exposition</th>\n",
       "      <th>year_exposition</th>\n",
       "      <th>floor_category</th>\n",
       "      <th>living_area_ratio</th>\n",
       "      <th>kitchen_area_ratio</th>\n",
       "      <th>city_centers_km</th>\n",
       "    </tr>\n",
       "  </thead>\n",
       "  <tbody>\n",
       "    <tr>\n",
       "      <td>0</td>\n",
       "      <td>10</td>\n",
       "      <td>5196000</td>\n",
       "      <td>56.00</td>\n",
       "      <td>2015-08-20</td>\n",
       "      <td>2</td>\n",
       "      <td>2.65</td>\n",
       "      <td>5</td>\n",
       "      <td>34.30</td>\n",
       "      <td>4</td>\n",
       "      <td>False</td>\n",
       "      <td>...</td>\n",
       "      <td>574.00</td>\n",
       "      <td>558.00</td>\n",
       "      <td>92785</td>\n",
       "      <td>3</td>\n",
       "      <td>8</td>\n",
       "      <td>2015</td>\n",
       "      <td>другой</td>\n",
       "      <td>0.61</td>\n",
       "      <td>0.15</td>\n",
       "      <td>14</td>\n",
       "    </tr>\n",
       "    <tr>\n",
       "      <td>1</td>\n",
       "      <td>2</td>\n",
       "      <td>10000000</td>\n",
       "      <td>100.00</td>\n",
       "      <td>2018-06-19</td>\n",
       "      <td>2</td>\n",
       "      <td>3.03</td>\n",
       "      <td>14</td>\n",
       "      <td>32.00</td>\n",
       "      <td>13</td>\n",
       "      <td>False</td>\n",
       "      <td>...</td>\n",
       "      <td>48.00</td>\n",
       "      <td>121.00</td>\n",
       "      <td>100000</td>\n",
       "      <td>1</td>\n",
       "      <td>6</td>\n",
       "      <td>2018</td>\n",
       "      <td>другой</td>\n",
       "      <td>0.32</td>\n",
       "      <td>0.41</td>\n",
       "      <td>8</td>\n",
       "    </tr>\n",
       "    <tr>\n",
       "      <td>2</td>\n",
       "      <td>18</td>\n",
       "      <td>5400000</td>\n",
       "      <td>61.00</td>\n",
       "      <td>2017-02-26</td>\n",
       "      <td>3</td>\n",
       "      <td>2.50</td>\n",
       "      <td>9</td>\n",
       "      <td>43.60</td>\n",
       "      <td>7</td>\n",
       "      <td>False</td>\n",
       "      <td>...</td>\n",
       "      <td>nan</td>\n",
       "      <td>289.00</td>\n",
       "      <td>88524</td>\n",
       "      <td>6</td>\n",
       "      <td>2</td>\n",
       "      <td>2017</td>\n",
       "      <td>другой</td>\n",
       "      <td>0.71</td>\n",
       "      <td>0.11</td>\n",
       "      <td>15</td>\n",
       "    </tr>\n",
       "    <tr>\n",
       "      <td>3</td>\n",
       "      <td>5</td>\n",
       "      <td>5050000</td>\n",
       "      <td>39.60</td>\n",
       "      <td>2017-11-16</td>\n",
       "      <td>1</td>\n",
       "      <td>2.67</td>\n",
       "      <td>12</td>\n",
       "      <td>20.30</td>\n",
       "      <td>3</td>\n",
       "      <td>False</td>\n",
       "      <td>...</td>\n",
       "      <td>553.00</td>\n",
       "      <td>137.00</td>\n",
       "      <td>127525</td>\n",
       "      <td>3</td>\n",
       "      <td>11</td>\n",
       "      <td>2017</td>\n",
       "      <td>другой</td>\n",
       "      <td>0.51</td>\n",
       "      <td>0.21</td>\n",
       "      <td>14</td>\n",
       "    </tr>\n",
       "    <tr>\n",
       "      <td>4</td>\n",
       "      <td>16</td>\n",
       "      <td>4650000</td>\n",
       "      <td>39.00</td>\n",
       "      <td>2017-11-18</td>\n",
       "      <td>1</td>\n",
       "      <td>2.65</td>\n",
       "      <td>14</td>\n",
       "      <td>20.50</td>\n",
       "      <td>5</td>\n",
       "      <td>False</td>\n",
       "      <td>...</td>\n",
       "      <td>296.00</td>\n",
       "      <td>19.00</td>\n",
       "      <td>119230</td>\n",
       "      <td>5</td>\n",
       "      <td>11</td>\n",
       "      <td>2017</td>\n",
       "      <td>другой</td>\n",
       "      <td>0.53</td>\n",
       "      <td>0.19</td>\n",
       "      <td>14</td>\n",
       "    </tr>\n",
       "    <tr>\n",
       "      <td>...</td>\n",
       "      <td>...</td>\n",
       "      <td>...</td>\n",
       "      <td>...</td>\n",
       "      <td>...</td>\n",
       "      <td>...</td>\n",
       "      <td>...</td>\n",
       "      <td>...</td>\n",
       "      <td>...</td>\n",
       "      <td>...</td>\n",
       "      <td>...</td>\n",
       "      <td>...</td>\n",
       "      <td>...</td>\n",
       "      <td>...</td>\n",
       "      <td>...</td>\n",
       "      <td>...</td>\n",
       "      <td>...</td>\n",
       "      <td>...</td>\n",
       "      <td>...</td>\n",
       "      <td>...</td>\n",
       "      <td>...</td>\n",
       "      <td>...</td>\n",
       "    </tr>\n",
       "    <tr>\n",
       "      <td>10237</td>\n",
       "      <td>6</td>\n",
       "      <td>3200000</td>\n",
       "      <td>39.00</td>\n",
       "      <td>2017-12-16</td>\n",
       "      <td>1</td>\n",
       "      <td>2.65</td>\n",
       "      <td>9</td>\n",
       "      <td>20.00</td>\n",
       "      <td>6</td>\n",
       "      <td>False</td>\n",
       "      <td>...</td>\n",
       "      <td>nan</td>\n",
       "      <td>38.00</td>\n",
       "      <td>82051</td>\n",
       "      <td>5</td>\n",
       "      <td>12</td>\n",
       "      <td>2017</td>\n",
       "      <td>другой</td>\n",
       "      <td>0.51</td>\n",
       "      <td>0.28</td>\n",
       "      <td>17</td>\n",
       "    </tr>\n",
       "    <tr>\n",
       "      <td>10238</td>\n",
       "      <td>19</td>\n",
       "      <td>9200000</td>\n",
       "      <td>101.00</td>\n",
       "      <td>2019-04-01</td>\n",
       "      <td>3</td>\n",
       "      <td>3.05</td>\n",
       "      <td>15</td>\n",
       "      <td>63.00</td>\n",
       "      <td>12</td>\n",
       "      <td>False</td>\n",
       "      <td>...</td>\n",
       "      <td>nan</td>\n",
       "      <td>23.00</td>\n",
       "      <td>91089</td>\n",
       "      <td>0</td>\n",
       "      <td>4</td>\n",
       "      <td>2019</td>\n",
       "      <td>другой</td>\n",
       "      <td>0.62</td>\n",
       "      <td>0.15</td>\n",
       "      <td>14</td>\n",
       "    </tr>\n",
       "    <tr>\n",
       "      <td>10239</td>\n",
       "      <td>13</td>\n",
       "      <td>3550000</td>\n",
       "      <td>35.30</td>\n",
       "      <td>2018-02-28</td>\n",
       "      <td>1</td>\n",
       "      <td>2.86</td>\n",
       "      <td>15</td>\n",
       "      <td>16.30</td>\n",
       "      <td>4</td>\n",
       "      <td>False</td>\n",
       "      <td>...</td>\n",
       "      <td>652.00</td>\n",
       "      <td>29.00</td>\n",
       "      <td>100566</td>\n",
       "      <td>2</td>\n",
       "      <td>2</td>\n",
       "      <td>2018</td>\n",
       "      <td>другой</td>\n",
       "      <td>0.46</td>\n",
       "      <td>0.26</td>\n",
       "      <td>16</td>\n",
       "    </tr>\n",
       "    <tr>\n",
       "      <td>10240</td>\n",
       "      <td>3</td>\n",
       "      <td>5500000</td>\n",
       "      <td>52.00</td>\n",
       "      <td>2018-07-19</td>\n",
       "      <td>2</td>\n",
       "      <td>2.65</td>\n",
       "      <td>5</td>\n",
       "      <td>31.00</td>\n",
       "      <td>2</td>\n",
       "      <td>False</td>\n",
       "      <td>...</td>\n",
       "      <td>nan</td>\n",
       "      <td>15.00</td>\n",
       "      <td>105769</td>\n",
       "      <td>3</td>\n",
       "      <td>7</td>\n",
       "      <td>2018</td>\n",
       "      <td>другой</td>\n",
       "      <td>0.60</td>\n",
       "      <td>0.12</td>\n",
       "      <td>6</td>\n",
       "    </tr>\n",
       "    <tr>\n",
       "      <td>10241</td>\n",
       "      <td>11</td>\n",
       "      <td>9470000</td>\n",
       "      <td>72.90</td>\n",
       "      <td>2016-10-13</td>\n",
       "      <td>2</td>\n",
       "      <td>2.75</td>\n",
       "      <td>25</td>\n",
       "      <td>40.30</td>\n",
       "      <td>7</td>\n",
       "      <td>False</td>\n",
       "      <td>...</td>\n",
       "      <td>806.00</td>\n",
       "      <td>519.00</td>\n",
       "      <td>129903</td>\n",
       "      <td>3</td>\n",
       "      <td>10</td>\n",
       "      <td>2016</td>\n",
       "      <td>другой</td>\n",
       "      <td>0.55</td>\n",
       "      <td>0.15</td>\n",
       "      <td>4</td>\n",
       "    </tr>\n",
       "  </tbody>\n",
       "</table>\n",
       "<p>10242 rows × 30 columns</p>\n",
       "</div>"
      ],
      "text/plain": [
       "       total_images  last_price  total_area first_day_exposition  rooms  \\\n",
       "0                10     5196000       56.00           2015-08-20      2   \n",
       "1                 2    10000000      100.00           2018-06-19      2   \n",
       "2                18     5400000       61.00           2017-02-26      3   \n",
       "3                 5     5050000       39.60           2017-11-16      1   \n",
       "4                16     4650000       39.00           2017-11-18      1   \n",
       "...             ...         ...         ...                  ...    ...   \n",
       "10237             6     3200000       39.00           2017-12-16      1   \n",
       "10238            19     9200000      101.00           2019-04-01      3   \n",
       "10239            13     3550000       35.30           2018-02-28      1   \n",
       "10240             3     5500000       52.00           2018-07-19      2   \n",
       "10241            11     9470000       72.90           2016-10-13      2   \n",
       "\n",
       "       ceiling_height  floors_total  living_area  floor  is_apartment  ...  \\\n",
       "0                2.65             5        34.30      4         False  ...   \n",
       "1                3.03            14        32.00     13         False  ...   \n",
       "2                2.50             9        43.60      7         False  ...   \n",
       "3                2.67            12        20.30      3         False  ...   \n",
       "4                2.65            14        20.50      5         False  ...   \n",
       "...               ...           ...          ...    ...           ...  ...   \n",
       "10237            2.65             9        20.00      6         False  ...   \n",
       "10238            3.05            15        63.00     12         False  ...   \n",
       "10239            2.86            15        16.30      4         False  ...   \n",
       "10240            2.65             5        31.00      2         False  ...   \n",
       "10241            2.75            25        40.30      7         False  ...   \n",
       "\n",
       "       ponds_nearest  days_exposition  price_per_meter  weekday_exposition  \\\n",
       "0             574.00           558.00            92785                   3   \n",
       "1              48.00           121.00           100000                   1   \n",
       "2                nan           289.00            88524                   6   \n",
       "3             553.00           137.00           127525                   3   \n",
       "4             296.00            19.00           119230                   5   \n",
       "...              ...              ...              ...                 ...   \n",
       "10237            nan            38.00            82051                   5   \n",
       "10238            nan            23.00            91089                   0   \n",
       "10239         652.00            29.00           100566                   2   \n",
       "10240            nan            15.00           105769                   3   \n",
       "10241         806.00           519.00           129903                   3   \n",
       "\n",
       "      month_exposition  year_exposition  floor_category  living_area_ratio  \\\n",
       "0                    8             2015          другой               0.61   \n",
       "1                    6             2018          другой               0.32   \n",
       "2                    2             2017          другой               0.71   \n",
       "3                   11             2017          другой               0.51   \n",
       "4                   11             2017          другой               0.53   \n",
       "...                ...              ...             ...                ...   \n",
       "10237               12             2017          другой               0.51   \n",
       "10238                4             2019          другой               0.62   \n",
       "10239                2             2018          другой               0.46   \n",
       "10240                7             2018          другой               0.60   \n",
       "10241               10             2016          другой               0.55   \n",
       "\n",
       "       kitchen_area_ratio  city_centers_km  \n",
       "0                    0.15               14  \n",
       "1                    0.41                8  \n",
       "2                    0.11               15  \n",
       "3                    0.21               14  \n",
       "4                    0.19               14  \n",
       "...                   ...              ...  \n",
       "10237                0.28               17  \n",
       "10238                0.15               14  \n",
       "10239                0.26               16  \n",
       "10240                0.12                6  \n",
       "10241                0.15                4  \n",
       "\n",
       "[10242 rows x 30 columns]"
      ]
     },
     "metadata": {},
     "output_type": "display_data"
    }
   ],
   "source": [
    "df_spb = df[df['locality_name'] == 'Санкт-Петербург']\n",
    "df_spb = df_spb.dropna(subset=['city_centers_nearest']).reset_index(drop=True)\n",
    "df_spb['city_centers_km'] = round(df_spb['city_centers_nearest']/1000,0)\n",
    "df_spb['city_centers_km'] = df_spb['city_centers_km'].astype('int')\n",
    "display(df_spb)"
   ]
  },
  {
   "cell_type": "markdown",
   "metadata": {},
   "source": [
    "Создадим сводную таблицу, где для каждого километра будет указана средняя цена за квадратный метр:"
   ]
  },
  {
   "cell_type": "code",
   "execution_count": 36,
   "metadata": {},
   "outputs": [
    {
     "name": "stdout",
     "output_type": "stream",
     "text": [
      "                 price_per_meter\n",
      "city_centers_km                 \n",
      "0                     116,347.86\n",
      "1                     119,804.20\n",
      "2                     115,566.48\n",
      "3                     107,008.62\n",
      "4                     114,878.34\n",
      "5                     120,255.84\n",
      "6                     120,797.02\n",
      "7                     113,801.98\n",
      "8                     113,519.71\n",
      "9                     105,117.13\n",
      "10                    107,217.67\n",
      "11                    102,432.28\n",
      "12                    104,687.79\n",
      "13                    104,565.59\n",
      "14                    102,154.93\n",
      "15                    101,122.12\n",
      "16                     97,870.73\n",
      "17                     95,080.61\n",
      "18                     95,255.31\n",
      "19                     97,127.75\n",
      "20                     99,436.15\n",
      "21                     89,925.51\n",
      "22                     89,776.05\n",
      "23                     88,281.86\n",
      "24                     82,440.25\n",
      "25                     92,613.48\n",
      "26                     87,269.16\n",
      "27                     70,312.00\n",
      "28                     83,277.17\n",
      "29                     75,325.00\n"
     ]
    }
   ],
   "source": [
    "df_km_price = df_spb.pivot_table(index = 'city_centers_km', values = 'price_per_meter', aggfunc='mean')\n",
    "print(df_km_price)"
   ]
  },
  {
   "cell_type": "markdown",
   "metadata": {},
   "source": [
    "Выведем график зависимости цены от расстояния до центра:"
   ]
  },
  {
   "cell_type": "code",
   "execution_count": 37,
   "metadata": {},
   "outputs": [
    {
     "data": {
      "text/plain": [
       "<matplotlib.axes._subplots.AxesSubplot at 0x7f484c306990>"
      ]
     },
     "execution_count": 37,
     "metadata": {},
     "output_type": "execute_result"
    },
    {
     "data": {
      "image/png": "[encoded data removed]",
      "text/plain": [
       "<Figure size 432x288 with 1 Axes>"
      ]
     },
     "metadata": {
      "needs_background": "light"
     },
     "output_type": "display_data"
    }
   ],
   "source": [
    "df_km_price.plot()"
   ]
  },
  {
   "cell_type": "markdown",
   "metadata": {},
   "source": [
    "Получили не совсем то, чего ожидали, поскольку ожидалось распредление Пуассона. Скорее всего, это связано с тем, что мы слишком сильно ограничили максимальную цену, поставив ее равной 11 150 000 и часть значений просто срезалось. \n",
    "\n",
    "В целом, мы все равно видим динамику, что с увеличением расстояния до центра, средняя цена за квадратный метр падает. Центром Петербурга считается пространство в радиусе трех километров от Петропавловской крепости - это точка нашего первого излома на графике. Возможно, высокие цены на уровне 5 и 6 км связаны с тем, что примерно на таком расстоянии находится Крестовский остров, где располагаются самые престижные квартиры города. После этих значений график убывает.\n",
    "\n",
    "Для последующих вычислений ограничим площадь центра до 6 км:"
   ]
  },
  {
   "cell_type": "code",
   "execution_count": 38,
   "metadata": {},
   "outputs": [],
   "source": [
    "df_spb_center = df_spb[df_spb['city_centers_km'] <=6]"
   ]
  },
  {
   "cell_type": "markdown",
   "metadata": {},
   "source": [
    "Перезапишем таблицу, оставив лишь те параметры, которые будут нам полезны для ответов на вопросы:"
   ]
  },
  {
   "cell_type": "code",
   "execution_count": 39,
   "metadata": {},
   "outputs": [
    {
     "data": {
      "text/html": [
       "<div>\n",
       "<style scoped>\n",
       "    .dataframe tbody tr th:only-of-type {\n",
       "        vertical-align: middle;\n",
       "    }\n",
       "\n",
       "    .dataframe tbody tr th {\n",
       "        vertical-align: top;\n",
       "    }\n",
       "\n",
       "    .dataframe thead th {\n",
       "        text-align: right;\n",
       "    }\n",
       "</style>\n",
       "<table border=\"1\" class=\"dataframe\">\n",
       "  <thead>\n",
       "    <tr style=\"text-align: right;\">\n",
       "      <th></th>\n",
       "      <th>last_price</th>\n",
       "      <th>price_per_meter</th>\n",
       "      <th>total_area</th>\n",
       "      <th>rooms</th>\n",
       "      <th>ceiling_height</th>\n",
       "      <th>city_centers_km</th>\n",
       "      <th>first_day_exposition</th>\n",
       "      <th>weekday_exposition</th>\n",
       "      <th>month_exposition</th>\n",
       "      <th>year_exposition</th>\n",
       "      <th>days_exposition</th>\n",
       "    </tr>\n",
       "  </thead>\n",
       "  <tbody>\n",
       "    <tr>\n",
       "      <td>8</td>\n",
       "      <td>6500000</td>\n",
       "      <td>66872</td>\n",
       "      <td>97.20</td>\n",
       "      <td>2</td>\n",
       "      <td>2.65</td>\n",
       "      <td>2</td>\n",
       "      <td>2015-10-31</td>\n",
       "      <td>5</td>\n",
       "      <td>10</td>\n",
       "      <td>2015</td>\n",
       "      <td>265.00</td>\n",
       "    </tr>\n",
       "    <tr>\n",
       "      <td>35</td>\n",
       "      <td>9600000</td>\n",
       "      <td>106666</td>\n",
       "      <td>90.00</td>\n",
       "      <td>4</td>\n",
       "      <td>2.65</td>\n",
       "      <td>3</td>\n",
       "      <td>2017-09-26</td>\n",
       "      <td>1</td>\n",
       "      <td>9</td>\n",
       "      <td>2017</td>\n",
       "      <td>104.00</td>\n",
       "    </tr>\n",
       "    <tr>\n",
       "      <td>40</td>\n",
       "      <td>4590000</td>\n",
       "      <td>114750</td>\n",
       "      <td>40.00</td>\n",
       "      <td>1</td>\n",
       "      <td>2.65</td>\n",
       "      <td>6</td>\n",
       "      <td>2017-05-29</td>\n",
       "      <td>0</td>\n",
       "      <td>5</td>\n",
       "      <td>2017</td>\n",
       "      <td>31.00</td>\n",
       "    </tr>\n",
       "    <tr>\n",
       "      <td>49</td>\n",
       "      <td>6500000</td>\n",
       "      <td>125482</td>\n",
       "      <td>51.80</td>\n",
       "      <td>2</td>\n",
       "      <td>3.45</td>\n",
       "      <td>4</td>\n",
       "      <td>2018-08-01</td>\n",
       "      <td>2</td>\n",
       "      <td>8</td>\n",
       "      <td>2018</td>\n",
       "      <td>163.00</td>\n",
       "    </tr>\n",
       "    <tr>\n",
       "      <td>50</td>\n",
       "      <td>4800000</td>\n",
       "      <td>120000</td>\n",
       "      <td>40.00</td>\n",
       "      <td>2</td>\n",
       "      <td>2.65</td>\n",
       "      <td>3</td>\n",
       "      <td>2017-11-18</td>\n",
       "      <td>5</td>\n",
       "      <td>11</td>\n",
       "      <td>2017</td>\n",
       "      <td>80.00</td>\n",
       "    </tr>\n",
       "  </tbody>\n",
       "</table>\n",
       "</div>"
      ],
      "text/plain": [
       "    last_price  price_per_meter  total_area  rooms  ceiling_height  \\\n",
       "8      6500000            66872       97.20      2            2.65   \n",
       "35     9600000           106666       90.00      4            2.65   \n",
       "40     4590000           114750       40.00      1            2.65   \n",
       "49     6500000           125482       51.80      2            3.45   \n",
       "50     4800000           120000       40.00      2            2.65   \n",
       "\n",
       "    city_centers_km first_day_exposition  weekday_exposition  \\\n",
       "8                 2           2015-10-31                   5   \n",
       "35                3           2017-09-26                   1   \n",
       "40                6           2017-05-29                   0   \n",
       "49                4           2018-08-01                   2   \n",
       "50                3           2017-11-18                   5   \n",
       "\n",
       "    month_exposition  year_exposition  days_exposition  \n",
       "8                 10             2015           265.00  \n",
       "35                 9             2017           104.00  \n",
       "40                 5             2017            31.00  \n",
       "49                 8             2018           163.00  \n",
       "50                11             2017            80.00  "
      ]
     },
     "metadata": {},
     "output_type": "display_data"
    }
   ],
   "source": [
    "df_spb_center = df_spb_center[['last_price', 'price_per_meter', 'total_area', 'rooms', 'ceiling_height', 'city_centers_km', 'first_day_exposition', 'weekday_exposition', 'month_exposition', 'year_exposition', 'days_exposition']]\n",
    "display(df_spb_center.head())"
   ]
  },
  {
   "cell_type": "markdown",
   "metadata": {},
   "source": [
    "В самом начале мы приравняли высоту потолков в пропусках к медианному значению, ввиду чего образовался пик, который явно исказит корреляцию, потому уберем эти значения. Их отсутствие не должно повлиять на общий вид графика:"
   ]
  },
  {
   "cell_type": "code",
   "execution_count": 40,
   "metadata": {},
   "outputs": [],
   "source": [
    "df_spb_center = df_spb_center[df_spb_center['ceiling_height'] != 2.65]"
   ]
  },
  {
   "cell_type": "markdown",
   "metadata": {},
   "source": [
    "Теперь посмотрим, как цена за квадратный метр коррелирует с остальными параметрами:"
   ]
  },
  {
   "cell_type": "code",
   "execution_count": 41,
   "metadata": {},
   "outputs": [
    {
     "data": {
      "text/html": [
       "<div>\n",
       "<style scoped>\n",
       "    .dataframe tbody tr th:only-of-type {\n",
       "        vertical-align: middle;\n",
       "    }\n",
       "\n",
       "    .dataframe tbody tr th {\n",
       "        vertical-align: top;\n",
       "    }\n",
       "\n",
       "    .dataframe thead th {\n",
       "        text-align: right;\n",
       "    }\n",
       "</style>\n",
       "<table border=\"1\" class=\"dataframe\">\n",
       "  <thead>\n",
       "    <tr style=\"text-align: right;\">\n",
       "      <th></th>\n",
       "      <th>last_price</th>\n",
       "      <th>price_per_meter</th>\n",
       "      <th>total_area</th>\n",
       "      <th>rooms</th>\n",
       "      <th>ceiling_height</th>\n",
       "      <th>city_centers_km</th>\n",
       "      <th>weekday_exposition</th>\n",
       "      <th>month_exposition</th>\n",
       "      <th>year_exposition</th>\n",
       "      <th>days_exposition</th>\n",
       "    </tr>\n",
       "  </thead>\n",
       "  <tbody>\n",
       "    <tr>\n",
       "      <td>last_price</td>\n",
       "      <td>1.00</td>\n",
       "      <td>0.18</td>\n",
       "      <td>0.68</td>\n",
       "      <td>0.44</td>\n",
       "      <td>0.20</td>\n",
       "      <td>-0.12</td>\n",
       "      <td>0.07</td>\n",
       "      <td>-0.01</td>\n",
       "      <td>0.02</td>\n",
       "      <td>0.12</td>\n",
       "    </tr>\n",
       "    <tr>\n",
       "      <td>price_per_meter</td>\n",
       "      <td>0.18</td>\n",
       "      <td>1.00</td>\n",
       "      <td>-0.56</td>\n",
       "      <td>-0.56</td>\n",
       "      <td>-0.12</td>\n",
       "      <td>0.06</td>\n",
       "      <td>0.02</td>\n",
       "      <td>0.00</td>\n",
       "      <td>0.14</td>\n",
       "      <td>-0.08</td>\n",
       "    </tr>\n",
       "    <tr>\n",
       "      <td>total_area</td>\n",
       "      <td>0.68</td>\n",
       "      <td>-0.56</td>\n",
       "      <td>1.00</td>\n",
       "      <td>0.80</td>\n",
       "      <td>0.27</td>\n",
       "      <td>-0.14</td>\n",
       "      <td>0.04</td>\n",
       "      <td>-0.01</td>\n",
       "      <td>-0.08</td>\n",
       "      <td>0.16</td>\n",
       "    </tr>\n",
       "    <tr>\n",
       "      <td>rooms</td>\n",
       "      <td>0.44</td>\n",
       "      <td>-0.56</td>\n",
       "      <td>0.80</td>\n",
       "      <td>1.00</td>\n",
       "      <td>0.19</td>\n",
       "      <td>-0.14</td>\n",
       "      <td>0.02</td>\n",
       "      <td>-0.00</td>\n",
       "      <td>-0.06</td>\n",
       "      <td>0.13</td>\n",
       "    </tr>\n",
       "    <tr>\n",
       "      <td>ceiling_height</td>\n",
       "      <td>0.20</td>\n",
       "      <td>-0.12</td>\n",
       "      <td>0.27</td>\n",
       "      <td>0.19</td>\n",
       "      <td>1.00</td>\n",
       "      <td>-0.26</td>\n",
       "      <td>0.01</td>\n",
       "      <td>0.02</td>\n",
       "      <td>-0.03</td>\n",
       "      <td>-0.02</td>\n",
       "    </tr>\n",
       "    <tr>\n",
       "      <td>city_centers_km</td>\n",
       "      <td>-0.12</td>\n",
       "      <td>0.06</td>\n",
       "      <td>-0.14</td>\n",
       "      <td>-0.14</td>\n",
       "      <td>-0.26</td>\n",
       "      <td>1.00</td>\n",
       "      <td>-0.06</td>\n",
       "      <td>-0.04</td>\n",
       "      <td>0.05</td>\n",
       "      <td>-0.01</td>\n",
       "    </tr>\n",
       "    <tr>\n",
       "      <td>weekday_exposition</td>\n",
       "      <td>0.07</td>\n",
       "      <td>0.02</td>\n",
       "      <td>0.04</td>\n",
       "      <td>0.02</td>\n",
       "      <td>0.01</td>\n",
       "      <td>-0.06</td>\n",
       "      <td>1.00</td>\n",
       "      <td>0.04</td>\n",
       "      <td>0.01</td>\n",
       "      <td>0.03</td>\n",
       "    </tr>\n",
       "    <tr>\n",
       "      <td>month_exposition</td>\n",
       "      <td>-0.01</td>\n",
       "      <td>0.00</td>\n",
       "      <td>-0.01</td>\n",
       "      <td>-0.00</td>\n",
       "      <td>0.02</td>\n",
       "      <td>-0.04</td>\n",
       "      <td>0.04</td>\n",
       "      <td>1.00</td>\n",
       "      <td>-0.20</td>\n",
       "      <td>-0.03</td>\n",
       "    </tr>\n",
       "    <tr>\n",
       "      <td>year_exposition</td>\n",
       "      <td>0.02</td>\n",
       "      <td>0.14</td>\n",
       "      <td>-0.08</td>\n",
       "      <td>-0.06</td>\n",
       "      <td>-0.03</td>\n",
       "      <td>0.05</td>\n",
       "      <td>0.01</td>\n",
       "      <td>-0.20</td>\n",
       "      <td>1.00</td>\n",
       "      <td>-0.45</td>\n",
       "    </tr>\n",
       "    <tr>\n",
       "      <td>days_exposition</td>\n",
       "      <td>0.12</td>\n",
       "      <td>-0.08</td>\n",
       "      <td>0.16</td>\n",
       "      <td>0.13</td>\n",
       "      <td>-0.02</td>\n",
       "      <td>-0.01</td>\n",
       "      <td>0.03</td>\n",
       "      <td>-0.03</td>\n",
       "      <td>-0.45</td>\n",
       "      <td>1.00</td>\n",
       "    </tr>\n",
       "  </tbody>\n",
       "</table>\n",
       "</div>"
      ],
      "text/plain": [
       "                    last_price  price_per_meter  total_area  rooms  \\\n",
       "last_price                1.00             0.18        0.68   0.44   \n",
       "price_per_meter           0.18             1.00       -0.56  -0.56   \n",
       "total_area                0.68            -0.56        1.00   0.80   \n",
       "rooms                     0.44            -0.56        0.80   1.00   \n",
       "ceiling_height            0.20            -0.12        0.27   0.19   \n",
       "city_centers_km          -0.12             0.06       -0.14  -0.14   \n",
       "weekday_exposition        0.07             0.02        0.04   0.02   \n",
       "month_exposition         -0.01             0.00       -0.01  -0.00   \n",
       "year_exposition           0.02             0.14       -0.08  -0.06   \n",
       "days_exposition           0.12            -0.08        0.16   0.13   \n",
       "\n",
       "                    ceiling_height  city_centers_km  weekday_exposition  \\\n",
       "last_price                    0.20            -0.12                0.07   \n",
       "price_per_meter              -0.12             0.06                0.02   \n",
       "total_area                    0.27            -0.14                0.04   \n",
       "rooms                         0.19            -0.14                0.02   \n",
       "ceiling_height                1.00            -0.26                0.01   \n",
       "city_centers_km              -0.26             1.00               -0.06   \n",
       "weekday_exposition            0.01            -0.06                1.00   \n",
       "month_exposition              0.02            -0.04                0.04   \n",
       "year_exposition              -0.03             0.05                0.01   \n",
       "days_exposition              -0.02            -0.01                0.03   \n",
       "\n",
       "                    month_exposition  year_exposition  days_exposition  \n",
       "last_price                     -0.01             0.02             0.12  \n",
       "price_per_meter                 0.00             0.14            -0.08  \n",
       "total_area                     -0.01            -0.08             0.16  \n",
       "rooms                          -0.00            -0.06             0.13  \n",
       "ceiling_height                  0.02            -0.03            -0.02  \n",
       "city_centers_km                -0.04             0.05            -0.01  \n",
       "weekday_exposition              0.04             0.01             0.03  \n",
       "month_exposition                1.00            -0.20            -0.03  \n",
       "year_exposition                -0.20             1.00            -0.45  \n",
       "days_exposition                -0.03            -0.45             1.00  "
      ]
     },
     "metadata": {},
     "output_type": "display_data"
    }
   ],
   "source": [
    "df_spb_center_corr = df_spb_center.corr()\n",
    "display(df_spb_center_corr)"
   ]
  },
  {
   "cell_type": "markdown",
   "metadata": {},
   "source": [
    "Что же мы получили:\n",
    "С увеличением площади, цена за квадратный метр падает. При рассмотрении квартир в центр коэффициент Пирсона увеличился почти в 2 раза, что говорит о том, что покупать \"однушку\" в центре - крайне не выгодно\n",
    "В остальных случаях коэффициент Пирсона стремится к нулю, что не позволяет нам говорить о полноценноой взаимосвязи между ценой за квадратный метр и другими параметрами."
   ]
  },
  {
   "cell_type": "markdown",
   "metadata": {},
   "source": [
    "Осталось определить связь между ценой за квадратный метр и этажом:"
   ]
  },
  {
   "cell_type": "code",
   "execution_count": 42,
   "metadata": {},
   "outputs": [
    {
     "name": "stdout",
     "output_type": "stream",
     "text": [
      "                price_per_meter\n",
      "floor_category                 \n",
      "другой               120,421.90\n",
      "первый               107,805.63\n",
      "последний            112,238.88\n"
     ]
    }
   ],
   "source": [
    "df_spb_center_floor = df_spb[df_spb['city_centers_km'] <=6]\n",
    "df_floor_center = df_spb_center_floor.pivot_table(index='floor_category', values = 'price_per_meter')\n",
    "print(df_floor_center)"
   ]
  },
  {
   "cell_type": "markdown",
   "metadata": {},
   "source": [
    "Ситуация аналогична рассмотренной ранее: Самые дешевые квартиры - на первом этаже, далее - последний. Самые дорогие - не на первом, и не на последнем."
   ]
  },
  {
   "cell_type": "markdown",
   "metadata": {},
   "source": [
    "**Вывод**"
   ]
  },
  {
   "cell_type": "markdown",
   "metadata": {},
   "source": [
    "В данном пункте были изучены такие параметры, как цена, число комнат, высота потолков, время продажи. Для каждого были построены гистограммы и удалены значения, являющиеся аномальными\n",
    "\n",
    "Также были определены факторы, от которых зависит цена квадратного метра квартиры.\n",
    "\n",
    "Изучены 10 наиболее часто встречающихся населенных пункта. Среди них найдены таковые с максимальной и минимальной средней ценой за квадратный метр.\n",
    "\n",
    "Определены границы центра города и исследованы зависимости цены квадратного метра от различных факторов в нем."
   ]
  },
  {
   "cell_type": "markdown",
   "metadata": {},
   "source": [
    "## Общий вывод"
   ]
  },
  {
   "cell_type": "markdown",
   "metadata": {},
   "source": [
    "В ходе выполнения проекта была изучена таблица с объявлениямипо продаже квартир в Санкт-Петербурге и Ленинградской области.\n",
    "\n",
    "Первым делом, были произведены такие операции, как обработка пропусков и замена типов данных в таблице. Далее были добавлены необходимые для дальнейших ответов на вопросы столбцы.\n",
    "\n",
    "В результате исследовательского анализа данных были определены факторы, влияющие на цену квадратного метра, а следовательно, и самой квартиры. Наиболее весомыми оказались: расстояние до центра города, общая площадь и этаж. Также стоит отметить тенденцию на рост цены с течением времени. Для центра города, в целом, факторы, влиияющие на цену, оказались такими же."
   ]
  }
 ],
 "metadata": {
  "ExecuteTimeLog": [
   {
    "duration": 63,
    "start_time": "2021-12-11T17:52:02.627Z"
   },
   {
    "duration": 58,
    "start_time": "2021-12-11T17:54:09.872Z"
   },
   {
    "duration": 59,
    "start_time": "2021-12-11T17:54:29.484Z"
   },
   {
    "duration": 85,
    "start_time": "2021-12-11T18:18:50.107Z"
   },
   {
    "duration": 10,
    "start_time": "2021-12-11T18:22:39.318Z"
   },
   {
    "duration": 9,
    "start_time": "2021-12-11T18:51:40.300Z"
   },
   {
    "duration": 713,
    "start_time": "2021-12-12T18:38:45.230Z"
   },
   {
    "duration": 97,
    "start_time": "2021-12-12T18:38:51.325Z"
   },
   {
    "duration": 11,
    "start_time": "2021-12-12T18:38:56.796Z"
   },
   {
    "duration": 8,
    "start_time": "2021-12-12T18:39:02.638Z"
   },
   {
    "duration": 22,
    "start_time": "2021-12-12T18:39:38.560Z"
   },
   {
    "duration": 34,
    "start_time": "2021-12-12T18:40:03.087Z"
   },
   {
    "duration": 4,
    "start_time": "2021-12-12T18:48:37.278Z"
   },
   {
    "duration": 5,
    "start_time": "2021-12-12T18:49:29.595Z"
   },
   {
    "duration": 333,
    "start_time": "2021-12-12T18:50:33.163Z"
   },
   {
    "duration": 6,
    "start_time": "2021-12-12T18:50:50.178Z"
   },
   {
    "duration": 6,
    "start_time": "2021-12-12T18:52:35.100Z"
   },
   {
    "duration": 300,
    "start_time": "2021-12-12T18:54:05.728Z"
   },
   {
    "duration": 496,
    "start_time": "2021-12-12T18:54:24.760Z"
   },
   {
    "duration": 652,
    "start_time": "2021-12-12T18:54:39.760Z"
   },
   {
    "duration": 85,
    "start_time": "2021-12-12T18:54:45.251Z"
   },
   {
    "duration": 11,
    "start_time": "2021-12-12T18:54:51.633Z"
   },
   {
    "duration": 8,
    "start_time": "2021-12-12T18:54:57.131Z"
   },
   {
    "duration": 5,
    "start_time": "2021-12-12T18:55:02.061Z"
   },
   {
    "duration": 9,
    "start_time": "2021-12-12T18:56:00.988Z"
   },
   {
    "duration": 6,
    "start_time": "2021-12-12T18:56:29.581Z"
   },
   {
    "duration": 5,
    "start_time": "2021-12-12T18:57:27.896Z"
   },
   {
    "duration": 5,
    "start_time": "2021-12-12T18:57:49.652Z"
   },
   {
    "duration": 35,
    "start_time": "2021-12-12T19:02:46.581Z"
   },
   {
    "duration": 4,
    "start_time": "2021-12-12T19:03:52.312Z"
   },
   {
    "duration": 648,
    "start_time": "2021-12-12T19:04:01.847Z"
   },
   {
    "duration": 78,
    "start_time": "2021-12-12T19:04:02.497Z"
   },
   {
    "duration": 10,
    "start_time": "2021-12-12T19:04:02.577Z"
   },
   {
    "duration": 7,
    "start_time": "2021-12-12T19:04:02.588Z"
   },
   {
    "duration": 4,
    "start_time": "2021-12-12T19:04:02.597Z"
   },
   {
    "duration": 58,
    "start_time": "2021-12-12T19:04:02.602Z"
   },
   {
    "duration": 6,
    "start_time": "2021-12-12T19:04:17.706Z"
   },
   {
    "duration": 26,
    "start_time": "2021-12-12T19:06:06.606Z"
   },
   {
    "duration": 6,
    "start_time": "2021-12-12T19:13:47.594Z"
   },
   {
    "duration": 6,
    "start_time": "2021-12-12T19:13:52.259Z"
   },
   {
    "duration": 322,
    "start_time": "2021-12-12T19:14:10.749Z"
   },
   {
    "duration": 7,
    "start_time": "2021-12-12T19:14:17.295Z"
   },
   {
    "duration": 6,
    "start_time": "2021-12-12T19:14:53.695Z"
   },
   {
    "duration": 7,
    "start_time": "2021-12-12T19:15:07.291Z"
   },
   {
    "duration": 3,
    "start_time": "2021-12-12T19:31:45.122Z"
   },
   {
    "duration": 5,
    "start_time": "2021-12-12T21:01:04.957Z"
   },
   {
    "duration": 14,
    "start_time": "2021-12-12T21:12:13.355Z"
   },
   {
    "duration": 712,
    "start_time": "2021-12-13T08:47:33.167Z"
   },
   {
    "duration": 86,
    "start_time": "2021-12-13T08:47:36.338Z"
   },
   {
    "duration": 16,
    "start_time": "2021-12-13T08:47:42.067Z"
   },
   {
    "duration": 9,
    "start_time": "2021-12-13T08:47:57.663Z"
   },
   {
    "duration": 5,
    "start_time": "2021-12-13T08:48:04.839Z"
   },
   {
    "duration": 23,
    "start_time": "2021-12-13T08:48:10.328Z"
   },
   {
    "duration": 5,
    "start_time": "2021-12-13T08:48:17.944Z"
   },
   {
    "duration": 6,
    "start_time": "2021-12-13T08:48:21.827Z"
   },
   {
    "duration": 13,
    "start_time": "2021-12-13T08:48:24.374Z"
   },
   {
    "duration": 16,
    "start_time": "2021-12-13T09:05:01.593Z"
   },
   {
    "duration": 6011,
    "start_time": "2021-12-13T11:17:18.818Z"
   },
   {
    "duration": 3,
    "start_time": "2021-12-13T11:18:28.033Z"
   },
   {
    "duration": 21,
    "start_time": "2021-12-13T11:18:58.695Z"
   },
   {
    "duration": 20,
    "start_time": "2021-12-13T11:19:14.017Z"
   },
   {
    "duration": 23,
    "start_time": "2021-12-13T11:22:44.957Z"
   },
   {
    "duration": 21,
    "start_time": "2021-12-13T11:23:48.592Z"
   },
   {
    "duration": 626,
    "start_time": "2021-12-13T11:24:02.722Z"
   },
   {
    "duration": 70,
    "start_time": "2021-12-13T11:24:03.349Z"
   },
   {
    "duration": 10,
    "start_time": "2021-12-13T11:24:03.423Z"
   },
   {
    "duration": 8,
    "start_time": "2021-12-13T11:24:03.435Z"
   },
   {
    "duration": 19,
    "start_time": "2021-12-13T11:24:03.444Z"
   },
   {
    "duration": 24,
    "start_time": "2021-12-13T11:24:03.465Z"
   },
   {
    "duration": 5,
    "start_time": "2021-12-13T11:24:03.493Z"
   },
   {
    "duration": 8,
    "start_time": "2021-12-13T11:24:03.500Z"
   },
   {
    "duration": 17,
    "start_time": "2021-12-13T11:24:03.510Z"
   },
   {
    "duration": 42,
    "start_time": "2021-12-13T11:24:03.529Z"
   },
   {
    "duration": 304,
    "start_time": "2021-12-13T11:32:13.028Z"
   },
   {
    "duration": 8,
    "start_time": "2021-12-13T11:32:27.048Z"
   },
   {
    "duration": 86,
    "start_time": "2021-12-13T11:41:46.886Z"
   },
   {
    "duration": 7407,
    "start_time": "2021-12-13T11:42:04.248Z"
   },
   {
    "duration": 255,
    "start_time": "2021-12-13T11:45:51.239Z"
   },
   {
    "duration": 243,
    "start_time": "2021-12-13T11:50:54.688Z"
   },
   {
    "duration": 6574,
    "start_time": "2021-12-13T11:52:54.427Z"
   },
   {
    "duration": 7,
    "start_time": "2021-12-13T11:53:20.144Z"
   },
   {
    "duration": 6,
    "start_time": "2021-12-13T11:53:46.116Z"
   },
   {
    "duration": 7,
    "start_time": "2021-12-13T11:55:11.352Z"
   },
   {
    "duration": 25,
    "start_time": "2021-12-13T11:57:05.972Z"
   },
   {
    "duration": 306,
    "start_time": "2021-12-13T15:21:41.916Z"
   },
   {
    "duration": 681,
    "start_time": "2021-12-13T15:21:42.283Z"
   },
   {
    "duration": 118,
    "start_time": "2021-12-13T15:21:42.966Z"
   },
   {
    "duration": 16,
    "start_time": "2021-12-13T15:21:43.086Z"
   },
   {
    "duration": 11,
    "start_time": "2021-12-13T15:21:43.105Z"
   },
   {
    "duration": 27,
    "start_time": "2021-12-13T15:21:43.118Z"
   },
   {
    "duration": 36,
    "start_time": "2021-12-13T15:21:43.148Z"
   },
   {
    "duration": 7,
    "start_time": "2021-12-13T15:21:43.186Z"
   },
   {
    "duration": 7,
    "start_time": "2021-12-13T15:21:43.197Z"
   },
   {
    "duration": 42,
    "start_time": "2021-12-13T15:21:43.206Z"
   },
   {
    "duration": 25,
    "start_time": "2021-12-13T15:21:43.250Z"
   },
   {
    "duration": 8,
    "start_time": "2021-12-13T15:21:43.277Z"
   },
   {
    "duration": 20,
    "start_time": "2021-12-13T15:21:43.287Z"
   },
   {
    "duration": 46,
    "start_time": "2021-12-13T15:21:43.308Z"
   },
   {
    "duration": 15,
    "start_time": "2021-12-13T15:21:43.356Z"
   },
   {
    "duration": 13,
    "start_time": "2021-12-13T15:26:20.068Z"
   },
   {
    "duration": 44,
    "start_time": "2021-12-13T15:26:30.747Z"
   },
   {
    "duration": 11,
    "start_time": "2021-12-13T15:26:58.076Z"
   },
   {
    "duration": 401,
    "start_time": "2021-12-13T17:55:55.056Z"
   },
   {
    "duration": 412,
    "start_time": "2021-12-13T17:56:06.080Z"
   },
   {
    "duration": 459,
    "start_time": "2021-12-13T17:56:36.604Z"
   },
   {
    "duration": 5,
    "start_time": "2021-12-13T18:03:17.839Z"
   },
   {
    "duration": 20,
    "start_time": "2021-12-13T18:05:00.223Z"
   },
   {
    "duration": 22,
    "start_time": "2021-12-13T18:05:07.085Z"
   },
   {
    "duration": 260,
    "start_time": "2021-12-13T19:00:14.606Z"
   },
   {
    "duration": 231,
    "start_time": "2021-12-13T19:00:51.067Z"
   },
   {
    "duration": 356,
    "start_time": "2021-12-13T19:01:25.736Z"
   },
   {
    "duration": 224,
    "start_time": "2021-12-13T19:02:29.096Z"
   },
   {
    "duration": 280,
    "start_time": "2021-12-13T19:02:48.108Z"
   },
   {
    "duration": 253,
    "start_time": "2021-12-13T19:03:24.171Z"
   },
   {
    "duration": 894,
    "start_time": "2021-12-13T19:03:31.489Z"
   },
   {
    "duration": 373,
    "start_time": "2021-12-13T19:04:38.804Z"
   },
   {
    "duration": 418,
    "start_time": "2021-12-13T19:04:48.058Z"
   },
   {
    "duration": 342,
    "start_time": "2021-12-13T19:05:43.485Z"
   },
   {
    "duration": 207,
    "start_time": "2021-12-13T19:05:57.573Z"
   },
   {
    "duration": 924,
    "start_time": "2021-12-13T19:06:15.196Z"
   },
   {
    "duration": 187,
    "start_time": "2021-12-13T19:06:23.779Z"
   },
   {
    "duration": 313,
    "start_time": "2021-12-13T19:06:38.962Z"
   },
   {
    "duration": 446,
    "start_time": "2021-12-13T19:07:41.066Z"
   },
   {
    "duration": 220,
    "start_time": "2021-12-13T19:08:18.976Z"
   },
   {
    "duration": 254,
    "start_time": "2021-12-13T19:08:45.146Z"
   },
   {
    "duration": 244,
    "start_time": "2021-12-13T19:08:56.556Z"
   },
   {
    "duration": 303,
    "start_time": "2021-12-13T19:09:00.819Z"
   },
   {
    "duration": 256,
    "start_time": "2021-12-13T19:09:15.058Z"
   },
   {
    "duration": 884,
    "start_time": "2021-12-14T10:31:52.232Z"
   },
   {
    "duration": 121,
    "start_time": "2021-12-14T10:31:53.119Z"
   },
   {
    "duration": 27,
    "start_time": "2021-12-14T10:31:53.243Z"
   },
   {
    "duration": 11,
    "start_time": "2021-12-14T10:31:53.273Z"
   },
   {
    "duration": 6,
    "start_time": "2021-12-14T10:31:53.287Z"
   },
   {
    "duration": 73,
    "start_time": "2021-12-14T10:31:53.296Z"
   },
   {
    "duration": 8,
    "start_time": "2021-12-14T10:31:53.372Z"
   },
   {
    "duration": 8,
    "start_time": "2021-12-14T10:31:53.384Z"
   },
   {
    "duration": 19,
    "start_time": "2021-12-14T10:31:53.396Z"
   },
   {
    "duration": 74,
    "start_time": "2021-12-14T10:31:53.418Z"
   },
   {
    "duration": 11,
    "start_time": "2021-12-14T10:31:53.495Z"
   },
   {
    "duration": 12,
    "start_time": "2021-12-14T10:31:53.509Z"
   },
   {
    "duration": 70,
    "start_time": "2021-12-14T10:31:53.524Z"
   },
   {
    "duration": 11,
    "start_time": "2021-12-14T10:31:53.597Z"
   },
   {
    "duration": 16,
    "start_time": "2021-12-14T10:31:53.610Z"
   },
   {
    "duration": 720,
    "start_time": "2021-12-14T10:31:53.628Z"
   },
   {
    "duration": 6,
    "start_time": "2021-12-14T10:31:54.350Z"
   },
   {
    "duration": 37,
    "start_time": "2021-12-14T10:31:54.367Z"
   },
   {
    "duration": 743,
    "start_time": "2021-12-14T10:31:54.406Z"
   },
   {
    "duration": 558,
    "start_time": "2021-12-14T10:31:55.152Z"
   },
   {
    "duration": 342,
    "start_time": "2021-12-14T10:31:55.712Z"
   },
   {
    "duration": 442,
    "start_time": "2021-12-14T10:31:56.056Z"
   },
   {
    "duration": 142,
    "start_time": "2021-12-14T10:35:30.099Z"
   },
   {
    "duration": 12,
    "start_time": "2021-12-14T10:37:20.076Z"
   },
   {
    "duration": 374,
    "start_time": "2021-12-14T10:39:32.584Z"
   },
   {
    "duration": 1983,
    "start_time": "2021-12-14T10:40:31.313Z"
   },
   {
    "duration": 380,
    "start_time": "2021-12-14T10:42:52.370Z"
   },
   {
    "duration": 353,
    "start_time": "2021-12-14T10:43:53.302Z"
   },
   {
    "duration": 358,
    "start_time": "2021-12-14T10:44:03.896Z"
   },
   {
    "duration": 474,
    "start_time": "2021-12-14T10:44:15.205Z"
   },
   {
    "duration": 584,
    "start_time": "2021-12-14T10:50:36.034Z"
   },
   {
    "duration": 561,
    "start_time": "2021-12-14T10:56:05.998Z"
   },
   {
    "duration": 550,
    "start_time": "2021-12-14T11:06:51.901Z"
   },
   {
    "duration": 20,
    "start_time": "2021-12-14T11:15:01.027Z"
   },
   {
    "duration": 455,
    "start_time": "2021-12-14T11:15:47.357Z"
   },
   {
    "duration": 588,
    "start_time": "2021-12-14T11:15:57.848Z"
   },
   {
    "duration": 700,
    "start_time": "2021-12-14T11:16:25.110Z"
   },
   {
    "duration": 216,
    "start_time": "2021-12-14T11:19:24.670Z"
   },
   {
    "duration": 218,
    "start_time": "2021-12-14T11:22:04.220Z"
   },
   {
    "duration": 8,
    "start_time": "2021-12-14T11:38:59.598Z"
   },
   {
    "duration": 19,
    "start_time": "2021-12-14T11:42:02.087Z"
   },
   {
    "duration": 15,
    "start_time": "2021-12-14T11:42:40.832Z"
   },
   {
    "duration": 9,
    "start_time": "2021-12-14T11:42:57.105Z"
   },
   {
    "duration": 123,
    "start_time": "2021-12-14T12:13:31.370Z"
   },
   {
    "duration": 335,
    "start_time": "2021-12-14T12:14:39.888Z"
   },
   {
    "duration": 10,
    "start_time": "2021-12-14T12:18:06.131Z"
   },
   {
    "duration": 12,
    "start_time": "2021-12-14T12:19:03.753Z"
   },
   {
    "duration": 14,
    "start_time": "2021-12-14T12:19:27.376Z"
   },
   {
    "duration": 16,
    "start_time": "2021-12-14T12:20:28.758Z"
   },
   {
    "duration": 27,
    "start_time": "2021-12-14T12:20:48.879Z"
   },
   {
    "duration": 43,
    "start_time": "2021-12-14T12:21:21.224Z"
   },
   {
    "duration": 30,
    "start_time": "2021-12-14T12:21:49.581Z"
   },
   {
    "duration": 26,
    "start_time": "2021-12-14T12:41:06.251Z"
   },
   {
    "duration": 43,
    "start_time": "2021-12-14T12:41:18.830Z"
   },
   {
    "duration": 28,
    "start_time": "2021-12-14T12:42:07.150Z"
   },
   {
    "duration": 8,
    "start_time": "2021-12-14T12:43:00.384Z"
   },
   {
    "duration": 16,
    "start_time": "2021-12-14T12:43:09.486Z"
   },
   {
    "duration": 1973,
    "start_time": "2021-12-14T12:44:30.304Z"
   },
   {
    "duration": 16,
    "start_time": "2021-12-14T12:45:02.692Z"
   },
   {
    "duration": 17,
    "start_time": "2021-12-14T12:45:36.694Z"
   },
   {
    "duration": 16,
    "start_time": "2021-12-14T12:47:32.697Z"
   },
   {
    "duration": 16,
    "start_time": "2021-12-14T12:47:44.891Z"
   },
   {
    "duration": 35,
    "start_time": "2021-12-14T12:58:04.310Z"
   },
   {
    "duration": 50,
    "start_time": "2021-12-14T12:58:14.373Z"
   },
   {
    "duration": 48,
    "start_time": "2021-12-14T12:58:51.316Z"
   },
   {
    "duration": 44,
    "start_time": "2021-12-14T12:59:04.909Z"
   },
   {
    "duration": 19,
    "start_time": "2021-12-14T13:02:32.365Z"
   },
   {
    "duration": 102,
    "start_time": "2021-12-14T13:09:32.555Z"
   },
   {
    "duration": 48,
    "start_time": "2021-12-14T13:09:41.440Z"
   },
   {
    "duration": 127,
    "start_time": "2021-12-14T13:10:50.076Z"
   },
   {
    "duration": 37,
    "start_time": "2021-12-14T13:10:55.401Z"
   },
   {
    "duration": 38,
    "start_time": "2021-12-14T13:12:10.211Z"
   },
   {
    "duration": 7093,
    "start_time": "2021-12-14T13:29:27.000Z"
   },
   {
    "duration": -683,
    "start_time": "2021-12-14T13:29:52.752Z"
   },
   {
    "duration": 278,
    "start_time": "2021-12-14T13:30:02.455Z"
   },
   {
    "duration": 93,
    "start_time": "2021-12-14T13:30:48.993Z"
   },
   {
    "duration": 282,
    "start_time": "2021-12-14T13:30:55.007Z"
   },
   {
    "duration": 338,
    "start_time": "2021-12-14T13:42:22.068Z"
   },
   {
    "duration": 24,
    "start_time": "2021-12-14T13:42:29.762Z"
   },
   {
    "duration": 34,
    "start_time": "2021-12-14T13:42:48.021Z"
   },
   {
    "duration": 47,
    "start_time": "2021-12-14T13:46:17.937Z"
   },
   {
    "duration": 294,
    "start_time": "2021-12-14T13:49:00.381Z"
   },
   {
    "duration": 333,
    "start_time": "2021-12-14T13:50:49.170Z"
   },
   {
    "duration": 8065,
    "start_time": "2021-12-14T13:51:41.327Z"
   },
   {
    "duration": 7884,
    "start_time": "2021-12-14T13:52:15.781Z"
   },
   {
    "duration": 8597,
    "start_time": "2021-12-14T13:52:25.070Z"
   },
   {
    "duration": 8361,
    "start_time": "2021-12-14T13:53:45.276Z"
   },
   {
    "duration": 432,
    "start_time": "2021-12-14T13:53:56.592Z"
   },
   {
    "duration": 613,
    "start_time": "2021-12-14T13:54:25.676Z"
   },
   {
    "duration": 91,
    "start_time": "2021-12-14T13:54:43.604Z"
   },
   {
    "duration": 348,
    "start_time": "2021-12-14T13:54:46.343Z"
   },
   {
    "duration": 904,
    "start_time": "2021-12-14T13:55:14.178Z"
   },
   {
    "duration": 10,
    "start_time": "2021-12-14T14:04:55.304Z"
   },
   {
    "duration": 9,
    "start_time": "2021-12-14T14:05:06.388Z"
   },
   {
    "duration": 11,
    "start_time": "2021-12-14T14:06:20.333Z"
   },
   {
    "duration": 15,
    "start_time": "2021-12-14T14:07:43.621Z"
   },
   {
    "duration": 28,
    "start_time": "2021-12-14T14:08:12.479Z"
   },
   {
    "duration": 9,
    "start_time": "2021-12-14T14:08:35.925Z"
   },
   {
    "duration": 9,
    "start_time": "2021-12-14T14:09:01.734Z"
   },
   {
    "duration": 303,
    "start_time": "2021-12-14T14:16:11.624Z"
   },
   {
    "duration": 895,
    "start_time": "2021-12-14T14:18:09.806Z"
   },
   {
    "duration": 15,
    "start_time": "2021-12-14T14:18:21.289Z"
   },
   {
    "duration": 19,
    "start_time": "2021-12-14T14:18:38.996Z"
   },
   {
    "duration": 16,
    "start_time": "2021-12-14T14:19:13.355Z"
   },
   {
    "duration": 20,
    "start_time": "2021-12-14T14:19:38.115Z"
   },
   {
    "duration": 324,
    "start_time": "2021-12-14T14:21:35.153Z"
   },
   {
    "duration": 30,
    "start_time": "2021-12-14T14:21:46.158Z"
   },
   {
    "duration": 304,
    "start_time": "2021-12-14T14:22:30.647Z"
   },
   {
    "duration": 28,
    "start_time": "2021-12-14T14:22:40.128Z"
   },
   {
    "duration": 31,
    "start_time": "2021-12-14T14:23:52.641Z"
   },
   {
    "duration": 30,
    "start_time": "2021-12-14T14:24:06.215Z"
   },
   {
    "duration": 31,
    "start_time": "2021-12-14T14:25:35.884Z"
   },
   {
    "duration": 29,
    "start_time": "2021-12-14T14:26:04.846Z"
   },
   {
    "duration": 115,
    "start_time": "2021-12-14T14:32:00.674Z"
   },
   {
    "duration": 93,
    "start_time": "2021-12-14T14:32:16.647Z"
   },
   {
    "duration": 93,
    "start_time": "2021-12-14T14:33:38.962Z"
   },
   {
    "duration": 6,
    "start_time": "2021-12-14T14:35:58.022Z"
   },
   {
    "duration": 337,
    "start_time": "2021-12-14T14:36:12.834Z"
   },
   {
    "duration": 7562,
    "start_time": "2021-12-14T14:38:43.911Z"
   },
   {
    "duration": 106,
    "start_time": "2021-12-14T15:20:50.994Z"
   },
   {
    "duration": 8,
    "start_time": "2021-12-14T15:25:51.362Z"
   },
   {
    "duration": 12,
    "start_time": "2021-12-14T15:26:33.586Z"
   },
   {
    "duration": 14,
    "start_time": "2021-12-14T15:27:38.186Z"
   },
   {
    "duration": 11,
    "start_time": "2021-12-14T15:27:53.468Z"
   },
   {
    "duration": 10,
    "start_time": "2021-12-14T15:31:47.272Z"
   },
   {
    "duration": 22,
    "start_time": "2021-12-14T15:32:04.313Z"
   },
   {
    "duration": 18,
    "start_time": "2021-12-14T15:32:15.001Z"
   },
   {
    "duration": 9,
    "start_time": "2021-12-14T15:32:23.459Z"
   },
   {
    "duration": 289,
    "start_time": "2021-12-14T15:44:38.581Z"
   },
   {
    "duration": 291,
    "start_time": "2021-12-14T15:45:06.106Z"
   },
   {
    "duration": 275,
    "start_time": "2021-12-14T15:47:13.155Z"
   },
   {
    "duration": 17,
    "start_time": "2021-12-14T15:48:01.491Z"
   },
   {
    "duration": 63,
    "start_time": "2021-12-14T15:48:12.163Z"
   },
   {
    "duration": 62,
    "start_time": "2021-12-14T15:48:40.377Z"
   },
   {
    "duration": 17,
    "start_time": "2021-12-14T15:54:51.281Z"
   },
   {
    "duration": 301,
    "start_time": "2021-12-14T15:57:01.810Z"
   },
   {
    "duration": 64,
    "start_time": "2021-12-14T16:07:44.648Z"
   },
   {
    "duration": 19,
    "start_time": "2021-12-14T16:07:54.901Z"
   },
   {
    "duration": 18,
    "start_time": "2021-12-14T16:08:55.654Z"
   },
   {
    "duration": 17,
    "start_time": "2021-12-14T16:09:04.979Z"
   },
   {
    "duration": 17,
    "start_time": "2021-12-14T16:10:08.777Z"
   },
   {
    "duration": 815,
    "start_time": "2021-12-14T16:13:11.516Z"
   },
   {
    "duration": 117,
    "start_time": "2021-12-14T16:13:12.333Z"
   },
   {
    "duration": 23,
    "start_time": "2021-12-14T16:13:12.453Z"
   },
   {
    "duration": 11,
    "start_time": "2021-12-14T16:13:12.479Z"
   },
   {
    "duration": 7,
    "start_time": "2021-12-14T16:13:12.492Z"
   },
   {
    "duration": 70,
    "start_time": "2021-12-14T16:13:12.501Z"
   },
   {
    "duration": 7,
    "start_time": "2021-12-14T16:13:12.574Z"
   },
   {
    "duration": 9,
    "start_time": "2021-12-14T16:13:12.585Z"
   },
   {
    "duration": 19,
    "start_time": "2021-12-14T16:13:12.597Z"
   },
   {
    "duration": 69,
    "start_time": "2021-12-14T16:13:12.618Z"
   },
   {
    "duration": 11,
    "start_time": "2021-12-14T16:13:12.689Z"
   },
   {
    "duration": 10,
    "start_time": "2021-12-14T16:13:12.702Z"
   },
   {
    "duration": 63,
    "start_time": "2021-12-14T16:13:12.714Z"
   },
   {
    "duration": 11,
    "start_time": "2021-12-14T16:13:12.779Z"
   },
   {
    "duration": 15,
    "start_time": "2021-12-14T16:13:12.792Z"
   },
   {
    "duration": 715,
    "start_time": "2021-12-14T16:13:12.809Z"
   },
   {
    "duration": 6,
    "start_time": "2021-12-14T16:13:13.527Z"
   },
   {
    "duration": 52,
    "start_time": "2021-12-14T16:13:13.536Z"
   },
   {
    "duration": 737,
    "start_time": "2021-12-14T16:13:13.591Z"
   },
   {
    "duration": 542,
    "start_time": "2021-12-14T16:13:14.330Z"
   },
   {
    "duration": 351,
    "start_time": "2021-12-14T16:13:14.874Z"
   },
   {
    "duration": 421,
    "start_time": "2021-12-14T16:13:15.228Z"
   },
   {
    "duration": 598,
    "start_time": "2021-12-14T16:13:15.653Z"
   },
   {
    "duration": 589,
    "start_time": "2021-12-14T16:13:16.254Z"
   },
   {
    "duration": 639,
    "start_time": "2021-12-14T16:13:16.845Z"
   },
   {
    "duration": 307,
    "start_time": "2021-12-14T16:13:17.487Z"
   },
   {
    "duration": 8,
    "start_time": "2021-12-14T16:13:17.796Z"
   },
   {
    "duration": 40,
    "start_time": "2021-12-14T16:13:17.806Z"
   },
   {
    "duration": 20,
    "start_time": "2021-12-14T16:13:17.849Z"
   },
   {
    "duration": 44,
    "start_time": "2021-12-14T16:13:17.872Z"
   },
   {
    "duration": 63,
    "start_time": "2021-12-14T16:13:17.918Z"
   },
   {
    "duration": 944,
    "start_time": "2021-12-14T16:13:17.983Z"
   },
   {
    "duration": 42,
    "start_time": "2021-12-14T16:13:18.930Z"
   },
   {
    "duration": 11,
    "start_time": "2021-12-14T16:13:18.975Z"
   },
   {
    "duration": 83,
    "start_time": "2021-12-14T16:13:18.988Z"
   },
   {
    "duration": 17,
    "start_time": "2021-12-14T16:13:19.073Z"
   },
   {
    "duration": 316,
    "start_time": "2021-12-14T16:13:19.093Z"
   },
   {
    "duration": 526,
    "start_time": "2021-12-14T16:26:11.838Z"
   },
   {
    "duration": 229,
    "start_time": "2021-12-14T16:26:30.748Z"
   },
   {
    "duration": 448,
    "start_time": "2021-12-14T16:27:12.834Z"
   },
   {
    "duration": 177,
    "start_time": "2021-12-14T16:28:22.835Z"
   },
   {
    "duration": 182,
    "start_time": "2021-12-14T16:28:46.480Z"
   },
   {
    "duration": 467,
    "start_time": "2021-12-14T16:29:58.439Z"
   },
   {
    "duration": 493,
    "start_time": "2021-12-14T16:30:36.303Z"
   },
   {
    "duration": 646,
    "start_time": "2021-12-14T16:33:01.621Z"
   },
   {
    "duration": 874,
    "start_time": "2021-12-14T16:33:12.272Z"
   },
   {
    "duration": 119,
    "start_time": "2021-12-14T16:33:13.149Z"
   },
   {
    "duration": 18,
    "start_time": "2021-12-14T16:33:13.272Z"
   },
   {
    "duration": 14,
    "start_time": "2021-12-14T16:33:13.293Z"
   },
   {
    "duration": 7,
    "start_time": "2021-12-14T16:33:13.309Z"
   },
   {
    "duration": 82,
    "start_time": "2021-12-14T16:33:13.318Z"
   },
   {
    "duration": 8,
    "start_time": "2021-12-14T16:33:13.402Z"
   },
   {
    "duration": 29,
    "start_time": "2021-12-14T16:33:13.413Z"
   },
   {
    "duration": 30,
    "start_time": "2021-12-14T16:33:13.444Z"
   },
   {
    "duration": 38,
    "start_time": "2021-12-14T16:33:13.476Z"
   },
   {
    "duration": 10,
    "start_time": "2021-12-14T16:33:13.516Z"
   },
   {
    "duration": 21,
    "start_time": "2021-12-14T16:33:13.528Z"
   },
   {
    "duration": 50,
    "start_time": "2021-12-14T16:33:13.551Z"
   },
   {
    "duration": 11,
    "start_time": "2021-12-14T16:33:13.603Z"
   },
   {
    "duration": 14,
    "start_time": "2021-12-14T16:33:13.617Z"
   },
   {
    "duration": 712,
    "start_time": "2021-12-14T16:33:13.634Z"
   },
   {
    "duration": 6,
    "start_time": "2021-12-14T16:33:14.349Z"
   },
   {
    "duration": 38,
    "start_time": "2021-12-14T16:33:14.368Z"
   },
   {
    "duration": 757,
    "start_time": "2021-12-14T16:33:14.408Z"
   },
   {
    "duration": 565,
    "start_time": "2021-12-14T16:33:15.167Z"
   },
   {
    "duration": 325,
    "start_time": "2021-12-14T16:33:15.735Z"
   },
   {
    "duration": 396,
    "start_time": "2021-12-14T16:33:16.066Z"
   },
   {
    "duration": 606,
    "start_time": "2021-12-14T16:33:16.470Z"
   },
   {
    "duration": 558,
    "start_time": "2021-12-14T16:33:17.079Z"
   },
   {
    "duration": 597,
    "start_time": "2021-12-14T16:33:17.640Z"
   },
   {
    "duration": 334,
    "start_time": "2021-12-14T16:33:18.240Z"
   },
   {
    "duration": 8,
    "start_time": "2021-12-14T16:33:18.577Z"
   },
   {
    "duration": 27,
    "start_time": "2021-12-14T16:33:18.587Z"
   },
   {
    "duration": 57,
    "start_time": "2021-12-14T16:33:18.617Z"
   },
   {
    "duration": 35,
    "start_time": "2021-12-14T16:33:18.676Z"
   },
   {
    "duration": 72,
    "start_time": "2021-12-14T16:33:18.713Z"
   },
   {
    "duration": 931,
    "start_time": "2021-12-14T16:33:18.787Z"
   },
   {
    "duration": 47,
    "start_time": "2021-12-14T16:33:19.721Z"
   },
   {
    "duration": 12,
    "start_time": "2021-12-14T16:33:19.771Z"
   },
   {
    "duration": 89,
    "start_time": "2021-12-14T16:33:19.785Z"
   },
   {
    "duration": 18,
    "start_time": "2021-12-14T16:33:19.877Z"
   },
   {
    "duration": 334,
    "start_time": "2021-12-14T16:33:19.897Z"
   },
   {
    "duration": 476,
    "start_time": "2021-12-14T16:33:20.234Z"
   },
   {
    "duration": 479,
    "start_time": "2021-12-14T16:33:38.388Z"
   },
   {
    "duration": 549,
    "start_time": "2021-12-14T16:34:22.779Z"
   },
   {
    "duration": 566,
    "start_time": "2021-12-14T16:34:49.730Z"
   },
   {
    "duration": 497,
    "start_time": "2021-12-14T16:35:18.183Z"
   },
   {
    "duration": 461,
    "start_time": "2021-12-14T16:35:41.511Z"
   },
   {
    "duration": 7,
    "start_time": "2021-12-14T16:47:45.320Z"
   },
   {
    "duration": 831,
    "start_time": "2021-12-14T16:55:09.287Z"
   },
   {
    "duration": 123,
    "start_time": "2021-12-14T16:55:10.120Z"
   },
   {
    "duration": 23,
    "start_time": "2021-12-14T16:55:10.246Z"
   },
   {
    "duration": 10,
    "start_time": "2021-12-14T16:55:10.271Z"
   },
   {
    "duration": 6,
    "start_time": "2021-12-14T16:55:10.284Z"
   },
   {
    "duration": 36,
    "start_time": "2021-12-14T16:55:10.292Z"
   },
   {
    "duration": 39,
    "start_time": "2021-12-14T16:55:10.331Z"
   },
   {
    "duration": 5,
    "start_time": "2021-12-14T16:55:10.373Z"
   },
   {
    "duration": 18,
    "start_time": "2021-12-14T16:55:10.382Z"
   },
   {
    "duration": 73,
    "start_time": "2021-12-14T16:55:10.403Z"
   },
   {
    "duration": 10,
    "start_time": "2021-12-14T16:55:10.478Z"
   },
   {
    "duration": 12,
    "start_time": "2021-12-14T16:55:10.490Z"
   },
   {
    "duration": 64,
    "start_time": "2021-12-14T16:55:10.505Z"
   },
   {
    "duration": 11,
    "start_time": "2021-12-14T16:55:10.571Z"
   },
   {
    "duration": 17,
    "start_time": "2021-12-14T16:55:10.584Z"
   },
   {
    "duration": 730,
    "start_time": "2021-12-14T16:55:10.604Z"
   },
   {
    "duration": 9,
    "start_time": "2021-12-14T16:55:11.337Z"
   },
   {
    "duration": 52,
    "start_time": "2021-12-14T16:55:11.349Z"
   },
   {
    "duration": 766,
    "start_time": "2021-12-14T16:55:11.403Z"
   },
   {
    "duration": 682,
    "start_time": "2021-12-14T16:55:12.171Z"
   },
   {
    "duration": 330,
    "start_time": "2021-12-14T16:55:12.856Z"
   },
   {
    "duration": 407,
    "start_time": "2021-12-14T16:55:13.188Z"
   },
   {
    "duration": 600,
    "start_time": "2021-12-14T16:55:13.598Z"
   },
   {
    "duration": 585,
    "start_time": "2021-12-14T16:55:14.200Z"
   },
   {
    "duration": 718,
    "start_time": "2021-12-14T16:55:14.788Z"
   },
   {
    "duration": 320,
    "start_time": "2021-12-14T16:55:15.509Z"
   },
   {
    "duration": 9,
    "start_time": "2021-12-14T16:55:15.836Z"
   },
   {
    "duration": 38,
    "start_time": "2021-12-14T16:55:15.848Z"
   },
   {
    "duration": 18,
    "start_time": "2021-12-14T16:55:15.889Z"
   },
   {
    "duration": 72,
    "start_time": "2021-12-14T16:55:15.910Z"
   },
   {
    "duration": 50,
    "start_time": "2021-12-14T16:55:15.985Z"
   },
   {
    "duration": 899,
    "start_time": "2021-12-14T16:55:16.037Z"
   },
   {
    "duration": 45,
    "start_time": "2021-12-14T16:55:16.938Z"
   },
   {
    "duration": 12,
    "start_time": "2021-12-14T16:55:16.986Z"
   },
   {
    "duration": 90,
    "start_time": "2021-12-14T16:55:17.000Z"
   },
   {
    "duration": 17,
    "start_time": "2021-12-14T16:55:17.092Z"
   },
   {
    "duration": 345,
    "start_time": "2021-12-14T16:55:17.112Z"
   },
   {
    "duration": 7,
    "start_time": "2021-12-14T16:55:17.467Z"
   },
   {
    "duration": 18,
    "start_time": "2021-12-14T16:55:37.259Z"
   },
   {
    "duration": 889,
    "start_time": "2021-12-14T16:55:59.060Z"
   },
   {
    "duration": 119,
    "start_time": "2021-12-14T16:55:59.951Z"
   },
   {
    "duration": 17,
    "start_time": "2021-12-14T16:56:00.074Z"
   },
   {
    "duration": 13,
    "start_time": "2021-12-14T16:56:00.095Z"
   },
   {
    "duration": 9,
    "start_time": "2021-12-14T16:56:00.111Z"
   },
   {
    "duration": 71,
    "start_time": "2021-12-14T16:56:00.123Z"
   },
   {
    "duration": 8,
    "start_time": "2021-12-14T16:56:00.196Z"
   },
   {
    "duration": 22,
    "start_time": "2021-12-14T16:56:00.208Z"
   },
   {
    "duration": 26,
    "start_time": "2021-12-14T16:56:00.233Z"
   },
   {
    "duration": 46,
    "start_time": "2021-12-14T16:56:00.262Z"
   },
   {
    "duration": 12,
    "start_time": "2021-12-14T16:56:00.311Z"
   },
   {
    "duration": 41,
    "start_time": "2021-12-14T16:56:00.325Z"
   },
   {
    "duration": 41,
    "start_time": "2021-12-14T16:56:00.369Z"
   },
   {
    "duration": 12,
    "start_time": "2021-12-14T16:56:00.412Z"
   },
   {
    "duration": 41,
    "start_time": "2021-12-14T16:56:00.426Z"
   },
   {
    "duration": 681,
    "start_time": "2021-12-14T16:56:00.470Z"
   },
   {
    "duration": 18,
    "start_time": "2021-12-14T16:56:01.153Z"
   },
   {
    "duration": 58,
    "start_time": "2021-12-14T16:56:01.173Z"
   },
   {
    "duration": 744,
    "start_time": "2021-12-14T16:56:01.234Z"
   },
   {
    "duration": 567,
    "start_time": "2021-12-14T16:56:01.980Z"
   },
   {
    "duration": 337,
    "start_time": "2021-12-14T16:56:02.550Z"
   },
   {
    "duration": 505,
    "start_time": "2021-12-14T16:56:02.889Z"
   },
   {
    "duration": 596,
    "start_time": "2021-12-14T16:56:03.400Z"
   },
   {
    "duration": 684,
    "start_time": "2021-12-14T16:56:03.999Z"
   },
   {
    "duration": 625,
    "start_time": "2021-12-14T16:56:04.685Z"
   },
   {
    "duration": 315,
    "start_time": "2021-12-14T16:56:05.313Z"
   },
   {
    "duration": 8,
    "start_time": "2021-12-14T16:56:05.630Z"
   },
   {
    "duration": 43,
    "start_time": "2021-12-14T16:56:05.641Z"
   },
   {
    "duration": 17,
    "start_time": "2021-12-14T16:56:05.686Z"
   },
   {
    "duration": 46,
    "start_time": "2021-12-14T16:56:05.705Z"
   },
   {
    "duration": 53,
    "start_time": "2021-12-14T16:56:05.767Z"
   },
   {
    "duration": 1033,
    "start_time": "2021-12-14T16:56:05.822Z"
   },
   {
    "duration": 39,
    "start_time": "2021-12-14T16:56:06.857Z"
   },
   {
    "duration": 40,
    "start_time": "2021-12-14T16:56:06.899Z"
   },
   {
    "duration": 167,
    "start_time": "2021-12-14T16:56:06.941Z"
   },
   {
    "duration": 18,
    "start_time": "2021-12-14T16:56:07.110Z"
   },
   {
    "duration": 401,
    "start_time": "2021-12-14T16:56:07.131Z"
   },
   {
    "duration": 9,
    "start_time": "2021-12-14T16:56:07.535Z"
   },
   {
    "duration": 859,
    "start_time": "2021-12-14T16:58:33.676Z"
   },
   {
    "duration": 138,
    "start_time": "2021-12-14T16:58:34.538Z"
   },
   {
    "duration": 17,
    "start_time": "2021-12-14T16:58:34.680Z"
   },
   {
    "duration": 11,
    "start_time": "2021-12-14T16:58:34.700Z"
   },
   {
    "duration": 7,
    "start_time": "2021-12-14T16:58:34.714Z"
   },
   {
    "duration": 76,
    "start_time": "2021-12-14T16:58:34.724Z"
   },
   {
    "duration": 8,
    "start_time": "2021-12-14T16:58:34.802Z"
   },
   {
    "duration": 8,
    "start_time": "2021-12-14T16:58:34.813Z"
   },
   {
    "duration": 48,
    "start_time": "2021-12-14T16:58:34.824Z"
   },
   {
    "duration": 38,
    "start_time": "2021-12-14T16:58:34.875Z"
   },
   {
    "duration": 12,
    "start_time": "2021-12-14T16:58:34.915Z"
   },
   {
    "duration": 42,
    "start_time": "2021-12-14T16:58:34.929Z"
   },
   {
    "duration": 40,
    "start_time": "2021-12-14T16:58:34.973Z"
   },
   {
    "duration": 17,
    "start_time": "2021-12-14T16:58:35.016Z"
   },
   {
    "duration": 35,
    "start_time": "2021-12-14T16:58:35.035Z"
   },
   {
    "duration": 713,
    "start_time": "2021-12-14T16:58:35.073Z"
   },
   {
    "duration": 6,
    "start_time": "2021-12-14T16:58:35.789Z"
   },
   {
    "duration": 47,
    "start_time": "2021-12-14T16:58:35.798Z"
   },
   {
    "duration": 782,
    "start_time": "2021-12-14T16:58:35.848Z"
   },
   {
    "duration": 600,
    "start_time": "2021-12-14T16:58:36.633Z"
   },
   {
    "duration": 394,
    "start_time": "2021-12-14T16:58:37.236Z"
   },
   {
    "duration": 402,
    "start_time": "2021-12-14T16:58:37.632Z"
   },
   {
    "duration": 612,
    "start_time": "2021-12-14T16:58:38.039Z"
   },
   {
    "duration": 603,
    "start_time": "2021-12-14T16:58:38.654Z"
   },
   {
    "duration": 622,
    "start_time": "2021-12-14T16:58:39.267Z"
   },
   {
    "duration": 325,
    "start_time": "2021-12-14T16:58:39.892Z"
   },
   {
    "duration": 8,
    "start_time": "2021-12-14T16:58:40.219Z"
   },
   {
    "duration": 46,
    "start_time": "2021-12-14T16:58:40.229Z"
   },
   {
    "duration": 19,
    "start_time": "2021-12-14T16:58:40.278Z"
   },
   {
    "duration": 69,
    "start_time": "2021-12-14T16:58:40.300Z"
   },
   {
    "duration": 46,
    "start_time": "2021-12-14T16:58:40.371Z"
   },
   {
    "duration": 919,
    "start_time": "2021-12-14T16:58:40.420Z"
   },
   {
    "duration": 48,
    "start_time": "2021-12-14T16:58:41.342Z"
   },
   {
    "duration": 11,
    "start_time": "2021-12-14T16:58:41.392Z"
   },
   {
    "duration": 88,
    "start_time": "2021-12-14T16:58:41.405Z"
   },
   {
    "duration": 18,
    "start_time": "2021-12-14T16:58:41.495Z"
   },
   {
    "duration": 322,
    "start_time": "2021-12-14T16:58:41.515Z"
   },
   {
    "duration": 6,
    "start_time": "2021-12-14T16:58:41.840Z"
   },
   {
    "duration": 25,
    "start_time": "2021-12-14T17:04:02.464Z"
   },
   {
    "duration": 904,
    "start_time": "2021-12-14T17:04:10.061Z"
   },
   {
    "duration": 119,
    "start_time": "2021-12-14T17:04:10.968Z"
   },
   {
    "duration": 19,
    "start_time": "2021-12-14T17:04:11.091Z"
   },
   {
    "duration": 14,
    "start_time": "2021-12-14T17:04:11.113Z"
   },
   {
    "duration": 42,
    "start_time": "2021-12-14T17:04:11.130Z"
   },
   {
    "duration": 42,
    "start_time": "2021-12-14T17:04:11.175Z"
   },
   {
    "duration": 8,
    "start_time": "2021-12-14T17:04:11.221Z"
   },
   {
    "duration": 15,
    "start_time": "2021-12-14T17:04:11.270Z"
   },
   {
    "duration": 18,
    "start_time": "2021-12-14T17:04:11.288Z"
   },
   {
    "duration": 59,
    "start_time": "2021-12-14T17:04:11.308Z"
   },
   {
    "duration": 12,
    "start_time": "2021-12-14T17:04:11.369Z"
   },
   {
    "duration": 14,
    "start_time": "2021-12-14T17:04:11.384Z"
   },
   {
    "duration": 47,
    "start_time": "2021-12-14T17:04:11.400Z"
   },
   {
    "duration": 11,
    "start_time": "2021-12-14T17:04:11.468Z"
   },
   {
    "duration": 18,
    "start_time": "2021-12-14T17:04:11.481Z"
   },
   {
    "duration": 732,
    "start_time": "2021-12-14T17:04:11.502Z"
   },
   {
    "duration": 6,
    "start_time": "2021-12-14T17:04:12.237Z"
   },
   {
    "duration": 58,
    "start_time": "2021-12-14T17:04:12.246Z"
   },
   {
    "duration": 774,
    "start_time": "2021-12-14T17:04:12.306Z"
   },
   {
    "duration": 581,
    "start_time": "2021-12-14T17:04:13.082Z"
   },
   {
    "duration": 356,
    "start_time": "2021-12-14T17:04:13.668Z"
   },
   {
    "duration": 487,
    "start_time": "2021-12-14T17:04:14.027Z"
   },
   {
    "duration": 603,
    "start_time": "2021-12-14T17:04:14.522Z"
   },
   {
    "duration": 594,
    "start_time": "2021-12-14T17:04:15.127Z"
   },
   {
    "duration": 593,
    "start_time": "2021-12-14T17:04:15.724Z"
   },
   {
    "duration": 322,
    "start_time": "2021-12-14T17:04:16.319Z"
   },
   {
    "duration": 22,
    "start_time": "2021-12-14T17:04:16.645Z"
   },
   {
    "duration": 26,
    "start_time": "2021-12-14T17:04:16.670Z"
   },
   {
    "duration": 17,
    "start_time": "2021-12-14T17:04:16.699Z"
   },
   {
    "duration": 69,
    "start_time": "2021-12-14T17:04:16.718Z"
   },
   {
    "duration": 47,
    "start_time": "2021-12-14T17:04:16.789Z"
   },
   {
    "duration": 977,
    "start_time": "2021-12-14T17:04:16.838Z"
   },
   {
    "duration": 32,
    "start_time": "2021-12-14T17:04:17.817Z"
   },
   {
    "duration": 26,
    "start_time": "2021-12-14T17:04:17.851Z"
   },
   {
    "duration": 90,
    "start_time": "2021-12-14T17:04:17.880Z"
   },
   {
    "duration": 17,
    "start_time": "2021-12-14T17:04:17.972Z"
   },
   {
    "duration": 334,
    "start_time": "2021-12-14T17:04:17.992Z"
   },
   {
    "duration": 6,
    "start_time": "2021-12-14T17:04:18.329Z"
   },
   {
    "duration": 870,
    "start_time": "2021-12-14T17:09:13.848Z"
   },
   {
    "duration": 121,
    "start_time": "2021-12-14T17:09:14.721Z"
   },
   {
    "duration": 24,
    "start_time": "2021-12-14T17:09:14.845Z"
   },
   {
    "duration": 11,
    "start_time": "2021-12-14T17:09:14.872Z"
   },
   {
    "duration": 8,
    "start_time": "2021-12-14T17:09:14.885Z"
   },
   {
    "duration": 72,
    "start_time": "2021-12-14T17:09:14.895Z"
   },
   {
    "duration": 8,
    "start_time": "2021-12-14T17:09:14.970Z"
   },
   {
    "duration": 492,
    "start_time": "2021-12-14T17:09:14.982Z"
   },
   {
    "duration": -68,
    "start_time": "2021-12-14T17:09:15.545Z"
   },
   {
    "duration": -105,
    "start_time": "2021-12-14T17:09:15.583Z"
   },
   {
    "duration": -114,
    "start_time": "2021-12-14T17:09:15.594Z"
   },
   {
    "duration": -121,
    "start_time": "2021-12-14T17:09:15.602Z"
   },
   {
    "duration": -124,
    "start_time": "2021-12-14T17:09:15.606Z"
   },
   {
    "duration": -128,
    "start_time": "2021-12-14T17:09:15.612Z"
   },
   {
    "duration": -140,
    "start_time": "2021-12-14T17:09:15.625Z"
   },
   {
    "duration": -144,
    "start_time": "2021-12-14T17:09:15.630Z"
   },
   {
    "duration": -148,
    "start_time": "2021-12-14T17:09:15.635Z"
   },
   {
    "duration": -148,
    "start_time": "2021-12-14T17:09:15.637Z"
   },
   {
    "duration": -151,
    "start_time": "2021-12-14T17:09:15.641Z"
   },
   {
    "duration": -152,
    "start_time": "2021-12-14T17:09:15.644Z"
   },
   {
    "duration": -154,
    "start_time": "2021-12-14T17:09:15.647Z"
   },
   {
    "duration": -165,
    "start_time": "2021-12-14T17:09:15.660Z"
   },
   {
    "duration": -173,
    "start_time": "2021-12-14T17:09:15.669Z"
   },
   {
    "duration": -174,
    "start_time": "2021-12-14T17:09:15.671Z"
   },
   {
    "duration": -175,
    "start_time": "2021-12-14T17:09:15.674Z"
   },
   {
    "duration": -177,
    "start_time": "2021-12-14T17:09:15.677Z"
   },
   {
    "duration": -179,
    "start_time": "2021-12-14T17:09:15.680Z"
   },
   {
    "duration": -185,
    "start_time": "2021-12-14T17:09:15.688Z"
   },
   {
    "duration": -187,
    "start_time": "2021-12-14T17:09:15.691Z"
   },
   {
    "duration": -189,
    "start_time": "2021-12-14T17:09:15.694Z"
   },
   {
    "duration": -191,
    "start_time": "2021-12-14T17:09:15.697Z"
   },
   {
    "duration": -192,
    "start_time": "2021-12-14T17:09:15.700Z"
   },
   {
    "duration": -195,
    "start_time": "2021-12-14T17:09:15.705Z"
   },
   {
    "duration": -196,
    "start_time": "2021-12-14T17:09:15.707Z"
   },
   {
    "duration": -198,
    "start_time": "2021-12-14T17:09:15.710Z"
   },
   {
    "duration": -200,
    "start_time": "2021-12-14T17:09:15.714Z"
   },
   {
    "duration": -202,
    "start_time": "2021-12-14T17:09:15.717Z"
   },
   {
    "duration": -203,
    "start_time": "2021-12-14T17:09:15.719Z"
   },
   {
    "duration": 845,
    "start_time": "2021-12-14T17:10:13.670Z"
   },
   {
    "duration": 122,
    "start_time": "2021-12-14T17:10:14.519Z"
   },
   {
    "duration": 29,
    "start_time": "2021-12-14T17:10:14.645Z"
   },
   {
    "duration": 13,
    "start_time": "2021-12-14T17:10:14.678Z"
   },
   {
    "duration": 28,
    "start_time": "2021-12-14T17:10:14.694Z"
   },
   {
    "duration": 51,
    "start_time": "2021-12-14T17:10:14.725Z"
   },
   {
    "duration": 8,
    "start_time": "2021-12-14T17:10:14.778Z"
   },
   {
    "duration": 37,
    "start_time": "2021-12-14T17:10:14.790Z"
   },
   {
    "duration": 33,
    "start_time": "2021-12-14T17:10:14.831Z"
   },
   {
    "duration": 41,
    "start_time": "2021-12-14T17:10:14.866Z"
   },
   {
    "duration": 9,
    "start_time": "2021-12-14T17:10:14.910Z"
   },
   {
    "duration": 10,
    "start_time": "2021-12-14T17:10:14.921Z"
   },
   {
    "duration": 60,
    "start_time": "2021-12-14T17:10:14.933Z"
   },
   {
    "duration": 12,
    "start_time": "2021-12-14T17:10:14.996Z"
   },
   {
    "duration": 24,
    "start_time": "2021-12-14T17:10:15.012Z"
   },
   {
    "duration": 461,
    "start_time": "2021-12-14T17:10:15.038Z"
   },
   {
    "duration": 6,
    "start_time": "2021-12-14T17:10:15.502Z"
   },
   {
    "duration": 46,
    "start_time": "2021-12-14T17:10:15.511Z"
   },
   {
    "duration": 696,
    "start_time": "2021-12-14T17:10:15.568Z"
   },
   {
    "duration": 731,
    "start_time": "2021-12-14T17:10:16.267Z"
   },
   {
    "duration": 369,
    "start_time": "2021-12-14T17:10:17.000Z"
   },
   {
    "duration": 412,
    "start_time": "2021-12-14T17:10:17.372Z"
   },
   {
    "duration": 592,
    "start_time": "2021-12-14T17:10:17.789Z"
   },
   {
    "duration": 577,
    "start_time": "2021-12-14T17:10:18.384Z"
   },
   {
    "duration": 600,
    "start_time": "2021-12-14T17:10:18.967Z"
   },
   {
    "duration": 249,
    "start_time": "2021-12-14T17:10:19.570Z"
   },
   {
    "duration": 7,
    "start_time": "2021-12-14T17:10:19.822Z"
   },
   {
    "duration": 44,
    "start_time": "2021-12-14T17:10:19.831Z"
   },
   {
    "duration": 16,
    "start_time": "2021-12-14T17:10:19.878Z"
   },
   {
    "duration": 133,
    "start_time": "2021-12-14T17:10:19.896Z"
   },
   {
    "duration": 72,
    "start_time": "2021-12-14T17:10:20.031Z"
   },
   {
    "duration": 915,
    "start_time": "2021-12-14T17:10:20.105Z"
   },
   {
    "duration": 29,
    "start_time": "2021-12-14T17:10:21.023Z"
   },
   {
    "duration": 12,
    "start_time": "2021-12-14T17:10:21.068Z"
   },
   {
    "duration": 86,
    "start_time": "2021-12-14T17:10:21.083Z"
   },
   {
    "duration": 18,
    "start_time": "2021-12-14T17:10:21.172Z"
   },
   {
    "duration": 338,
    "start_time": "2021-12-14T17:10:21.193Z"
   },
   {
    "duration": 7,
    "start_time": "2021-12-14T17:10:21.535Z"
   },
   {
    "duration": 1074,
    "start_time": "2021-12-14T17:13:21.020Z"
   },
   {
    "duration": 117,
    "start_time": "2021-12-14T17:13:22.096Z"
   },
   {
    "duration": 17,
    "start_time": "2021-12-14T17:13:22.215Z"
   },
   {
    "duration": 40,
    "start_time": "2021-12-14T17:13:22.234Z"
   },
   {
    "duration": 6,
    "start_time": "2021-12-14T17:13:22.277Z"
   },
   {
    "duration": 48,
    "start_time": "2021-12-14T17:13:22.286Z"
   },
   {
    "duration": 8,
    "start_time": "2021-12-14T17:13:22.337Z"
   },
   {
    "duration": 28,
    "start_time": "2021-12-14T17:13:22.348Z"
   },
   {
    "duration": 32,
    "start_time": "2021-12-14T17:13:22.379Z"
   },
   {
    "duration": 39,
    "start_time": "2021-12-14T17:13:22.413Z"
   },
   {
    "duration": 12,
    "start_time": "2021-12-14T17:13:22.468Z"
   },
   {
    "duration": 21,
    "start_time": "2021-12-14T17:13:22.482Z"
   },
   {
    "duration": 53,
    "start_time": "2021-12-14T17:13:22.506Z"
   },
   {
    "duration": 19,
    "start_time": "2021-12-14T17:13:22.562Z"
   },
   {
    "duration": 27,
    "start_time": "2021-12-14T17:13:22.584Z"
   },
   {
    "duration": 718,
    "start_time": "2021-12-14T17:13:22.613Z"
   },
   {
    "duration": 6,
    "start_time": "2021-12-14T17:13:23.333Z"
   },
   {
    "duration": 62,
    "start_time": "2021-12-14T17:13:23.341Z"
   },
   {
    "duration": 747,
    "start_time": "2021-12-14T17:13:23.405Z"
   },
   {
    "duration": 557,
    "start_time": "2021-12-14T17:13:24.154Z"
   },
   {
    "duration": 336,
    "start_time": "2021-12-14T17:13:24.713Z"
   },
   {
    "duration": 399,
    "start_time": "2021-12-14T17:13:25.052Z"
   },
   {
    "duration": 681,
    "start_time": "2021-12-14T17:13:25.455Z"
   },
   {
    "duration": 574,
    "start_time": "2021-12-14T17:13:26.139Z"
   },
   {
    "duration": 600,
    "start_time": "2021-12-14T17:13:26.716Z"
   },
   {
    "duration": 329,
    "start_time": "2021-12-14T17:13:27.319Z"
   },
   {
    "duration": 17,
    "start_time": "2021-12-14T17:13:27.650Z"
   },
   {
    "duration": 26,
    "start_time": "2021-12-14T17:13:27.669Z"
   },
   {
    "duration": 18,
    "start_time": "2021-12-14T17:13:27.697Z"
   },
   {
    "duration": 68,
    "start_time": "2021-12-14T17:13:27.717Z"
   },
   {
    "duration": 46,
    "start_time": "2021-12-14T17:13:27.788Z"
   },
   {
    "duration": 924,
    "start_time": "2021-12-14T17:13:27.836Z"
   },
   {
    "duration": 32,
    "start_time": "2021-12-14T17:13:28.763Z"
   },
   {
    "duration": 12,
    "start_time": "2021-12-14T17:13:28.797Z"
   },
   {
    "duration": 100,
    "start_time": "2021-12-14T17:13:28.812Z"
   },
   {
    "duration": 19,
    "start_time": "2021-12-14T17:13:28.914Z"
   },
   {
    "duration": 313,
    "start_time": "2021-12-14T17:13:28.935Z"
   },
   {
    "duration": 17,
    "start_time": "2021-12-14T17:13:29.250Z"
   },
   {
    "duration": 8117,
    "start_time": "2021-12-14T17:20:32.688Z"
   },
   {
    "duration": 121,
    "start_time": "2021-12-14T17:21:19.389Z"
   },
   {
    "duration": 89,
    "start_time": "2021-12-14T17:21:30.643Z"
   },
   {
    "duration": 111,
    "start_time": "2021-12-14T17:21:55.015Z"
   },
   {
    "duration": 120,
    "start_time": "2021-12-14T17:22:09.581Z"
   },
   {
    "duration": 29,
    "start_time": "2021-12-14T17:22:31.611Z"
   },
   {
    "duration": 14,
    "start_time": "2021-12-14T17:23:21.668Z"
   },
   {
    "duration": 22,
    "start_time": "2021-12-14T17:23:31.204Z"
   },
   {
    "duration": 19,
    "start_time": "2021-12-14T17:24:27.094Z"
   },
   {
    "duration": 465,
    "start_time": "2021-12-14T17:24:58.800Z"
   },
   {
    "duration": 301,
    "start_time": "2021-12-14T17:25:17.895Z"
   },
   {
    "duration": 7,
    "start_time": "2021-12-14T17:25:20.293Z"
   },
   {
    "duration": 19,
    "start_time": "2021-12-14T17:25:23.273Z"
   },
   {
    "duration": 310,
    "start_time": "2021-12-14T17:26:00.087Z"
   },
   {
    "duration": 6,
    "start_time": "2021-12-14T17:26:02.172Z"
   },
   {
    "duration": 19,
    "start_time": "2021-12-14T17:26:04.335Z"
   },
   {
    "duration": 6,
    "start_time": "2021-12-14T17:29:05.696Z"
   },
   {
    "duration": 30,
    "start_time": "2021-12-14T17:29:50.420Z"
   },
   {
    "duration": 19,
    "start_time": "2021-12-14T17:45:42.281Z"
   },
   {
    "duration": 87,
    "start_time": "2021-12-14T17:55:24.013Z"
   },
   {
    "duration": 11,
    "start_time": "2021-12-14T17:58:23.998Z"
   },
   {
    "duration": 927,
    "start_time": "2021-12-14T17:58:30.962Z"
   },
   {
    "duration": 116,
    "start_time": "2021-12-14T17:58:31.892Z"
   },
   {
    "duration": 16,
    "start_time": "2021-12-14T17:58:32.011Z"
   },
   {
    "duration": 29,
    "start_time": "2021-12-14T17:58:32.030Z"
   },
   {
    "duration": 27,
    "start_time": "2021-12-14T17:58:32.061Z"
   },
   {
    "duration": 62,
    "start_time": "2021-12-14T17:58:32.091Z"
   },
   {
    "duration": 8,
    "start_time": "2021-12-14T17:58:32.156Z"
   },
   {
    "duration": 51,
    "start_time": "2021-12-14T17:58:32.168Z"
   },
   {
    "duration": 43,
    "start_time": "2021-12-14T17:58:32.222Z"
   },
   {
    "duration": 54,
    "start_time": "2021-12-14T17:58:32.267Z"
   },
   {
    "duration": 12,
    "start_time": "2021-12-14T17:58:32.324Z"
   },
   {
    "duration": 36,
    "start_time": "2021-12-14T17:58:32.339Z"
   },
   {
    "duration": 61,
    "start_time": "2021-12-14T17:58:32.378Z"
   },
   {
    "duration": 11,
    "start_time": "2021-12-14T17:58:32.442Z"
   },
   {
    "duration": 20,
    "start_time": "2021-12-14T17:58:32.456Z"
   },
   {
    "duration": 814,
    "start_time": "2021-12-14T17:58:32.479Z"
   },
   {
    "duration": 6,
    "start_time": "2021-12-14T17:58:33.296Z"
   },
   {
    "duration": 43,
    "start_time": "2021-12-14T17:58:33.304Z"
   },
   {
    "duration": 767,
    "start_time": "2021-12-14T17:58:33.349Z"
   },
   {
    "duration": 616,
    "start_time": "2021-12-14T17:58:34.119Z"
   },
   {
    "duration": 362,
    "start_time": "2021-12-14T17:58:34.738Z"
   },
   {
    "duration": 406,
    "start_time": "2021-12-14T17:58:35.103Z"
   },
   {
    "duration": 613,
    "start_time": "2021-12-14T17:58:35.515Z"
   },
   {
    "duration": 574,
    "start_time": "2021-12-14T17:58:36.131Z"
   },
   {
    "duration": 608,
    "start_time": "2021-12-14T17:58:36.708Z"
   },
   {
    "duration": 318,
    "start_time": "2021-12-14T17:58:37.318Z"
   },
   {
    "duration": 8,
    "start_time": "2021-12-14T17:58:37.639Z"
   },
   {
    "duration": 41,
    "start_time": "2021-12-14T17:58:37.650Z"
   },
   {
    "duration": 18,
    "start_time": "2021-12-14T17:58:37.693Z"
   },
   {
    "duration": 64,
    "start_time": "2021-12-14T17:58:37.713Z"
   },
   {
    "duration": 46,
    "start_time": "2021-12-14T17:58:37.780Z"
   },
   {
    "duration": 971,
    "start_time": "2021-12-14T17:58:37.829Z"
   },
   {
    "duration": 37,
    "start_time": "2021-12-14T17:58:38.804Z"
   },
   {
    "duration": 32,
    "start_time": "2021-12-14T17:58:38.843Z"
   },
   {
    "duration": 69,
    "start_time": "2021-12-14T17:58:38.878Z"
   },
   {
    "duration": 35,
    "start_time": "2021-12-14T17:58:38.949Z"
   },
   {
    "duration": 425,
    "start_time": "2021-12-14T17:58:38.986Z"
   },
   {
    "duration": 8,
    "start_time": "2021-12-14T17:58:39.414Z"
   },
   {
    "duration": 42,
    "start_time": "2021-12-14T17:58:39.425Z"
   },
   {
    "duration": 7,
    "start_time": "2021-12-14T17:58:39.470Z"
   },
   {
    "duration": 29,
    "start_time": "2021-12-14T17:58:39.480Z"
   },
   {
    "duration": 21,
    "start_time": "2021-12-14T17:58:39.513Z"
   },
   {
    "duration": 690,
    "start_time": "2021-12-15T06:30:51.689Z"
   },
   {
    "duration": 84,
    "start_time": "2021-12-15T06:30:52.380Z"
   },
   {
    "duration": 12,
    "start_time": "2021-12-15T06:30:52.466Z"
   },
   {
    "duration": 9,
    "start_time": "2021-12-15T06:30:52.481Z"
   },
   {
    "duration": 5,
    "start_time": "2021-12-15T06:30:52.492Z"
   },
   {
    "duration": 23,
    "start_time": "2021-12-15T06:30:52.499Z"
   },
   {
    "duration": 42,
    "start_time": "2021-12-15T06:30:52.524Z"
   },
   {
    "duration": 6,
    "start_time": "2021-12-15T06:30:52.570Z"
   },
   {
    "duration": 14,
    "start_time": "2021-12-15T06:30:52.578Z"
   },
   {
    "duration": 24,
    "start_time": "2021-12-15T06:30:52.594Z"
   },
   {
    "duration": 8,
    "start_time": "2021-12-15T06:30:52.619Z"
   },
   {
    "duration": 42,
    "start_time": "2021-12-15T06:30:52.629Z"
   },
   {
    "duration": 29,
    "start_time": "2021-12-15T06:30:52.672Z"
   },
   {
    "duration": 47,
    "start_time": "2021-12-15T06:30:52.703Z"
   },
   {
    "duration": 11,
    "start_time": "2021-12-15T06:30:52.752Z"
   },
   {
    "duration": 399,
    "start_time": "2021-12-15T06:30:52.765Z"
   },
   {
    "duration": 4,
    "start_time": "2021-12-15T06:30:53.166Z"
   },
   {
    "duration": 30,
    "start_time": "2021-12-15T06:30:53.172Z"
   },
   {
    "duration": 493,
    "start_time": "2021-12-15T06:30:53.204Z"
   },
   {
    "duration": 315,
    "start_time": "2021-12-15T06:30:53.699Z"
   },
   {
    "duration": 186,
    "start_time": "2021-12-15T06:30:54.017Z"
   },
   {
    "duration": 335,
    "start_time": "2021-12-15T06:30:54.205Z"
   },
   {
    "duration": 348,
    "start_time": "2021-12-15T06:30:54.544Z"
   },
   {
    "duration": 329,
    "start_time": "2021-12-15T06:30:54.894Z"
   },
   {
    "duration": 360,
    "start_time": "2021-12-15T06:30:55.224Z"
   },
   {
    "duration": 235,
    "start_time": "2021-12-15T06:30:55.587Z"
   },
   {
    "duration": 6,
    "start_time": "2021-12-15T06:30:55.824Z"
   },
   {
    "duration": 32,
    "start_time": "2021-12-15T06:30:55.831Z"
   },
   {
    "duration": 12,
    "start_time": "2021-12-15T06:30:55.865Z"
   },
   {
    "duration": 24,
    "start_time": "2021-12-15T06:30:55.878Z"
   },
   {
    "duration": 30,
    "start_time": "2021-12-15T06:30:55.904Z"
   },
   {
    "duration": 524,
    "start_time": "2021-12-15T06:30:55.964Z"
   },
   {
    "duration": 21,
    "start_time": "2021-12-15T06:30:56.490Z"
   },
   {
    "duration": 8,
    "start_time": "2021-12-15T06:30:56.513Z"
   },
   {
    "duration": 73,
    "start_time": "2021-12-15T06:30:56.523Z"
   },
   {
    "duration": 13,
    "start_time": "2021-12-15T06:30:56.598Z"
   },
   {
    "duration": 192,
    "start_time": "2021-12-15T06:30:56.612Z"
   },
   {
    "duration": 6,
    "start_time": "2021-12-15T06:30:56.806Z"
   },
   {
    "duration": 16,
    "start_time": "2021-12-15T06:30:56.814Z"
   },
   {
    "duration": 6,
    "start_time": "2021-12-15T06:30:56.832Z"
   },
   {
    "duration": 22,
    "start_time": "2021-12-15T06:30:56.840Z"
   },
   {
    "duration": 12,
    "start_time": "2021-12-15T06:30:56.864Z"
   },
   {
    "duration": 623,
    "start_time": "2021-12-15T15:30:19.153Z"
   },
   {
    "duration": 547,
    "start_time": "2021-12-15T15:30:32.094Z"
   },
   {
    "duration": 585,
    "start_time": "2021-12-15T15:37:17.169Z"
   },
   {
    "duration": 514,
    "start_time": "2021-12-15T15:38:35.523Z"
   },
   {
    "duration": 581,
    "start_time": "2021-12-15T15:38:43.928Z"
   },
   {
    "duration": 572,
    "start_time": "2021-12-15T15:41:20.796Z"
   },
   {
    "duration": 303,
    "start_time": "2021-12-15T15:42:08.276Z"
   },
   {
    "duration": 319,
    "start_time": "2021-12-15T15:42:57.358Z"
   },
   {
    "duration": 342,
    "start_time": "2021-12-15T15:43:40.343Z"
   },
   {
    "duration": 324,
    "start_time": "2021-12-15T15:46:33.441Z"
   },
   {
    "duration": 352,
    "start_time": "2021-12-15T17:24:56.723Z"
   },
   {
    "duration": 699,
    "start_time": "2021-12-15T17:27:06.153Z"
   },
   {
    "duration": 607,
    "start_time": "2021-12-15T17:27:26.471Z"
   },
   {
    "duration": 394,
    "start_time": "2021-12-15T17:28:24.419Z"
   },
   {
    "duration": 363,
    "start_time": "2021-12-15T17:30:30.636Z"
   },
   {
    "duration": 368,
    "start_time": "2021-12-15T17:30:43.632Z"
   },
   {
    "duration": 389,
    "start_time": "2021-12-15T17:31:08.584Z"
   },
   {
    "duration": 409,
    "start_time": "2021-12-15T17:31:37.599Z"
   },
   {
    "duration": 589,
    "start_time": "2021-12-15T17:36:41.259Z"
   },
   {
    "duration": 616,
    "start_time": "2021-12-15T17:38:44.295Z"
   },
   {
    "duration": 655,
    "start_time": "2021-12-15T17:38:48.165Z"
   },
   {
    "duration": 585,
    "start_time": "2021-12-15T17:54:54.008Z"
   },
   {
    "duration": 630,
    "start_time": "2021-12-15T17:58:21.856Z"
   },
   {
    "duration": 614,
    "start_time": "2021-12-15T17:59:37.813Z"
   },
   {
    "duration": 855,
    "start_time": "2021-12-15T17:59:54.062Z"
   },
   {
    "duration": 705,
    "start_time": "2021-12-15T18:00:44.585Z"
   },
   {
    "duration": 632,
    "start_time": "2021-12-15T18:00:51.384Z"
   },
   {
    "duration": 648,
    "start_time": "2021-12-15T18:00:54.449Z"
   },
   {
    "duration": 427,
    "start_time": "2021-12-15T18:01:35.004Z"
   },
   {
    "duration": 628,
    "start_time": "2021-12-15T18:01:40.418Z"
   },
   {
    "duration": 722,
    "start_time": "2021-12-15T18:01:48.577Z"
   },
   {
    "duration": 573,
    "start_time": "2021-12-15T18:01:54.518Z"
   },
   {
    "duration": 902,
    "start_time": "2021-12-15T18:02:45.760Z"
   },
   {
    "duration": 141,
    "start_time": "2021-12-15T18:02:46.665Z"
   },
   {
    "duration": 24,
    "start_time": "2021-12-15T18:02:46.809Z"
   },
   {
    "duration": 35,
    "start_time": "2021-12-15T18:02:46.836Z"
   },
   {
    "duration": 7,
    "start_time": "2021-12-15T18:02:46.873Z"
   },
   {
    "duration": 64,
    "start_time": "2021-12-15T18:02:46.882Z"
   },
   {
    "duration": 25,
    "start_time": "2021-12-15T18:02:46.948Z"
   },
   {
    "duration": 7,
    "start_time": "2021-12-15T18:02:46.979Z"
   },
   {
    "duration": 20,
    "start_time": "2021-12-15T18:02:46.990Z"
   },
   {
    "duration": 53,
    "start_time": "2021-12-15T18:02:47.013Z"
   },
   {
    "duration": 11,
    "start_time": "2021-12-15T18:02:47.070Z"
   },
   {
    "duration": 39,
    "start_time": "2021-12-15T18:02:47.084Z"
   },
   {
    "duration": 44,
    "start_time": "2021-12-15T18:02:47.128Z"
   },
   {
    "duration": 12,
    "start_time": "2021-12-15T18:02:47.175Z"
   },
   {
    "duration": 40,
    "start_time": "2021-12-15T18:02:47.190Z"
   },
   {
    "duration": 695,
    "start_time": "2021-12-15T18:02:47.233Z"
   },
   {
    "duration": 6,
    "start_time": "2021-12-15T18:02:47.930Z"
   },
   {
    "duration": 57,
    "start_time": "2021-12-15T18:02:47.939Z"
   },
   {
    "duration": 1201,
    "start_time": "2021-12-15T18:02:47.999Z"
   },
   {
    "duration": -917,
    "start_time": "2021-12-15T18:02:50.121Z"
   },
   {
    "duration": -925,
    "start_time": "2021-12-15T18:02:50.130Z"
   },
   {
    "duration": -932,
    "start_time": "2021-12-15T18:02:50.139Z"
   },
   {
    "duration": -949,
    "start_time": "2021-12-15T18:02:50.157Z"
   },
   {
    "duration": -953,
    "start_time": "2021-12-15T18:02:50.162Z"
   },
   {
    "duration": -944,
    "start_time": "2021-12-15T18:02:50.166Z"
   },
   {
    "duration": -948,
    "start_time": "2021-12-15T18:02:50.172Z"
   },
   {
    "duration": -952,
    "start_time": "2021-12-15T18:02:50.177Z"
   },
   {
    "duration": -956,
    "start_time": "2021-12-15T18:02:50.182Z"
   },
   {
    "duration": -959,
    "start_time": "2021-12-15T18:02:50.186Z"
   },
   {
    "duration": -961,
    "start_time": "2021-12-15T18:02:50.190Z"
   },
   {
    "duration": -964,
    "start_time": "2021-12-15T18:02:50.194Z"
   },
   {
    "duration": -961,
    "start_time": "2021-12-15T18:02:50.197Z"
   },
   {
    "duration": -966,
    "start_time": "2021-12-15T18:02:50.204Z"
   },
   {
    "duration": -967,
    "start_time": "2021-12-15T18:02:50.208Z"
   },
   {
    "duration": -968,
    "start_time": "2021-12-15T18:02:50.213Z"
   },
   {
    "duration": -970,
    "start_time": "2021-12-15T18:02:50.217Z"
   },
   {
    "duration": -973,
    "start_time": "2021-12-15T18:02:50.221Z"
   },
   {
    "duration": -973,
    "start_time": "2021-12-15T18:02:50.224Z"
   },
   {
    "duration": -974,
    "start_time": "2021-12-15T18:02:50.228Z"
   },
   {
    "duration": -975,
    "start_time": "2021-12-15T18:02:50.231Z"
   },
   {
    "duration": -977,
    "start_time": "2021-12-15T18:02:50.235Z"
   },
   {
    "duration": -977,
    "start_time": "2021-12-15T18:02:50.238Z"
   },
   {
    "duration": 603,
    "start_time": "2021-12-15T18:03:05.343Z"
   },
   {
    "duration": 343,
    "start_time": "2021-12-15T18:03:11.885Z"
   },
   {
    "duration": 416,
    "start_time": "2021-12-15T18:03:17.762Z"
   },
   {
    "duration": 621,
    "start_time": "2021-12-15T18:03:23.496Z"
   },
   {
    "duration": 592,
    "start_time": "2021-12-15T18:03:28.599Z"
   },
   {
    "duration": 600,
    "start_time": "2021-12-15T18:03:59.930Z"
   },
   {
    "duration": 789,
    "start_time": "2021-12-15T18:04:19.729Z"
   },
   {
    "duration": 730,
    "start_time": "2021-12-15T18:04:27.815Z"
   },
   {
    "duration": 203,
    "start_time": "2021-12-15T18:04:43.445Z"
   },
   {
    "duration": 9,
    "start_time": "2021-12-15T18:04:49.303Z"
   },
   {
    "duration": 876,
    "start_time": "2021-12-15T18:06:54.844Z"
   },
   {
    "duration": 114,
    "start_time": "2021-12-15T18:06:55.722Z"
   },
   {
    "duration": 21,
    "start_time": "2021-12-15T18:06:55.839Z"
   },
   {
    "duration": 9,
    "start_time": "2021-12-15T18:06:55.863Z"
   },
   {
    "duration": 16,
    "start_time": "2021-12-15T18:06:55.875Z"
   },
   {
    "duration": 72,
    "start_time": "2021-12-15T18:06:55.893Z"
   },
   {
    "duration": 7,
    "start_time": "2021-12-15T18:06:55.967Z"
   },
   {
    "duration": 18,
    "start_time": "2021-12-15T18:06:55.976Z"
   },
   {
    "duration": 36,
    "start_time": "2021-12-15T18:06:55.998Z"
   },
   {
    "duration": 38,
    "start_time": "2021-12-15T18:06:56.038Z"
   },
   {
    "duration": 11,
    "start_time": "2021-12-15T18:06:56.078Z"
   },
   {
    "duration": 430,
    "start_time": "2021-12-15T18:06:56.092Z"
   },
   {
    "duration": -897,
    "start_time": "2021-12-15T18:06:57.422Z"
   },
   {
    "duration": -905,
    "start_time": "2021-12-15T18:06:57.432Z"
   },
   {
    "duration": -913,
    "start_time": "2021-12-15T18:06:57.442Z"
   },
   {
    "duration": -917,
    "start_time": "2021-12-15T18:06:57.448Z"
   },
   {
    "duration": -929,
    "start_time": "2021-12-15T18:06:57.461Z"
   },
   {
    "duration": -931,
    "start_time": "2021-12-15T18:06:57.465Z"
   },
   {
    "duration": -934,
    "start_time": "2021-12-15T18:06:57.470Z"
   },
   {
    "duration": -938,
    "start_time": "2021-12-15T18:06:57.476Z"
   },
   {
    "duration": -941,
    "start_time": "2021-12-15T18:06:57.481Z"
   },
   {
    "duration": -944,
    "start_time": "2021-12-15T18:06:57.485Z"
   },
   {
    "duration": -947,
    "start_time": "2021-12-15T18:06:57.490Z"
   },
   {
    "duration": -949,
    "start_time": "2021-12-15T18:06:57.493Z"
   },
   {
    "duration": -950,
    "start_time": "2021-12-15T18:06:57.497Z"
   },
   {
    "duration": -951,
    "start_time": "2021-12-15T18:06:57.500Z"
   },
   {
    "duration": -953,
    "start_time": "2021-12-15T18:06:57.504Z"
   },
   {
    "duration": -955,
    "start_time": "2021-12-15T18:06:57.508Z"
   },
   {
    "duration": -953,
    "start_time": "2021-12-15T18:06:57.512Z"
   },
   {
    "duration": -955,
    "start_time": "2021-12-15T18:06:57.515Z"
   },
   {
    "duration": -957,
    "start_time": "2021-12-15T18:06:57.519Z"
   },
   {
    "duration": -959,
    "start_time": "2021-12-15T18:06:57.522Z"
   },
   {
    "duration": -968,
    "start_time": "2021-12-15T18:06:57.532Z"
   },
   {
    "duration": -972,
    "start_time": "2021-12-15T18:06:57.537Z"
   },
   {
    "duration": -975,
    "start_time": "2021-12-15T18:06:57.541Z"
   },
   {
    "duration": -978,
    "start_time": "2021-12-15T18:06:57.545Z"
   },
   {
    "duration": -979,
    "start_time": "2021-12-15T18:06:57.548Z"
   },
   {
    "duration": -982,
    "start_time": "2021-12-15T18:06:57.552Z"
   },
   {
    "duration": -989,
    "start_time": "2021-12-15T18:06:57.560Z"
   },
   {
    "duration": -939,
    "start_time": "2021-12-15T18:06:57.564Z"
   },
   {
    "duration": -940,
    "start_time": "2021-12-15T18:06:57.568Z"
   },
   {
    "duration": -942,
    "start_time": "2021-12-15T18:06:57.572Z"
   },
   {
    "duration": 354,
    "start_time": "2021-12-15T18:08:47.347Z"
   },
   {
    "duration": 15,
    "start_time": "2021-12-15T18:09:14.999Z"
   },
   {
    "duration": 888,
    "start_time": "2021-12-15T18:09:21.491Z"
   },
   {
    "duration": 125,
    "start_time": "2021-12-15T18:09:22.382Z"
   },
   {
    "duration": 29,
    "start_time": "2021-12-15T18:09:22.511Z"
   },
   {
    "duration": 20,
    "start_time": "2021-12-15T18:09:22.548Z"
   },
   {
    "duration": 6,
    "start_time": "2021-12-15T18:09:22.571Z"
   },
   {
    "duration": 71,
    "start_time": "2021-12-15T18:09:22.579Z"
   },
   {
    "duration": 8,
    "start_time": "2021-12-15T18:09:22.653Z"
   },
   {
    "duration": 9,
    "start_time": "2021-12-15T18:09:22.665Z"
   },
   {
    "duration": 21,
    "start_time": "2021-12-15T18:09:22.678Z"
   },
   {
    "duration": 73,
    "start_time": "2021-12-15T18:09:22.701Z"
   },
   {
    "duration": 11,
    "start_time": "2021-12-15T18:09:22.776Z"
   },
   {
    "duration": 18,
    "start_time": "2021-12-15T18:09:22.790Z"
   },
   {
    "duration": 48,
    "start_time": "2021-12-15T18:09:22.822Z"
   },
   {
    "duration": 12,
    "start_time": "2021-12-15T18:09:22.873Z"
   },
   {
    "duration": 33,
    "start_time": "2021-12-15T18:09:22.887Z"
   },
   {
    "duration": 857,
    "start_time": "2021-12-15T18:09:22.923Z"
   },
   {
    "duration": 6,
    "start_time": "2021-12-15T18:09:23.783Z"
   },
   {
    "duration": 58,
    "start_time": "2021-12-15T18:09:23.791Z"
   },
   {
    "duration": 1137,
    "start_time": "2021-12-15T18:09:23.852Z"
   },
   {
    "duration": -954,
    "start_time": "2021-12-15T18:09:25.946Z"
   },
   {
    "duration": -979,
    "start_time": "2021-12-15T18:09:25.973Z"
   },
   {
    "duration": -986,
    "start_time": "2021-12-15T18:09:25.981Z"
   },
   {
    "duration": -997,
    "start_time": "2021-12-15T18:09:25.993Z"
   },
   {
    "duration": -998,
    "start_time": "2021-12-15T18:09:25.996Z"
   },
   {
    "duration": -1002,
    "start_time": "2021-12-15T18:09:26.002Z"
   },
   {
    "duration": -1009,
    "start_time": "2021-12-15T18:09:26.010Z"
   },
   {
    "duration": -1014,
    "start_time": "2021-12-15T18:09:26.017Z"
   },
   {
    "duration": -1002,
    "start_time": "2021-12-15T18:09:26.025Z"
   },
   {
    "duration": -1005,
    "start_time": "2021-12-15T18:09:26.029Z"
   },
   {
    "duration": -1009,
    "start_time": "2021-12-15T18:09:26.035Z"
   },
   {
    "duration": -1016,
    "start_time": "2021-12-15T18:09:26.043Z"
   },
   {
    "duration": -1017,
    "start_time": "2021-12-15T18:09:26.046Z"
   },
   {
    "duration": -1021,
    "start_time": "2021-12-15T18:09:26.052Z"
   },
   {
    "duration": -1027,
    "start_time": "2021-12-15T18:09:26.059Z"
   },
   {
    "duration": -1029,
    "start_time": "2021-12-15T18:09:26.063Z"
   },
   {
    "duration": -1033,
    "start_time": "2021-12-15T18:09:26.068Z"
   },
   {
    "duration": -1041,
    "start_time": "2021-12-15T18:09:26.078Z"
   },
   {
    "duration": -1047,
    "start_time": "2021-12-15T18:09:26.085Z"
   },
   {
    "duration": -1053,
    "start_time": "2021-12-15T18:09:26.093Z"
   },
   {
    "duration": -1054,
    "start_time": "2021-12-15T18:09:26.096Z"
   },
   {
    "duration": -1059,
    "start_time": "2021-12-15T18:09:26.102Z"
   },
   {
    "duration": -1063,
    "start_time": "2021-12-15T18:09:26.108Z"
   },
   {
    "duration": 881,
    "start_time": "2021-12-15T18:10:30.654Z"
   },
   {
    "duration": 119,
    "start_time": "2021-12-15T18:10:31.538Z"
   },
   {
    "duration": 23,
    "start_time": "2021-12-15T18:10:31.661Z"
   },
   {
    "duration": 36,
    "start_time": "2021-12-15T18:10:31.688Z"
   },
   {
    "duration": 16,
    "start_time": "2021-12-15T18:10:31.727Z"
   },
   {
    "duration": 69,
    "start_time": "2021-12-15T18:10:31.746Z"
   },
   {
    "duration": 12,
    "start_time": "2021-12-15T18:10:31.818Z"
   },
   {
    "duration": 29,
    "start_time": "2021-12-15T18:10:31.834Z"
   },
   {
    "duration": 26,
    "start_time": "2021-12-15T18:10:31.866Z"
   },
   {
    "duration": 46,
    "start_time": "2021-12-15T18:10:31.895Z"
   },
   {
    "duration": 17,
    "start_time": "2021-12-15T18:10:31.947Z"
   },
   {
    "duration": 22,
    "start_time": "2021-12-15T18:10:31.967Z"
   },
   {
    "duration": 67,
    "start_time": "2021-12-15T18:10:31.992Z"
   },
   {
    "duration": 12,
    "start_time": "2021-12-15T18:10:32.062Z"
   },
   {
    "duration": 17,
    "start_time": "2021-12-15T18:10:32.076Z"
   },
   {
    "duration": 841,
    "start_time": "2021-12-15T18:10:32.095Z"
   },
   {
    "duration": 8,
    "start_time": "2021-12-15T18:10:32.938Z"
   },
   {
    "duration": 40,
    "start_time": "2021-12-15T18:10:32.948Z"
   },
   {
    "duration": 809,
    "start_time": "2021-12-15T18:10:32.991Z"
   },
   {
    "duration": 639,
    "start_time": "2021-12-15T18:10:33.802Z"
   },
   {
    "duration": 364,
    "start_time": "2021-12-15T18:10:34.443Z"
   },
   {
    "duration": 422,
    "start_time": "2021-12-15T18:10:34.809Z"
   },
   {
    "duration": 616,
    "start_time": "2021-12-15T18:10:35.237Z"
   },
   {
    "duration": 613,
    "start_time": "2021-12-15T18:10:35.856Z"
   },
   {
    "duration": 689,
    "start_time": "2021-12-15T18:10:36.472Z"
   },
   {
    "duration": 228,
    "start_time": "2021-12-15T18:10:37.163Z"
   },
   {
    "duration": 8,
    "start_time": "2021-12-15T18:10:37.394Z"
   },
   {
    "duration": 41,
    "start_time": "2021-12-15T18:10:37.404Z"
   },
   {
    "duration": 15,
    "start_time": "2021-12-15T18:10:37.456Z"
   },
   {
    "duration": 50,
    "start_time": "2021-12-15T18:10:37.473Z"
   },
   {
    "duration": 50,
    "start_time": "2021-12-15T18:10:37.525Z"
   },
   {
    "duration": 915,
    "start_time": "2021-12-15T18:10:37.577Z"
   },
   {
    "duration": 42,
    "start_time": "2021-12-15T18:10:38.495Z"
   },
   {
    "duration": 12,
    "start_time": "2021-12-15T18:10:38.543Z"
   },
   {
    "duration": 87,
    "start_time": "2021-12-15T18:10:38.558Z"
   },
   {
    "duration": 19,
    "start_time": "2021-12-15T18:10:38.648Z"
   },
   {
    "duration": 325,
    "start_time": "2021-12-15T18:10:38.669Z"
   },
   {
    "duration": 8,
    "start_time": "2021-12-15T18:10:38.997Z"
   },
   {
    "duration": 40,
    "start_time": "2021-12-15T18:10:39.008Z"
   },
   {
    "duration": 10,
    "start_time": "2021-12-15T18:10:39.051Z"
   },
   {
    "duration": 19,
    "start_time": "2021-12-15T18:10:39.064Z"
   },
   {
    "duration": 42,
    "start_time": "2021-12-15T18:10:39.085Z"
   },
   {
    "duration": 216,
    "start_time": "2021-12-15T18:12:33.541Z"
   },
   {
    "duration": 938,
    "start_time": "2021-12-15T18:13:52.128Z"
   },
   {
    "duration": 124,
    "start_time": "2021-12-15T18:13:53.069Z"
   },
   {
    "duration": 45,
    "start_time": "2021-12-15T18:13:53.195Z"
   },
   {
    "duration": 17,
    "start_time": "2021-12-15T18:13:53.244Z"
   },
   {
    "duration": 9,
    "start_time": "2021-12-15T18:13:53.264Z"
   },
   {
    "duration": 66,
    "start_time": "2021-12-15T18:13:53.276Z"
   },
   {
    "duration": 9,
    "start_time": "2021-12-15T18:13:53.345Z"
   },
   {
    "duration": 15,
    "start_time": "2021-12-15T18:13:53.359Z"
   },
   {
    "duration": 25,
    "start_time": "2021-12-15T18:13:53.377Z"
   },
   {
    "duration": 54,
    "start_time": "2021-12-15T18:13:53.405Z"
   },
   {
    "duration": 11,
    "start_time": "2021-12-15T18:13:53.461Z"
   },
   {
    "duration": 19,
    "start_time": "2021-12-15T18:13:53.475Z"
   },
   {
    "duration": 77,
    "start_time": "2021-12-15T18:13:53.496Z"
   },
   {
    "duration": 22,
    "start_time": "2021-12-15T18:13:53.576Z"
   },
   {
    "duration": 27,
    "start_time": "2021-12-15T18:13:53.600Z"
   },
   {
    "duration": 940,
    "start_time": "2021-12-15T18:13:53.631Z"
   },
   {
    "duration": 6,
    "start_time": "2021-12-15T18:13:54.574Z"
   },
   {
    "duration": 60,
    "start_time": "2021-12-15T18:13:54.583Z"
   },
   {
    "duration": 990,
    "start_time": "2021-12-15T18:13:54.647Z"
   },
   {
    "duration": 621,
    "start_time": "2021-12-15T18:13:55.640Z"
   },
   {
    "duration": 378,
    "start_time": "2021-12-15T18:13:56.263Z"
   },
   {
    "duration": 571,
    "start_time": "2021-12-15T18:13:56.644Z"
   },
   {
    "duration": 823,
    "start_time": "2021-12-15T18:13:57.226Z"
   },
   {
    "duration": 743,
    "start_time": "2021-12-15T18:13:58.053Z"
   },
   {
    "duration": 729,
    "start_time": "2021-12-15T18:13:58.799Z"
   },
   {
    "duration": 324,
    "start_time": "2021-12-15T18:13:59.531Z"
   },
   {
    "duration": 8,
    "start_time": "2021-12-15T18:13:59.857Z"
   },
   {
    "duration": 27,
    "start_time": "2021-12-15T18:13:59.868Z"
   },
   {
    "duration": 43,
    "start_time": "2021-12-15T18:13:59.898Z"
   },
   {
    "duration": 47,
    "start_time": "2021-12-15T18:13:59.945Z"
   },
   {
    "duration": 77,
    "start_time": "2021-12-15T18:13:59.996Z"
   },
   {
    "duration": 955,
    "start_time": "2021-12-15T18:14:00.076Z"
   },
   {
    "duration": 38,
    "start_time": "2021-12-15T18:14:01.033Z"
   },
   {
    "duration": 13,
    "start_time": "2021-12-15T18:14:01.074Z"
   },
   {
    "duration": 95,
    "start_time": "2021-12-15T18:14:01.089Z"
   },
   {
    "duration": 17,
    "start_time": "2021-12-15T18:14:01.186Z"
   },
   {
    "duration": 313,
    "start_time": "2021-12-15T18:14:01.223Z"
   },
   {
    "duration": 7,
    "start_time": "2021-12-15T18:14:01.539Z"
   },
   {
    "duration": 31,
    "start_time": "2021-12-15T18:14:01.548Z"
   },
   {
    "duration": 16,
    "start_time": "2021-12-15T18:14:01.581Z"
   },
   {
    "duration": 51,
    "start_time": "2021-12-15T18:14:01.600Z"
   },
   {
    "duration": 31,
    "start_time": "2021-12-15T18:14:01.653Z"
   },
   {
    "duration": 856,
    "start_time": "2021-12-15T18:14:40.114Z"
   },
   {
    "duration": 128,
    "start_time": "2021-12-15T18:14:40.973Z"
   },
   {
    "duration": 19,
    "start_time": "2021-12-15T18:14:41.104Z"
   },
   {
    "duration": 33,
    "start_time": "2021-12-15T18:14:41.126Z"
   },
   {
    "duration": 13,
    "start_time": "2021-12-15T18:14:41.162Z"
   },
   {
    "duration": 66,
    "start_time": "2021-12-15T18:14:41.178Z"
   },
   {
    "duration": 11,
    "start_time": "2021-12-15T18:14:41.249Z"
   },
   {
    "duration": 22,
    "start_time": "2021-12-15T18:14:41.265Z"
   },
   {
    "duration": 23,
    "start_time": "2021-12-15T18:14:41.291Z"
   },
   {
    "duration": 50,
    "start_time": "2021-12-15T18:14:41.317Z"
   },
   {
    "duration": 11,
    "start_time": "2021-12-15T18:14:41.369Z"
   },
   {
    "duration": 45,
    "start_time": "2021-12-15T18:14:41.382Z"
   },
   {
    "duration": 44,
    "start_time": "2021-12-15T18:14:41.429Z"
   },
   {
    "duration": 13,
    "start_time": "2021-12-15T18:14:41.475Z"
   },
   {
    "duration": 36,
    "start_time": "2021-12-15T18:14:41.490Z"
   },
   {
    "duration": 843,
    "start_time": "2021-12-15T18:14:41.528Z"
   },
   {
    "duration": 7,
    "start_time": "2021-12-15T18:14:42.374Z"
   },
   {
    "duration": 76,
    "start_time": "2021-12-15T18:14:42.383Z"
   },
   {
    "duration": 773,
    "start_time": "2021-12-15T18:14:42.461Z"
   },
   {
    "duration": 582,
    "start_time": "2021-12-15T18:14:43.236Z"
   },
   {
    "duration": 374,
    "start_time": "2021-12-15T18:14:43.821Z"
   },
   {
    "duration": 420,
    "start_time": "2021-12-15T18:14:44.197Z"
   },
   {
    "duration": 650,
    "start_time": "2021-12-15T18:14:44.621Z"
   },
   {
    "duration": 591,
    "start_time": "2021-12-15T18:14:45.276Z"
   },
   {
    "duration": 704,
    "start_time": "2021-12-15T18:14:45.870Z"
   },
   {
    "duration": 263,
    "start_time": "2021-12-15T18:14:46.576Z"
   },
   {
    "duration": 12,
    "start_time": "2021-12-15T18:14:46.842Z"
   },
   {
    "duration": 41,
    "start_time": "2021-12-15T18:14:46.856Z"
   },
   {
    "duration": 18,
    "start_time": "2021-12-15T18:14:46.900Z"
   },
   {
    "duration": 65,
    "start_time": "2021-12-15T18:14:46.928Z"
   },
   {
    "duration": 61,
    "start_time": "2021-12-15T18:14:46.996Z"
   },
   {
    "duration": 922,
    "start_time": "2021-12-15T18:14:47.059Z"
   },
   {
    "duration": 44,
    "start_time": "2021-12-15T18:14:47.984Z"
   },
   {
    "duration": 17,
    "start_time": "2021-12-15T18:14:48.030Z"
   },
   {
    "duration": 77,
    "start_time": "2021-12-15T18:14:48.050Z"
   },
   {
    "duration": 22,
    "start_time": "2021-12-15T18:14:48.130Z"
   },
   {
    "duration": 301,
    "start_time": "2021-12-15T18:14:48.154Z"
   },
   {
    "duration": 7,
    "start_time": "2021-12-15T18:14:48.457Z"
   },
   {
    "duration": 34,
    "start_time": "2021-12-15T18:14:48.467Z"
   },
   {
    "duration": 27,
    "start_time": "2021-12-15T18:14:48.503Z"
   },
   {
    "duration": 55,
    "start_time": "2021-12-15T18:14:48.532Z"
   },
   {
    "duration": 19,
    "start_time": "2021-12-15T18:14:48.589Z"
   },
   {
    "duration": 859,
    "start_time": "2021-12-15T18:17:57.702Z"
   },
   {
    "duration": 124,
    "start_time": "2021-12-15T18:17:58.564Z"
   },
   {
    "duration": 42,
    "start_time": "2021-12-15T18:17:58.692Z"
   },
   {
    "duration": 15,
    "start_time": "2021-12-15T18:17:58.743Z"
   },
   {
    "duration": 28,
    "start_time": "2021-12-15T18:17:58.760Z"
   },
   {
    "duration": 65,
    "start_time": "2021-12-15T18:17:58.790Z"
   },
   {
    "duration": 31,
    "start_time": "2021-12-15T18:17:58.857Z"
   },
   {
    "duration": 22,
    "start_time": "2021-12-15T18:17:58.892Z"
   },
   {
    "duration": 67,
    "start_time": "2021-12-15T18:17:58.917Z"
   },
   {
    "duration": 38,
    "start_time": "2021-12-15T18:17:58.987Z"
   },
   {
    "duration": 21,
    "start_time": "2021-12-15T18:17:59.029Z"
   },
   {
    "duration": 43,
    "start_time": "2021-12-15T18:17:59.053Z"
   },
   {
    "duration": 45,
    "start_time": "2021-12-15T18:17:59.098Z"
   },
   {
    "duration": 18,
    "start_time": "2021-12-15T18:17:59.146Z"
   },
   {
    "duration": 34,
    "start_time": "2021-12-15T18:17:59.166Z"
   },
   {
    "duration": 835,
    "start_time": "2021-12-15T18:17:59.202Z"
   },
   {
    "duration": 12,
    "start_time": "2021-12-15T18:18:00.039Z"
   },
   {
    "duration": 44,
    "start_time": "2021-12-15T18:18:00.054Z"
   },
   {
    "duration": 827,
    "start_time": "2021-12-15T18:18:00.100Z"
   },
   {
    "duration": 596,
    "start_time": "2021-12-15T18:18:00.930Z"
   },
   {
    "duration": 427,
    "start_time": "2021-12-15T18:18:01.530Z"
   },
   {
    "duration": 448,
    "start_time": "2021-12-15T18:18:01.960Z"
   },
   {
    "duration": 641,
    "start_time": "2021-12-15T18:18:02.413Z"
   },
   {
    "duration": 744,
    "start_time": "2021-12-15T18:18:03.057Z"
   },
   {
    "duration": 733,
    "start_time": "2021-12-15T18:18:03.804Z"
   },
   {
    "duration": 249,
    "start_time": "2021-12-15T18:18:04.540Z"
   },
   {
    "duration": 8,
    "start_time": "2021-12-15T18:18:04.793Z"
   },
   {
    "duration": 106,
    "start_time": "2021-12-15T18:18:04.804Z"
   },
   {
    "duration": 28,
    "start_time": "2021-12-15T18:18:04.912Z"
   },
   {
    "duration": 116,
    "start_time": "2021-12-15T18:18:04.943Z"
   },
   {
    "duration": 110,
    "start_time": "2021-12-15T18:18:05.062Z"
   },
   {
    "duration": 981,
    "start_time": "2021-12-15T18:18:05.175Z"
   },
   {
    "duration": 29,
    "start_time": "2021-12-15T18:18:06.158Z"
   },
   {
    "duration": 48,
    "start_time": "2021-12-15T18:18:06.190Z"
   },
   {
    "duration": 90,
    "start_time": "2021-12-15T18:18:06.240Z"
   },
   {
    "duration": 28,
    "start_time": "2021-12-15T18:18:06.333Z"
   },
   {
    "duration": 349,
    "start_time": "2021-12-15T18:18:06.364Z"
   },
   {
    "duration": 8,
    "start_time": "2021-12-15T18:18:06.723Z"
   },
   {
    "duration": 41,
    "start_time": "2021-12-15T18:18:06.744Z"
   },
   {
    "duration": 30,
    "start_time": "2021-12-15T18:18:06.787Z"
   },
   {
    "duration": 63,
    "start_time": "2021-12-15T18:18:06.819Z"
   },
   {
    "duration": 49,
    "start_time": "2021-12-15T18:18:06.884Z"
   }
  ],
  "kernelspec": {
   "display_name": "Python 3 (ipykernel)",
   "language": "python",
   "name": "python3"
  },
  "language_info": {
   "codemirror_mode": {
    "name": "ipython",
    "version": 3
   },
   "file_extension": ".py",
   "mimetype": "text/x-python",
   "name": "python",
   "nbconvert_exporter": "python",
   "pygments_lexer": "ipython3",
   "version": "3.9.12"
  },
  "toc": {
   "base_numbering": 1,
   "nav_menu": {},
   "number_sections": true,
   "sideBar": true,
   "skip_h1_title": true,
   "title_cell": "Содержание",
   "title_sidebar": "Contents",
   "toc_cell": true,
   "toc_position": {},
   "toc_section_display": true,
   "toc_window_display": false
  }
 },
 "nbformat": 4,
 "nbformat_minor": 2
}
